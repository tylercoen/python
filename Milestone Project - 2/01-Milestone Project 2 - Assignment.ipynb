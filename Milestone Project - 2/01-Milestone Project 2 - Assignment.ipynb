{
 "cells": [
  {
   "cell_type": "markdown",
   "metadata": {},
   "source": [
    "___\n",
    "\n",
    "<a href='https://www.udemy.com/user/joseportilla/'><img src='../Pierian_Data_Logo.png'/></a>\n",
    "___\n",
    "<center><em>Content Copyright by Pierian Data</em></center>"
   ]
  },
  {
   "cell_type": "markdown",
   "metadata": {},
   "source": [
    "# Milestone Project 2 - Blackjack Game\n",
    "In this milestone project you will be creating a Complete BlackJack Card Game in Python.\n",
    "\n",
    "Here are the requirements:\n",
    "\n",
    "* You need to create a simple text-based [BlackJack](https://en.wikipedia.org/wiki/Blackjack) game\n",
    "* The game needs to have one player versus an automated dealer.\n",
    "* The player can stand or hit.\n",
    "* The player must be able to pick their betting amount.\n",
    "* You need to keep track of the player's total money.\n",
    "* You need to alert the player of wins, losses, or busts, etc...\n",
    "\n",
    "And most importantly:\n",
    "\n",
    "* **You must use OOP and classes in some portion of your game. You can not just use functions in your game. Use classes to help you define the Deck and the Player's hand. There are many right ways to do this, so explore it well!**\n",
    "\n",
    "\n",
    "Feel free to expand this game. Try including multiple players. Try adding in Double-Down and card splits! Remember to you are free to use any resources you want and as always:\n",
    "\n",
    "# HAVE FUN!"
   ]
  },
  {
   "cell_type": "code",
   "execution_count": 117,
   "metadata": {},
   "outputs": [],
   "source": [
    "# CARD\n",
    "# SUIT,RANK,VALUE\n",
    "import random\n",
    "suits = ('Hearts', 'Diamonds', 'Spades', 'Clubs')\n",
    "ranks = ('Two','Three','Four','Five','Six','Seven','Eight','Nine','Ten','Jack','Queen','King','Ace')\n",
    "values = {'Two':2, 'Three':3, 'Four':4, 'Five':5, 'Six':6, 'Seven':7, 'Eight':8, 'Nine':9, 'Ten':10, 'Jack':11, 'Queen':12, 'King':13, 'Ace':14}"
   ]
  },
  {
   "cell_type": "code",
   "execution_count": 118,
   "metadata": {},
   "outputs": [],
   "source": [
    "class Card:\n",
    "    \n",
    "    def __init__(self,suit,rank):\n",
    "        self.suit = suit\n",
    "        self.rank = rank\n",
    "        self.value = values[rank]\n",
    "    def __str__(self):\n",
    "        return self.rank + \" of \" + self.suit"
   ]
  },
  {
   "cell_type": "code",
   "execution_count": 119,
   "metadata": {},
   "outputs": [],
   "source": [
    "class Deck:\n",
    "    \n",
    "    def __init__(self):\n",
    "        self.all_cards = []\n",
    "        \n",
    "        for suit in suits:\n",
    "            for rank in ranks:\n",
    "                #Create the card object\n",
    "                created_card = Card(suit,rank)\n",
    "                self.all_cards.append(created_card)\n",
    "                \n",
    "    def shuffle(self):\n",
    "        random.shuffle(self.all_cards)\n",
    "        \n",
    "    def deal_(self):\n",
    "        return self.all_cards.pop()"
   ]
  },
  {
   "cell_type": "code",
   "execution_count": 120,
   "metadata": {},
   "outputs": [],
   "source": [
    "class Player:\n",
    "    \n",
    "    def __init__(self,name):\n",
    "        self.name = name\n",
    "        self.hand = []\n",
    "        self.second_hand = []\n",
    "        \n",
    "    def add_card(self,card):\n",
    "        self.hand.append(card)\n",
    "        \n",
    "    def show_hand(self):\n",
    "        print(f\"{self.name} has the following hand:\")\n",
    "        for card in self.hand:\n",
    "            print(card)\n",
    "                "
   ]
  },
  {
   "cell_type": "code",
   "execution_count": 121,
   "metadata": {},
   "outputs": [],
   "source": [
    "class Dealer:\n",
    "    \n",
    "    def __init__(self):\n",
    "        self.hand = []\n",
    "        \n",
    "    def add_card(self,card):\n",
    "        self.hand.append(card)\n",
    "        \n",
    "    def show_hand(self):\n",
    "        print(\"The dealer has the following hand:\")\n",
    "        for card in self.hand:\n",
    "            print(card)"
   ]
  },
  {
   "cell_type": "code",
   "execution_count": 122,
   "metadata": {},
   "outputs": [],
   "source": [
    "new_deck = Deck()"
   ]
  },
  {
   "cell_type": "code",
   "execution_count": 123,
   "metadata": {},
   "outputs": [],
   "source": [
    "new_deck.shuffle()"
   ]
  },
  {
   "cell_type": "code",
   "execution_count": 124,
   "metadata": {},
   "outputs": [],
   "source": [
    "player_one = Player(\"Tyler\")\n",
    "dealer = Dealer()"
   ]
  },
  {
   "cell_type": "code",
   "execution_count": 125,
   "metadata": {},
   "outputs": [],
   "source": [
    "def starting_hand():\n",
    "    player_one.add_card(new_deck.deal_one())\n",
    "    player_one.add_card(new_deck.deal_one())\n",
    "    dealer.add_card(new_deck.deal_one())\n",
    "    dealer.add_card(new_deck.deal_one())\n",
    "    player_one.show_hand()\n",
    "    dealer.show_hand()\n",
    "    \n"
   ]
  },
  {
   "cell_type": "code",
   "execution_count": 126,
   "metadata": {},
   "outputs": [
    {
     "name": "stdout",
     "output_type": "stream",
     "text": [
      "Tyler has the following hand:\n",
      "Ten of Spades\n",
      "Ten of Diamonds\n",
      "The dealer has the following hand:\n",
      "King of Diamonds\n",
      "Nine of Clubs\n"
     ]
    }
   ],
   "source": [
    "starting_hand()"
   ]
  },
  {
   "cell_type": "code",
   "execution_count": 103,
   "metadata": {},
   "outputs": [],
   "source": [
    "def hand_sum(hand):\n",
    "    sum = 0\n",
    "    for cards in hand:\n",
    "        sum += cards.value \n",
    "    return sum"
   ]
  },
  {
   "cell_type": "code",
   "execution_count": 130,
   "metadata": {},
   "outputs": [],
   "source": []
  },
  {
   "cell_type": "code",
   "execution_count": 116,
   "metadata": {},
   "outputs": [
    {
     "name": "stdout",
     "output_type": "stream",
     "text": [
      "Tyler has the following hand:\n",
      "Six of Clubs\n",
      "Ten of Clubs\n",
      "The dealer has the following hand:\n",
      "Jack of Diamonds\n",
      "Eight of Diamonds\n",
      "Your total is 16, hit or stand?stand\n",
      "STAND\n"
     ]
    }
   ],
   "source": [
    "player_one = Player(\"Tyler\")\n",
    "dealer = Dealer()\n",
    "\n",
    "game_on = True\n",
    "\n",
    "while game_on:\n",
    "    \n",
    "    # Create deck and shuffle\n",
    "    new_deck = Deck()\n",
    "    new_deck.shuffle()\n",
    "    # Draw two cards for player and two cards for dealer\n",
    "    starting_hand()\n",
    "    \n",
    "    # If both the sum of player hand and dealer hand both equal 21, print tie break out, choose play again\n",
    "    if hand_sum(player_one.hand) == 21 and hand_sum(dealer.hand) == 21 or hand_sum(player_one.hand) > 21 and hand_sum(dealer.hand) > 21:\n",
    "        game_on = False\n",
    "        print(\"Push!\")\n",
    "        result = input(\"Deal again? Y or N\").upper()\n",
    "        if result == 'Y':\n",
    "            game_on = True\n",
    "        elif result == 'N':\n",
    "            break\n",
    "            print(\"End of the game\")\n",
    "    # If player 1 or dealer equals 21 return winner, choose play again\n",
    "    elif hand_sum(dealer.hand) == 21:\n",
    "        game_on = False\n",
    "        Print(\"Dealer wins\")\n",
    "        result = input(\"Deal again? Y or N\").upper()\n",
    "        if result == 'Y':\n",
    "            game_on = True\n",
    "        elif result == 'N':\n",
    "            break\n",
    "            print(\"End of the game\")\n",
    "    elif hand_sum(player_one.hand) == 21:\n",
    "        game_on = False\n",
    "        print(f\"{player_one.name} wins!\")\n",
    "        result = input(\"Deal again? Y or N\").upper()\n",
    "        if result == 'Y':\n",
    "            game_on = True\n",
    "        elif result == 'N':\n",
    "            break\n",
    "            print(\"End of the game\")\n",
    "    elif hand_sum(dealer.hand) > 21:\n",
    "        game_on = False\n",
    "        print(f\"Dealer goes bust, {player_one.name} wins!\")\n",
    "    elif hand_sum(player_one.hand) > 21:\n",
    "        game_on = False\n",
    "        print(f\"{player_one.name} goes bust, dealer wins!\")    \n",
    "    else:\n",
    "        result = input(f\"Your total is {hand_sum(player_one.hand)}, hit or stand?\").lower()\n",
    "        if result == 'hit':\n",
    "            game_on = False\n",
    "            print(\"HIT ME\")\n",
    "        else:\n",
    "            game_on = False\n",
    "            print(\"STAND\")\n",
    "    break\n",
    "\n",
    "    \n",
    "\n",
    "\n",
    "\n",
    "\n",
    "\n",
    "# If cards in hand equal same value allow split\n",
    "\n",
    "# Dealer always goes last, automatically stand over 17, auto hit under 16\n",
    "\n",
    "# Give player hit or stand option\n",
    "\n",
    "# Hit loop\n",
    "# If hit, deal one more card\n",
    "    # if sum over 21 and no \"Ace\" return bust, play again?\n",
    "    \n",
    "    # if sum over 21 and \"Ace\" return hit or stand option\n",
    "    \n",
    "    # if sum player hand equal 21 and sum dealer hand not equal to 21, player wins\n",
    "    \n",
    "# if stand, break hit loop compare player hand sum and dealer hand sum, winner is higher w/o being over 20"
   ]
  },
  {
   "cell_type": "code",
   "execution_count": 10,
   "metadata": {},
   "outputs": [
    {
     "name": "stdout",
     "output_type": "stream",
     "text": [
      "<__main__.Player object at 0x107da5210>\n"
     ]
    }
   ],
   "source": []
  },
  {
   "cell_type": "code",
   "execution_count": null,
   "metadata": {},
   "outputs": [],
   "source": []
  }
 ],
 "metadata": {
  "kernelspec": {
   "display_name": "Python 3 (ipykernel)",
   "language": "python",
   "name": "python3"
  },
  "language_info": {
   "codemirror_mode": {
    "name": "ipython",
    "version": 3
   },
   "file_extension": ".py",
   "mimetype": "text/x-python",
   "name": "python",
   "nbconvert_exporter": "python",
   "pygments_lexer": "ipython3",
   "version": "3.11.4"
  }
 },
 "nbformat": 4,
 "nbformat_minor": 1
}
