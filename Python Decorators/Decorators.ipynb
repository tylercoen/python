{
 "cells": [
  {
   "cell_type": "code",
   "execution_count": 1,
   "id": "537144cc",
   "metadata": {},
   "outputs": [],
   "source": [
    "def func():\n",
    "    return 1"
   ]
  },
  {
   "cell_type": "code",
   "execution_count": 2,
   "id": "b9a644e3",
   "metadata": {},
   "outputs": [
    {
     "data": {
      "text/plain": [
       "1"
      ]
     },
     "execution_count": 2,
     "metadata": {},
     "output_type": "execute_result"
    }
   ],
   "source": [
    "func()"
   ]
  },
  {
   "cell_type": "code",
   "execution_count": 3,
   "id": "4cf79f34",
   "metadata": {},
   "outputs": [
    {
     "data": {
      "text/plain": [
       "<function __main__.func()>"
      ]
     },
     "execution_count": 3,
     "metadata": {},
     "output_type": "execute_result"
    }
   ],
   "source": [
    "func"
   ]
  },
  {
   "cell_type": "code",
   "execution_count": 4,
   "id": "d6e8622f",
   "metadata": {},
   "outputs": [],
   "source": [
    "def hello():\n",
    "    return \"Hello!\""
   ]
  },
  {
   "cell_type": "code",
   "execution_count": 5,
   "id": "76acd216",
   "metadata": {},
   "outputs": [
    {
     "data": {
      "text/plain": [
       "'Hello!'"
      ]
     },
     "execution_count": 5,
     "metadata": {},
     "output_type": "execute_result"
    }
   ],
   "source": [
    "hello()"
   ]
  },
  {
   "cell_type": "code",
   "execution_count": 6,
   "id": "d8a3b679",
   "metadata": {},
   "outputs": [
    {
     "data": {
      "text/plain": [
       "<function __main__.hello()>"
      ]
     },
     "execution_count": 6,
     "metadata": {},
     "output_type": "execute_result"
    }
   ],
   "source": [
    "hello"
   ]
  },
  {
   "cell_type": "code",
   "execution_count": 7,
   "id": "408b03d7",
   "metadata": {},
   "outputs": [],
   "source": [
    "greet = hello"
   ]
  },
  {
   "cell_type": "code",
   "execution_count": 8,
   "id": "fc53d67e",
   "metadata": {},
   "outputs": [
    {
     "data": {
      "text/plain": [
       "'Hello!'"
      ]
     },
     "execution_count": 8,
     "metadata": {},
     "output_type": "execute_result"
    }
   ],
   "source": [
    "greet()"
   ]
  },
  {
   "cell_type": "code",
   "execution_count": 9,
   "id": "6d3f5f3a",
   "metadata": {},
   "outputs": [],
   "source": [
    "del hello"
   ]
  },
  {
   "cell_type": "code",
   "execution_count": 10,
   "id": "f9d7d3d9",
   "metadata": {},
   "outputs": [
    {
     "ename": "NameError",
     "evalue": "name 'hello' is not defined",
     "output_type": "error",
     "traceback": [
      "\u001b[0;31m---------------------------------------------------------------------------\u001b[0m",
      "\u001b[0;31mNameError\u001b[0m                                 Traceback (most recent call last)",
      "Cell \u001b[0;32mIn[10], line 1\u001b[0m\n\u001b[0;32m----> 1\u001b[0m hello()\n",
      "\u001b[0;31mNameError\u001b[0m: name 'hello' is not defined"
     ]
    }
   ],
   "source": [
    "hello()"
   ]
  },
  {
   "cell_type": "code",
   "execution_count": 11,
   "id": "4e2f713d",
   "metadata": {},
   "outputs": [
    {
     "data": {
      "text/plain": [
       "'Hello!'"
      ]
     },
     "execution_count": 11,
     "metadata": {},
     "output_type": "execute_result"
    }
   ],
   "source": [
    "greet()"
   ]
  },
  {
   "cell_type": "code",
   "execution_count": null,
   "id": "5b59d196",
   "metadata": {},
   "outputs": [],
   "source": []
  },
  {
   "cell_type": "code",
   "execution_count": null,
   "id": "558fe996",
   "metadata": {},
   "outputs": [],
   "source": []
  },
  {
   "cell_type": "code",
   "execution_count": null,
   "id": "8419c9a1",
   "metadata": {},
   "outputs": [],
   "source": []
  },
  {
   "cell_type": "code",
   "execution_count": 20,
   "id": "8c270372",
   "metadata": {},
   "outputs": [],
   "source": [
    "def hello(name=\"Tyler\"):\n",
    "    print('The hello() function has been executed!')\n",
    "    \n",
    "    def greet():\n",
    "        return '\\t This is the greet() function inside hello!'\n",
    "    \n",
    "    def welcome():\n",
    "        return '\\t This is welcom() inside hello'\n",
    "    \n",
    "    print(greet())\n",
    "    print(welcome())\n",
    "    print('This is the end of the hello function!')"
   ]
  },
  {
   "cell_type": "code",
   "execution_count": 21,
   "id": "73c59a5c",
   "metadata": {},
   "outputs": [
    {
     "name": "stdout",
     "output_type": "stream",
     "text": [
      "The hello() function has been executed!\n",
      "\t This is the greet() function inside hello!\n",
      "\t This is welcom() inside hello\n",
      "This is the end of the hello function!\n"
     ]
    }
   ],
   "source": [
    "hello()"
   ]
  },
  {
   "cell_type": "code",
   "execution_count": 24,
   "id": "fd6fe30d",
   "metadata": {},
   "outputs": [],
   "source": [
    "def hello(name=\"Tyler\"):\n",
    "    print('The hello() function has been executed!')\n",
    "    \n",
    "    def greet():\n",
    "        return '\\t This is the greet() function inside hello!'\n",
    "    \n",
    "    def welcome():\n",
    "        return '\\t This is welcom() inside hello'\n",
    "    \n",
    "    print('I am going to return a function!!')\n",
    "    \n",
    "    if name == \"Tyler\":\n",
    "        return greet\n",
    "    else:\n",
    "        return welcome"
   ]
  },
  {
   "cell_type": "code",
   "execution_count": 25,
   "id": "228cc693",
   "metadata": {},
   "outputs": [
    {
     "name": "stdout",
     "output_type": "stream",
     "text": [
      "The hello() function has been executed!\n",
      "I am going to return a function!!\n"
     ]
    }
   ],
   "source": [
    "my_new_func = hello('Tyler')"
   ]
  },
  {
   "cell_type": "code",
   "execution_count": 26,
   "id": "e449e8b2",
   "metadata": {},
   "outputs": [
    {
     "data": {
      "text/plain": [
       "<function __main__.hello.<locals>.greet()>"
      ]
     },
     "execution_count": 26,
     "metadata": {},
     "output_type": "execute_result"
    }
   ],
   "source": [
    "my_new_func"
   ]
  },
  {
   "cell_type": "code",
   "execution_count": 27,
   "id": "5c511e79",
   "metadata": {},
   "outputs": [
    {
     "data": {
      "text/plain": [
       "'\\t This is the greet() function inside hello!'"
      ]
     },
     "execution_count": 27,
     "metadata": {},
     "output_type": "execute_result"
    }
   ],
   "source": [
    "my_new_func()"
   ]
  },
  {
   "cell_type": "code",
   "execution_count": 28,
   "id": "a8217a4a",
   "metadata": {},
   "outputs": [
    {
     "name": "stdout",
     "output_type": "stream",
     "text": [
      "\t This is the greet() function inside hello!\n"
     ]
    }
   ],
   "source": [
    "print(my_new_func())"
   ]
  },
  {
   "cell_type": "code",
   "execution_count": 29,
   "id": "45acb42c",
   "metadata": {},
   "outputs": [],
   "source": [
    "def cool():\n",
    "    \n",
    "    def super_cool():\n",
    "        return 'I am very cool!'\n",
    "    \n",
    "    return super_cool"
   ]
  },
  {
   "cell_type": "code",
   "execution_count": 30,
   "id": "3b707bc8",
   "metadata": {},
   "outputs": [],
   "source": [
    "some_func = cool()"
   ]
  },
  {
   "cell_type": "code",
   "execution_count": 31,
   "id": "5f984c5c",
   "metadata": {},
   "outputs": [
    {
     "data": {
      "text/plain": [
       "<function __main__.cool.<locals>.super_cool()>"
      ]
     },
     "execution_count": 31,
     "metadata": {},
     "output_type": "execute_result"
    }
   ],
   "source": [
    "some_func"
   ]
  },
  {
   "cell_type": "code",
   "execution_count": 32,
   "id": "85643b85",
   "metadata": {},
   "outputs": [
    {
     "data": {
      "text/plain": [
       "'I am very cool!'"
      ]
     },
     "execution_count": 32,
     "metadata": {},
     "output_type": "execute_result"
    }
   ],
   "source": [
    "some_func()"
   ]
  },
  {
   "cell_type": "code",
   "execution_count": null,
   "id": "eb5d61ae",
   "metadata": {},
   "outputs": [],
   "source": []
  },
  {
   "cell_type": "code",
   "execution_count": null,
   "id": "32ee6d75",
   "metadata": {},
   "outputs": [],
   "source": []
  },
  {
   "cell_type": "code",
   "execution_count": null,
   "id": "60c05ac2",
   "metadata": {},
   "outputs": [],
   "source": []
  },
  {
   "cell_type": "code",
   "execution_count": null,
   "id": "7351c045",
   "metadata": {},
   "outputs": [],
   "source": []
  },
  {
   "cell_type": "code",
   "execution_count": 33,
   "id": "71feaa27",
   "metadata": {},
   "outputs": [],
   "source": [
    "def hello():\n",
    "    return 'Hi Tyler!'"
   ]
  },
  {
   "cell_type": "code",
   "execution_count": 34,
   "id": "09dec3fa",
   "metadata": {},
   "outputs": [],
   "source": [
    "def other(some_def_func):\n",
    "    print('Other code runs here!')\n",
    "    print(some_def_func())"
   ]
  },
  {
   "cell_type": "code",
   "execution_count": 35,
   "id": "be292e72",
   "metadata": {},
   "outputs": [
    {
     "name": "stdout",
     "output_type": "stream",
     "text": [
      "Other code runs here!\n",
      "Hi Tyler!\n"
     ]
    }
   ],
   "source": [
    "other(hello)"
   ]
  },
  {
   "cell_type": "code",
   "execution_count": null,
   "id": "cffbd60f",
   "metadata": {},
   "outputs": [],
   "source": []
  },
  {
   "cell_type": "code",
   "execution_count": null,
   "id": "13a0e711",
   "metadata": {},
   "outputs": [],
   "source": []
  },
  {
   "cell_type": "code",
   "execution_count": null,
   "id": "8bb8154a",
   "metadata": {},
   "outputs": [],
   "source": []
  },
  {
   "cell_type": "code",
   "execution_count": null,
   "id": "997b8695",
   "metadata": {},
   "outputs": [],
   "source": []
  },
  {
   "cell_type": "code",
   "execution_count": null,
   "id": "810a1218",
   "metadata": {},
   "outputs": [],
   "source": []
  },
  {
   "cell_type": "code",
   "execution_count": 36,
   "id": "ac845281",
   "metadata": {},
   "outputs": [],
   "source": [
    "def new_decorator(original_func):\n",
    "    \n",
    "    def wrap_func():\n",
    "        \n",
    "        print('Some extra code, before the original function!')\n",
    "        \n",
    "        original_func()\n",
    "        \n",
    "        print('Some extra code, after the original functions!')\n",
    "        \n",
    "    return wrap_func"
   ]
  },
  {
   "cell_type": "code",
   "execution_count": 37,
   "id": "4c6cc695",
   "metadata": {},
   "outputs": [],
   "source": [
    "def func_needs_decorator():\n",
    "    print('I want to be decorated!!')"
   ]
  },
  {
   "cell_type": "code",
   "execution_count": 38,
   "id": "a456cf21",
   "metadata": {},
   "outputs": [
    {
     "name": "stdout",
     "output_type": "stream",
     "text": [
      "I want to be decorated!!\n"
     ]
    }
   ],
   "source": [
    "func_needs_decorator()"
   ]
  },
  {
   "cell_type": "code",
   "execution_count": 39,
   "id": "4b2e991d",
   "metadata": {},
   "outputs": [],
   "source": [
    "decorated_func = new_decorator(func_needs_decorator)"
   ]
  },
  {
   "cell_type": "code",
   "execution_count": 40,
   "id": "b5872046",
   "metadata": {},
   "outputs": [
    {
     "name": "stdout",
     "output_type": "stream",
     "text": [
      "Some extra code, before the original function!\n",
      "I want to be decorated!!\n",
      "Some extra code, after the original functions!\n"
     ]
    }
   ],
   "source": [
    "decorated_func()"
   ]
  },
  {
   "cell_type": "code",
   "execution_count": 41,
   "id": "e62086c5",
   "metadata": {},
   "outputs": [],
   "source": [
    "@new_decorator\n",
    "def func_needs_decorator():\n",
    "    print('I want to be decorated!!')"
   ]
  },
  {
   "cell_type": "code",
   "execution_count": 42,
   "id": "d1ff4c65",
   "metadata": {},
   "outputs": [
    {
     "name": "stdout",
     "output_type": "stream",
     "text": [
      "Some extra code, before the original function!\n",
      "I want to be decorated!!\n",
      "Some extra code, after the original functions!\n"
     ]
    }
   ],
   "source": [
    "func_needs_decorator()"
   ]
  },
  {
   "cell_type": "code",
   "execution_count": null,
   "id": "69dea735",
   "metadata": {},
   "outputs": [],
   "source": []
  }
 ],
 "metadata": {
  "kernelspec": {
   "display_name": "Python 3 (ipykernel)",
   "language": "python",
   "name": "python3"
  },
  "language_info": {
   "codemirror_mode": {
    "name": "ipython",
    "version": 3
   },
   "file_extension": ".py",
   "mimetype": "text/x-python",
   "name": "python",
   "nbconvert_exporter": "python",
   "pygments_lexer": "ipython3",
   "version": "3.11.4"
  }
 },
 "nbformat": 4,
 "nbformat_minor": 5
}
