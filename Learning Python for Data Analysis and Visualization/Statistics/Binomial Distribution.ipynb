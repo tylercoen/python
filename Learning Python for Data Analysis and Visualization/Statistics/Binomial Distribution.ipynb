{
 "cells": [
  {
   "cell_type": "code",
   "execution_count": 9,
   "id": "1db1a57f",
   "metadata": {},
   "outputs": [
    {
     "name": "stdout",
     "output_type": "stream",
     "text": [
      "The probability of player A making 6 shots exactly in an average game is 11.1%\n",
      "\n",
      "\n",
      "The probability of player B making 6 shots in an avereage game is 17.0%\n"
     ]
    }
   ],
   "source": [
    "# Set up player A\n",
    "\n",
    "# probability of success for A\n",
    "p_A = .72\n",
    "# number of shots for A\n",
    "n_A = 11\n",
    "\n",
    "# make 6 shots\n",
    "k = 6\n",
    "\n",
    "# import scipy for combination\n",
    "from scipy.special import comb\n",
    "\n",
    "# set up C(n,k)\n",
    "comb_A = comb(n_A,k)\n",
    "\n",
    "\n",
    "answer_A = comb_A * (p_A**k) * ((1-p_A)**(n_A-k))\n",
    "answer_A = 100*answer_A\n",
    "\n",
    "# player B\n",
    "p_B = .48\n",
    "n_B = 15\n",
    "comb_B = comb(n_B,k)\n",
    "answer_B = 100 * comb_B * (p_B**k) * ((1-p_B)**(n_B-k))\n",
    "\n",
    "print('The probability of player A making 6 shots exactly in an average game is %1.1f%%' %answer_A)\n",
    "print('\\n')\n",
    "print('The probability of player B making 6 shots in an avereage game is %1.1f%%' %answer_B)"
   ]
  },
  {
   "cell_type": "code",
   "execution_count": 10,
   "id": "23ecbca7",
   "metadata": {},
   "outputs": [
    {
     "name": "stdout",
     "output_type": "stream",
     "text": [
      "The probability of player A making 6 shots exactly in an average game is 22.4%\n",
      "\n",
      "\n",
      "The probability of player B making 6 shots in an avereage game is 13.4%\n"
     ]
    }
   ],
   "source": [
    "# probability of making exactly 9 shots in a game\n",
    "\n",
    "k = 9\n",
    "comb_A = comb(n_A,k)\n",
    "comb_B = comb(n_B,k)\n",
    "\n",
    "answer_A = 100 * comb_A * (p_A**k) * ((1-p_A)**(n_A-k))\n",
    "answer_B = 100 * comb_B * (p_B**k) * ((1-p_B)**(n_B-k))\n",
    "\n",
    "print('The probability of player A making 6 shots exactly in an average game is %1.1f%%' %answer_A)\n",
    "print('\\n')\n",
    "print('The probability of player B making 6 shots in an avereage game is %1.1f%%' %answer_B)"
   ]
  },
  {
   "cell_type": "code",
   "execution_count": 12,
   "id": "7ac9d29f",
   "metadata": {},
   "outputs": [
    {
     "name": "stdout",
     "output_type": "stream",
     "text": [
      "Player A will make an average of 8 +/- 1 shots per gage\n",
      "\n",
      "\n",
      "Player B will make an average of 7 +/- 2 shots per gage\n"
     ]
    }
   ],
   "source": [
    "# get the mean\n",
    "\n",
    "mu_A = n_A * p_A\n",
    "mu_B = n_B * p_B\n",
    "\n",
    "# get the stanadrd deviation\n",
    "sigma_A = (n_A * p_A * (1-p_A)) ** 0.5\n",
    "sigma_B = (n_B * p_B * (1-p_B)) ** 0.5\n",
    "\n",
    "print('Player A will make an average of %1.0f +/- %1.0f shots per gage' %(mu_A,sigma_A))\n",
    "print('\\n')\n",
    "print('Player B will make an average of %1.0f +/- %1.0f shots per gage' %(mu_B,sigma_B))"
   ]
  },
  {
   "cell_type": "code",
   "execution_count": 14,
   "id": "621f0558",
   "metadata": {},
   "outputs": [
    {
     "name": "stdout",
     "output_type": "stream",
     "text": [
      "7.92\n",
      "1.4891608375189027\n"
     ]
    }
   ],
   "source": [
    "# automatically performing the above using scipy\n",
    "from scipy.stats import binom\n",
    "\n",
    "# create a binomial distribution object\n",
    "binom_A = binom(n=n_A, p=p_A)\n",
    "\n",
    "# calculate the mean and the variance\n",
    "mean_A = binom_A.mean()\n",
    "variance_A = binom_A.var()\n",
    "\n",
    "print(mean_A)\n",
    "print(variance_A**0.5)"
   ]
  },
  {
   "cell_type": "code",
   "execution_count": 15,
   "id": "30f775c7",
   "metadata": {},
   "outputs": [
    {
     "data": {
      "text/plain": [
       "array([0.00097656, 0.00976563, 0.04394531, 0.1171875 , 0.20507812,\n",
       "       0.24609375, 0.20507812, 0.1171875 , 0.04394531, 0.00976563,\n",
       "       0.00097656])"
      ]
     },
     "execution_count": 15,
     "metadata": {},
     "output_type": "execute_result"
    }
   ],
   "source": [
    "import numpy as np\n",
    "\n",
    "# n=10 coin flips and p=0.5 for a fair coin\n",
    "\n",
    "n=10\n",
    "p=0.5\n",
    "\n",
    "# set up n succes, remember indexing starts at 0\n",
    "x = range(n+1)\n",
    "\n",
    "# probability mass function\n",
    "Y =  binom.pmf(x,n,p)\n",
    "\n",
    "# show\n",
    "Y"
   ]
  },
  {
   "cell_type": "code",
   "execution_count": 19,
   "id": "b0b0a565",
   "metadata": {},
   "outputs": [
    {
     "data": {
      "text/plain": [
       "Text(0, 0.5, 'Probability')"
      ]
     },
     "execution_count": 19,
     "metadata": {},
     "output_type": "execute_result"
    },
    {
     "data": {
      "image/png": "[encoded data removed]",
      "text/plain": [
       "<Figure size 640x480 with 1 Axes>"
      ]
     },
     "metadata": {},
     "output_type": "display_data"
    }
   ],
   "source": [
    "import matplotlib.pyplot as plt\n",
    "\n",
    "plt.plot(x,Y,'o')\n",
    "\n",
    "plt.title('Binomial Distribution PMF: 10 coin Flips, Odds of success for heads is p=0.5',y=1.08)\n",
    "\n",
    "plt.xlabel('Number of heads')\n",
    "plt.ylabel('Probability')"
   ]
  },
  {
   "cell_type": "code",
   "execution_count": null,
   "id": "3db33d29",
   "metadata": {},
   "outputs": [],
   "source": []
  }
 ],
 "metadata": {
  "kernelspec": {
   "display_name": "Python 3 (ipykernel)",
   "language": "python",
   "name": "python3"
  },
  "language_info": {
   "codemirror_mode": {
    "name": "ipython",
    "version": 3
   },
   "file_extension": ".py",
   "mimetype": "text/x-python",
   "name": "python",
   "nbconvert_exporter": "python",
   "pygments_lexer": "ipython3",
   "version": "3.11.5"
  }
 },
 "nbformat": 4,
 "nbformat_minor": 5
}
