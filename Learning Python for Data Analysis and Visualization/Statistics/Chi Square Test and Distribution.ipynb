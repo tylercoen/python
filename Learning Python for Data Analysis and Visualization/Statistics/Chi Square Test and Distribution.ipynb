{
 "cells": [
  {
   "cell_type": "code",
   "execution_count": 1,
   "id": "5b966123",
   "metadata": {},
   "outputs": [
    {
     "data": {
      "text/plain": [
       "500"
      ]
     },
     "execution_count": 1,
     "metadata": {},
     "output_type": "execute_result"
    }
   ],
   "source": [
    "# check sum of the rolls\n",
    "observed = [8,32,48,59,67,84,76,57,34,28,7]\n",
    "roll_sum = sum(observed)\n",
    "roll_sum"
   ]
  },
  {
   "cell_type": "code",
   "execution_count": 2,
   "id": "2e6b8781",
   "metadata": {},
   "outputs": [
    {
     "data": {
      "text/plain": [
       "[0.027777777777777776,\n",
       " 0.05555555555555555,\n",
       " 0.08333333333333333,\n",
       " 0.1111111111111111,\n",
       " 0.1388888888888889,\n",
       " 0.16666666666666666,\n",
       " 0.1388888888888889,\n",
       " 0.1111111111111111,\n",
       " 0.08333333333333333,\n",
       " 0.05555555555555555,\n",
       " 0.027777777777777776]"
      ]
     },
     "execution_count": 2,
     "metadata": {},
     "output_type": "execute_result"
    }
   ],
   "source": [
    "# the expected frequency\n",
    "freq = [1,2,3,4,5,6,5,4,3,2,1]\n",
    "\n",
    "possible_rolls = 1/36\n",
    "\n",
    "freq = [possible_rolls*dice for dice in freq]\n",
    "\n",
    "freq"
   ]
  },
  {
   "cell_type": "code",
   "execution_count": 3,
   "id": "1d6e0bab",
   "metadata": {},
   "outputs": [
    {
     "data": {
      "text/plain": [
       "[13.888888888888888,\n",
       " 27.777777777777775,\n",
       " 41.666666666666664,\n",
       " 55.55555555555555,\n",
       " 69.44444444444444,\n",
       " 83.33333333333333,\n",
       " 69.44444444444444,\n",
       " 55.55555555555555,\n",
       " 41.666666666666664,\n",
       " 27.777777777777775,\n",
       " 13.888888888888888]"
      ]
     },
     "execution_count": 3,
     "metadata": {},
     "output_type": "execute_result"
    }
   ],
   "source": [
    "expected = [roll_sum*f for f in freq]\n",
    "expected"
   ]
  },
  {
   "cell_type": "code",
   "execution_count": 4,
   "id": "ab4dc525",
   "metadata": {},
   "outputs": [
    {
     "name": "stdout",
     "output_type": "stream",
     "text": [
      "The chi-squared test statistic is 9.89\n",
      "The p-value for the test is 0.45\n"
     ]
    }
   ],
   "source": [
    "from scipy import stats\n",
    "\n",
    "chisq,p = stats.chisquare(observed,expected)\n",
    "print('The chi-squared test statistic is %.2f' %chisq)\n",
    "print('The p-value for the test is %.2f' %p)"
   ]
  },
  {
   "cell_type": "code",
   "execution_count": null,
   "id": "ee44e47c",
   "metadata": {},
   "outputs": [],
   "source": []
  }
 ],
 "metadata": {
  "kernelspec": {
   "display_name": "Python 3 (ipykernel)",
   "language": "python",
   "name": "python3"
  },
  "language_info": {
   "codemirror_mode": {
    "name": "ipython",
    "version": 3
   },
   "file_extension": ".py",
   "mimetype": "text/x-python",
   "name": "python",
   "nbconvert_exporter": "python",
   "pygments_lexer": "ipython3",
   "version": "3.11.5"
  }
 },
 "nbformat": 4,
 "nbformat_minor": 5
}
