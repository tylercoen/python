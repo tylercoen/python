{
 "cells": [
  {
   "cell_type": "code",
   "execution_count": 1,
   "id": "636c5691",
   "metadata": {},
   "outputs": [],
   "source": [
    "import numpy as np\n",
    "import pandas as pd\n",
    "from pandas import Series,DataFrame"
   ]
  },
  {
   "cell_type": "code",
   "execution_count": 3,
   "id": "e359c260",
   "metadata": {},
   "outputs": [],
   "source": [
    "#import pandas testing utility\n",
    "import pandas.testing as tm; tm.N = 3"
   ]
  },
  {
   "cell_type": "code",
   "execution_count": 5,
   "id": "3fded7dd",
   "metadata": {},
   "outputs": [
    {
     "name": "stdout",
     "output_type": "stream",
     "text": [
      "         date variable  value\n",
      "0  2023-01-01        A     30\n",
      "1  2023-01-02        A     64\n",
      "2  2023-01-03        A     41\n",
      "3  2023-01-04        A     69\n",
      "4  2023-01-05        A     19\n",
      "5  2023-01-06        A     86\n",
      "6  2023-01-07        A      6\n",
      "7  2023-01-08        A     95\n",
      "8  2023-01-09        A      3\n",
      "9  2023-01-10        A     15\n",
      "10 2023-01-01        B     29\n",
      "11 2023-01-02        B      3\n",
      "12 2023-01-03        B     10\n",
      "13 2023-01-04        B     97\n",
      "14 2023-01-05        B     76\n",
      "15 2023-01-06        B     45\n",
      "16 2023-01-07        B     51\n",
      "17 2023-01-08        B     15\n",
      "18 2023-01-09        B     97\n",
      "19 2023-01-10        B     17\n",
      "20 2023-01-01        C     78\n",
      "21 2023-01-02        C     28\n",
      "22 2023-01-03        C     36\n",
      "23 2023-01-04        C     53\n",
      "24 2023-01-05        C     89\n",
      "25 2023-01-06        C     36\n",
      "26 2023-01-07        C     98\n",
      "27 2023-01-08        C     82\n",
      "28 2023-01-09        C      4\n",
      "29 2023-01-10        C     82\n"
     ]
    }
   ],
   "source": [
    "# Create a function to generate a time series DataFrame\n",
    "def generate_time_series(start_date, end_date, freq='D', columns=None):\n",
    "    date_rng = pd.date_range(start=start_date, end=end_date, freq=freq)\n",
    "    if columns is None:\n",
    "        columns = ['A', 'B', 'C']  # Adjust column names as needed\n",
    "    data = np.random.randint(0, 100, size=(len(date_rng), len(columns)))\n",
    "    return pd.DataFrame(data, columns=columns, index=date_rng)\n",
    "\n",
    "# Create a function to unpivot the DataFrame\n",
    "def unpivot(frame):\n",
    "    N, K = frame.shape\n",
    "    data = {'value': frame.values.ravel('F'),\n",
    "            'variable': np.asarray(frame.columns).repeat(N),\n",
    "            'date': np.tile(np.asarray(frame.index), K)}\n",
    "    return pd.DataFrame(data, columns=['date', 'variable', 'value'])\n",
    "\n",
    "# Set the date range for your time series data\n",
    "start_date = '2023-01-01'\n",
    "end_date = '2023-01-10'\n",
    "\n",
    "# Generate a time series DataFrame\n",
    "dframe = generate_time_series(start_date, end_date)\n",
    "\n",
    "# Unpivot the DataFrame\n",
    "unpivoted_dframe = unpivot(dframe)\n",
    "\n",
    "print(unpivoted_dframe)\n"
   ]
  },
  {
   "cell_type": "code",
   "execution_count": 6,
   "id": "a5208ac1",
   "metadata": {},
   "outputs": [
    {
     "name": "stderr",
     "output_type": "stream",
     "text": [
      "/var/folders/_7/178775hs6nz5h81l3b_pbb8h0000gn/T/ipykernel_6674/538127619.py:1: FutureWarning: In a future version of pandas all arguments of DataFrame.pivot will be keyword-only.\n",
      "  dframe_piv = unpivoted_dframe.pivot('date','variable','value')  #(rows,columns,fill)\n"
     ]
    }
   ],
   "source": [
    "dframe_piv = unpivoted_dframe.pivot('date','variable','value')  #(rows,columns,fill)"
   ]
  },
  {
   "cell_type": "code",
   "execution_count": 7,
   "id": "66ea24e0",
   "metadata": {},
   "outputs": [
    {
     "data": {
      "text/html": [
       "<div>\n",
       "<style scoped>\n",
       "    .dataframe tbody tr th:only-of-type {\n",
       "        vertical-align: middle;\n",
       "    }\n",
       "\n",
       "    .dataframe tbody tr th {\n",
       "        vertical-align: top;\n",
       "    }\n",
       "\n",
       "    .dataframe thead th {\n",
       "        text-align: right;\n",
       "    }\n",
       "</style>\n",
       "<table border=\"1\" class=\"dataframe\">\n",
       "  <thead>\n",
       "    <tr style=\"text-align: right;\">\n",
       "      <th>variable</th>\n",
       "      <th>A</th>\n",
       "      <th>B</th>\n",
       "      <th>C</th>\n",
       "    </tr>\n",
       "    <tr>\n",
       "      <th>date</th>\n",
       "      <th></th>\n",
       "      <th></th>\n",
       "      <th></th>\n",
       "    </tr>\n",
       "  </thead>\n",
       "  <tbody>\n",
       "    <tr>\n",
       "      <th>2023-01-01</th>\n",
       "      <td>30</td>\n",
       "      <td>29</td>\n",
       "      <td>78</td>\n",
       "    </tr>\n",
       "    <tr>\n",
       "      <th>2023-01-02</th>\n",
       "      <td>64</td>\n",
       "      <td>3</td>\n",
       "      <td>28</td>\n",
       "    </tr>\n",
       "    <tr>\n",
       "      <th>2023-01-03</th>\n",
       "      <td>41</td>\n",
       "      <td>10</td>\n",
       "      <td>36</td>\n",
       "    </tr>\n",
       "    <tr>\n",
       "      <th>2023-01-04</th>\n",
       "      <td>69</td>\n",
       "      <td>97</td>\n",
       "      <td>53</td>\n",
       "    </tr>\n",
       "    <tr>\n",
       "      <th>2023-01-05</th>\n",
       "      <td>19</td>\n",
       "      <td>76</td>\n",
       "      <td>89</td>\n",
       "    </tr>\n",
       "    <tr>\n",
       "      <th>2023-01-06</th>\n",
       "      <td>86</td>\n",
       "      <td>45</td>\n",
       "      <td>36</td>\n",
       "    </tr>\n",
       "    <tr>\n",
       "      <th>2023-01-07</th>\n",
       "      <td>6</td>\n",
       "      <td>51</td>\n",
       "      <td>98</td>\n",
       "    </tr>\n",
       "    <tr>\n",
       "      <th>2023-01-08</th>\n",
       "      <td>95</td>\n",
       "      <td>15</td>\n",
       "      <td>82</td>\n",
       "    </tr>\n",
       "    <tr>\n",
       "      <th>2023-01-09</th>\n",
       "      <td>3</td>\n",
       "      <td>97</td>\n",
       "      <td>4</td>\n",
       "    </tr>\n",
       "    <tr>\n",
       "      <th>2023-01-10</th>\n",
       "      <td>15</td>\n",
       "      <td>17</td>\n",
       "      <td>82</td>\n",
       "    </tr>\n",
       "  </tbody>\n",
       "</table>\n",
       "</div>"
      ],
      "text/plain": [
       "variable     A   B   C\n",
       "date                  \n",
       "2023-01-01  30  29  78\n",
       "2023-01-02  64   3  28\n",
       "2023-01-03  41  10  36\n",
       "2023-01-04  69  97  53\n",
       "2023-01-05  19  76  89\n",
       "2023-01-06  86  45  36\n",
       "2023-01-07   6  51  98\n",
       "2023-01-08  95  15  82\n",
       "2023-01-09   3  97   4\n",
       "2023-01-10  15  17  82"
      ]
     },
     "execution_count": 7,
     "metadata": {},
     "output_type": "execute_result"
    }
   ],
   "source": [
    "dframe_piv"
   ]
  },
  {
   "cell_type": "code",
   "execution_count": null,
   "id": "83e86acd",
   "metadata": {},
   "outputs": [],
   "source": []
  }
 ],
 "metadata": {
  "kernelspec": {
   "display_name": "Python 3 (ipykernel)",
   "language": "python",
   "name": "python3"
  },
  "language_info": {
   "codemirror_mode": {
    "name": "ipython",
    "version": 3
   },
   "file_extension": ".py",
   "mimetype": "text/x-python",
   "name": "python",
   "nbconvert_exporter": "python",
   "pygments_lexer": "ipython3",
   "version": "3.11.4"
  }
 },
 "nbformat": 4,
 "nbformat_minor": 5
}
