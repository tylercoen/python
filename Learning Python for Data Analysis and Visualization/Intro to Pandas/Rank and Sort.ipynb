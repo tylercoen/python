{
 "cells": [
  {
   "cell_type": "code",
   "execution_count": 1,
   "id": "f2329151",
   "metadata": {},
   "outputs": [],
   "source": [
    "import numpy as np\n",
    "import pandas as pd\n",
    "\n",
    "from pandas import Series,DataFrame"
   ]
  },
  {
   "cell_type": "code",
   "execution_count": 2,
   "id": "e320c9ce",
   "metadata": {},
   "outputs": [
    {
     "data": {
      "text/plain": [
       "C    0\n",
       "A    1\n",
       "B    2\n",
       "dtype: int64"
      ]
     },
     "execution_count": 2,
     "metadata": {},
     "output_type": "execute_result"
    }
   ],
   "source": [
    "ser1 = Series(range(3),index=['C','A','B'])\n",
    "\n",
    "ser1"
   ]
  },
  {
   "cell_type": "code",
   "execution_count": 4,
   "id": "b3957595",
   "metadata": {},
   "outputs": [
    {
     "data": {
      "text/plain": [
       "A    1\n",
       "B    2\n",
       "C    0\n",
       "dtype: int64"
      ]
     },
     "execution_count": 4,
     "metadata": {},
     "output_type": "execute_result"
    }
   ],
   "source": [
    "ser1.sort_index()"
   ]
  },
  {
   "cell_type": "code",
   "execution_count": 9,
   "id": "c619823b",
   "metadata": {},
   "outputs": [
    {
     "data": {
      "text/plain": [
       "C    0\n",
       "A    1\n",
       "B    2\n",
       "dtype: int64"
      ]
     },
     "execution_count": 9,
     "metadata": {},
     "output_type": "execute_result"
    }
   ],
   "source": [
    "ser1.sort_values()   # .order() is deprecated"
   ]
  },
  {
   "cell_type": "code",
   "execution_count": 10,
   "id": "7592a909",
   "metadata": {},
   "outputs": [],
   "source": [
    "from numpy.random import randn"
   ]
  },
  {
   "cell_type": "code",
   "execution_count": 11,
   "id": "8bb8c4d4",
   "metadata": {},
   "outputs": [
    {
     "data": {
      "text/plain": [
       "0   -1.495473\n",
       "1    0.044847\n",
       "2   -0.996403\n",
       "3   -0.416297\n",
       "4    0.253792\n",
       "5    0.652232\n",
       "6   -0.583787\n",
       "7    0.143043\n",
       "8   -1.086367\n",
       "9   -1.054430\n",
       "dtype: float64"
      ]
     },
     "execution_count": 11,
     "metadata": {},
     "output_type": "execute_result"
    }
   ],
   "source": [
    "ser2 = Series(randn(10))\n",
    "\n",
    "ser2"
   ]
  },
  {
   "cell_type": "code",
   "execution_count": 13,
   "id": "2b5efa15",
   "metadata": {},
   "outputs": [
    {
     "data": {
      "text/plain": [
       "0   -1.495473\n",
       "8   -1.086367\n",
       "9   -1.054430\n",
       "2   -0.996403\n",
       "6   -0.583787\n",
       "3   -0.416297\n",
       "1    0.044847\n",
       "7    0.143043\n",
       "4    0.253792\n",
       "5    0.652232\n",
       "dtype: float64"
      ]
     },
     "execution_count": 13,
     "metadata": {},
     "output_type": "execute_result"
    }
   ],
   "source": [
    "ser2.sort_values()"
   ]
  },
  {
   "cell_type": "code",
   "execution_count": 14,
   "id": "fcba89a0",
   "metadata": {},
   "outputs": [
    {
     "data": {
      "text/plain": [
       "0     1.0\n",
       "1     7.0\n",
       "2     4.0\n",
       "3     6.0\n",
       "4     9.0\n",
       "5    10.0\n",
       "6     5.0\n",
       "7     8.0\n",
       "8     2.0\n",
       "9     3.0\n",
       "dtype: float64"
      ]
     },
     "execution_count": 14,
     "metadata": {},
     "output_type": "execute_result"
    }
   ],
   "source": [
    "ser2.rank()"
   ]
  },
  {
   "cell_type": "code",
   "execution_count": 15,
   "id": "7bbab164",
   "metadata": {},
   "outputs": [
    {
     "data": {
      "text/plain": [
       "0    0.116625\n",
       "1   -0.497881\n",
       "2    0.157459\n",
       "3    1.549083\n",
       "4    1.937179\n",
       "5   -0.791814\n",
       "6   -0.359169\n",
       "7    0.241741\n",
       "8   -0.102407\n",
       "9    2.426061\n",
       "dtype: float64"
      ]
     },
     "execution_count": 15,
     "metadata": {},
     "output_type": "execute_result"
    }
   ],
   "source": [
    "ser3 = Series(randn(10))\n",
    "\n",
    "ser3"
   ]
  },
  {
   "cell_type": "code",
   "execution_count": 16,
   "id": "fe3bee71",
   "metadata": {},
   "outputs": [
    {
     "data": {
      "text/plain": [
       "0     5.0\n",
       "1     2.0\n",
       "2     6.0\n",
       "3     8.0\n",
       "4     9.0\n",
       "5     1.0\n",
       "6     3.0\n",
       "7     7.0\n",
       "8     4.0\n",
       "9    10.0\n",
       "dtype: float64"
      ]
     },
     "execution_count": 16,
     "metadata": {},
     "output_type": "execute_result"
    }
   ],
   "source": [
    "ser3.rank()"
   ]
  },
  {
   "cell_type": "code",
   "execution_count": 19,
   "id": "1893da77",
   "metadata": {},
   "outputs": [
    {
     "data": {
      "text/plain": [
       "5   -0.791814\n",
       "1   -0.497881\n",
       "6   -0.359169\n",
       "8   -0.102407\n",
       "0    0.116625\n",
       "2    0.157459\n",
       "7    0.241741\n",
       "3    1.549083\n",
       "4    1.937179\n",
       "9    2.426061\n",
       "dtype: float64"
      ]
     },
     "execution_count": 19,
     "metadata": {},
     "output_type": "execute_result"
    }
   ],
   "source": [
    "ser3.sort_values()"
   ]
  },
  {
   "cell_type": "code",
   "execution_count": 20,
   "id": "1d51e2ef",
   "metadata": {},
   "outputs": [
    {
     "data": {
      "text/plain": [
       "0     5.0\n",
       "1     2.0\n",
       "2     6.0\n",
       "3     8.0\n",
       "4     9.0\n",
       "5     1.0\n",
       "6     3.0\n",
       "7     7.0\n",
       "8     4.0\n",
       "9    10.0\n",
       "dtype: float64"
      ]
     },
     "execution_count": 20,
     "metadata": {},
     "output_type": "execute_result"
    }
   ],
   "source": [
    "ser3.rank()"
   ]
  },
  {
   "cell_type": "code",
   "execution_count": null,
   "id": "afe842de",
   "metadata": {},
   "outputs": [],
   "source": []
  }
 ],
 "metadata": {
  "kernelspec": {
   "display_name": "Python 3 (ipykernel)",
   "language": "python",
   "name": "python3"
  },
  "language_info": {
   "codemirror_mode": {
    "name": "ipython",
    "version": 3
   },
   "file_extension": ".py",
   "mimetype": "text/x-python",
   "name": "python",
   "nbconvert_exporter": "python",
   "pygments_lexer": "ipython3",
   "version": "3.11.4"
  }
 },
 "nbformat": 4,
 "nbformat_minor": 5
}
