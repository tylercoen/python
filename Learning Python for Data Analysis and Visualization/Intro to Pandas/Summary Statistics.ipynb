{
 "cells": [
  {
   "cell_type": "code",
   "execution_count": 1,
   "id": "5ae06f04",
   "metadata": {},
   "outputs": [],
   "source": [
    "import numpy as np\n",
    "import pandas as pd\n",
    "\n",
    "from pandas import Series,DataFrame"
   ]
  },
  {
   "cell_type": "code",
   "execution_count": 2,
   "id": "8ecc9970",
   "metadata": {},
   "outputs": [],
   "source": [
    "arr = np.array([[1,2,np.nan],[np.nan,3,4]])"
   ]
  },
  {
   "cell_type": "code",
   "execution_count": 5,
   "id": "9ad00b3c",
   "metadata": {},
   "outputs": [
    {
     "data": {
      "text/html": [
       "<div>\n",
       "<style scoped>\n",
       "    .dataframe tbody tr th:only-of-type {\n",
       "        vertical-align: middle;\n",
       "    }\n",
       "\n",
       "    .dataframe tbody tr th {\n",
       "        vertical-align: top;\n",
       "    }\n",
       "\n",
       "    .dataframe thead th {\n",
       "        text-align: right;\n",
       "    }\n",
       "</style>\n",
       "<table border=\"1\" class=\"dataframe\">\n",
       "  <thead>\n",
       "    <tr style=\"text-align: right;\">\n",
       "      <th></th>\n",
       "      <th>One</th>\n",
       "      <th>Two</th>\n",
       "      <th>Three</th>\n",
       "    </tr>\n",
       "  </thead>\n",
       "  <tbody>\n",
       "    <tr>\n",
       "      <th>A</th>\n",
       "      <td>1.0</td>\n",
       "      <td>2.0</td>\n",
       "      <td>NaN</td>\n",
       "    </tr>\n",
       "    <tr>\n",
       "      <th>B</th>\n",
       "      <td>NaN</td>\n",
       "      <td>3.0</td>\n",
       "      <td>4.0</td>\n",
       "    </tr>\n",
       "  </tbody>\n",
       "</table>\n",
       "</div>"
      ],
      "text/plain": [
       "   One  Two  Three\n",
       "A  1.0  2.0    NaN\n",
       "B  NaN  3.0    4.0"
      ]
     },
     "execution_count": 5,
     "metadata": {},
     "output_type": "execute_result"
    }
   ],
   "source": [
    "dframe1 = DataFrame(arr, index=['A','B'], columns=['One','Two','Three'])\n",
    "\n",
    "dframe1"
   ]
  },
  {
   "cell_type": "code",
   "execution_count": 6,
   "id": "3c28e711",
   "metadata": {},
   "outputs": [
    {
     "data": {
      "text/plain": [
       "One      1.0\n",
       "Two      5.0\n",
       "Three    4.0\n",
       "dtype: float64"
      ]
     },
     "execution_count": 6,
     "metadata": {},
     "output_type": "execute_result"
    }
   ],
   "source": [
    "dframe1.sum()"
   ]
  },
  {
   "cell_type": "code",
   "execution_count": 9,
   "id": "a915b731",
   "metadata": {},
   "outputs": [
    {
     "data": {
      "text/plain": [
       "A    3.0\n",
       "B    7.0\n",
       "dtype: float64"
      ]
     },
     "execution_count": 9,
     "metadata": {},
     "output_type": "execute_result"
    }
   ],
   "source": [
    "dframe1.sum(axis=1)\n",
    "# adds rows instead"
   ]
  },
  {
   "cell_type": "code",
   "execution_count": 11,
   "id": "f0b5c213",
   "metadata": {},
   "outputs": [
    {
     "data": {
      "text/plain": [
       "One      1.0\n",
       "Two      2.0\n",
       "Three    4.0\n",
       "dtype: float64"
      ]
     },
     "execution_count": 11,
     "metadata": {},
     "output_type": "execute_result"
    }
   ],
   "source": [
    "dframe1.min() #find the min value in each column"
   ]
  },
  {
   "cell_type": "code",
   "execution_count": 13,
   "id": "025c6446",
   "metadata": {},
   "outputs": [
    {
     "data": {
      "text/plain": [
       "One      A\n",
       "Two      A\n",
       "Three    B\n",
       "dtype: object"
      ]
     },
     "execution_count": 13,
     "metadata": {},
     "output_type": "execute_result"
    }
   ],
   "source": [
    "dframe1.idxmin() # returns the index of the min value in each column"
   ]
  },
  {
   "cell_type": "code",
   "execution_count": 14,
   "id": "0480fef6",
   "metadata": {},
   "outputs": [
    {
     "data": {
      "text/plain": [
       "One      A\n",
       "Two      B\n",
       "Three    B\n",
       "dtype: object"
      ]
     },
     "execution_count": 14,
     "metadata": {},
     "output_type": "execute_result"
    }
   ],
   "source": [
    "dframe1.idxmax()"
   ]
  },
  {
   "cell_type": "code",
   "execution_count": 15,
   "id": "c4d38cdf",
   "metadata": {},
   "outputs": [
    {
     "data": {
      "text/plain": [
       "One      1.0\n",
       "Two      3.0\n",
       "Three    4.0\n",
       "dtype: float64"
      ]
     },
     "execution_count": 15,
     "metadata": {},
     "output_type": "execute_result"
    }
   ],
   "source": [
    "dframe1.max()"
   ]
  },
  {
   "cell_type": "code",
   "execution_count": 17,
   "id": "406dc378",
   "metadata": {},
   "outputs": [
    {
     "data": {
      "text/html": [
       "<div>\n",
       "<style scoped>\n",
       "    .dataframe tbody tr th:only-of-type {\n",
       "        vertical-align: middle;\n",
       "    }\n",
       "\n",
       "    .dataframe tbody tr th {\n",
       "        vertical-align: top;\n",
       "    }\n",
       "\n",
       "    .dataframe thead th {\n",
       "        text-align: right;\n",
       "    }\n",
       "</style>\n",
       "<table border=\"1\" class=\"dataframe\">\n",
       "  <thead>\n",
       "    <tr style=\"text-align: right;\">\n",
       "      <th></th>\n",
       "      <th>One</th>\n",
       "      <th>Two</th>\n",
       "      <th>Three</th>\n",
       "    </tr>\n",
       "  </thead>\n",
       "  <tbody>\n",
       "    <tr>\n",
       "      <th>A</th>\n",
       "      <td>1.0</td>\n",
       "      <td>2.0</td>\n",
       "      <td>NaN</td>\n",
       "    </tr>\n",
       "    <tr>\n",
       "      <th>B</th>\n",
       "      <td>NaN</td>\n",
       "      <td>5.0</td>\n",
       "      <td>4.0</td>\n",
       "    </tr>\n",
       "  </tbody>\n",
       "</table>\n",
       "</div>"
      ],
      "text/plain": [
       "   One  Two  Three\n",
       "A  1.0  2.0    NaN\n",
       "B  NaN  5.0    4.0"
      ]
     },
     "execution_count": 17,
     "metadata": {},
     "output_type": "execute_result"
    }
   ],
   "source": [
    "dframe1.cumsum() # returns a cumulative sum along the columns. Note B Two is now 5.0"
   ]
  },
  {
   "cell_type": "code",
   "execution_count": 20,
   "id": "43d773cd",
   "metadata": {},
   "outputs": [
    {
     "data": {
      "text/html": [
       "<div>\n",
       "<style scoped>\n",
       "    .dataframe tbody tr th:only-of-type {\n",
       "        vertical-align: middle;\n",
       "    }\n",
       "\n",
       "    .dataframe tbody tr th {\n",
       "        vertical-align: top;\n",
       "    }\n",
       "\n",
       "    .dataframe thead th {\n",
       "        text-align: right;\n",
       "    }\n",
       "</style>\n",
       "<table border=\"1\" class=\"dataframe\">\n",
       "  <thead>\n",
       "    <tr style=\"text-align: right;\">\n",
       "      <th></th>\n",
       "      <th>One</th>\n",
       "      <th>Two</th>\n",
       "      <th>Three</th>\n",
       "    </tr>\n",
       "  </thead>\n",
       "  <tbody>\n",
       "    <tr>\n",
       "      <th>count</th>\n",
       "      <td>1.0</td>\n",
       "      <td>2.000000</td>\n",
       "      <td>1.0</td>\n",
       "    </tr>\n",
       "    <tr>\n",
       "      <th>mean</th>\n",
       "      <td>1.0</td>\n",
       "      <td>2.500000</td>\n",
       "      <td>4.0</td>\n",
       "    </tr>\n",
       "    <tr>\n",
       "      <th>std</th>\n",
       "      <td>NaN</td>\n",
       "      <td>0.707107</td>\n",
       "      <td>NaN</td>\n",
       "    </tr>\n",
       "    <tr>\n",
       "      <th>min</th>\n",
       "      <td>1.0</td>\n",
       "      <td>2.000000</td>\n",
       "      <td>4.0</td>\n",
       "    </tr>\n",
       "    <tr>\n",
       "      <th>25%</th>\n",
       "      <td>1.0</td>\n",
       "      <td>2.250000</td>\n",
       "      <td>4.0</td>\n",
       "    </tr>\n",
       "    <tr>\n",
       "      <th>50%</th>\n",
       "      <td>1.0</td>\n",
       "      <td>2.500000</td>\n",
       "      <td>4.0</td>\n",
       "    </tr>\n",
       "    <tr>\n",
       "      <th>75%</th>\n",
       "      <td>1.0</td>\n",
       "      <td>2.750000</td>\n",
       "      <td>4.0</td>\n",
       "    </tr>\n",
       "    <tr>\n",
       "      <th>max</th>\n",
       "      <td>1.0</td>\n",
       "      <td>3.000000</td>\n",
       "      <td>4.0</td>\n",
       "    </tr>\n",
       "  </tbody>\n",
       "</table>\n",
       "</div>"
      ],
      "text/plain": [
       "       One       Two  Three\n",
       "count  1.0  2.000000    1.0\n",
       "mean   1.0  2.500000    4.0\n",
       "std    NaN  0.707107    NaN\n",
       "min    1.0  2.000000    4.0\n",
       "25%    1.0  2.250000    4.0\n",
       "50%    1.0  2.500000    4.0\n",
       "75%    1.0  2.750000    4.0\n",
       "max    1.0  3.000000    4.0"
      ]
     },
     "execution_count": 20,
     "metadata": {},
     "output_type": "execute_result"
    }
   ],
   "source": [
    "dframe1.describe() # provides summary statistics for your drame"
   ]
  },
  {
   "cell_type": "code",
   "execution_count": null,
   "id": "ec4879d7",
   "metadata": {},
   "outputs": [],
   "source": []
  },
  {
   "cell_type": "code",
   "execution_count": 21,
   "id": "268544f0",
   "metadata": {},
   "outputs": [],
   "source": [
    "from IPython.display import YouTubeVideo"
   ]
  },
  {
   "cell_type": "code",
   "execution_count": 22,
   "id": "46aa7fa6",
   "metadata": {},
   "outputs": [
    {
     "data": {
      "text/html": [
       "\n",
       "        <iframe\n",
       "            width=\"400\"\n",
       "            height=\"300\"\n",
       "            src=\"https://www.youtube.com/embed/xGvbpuFNR1ME\"\n",
       "            frameborder=\"0\"\n",
       "            allowfullscreen\n",
       "            \n",
       "        ></iframe>\n",
       "        "
      ],
      "text/plain": [
       "<IPython.lib.display.YouTubeVideo at 0x15e6cdcd0>"
      ]
     },
     "execution_count": 22,
     "metadata": {},
     "output_type": "execute_result"
    }
   ],
   "source": [
    "YouTubeVideo('xGvbpuFNR1ME')"
   ]
  },
  {
   "cell_type": "code",
   "execution_count": 23,
   "id": "a8240356",
   "metadata": {},
   "outputs": [
    {
     "data": {
      "image/jpeg": "[encoded data removed]",
      "text/html": [
       "\n",
       "        <iframe\n",
       "            width=\"400\"\n",
       "            height=\"300\"\n",
       "            src=\"https://www.youtube.com/embed/4EXNedimDMs\"\n",
       "            frameborder=\"0\"\n",
       "            allowfullscreen\n",
       "            \n",
       "        ></iframe>\n",
       "        "
      ],
      "text/plain": [
       "<IPython.lib.display.YouTubeVideo at 0x15e6cf090>"
      ]
     },
     "execution_count": 23,
     "metadata": {},
     "output_type": "execute_result"
    }
   ],
   "source": [
    "YouTubeVideo('4EXNedimDMs')"
   ]
  },
  {
   "cell_type": "code",
   "execution_count": 82,
   "id": "22c3e2a6",
   "metadata": {},
   "outputs": [],
   "source": [
    "import datetime\n",
    "import yfinance as yf\n"
   ]
  },
  {
   "cell_type": "code",
   "execution_count": 103,
   "id": "d9cc4642",
   "metadata": {},
   "outputs": [
    {
     "name": "stdout",
     "output_type": "stream",
     "text": [
      "[*********************100%%**********************]  3 of 3 completed\n"
     ]
    }
   ],
   "source": [
    "start_date = datetime.datetime(2010, 1, 1)\n",
    "end_date = datetime.datetime(2013, 1, 1)\n",
    "\n",
    "tickers = ['CVX', 'XOM', 'BP']\n",
    "\n",
    "# Create a list of Ticker objects\n",
    "tickers = [yf.Ticker(ticker) for ticker in tickers]\n",
    "\n",
    "# Convert the list of Ticker objects to a list of strings\n",
    "tickers = [ticker.ticker for ticker in tickers]\n",
    "\n",
    "# Get the historical data for all tickers\n",
    "prices = yf.download(tickers, start=start_date, end=end_date)['Adj Close']"
   ]
  },
  {
   "cell_type": "code",
   "execution_count": 104,
   "id": "193fe3de",
   "metadata": {},
   "outputs": [
    {
     "data": {
      "text/html": [
       "<div>\n",
       "<style scoped>\n",
       "    .dataframe tbody tr th:only-of-type {\n",
       "        vertical-align: middle;\n",
       "    }\n",
       "\n",
       "    .dataframe tbody tr th {\n",
       "        vertical-align: top;\n",
       "    }\n",
       "\n",
       "    .dataframe thead th {\n",
       "        text-align: right;\n",
       "    }\n",
       "</style>\n",
       "<table border=\"1\" class=\"dataframe\">\n",
       "  <thead>\n",
       "    <tr style=\"text-align: right;\">\n",
       "      <th></th>\n",
       "      <th>BP</th>\n",
       "      <th>CVX</th>\n",
       "      <th>XOM</th>\n",
       "    </tr>\n",
       "    <tr>\n",
       "      <th>Date</th>\n",
       "      <th></th>\n",
       "      <th></th>\n",
       "      <th></th>\n",
       "    </tr>\n",
       "  </thead>\n",
       "  <tbody>\n",
       "    <tr>\n",
       "      <th>2010-01-04</th>\n",
       "      <td>28.746256</td>\n",
       "      <td>45.955875</td>\n",
       "      <td>40.983097</td>\n",
       "    </tr>\n",
       "    <tr>\n",
       "      <th>2010-01-05</th>\n",
       "      <td>28.950367</td>\n",
       "      <td>46.281391</td>\n",
       "      <td>41.143139</td>\n",
       "    </tr>\n",
       "    <tr>\n",
       "      <th>2010-01-06</th>\n",
       "      <td>29.101032</td>\n",
       "      <td>46.287201</td>\n",
       "      <td>41.498726</td>\n",
       "    </tr>\n",
       "    <tr>\n",
       "      <th>2010-01-07</th>\n",
       "      <td>29.091299</td>\n",
       "      <td>46.112812</td>\n",
       "      <td>41.368343</td>\n",
       "    </tr>\n",
       "    <tr>\n",
       "      <th>2010-01-08</th>\n",
       "      <td>29.159349</td>\n",
       "      <td>46.194195</td>\n",
       "      <td>41.202381</td>\n",
       "    </tr>\n",
       "    <tr>\n",
       "      <th>...</th>\n",
       "      <td>...</td>\n",
       "      <td>...</td>\n",
       "      <td>...</td>\n",
       "    </tr>\n",
       "    <tr>\n",
       "      <th>2012-12-24</th>\n",
       "      <td>22.393946</td>\n",
       "      <td>69.844765</td>\n",
       "      <td>55.535656</td>\n",
       "    </tr>\n",
       "    <tr>\n",
       "      <th>2012-12-26</th>\n",
       "      <td>22.372473</td>\n",
       "      <td>69.735451</td>\n",
       "      <td>55.631500</td>\n",
       "    </tr>\n",
       "    <tr>\n",
       "      <th>2012-12-27</th>\n",
       "      <td>22.340258</td>\n",
       "      <td>69.774040</td>\n",
       "      <td>55.497326</td>\n",
       "    </tr>\n",
       "    <tr>\n",
       "      <th>2012-12-28</th>\n",
       "      <td>22.125555</td>\n",
       "      <td>68.443077</td>\n",
       "      <td>54.372807</td>\n",
       "    </tr>\n",
       "    <tr>\n",
       "      <th>2012-12-31</th>\n",
       "      <td>22.350998</td>\n",
       "      <td>69.529709</td>\n",
       "      <td>55.299259</td>\n",
       "    </tr>\n",
       "  </tbody>\n",
       "</table>\n",
       "<p>754 rows × 3 columns</p>\n",
       "</div>"
      ],
      "text/plain": [
       "                   BP        CVX        XOM\n",
       "Date                                       \n",
       "2010-01-04  28.746256  45.955875  40.983097\n",
       "2010-01-05  28.950367  46.281391  41.143139\n",
       "2010-01-06  29.101032  46.287201  41.498726\n",
       "2010-01-07  29.091299  46.112812  41.368343\n",
       "2010-01-08  29.159349  46.194195  41.202381\n",
       "...               ...        ...        ...\n",
       "2012-12-24  22.393946  69.844765  55.535656\n",
       "2012-12-26  22.372473  69.735451  55.631500\n",
       "2012-12-27  22.340258  69.774040  55.497326\n",
       "2012-12-28  22.125555  68.443077  54.372807\n",
       "2012-12-31  22.350998  69.529709  55.299259\n",
       "\n",
       "[754 rows x 3 columns]"
      ]
     },
     "execution_count": 104,
     "metadata": {},
     "output_type": "execute_result"
    }
   ],
   "source": [
    "prices"
   ]
  },
  {
   "cell_type": "code",
   "execution_count": 105,
   "id": "3650837f",
   "metadata": {},
   "outputs": [
    {
     "name": "stdout",
     "output_type": "stream",
     "text": [
      "[*********************100%%**********************]  3 of 3 completed\n"
     ]
    },
    {
     "data": {
      "text/html": [
       "<div>\n",
       "<style scoped>\n",
       "    .dataframe tbody tr th:only-of-type {\n",
       "        vertical-align: middle;\n",
       "    }\n",
       "\n",
       "    .dataframe tbody tr th {\n",
       "        vertical-align: top;\n",
       "    }\n",
       "\n",
       "    .dataframe thead tr th {\n",
       "        text-align: left;\n",
       "    }\n",
       "\n",
       "    .dataframe thead tr:last-of-type th {\n",
       "        text-align: right;\n",
       "    }\n",
       "</style>\n",
       "<table border=\"1\" class=\"dataframe\">\n",
       "  <thead>\n",
       "    <tr>\n",
       "      <th></th>\n",
       "      <th colspan=\"3\" halign=\"left\">Adj Close</th>\n",
       "      <th colspan=\"3\" halign=\"left\">Close</th>\n",
       "      <th colspan=\"3\" halign=\"left\">High</th>\n",
       "      <th colspan=\"3\" halign=\"left\">Low</th>\n",
       "      <th colspan=\"3\" halign=\"left\">Open</th>\n",
       "      <th colspan=\"3\" halign=\"left\">Volume</th>\n",
       "    </tr>\n",
       "    <tr>\n",
       "      <th></th>\n",
       "      <th>BP</th>\n",
       "      <th>CVX</th>\n",
       "      <th>XOM</th>\n",
       "      <th>BP</th>\n",
       "      <th>CVX</th>\n",
       "      <th>XOM</th>\n",
       "      <th>BP</th>\n",
       "      <th>CVX</th>\n",
       "      <th>XOM</th>\n",
       "      <th>BP</th>\n",
       "      <th>CVX</th>\n",
       "      <th>XOM</th>\n",
       "      <th>BP</th>\n",
       "      <th>CVX</th>\n",
       "      <th>XOM</th>\n",
       "      <th>BP</th>\n",
       "      <th>CVX</th>\n",
       "      <th>XOM</th>\n",
       "    </tr>\n",
       "    <tr>\n",
       "      <th>Date</th>\n",
       "      <th></th>\n",
       "      <th></th>\n",
       "      <th></th>\n",
       "      <th></th>\n",
       "      <th></th>\n",
       "      <th></th>\n",
       "      <th></th>\n",
       "      <th></th>\n",
       "      <th></th>\n",
       "      <th></th>\n",
       "      <th></th>\n",
       "      <th></th>\n",
       "      <th></th>\n",
       "      <th></th>\n",
       "      <th></th>\n",
       "      <th></th>\n",
       "      <th></th>\n",
       "      <th></th>\n",
       "    </tr>\n",
       "  </thead>\n",
       "  <tbody>\n",
       "    <tr>\n",
       "      <th>2010-01-04</th>\n",
       "      <td>28.746256</td>\n",
       "      <td>45.955875</td>\n",
       "      <td>40.983105</td>\n",
       "      <td>59.150002</td>\n",
       "      <td>79.059998</td>\n",
       "      <td>69.150002</td>\n",
       "      <td>59.450001</td>\n",
       "      <td>79.199997</td>\n",
       "      <td>69.260002</td>\n",
       "      <td>59.080002</td>\n",
       "      <td>78.160004</td>\n",
       "      <td>68.190002</td>\n",
       "      <td>59.299999</td>\n",
       "      <td>78.199997</td>\n",
       "      <td>68.720001</td>\n",
       "      <td>3956100</td>\n",
       "      <td>10173800</td>\n",
       "      <td>27809100</td>\n",
       "    </tr>\n",
       "    <tr>\n",
       "      <th>2010-01-05</th>\n",
       "      <td>28.950373</td>\n",
       "      <td>46.281391</td>\n",
       "      <td>41.143112</td>\n",
       "      <td>59.570000</td>\n",
       "      <td>79.620003</td>\n",
       "      <td>69.419998</td>\n",
       "      <td>59.900002</td>\n",
       "      <td>79.620003</td>\n",
       "      <td>69.449997</td>\n",
       "      <td>59.310001</td>\n",
       "      <td>78.720001</td>\n",
       "      <td>68.800003</td>\n",
       "      <td>59.650002</td>\n",
       "      <td>79.220001</td>\n",
       "      <td>69.190002</td>\n",
       "      <td>4109600</td>\n",
       "      <td>10593700</td>\n",
       "      <td>30174700</td>\n",
       "    </tr>\n",
       "    <tr>\n",
       "      <th>2010-01-06</th>\n",
       "      <td>29.101027</td>\n",
       "      <td>46.287197</td>\n",
       "      <td>41.498703</td>\n",
       "      <td>59.880001</td>\n",
       "      <td>79.629997</td>\n",
       "      <td>70.019997</td>\n",
       "      <td>59.919998</td>\n",
       "      <td>80.000000</td>\n",
       "      <td>70.599998</td>\n",
       "      <td>59.340000</td>\n",
       "      <td>79.190002</td>\n",
       "      <td>69.339996</td>\n",
       "      <td>59.520000</td>\n",
       "      <td>79.440002</td>\n",
       "      <td>69.449997</td>\n",
       "      <td>6227900</td>\n",
       "      <td>11014600</td>\n",
       "      <td>35044700</td>\n",
       "    </tr>\n",
       "    <tr>\n",
       "      <th>2010-01-07</th>\n",
       "      <td>29.091318</td>\n",
       "      <td>46.112827</td>\n",
       "      <td>41.368351</td>\n",
       "      <td>59.860001</td>\n",
       "      <td>79.330002</td>\n",
       "      <td>69.800003</td>\n",
       "      <td>60.000000</td>\n",
       "      <td>79.699997</td>\n",
       "      <td>70.059998</td>\n",
       "      <td>59.689999</td>\n",
       "      <td>78.970001</td>\n",
       "      <td>69.419998</td>\n",
       "      <td>59.919998</td>\n",
       "      <td>79.360001</td>\n",
       "      <td>69.900002</td>\n",
       "      <td>4431300</td>\n",
       "      <td>9626900</td>\n",
       "      <td>27192100</td>\n",
       "    </tr>\n",
       "    <tr>\n",
       "      <th>2010-01-08</th>\n",
       "      <td>29.159349</td>\n",
       "      <td>46.194218</td>\n",
       "      <td>41.202408</td>\n",
       "      <td>60.000000</td>\n",
       "      <td>79.470001</td>\n",
       "      <td>69.519997</td>\n",
       "      <td>60.060001</td>\n",
       "      <td>79.470001</td>\n",
       "      <td>69.750000</td>\n",
       "      <td>59.669998</td>\n",
       "      <td>78.889999</td>\n",
       "      <td>69.220001</td>\n",
       "      <td>59.790001</td>\n",
       "      <td>79.120003</td>\n",
       "      <td>69.690002</td>\n",
       "      <td>3786100</td>\n",
       "      <td>5624300</td>\n",
       "      <td>24891800</td>\n",
       "    </tr>\n",
       "    <tr>\n",
       "      <th>...</th>\n",
       "      <td>...</td>\n",
       "      <td>...</td>\n",
       "      <td>...</td>\n",
       "      <td>...</td>\n",
       "      <td>...</td>\n",
       "      <td>...</td>\n",
       "      <td>...</td>\n",
       "      <td>...</td>\n",
       "      <td>...</td>\n",
       "      <td>...</td>\n",
       "      <td>...</td>\n",
       "      <td>...</td>\n",
       "      <td>...</td>\n",
       "      <td>...</td>\n",
       "      <td>...</td>\n",
       "      <td>...</td>\n",
       "      <td>...</td>\n",
       "      <td>...</td>\n",
       "    </tr>\n",
       "    <tr>\n",
       "      <th>2012-12-24</th>\n",
       "      <td>22.393946</td>\n",
       "      <td>69.844734</td>\n",
       "      <td>55.535656</td>\n",
       "      <td>41.720001</td>\n",
       "      <td>108.629997</td>\n",
       "      <td>86.919998</td>\n",
       "      <td>41.990002</td>\n",
       "      <td>109.389999</td>\n",
       "      <td>87.320000</td>\n",
       "      <td>41.660000</td>\n",
       "      <td>108.480003</td>\n",
       "      <td>86.800003</td>\n",
       "      <td>41.880001</td>\n",
       "      <td>109.300003</td>\n",
       "      <td>87.129997</td>\n",
       "      <td>2415200</td>\n",
       "      <td>2284400</td>\n",
       "      <td>6385200</td>\n",
       "    </tr>\n",
       "    <tr>\n",
       "      <th>2012-12-26</th>\n",
       "      <td>22.372475</td>\n",
       "      <td>69.735451</td>\n",
       "      <td>55.631508</td>\n",
       "      <td>41.680000</td>\n",
       "      <td>108.459999</td>\n",
       "      <td>87.070000</td>\n",
       "      <td>41.980000</td>\n",
       "      <td>109.269997</td>\n",
       "      <td>87.680000</td>\n",
       "      <td>41.639999</td>\n",
       "      <td>108.209999</td>\n",
       "      <td>86.570000</td>\n",
       "      <td>41.779999</td>\n",
       "      <td>109.099998</td>\n",
       "      <td>87.209999</td>\n",
       "      <td>2819800</td>\n",
       "      <td>4094300</td>\n",
       "      <td>10737800</td>\n",
       "    </tr>\n",
       "    <tr>\n",
       "      <th>2012-12-27</th>\n",
       "      <td>22.340267</td>\n",
       "      <td>69.774017</td>\n",
       "      <td>55.497322</td>\n",
       "      <td>41.619999</td>\n",
       "      <td>108.519997</td>\n",
       "      <td>86.860001</td>\n",
       "      <td>41.849998</td>\n",
       "      <td>108.860001</td>\n",
       "      <td>87.239998</td>\n",
       "      <td>41.279999</td>\n",
       "      <td>107.269997</td>\n",
       "      <td>85.750000</td>\n",
       "      <td>41.810001</td>\n",
       "      <td>108.459999</td>\n",
       "      <td>87.050003</td>\n",
       "      <td>4664200</td>\n",
       "      <td>5525700</td>\n",
       "      <td>14258500</td>\n",
       "    </tr>\n",
       "    <tr>\n",
       "      <th>2012-12-28</th>\n",
       "      <td>22.125557</td>\n",
       "      <td>68.443077</td>\n",
       "      <td>54.372807</td>\n",
       "      <td>41.220001</td>\n",
       "      <td>106.449997</td>\n",
       "      <td>85.099998</td>\n",
       "      <td>41.450001</td>\n",
       "      <td>107.779999</td>\n",
       "      <td>86.290001</td>\n",
       "      <td>41.139999</td>\n",
       "      <td>106.300003</td>\n",
       "      <td>85.070000</td>\n",
       "      <td>41.189999</td>\n",
       "      <td>107.680000</td>\n",
       "      <td>86.099998</td>\n",
       "      <td>4196000</td>\n",
       "      <td>5277100</td>\n",
       "      <td>13358700</td>\n",
       "    </tr>\n",
       "    <tr>\n",
       "      <th>2012-12-31</th>\n",
       "      <td>22.351002</td>\n",
       "      <td>69.529694</td>\n",
       "      <td>55.299255</td>\n",
       "      <td>41.639999</td>\n",
       "      <td>108.139999</td>\n",
       "      <td>86.550003</td>\n",
       "      <td>41.740002</td>\n",
       "      <td>108.230003</td>\n",
       "      <td>86.660004</td>\n",
       "      <td>41.009998</td>\n",
       "      <td>105.750000</td>\n",
       "      <td>84.699997</td>\n",
       "      <td>41.240002</td>\n",
       "      <td>105.750000</td>\n",
       "      <td>85.040001</td>\n",
       "      <td>6353800</td>\n",
       "      <td>6554000</td>\n",
       "      <td>19810800</td>\n",
       "    </tr>\n",
       "  </tbody>\n",
       "</table>\n",
       "<p>754 rows × 18 columns</p>\n",
       "</div>"
      ],
      "text/plain": [
       "            Adj Close                            Close                         \\\n",
       "                   BP        CVX        XOM         BP         CVX        XOM   \n",
       "Date                                                                            \n",
       "2010-01-04  28.746256  45.955875  40.983105  59.150002   79.059998  69.150002   \n",
       "2010-01-05  28.950373  46.281391  41.143112  59.570000   79.620003  69.419998   \n",
       "2010-01-06  29.101027  46.287197  41.498703  59.880001   79.629997  70.019997   \n",
       "2010-01-07  29.091318  46.112827  41.368351  59.860001   79.330002  69.800003   \n",
       "2010-01-08  29.159349  46.194218  41.202408  60.000000   79.470001  69.519997   \n",
       "...               ...        ...        ...        ...         ...        ...   \n",
       "2012-12-24  22.393946  69.844734  55.535656  41.720001  108.629997  86.919998   \n",
       "2012-12-26  22.372475  69.735451  55.631508  41.680000  108.459999  87.070000   \n",
       "2012-12-27  22.340267  69.774017  55.497322  41.619999  108.519997  86.860001   \n",
       "2012-12-28  22.125557  68.443077  54.372807  41.220001  106.449997  85.099998   \n",
       "2012-12-31  22.351002  69.529694  55.299255  41.639999  108.139999  86.550003   \n",
       "\n",
       "                 High                               Low              \\\n",
       "                   BP         CVX        XOM         BP         CVX   \n",
       "Date                                                                  \n",
       "2010-01-04  59.450001   79.199997  69.260002  59.080002   78.160004   \n",
       "2010-01-05  59.900002   79.620003  69.449997  59.310001   78.720001   \n",
       "2010-01-06  59.919998   80.000000  70.599998  59.340000   79.190002   \n",
       "2010-01-07  60.000000   79.699997  70.059998  59.689999   78.970001   \n",
       "2010-01-08  60.060001   79.470001  69.750000  59.669998   78.889999   \n",
       "...               ...         ...        ...        ...         ...   \n",
       "2012-12-24  41.990002  109.389999  87.320000  41.660000  108.480003   \n",
       "2012-12-26  41.980000  109.269997  87.680000  41.639999  108.209999   \n",
       "2012-12-27  41.849998  108.860001  87.239998  41.279999  107.269997   \n",
       "2012-12-28  41.450001  107.779999  86.290001  41.139999  106.300003   \n",
       "2012-12-31  41.740002  108.230003  86.660004  41.009998  105.750000   \n",
       "\n",
       "                            Open                          Volume            \\\n",
       "                  XOM         BP         CVX        XOM       BP       CVX   \n",
       "Date                                                                         \n",
       "2010-01-04  68.190002  59.299999   78.199997  68.720001  3956100  10173800   \n",
       "2010-01-05  68.800003  59.650002   79.220001  69.190002  4109600  10593700   \n",
       "2010-01-06  69.339996  59.520000   79.440002  69.449997  6227900  11014600   \n",
       "2010-01-07  69.419998  59.919998   79.360001  69.900002  4431300   9626900   \n",
       "2010-01-08  69.220001  59.790001   79.120003  69.690002  3786100   5624300   \n",
       "...               ...        ...         ...        ...      ...       ...   \n",
       "2012-12-24  86.800003  41.880001  109.300003  87.129997  2415200   2284400   \n",
       "2012-12-26  86.570000  41.779999  109.099998  87.209999  2819800   4094300   \n",
       "2012-12-27  85.750000  41.810001  108.459999  87.050003  4664200   5525700   \n",
       "2012-12-28  85.070000  41.189999  107.680000  86.099998  4196000   5277100   \n",
       "2012-12-31  84.699997  41.240002  105.750000  85.040001  6353800   6554000   \n",
       "\n",
       "                      \n",
       "                 XOM  \n",
       "Date                  \n",
       "2010-01-04  27809100  \n",
       "2010-01-05  30174700  \n",
       "2010-01-06  35044700  \n",
       "2010-01-07  27192100  \n",
       "2010-01-08  24891800  \n",
       "...              ...  \n",
       "2012-12-24   6385200  \n",
       "2012-12-26  10737800  \n",
       "2012-12-27  14258500  \n",
       "2012-12-28  13358700  \n",
       "2012-12-31  19810800  \n",
       "\n",
       "[754 rows x 18 columns]"
      ]
     },
     "execution_count": 105,
     "metadata": {},
     "output_type": "execute_result"
    }
   ],
   "source": [
    " yf.download(tickers, start=start_date, end=end_date)"
   ]
  },
  {
   "cell_type": "code",
   "execution_count": 106,
   "id": "7e627154",
   "metadata": {},
   "outputs": [
    {
     "name": "stdout",
     "output_type": "stream",
     "text": [
      "[*********************100%%**********************]  3 of 3 completed\n"
     ]
    }
   ],
   "source": [
    "volume = yf.download(tickers, start=start_date, end=end_date)['Volume']"
   ]
  },
  {
   "cell_type": "code",
   "execution_count": 107,
   "id": "ec99579c",
   "metadata": {},
   "outputs": [
    {
     "data": {
      "text/html": [
       "<div>\n",
       "<style scoped>\n",
       "    .dataframe tbody tr th:only-of-type {\n",
       "        vertical-align: middle;\n",
       "    }\n",
       "\n",
       "    .dataframe tbody tr th {\n",
       "        vertical-align: top;\n",
       "    }\n",
       "\n",
       "    .dataframe thead th {\n",
       "        text-align: right;\n",
       "    }\n",
       "</style>\n",
       "<table border=\"1\" class=\"dataframe\">\n",
       "  <thead>\n",
       "    <tr style=\"text-align: right;\">\n",
       "      <th></th>\n",
       "      <th>BP</th>\n",
       "      <th>CVX</th>\n",
       "      <th>XOM</th>\n",
       "    </tr>\n",
       "    <tr>\n",
       "      <th>Date</th>\n",
       "      <th></th>\n",
       "      <th></th>\n",
       "      <th></th>\n",
       "    </tr>\n",
       "  </thead>\n",
       "  <tbody>\n",
       "    <tr>\n",
       "      <th>2010-01-04</th>\n",
       "      <td>3956100</td>\n",
       "      <td>10173800</td>\n",
       "      <td>27809100</td>\n",
       "    </tr>\n",
       "    <tr>\n",
       "      <th>2010-01-05</th>\n",
       "      <td>4109600</td>\n",
       "      <td>10593700</td>\n",
       "      <td>30174700</td>\n",
       "    </tr>\n",
       "    <tr>\n",
       "      <th>2010-01-06</th>\n",
       "      <td>6227900</td>\n",
       "      <td>11014600</td>\n",
       "      <td>35044700</td>\n",
       "    </tr>\n",
       "    <tr>\n",
       "      <th>2010-01-07</th>\n",
       "      <td>4431300</td>\n",
       "      <td>9626900</td>\n",
       "      <td>27192100</td>\n",
       "    </tr>\n",
       "    <tr>\n",
       "      <th>2010-01-08</th>\n",
       "      <td>3786100</td>\n",
       "      <td>5624300</td>\n",
       "      <td>24891800</td>\n",
       "    </tr>\n",
       "    <tr>\n",
       "      <th>...</th>\n",
       "      <td>...</td>\n",
       "      <td>...</td>\n",
       "      <td>...</td>\n",
       "    </tr>\n",
       "    <tr>\n",
       "      <th>2012-12-24</th>\n",
       "      <td>2415200</td>\n",
       "      <td>2284400</td>\n",
       "      <td>6385200</td>\n",
       "    </tr>\n",
       "    <tr>\n",
       "      <th>2012-12-26</th>\n",
       "      <td>2819800</td>\n",
       "      <td>4094300</td>\n",
       "      <td>10737800</td>\n",
       "    </tr>\n",
       "    <tr>\n",
       "      <th>2012-12-27</th>\n",
       "      <td>4664200</td>\n",
       "      <td>5525700</td>\n",
       "      <td>14258500</td>\n",
       "    </tr>\n",
       "    <tr>\n",
       "      <th>2012-12-28</th>\n",
       "      <td>4196000</td>\n",
       "      <td>5277100</td>\n",
       "      <td>13358700</td>\n",
       "    </tr>\n",
       "    <tr>\n",
       "      <th>2012-12-31</th>\n",
       "      <td>6353800</td>\n",
       "      <td>6554000</td>\n",
       "      <td>19810800</td>\n",
       "    </tr>\n",
       "  </tbody>\n",
       "</table>\n",
       "<p>754 rows × 3 columns</p>\n",
       "</div>"
      ],
      "text/plain": [
       "                 BP       CVX       XOM\n",
       "Date                                   \n",
       "2010-01-04  3956100  10173800  27809100\n",
       "2010-01-05  4109600  10593700  30174700\n",
       "2010-01-06  6227900  11014600  35044700\n",
       "2010-01-07  4431300   9626900  27192100\n",
       "2010-01-08  3786100   5624300  24891800\n",
       "...             ...       ...       ...\n",
       "2012-12-24  2415200   2284400   6385200\n",
       "2012-12-26  2819800   4094300  10737800\n",
       "2012-12-27  4664200   5525700  14258500\n",
       "2012-12-28  4196000   5277100  13358700\n",
       "2012-12-31  6353800   6554000  19810800\n",
       "\n",
       "[754 rows x 3 columns]"
      ]
     },
     "execution_count": 107,
     "metadata": {},
     "output_type": "execute_result"
    }
   ],
   "source": [
    "volume"
   ]
  },
  {
   "cell_type": "code",
   "execution_count": 108,
   "id": "68d5ab55",
   "metadata": {},
   "outputs": [
    {
     "data": {
      "text/html": [
       "<div>\n",
       "<style scoped>\n",
       "    .dataframe tbody tr th:only-of-type {\n",
       "        vertical-align: middle;\n",
       "    }\n",
       "\n",
       "    .dataframe tbody tr th {\n",
       "        vertical-align: top;\n",
       "    }\n",
       "\n",
       "    .dataframe thead th {\n",
       "        text-align: right;\n",
       "    }\n",
       "</style>\n",
       "<table border=\"1\" class=\"dataframe\">\n",
       "  <thead>\n",
       "    <tr style=\"text-align: right;\">\n",
       "      <th></th>\n",
       "      <th>BP</th>\n",
       "      <th>CVX</th>\n",
       "      <th>XOM</th>\n",
       "    </tr>\n",
       "    <tr>\n",
       "      <th>Date</th>\n",
       "      <th></th>\n",
       "      <th></th>\n",
       "      <th></th>\n",
       "    </tr>\n",
       "  </thead>\n",
       "  <tbody>\n",
       "    <tr>\n",
       "      <th>2010-01-04</th>\n",
       "      <td>3956100</td>\n",
       "      <td>10173800</td>\n",
       "      <td>27809100</td>\n",
       "    </tr>\n",
       "    <tr>\n",
       "      <th>2010-01-05</th>\n",
       "      <td>4109600</td>\n",
       "      <td>10593700</td>\n",
       "      <td>30174700</td>\n",
       "    </tr>\n",
       "    <tr>\n",
       "      <th>2010-01-06</th>\n",
       "      <td>6227900</td>\n",
       "      <td>11014600</td>\n",
       "      <td>35044700</td>\n",
       "    </tr>\n",
       "    <tr>\n",
       "      <th>2010-01-07</th>\n",
       "      <td>4431300</td>\n",
       "      <td>9626900</td>\n",
       "      <td>27192100</td>\n",
       "    </tr>\n",
       "    <tr>\n",
       "      <th>2010-01-08</th>\n",
       "      <td>3786100</td>\n",
       "      <td>5624300</td>\n",
       "      <td>24891800</td>\n",
       "    </tr>\n",
       "  </tbody>\n",
       "</table>\n",
       "</div>"
      ],
      "text/plain": [
       "                 BP       CVX       XOM\n",
       "Date                                   \n",
       "2010-01-04  3956100  10173800  27809100\n",
       "2010-01-05  4109600  10593700  30174700\n",
       "2010-01-06  6227900  11014600  35044700\n",
       "2010-01-07  4431300   9626900  27192100\n",
       "2010-01-08  3786100   5624300  24891800"
      ]
     },
     "execution_count": 108,
     "metadata": {},
     "output_type": "execute_result"
    }
   ],
   "source": [
    "volume.head()"
   ]
  },
  {
   "cell_type": "code",
   "execution_count": 109,
   "id": "71a7386a",
   "metadata": {},
   "outputs": [],
   "source": [
    "rets = prices.pct_change()"
   ]
  },
  {
   "cell_type": "code",
   "execution_count": 110,
   "id": "58b13721",
   "metadata": {},
   "outputs": [],
   "source": [
    "corr = rets.corr"
   ]
  },
  {
   "cell_type": "code",
   "execution_count": 111,
   "id": "58f467a2",
   "metadata": {},
   "outputs": [
    {
     "data": {
      "text/plain": [
       "<Axes: xlabel='Date'>"
      ]
     },
     "execution_count": 111,
     "metadata": {},
     "output_type": "execute_result"
    },
    {
     "data": {
      "image/png": "[encoded data removed]",
      "text/plain": [
       "<Figure size 640x480 with 1 Axes>"
      ]
     },
     "metadata": {},
     "output_type": "display_data"
    }
   ],
   "source": [
    "%matplotlib inline\n",
    "prices.plot()"
   ]
  },
  {
   "cell_type": "code",
   "execution_count": 112,
   "id": "b9612717",
   "metadata": {},
   "outputs": [],
   "source": [
    "import seaborn as sns\n"
   ]
  },
  {
   "cell_type": "code",
   "execution_count": 113,
   "id": "2d61a037",
   "metadata": {},
   "outputs": [],
   "source": [
    "import matplotlib.pyplot as plt"
   ]
  },
  {
   "cell_type": "code",
   "execution_count": 114,
   "id": "ba17dc22",
   "metadata": {},
   "outputs": [],
   "source": [
    "corr_matrix = rets.corr()"
   ]
  },
  {
   "cell_type": "code",
   "execution_count": 115,
   "id": "bd8d07f4",
   "metadata": {},
   "outputs": [
    {
     "data": {
      "image/png": "[encoded data removed]",
      "text/plain": [
       "<Figure size 640x480 with 2 Axes>"
      ]
     },
     "metadata": {},
     "output_type": "display_data"
    }
   ],
   "source": [
    "sns.heatmap(corr_matrix)\n",
    "plt.show()"
   ]
  },
  {
   "cell_type": "code",
   "execution_count": 117,
   "id": "6ef3fbc4",
   "metadata": {},
   "outputs": [
    {
     "data": {
      "text/plain": [
       "<Axes: >"
      ]
     },
     "execution_count": 117,
     "metadata": {},
     "output_type": "execute_result"
    },
    {
     "data": {
      "image/png": "[encoded data removed]",
      "text/plain": [
       "<Figure size 640x480 with 2 Axes>"
      ]
     },
     "metadata": {},
     "output_type": "display_data"
    }
   ],
   "source": [
    "cmap = sns.diverging_palette(230,20, as_cmap=True)\n",
    "sns.heatmap(corr_matrix,annot=True,cmap=cmap)"
   ]
  },
  {
   "cell_type": "code",
   "execution_count": 118,
   "id": "17d96de1",
   "metadata": {},
   "outputs": [],
   "source": [
    "plt.show()"
   ]
  },
  {
   "cell_type": "code",
   "execution_count": 120,
   "id": "2d55e2bf",
   "metadata": {},
   "outputs": [
    {
     "data": {
      "text/plain": [
       "0    w\n",
       "1    w\n",
       "2    x\n",
       "3    y\n",
       "4    z\n",
       "5    w\n",
       "6    x\n",
       "7    y\n",
       "8    x\n",
       "9    a\n",
       "dtype: object"
      ]
     },
     "execution_count": 120,
     "metadata": {},
     "output_type": "execute_result"
    }
   ],
   "source": [
    "ser1 = Series(['w','w','x','y','z','w','x','y','x','a'])\n",
    "ser1"
   ]
  },
  {
   "cell_type": "code",
   "execution_count": 121,
   "id": "03f53e3c",
   "metadata": {},
   "outputs": [
    {
     "data": {
      "text/plain": [
       "array(['w', 'x', 'y', 'z', 'a'], dtype=object)"
      ]
     },
     "execution_count": 121,
     "metadata": {},
     "output_type": "execute_result"
    }
   ],
   "source": [
    "ser1.unique()"
   ]
  },
  {
   "cell_type": "code",
   "execution_count": 122,
   "id": "fed0e06d",
   "metadata": {},
   "outputs": [
    {
     "data": {
      "text/plain": [
       "w    3\n",
       "x    3\n",
       "y    2\n",
       "z    1\n",
       "a    1\n",
       "dtype: int64"
      ]
     },
     "execution_count": 122,
     "metadata": {},
     "output_type": "execute_result"
    }
   ],
   "source": [
    "ser1.value_counts()"
   ]
  },
  {
   "cell_type": "code",
   "execution_count": null,
   "id": "c8b8ae5b",
   "metadata": {},
   "outputs": [],
   "source": []
  }
 ],
 "metadata": {
  "kernelspec": {
   "display_name": "Python 3 (ipykernel)",
   "language": "python",
   "name": "python3"
  },
  "language_info": {
   "codemirror_mode": {
    "name": "ipython",
    "version": 3
   },
   "file_extension": ".py",
   "mimetype": "text/x-python",
   "name": "python",
   "nbconvert_exporter": "python",
   "pygments_lexer": "ipython3",
   "version": "3.11.4"
  }
 },
 "nbformat": 4,
 "nbformat_minor": 5
}
