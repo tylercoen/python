{
 "cells": [
  {
   "cell_type": "code",
   "execution_count": 7,
   "metadata": {},
   "outputs": [],
   "source": [
    "def getWrongAnswers(N: int, C: str) -> str:\n",
    "  newstr = ''\n",
    "  for letter in C:\n",
    "    if letter == 'B':\n",
    "      newstr = newstr+'A'\n",
    "    elif letter == 'A':\n",
    "      newstr = newstr+'B'\n",
    "    else:\n",
    "      pass\n",
    "  return newstr\n",
    "   "
   ]
  },
  {
   "cell_type": "code",
   "execution_count": 8,
   "metadata": {},
   "outputs": [
    {
     "data": {
      "text/plain": [
       "'ABA'"
      ]
     },
     "execution_count": 8,
     "metadata": {},
     "output_type": "execute_result"
    }
   ],
   "source": [
    "getWrongAnswers(3,'BAB')\n"
   ]
  },
  {
   "cell_type": "code",
   "execution_count": 10,
   "metadata": {},
   "outputs": [],
   "source": [
    "from typing import List"
   ]
  },
  {
   "cell_type": "code",
   "execution_count": 20,
   "metadata": {},
   "outputs": [],
   "source": [
    "def getHitProbability(R: int,C: int,G:List[List[int]])->float:\n",
    "  ones = 0\n",
    "  zeros = 0\n",
    "  for l in G:\n",
    "    for num in l:\n",
    "      if num == 1:\n",
    "        ones = ones+1\n",
    "      elif num == 0:\n",
    "        zeros = zeros+1\n",
    "  \n",
    "  return ones/(ones+zeros)"
   ]
  },
  {
   "cell_type": "code",
   "execution_count": 21,
   "metadata": {},
   "outputs": [
    {
     "data": {
      "text/plain": [
       "0.5"
      ]
     },
     "execution_count": 21,
     "metadata": {},
     "output_type": "execute_result"
    }
   ],
   "source": [
    "getHitProbability(2,3,[[0,0,1],[1,0,1]])"
   ]
  },
  {
   "cell_type": "code",
   "execution_count": 22,
   "metadata": {},
   "outputs": [],
   "source": [
    "def getAdditionalDinersCount(N: int, K: int, M: int, S: List[int])->int:\n",
    "  seats = [x for x in range(1,N+1)]\n",
    "  \n",
    "  return seats"
   ]
  },
  {
   "cell_type": "code",
   "execution_count": 89,
   "metadata": {},
   "outputs": [
    {
     "name": "stdout",
     "output_type": "stream",
     "text": [
      "[4, 8, 9, 10]\n",
      "Seat is available 4\n"
     ]
    },
    {
     "ename": "TypeError",
     "evalue": "'int' object does not support item assignment",
     "output_type": "error",
     "traceback": [
      "\u001b[0;31m---------------------------------------------------------------------------\u001b[0m",
      "\u001b[0;31mTypeError\u001b[0m                                 Traceback (most recent call last)",
      "\u001b[1;32m/workspaces/python/test.ipynb Cell 7\u001b[0m line \u001b[0;36m1\n\u001b[1;32m     <a href='vscode-notebook-cell://codespaces%2Bzany-spoon-5xg4jvxq446hppqq/workspaces/python/test.ipynb#W6sdnNjb2RlLXJlbW90ZQ%3D%3D?line=16'>17</a>\u001b[0m \u001b[39mif\u001b[39;00m num\u001b[39m-\u001b[39mK \u001b[39mnot\u001b[39;00m \u001b[39min\u001b[39;00m seatsRemaining \u001b[39mand\u001b[39;00m num\u001b[39m+\u001b[39mK \u001b[39mnot\u001b[39;00m \u001b[39min\u001b[39;00m seatsRemaining:\n\u001b[1;32m     <a href='vscode-notebook-cell://codespaces%2Bzany-spoon-5xg4jvxq446hppqq/workspaces/python/test.ipynb#W6sdnNjb2RlLXJlbW90ZQ%3D%3D?line=17'>18</a>\u001b[0m   \u001b[39mprint\u001b[39m(\u001b[39m\"\u001b[39m\u001b[39mSeat is available\u001b[39m\u001b[39m\"\u001b[39m, num)\n\u001b[0;32m---> <a href='vscode-notebook-cell://codespaces%2Bzany-spoon-5xg4jvxq446hppqq/workspaces/python/test.ipynb#W6sdnNjb2RlLXJlbW90ZQ%3D%3D?line=18'>19</a>\u001b[0m   num[i] \u001b[39m=\u001b[39m \u001b[39m'\u001b[39m\u001b[39mP\u001b[39m\u001b[39m'\u001b[39m\n\u001b[1;32m     <a href='vscode-notebook-cell://codespaces%2Bzany-spoon-5xg4jvxq446hppqq/workspaces/python/test.ipynb#W6sdnNjb2RlLXJlbW90ZQ%3D%3D?line=19'>20</a>\u001b[0m   seatsRemaining\n\u001b[1;32m     <a href='vscode-notebook-cell://codespaces%2Bzany-spoon-5xg4jvxq446hppqq/workspaces/python/test.ipynb#W6sdnNjb2RlLXJlbW90ZQ%3D%3D?line=20'>21</a>\u001b[0m \u001b[39melif\u001b[39;00m num\u001b[39m-\u001b[39mK \u001b[39mnot\u001b[39;00m \u001b[39min\u001b[39;00m seatsRemaining \u001b[39mand\u001b[39;00m num\u001b[39m+\u001b[39mK \u001b[39min\u001b[39;00m seatsRemaining:\n",
      "\u001b[0;31mTypeError\u001b[0m: 'int' object does not support item assignment"
     ]
    }
   ],
   "source": [
    "N = 10\n",
    "seats = [x for x in range(1,N+1)]\n",
    "K = 1\n",
    "S = [2,6]\n",
    "removeSeats = []\n",
    "for num in S:\n",
    "  if num-K >= 1:\n",
    "    minNum = num-K\n",
    "  else:\n",
    "    minNum = 1\n",
    "  maxNum = num+K\n",
    "  removeSeats.extend([y for y in range(minNum,maxNum+1)])\n",
    "seatsRemaining = list(set(seats)-set(removeSeats))\n",
    "seatsRemaining.sort()\n",
    "print(seatsRemaining)\n",
    "for i,num in enumerate(seatsRemaining):\n",
    "  if num-K not in seatsRemaining and num+K not in seatsRemaining:\n",
    "    print(\"Seat is available\", num)\n",
    "  elif num-K not in seatsRemaining and num+K in seatsRemaining:\n",
    "    print('Seats is available',num)\n",
    "    seatsRemaining = seatsRemaining[i:i+K]\n",
    "seatsRemaining\n",
    "\n",
    "\n"
   ]
  },
  {
   "cell_type": "code",
   "execution_count": null,
   "metadata": {},
   "outputs": [],
   "source": []
  },
  {
   "cell_type": "code",
   "execution_count": null,
   "metadata": {},
   "outputs": [],
   "source": []
  }
 ],
 "metadata": {
  "kernelspec": {
   "display_name": "Python 3",
   "language": "python",
   "name": "python3"
  },
  "language_info": {
   "codemirror_mode": {
    "name": "ipython",
    "version": 3
   },
   "file_extension": ".py",
   "mimetype": "text/x-python",
   "name": "python",
   "nbconvert_exporter": "python",
   "pygments_lexer": "ipython3",
   "version": "3.10.13"
  }
 },
 "nbformat": 4,
 "nbformat_minor": 2
}
