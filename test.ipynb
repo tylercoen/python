{
 "cells": [
  {
   "cell_type": "code",
   "execution_count": 7,
   "metadata": {},
   "outputs": [],
   "source": [
    "def getWrongAnswers(N: int, C: str) -> str:\n",
    "  newstr = ''\n",
    "  for letter in C:\n",
    "    if letter == 'B':\n",
    "      newstr = newstr+'A'\n",
    "    elif letter == 'A':\n",
    "      newstr = newstr+'B'\n",
    "    else:\n",
    "      pass\n",
    "  return newstr\n",
    "   "
   ]
  },
  {
   "cell_type": "code",
   "execution_count": 8,
   "metadata": {},
   "outputs": [
    {
     "data": {
      "text/plain": [
       "'ABA'"
      ]
     },
     "execution_count": 8,
     "metadata": {},
     "output_type": "execute_result"
    }
   ],
   "source": [
    "getWrongAnswers(3,'BAB')\n"
   ]
  },
  {
   "cell_type": "code",
   "execution_count": 10,
   "metadata": {},
   "outputs": [],
   "source": [
    "from typing import List"
   ]
  },
  {
   "cell_type": "code",
   "execution_count": 20,
   "metadata": {},
   "outputs": [],
   "source": [
    "def getHitProbability(R: int,C: int,G:List[List[int]])->float:\n",
    "  ones = 0\n",
    "  zeros = 0\n",
    "  for l in G:\n",
    "    for num in l:\n",
    "      if num == 1:\n",
    "        ones = ones+1\n",
    "      elif num == 0:\n",
    "        zeros = zeros+1\n",
    "  \n",
    "  return ones/(ones+zeros)"
   ]
  },
  {
   "cell_type": "code",
   "execution_count": 21,
   "metadata": {},
   "outputs": [
    {
     "data": {
      "text/plain": [
       "0.5"
      ]
     },
     "execution_count": 21,
     "metadata": {},
     "output_type": "execute_result"
    }
   ],
   "source": [
    "getHitProbability(2,3,[[0,0,1],[1,0,1]])"
   ]
  },
  {
   "cell_type": "code",
   "execution_count": 22,
   "metadata": {},
   "outputs": [],
   "source": [
    "def getAdditionalDinersCount(N: int, K: int, M: int, S: List[int])->int:\n",
    "  seats = [x for x in range(1,N+1)]\n",
    "  \n",
    "  return seats"
   ]
  },
  {
   "cell_type": "code",
   "execution_count": 65,
   "metadata": {},
   "outputs": [
    {
     "name": "stdout",
     "output_type": "stream",
     "text": [
      "4 Not here\n",
      "8 Not here\n"
     ]
    }
   ],
   "source": [
    "N = 10\n",
    "seats = [x for x in range(1,N+1)]\n",
    "K = 1\n",
    "S = [2,6]\n",
    "removeSeats = []\n",
    "for num in S:\n",
    "  if num-K >= 1:\n",
    "    minNum = num-K\n",
    "  else:\n",
    "    minNum = 1\n",
    "  maxNum = num+K\n",
    "  removeSeats.extend([y for y in range(minNum,maxNum+1)])\n",
    "seatsRemaining = list(set(seats)-set(removeSeats))\n",
    "seatsRemaining.sort()\n",
    "for i,num in seatsRemaining:\n",
    "  if i == -1 and num-K\n",
    "  if num+K & num-K not in seatsRemaining:\n",
    "    print(num, 'Not here')\n",
    "\n"
   ]
  },
  {
   "cell_type": "code",
   "execution_count": null,
   "metadata": {},
   "outputs": [],
   "source": []
  },
  {
   "cell_type": "code",
   "execution_count": null,
   "metadata": {},
   "outputs": [],
   "source": []
  }
 ],
 "metadata": {
  "kernelspec": {
   "display_name": "Python 3",
   "language": "python",
   "name": "python3"
  },
  "language_info": {
   "codemirror_mode": {
    "name": "ipython",
    "version": 3
   },
   "file_extension": ".py",
   "mimetype": "text/x-python",
   "name": "python",
   "nbconvert_exporter": "python",
   "pygments_lexer": "ipython3",
   "version": "3.10.13"
  }
 },
 "nbformat": 4,
 "nbformat_minor": 2
}
