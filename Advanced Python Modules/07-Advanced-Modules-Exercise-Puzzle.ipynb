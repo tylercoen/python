{
 "cells": [
  {
   "cell_type": "markdown",
   "metadata": {},
   "source": [
    "___\n",
    "\n",
    "<a href='https://www.udemy.com/user/joseportilla/'><img src='../../Pierian_Data_Logo.png'/></a>\n",
    "___\n",
    "<center><em>Content Copyright by Pierian Data</em></center>"
   ]
  },
  {
   "cell_type": "markdown",
   "metadata": {},
   "source": [
    "# Advanced Modules Exercise Puzzle\n",
    "\n",
    "It's time to test your new skills, this puzzle project will combine multiple skills sets, including unzipping files with Python, using os module to automatically search through lots of files.\n",
    "\n",
    "## Your Goal\n",
    "\n",
    "This is a puzzle, so we don't want to give you too much guidance and instead have you figure out things on your own.\n",
    "\n",
    "There is a .zip file called 'unzip_me_for_instructions.zip', unzip it, open the .txt file with Python, read the instructions and see if you can figure out what you need to do!\n",
    "\n",
    "**If you get stuck or don't know where to start, here is a [guide/hints](https://docs.google.com/document/d/1JxydUr4n4fSR0EwwuwT-aHia-yPK6r-oTBuVT2sqheo/edit?usp=sharing)**"
   ]
  },
  {
   "cell_type": "code",
   "execution_count": 8,
   "metadata": {},
   "outputs": [],
   "source": [
    "import zipfile"
   ]
  },
  {
   "cell_type": "code",
   "execution_count": 13,
   "metadata": {},
   "outputs": [],
   "source": [
    "with zipfile.ZipFile('unzip_me_for_instructions.zip','r') as unzipped_for_instructions:\n",
    "    unzipped_for_instructions.extractall('unzipped_for_instructions')"
   ]
  },
  {
   "cell_type": "code",
   "execution_count": 14,
   "metadata": {},
   "outputs": [
    {
     "data": {
      "text/plain": [
       "'/Users/tylercoen/Desktop/Certifications/Coding Courses/The Complete Python Bootcamp From Zero to Hero in Python/Advanced Python Modules'"
      ]
     },
     "execution_count": 14,
     "metadata": {},
     "output_type": "execute_result"
    }
   ],
   "source": [
    "pwd"
   ]
  },
  {
   "cell_type": "code",
   "execution_count": 15,
   "metadata": {},
   "outputs": [],
   "source": [
    "instructions = '/Users/tylercoen/Desktop/Certifications/Coding Courses/The Complete Python Bootcamp From Zero to Hero in Python/Advanced Python Modules/unzipped_for_instructions\\extracted_conent\\instructions.txt'"
   ]
  },
  {
   "cell_type": "code",
   "execution_count": 16,
   "metadata": {},
   "outputs": [],
   "source": [
    "f = open(instructions, 'w+')"
   ]
  },
  {
   "cell_type": "code",
   "execution_count": 17,
   "metadata": {},
   "outputs": [],
   "source": [
    "import os"
   ]
  },
  {
   "cell_type": "code",
   "execution_count": 18,
   "metadata": {},
   "outputs": [
    {
     "data": {
      "text/plain": [
       "['final_unzip',\n",
       " 'filetwo.txt',\n",
       " 'example.zip',\n",
       " 'comp_file.zip',\n",
       " 'Python Datetime Module.ipynb',\n",
       " '.DS_Store',\n",
       " 'Zipping and Unzipping Files.ipynb',\n",
       " '07-Advanced-Modules-Exercise-Puzzle.ipynb',\n",
       " 'Opening and Reading Files and Folders.ipynb',\n",
       " 'Timing Your Python Code.ipynb',\n",
       " 'Python Regex.ipynb',\n",
       " 'Python Collections Module.ipynb',\n",
       " 'unzipped_for_instructions',\n",
       " 'unzipped_for_instructions\\\\extracted_conent\\\\instructions.txt',\n",
       " 'unzip_me_for_instructions.zip',\n",
       " '.ipynb_checkpoints',\n",
       " 'fileone.txt',\n",
       " 'Python Debugger.ipynb',\n",
       " 'Python Math and Random Modules.ipynb',\n",
       " 'extracted_content']"
      ]
     },
     "execution_count": 18,
     "metadata": {},
     "output_type": "execute_result"
    }
   ],
   "source": [
    "os.listdir()"
   ]
  },
  {
   "cell_type": "code",
   "execution_count": 43,
   "metadata": {},
   "outputs": [
    {
     "data": {
      "text/plain": [
       "['Instructions.txt', 'Three', 'One', 'Two', 'Five', 'Four']"
      ]
     },
     "execution_count": 43,
     "metadata": {},
     "output_type": "execute_result"
    }
   ],
   "source": [
    "os.listdir('unzipped_for_instructions/extracted_content')"
   ]
  },
  {
   "cell_type": "code",
   "execution_count": 26,
   "metadata": {},
   "outputs": [],
   "source": [
    "import re\n",
    "regex = r\"(\\d{3}-\\d{3}-\\d{4})\""
   ]
  },
  {
   "cell_type": "code",
   "execution_count": 27,
   "metadata": {},
   "outputs": [
    {
     "data": {
      "text/plain": [
       "'(\\\\d{3}-\\\\d{3}-\\\\d{4})'"
      ]
     },
     "execution_count": 27,
     "metadata": {},
     "output_type": "execute_result"
    }
   ],
   "source": [
    "regex"
   ]
  },
  {
   "cell_type": "code",
   "execution_count": 32,
   "metadata": {},
   "outputs": [
    {
     "name": "stdout",
     "output_type": "stream",
     "text": [
      "[('unzipped_for_instructions/extracted_content/one', [], ['LFEATJAAYDC.txt', 'KCXGNQCZBLO.txt', 'KFIUZFERLET.txt', 'LIFDHOFKWOI.txt', 'HRQFTHKVJTL.txt', 'PLYCGPVEAWO.txt', 'JEHBLZPUPSP.txt', 'PDJMSMNKIRM.txt', 'LPNDVDXPZIG.txt', 'HMNZTLIFGPD.txt', 'KNBSKDREHQU.txt', 'KTXDHIOKAUI.txt', 'JQUOBKFUACN.txt', 'HFUTPPAXDIS.txt', 'PTOBBCJYURJ.txt', 'LHODFIKVTQA.txt', 'JLTXKIGCWDL.txt', 'HDOHZHFSTTK.txt', 'KMMLGJOWLGI.txt', 'JDLRVFCXYLU.txt', 'PHWAVPEKAER.txt', 'LDGOCUQJNNS.txt', 'JTHSNBNPQSE.txt', 'HVUTZEVMSBW.txt', 'PQNVCVJINAR.txt'])]\n"
     ]
    }
   ],
   "source": [
    "print(list(os.walk('unzipped_for_instructions/extracted_content/one')))"
   ]
  },
  {
   "cell_type": "code",
   "execution_count": 36,
   "metadata": {},
   "outputs": [],
   "source": [
    "files = []\n",
    "def list_files(path):\n",
    "    for root, directories, filenames in os.walk(path):\n",
    "        for filename in filenames:\n",
    "            files.append(os.path.join(root,filename))\n",
    "    return files"
   ]
  },
  {
   "cell_type": "code",
   "execution_count": 44,
   "metadata": {},
   "outputs": [],
   "source": [
    "folder_one = list_files('unzipped_for_instructions/extracted_content/one')\n",
    "folder_two = list_files('unzipped_for_instructions/extracted_content/two')\n",
    "folder_three = list_files('unzipped_for_instructions/extracted_content/three')\n",
    "folder_four = list_files('unzipped_for_instructions/extracted_content/four')\n",
    "folder_five = list_files('unzipped_for_instructions/extracted_content/five')"
   ]
  },
  {
   "cell_type": "code",
   "execution_count": 45,
   "metadata": {},
   "outputs": [
    {
     "data": {
      "text/plain": [
       "['unzipped_for_instructions/extracted_content/one/LFEATJAAYDC.txt',\n",
       " 'unzipped_for_instructions/extracted_content/one/KCXGNQCZBLO.txt',\n",
       " 'unzipped_for_instructions/extracted_content/one/KFIUZFERLET.txt',\n",
       " 'unzipped_for_instructions/extracted_content/one/LIFDHOFKWOI.txt',\n",
       " 'unzipped_for_instructions/extracted_content/one/HRQFTHKVJTL.txt',\n",
       " 'unzipped_for_instructions/extracted_content/one/PLYCGPVEAWO.txt',\n",
       " 'unzipped_for_instructions/extracted_content/one/JEHBLZPUPSP.txt',\n",
       " 'unzipped_for_instructions/extracted_content/one/PDJMSMNKIRM.txt',\n",
       " 'unzipped_for_instructions/extracted_content/one/LPNDVDXPZIG.txt',\n",
       " 'unzipped_for_instructions/extracted_content/one/HMNZTLIFGPD.txt',\n",
       " 'unzipped_for_instructions/extracted_content/one/KNBSKDREHQU.txt',\n",
       " 'unzipped_for_instructions/extracted_content/one/KTXDHIOKAUI.txt',\n",
       " 'unzipped_for_instructions/extracted_content/one/JQUOBKFUACN.txt',\n",
       " 'unzipped_for_instructions/extracted_content/one/HFUTPPAXDIS.txt',\n",
       " 'unzipped_for_instructions/extracted_content/one/PTOBBCJYURJ.txt',\n",
       " 'unzipped_for_instructions/extracted_content/one/LHODFIKVTQA.txt',\n",
       " 'unzipped_for_instructions/extracted_content/one/JLTXKIGCWDL.txt',\n",
       " 'unzipped_for_instructions/extracted_content/one/HDOHZHFSTTK.txt',\n",
       " 'unzipped_for_instructions/extracted_content/one/KMMLGJOWLGI.txt',\n",
       " 'unzipped_for_instructions/extracted_content/one/JDLRVFCXYLU.txt',\n",
       " 'unzipped_for_instructions/extracted_content/one/PHWAVPEKAER.txt',\n",
       " 'unzipped_for_instructions/extracted_content/one/LDGOCUQJNNS.txt',\n",
       " 'unzipped_for_instructions/extracted_content/one/JTHSNBNPQSE.txt',\n",
       " 'unzipped_for_instructions/extracted_content/one/HVUTZEVMSBW.txt',\n",
       " 'unzipped_for_instructions/extracted_content/one/PQNVCVJINAR.txt',\n",
       " 'unzipped_for_instructions/extracted_content/one/LFEATJAAYDC.txt',\n",
       " 'unzipped_for_instructions/extracted_content/one/KCXGNQCZBLO.txt',\n",
       " 'unzipped_for_instructions/extracted_content/one/KFIUZFERLET.txt',\n",
       " 'unzipped_for_instructions/extracted_content/one/LIFDHOFKWOI.txt',\n",
       " 'unzipped_for_instructions/extracted_content/one/HRQFTHKVJTL.txt',\n",
       " 'unzipped_for_instructions/extracted_content/one/PLYCGPVEAWO.txt',\n",
       " 'unzipped_for_instructions/extracted_content/one/JEHBLZPUPSP.txt',\n",
       " 'unzipped_for_instructions/extracted_content/one/PDJMSMNKIRM.txt',\n",
       " 'unzipped_for_instructions/extracted_content/one/LPNDVDXPZIG.txt',\n",
       " 'unzipped_for_instructions/extracted_content/one/HMNZTLIFGPD.txt',\n",
       " 'unzipped_for_instructions/extracted_content/one/KNBSKDREHQU.txt',\n",
       " 'unzipped_for_instructions/extracted_content/one/KTXDHIOKAUI.txt',\n",
       " 'unzipped_for_instructions/extracted_content/one/JQUOBKFUACN.txt',\n",
       " 'unzipped_for_instructions/extracted_content/one/HFUTPPAXDIS.txt',\n",
       " 'unzipped_for_instructions/extracted_content/one/PTOBBCJYURJ.txt',\n",
       " 'unzipped_for_instructions/extracted_content/one/LHODFIKVTQA.txt',\n",
       " 'unzipped_for_instructions/extracted_content/one/JLTXKIGCWDL.txt',\n",
       " 'unzipped_for_instructions/extracted_content/one/HDOHZHFSTTK.txt',\n",
       " 'unzipped_for_instructions/extracted_content/one/KMMLGJOWLGI.txt',\n",
       " 'unzipped_for_instructions/extracted_content/one/JDLRVFCXYLU.txt',\n",
       " 'unzipped_for_instructions/extracted_content/one/PHWAVPEKAER.txt',\n",
       " 'unzipped_for_instructions/extracted_content/one/LDGOCUQJNNS.txt',\n",
       " 'unzipped_for_instructions/extracted_content/one/JTHSNBNPQSE.txt',\n",
       " 'unzipped_for_instructions/extracted_content/one/HVUTZEVMSBW.txt',\n",
       " 'unzipped_for_instructions/extracted_content/one/PQNVCVJINAR.txt',\n",
       " 'unzipped_for_instructions/extracted_content/one/LFEATJAAYDC.txt',\n",
       " 'unzipped_for_instructions/extracted_content/one/KCXGNQCZBLO.txt',\n",
       " 'unzipped_for_instructions/extracted_content/one/KFIUZFERLET.txt',\n",
       " 'unzipped_for_instructions/extracted_content/one/LIFDHOFKWOI.txt',\n",
       " 'unzipped_for_instructions/extracted_content/one/HRQFTHKVJTL.txt',\n",
       " 'unzipped_for_instructions/extracted_content/one/PLYCGPVEAWO.txt',\n",
       " 'unzipped_for_instructions/extracted_content/one/JEHBLZPUPSP.txt',\n",
       " 'unzipped_for_instructions/extracted_content/one/PDJMSMNKIRM.txt',\n",
       " 'unzipped_for_instructions/extracted_content/one/LPNDVDXPZIG.txt',\n",
       " 'unzipped_for_instructions/extracted_content/one/HMNZTLIFGPD.txt',\n",
       " 'unzipped_for_instructions/extracted_content/one/KNBSKDREHQU.txt',\n",
       " 'unzipped_for_instructions/extracted_content/one/KTXDHIOKAUI.txt',\n",
       " 'unzipped_for_instructions/extracted_content/one/JQUOBKFUACN.txt',\n",
       " 'unzipped_for_instructions/extracted_content/one/HFUTPPAXDIS.txt',\n",
       " 'unzipped_for_instructions/extracted_content/one/PTOBBCJYURJ.txt',\n",
       " 'unzipped_for_instructions/extracted_content/one/LHODFIKVTQA.txt',\n",
       " 'unzipped_for_instructions/extracted_content/one/JLTXKIGCWDL.txt',\n",
       " 'unzipped_for_instructions/extracted_content/one/HDOHZHFSTTK.txt',\n",
       " 'unzipped_for_instructions/extracted_content/one/KMMLGJOWLGI.txt',\n",
       " 'unzipped_for_instructions/extracted_content/one/JDLRVFCXYLU.txt',\n",
       " 'unzipped_for_instructions/extracted_content/one/PHWAVPEKAER.txt',\n",
       " 'unzipped_for_instructions/extracted_content/one/LDGOCUQJNNS.txt',\n",
       " 'unzipped_for_instructions/extracted_content/one/JTHSNBNPQSE.txt',\n",
       " 'unzipped_for_instructions/extracted_content/one/HVUTZEVMSBW.txt',\n",
       " 'unzipped_for_instructions/extracted_content/one/PQNVCVJINAR.txt',\n",
       " 'unzipped_for_instructions/extracted_content/two/HEORIXOTANT.txt',\n",
       " 'unzipped_for_instructions/extracted_content/two/SOFUJYXTIMK.txt',\n",
       " 'unzipped_for_instructions/extracted_content/two/HMZXPBOPRAE.txt',\n",
       " 'unzipped_for_instructions/extracted_content/two/OMWIMVRCMYM.txt',\n",
       " 'unzipped_for_instructions/extracted_content/two/OHZOUOSFJQC.txt',\n",
       " 'unzipped_for_instructions/extracted_content/two/OKWFOOYTXFU.txt',\n",
       " 'unzipped_for_instructions/extracted_content/two/LVMBINRBJXL.txt',\n",
       " 'unzipped_for_instructions/extracted_content/two/LSQSTGPIGIY.txt',\n",
       " 'unzipped_for_instructions/extracted_content/two/OIHMLGMWTHL.txt',\n",
       " 'unzipped_for_instructions/extracted_content/two/GQTJJORZBXY.txt',\n",
       " 'unzipped_for_instructions/extracted_content/two/HARDNJGDRBC.txt',\n",
       " 'unzipped_for_instructions/extracted_content/two/OYMAGXAGWHJ.txt',\n",
       " 'unzipped_for_instructions/extracted_content/two/HMUTDOVNYTV.txt',\n",
       " 'unzipped_for_instructions/extracted_content/two/LYZEQCVYNEZ.txt',\n",
       " 'unzipped_for_instructions/extracted_content/two/GMMQQUBMJNR.txt',\n",
       " 'unzipped_for_instructions/extracted_content/two/GTOTCIWMDBY.txt',\n",
       " 'unzipped_for_instructions/extracted_content/two/LULTNYAQEJG.txt',\n",
       " 'unzipped_for_instructions/extracted_content/two/HTOHSTYXTCO.txt',\n",
       " 'unzipped_for_instructions/extracted_content/two/SJMJLDGPBSJ.txt',\n",
       " 'unzipped_for_instructions/extracted_content/two/LCJZYDHBFRM.txt',\n",
       " 'unzipped_for_instructions/extracted_content/two/SPDZYGDHEWO.txt',\n",
       " 'unzipped_for_instructions/extracted_content/two/SIKFPPLCJDN.txt',\n",
       " 'unzipped_for_instructions/extracted_content/two/GXYSEPAFRTP.txt',\n",
       " 'unzipped_for_instructions/extracted_content/two/SWOFXREEHWA.txt',\n",
       " 'unzipped_for_instructions/extracted_content/two/GKQBQRCTNNK.txt',\n",
       " 'unzipped_for_instructions/extracted_content/three/VSXFSTABZDY.txt',\n",
       " 'unzipped_for_instructions/extracted_content/three/YDQFMWXOUMW.txt',\n",
       " 'unzipped_for_instructions/extracted_content/three/YQBIUHSUEVW.txt',\n",
       " 'unzipped_for_instructions/extracted_content/three/XAJMCPEWFNI.txt',\n",
       " 'unzipped_for_instructions/extracted_content/three/ZXEZRQXZNPG.txt',\n",
       " 'unzipped_for_instructions/extracted_content/three/ZKQJXAYKPVD.txt',\n",
       " 'unzipped_for_instructions/extracted_content/three/XVMPVSVYKFR.txt',\n",
       " 'unzipped_for_instructions/extracted_content/three/XHZPVUQTXIO.txt',\n",
       " 'unzipped_for_instructions/extracted_content/three/YYIZGBTQHZP.txt',\n",
       " 'unzipped_for_instructions/extracted_content/three/VCFJCGJFBIH.txt',\n",
       " 'unzipped_for_instructions/extracted_content/three/VVHFVZUNLOO.txt',\n",
       " 'unzipped_for_instructions/extracted_content/three/VVKGWLRMHLU.txt',\n",
       " 'unzipped_for_instructions/extracted_content/three/XJCWENFFGHB.txt',\n",
       " 'unzipped_for_instructions/extracted_content/three/XFHJOTNPEJG.txt',\n",
       " 'unzipped_for_instructions/extracted_content/three/ZOWVXWPOGWP.txt',\n",
       " 'unzipped_for_instructions/extracted_content/three/ZXIBJMPROKW.txt',\n",
       " 'unzipped_for_instructions/extracted_content/three/VAQIJTDOFUJ.txt',\n",
       " 'unzipped_for_instructions/extracted_content/three/YCESZHJDBXH.txt',\n",
       " 'unzipped_for_instructions/extracted_content/three/YQRNCMNFFHW.txt',\n",
       " 'unzipped_for_instructions/extracted_content/three/ZEZKKRBIZEB.txt',\n",
       " 'unzipped_for_instructions/extracted_content/four/WHTOHQUWXIN.txt',\n",
       " 'unzipped_for_instructions/extracted_content/four/QDDETWBHJYC.txt',\n",
       " 'unzipped_for_instructions/extracted_content/four/WNJISWPEBRS.txt',\n",
       " 'unzipped_for_instructions/extracted_content/four/WFSKPTXPFCH.txt',\n",
       " 'unzipped_for_instructions/extracted_content/four/EMTGPSXQEJX.txt',\n",
       " 'unzipped_for_instructions/extracted_content/four/TWUOYFCCYBQ.txt',\n",
       " 'unzipped_for_instructions/extracted_content/four/QTDYYIFPHAU.txt',\n",
       " 'unzipped_for_instructions/extracted_content/four/TAKNAVDMZKV.txt',\n",
       " 'unzipped_for_instructions/extracted_content/four/RYNXFYXMKHG.txt',\n",
       " 'unzipped_for_instructions/extracted_content/four/ROICPTWKXDX.txt',\n",
       " 'unzipped_for_instructions/extracted_content/four/QCWCFLKNZMN.txt',\n",
       " 'unzipped_for_instructions/extracted_content/four/EXVQSVBQQQH.txt',\n",
       " 'unzipped_for_instructions/extracted_content/four/THPNEGKTJWI.txt',\n",
       " 'unzipped_for_instructions/extracted_content/four/TJFMLJODVAD.txt',\n",
       " 'unzipped_for_instructions/extracted_content/four/QCTCKDIBBVG.txt',\n",
       " 'unzipped_for_instructions/extracted_content/four/TKCZSFQNJTX.txt',\n",
       " 'unzipped_for_instructions/extracted_content/four/WXDJDOGZEHN.txt',\n",
       " 'unzipped_for_instructions/extracted_content/four/QVNJULGXNUM.txt',\n",
       " 'unzipped_for_instructions/extracted_content/four/RSXOTNGKBML.txt',\n",
       " 'unzipped_for_instructions/extracted_content/four/EPRNUHRSESC.txt',\n",
       " 'unzipped_for_instructions/extracted_content/four/ECIOBYCDVFI.txt',\n",
       " 'unzipped_for_instructions/extracted_content/four/RXDARIDGKBF.txt',\n",
       " 'unzipped_for_instructions/extracted_content/four/REAXWSOIQDY.txt',\n",
       " 'unzipped_for_instructions/extracted_content/four/WYDLGSGGXKV.txt',\n",
       " 'unzipped_for_instructions/extracted_content/four/ESDIZXHYCVY.txt',\n",
       " 'unzipped_for_instructions/extracted_content/five/ESIZWBHMGDP.txt',\n",
       " 'unzipped_for_instructions/extracted_content/five/BUGKBZWRRVI.txt',\n",
       " 'unzipped_for_instructions/extracted_content/five/ARLKFCWIAJE.txt',\n",
       " 'unzipped_for_instructions/extracted_content/five/EYTCGIOYWIW.txt',\n",
       " 'unzipped_for_instructions/extracted_content/five/APJKSRITGGX.txt',\n",
       " 'unzipped_for_instructions/extracted_content/five/AXJGVPVEFAS.txt',\n",
       " 'unzipped_for_instructions/extracted_content/five/CSCLFZCDYYC.txt',\n",
       " 'unzipped_for_instructions/extracted_content/five/CAHBEVSVDDN.txt',\n",
       " 'unzipped_for_instructions/extracted_content/five/BVBURZZCAPR.txt',\n",
       " 'unzipped_for_instructions/extracted_content/five/ETCUEXWNBCF.txt',\n",
       " 'unzipped_for_instructions/extracted_content/five/CRFSDGYFSHA.txt',\n",
       " 'unzipped_for_instructions/extracted_content/five/DYOPIIVMZOO.txt',\n",
       " 'unzipped_for_instructions/extracted_content/five/DDLASODUVPX.txt',\n",
       " 'unzipped_for_instructions/extracted_content/five/CXBVCTRBBIE.txt',\n",
       " 'unzipped_for_instructions/extracted_content/five/COMGMZBJAYE.txt',\n",
       " 'unzipped_for_instructions/extracted_content/five/EAAOEPSAWMQ.txt',\n",
       " 'unzipped_for_instructions/extracted_content/five/DZUWWXYIAEL.txt',\n",
       " 'unzipped_for_instructions/extracted_content/five/EIPWXMQZJKU.txt',\n",
       " 'unzipped_for_instructions/extracted_content/five/DHZBAAYEADM.txt',\n",
       " 'unzipped_for_instructions/extracted_content/five/BSKJDRNEZQM.txt',\n",
       " 'unzipped_for_instructions/extracted_content/five/AQKATDFGXTS.txt',\n",
       " 'unzipped_for_instructions/extracted_content/five/BTYWAHLHKBM.txt',\n",
       " 'unzipped_for_instructions/extracted_content/five/AEITMYIRQLP.txt',\n",
       " 'unzipped_for_instructions/extracted_content/five/BNUQEHCFRTG.txt',\n",
       " 'unzipped_for_instructions/extracted_content/five/DQPZQLBCJYP.txt']"
      ]
     },
     "execution_count": 45,
     "metadata": {},
     "output_type": "execute_result"
    }
   ],
   "source": [
    "folder_one"
   ]
  },
  {
   "cell_type": "code",
   "execution_count": 63,
   "metadata": {},
   "outputs": [],
   "source": [
    "def find_number(file):\n",
    "    f = open(file,'r')\n",
    "    f_contents = f.read()\n",
    "    matches = re.findall(regex,f_contents)\n",
    "    if matches:\n",
    "        for match in matches:\n",
    "            print(match)"
   ]
  },
  {
   "cell_type": "code",
   "execution_count": 42,
   "metadata": {},
   "outputs": [],
   "source": []
  },
  {
   "cell_type": "code",
   "execution_count": 64,
   "metadata": {},
   "outputs": [
    {
     "name": "stdout",
     "output_type": "stream",
     "text": [
      "719-266-2837\n"
     ]
    }
   ],
   "source": [
    "for file in folder_one:\n",
    "    find_number(file)"
   ]
  },
  {
   "cell_type": "code",
   "execution_count": 65,
   "metadata": {},
   "outputs": [
    {
     "name": "stdout",
     "output_type": "stream",
     "text": [
      "719-266-2837\n"
     ]
    }
   ],
   "source": [
    "for file in folder_two:\n",
    "    find_number(file)"
   ]
  },
  {
   "cell_type": "code",
   "execution_count": 66,
   "metadata": {},
   "outputs": [
    {
     "name": "stdout",
     "output_type": "stream",
     "text": [
      "719-266-2837\n"
     ]
    }
   ],
   "source": [
    "for file in folder_three:\n",
    "    find_number(file)"
   ]
  },
  {
   "cell_type": "code",
   "execution_count": 67,
   "metadata": {},
   "outputs": [
    {
     "name": "stdout",
     "output_type": "stream",
     "text": [
      "719-266-2837\n"
     ]
    }
   ],
   "source": [
    "for file in folder_four:\n",
    "    find_number(file)"
   ]
  },
  {
   "cell_type": "code",
   "execution_count": 68,
   "metadata": {},
   "outputs": [
    {
     "name": "stdout",
     "output_type": "stream",
     "text": [
      "719-266-2837\n"
     ]
    }
   ],
   "source": [
    "for file in folder_five:\n",
    "    find_number(file)"
   ]
  },
  {
   "cell_type": "code",
   "execution_count": null,
   "metadata": {},
   "outputs": [],
   "source": []
  },
  {
   "cell_type": "code",
   "execution_count": null,
   "metadata": {},
   "outputs": [],
   "source": []
  },
  {
   "cell_type": "code",
   "execution_count": null,
   "metadata": {},
   "outputs": [],
   "source": []
  },
  {
   "cell_type": "code",
   "execution_count": 50,
   "metadata": {},
   "outputs": [],
   "source": [
    "# Another solution:\n",
    "import shutil\n",
    "shutil.unpack_archive('unzip_me_for_instructions.zip','','zip')"
   ]
  },
  {
   "cell_type": "code",
   "execution_count": 52,
   "metadata": {},
   "outputs": [
    {
     "data": {
      "text/plain": [
       "'/Users/tylercoen/Desktop/Certifications/Coding Courses/The Complete Python Bootcamp From Zero to Hero in Python/Advanced Python Modules'"
      ]
     },
     "execution_count": 52,
     "metadata": {},
     "output_type": "execute_result"
    }
   ],
   "source": [
    "pwd"
   ]
  },
  {
   "cell_type": "code",
   "execution_count": 53,
   "metadata": {},
   "outputs": [
    {
     "name": "stdout",
     "output_type": "stream",
     "text": [
      "Good work on unzipping the file!\n",
      "You should now see 5 folders, each with a lot of random .txt files.\n",
      "Within one of these text files is a telephone number formated ###-###-#### \n",
      "Use the Python os module and regular expressions to iterate through each file, open it, and search for a telephone number.\n",
      "Good luck!\n"
     ]
    }
   ],
   "source": [
    "with open('extracted_content/Instructions.txt') as f:\n",
    "    content = f.read()\n",
    "    print(content)"
   ]
  },
  {
   "cell_type": "code",
   "execution_count": 55,
   "metadata": {},
   "outputs": [],
   "source": [
    "def search(file,regex):\n",
    "    f = open(file, 'r')\n",
    "    text = f.read()\n",
    "    \n",
    "    if re.search(regex,text):\n",
    "        return re.search(regex,text)\n",
    "    else:\n",
    "        pass"
   ]
  },
  {
   "cell_type": "code",
   "execution_count": 57,
   "metadata": {},
   "outputs": [],
   "source": [
    "results = []\n",
    "for folder,sub_folders,files in os.walk(os.getcwd()+'/extracted_content'):\n",
    "    for f in files:\n",
    "        full_path = folder+'/'+f\n",
    "        \n",
    "        results.append(search(full_path,regex))"
   ]
  },
  {
   "cell_type": "code",
   "execution_count": 61,
   "metadata": {},
   "outputs": [
    {
     "name": "stdout",
     "output_type": "stream",
     "text": [
      "719-266-2837\n"
     ]
    }
   ],
   "source": [
    "for r in results:\n",
    "    if r != None:\n",
    "        print(r.group())"
   ]
  },
  {
   "cell_type": "code",
   "execution_count": null,
   "metadata": {},
   "outputs": [],
   "source": []
  }
 ],
 "metadata": {
  "anaconda-cloud": {},
  "kernelspec": {
   "display_name": "Python 3 (ipykernel)",
   "language": "python",
   "name": "python3"
  },
  "language_info": {
   "codemirror_mode": {
    "name": "ipython",
    "version": 3
   },
   "file_extension": ".py",
   "mimetype": "text/x-python",
   "name": "python",
   "nbconvert_exporter": "python",
   "pygments_lexer": "ipython3",
   "version": "3.11.4"
  }
 },
 "nbformat": 4,
 "nbformat_minor": 2
}
