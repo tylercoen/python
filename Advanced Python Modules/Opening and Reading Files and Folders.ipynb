{
 "cells": [
  {
   "cell_type": "code",
   "execution_count": 1,
   "id": "7b1f18fa",
   "metadata": {},
   "outputs": [
    {
     "data": {
      "text/plain": [
       "'/Users/tylercoen/Desktop/Certifications/Coding Courses/The Complete Python Bootcamp From Zero to Hero in Python/Advanced Python Modules'"
      ]
     },
     "execution_count": 1,
     "metadata": {},
     "output_type": "execute_result"
    }
   ],
   "source": [
    "pwd"
   ]
  },
  {
   "cell_type": "code",
   "execution_count": 2,
   "id": "a72482a0",
   "metadata": {},
   "outputs": [],
   "source": [
    "f = open('practice.txt','w+')\n",
    "f.write('This is a test string')\n",
    "f.close()"
   ]
  },
  {
   "cell_type": "code",
   "execution_count": 3,
   "id": "549b849a",
   "metadata": {},
   "outputs": [],
   "source": [
    "import os"
   ]
  },
  {
   "cell_type": "code",
   "execution_count": 4,
   "id": "6b27438f",
   "metadata": {},
   "outputs": [
    {
     "data": {
      "text/plain": [
       "'/Users/tylercoen/Desktop/Certifications/Coding Courses/The Complete Python Bootcamp From Zero to Hero in Python/Advanced Python Modules'"
      ]
     },
     "execution_count": 4,
     "metadata": {},
     "output_type": "execute_result"
    }
   ],
   "source": [
    "os.getcwd()"
   ]
  },
  {
   "cell_type": "code",
   "execution_count": 5,
   "id": "0e18007a",
   "metadata": {},
   "outputs": [
    {
     "data": {
      "text/plain": [
       "['practice.txt',\n",
       " 'Opening and Reading Files and Folders.ipynb',\n",
       " 'Python Collections Module.ipynb',\n",
       " '.ipynb_checkpoints']"
      ]
     },
     "execution_count": 5,
     "metadata": {},
     "output_type": "execute_result"
    }
   ],
   "source": [
    "os.listdir()"
   ]
  },
  {
   "cell_type": "code",
   "execution_count": 6,
   "id": "adc1b7c4",
   "metadata": {},
   "outputs": [
    {
     "data": {
      "text/plain": [
       "['.DS_Store',\n",
       " 'Errors and Exceptions Handling',\n",
       " 'Python Setup',\n",
       " 'Python Generators',\n",
       " 'Methods and Functions',\n",
       " 'Modules and Packages',\n",
       " 'PowerPoint Slides',\n",
       " 'Python Statements',\n",
       " 'Python Object and Data Structure Basics',\n",
       " 'Object Oriented Programming',\n",
       " 'Milestone Project 1',\n",
       " 'Advanced Python Modules',\n",
       " 'Milestone Project - 2',\n",
       " '.ipynb_checkpoints',\n",
       " 'Python Decorators',\n",
       " 'Python Comparison Operators']"
      ]
     },
     "execution_count": 6,
     "metadata": {},
     "output_type": "execute_result"
    }
   ],
   "source": [
    "os.listdir('/Users/tylercoen/Desktop/Certifications/Coding Courses/The Complete Python Bootcamp From Zero to Hero in Python/')"
   ]
  },
  {
   "cell_type": "code",
   "execution_count": 7,
   "id": "80ce7eda",
   "metadata": {},
   "outputs": [],
   "source": [
    "import shutil"
   ]
  },
  {
   "cell_type": "code",
   "execution_count": 8,
   "id": "00dd25b1",
   "metadata": {},
   "outputs": [
    {
     "data": {
      "text/plain": [
       "'/Users/tylercoen/Desktop/practice.txt'"
      ]
     },
     "execution_count": 8,
     "metadata": {},
     "output_type": "execute_result"
    }
   ],
   "source": [
    "shutil.move('practice.txt','/Users/tylercoen/Desktop')"
   ]
  },
  {
   "cell_type": "code",
   "execution_count": 10,
   "id": "292bab2d",
   "metadata": {},
   "outputs": [
    {
     "data": {
      "text/plain": [
       "['IMG_4534.jpeg',\n",
       " 'NIST.SP.800-207.pdf',\n",
       " '~$LCH CASE EXECUTIVE SUMMARY.docx',\n",
       " '~$EC614 Week 1 Response #2.docx',\n",
       " 'Axiologic Solutions',\n",
       " '2433 Freetown Dr Camera Installation HOA Applicatio.pptx',\n",
       " 'Screenshot 2023-04-03 at 9.50.47 AM.png',\n",
       " 'Screen Shot 2022-02-15 at 9.58.39 AM.png',\n",
       " '.ubuntu-20.04-desktop-amd64.iso.icloud',\n",
       " 'Screenshot 2023-08-04 at 8.45.40 AM.png',\n",
       " 'Coen PMI Receipt Aug 2022.png',\n",
       " '~$EC614 Syllabus AUG 2017 new.docx',\n",
       " 'Resized_20220627_065827.jpeg',\n",
       " '~$en Business Ethical Analysis.docx',\n",
       " '.DS_Store',\n",
       " 'Tuition Assistance Form_Fillable.pdf',\n",
       " 'Northgard.app',\n",
       " 'IMG_4535.jpeg',\n",
       " '.localized',\n",
       " 'Tuition Assistance Form_Coen_SAFe_Membership_Renewal (Initial)_PMO approved.pdf',\n",
       " 'Form 8TA-AJ 2020.pdf',\n",
       " '~$search Proposal Assignment.docx',\n",
       " '~$I 5051 Final Paper References.docx',\n",
       " '~$EC614_FinalAssignment_Coen.docx',\n",
       " '~$EC614 Week 7 Post.docx',\n",
       " 'Address-tsc8212-2022-02-15T192340.0336.pdf',\n",
       " 'Screenshot 2023-04-12 at 11.19.56 AM.png',\n",
       " 'Eddie.png',\n",
       " 'Other',\n",
       " 'practice.txt',\n",
       " 'BDBS Business Licence Vienna Va 2021.pdf',\n",
       " 'Divorce Settlement Agreement 2018.pdf',\n",
       " 'WindowsSupport',\n",
       " 'Old Firefox Data',\n",
       " 'Resized_20220627_065841.jpeg',\n",
       " 'Screenshot 2023-04-12 at 10.39.09 AM.png',\n",
       " '~$ST581_Coen_Tyler_Research_Paper.docx',\n",
       " 'Budget.xlsx',\n",
       " '.2018 Taxes.dmg.icloud',\n",
       " 'IMG_4533.jpeg',\n",
       " 'Social Media Kit.zip',\n",
       " 'PICS',\n",
       " 'Black Dog Technologies LLC Bankruptcy Filing.pdf',\n",
       " 'Win10_2004_English_x64 (1).iso',\n",
       " '~$en - Tesla Case Study.docx',\n",
       " '~$oup 10 - Group Problem Set #3.docx',\n",
       " '~$ENMethodology.docx',\n",
       " 'Screenshot 2023-06-02 at 11.15.50 AM.png',\n",
       " '~$ST581 Syllabus .docx',\n",
       " 'Relocated Items',\n",
       " 'Grandpa',\n",
       " 'IMG_3417.png',\n",
       " '~$rus Health Case - Coen.docx',\n",
       " '~$TL652 Week 3 Forum.docx',\n",
       " 'IMG_4253.jpeg',\n",
       " 'Screenshot 2023-08-01 at 12.09.50 PM.png',\n",
       " '~$TL652 Week 2 Resources.docx',\n",
       " 'Screen Shot 2022-06-27 at 1.57.37 PM.png',\n",
       " '~$estions for interviews.docx',\n",
       " \"~$rtin Luther's Tower Experience.docx\",\n",
       " 'Screenshot 2023-04-20 at 8.44.59 AM.png',\n",
       " '~$en - Lego Case Assignment.docx',\n",
       " 'VA Dept of Tax Payment .png',\n",
       " '~$EC614 Week 4 Lesson.docx',\n",
       " 'cousin-eddie.jpeg',\n",
       " '~$en - Moral Magic of Consent and the Power of Promising.docx',\n",
       " 'Screen Shot 2022-02-09 at 5.20.22 PM.png',\n",
       " '~$TL652_ResearchPaper_Coen.docx',\n",
       " 'Screenshot 2023-08-18 at 11.31.45 AM.png',\n",
       " '~$ST581 Module 1 Questions.docx',\n",
       " '~$I5051_FinalPaper_Coen.docx',\n",
       " 'Work',\n",
       " 'Personal Bankruptcy',\n",
       " '2019 Taxes',\n",
       " '\\x92Civilization VI',\n",
       " 'C-RISC',\n",
       " '~$en_INTL652_ResearchProposal.docx',\n",
       " '~$ENLiteratureReview.docx',\n",
       " 'SBA Forgiveness Application - 3245-0407-SBA-Form-3508-PPP 15May2020.pdf',\n",
       " 'Certifications',\n",
       " 'Signed Written Consent Black Dog Technologies, LLC.pdf',\n",
       " 'docs for lawyer.zip',\n",
       " '~$dule 3 Required Questions.docx',\n",
       " 'Business Stuff',\n",
       " 'Pics for AI',\n",
       " '~$en Welch Paper.docx',\n",
       " '~$EC614 Week 2 Lesson.docx',\n",
       " '~$TL652 Week 6 Resources.docx',\n",
       " '~$EC614 Week 5 Post.docx',\n",
       " 'Coen DD 214 Member 1.pdf',\n",
       " '2020 1095B Coen.pdf',\n",
       " '~$ST581_Coen_Tyler_Research_Proposal.docx',\n",
       " '~$ST 581 Final References.docx',\n",
       " 'School',\n",
       " '~$en Week 3 Post.docx',\n",
       " '~$ST 581 Module 2 Required Questions.docx',\n",
       " '2433 Freetown Rd Reston, VA',\n",
       " '1972 GMC Sprint.pdf',\n",
       " '~$EC614_Specialized_Project_Coen.docx',\n",
       " 'OfficeSuite HD Meeting',\n",
       " 'Wifi Password.docx',\n",
       " 'Canon MG3600 series On-screen Manual',\n",
       " 'Job Search Stuff',\n",
       " '~$TL652 Week 4 References.docx',\n",
       " 'Important.dmg']"
      ]
     },
     "execution_count": 10,
     "metadata": {},
     "output_type": "execute_result"
    }
   ],
   "source": [
    "os.listdir('/Users/tylercoen/Desktop/')"
   ]
  },
  {
   "cell_type": "code",
   "execution_count": 11,
   "id": "d8896a43",
   "metadata": {},
   "outputs": [],
   "source": [
    "os.unlink('/Users/tylercoen/Desktop/practice.txt')"
   ]
  },
  {
   "cell_type": "code",
   "execution_count": 12,
   "id": "4050fed9",
   "metadata": {},
   "outputs": [],
   "source": [
    "import send2trash"
   ]
  },
  {
   "cell_type": "code",
   "execution_count": 13,
   "id": "41a0c862",
   "metadata": {},
   "outputs": [
    {
     "data": {
      "text/plain": [
       "['.DS_Store',\n",
       " 'Errors and Exceptions Handling',\n",
       " 'Python Setup',\n",
       " 'Python Generators',\n",
       " 'Methods and Functions',\n",
       " 'Modules and Packages',\n",
       " 'PowerPoint Slides',\n",
       " 'Python Statements',\n",
       " 'Python Object and Data Structure Basics',\n",
       " 'Object Oriented Programming',\n",
       " 'Milestone Project 1',\n",
       " 'Advanced Python Modules',\n",
       " 'Milestone Project - 2',\n",
       " '.ipynb_checkpoints',\n",
       " 'Python Decorators',\n",
       " 'Python Comparison Operators']"
      ]
     },
     "execution_count": 13,
     "metadata": {},
     "output_type": "execute_result"
    }
   ],
   "source": [
    "os.listdir('/Users/tylercoen/Desktop/Certifications/Coding Courses/The Complete Python Bootcamp From Zero to Hero in Python/')"
   ]
  },
  {
   "cell_type": "code",
   "execution_count": null,
   "id": "de0e47a1",
   "metadata": {},
   "outputs": [],
   "source": []
  }
 ],
 "metadata": {
  "kernelspec": {
   "display_name": "Python 3 (ipykernel)",
   "language": "python",
   "name": "python3"
  },
  "language_info": {
   "codemirror_mode": {
    "name": "ipython",
    "version": 3
   },
   "file_extension": ".py",
   "mimetype": "text/x-python",
   "name": "python",
   "nbconvert_exporter": "python",
   "pygments_lexer": "ipython3",
   "version": "3.11.4"
  }
 },
 "nbformat": 4,
 "nbformat_minor": 5
}
