{
 "cells": [
  {
   "cell_type": "code",
   "execution_count": 1,
   "id": "5065ff4d",
   "metadata": {},
   "outputs": [],
   "source": [
    "import chart_studio.plotly as py"
   ]
  },
  {
   "cell_type": "code",
   "execution_count": 2,
   "id": "beed1bf8",
   "metadata": {},
   "outputs": [],
   "source": [
    "#colorscale='ylorbr'\n",
    "#projection={type='mercator'}"
   ]
  },
  {
   "cell_type": "code",
   "execution_count": 17,
   "id": "15d2fb58",
   "metadata": {},
   "outputs": [],
   "source": [
    "import pandas as pd\n",
    "import numpy as np\n",
    "%matplotlib inline"
   ]
  },
  {
   "cell_type": "code",
   "execution_count": 4,
   "id": "1a8c6f73",
   "metadata": {},
   "outputs": [],
   "source": [
    "from plotly import __version__"
   ]
  },
  {
   "cell_type": "code",
   "execution_count": 5,
   "id": "350925e7",
   "metadata": {},
   "outputs": [
    {
     "name": "stdout",
     "output_type": "stream",
     "text": [
      "5.9.0\n"
     ]
    }
   ],
   "source": [
    "print(__version__)"
   ]
  },
  {
   "cell_type": "code",
   "execution_count": 6,
   "id": "973a980a",
   "metadata": {},
   "outputs": [],
   "source": [
    "import cufflinks as cf"
   ]
  },
  {
   "cell_type": "code",
   "execution_count": 8,
   "id": "cde02dbb",
   "metadata": {},
   "outputs": [],
   "source": [
    "from plotly.offline import download_plotlyjs,init_notebook_mode,plot,iplot"
   ]
  },
  {
   "cell_type": "code",
   "execution_count": 9,
   "id": "b28d6937",
   "metadata": {},
   "outputs": [
    {
     "data": {
      "text/html": [
       "        <script type=\"text/javascript\">\n",
       "        window.PlotlyConfig = {MathJaxConfig: 'local'};\n",
       "        if (window.MathJax && window.MathJax.Hub && window.MathJax.Hub.Config) {window.MathJax.Hub.Config({SVG: {font: \"STIX-Web\"}});}\n",
       "        if (typeof require !== 'undefined') {\n",
       "        require.undef(\"plotly\");\n",
       "        requirejs.config({\n",
       "            paths: {\n",
       "                'plotly': ['https://cdn.plot.ly/plotly-2.12.1.min']\n",
       "            }\n",
       "        });\n",
       "        require(['plotly'], function(Plotly) {\n",
       "            window._Plotly = Plotly;\n",
       "        });\n",
       "        }\n",
       "        </script>\n",
       "        "
      ]
     },
     "metadata": {},
     "output_type": "display_data"
    }
   ],
   "source": [
    "init_notebook_mode(connected=True)"
   ]
  },
  {
   "cell_type": "code",
   "execution_count": 10,
   "id": "a71c0ddc",
   "metadata": {},
   "outputs": [
    {
     "data": {
      "text/html": [
       "        <script type=\"text/javascript\">\n",
       "        window.PlotlyConfig = {MathJaxConfig: 'local'};\n",
       "        if (window.MathJax && window.MathJax.Hub && window.MathJax.Hub.Config) {window.MathJax.Hub.Config({SVG: {font: \"STIX-Web\"}});}\n",
       "        if (typeof require !== 'undefined') {\n",
       "        require.undef(\"plotly\");\n",
       "        requirejs.config({\n",
       "            paths: {\n",
       "                'plotly': ['https://cdn.plot.ly/plotly-2.12.1.min']\n",
       "            }\n",
       "        });\n",
       "        require(['plotly'], function(Plotly) {\n",
       "            window._Plotly = Plotly;\n",
       "        });\n",
       "        }\n",
       "        </script>\n",
       "        "
      ]
     },
     "metadata": {},
     "output_type": "display_data"
    }
   ],
   "source": [
    "cf.go_offline()"
   ]
  },
  {
   "cell_type": "code",
   "execution_count": 12,
   "id": "93e3e8a3",
   "metadata": {},
   "outputs": [],
   "source": [
    "# DATA\n",
    "df = pd.DataFrame(np.random.randn(100,4),columns='A B C D'.split())"
   ]
  },
  {
   "cell_type": "code",
   "execution_count": 13,
   "id": "312b95e5",
   "metadata": {},
   "outputs": [
    {
     "data": {
      "text/html": [
       "<div>\n",
       "<style scoped>\n",
       "    .dataframe tbody tr th:only-of-type {\n",
       "        vertical-align: middle;\n",
       "    }\n",
       "\n",
       "    .dataframe tbody tr th {\n",
       "        vertical-align: top;\n",
       "    }\n",
       "\n",
       "    .dataframe thead th {\n",
       "        text-align: right;\n",
       "    }\n",
       "</style>\n",
       "<table border=\"1\" class=\"dataframe\">\n",
       "  <thead>\n",
       "    <tr style=\"text-align: right;\">\n",
       "      <th></th>\n",
       "      <th>A</th>\n",
       "      <th>B</th>\n",
       "      <th>C</th>\n",
       "      <th>D</th>\n",
       "    </tr>\n",
       "  </thead>\n",
       "  <tbody>\n",
       "    <tr>\n",
       "      <th>0</th>\n",
       "      <td>-0.238337</td>\n",
       "      <td>-0.062914</td>\n",
       "      <td>-1.015066</td>\n",
       "      <td>-0.114209</td>\n",
       "    </tr>\n",
       "    <tr>\n",
       "      <th>1</th>\n",
       "      <td>0.650199</td>\n",
       "      <td>-1.532273</td>\n",
       "      <td>2.439607</td>\n",
       "      <td>-0.180156</td>\n",
       "    </tr>\n",
       "    <tr>\n",
       "      <th>2</th>\n",
       "      <td>0.692401</td>\n",
       "      <td>2.028349</td>\n",
       "      <td>-1.051482</td>\n",
       "      <td>0.446738</td>\n",
       "    </tr>\n",
       "    <tr>\n",
       "      <th>3</th>\n",
       "      <td>1.532097</td>\n",
       "      <td>0.669393</td>\n",
       "      <td>0.025787</td>\n",
       "      <td>0.513496</td>\n",
       "    </tr>\n",
       "    <tr>\n",
       "      <th>4</th>\n",
       "      <td>1.514354</td>\n",
       "      <td>-1.784146</td>\n",
       "      <td>0.483229</td>\n",
       "      <td>-2.506825</td>\n",
       "    </tr>\n",
       "  </tbody>\n",
       "</table>\n",
       "</div>"
      ],
      "text/plain": [
       "          A         B         C         D\n",
       "0 -0.238337 -0.062914 -1.015066 -0.114209\n",
       "1  0.650199 -1.532273  2.439607 -0.180156\n",
       "2  0.692401  2.028349 -1.051482  0.446738\n",
       "3  1.532097  0.669393  0.025787  0.513496\n",
       "4  1.514354 -1.784146  0.483229 -2.506825"
      ]
     },
     "execution_count": 13,
     "metadata": {},
     "output_type": "execute_result"
    }
   ],
   "source": [
    "df.head()"
   ]
  },
  {
   "cell_type": "code",
   "execution_count": 14,
   "id": "893733ad",
   "metadata": {},
   "outputs": [],
   "source": [
    "df2 = pd.DataFrame({'Category':['A','B','C'],'Values':[32,43,50]})"
   ]
  },
  {
   "cell_type": "code",
   "execution_count": 15,
   "id": "82485786",
   "metadata": {},
   "outputs": [
    {
     "data": {
      "text/html": [
       "<div>\n",
       "<style scoped>\n",
       "    .dataframe tbody tr th:only-of-type {\n",
       "        vertical-align: middle;\n",
       "    }\n",
       "\n",
       "    .dataframe tbody tr th {\n",
       "        vertical-align: top;\n",
       "    }\n",
       "\n",
       "    .dataframe thead th {\n",
       "        text-align: right;\n",
       "    }\n",
       "</style>\n",
       "<table border=\"1\" class=\"dataframe\">\n",
       "  <thead>\n",
       "    <tr style=\"text-align: right;\">\n",
       "      <th></th>\n",
       "      <th>Category</th>\n",
       "      <th>Values</th>\n",
       "    </tr>\n",
       "  </thead>\n",
       "  <tbody>\n",
       "    <tr>\n",
       "      <th>0</th>\n",
       "      <td>A</td>\n",
       "      <td>32</td>\n",
       "    </tr>\n",
       "    <tr>\n",
       "      <th>1</th>\n",
       "      <td>B</td>\n",
       "      <td>43</td>\n",
       "    </tr>\n",
       "    <tr>\n",
       "      <th>2</th>\n",
       "      <td>C</td>\n",
       "      <td>50</td>\n",
       "    </tr>\n",
       "  </tbody>\n",
       "</table>\n",
       "</div>"
      ],
      "text/plain": [
       "  Category  Values\n",
       "0        A      32\n",
       "1        B      43\n",
       "2        C      50"
      ]
     },
     "execution_count": 15,
     "metadata": {},
     "output_type": "execute_result"
    }
   ],
   "source": [
    "df2"
   ]
  },
  {
   "cell_type": "code",
   "execution_count": 16,
   "id": "a27557f5",
   "metadata": {},
   "outputs": [
    {
     "data": {
      "text/plain": [
       "<Axes: >"
      ]
     },
     "execution_count": 16,
     "metadata": {},
     "output_type": "execute_result"
    },
    {
     "data": {
      "image/png": "[encoded data removed]",
      "text/plain": [
       "<Figure size 640x480 with 1 Axes>"
      ]
     },
     "metadata": {},
     "output_type": "display_data"
    }
   ],
   "source": [
    "df.plot()"
   ]
  },
  {
   "cell_type": "code",
   "execution_count": 18,
   "id": "3b8eff04",
   "metadata": {},
   "outputs": [
    {
     "data": {
      "application/vnd.plotly.v1+json": {
       "config": {
        "linkText": "Export to plot.ly",
        "plotlyServerURL": "https://plot.ly",
        "showLink": true
       },
       "data": [
        {
         "line": {
          "color": "rgba(255, 153, 51, 1.0)",
          "dash": "solid",
          "shape": "linear",
          "width": 1.3
         },
         "mode": "lines",
         "name": "A",
         "text": "",
         "type": "scatter",
         "x": [
          0,
          1,
          2,
          3,
          4,
          5,
          6,
          7,
          8,
          9,
          10,
          11,
          12,
          13,
          14,
          15,
          16,
          17,
          18,
          19,
          20,
          21,
          22,
          23,
          24,
          25,
          26,
          27,
          28,
          29,
          30,
          31,
          32,
          33,
          34,
          35,
          36,
          37,
          38,
          39,
          40,
          41,
          42,
          43,
          44,
          45,
          46,
          47,
          48,
          49,
          50,
          51,
          52,
          53,
          54,
          55,
          56,
          57,
          58,
          59,
          60,
          61,
          62,
          63,
          64,
          65,
          66,
          67,
          68,
          69,
          70,
          71,
          72,
          73,
          74,
          75,
          76,
          77,
          78,
          79,
          80,
          81,
          82,
          83,
          84,
          85,
          86,
          87,
          88,
          89,
          90,
          91,
          92,
          93,
          94,
          95,
          96,
          97,
          98,
          99
         ],
         "y": [
          -0.23833749478084632,
          0.6501994394768832,
          0.69240112895364,
          1.5320970914057563,
          1.5143536412100664,
          0.9091328451299554,
          0.5633932306807066,
          -0.6957450025151292,
          -0.3293951092999953,
          0.07112715282153531,
          1.3871289338711221,
          -0.30275030951868354,
          0.4325520012397575,
          0.3557928642971695,
          -0.14842497025923618,
          0.5618247664499927,
          0.05994346882977397,
          -1.4735100631741256,
          -0.08917911520644622,
          1.7363207791384538,
          -0.14329310593151515,
          0.15611611177600046,
          0.5406570368378665,
          -0.9957010147824803,
          1.387177334594978,
          0.1310498324631058,
          -0.22314038016345794,
          0.08879164066410501,
          -0.8810051288147794,
          -0.9770286284628511,
          -0.6715971578254221,
          1.3002560139455641,
          2.321624410335273,
          -0.15289584456586722,
          -0.6972843987992097,
          0.5931203866351997,
          0.9130042417329262,
          -0.3295338415521216,
          -1.3016776038004398,
          1.960484862694741,
          2.2802574608931754,
          -1.55531604820331,
          -0.4757202431700581,
          1.4373273727690996,
          -1.0070240274826834,
          1.2629202246100506,
          0.12856968538899607,
          -1.1243817895047012,
          0.04653002549161323,
          0.4369480939055736,
          0.2693438575066526,
          1.8038758704998965,
          0.1029603524630663,
          1.6081370990783066,
          -0.1378580105992773,
          0.5793942859228219,
          -0.14858741009587503,
          -0.19768016506777614,
          1.048015998868027,
          0.630830200972105,
          -1.5016688943855903,
          -0.42725460179513036,
          0.6632276199073781,
          0.03905584833789047,
          1.7065901060137059,
          -1.1400524905628655,
          0.4061750213104448,
          -0.3410890234644094,
          0.528994584107765,
          -0.44653772676211606,
          1.0273411655950548,
          -0.7616521517056599,
          -0.2990750926136947,
          0.7438791605337584,
          -0.6864816773203487,
          0.29972132855314054,
          0.0635865919701606,
          1.1160715054732728,
          0.23893414638922392,
          -3.0791028296082588,
          0.5628299582121862,
          1.3428877260800716,
          0.16002233058937887,
          -1.908974501388095,
          -1.063113689959441,
          -1.6701307613421852,
          0.6415131291626535,
          -1.4708631052358239,
          0.4542836706219212,
          -0.1803329649366861,
          2.3448185248734807,
          -0.42455083915233127,
          1.3596741223109698,
          -0.6387336708337593,
          -1.199901298038498,
          -0.46670532426178835,
          -1.9657923377437196,
          -2.5721533669425205,
          1.255546642935715,
          0.12504483924872897
         ]
        },
        {
         "line": {
          "color": "rgba(55, 128, 191, 1.0)",
          "dash": "solid",
          "shape": "linear",
          "width": 1.3
         },
         "mode": "lines",
         "name": "B",
         "text": "",
         "type": "scatter",
         "x": [
          0,
          1,
          2,
          3,
          4,
          5,
          6,
          7,
          8,
          9,
          10,
          11,
          12,
          13,
          14,
          15,
          16,
          17,
          18,
          19,
          20,
          21,
          22,
          23,
          24,
          25,
          26,
          27,
          28,
          29,
          30,
          31,
          32,
          33,
          34,
          35,
          36,
          37,
          38,
          39,
          40,
          41,
          42,
          43,
          44,
          45,
          46,
          47,
          48,
          49,
          50,
          51,
          52,
          53,
          54,
          55,
          56,
          57,
          58,
          59,
          60,
          61,
          62,
          63,
          64,
          65,
          66,
          67,
          68,
          69,
          70,
          71,
          72,
          73,
          74,
          75,
          76,
          77,
          78,
          79,
          80,
          81,
          82,
          83,
          84,
          85,
          86,
          87,
          88,
          89,
          90,
          91,
          92,
          93,
          94,
          95,
          96,
          97,
          98,
          99
         ],
         "y": [
          -0.06291427450316933,
          -1.5322731602884292,
          2.028348772987773,
          0.6693932445647333,
          -1.784146484904668,
          0.5629194960966317,
          -1.1531714182196977,
          -1.198881273469872,
          -0.3599836499936697,
          -1.5859282623298518,
          0.43249326298018725,
          0.006334251206168981,
          -0.26156984664420363,
          -0.5542522296562603,
          0.6615866179143592,
          -1.324140148711569,
          0.34809760005611035,
          0.22845512200847662,
          0.7507214599572216,
          -0.4860243963364303,
          1.1966633637001574,
          -1.2290464952865618,
          0.39754334761882865,
          1.6994877438337332,
          0.7416418706957048,
          0.6403585630531775,
          -0.8734327491302029,
          -0.392926611428367,
          0.5749885606001245,
          -2.0467397051668876,
          0.49166689329736457,
          1.4036586051368503,
          -0.8307840514047554,
          0.6335495113267404,
          1.1820666940436422,
          -1.075705232012773,
          1.1881493161215,
          -1.423278677749765,
          -0.6430643428642822,
          -0.3293289381854944,
          -0.6547480913773267,
          -0.8463597065410111,
          -0.0024702289586539285,
          -1.0612818837077704,
          0.1254377076446763,
          -0.404602263867722,
          -0.7446729897259533,
          0.2186432671211768,
          1.2500505771424142,
          -0.8238305736789608,
          0.9222414596307853,
          -0.015284416785555715,
          -0.22472721377838545,
          0.0030087357121871758,
          0.08870220788145161,
          0.8984932568044094,
          0.14441621658763268,
          -0.4512488727289043,
          1.1375588391431979,
          -0.6527449377415648,
          0.27328665505704497,
          0.8823114753761337,
          0.00732754794294055,
          1.413438055483529,
          -0.5078282211761682,
          -0.8144068941811758,
          0.8789189975450421,
          -0.4161014934626199,
          1.2354275217687003,
          -0.4247058207211809,
          -1.8070468171353722,
          -0.07483434418167269,
          -0.8290768762316153,
          0.0323215009305928,
          -0.46818557550193923,
          -0.678510243789971,
          -0.326508032144984,
          -0.332445340739474,
          -0.08272614551191813,
          1.0935692828179533,
          0.2059558797739144,
          -0.4350877289157243,
          0.58286721728474,
          -0.5766016189112366,
          -1.0735566071205689,
          1.0114973460848427,
          -0.6641909267070367,
          -0.7784262569825346,
          -0.7927172147205591,
          -0.792636498224324,
          0.4303546660014756,
          0.6293061385726557,
          0.9161824688845475,
          -1.2931998909956706,
          0.3963712146012255,
          -1.0923974264157994,
          -0.9439165040572574,
          1.446733011848096,
          2.659876209227425,
          -1.4368341467410388
         ]
        },
        {
         "line": {
          "color": "rgba(50, 171, 96, 1.0)",
          "dash": "solid",
          "shape": "linear",
          "width": 1.3
         },
         "mode": "lines",
         "name": "C",
         "text": "",
         "type": "scatter",
         "x": [
          0,
          1,
          2,
          3,
          4,
          5,
          6,
          7,
          8,
          9,
          10,
          11,
          12,
          13,
          14,
          15,
          16,
          17,
          18,
          19,
          20,
          21,
          22,
          23,
          24,
          25,
          26,
          27,
          28,
          29,
          30,
          31,
          32,
          33,
          34,
          35,
          36,
          37,
          38,
          39,
          40,
          41,
          42,
          43,
          44,
          45,
          46,
          47,
          48,
          49,
          50,
          51,
          52,
          53,
          54,
          55,
          56,
          57,
          58,
          59,
          60,
          61,
          62,
          63,
          64,
          65,
          66,
          67,
          68,
          69,
          70,
          71,
          72,
          73,
          74,
          75,
          76,
          77,
          78,
          79,
          80,
          81,
          82,
          83,
          84,
          85,
          86,
          87,
          88,
          89,
          90,
          91,
          92,
          93,
          94,
          95,
          96,
          97,
          98,
          99
         ],
         "y": [
          -1.0150659689487147,
          2.4396069488032004,
          -1.0514821902214544,
          0.025786994760816077,
          0.48322859921099276,
          -0.4713532665428161,
          1.1436149986359878,
          -1.3128261233699856,
          -0.2912887547934578,
          1.039967082869105,
          -1.2843076748845133,
          1.073342564131795,
          -0.8843569377025369,
          0.6558533134970753,
          0.7419265491553783,
          -0.36327706865560755,
          -0.07345510361056795,
          -1.0612208963079712,
          0.6679856736507008,
          0.441518726846609,
          -0.12011044158825018,
          -2.803927213926374,
          1.0534290050662707,
          -0.17728000698749297,
          -1.1366462406419275,
          0.05517776174957644,
          -0.5095312481923084,
          -1.4083290572757459,
          -1.3502810759787633,
          1.1010685067401154,
          1.3597498360665201,
          -1.653068798167152,
          0.3603041379925434,
          -1.0258913919715984,
          -0.5887645509273518,
          -0.6226080766418056,
          0.2757135067272518,
          1.5670278179236714,
          -0.03438956511296057,
          0.5646557786163486,
          -0.40049686928198874,
          0.5682714687046483,
          0.5106595362063697,
          0.4876875655268923,
          -1.0365701372832248,
          0.148753131420438,
          -0.7862128711346452,
          1.1610530422171528,
          -1.7584960556237275,
          -1.0996052338366407,
          0.5550921060825537,
          -0.07194723058616423,
          0.09874844773802363,
          -0.4289801702715877,
          0.27700922642152415,
          1.9446504729028886,
          -0.17081785777879283,
          -0.3397090921659036,
          0.1163343778242112,
          0.4974586729775939,
          -1.0145727727320606,
          0.9668061343377845,
          -1.195043377548783,
          -0.5275585370225807,
          2.2253408079614423,
          -0.9149325662020059,
          -1.9910130099560681,
          1.104037547093716,
          -0.5948118495939628,
          -0.5714118575752235,
          -1.9450022867837182,
          -1.0504344320553727,
          0.15838932114169152,
          -0.9115035290858265,
          0.043653088138158616,
          0.8967081481912822,
          1.8324806901016975,
          -0.17421799579891237,
          0.6025750586775659,
          0.01661511897748368,
          -0.09490050931702307,
          1.7329566918601587,
          0.6146070890461516,
          -0.8180565346431806,
          1.1496174165297404,
          0.9420873200673806,
          -0.8544064772026969,
          -0.23058590602236753,
          -0.5596922214896065,
          1.2956915909558462,
          1.6340132748923069,
          -0.1760196401199447,
          1.73319140559922,
          -1.435564489500065,
          0.23477011573606574,
          -0.7783744915371498,
          -1.1122868170232463,
          -0.853933282237851,
          -0.1937175967392873,
          0.4251853382724826
         ]
        },
        {
         "line": {
          "color": "rgba(128, 0, 128, 1.0)",
          "dash": "solid",
          "shape": "linear",
          "width": 1.3
         },
         "mode": "lines",
         "name": "D",
         "text": "",
         "type": "scatter",
         "x": [
          0,
          1,
          2,
          3,
          4,
          5,
          6,
          7,
          8,
          9,
          10,
          11,
          12,
          13,
          14,
          15,
          16,
          17,
          18,
          19,
          20,
          21,
          22,
          23,
          24,
          25,
          26,
          27,
          28,
          29,
          30,
          31,
          32,
          33,
          34,
          35,
          36,
          37,
          38,
          39,
          40,
          41,
          42,
          43,
          44,
          45,
          46,
          47,
          48,
          49,
          50,
          51,
          52,
          53,
          54,
          55,
          56,
          57,
          58,
          59,
          60,
          61,
          62,
          63,
          64,
          65,
          66,
          67,
          68,
          69,
          70,
          71,
          72,
          73,
          74,
          75,
          76,
          77,
          78,
          79,
          80,
          81,
          82,
          83,
          84,
          85,
          86,
          87,
          88,
          89,
          90,
          91,
          92,
          93,
          94,
          95,
          96,
          97,
          98,
          99
         ],
         "y": [
          -0.11420890555588285,
          -0.18015600719370806,
          0.4467383032836302,
          0.5134964052696426,
          -2.506825030725312,
          -0.30496628040293366,
          -0.8793998563115474,
          -0.07250883132508364,
          -0.11111811357587129,
          1.5151277061489496,
          -1.6947082063992764,
          2.5528215620763284,
          -0.19190944351111974,
          -1.965756154674671,
          1.1193011182579384,
          1.945523608659881,
          -1.548098759567209,
          0.8123488904543115,
          -0.3225284134510511,
          3.363765957377816,
          -0.09040794345171485,
          1.5409372325812711,
          -0.1524503640369373,
          -0.9211225662963648,
          -0.234664343283136,
          -0.5988387987441645,
          1.9640046099329038,
          -1.9059093534907663,
          -0.30501271196983526,
          -0.07003303235654587,
          0.4273691216130949,
          0.5344919229822604,
          1.3648893776046511,
          0.14356096686465294,
          2.1775369436370027,
          0.4948293859869428,
          -0.12634359535027728,
          0.5515697606392707,
          -0.7817494449281183,
          1.168703603757188,
          1.0632746888968312,
          0.5928503508023099,
          -0.48452447812260047,
          2.471398018677528,
          0.0320537702562301,
          -1.2132812417956753,
          -0.3147939787890694,
          0.8410529978982227,
          -0.5513828889586566,
          0.6123404127705531,
          -0.7787436701085488,
          -1.1170001747219052,
          -0.5855935605970888,
          0.007561232728142446,
          0.5054553025090613,
          -0.134028957426057,
          2.4810376480615144,
          1.9949948194179672,
          0.3913991206519806,
          -0.3872507585745515,
          -1.8004463541736992,
          1.4480733436083826,
          -1.735085442897729,
          1.791726625268079,
          0.22312852195532035,
          -0.17831185991010187,
          -0.1342515593153074,
          3.064660548554613,
          -0.2567088207163651,
          1.9759774418795923,
          -0.23412258600826766,
          -0.4692604812153284,
          -0.19256176835937983,
          -1.9612341837422296,
          1.6231965239335477,
          -0.6870279081201187,
          0.13469205743861082,
          1.2128703557234293,
          1.2922561840488511,
          0.9025536852040918,
          -0.5283235308581054,
          0.8419027821447392,
          -1.496797888222635,
          -0.49694884262671085,
          0.06126558484265961,
          -0.2895372319404262,
          -1.1338328750070126,
          -0.6649022974941925,
          0.33940798232820063,
          0.9026626694446349,
          1.119667959555071,
          0.14558202217431568,
          -0.8702993232331738,
          0.1886403378793685,
          0.9743523532494787,
          -2.2982701623404735,
          1.090851860680595,
          -1.130490055546931,
          -0.05470785652087121,
          2.831359429291828
         ]
        }
       ],
       "layout": {
        "legend": {
         "bgcolor": "#F5F6F9",
         "font": {
          "color": "#4D5663"
         }
        },
        "paper_bgcolor": "#F5F6F9",
        "plot_bgcolor": "#F5F6F9",
        "template": {
         "data": {
          "bar": [
           {
            "error_x": {
             "color": "#2a3f5f"
            },
            "error_y": {
             "color": "#2a3f5f"
            },
            "marker": {
             "line": {
              "color": "#E5ECF6",
              "width": 0.5
             },
             "pattern": {
              "fillmode": "overlay",
              "size": 10,
              "solidity": 0.2
             }
            },
            "type": "bar"
           }
          ],
          "barpolar": [
           {
            "marker": {
             "line": {
              "color": "#E5ECF6",
              "width": 0.5
             },
             "pattern": {
              "fillmode": "overlay",
              "size": 10,
              "solidity": 0.2
             }
            },
            "type": "barpolar"
           }
          ],
          "carpet": [
           {
            "aaxis": {
             "endlinecolor": "#2a3f5f",
             "gridcolor": "white",
             "linecolor": "white",
             "minorgridcolor": "white",
             "startlinecolor": "#2a3f5f"
            },
            "baxis": {
             "endlinecolor": "#2a3f5f",
             "gridcolor": "white",
             "linecolor": "white",
             "minorgridcolor": "white",
             "startlinecolor": "#2a3f5f"
            },
            "type": "carpet"
           }
          ],
          "choropleth": [
           {
            "colorbar": {
             "outlinewidth": 0,
             "ticks": ""
            },
            "type": "choropleth"
           }
          ],
          "contour": [
           {
            "colorbar": {
             "outlinewidth": 0,
             "ticks": ""
            },
            "colorscale": [
             [
              0,
              "#0d0887"
             ],
             [
              0.1111111111111111,
              "#46039f"
             ],
             [
              0.2222222222222222,
              "#7201a8"
             ],
             [
              0.3333333333333333,
              "#9c179e"
             ],
             [
              0.4444444444444444,
              "#bd3786"
             ],
             [
              0.5555555555555556,
              "#d8576b"
             ],
             [
              0.6666666666666666,
              "#ed7953"
             ],
             [
              0.7777777777777778,
              "#fb9f3a"
             ],
             [
              0.8888888888888888,
              "#fdca26"
             ],
             [
              1,
              "#f0f921"
             ]
            ],
            "type": "contour"
           }
          ],
          "contourcarpet": [
           {
            "colorbar": {
             "outlinewidth": 0,
             "ticks": ""
            },
            "type": "contourcarpet"
           }
          ],
          "heatmap": [
           {
            "colorbar": {
             "outlinewidth": 0,
             "ticks": ""
            },
            "colorscale": [
             [
              0,
              "#0d0887"
             ],
             [
              0.1111111111111111,
              "#46039f"
             ],
             [
              0.2222222222222222,
              "#7201a8"
             ],
             [
              0.3333333333333333,
              "#9c179e"
             ],
             [
              0.4444444444444444,
              "#bd3786"
             ],
             [
              0.5555555555555556,
              "#d8576b"
             ],
             [
              0.6666666666666666,
              "#ed7953"
             ],
             [
              0.7777777777777778,
              "#fb9f3a"
             ],
             [
              0.8888888888888888,
              "#fdca26"
             ],
             [
              1,
              "#f0f921"
             ]
            ],
            "type": "heatmap"
           }
          ],
          "heatmapgl": [
           {
            "colorbar": {
             "outlinewidth": 0,
             "ticks": ""
            },
            "colorscale": [
             [
              0,
              "#0d0887"
             ],
             [
              0.1111111111111111,
              "#46039f"
             ],
             [
              0.2222222222222222,
              "#7201a8"
             ],
             [
              0.3333333333333333,
              "#9c179e"
             ],
             [
              0.4444444444444444,
              "#bd3786"
             ],
             [
              0.5555555555555556,
              "#d8576b"
             ],
             [
              0.6666666666666666,
              "#ed7953"
             ],
             [
              0.7777777777777778,
              "#fb9f3a"
             ],
             [
              0.8888888888888888,
              "#fdca26"
             ],
             [
              1,
              "#f0f921"
             ]
            ],
            "type": "heatmapgl"
           }
          ],
          "histogram": [
           {
            "marker": {
             "pattern": {
              "fillmode": "overlay",
              "size": 10,
              "solidity": 0.2
             }
            },
            "type": "histogram"
           }
          ],
          "histogram2d": [
           {
            "colorbar": {
             "outlinewidth": 0,
             "ticks": ""
            },
            "colorscale": [
             [
              0,
              "#0d0887"
             ],
             [
              0.1111111111111111,
              "#46039f"
             ],
             [
              0.2222222222222222,
              "#7201a8"
             ],
             [
              0.3333333333333333,
              "#9c179e"
             ],
             [
              0.4444444444444444,
              "#bd3786"
             ],
             [
              0.5555555555555556,
              "#d8576b"
             ],
             [
              0.6666666666666666,
              "#ed7953"
             ],
             [
              0.7777777777777778,
              "#fb9f3a"
             ],
             [
              0.8888888888888888,
              "#fdca26"
             ],
             [
              1,
              "#f0f921"
             ]
            ],
            "type": "histogram2d"
           }
          ],
          "histogram2dcontour": [
           {
            "colorbar": {
             "outlinewidth": 0,
             "ticks": ""
            },
            "colorscale": [
             [
              0,
              "#0d0887"
             ],
             [
              0.1111111111111111,
              "#46039f"
             ],
             [
              0.2222222222222222,
              "#7201a8"
             ],
             [
              0.3333333333333333,
              "#9c179e"
             ],
             [
              0.4444444444444444,
              "#bd3786"
             ],
             [
              0.5555555555555556,
              "#d8576b"
             ],
             [
              0.6666666666666666,
              "#ed7953"
             ],
             [
              0.7777777777777778,
              "#fb9f3a"
             ],
             [
              0.8888888888888888,
              "#fdca26"
             ],
             [
              1,
              "#f0f921"
             ]
            ],
            "type": "histogram2dcontour"
           }
          ],
          "mesh3d": [
           {
            "colorbar": {
             "outlinewidth": 0,
             "ticks": ""
            },
            "type": "mesh3d"
           }
          ],
          "parcoords": [
           {
            "line": {
             "colorbar": {
              "outlinewidth": 0,
              "ticks": ""
             }
            },
            "type": "parcoords"
           }
          ],
          "pie": [
           {
            "automargin": true,
            "type": "pie"
           }
          ],
          "scatter": [
           {
            "fillpattern": {
             "fillmode": "overlay",
             "size": 10,
             "solidity": 0.2
            },
            "type": "scatter"
           }
          ],
          "scatter3d": [
           {
            "line": {
             "colorbar": {
              "outlinewidth": 0,
              "ticks": ""
             }
            },
            "marker": {
             "colorbar": {
              "outlinewidth": 0,
              "ticks": ""
             }
            },
            "type": "scatter3d"
           }
          ],
          "scattercarpet": [
           {
            "marker": {
             "colorbar": {
              "outlinewidth": 0,
              "ticks": ""
             }
            },
            "type": "scattercarpet"
           }
          ],
          "scattergeo": [
           {
            "marker": {
             "colorbar": {
              "outlinewidth": 0,
              "ticks": ""
             }
            },
            "type": "scattergeo"
           }
          ],
          "scattergl": [
           {
            "marker": {
             "colorbar": {
              "outlinewidth": 0,
              "ticks": ""
             }
            },
            "type": "scattergl"
           }
          ],
          "scattermapbox": [
           {
            "marker": {
             "colorbar": {
              "outlinewidth": 0,
              "ticks": ""
             }
            },
            "type": "scattermapbox"
           }
          ],
          "scatterpolar": [
           {
            "marker": {
             "colorbar": {
              "outlinewidth": 0,
              "ticks": ""
             }
            },
            "type": "scatterpolar"
           }
          ],
          "scatterpolargl": [
           {
            "marker": {
             "colorbar": {
              "outlinewidth": 0,
              "ticks": ""
             }
            },
            "type": "scatterpolargl"
           }
          ],
          "scatterternary": [
           {
            "marker": {
             "colorbar": {
              "outlinewidth": 0,
              "ticks": ""
             }
            },
            "type": "scatterternary"
           }
          ],
          "surface": [
           {
            "colorbar": {
             "outlinewidth": 0,
             "ticks": ""
            },
            "colorscale": [
             [
              0,
              "#0d0887"
             ],
             [
              0.1111111111111111,
              "#46039f"
             ],
             [
              0.2222222222222222,
              "#7201a8"
             ],
             [
              0.3333333333333333,
              "#9c179e"
             ],
             [
              0.4444444444444444,
              "#bd3786"
             ],
             [
              0.5555555555555556,
              "#d8576b"
             ],
             [
              0.6666666666666666,
              "#ed7953"
             ],
             [
              0.7777777777777778,
              "#fb9f3a"
             ],
             [
              0.8888888888888888,
              "#fdca26"
             ],
             [
              1,
              "#f0f921"
             ]
            ],
            "type": "surface"
           }
          ],
          "table": [
           {
            "cells": {
             "fill": {
              "color": "#EBF0F8"
             },
             "line": {
              "color": "white"
             }
            },
            "header": {
             "fill": {
              "color": "#C8D4E3"
             },
             "line": {
              "color": "white"
             }
            },
            "type": "table"
           }
          ]
         },
         "layout": {
          "annotationdefaults": {
           "arrowcolor": "#2a3f5f",
           "arrowhead": 0,
           "arrowwidth": 1
          },
          "autotypenumbers": "strict",
          "coloraxis": {
           "colorbar": {
            "outlinewidth": 0,
            "ticks": ""
           }
          },
          "colorscale": {
           "diverging": [
            [
             0,
             "#8e0152"
            ],
            [
             0.1,
             "#c51b7d"
            ],
            [
             0.2,
             "#de77ae"
            ],
            [
             0.3,
             "#f1b6da"
            ],
            [
             0.4,
             "#fde0ef"
            ],
            [
             0.5,
             "#f7f7f7"
            ],
            [
             0.6,
             "#e6f5d0"
            ],
            [
             0.7,
             "#b8e186"
            ],
            [
             0.8,
             "#7fbc41"
            ],
            [
             0.9,
             "#4d9221"
            ],
            [
             1,
             "#276419"
            ]
           ],
           "sequential": [
            [
             0,
             "#0d0887"
            ],
            [
             0.1111111111111111,
             "#46039f"
            ],
            [
             0.2222222222222222,
             "#7201a8"
            ],
            [
             0.3333333333333333,
             "#9c179e"
            ],
            [
             0.4444444444444444,
             "#bd3786"
            ],
            [
             0.5555555555555556,
             "#d8576b"
            ],
            [
             0.6666666666666666,
             "#ed7953"
            ],
            [
             0.7777777777777778,
             "#fb9f3a"
            ],
            [
             0.8888888888888888,
             "#fdca26"
            ],
            [
             1,
             "#f0f921"
            ]
           ],
           "sequentialminus": [
            [
             0,
             "#0d0887"
            ],
            [
             0.1111111111111111,
             "#46039f"
            ],
            [
             0.2222222222222222,
             "#7201a8"
            ],
            [
             0.3333333333333333,
             "#9c179e"
            ],
            [
             0.4444444444444444,
             "#bd3786"
            ],
            [
             0.5555555555555556,
             "#d8576b"
            ],
            [
             0.6666666666666666,
             "#ed7953"
            ],
            [
             0.7777777777777778,
             "#fb9f3a"
            ],
            [
             0.8888888888888888,
             "#fdca26"
            ],
            [
             1,
             "#f0f921"
            ]
           ]
          },
          "colorway": [
           "#636efa",
           "#EF553B",
           "#00cc96",
           "#ab63fa",
           "#FFA15A",
           "#19d3f3",
           "#FF6692",
           "#B6E880",
           "#FF97FF",
           "#FECB52"
          ],
          "font": {
           "color": "#2a3f5f"
          },
          "geo": {
           "bgcolor": "white",
           "lakecolor": "white",
           "landcolor": "#E5ECF6",
           "showlakes": true,
           "showland": true,
           "subunitcolor": "white"
          },
          "hoverlabel": {
           "align": "left"
          },
          "hovermode": "closest",
          "mapbox": {
           "style": "light"
          },
          "paper_bgcolor": "white",
          "plot_bgcolor": "#E5ECF6",
          "polar": {
           "angularaxis": {
            "gridcolor": "white",
            "linecolor": "white",
            "ticks": ""
           },
           "bgcolor": "#E5ECF6",
           "radialaxis": {
            "gridcolor": "white",
            "linecolor": "white",
            "ticks": ""
           }
          },
          "scene": {
           "xaxis": {
            "backgroundcolor": "#E5ECF6",
            "gridcolor": "white",
            "gridwidth": 2,
            "linecolor": "white",
            "showbackground": true,
            "ticks": "",
            "zerolinecolor": "white"
           },
           "yaxis": {
            "backgroundcolor": "#E5ECF6",
            "gridcolor": "white",
            "gridwidth": 2,
            "linecolor": "white",
            "showbackground": true,
            "ticks": "",
            "zerolinecolor": "white"
           },
           "zaxis": {
            "backgroundcolor": "#E5ECF6",
            "gridcolor": "white",
            "gridwidth": 2,
            "linecolor": "white",
            "showbackground": true,
            "ticks": "",
            "zerolinecolor": "white"
           }
          },
          "shapedefaults": {
           "line": {
            "color": "#2a3f5f"
           }
          },
          "ternary": {
           "aaxis": {
            "gridcolor": "white",
            "linecolor": "white",
            "ticks": ""
           },
           "baxis": {
            "gridcolor": "white",
            "linecolor": "white",
            "ticks": ""
           },
           "bgcolor": "#E5ECF6",
           "caxis": {
            "gridcolor": "white",
            "linecolor": "white",
            "ticks": ""
           }
          },
          "title": {
           "x": 0.05
          },
          "xaxis": {
           "automargin": true,
           "gridcolor": "white",
           "linecolor": "white",
           "ticks": "",
           "title": {
            "standoff": 15
           },
           "zerolinecolor": "white",
           "zerolinewidth": 2
          },
          "yaxis": {
           "automargin": true,
           "gridcolor": "white",
           "linecolor": "white",
           "ticks": "",
           "title": {
            "standoff": 15
           },
           "zerolinecolor": "white",
           "zerolinewidth": 2
          }
         }
        },
        "title": {
         "font": {
          "color": "#4D5663"
         }
        },
        "xaxis": {
         "gridcolor": "#E1E5ED",
         "showgrid": true,
         "tickfont": {
          "color": "#4D5663"
         },
         "title": {
          "font": {
           "color": "#4D5663"
          },
          "text": ""
         },
         "zerolinecolor": "#E1E5ED"
        },
        "yaxis": {
         "gridcolor": "#E1E5ED",
         "showgrid": true,
         "tickfont": {
          "color": "#4D5663"
         },
         "title": {
          "font": {
           "color": "#4D5663"
          },
          "text": ""
         },
         "zerolinecolor": "#E1E5ED"
        }
       }
      },
      "text/html": [
       "<div>                            <div id=\"6d29c26b-5989-47bd-b6a8-e5cfee214480\" class=\"plotly-graph-div\" style=\"height:525px; width:100%;\"></div>            <script type=\"text/javascript\">                require([\"plotly\"], function(Plotly) {                    window.PLOTLYENV=window.PLOTLYENV || {};\n",
       "                    window.PLOTLYENV.BASE_URL='https://plot.ly';                                    if (document.getElementById(\"6d29c26b-5989-47bd-b6a8-e5cfee214480\")) {                    Plotly.newPlot(                        \"6d29c26b-5989-47bd-b6a8-e5cfee214480\",                        [{\"line\":{\"color\":\"rgba(255, 153, 51, 1.0)\",\"dash\":\"solid\",\"shape\":\"linear\",\"width\":1.3},\"mode\":\"lines\",\"name\":\"A\",\"text\":\"\",\"x\":[0,1,2,3,4,5,6,7,8,9,10,11,12,13,14,15,16,17,18,19,20,21,22,23,24,25,26,27,28,29,30,31,32,33,34,35,36,37,38,39,40,41,42,43,44,45,46,47,48,49,50,51,52,53,54,55,56,57,58,59,60,61,62,63,64,65,66,67,68,69,70,71,72,73,74,75,76,77,78,79,80,81,82,83,84,85,86,87,88,89,90,91,92,93,94,95,96,97,98,99],\"y\":[-0.23833749478084632,0.6501994394768832,0.69240112895364,1.5320970914057563,1.5143536412100664,0.9091328451299554,0.5633932306807066,-0.6957450025151292,-0.3293951092999953,0.07112715282153531,1.3871289338711221,-0.30275030951868354,0.4325520012397575,0.3557928642971695,-0.14842497025923618,0.5618247664499927,0.05994346882977397,-1.4735100631741256,-0.08917911520644622,1.7363207791384538,-0.14329310593151515,0.15611611177600046,0.5406570368378665,-0.9957010147824803,1.387177334594978,0.1310498324631058,-0.22314038016345794,0.08879164066410501,-0.8810051288147794,-0.9770286284628511,-0.6715971578254221,1.3002560139455641,2.321624410335273,-0.15289584456586722,-0.6972843987992097,0.5931203866351997,0.9130042417329262,-0.3295338415521216,-1.3016776038004398,1.960484862694741,2.2802574608931754,-1.55531604820331,-0.4757202431700581,1.4373273727690996,-1.0070240274826834,1.2629202246100506,0.12856968538899607,-1.1243817895047012,0.04653002549161323,0.4369480939055736,0.2693438575066526,1.8038758704998965,0.1029603524630663,1.6081370990783066,-0.1378580105992773,0.5793942859228219,-0.14858741009587503,-0.19768016506777614,1.048015998868027,0.630830200972105,-1.5016688943855903,-0.42725460179513036,0.6632276199073781,0.03905584833789047,1.7065901060137059,-1.1400524905628655,0.4061750213104448,-0.3410890234644094,0.528994584107765,-0.44653772676211606,1.0273411655950548,-0.7616521517056599,-0.2990750926136947,0.7438791605337584,-0.6864816773203487,0.29972132855314054,0.0635865919701606,1.1160715054732728,0.23893414638922392,-3.0791028296082588,0.5628299582121862,1.3428877260800716,0.16002233058937887,-1.908974501388095,-1.063113689959441,-1.6701307613421852,0.6415131291626535,-1.4708631052358239,0.4542836706219212,-0.1803329649366861,2.3448185248734807,-0.42455083915233127,1.3596741223109698,-0.6387336708337593,-1.199901298038498,-0.46670532426178835,-1.9657923377437196,-2.5721533669425205,1.255546642935715,0.12504483924872897],\"type\":\"scatter\"},{\"line\":{\"color\":\"rgba(55, 128, 191, 1.0)\",\"dash\":\"solid\",\"shape\":\"linear\",\"width\":1.3},\"mode\":\"lines\",\"name\":\"B\",\"text\":\"\",\"x\":[0,1,2,3,4,5,6,7,8,9,10,11,12,13,14,15,16,17,18,19,20,21,22,23,24,25,26,27,28,29,30,31,32,33,34,35,36,37,38,39,40,41,42,43,44,45,46,47,48,49,50,51,52,53,54,55,56,57,58,59,60,61,62,63,64,65,66,67,68,69,70,71,72,73,74,75,76,77,78,79,80,81,82,83,84,85,86,87,88,89,90,91,92,93,94,95,96,97,98,99],\"y\":[-0.06291427450316933,-1.5322731602884292,2.028348772987773,0.6693932445647333,-1.784146484904668,0.5629194960966317,-1.1531714182196977,-1.198881273469872,-0.3599836499936697,-1.5859282623298518,0.43249326298018725,0.006334251206168981,-0.26156984664420363,-0.5542522296562603,0.6615866179143592,-1.324140148711569,0.34809760005611035,0.22845512200847662,0.7507214599572216,-0.4860243963364303,1.1966633637001574,-1.2290464952865618,0.39754334761882865,1.6994877438337332,0.7416418706957048,0.6403585630531775,-0.8734327491302029,-0.392926611428367,0.5749885606001245,-2.0467397051668876,0.49166689329736457,1.4036586051368503,-0.8307840514047554,0.6335495113267404,1.1820666940436422,-1.075705232012773,1.1881493161215,-1.423278677749765,-0.6430643428642822,-0.3293289381854944,-0.6547480913773267,-0.8463597065410111,-0.0024702289586539285,-1.0612818837077704,0.1254377076446763,-0.404602263867722,-0.7446729897259533,0.2186432671211768,1.2500505771424142,-0.8238305736789608,0.9222414596307853,-0.015284416785555715,-0.22472721377838545,0.0030087357121871758,0.08870220788145161,0.8984932568044094,0.14441621658763268,-0.4512488727289043,1.1375588391431979,-0.6527449377415648,0.27328665505704497,0.8823114753761337,0.00732754794294055,1.413438055483529,-0.5078282211761682,-0.8144068941811758,0.8789189975450421,-0.4161014934626199,1.2354275217687003,-0.4247058207211809,-1.8070468171353722,-0.07483434418167269,-0.8290768762316153,0.0323215009305928,-0.46818557550193923,-0.678510243789971,-0.326508032144984,-0.332445340739474,-0.08272614551191813,1.0935692828179533,0.2059558797739144,-0.4350877289157243,0.58286721728474,-0.5766016189112366,-1.0735566071205689,1.0114973460848427,-0.6641909267070367,-0.7784262569825346,-0.7927172147205591,-0.792636498224324,0.4303546660014756,0.6293061385726557,0.9161824688845475,-1.2931998909956706,0.3963712146012255,-1.0923974264157994,-0.9439165040572574,1.446733011848096,2.659876209227425,-1.4368341467410388],\"type\":\"scatter\"},{\"line\":{\"color\":\"rgba(50, 171, 96, 1.0)\",\"dash\":\"solid\",\"shape\":\"linear\",\"width\":1.3},\"mode\":\"lines\",\"name\":\"C\",\"text\":\"\",\"x\":[0,1,2,3,4,5,6,7,8,9,10,11,12,13,14,15,16,17,18,19,20,21,22,23,24,25,26,27,28,29,30,31,32,33,34,35,36,37,38,39,40,41,42,43,44,45,46,47,48,49,50,51,52,53,54,55,56,57,58,59,60,61,62,63,64,65,66,67,68,69,70,71,72,73,74,75,76,77,78,79,80,81,82,83,84,85,86,87,88,89,90,91,92,93,94,95,96,97,98,99],\"y\":[-1.0150659689487147,2.4396069488032004,-1.0514821902214544,0.025786994760816077,0.48322859921099276,-0.4713532665428161,1.1436149986359878,-1.3128261233699856,-0.2912887547934578,1.039967082869105,-1.2843076748845133,1.073342564131795,-0.8843569377025369,0.6558533134970753,0.7419265491553783,-0.36327706865560755,-0.07345510361056795,-1.0612208963079712,0.6679856736507008,0.441518726846609,-0.12011044158825018,-2.803927213926374,1.0534290050662707,-0.17728000698749297,-1.1366462406419275,0.05517776174957644,-0.5095312481923084,-1.4083290572757459,-1.3502810759787633,1.1010685067401154,1.3597498360665201,-1.653068798167152,0.3603041379925434,-1.0258913919715984,-0.5887645509273518,-0.6226080766418056,0.2757135067272518,1.5670278179236714,-0.03438956511296057,0.5646557786163486,-0.40049686928198874,0.5682714687046483,0.5106595362063697,0.4876875655268923,-1.0365701372832248,0.148753131420438,-0.7862128711346452,1.1610530422171528,-1.7584960556237275,-1.0996052338366407,0.5550921060825537,-0.07194723058616423,0.09874844773802363,-0.4289801702715877,0.27700922642152415,1.9446504729028886,-0.17081785777879283,-0.3397090921659036,0.1163343778242112,0.4974586729775939,-1.0145727727320606,0.9668061343377845,-1.195043377548783,-0.5275585370225807,2.2253408079614423,-0.9149325662020059,-1.9910130099560681,1.104037547093716,-0.5948118495939628,-0.5714118575752235,-1.9450022867837182,-1.0504344320553727,0.15838932114169152,-0.9115035290858265,0.043653088138158616,0.8967081481912822,1.8324806901016975,-0.17421799579891237,0.6025750586775659,0.01661511897748368,-0.09490050931702307,1.7329566918601587,0.6146070890461516,-0.8180565346431806,1.1496174165297404,0.9420873200673806,-0.8544064772026969,-0.23058590602236753,-0.5596922214896065,1.2956915909558462,1.6340132748923069,-0.1760196401199447,1.73319140559922,-1.435564489500065,0.23477011573606574,-0.7783744915371498,-1.1122868170232463,-0.853933282237851,-0.1937175967392873,0.4251853382724826],\"type\":\"scatter\"},{\"line\":{\"color\":\"rgba(128, 0, 128, 1.0)\",\"dash\":\"solid\",\"shape\":\"linear\",\"width\":1.3},\"mode\":\"lines\",\"name\":\"D\",\"text\":\"\",\"x\":[0,1,2,3,4,5,6,7,8,9,10,11,12,13,14,15,16,17,18,19,20,21,22,23,24,25,26,27,28,29,30,31,32,33,34,35,36,37,38,39,40,41,42,43,44,45,46,47,48,49,50,51,52,53,54,55,56,57,58,59,60,61,62,63,64,65,66,67,68,69,70,71,72,73,74,75,76,77,78,79,80,81,82,83,84,85,86,87,88,89,90,91,92,93,94,95,96,97,98,99],\"y\":[-0.11420890555588285,-0.18015600719370806,0.4467383032836302,0.5134964052696426,-2.506825030725312,-0.30496628040293366,-0.8793998563115474,-0.07250883132508364,-0.11111811357587129,1.5151277061489496,-1.6947082063992764,2.5528215620763284,-0.19190944351111974,-1.965756154674671,1.1193011182579384,1.945523608659881,-1.548098759567209,0.8123488904543115,-0.3225284134510511,3.363765957377816,-0.09040794345171485,1.5409372325812711,-0.1524503640369373,-0.9211225662963648,-0.234664343283136,-0.5988387987441645,1.9640046099329038,-1.9059093534907663,-0.30501271196983526,-0.07003303235654587,0.4273691216130949,0.5344919229822604,1.3648893776046511,0.14356096686465294,2.1775369436370027,0.4948293859869428,-0.12634359535027728,0.5515697606392707,-0.7817494449281183,1.168703603757188,1.0632746888968312,0.5928503508023099,-0.48452447812260047,2.471398018677528,0.0320537702562301,-1.2132812417956753,-0.3147939787890694,0.8410529978982227,-0.5513828889586566,0.6123404127705531,-0.7787436701085488,-1.1170001747219052,-0.5855935605970888,0.007561232728142446,0.5054553025090613,-0.134028957426057,2.4810376480615144,1.9949948194179672,0.3913991206519806,-0.3872507585745515,-1.8004463541736992,1.4480733436083826,-1.735085442897729,1.791726625268079,0.22312852195532035,-0.17831185991010187,-0.1342515593153074,3.064660548554613,-0.2567088207163651,1.9759774418795923,-0.23412258600826766,-0.4692604812153284,-0.19256176835937983,-1.9612341837422296,1.6231965239335477,-0.6870279081201187,0.13469205743861082,1.2128703557234293,1.2922561840488511,0.9025536852040918,-0.5283235308581054,0.8419027821447392,-1.496797888222635,-0.49694884262671085,0.06126558484265961,-0.2895372319404262,-1.1338328750070126,-0.6649022974941925,0.33940798232820063,0.9026626694446349,1.119667959555071,0.14558202217431568,-0.8702993232331738,0.1886403378793685,0.9743523532494787,-2.2982701623404735,1.090851860680595,-1.130490055546931,-0.05470785652087121,2.831359429291828],\"type\":\"scatter\"}],                        {\"legend\":{\"bgcolor\":\"#F5F6F9\",\"font\":{\"color\":\"#4D5663\"}},\"paper_bgcolor\":\"#F5F6F9\",\"plot_bgcolor\":\"#F5F6F9\",\"template\":{\"data\":{\"barpolar\":[{\"marker\":{\"line\":{\"color\":\"#E5ECF6\",\"width\":0.5},\"pattern\":{\"fillmode\":\"overlay\",\"size\":10,\"solidity\":0.2}},\"type\":\"barpolar\"}],\"bar\":[{\"error_x\":{\"color\":\"#2a3f5f\"},\"error_y\":{\"color\":\"#2a3f5f\"},\"marker\":{\"line\":{\"color\":\"#E5ECF6\",\"width\":0.5},\"pattern\":{\"fillmode\":\"overlay\",\"size\":10,\"solidity\":0.2}},\"type\":\"bar\"}],\"carpet\":[{\"aaxis\":{\"endlinecolor\":\"#2a3f5f\",\"gridcolor\":\"white\",\"linecolor\":\"white\",\"minorgridcolor\":\"white\",\"startlinecolor\":\"#2a3f5f\"},\"baxis\":{\"endlinecolor\":\"#2a3f5f\",\"gridcolor\":\"white\",\"linecolor\":\"white\",\"minorgridcolor\":\"white\",\"startlinecolor\":\"#2a3f5f\"},\"type\":\"carpet\"}],\"choropleth\":[{\"colorbar\":{\"outlinewidth\":0,\"ticks\":\"\"},\"type\":\"choropleth\"}],\"contourcarpet\":[{\"colorbar\":{\"outlinewidth\":0,\"ticks\":\"\"},\"type\":\"contourcarpet\"}],\"contour\":[{\"colorbar\":{\"outlinewidth\":0,\"ticks\":\"\"},\"colorscale\":[[0.0,\"#0d0887\"],[0.1111111111111111,\"#46039f\"],[0.2222222222222222,\"#7201a8\"],[0.3333333333333333,\"#9c179e\"],[0.4444444444444444,\"#bd3786\"],[0.5555555555555556,\"#d8576b\"],[0.6666666666666666,\"#ed7953\"],[0.7777777777777778,\"#fb9f3a\"],[0.8888888888888888,\"#fdca26\"],[1.0,\"#f0f921\"]],\"type\":\"contour\"}],\"heatmapgl\":[{\"colorbar\":{\"outlinewidth\":0,\"ticks\":\"\"},\"colorscale\":[[0.0,\"#0d0887\"],[0.1111111111111111,\"#46039f\"],[0.2222222222222222,\"#7201a8\"],[0.3333333333333333,\"#9c179e\"],[0.4444444444444444,\"#bd3786\"],[0.5555555555555556,\"#d8576b\"],[0.6666666666666666,\"#ed7953\"],[0.7777777777777778,\"#fb9f3a\"],[0.8888888888888888,\"#fdca26\"],[1.0,\"#f0f921\"]],\"type\":\"heatmapgl\"}],\"heatmap\":[{\"colorbar\":{\"outlinewidth\":0,\"ticks\":\"\"},\"colorscale\":[[0.0,\"#0d0887\"],[0.1111111111111111,\"#46039f\"],[0.2222222222222222,\"#7201a8\"],[0.3333333333333333,\"#9c179e\"],[0.4444444444444444,\"#bd3786\"],[0.5555555555555556,\"#d8576b\"],[0.6666666666666666,\"#ed7953\"],[0.7777777777777778,\"#fb9f3a\"],[0.8888888888888888,\"#fdca26\"],[1.0,\"#f0f921\"]],\"type\":\"heatmap\"}],\"histogram2dcontour\":[{\"colorbar\":{\"outlinewidth\":0,\"ticks\":\"\"},\"colorscale\":[[0.0,\"#0d0887\"],[0.1111111111111111,\"#46039f\"],[0.2222222222222222,\"#7201a8\"],[0.3333333333333333,\"#9c179e\"],[0.4444444444444444,\"#bd3786\"],[0.5555555555555556,\"#d8576b\"],[0.6666666666666666,\"#ed7953\"],[0.7777777777777778,\"#fb9f3a\"],[0.8888888888888888,\"#fdca26\"],[1.0,\"#f0f921\"]],\"type\":\"histogram2dcontour\"}],\"histogram2d\":[{\"colorbar\":{\"outlinewidth\":0,\"ticks\":\"\"},\"colorscale\":[[0.0,\"#0d0887\"],[0.1111111111111111,\"#46039f\"],[0.2222222222222222,\"#7201a8\"],[0.3333333333333333,\"#9c179e\"],[0.4444444444444444,\"#bd3786\"],[0.5555555555555556,\"#d8576b\"],[0.6666666666666666,\"#ed7953\"],[0.7777777777777778,\"#fb9f3a\"],[0.8888888888888888,\"#fdca26\"],[1.0,\"#f0f921\"]],\"type\":\"histogram2d\"}],\"histogram\":[{\"marker\":{\"pattern\":{\"fillmode\":\"overlay\",\"size\":10,\"solidity\":0.2}},\"type\":\"histogram\"}],\"mesh3d\":[{\"colorbar\":{\"outlinewidth\":0,\"ticks\":\"\"},\"type\":\"mesh3d\"}],\"parcoords\":[{\"line\":{\"colorbar\":{\"outlinewidth\":0,\"ticks\":\"\"}},\"type\":\"parcoords\"}],\"pie\":[{\"automargin\":true,\"type\":\"pie\"}],\"scatter3d\":[{\"line\":{\"colorbar\":{\"outlinewidth\":0,\"ticks\":\"\"}},\"marker\":{\"colorbar\":{\"outlinewidth\":0,\"ticks\":\"\"}},\"type\":\"scatter3d\"}],\"scattercarpet\":[{\"marker\":{\"colorbar\":{\"outlinewidth\":0,\"ticks\":\"\"}},\"type\":\"scattercarpet\"}],\"scattergeo\":[{\"marker\":{\"colorbar\":{\"outlinewidth\":0,\"ticks\":\"\"}},\"type\":\"scattergeo\"}],\"scattergl\":[{\"marker\":{\"colorbar\":{\"outlinewidth\":0,\"ticks\":\"\"}},\"type\":\"scattergl\"}],\"scattermapbox\":[{\"marker\":{\"colorbar\":{\"outlinewidth\":0,\"ticks\":\"\"}},\"type\":\"scattermapbox\"}],\"scatterpolargl\":[{\"marker\":{\"colorbar\":{\"outlinewidth\":0,\"ticks\":\"\"}},\"type\":\"scatterpolargl\"}],\"scatterpolar\":[{\"marker\":{\"colorbar\":{\"outlinewidth\":0,\"ticks\":\"\"}},\"type\":\"scatterpolar\"}],\"scatter\":[{\"fillpattern\":{\"fillmode\":\"overlay\",\"size\":10,\"solidity\":0.2},\"type\":\"scatter\"}],\"scatterternary\":[{\"marker\":{\"colorbar\":{\"outlinewidth\":0,\"ticks\":\"\"}},\"type\":\"scatterternary\"}],\"surface\":[{\"colorbar\":{\"outlinewidth\":0,\"ticks\":\"\"},\"colorscale\":[[0.0,\"#0d0887\"],[0.1111111111111111,\"#46039f\"],[0.2222222222222222,\"#7201a8\"],[0.3333333333333333,\"#9c179e\"],[0.4444444444444444,\"#bd3786\"],[0.5555555555555556,\"#d8576b\"],[0.6666666666666666,\"#ed7953\"],[0.7777777777777778,\"#fb9f3a\"],[0.8888888888888888,\"#fdca26\"],[1.0,\"#f0f921\"]],\"type\":\"surface\"}],\"table\":[{\"cells\":{\"fill\":{\"color\":\"#EBF0F8\"},\"line\":{\"color\":\"white\"}},\"header\":{\"fill\":{\"color\":\"#C8D4E3\"},\"line\":{\"color\":\"white\"}},\"type\":\"table\"}]},\"layout\":{\"annotationdefaults\":{\"arrowcolor\":\"#2a3f5f\",\"arrowhead\":0,\"arrowwidth\":1},\"autotypenumbers\":\"strict\",\"coloraxis\":{\"colorbar\":{\"outlinewidth\":0,\"ticks\":\"\"}},\"colorscale\":{\"diverging\":[[0,\"#8e0152\"],[0.1,\"#c51b7d\"],[0.2,\"#de77ae\"],[0.3,\"#f1b6da\"],[0.4,\"#fde0ef\"],[0.5,\"#f7f7f7\"],[0.6,\"#e6f5d0\"],[0.7,\"#b8e186\"],[0.8,\"#7fbc41\"],[0.9,\"#4d9221\"],[1,\"#276419\"]],\"sequential\":[[0.0,\"#0d0887\"],[0.1111111111111111,\"#46039f\"],[0.2222222222222222,\"#7201a8\"],[0.3333333333333333,\"#9c179e\"],[0.4444444444444444,\"#bd3786\"],[0.5555555555555556,\"#d8576b\"],[0.6666666666666666,\"#ed7953\"],[0.7777777777777778,\"#fb9f3a\"],[0.8888888888888888,\"#fdca26\"],[1.0,\"#f0f921\"]],\"sequentialminus\":[[0.0,\"#0d0887\"],[0.1111111111111111,\"#46039f\"],[0.2222222222222222,\"#7201a8\"],[0.3333333333333333,\"#9c179e\"],[0.4444444444444444,\"#bd3786\"],[0.5555555555555556,\"#d8576b\"],[0.6666666666666666,\"#ed7953\"],[0.7777777777777778,\"#fb9f3a\"],[0.8888888888888888,\"#fdca26\"],[1.0,\"#f0f921\"]]},\"colorway\":[\"#636efa\",\"#EF553B\",\"#00cc96\",\"#ab63fa\",\"#FFA15A\",\"#19d3f3\",\"#FF6692\",\"#B6E880\",\"#FF97FF\",\"#FECB52\"],\"font\":{\"color\":\"#2a3f5f\"},\"geo\":{\"bgcolor\":\"white\",\"lakecolor\":\"white\",\"landcolor\":\"#E5ECF6\",\"showlakes\":true,\"showland\":true,\"subunitcolor\":\"white\"},\"hoverlabel\":{\"align\":\"left\"},\"hovermode\":\"closest\",\"mapbox\":{\"style\":\"light\"},\"paper_bgcolor\":\"white\",\"plot_bgcolor\":\"#E5ECF6\",\"polar\":{\"angularaxis\":{\"gridcolor\":\"white\",\"linecolor\":\"white\",\"ticks\":\"\"},\"bgcolor\":\"#E5ECF6\",\"radialaxis\":{\"gridcolor\":\"white\",\"linecolor\":\"white\",\"ticks\":\"\"}},\"scene\":{\"xaxis\":{\"backgroundcolor\":\"#E5ECF6\",\"gridcolor\":\"white\",\"gridwidth\":2,\"linecolor\":\"white\",\"showbackground\":true,\"ticks\":\"\",\"zerolinecolor\":\"white\"},\"yaxis\":{\"backgroundcolor\":\"#E5ECF6\",\"gridcolor\":\"white\",\"gridwidth\":2,\"linecolor\":\"white\",\"showbackground\":true,\"ticks\":\"\",\"zerolinecolor\":\"white\"},\"zaxis\":{\"backgroundcolor\":\"#E5ECF6\",\"gridcolor\":\"white\",\"gridwidth\":2,\"linecolor\":\"white\",\"showbackground\":true,\"ticks\":\"\",\"zerolinecolor\":\"white\"}},\"shapedefaults\":{\"line\":{\"color\":\"#2a3f5f\"}},\"ternary\":{\"aaxis\":{\"gridcolor\":\"white\",\"linecolor\":\"white\",\"ticks\":\"\"},\"baxis\":{\"gridcolor\":\"white\",\"linecolor\":\"white\",\"ticks\":\"\"},\"bgcolor\":\"#E5ECF6\",\"caxis\":{\"gridcolor\":\"white\",\"linecolor\":\"white\",\"ticks\":\"\"}},\"title\":{\"x\":0.05},\"xaxis\":{\"automargin\":true,\"gridcolor\":\"white\",\"linecolor\":\"white\",\"ticks\":\"\",\"title\":{\"standoff\":15},\"zerolinecolor\":\"white\",\"zerolinewidth\":2},\"yaxis\":{\"automargin\":true,\"gridcolor\":\"white\",\"linecolor\":\"white\",\"ticks\":\"\",\"title\":{\"standoff\":15},\"zerolinecolor\":\"white\",\"zerolinewidth\":2}}},\"title\":{\"font\":{\"color\":\"#4D5663\"}},\"xaxis\":{\"gridcolor\":\"#E1E5ED\",\"showgrid\":true,\"tickfont\":{\"color\":\"#4D5663\"},\"title\":{\"font\":{\"color\":\"#4D5663\"},\"text\":\"\"},\"zerolinecolor\":\"#E1E5ED\"},\"yaxis\":{\"gridcolor\":\"#E1E5ED\",\"showgrid\":true,\"tickfont\":{\"color\":\"#4D5663\"},\"title\":{\"font\":{\"color\":\"#4D5663\"},\"text\":\"\"},\"zerolinecolor\":\"#E1E5ED\"}},                        {\"showLink\": true, \"linkText\": \"Export to plot.ly\", \"plotlyServerURL\": \"https://plot.ly\", \"responsive\": true}                    ).then(function(){\n",
       "                            \n",
       "var gd = document.getElementById('6d29c26b-5989-47bd-b6a8-e5cfee214480');\n",
       "var x = new MutationObserver(function (mutations, observer) {{\n",
       "        var display = window.getComputedStyle(gd).display;\n",
       "        if (!display || display === 'none') {{\n",
       "            console.log([gd, 'removed!']);\n",
       "            Plotly.purge(gd);\n",
       "            observer.disconnect();\n",
       "        }}\n",
       "}});\n",
       "\n",
       "// Listen for the removal of the full notebook cells\n",
       "var notebookContainer = gd.closest('#notebook-container');\n",
       "if (notebookContainer) {{\n",
       "    x.observe(notebookContainer, {childList: true});\n",
       "}}\n",
       "\n",
       "// Listen for the clearing of the current output cell\n",
       "var outputEl = gd.closest('.output');\n",
       "if (outputEl) {{\n",
       "    x.observe(outputEl, {childList: true});\n",
       "}}\n",
       "\n",
       "                        })                };                });            </script>        </div>"
      ]
     },
     "metadata": {},
     "output_type": "display_data"
    }
   ],
   "source": [
    "df.iplot()"
   ]
  },
  {
   "cell_type": "code",
   "execution_count": 22,
   "id": "cc9c7f19",
   "metadata": {},
   "outputs": [
    {
     "data": {
      "application/vnd.plotly.v1+json": {
       "config": {
        "linkText": "Export to plot.ly",
        "plotlyServerURL": "https://plot.ly",
        "showLink": true
       },
       "data": [
        {
         "line": {
          "color": "rgba(255, 153, 51, 1.0)",
          "dash": "solid",
          "shape": "linear",
          "width": 1.3
         },
         "mode": "lines",
         "name": "B",
         "text": "",
         "type": "scatter",
         "x": [
          -0.23833749478084632,
          0.6501994394768832,
          0.69240112895364,
          1.5320970914057563,
          1.5143536412100664,
          0.9091328451299554,
          0.5633932306807066,
          -0.6957450025151292,
          -0.3293951092999953,
          0.07112715282153531,
          1.3871289338711221,
          -0.30275030951868354,
          0.4325520012397575,
          0.3557928642971695,
          -0.14842497025923618,
          0.5618247664499927,
          0.05994346882977397,
          -1.4735100631741256,
          -0.08917911520644622,
          1.7363207791384538,
          -0.14329310593151515,
          0.15611611177600046,
          0.5406570368378665,
          -0.9957010147824803,
          1.387177334594978,
          0.1310498324631058,
          -0.22314038016345794,
          0.08879164066410501,
          -0.8810051288147794,
          -0.9770286284628511,
          -0.6715971578254221,
          1.3002560139455641,
          2.321624410335273,
          -0.15289584456586722,
          -0.6972843987992097,
          0.5931203866351997,
          0.9130042417329262,
          -0.3295338415521216,
          -1.3016776038004398,
          1.960484862694741,
          2.2802574608931754,
          -1.55531604820331,
          -0.4757202431700581,
          1.4373273727690996,
          -1.0070240274826834,
          1.2629202246100506,
          0.12856968538899607,
          -1.1243817895047012,
          0.04653002549161323,
          0.4369480939055736,
          0.2693438575066526,
          1.8038758704998965,
          0.1029603524630663,
          1.6081370990783066,
          -0.1378580105992773,
          0.5793942859228219,
          -0.14858741009587503,
          -0.19768016506777614,
          1.048015998868027,
          0.630830200972105,
          -1.5016688943855903,
          -0.42725460179513036,
          0.6632276199073781,
          0.03905584833789047,
          1.7065901060137059,
          -1.1400524905628655,
          0.4061750213104448,
          -0.3410890234644094,
          0.528994584107765,
          -0.44653772676211606,
          1.0273411655950548,
          -0.7616521517056599,
          -0.2990750926136947,
          0.7438791605337584,
          -0.6864816773203487,
          0.29972132855314054,
          0.0635865919701606,
          1.1160715054732728,
          0.23893414638922392,
          -3.0791028296082588,
          0.5628299582121862,
          1.3428877260800716,
          0.16002233058937887,
          -1.908974501388095,
          -1.063113689959441,
          -1.6701307613421852,
          0.6415131291626535,
          -1.4708631052358239,
          0.4542836706219212,
          -0.1803329649366861,
          2.3448185248734807,
          -0.42455083915233127,
          1.3596741223109698,
          -0.6387336708337593,
          -1.199901298038498,
          -0.46670532426178835,
          -1.9657923377437196,
          -2.5721533669425205,
          1.255546642935715,
          0.12504483924872897
         ],
         "y": [
          -0.06291427450316933,
          -1.5322731602884292,
          2.028348772987773,
          0.6693932445647333,
          -1.784146484904668,
          0.5629194960966317,
          -1.1531714182196977,
          -1.198881273469872,
          -0.3599836499936697,
          -1.5859282623298518,
          0.43249326298018725,
          0.006334251206168981,
          -0.26156984664420363,
          -0.5542522296562603,
          0.6615866179143592,
          -1.324140148711569,
          0.34809760005611035,
          0.22845512200847662,
          0.7507214599572216,
          -0.4860243963364303,
          1.1966633637001574,
          -1.2290464952865618,
          0.39754334761882865,
          1.6994877438337332,
          0.7416418706957048,
          0.6403585630531775,
          -0.8734327491302029,
          -0.392926611428367,
          0.5749885606001245,
          -2.0467397051668876,
          0.49166689329736457,
          1.4036586051368503,
          -0.8307840514047554,
          0.6335495113267404,
          1.1820666940436422,
          -1.075705232012773,
          1.1881493161215,
          -1.423278677749765,
          -0.6430643428642822,
          -0.3293289381854944,
          -0.6547480913773267,
          -0.8463597065410111,
          -0.0024702289586539285,
          -1.0612818837077704,
          0.1254377076446763,
          -0.404602263867722,
          -0.7446729897259533,
          0.2186432671211768,
          1.2500505771424142,
          -0.8238305736789608,
          0.9222414596307853,
          -0.015284416785555715,
          -0.22472721377838545,
          0.0030087357121871758,
          0.08870220788145161,
          0.8984932568044094,
          0.14441621658763268,
          -0.4512488727289043,
          1.1375588391431979,
          -0.6527449377415648,
          0.27328665505704497,
          0.8823114753761337,
          0.00732754794294055,
          1.413438055483529,
          -0.5078282211761682,
          -0.8144068941811758,
          0.8789189975450421,
          -0.4161014934626199,
          1.2354275217687003,
          -0.4247058207211809,
          -1.8070468171353722,
          -0.07483434418167269,
          -0.8290768762316153,
          0.0323215009305928,
          -0.46818557550193923,
          -0.678510243789971,
          -0.326508032144984,
          -0.332445340739474,
          -0.08272614551191813,
          1.0935692828179533,
          0.2059558797739144,
          -0.4350877289157243,
          0.58286721728474,
          -0.5766016189112366,
          -1.0735566071205689,
          1.0114973460848427,
          -0.6641909267070367,
          -0.7784262569825346,
          -0.7927172147205591,
          -0.792636498224324,
          0.4303546660014756,
          0.6293061385726557,
          0.9161824688845475,
          -1.2931998909956706,
          0.3963712146012255,
          -1.0923974264157994,
          -0.9439165040572574,
          1.446733011848096,
          2.659876209227425,
          -1.4368341467410388
         ]
        }
       ],
       "layout": {
        "legend": {
         "bgcolor": "#F5F6F9",
         "font": {
          "color": "#4D5663"
         }
        },
        "paper_bgcolor": "#F5F6F9",
        "plot_bgcolor": "#F5F6F9",
        "template": {
         "data": {
          "bar": [
           {
            "error_x": {
             "color": "#2a3f5f"
            },
            "error_y": {
             "color": "#2a3f5f"
            },
            "marker": {
             "line": {
              "color": "#E5ECF6",
              "width": 0.5
             },
             "pattern": {
              "fillmode": "overlay",
              "size": 10,
              "solidity": 0.2
             }
            },
            "type": "bar"
           }
          ],
          "barpolar": [
           {
            "marker": {
             "line": {
              "color": "#E5ECF6",
              "width": 0.5
             },
             "pattern": {
              "fillmode": "overlay",
              "size": 10,
              "solidity": 0.2
             }
            },
            "type": "barpolar"
           }
          ],
          "carpet": [
           {
            "aaxis": {
             "endlinecolor": "#2a3f5f",
             "gridcolor": "white",
             "linecolor": "white",
             "minorgridcolor": "white",
             "startlinecolor": "#2a3f5f"
            },
            "baxis": {
             "endlinecolor": "#2a3f5f",
             "gridcolor": "white",
             "linecolor": "white",
             "minorgridcolor": "white",
             "startlinecolor": "#2a3f5f"
            },
            "type": "carpet"
           }
          ],
          "choropleth": [
           {
            "colorbar": {
             "outlinewidth": 0,
             "ticks": ""
            },
            "type": "choropleth"
           }
          ],
          "contour": [
           {
            "colorbar": {
             "outlinewidth": 0,
             "ticks": ""
            },
            "colorscale": [
             [
              0,
              "#0d0887"
             ],
             [
              0.1111111111111111,
              "#46039f"
             ],
             [
              0.2222222222222222,
              "#7201a8"
             ],
             [
              0.3333333333333333,
              "#9c179e"
             ],
             [
              0.4444444444444444,
              "#bd3786"
             ],
             [
              0.5555555555555556,
              "#d8576b"
             ],
             [
              0.6666666666666666,
              "#ed7953"
             ],
             [
              0.7777777777777778,
              "#fb9f3a"
             ],
             [
              0.8888888888888888,
              "#fdca26"
             ],
             [
              1,
              "#f0f921"
             ]
            ],
            "type": "contour"
           }
          ],
          "contourcarpet": [
           {
            "colorbar": {
             "outlinewidth": 0,
             "ticks": ""
            },
            "type": "contourcarpet"
           }
          ],
          "heatmap": [
           {
            "colorbar": {
             "outlinewidth": 0,
             "ticks": ""
            },
            "colorscale": [
             [
              0,
              "#0d0887"
             ],
             [
              0.1111111111111111,
              "#46039f"
             ],
             [
              0.2222222222222222,
              "#7201a8"
             ],
             [
              0.3333333333333333,
              "#9c179e"
             ],
             [
              0.4444444444444444,
              "#bd3786"
             ],
             [
              0.5555555555555556,
              "#d8576b"
             ],
             [
              0.6666666666666666,
              "#ed7953"
             ],
             [
              0.7777777777777778,
              "#fb9f3a"
             ],
             [
              0.8888888888888888,
              "#fdca26"
             ],
             [
              1,
              "#f0f921"
             ]
            ],
            "type": "heatmap"
           }
          ],
          "heatmapgl": [
           {
            "colorbar": {
             "outlinewidth": 0,
             "ticks": ""
            },
            "colorscale": [
             [
              0,
              "#0d0887"
             ],
             [
              0.1111111111111111,
              "#46039f"
             ],
             [
              0.2222222222222222,
              "#7201a8"
             ],
             [
              0.3333333333333333,
              "#9c179e"
             ],
             [
              0.4444444444444444,
              "#bd3786"
             ],
             [
              0.5555555555555556,
              "#d8576b"
             ],
             [
              0.6666666666666666,
              "#ed7953"
             ],
             [
              0.7777777777777778,
              "#fb9f3a"
             ],
             [
              0.8888888888888888,
              "#fdca26"
             ],
             [
              1,
              "#f0f921"
             ]
            ],
            "type": "heatmapgl"
           }
          ],
          "histogram": [
           {
            "marker": {
             "pattern": {
              "fillmode": "overlay",
              "size": 10,
              "solidity": 0.2
             }
            },
            "type": "histogram"
           }
          ],
          "histogram2d": [
           {
            "colorbar": {
             "outlinewidth": 0,
             "ticks": ""
            },
            "colorscale": [
             [
              0,
              "#0d0887"
             ],
             [
              0.1111111111111111,
              "#46039f"
             ],
             [
              0.2222222222222222,
              "#7201a8"
             ],
             [
              0.3333333333333333,
              "#9c179e"
             ],
             [
              0.4444444444444444,
              "#bd3786"
             ],
             [
              0.5555555555555556,
              "#d8576b"
             ],
             [
              0.6666666666666666,
              "#ed7953"
             ],
             [
              0.7777777777777778,
              "#fb9f3a"
             ],
             [
              0.8888888888888888,
              "#fdca26"
             ],
             [
              1,
              "#f0f921"
             ]
            ],
            "type": "histogram2d"
           }
          ],
          "histogram2dcontour": [
           {
            "colorbar": {
             "outlinewidth": 0,
             "ticks": ""
            },
            "colorscale": [
             [
              0,
              "#0d0887"
             ],
             [
              0.1111111111111111,
              "#46039f"
             ],
             [
              0.2222222222222222,
              "#7201a8"
             ],
             [
              0.3333333333333333,
              "#9c179e"
             ],
             [
              0.4444444444444444,
              "#bd3786"
             ],
             [
              0.5555555555555556,
              "#d8576b"
             ],
             [
              0.6666666666666666,
              "#ed7953"
             ],
             [
              0.7777777777777778,
              "#fb9f3a"
             ],
             [
              0.8888888888888888,
              "#fdca26"
             ],
             [
              1,
              "#f0f921"
             ]
            ],
            "type": "histogram2dcontour"
           }
          ],
          "mesh3d": [
           {
            "colorbar": {
             "outlinewidth": 0,
             "ticks": ""
            },
            "type": "mesh3d"
           }
          ],
          "parcoords": [
           {
            "line": {
             "colorbar": {
              "outlinewidth": 0,
              "ticks": ""
             }
            },
            "type": "parcoords"
           }
          ],
          "pie": [
           {
            "automargin": true,
            "type": "pie"
           }
          ],
          "scatter": [
           {
            "fillpattern": {
             "fillmode": "overlay",
             "size": 10,
             "solidity": 0.2
            },
            "type": "scatter"
           }
          ],
          "scatter3d": [
           {
            "line": {
             "colorbar": {
              "outlinewidth": 0,
              "ticks": ""
             }
            },
            "marker": {
             "colorbar": {
              "outlinewidth": 0,
              "ticks": ""
             }
            },
            "type": "scatter3d"
           }
          ],
          "scattercarpet": [
           {
            "marker": {
             "colorbar": {
              "outlinewidth": 0,
              "ticks": ""
             }
            },
            "type": "scattercarpet"
           }
          ],
          "scattergeo": [
           {
            "marker": {
             "colorbar": {
              "outlinewidth": 0,
              "ticks": ""
             }
            },
            "type": "scattergeo"
           }
          ],
          "scattergl": [
           {
            "marker": {
             "colorbar": {
              "outlinewidth": 0,
              "ticks": ""
             }
            },
            "type": "scattergl"
           }
          ],
          "scattermapbox": [
           {
            "marker": {
             "colorbar": {
              "outlinewidth": 0,
              "ticks": ""
             }
            },
            "type": "scattermapbox"
           }
          ],
          "scatterpolar": [
           {
            "marker": {
             "colorbar": {
              "outlinewidth": 0,
              "ticks": ""
             }
            },
            "type": "scatterpolar"
           }
          ],
          "scatterpolargl": [
           {
            "marker": {
             "colorbar": {
              "outlinewidth": 0,
              "ticks": ""
             }
            },
            "type": "scatterpolargl"
           }
          ],
          "scatterternary": [
           {
            "marker": {
             "colorbar": {
              "outlinewidth": 0,
              "ticks": ""
             }
            },
            "type": "scatterternary"
           }
          ],
          "surface": [
           {
            "colorbar": {
             "outlinewidth": 0,
             "ticks": ""
            },
            "colorscale": [
             [
              0,
              "#0d0887"
             ],
             [
              0.1111111111111111,
              "#46039f"
             ],
             [
              0.2222222222222222,
              "#7201a8"
             ],
             [
              0.3333333333333333,
              "#9c179e"
             ],
             [
              0.4444444444444444,
              "#bd3786"
             ],
             [
              0.5555555555555556,
              "#d8576b"
             ],
             [
              0.6666666666666666,
              "#ed7953"
             ],
             [
              0.7777777777777778,
              "#fb9f3a"
             ],
             [
              0.8888888888888888,
              "#fdca26"
             ],
             [
              1,
              "#f0f921"
             ]
            ],
            "type": "surface"
           }
          ],
          "table": [
           {
            "cells": {
             "fill": {
              "color": "#EBF0F8"
             },
             "line": {
              "color": "white"
             }
            },
            "header": {
             "fill": {
              "color": "#C8D4E3"
             },
             "line": {
              "color": "white"
             }
            },
            "type": "table"
           }
          ]
         },
         "layout": {
          "annotationdefaults": {
           "arrowcolor": "#2a3f5f",
           "arrowhead": 0,
           "arrowwidth": 1
          },
          "autotypenumbers": "strict",
          "coloraxis": {
           "colorbar": {
            "outlinewidth": 0,
            "ticks": ""
           }
          },
          "colorscale": {
           "diverging": [
            [
             0,
             "#8e0152"
            ],
            [
             0.1,
             "#c51b7d"
            ],
            [
             0.2,
             "#de77ae"
            ],
            [
             0.3,
             "#f1b6da"
            ],
            [
             0.4,
             "#fde0ef"
            ],
            [
             0.5,
             "#f7f7f7"
            ],
            [
             0.6,
             "#e6f5d0"
            ],
            [
             0.7,
             "#b8e186"
            ],
            [
             0.8,
             "#7fbc41"
            ],
            [
             0.9,
             "#4d9221"
            ],
            [
             1,
             "#276419"
            ]
           ],
           "sequential": [
            [
             0,
             "#0d0887"
            ],
            [
             0.1111111111111111,
             "#46039f"
            ],
            [
             0.2222222222222222,
             "#7201a8"
            ],
            [
             0.3333333333333333,
             "#9c179e"
            ],
            [
             0.4444444444444444,
             "#bd3786"
            ],
            [
             0.5555555555555556,
             "#d8576b"
            ],
            [
             0.6666666666666666,
             "#ed7953"
            ],
            [
             0.7777777777777778,
             "#fb9f3a"
            ],
            [
             0.8888888888888888,
             "#fdca26"
            ],
            [
             1,
             "#f0f921"
            ]
           ],
           "sequentialminus": [
            [
             0,
             "#0d0887"
            ],
            [
             0.1111111111111111,
             "#46039f"
            ],
            [
             0.2222222222222222,
             "#7201a8"
            ],
            [
             0.3333333333333333,
             "#9c179e"
            ],
            [
             0.4444444444444444,
             "#bd3786"
            ],
            [
             0.5555555555555556,
             "#d8576b"
            ],
            [
             0.6666666666666666,
             "#ed7953"
            ],
            [
             0.7777777777777778,
             "#fb9f3a"
            ],
            [
             0.8888888888888888,
             "#fdca26"
            ],
            [
             1,
             "#f0f921"
            ]
           ]
          },
          "colorway": [
           "#636efa",
           "#EF553B",
           "#00cc96",
           "#ab63fa",
           "#FFA15A",
           "#19d3f3",
           "#FF6692",
           "#B6E880",
           "#FF97FF",
           "#FECB52"
          ],
          "font": {
           "color": "#2a3f5f"
          },
          "geo": {
           "bgcolor": "white",
           "lakecolor": "white",
           "landcolor": "#E5ECF6",
           "showlakes": true,
           "showland": true,
           "subunitcolor": "white"
          },
          "hoverlabel": {
           "align": "left"
          },
          "hovermode": "closest",
          "mapbox": {
           "style": "light"
          },
          "paper_bgcolor": "white",
          "plot_bgcolor": "#E5ECF6",
          "polar": {
           "angularaxis": {
            "gridcolor": "white",
            "linecolor": "white",
            "ticks": ""
           },
           "bgcolor": "#E5ECF6",
           "radialaxis": {
            "gridcolor": "white",
            "linecolor": "white",
            "ticks": ""
           }
          },
          "scene": {
           "xaxis": {
            "backgroundcolor": "#E5ECF6",
            "gridcolor": "white",
            "gridwidth": 2,
            "linecolor": "white",
            "showbackground": true,
            "ticks": "",
            "zerolinecolor": "white"
           },
           "yaxis": {
            "backgroundcolor": "#E5ECF6",
            "gridcolor": "white",
            "gridwidth": 2,
            "linecolor": "white",
            "showbackground": true,
            "ticks": "",
            "zerolinecolor": "white"
           },
           "zaxis": {
            "backgroundcolor": "#E5ECF6",
            "gridcolor": "white",
            "gridwidth": 2,
            "linecolor": "white",
            "showbackground": true,
            "ticks": "",
            "zerolinecolor": "white"
           }
          },
          "shapedefaults": {
           "line": {
            "color": "#2a3f5f"
           }
          },
          "ternary": {
           "aaxis": {
            "gridcolor": "white",
            "linecolor": "white",
            "ticks": ""
           },
           "baxis": {
            "gridcolor": "white",
            "linecolor": "white",
            "ticks": ""
           },
           "bgcolor": "#E5ECF6",
           "caxis": {
            "gridcolor": "white",
            "linecolor": "white",
            "ticks": ""
           }
          },
          "title": {
           "x": 0.05
          },
          "xaxis": {
           "automargin": true,
           "gridcolor": "white",
           "linecolor": "white",
           "ticks": "",
           "title": {
            "standoff": 15
           },
           "zerolinecolor": "white",
           "zerolinewidth": 2
          },
          "yaxis": {
           "automargin": true,
           "gridcolor": "white",
           "linecolor": "white",
           "ticks": "",
           "title": {
            "standoff": 15
           },
           "zerolinecolor": "white",
           "zerolinewidth": 2
          }
         }
        },
        "title": {
         "font": {
          "color": "#4D5663"
         }
        },
        "xaxis": {
         "gridcolor": "#E1E5ED",
         "showgrid": true,
         "tickfont": {
          "color": "#4D5663"
         },
         "title": {
          "font": {
           "color": "#4D5663"
          },
          "text": ""
         },
         "zerolinecolor": "#E1E5ED"
        },
        "yaxis": {
         "gridcolor": "#E1E5ED",
         "showgrid": true,
         "tickfont": {
          "color": "#4D5663"
         },
         "title": {
          "font": {
           "color": "#4D5663"
          },
          "text": ""
         },
         "zerolinecolor": "#E1E5ED"
        }
       }
      },
      "text/html": [
       "<div>                            <div id=\"c4982cef-0fa8-4bae-b85c-2c63d7a8f53d\" class=\"plotly-graph-div\" style=\"height:525px; width:100%;\"></div>            <script type=\"text/javascript\">                require([\"plotly\"], function(Plotly) {                    window.PLOTLYENV=window.PLOTLYENV || {};\n",
       "                    window.PLOTLYENV.BASE_URL='https://plot.ly';                                    if (document.getElementById(\"c4982cef-0fa8-4bae-b85c-2c63d7a8f53d\")) {                    Plotly.newPlot(                        \"c4982cef-0fa8-4bae-b85c-2c63d7a8f53d\",                        [{\"line\":{\"color\":\"rgba(255, 153, 51, 1.0)\",\"dash\":\"solid\",\"shape\":\"linear\",\"width\":1.3},\"mode\":\"lines\",\"name\":\"B\",\"text\":\"\",\"x\":[-0.23833749478084632,0.6501994394768832,0.69240112895364,1.5320970914057563,1.5143536412100664,0.9091328451299554,0.5633932306807066,-0.6957450025151292,-0.3293951092999953,0.07112715282153531,1.3871289338711221,-0.30275030951868354,0.4325520012397575,0.3557928642971695,-0.14842497025923618,0.5618247664499927,0.05994346882977397,-1.4735100631741256,-0.08917911520644622,1.7363207791384538,-0.14329310593151515,0.15611611177600046,0.5406570368378665,-0.9957010147824803,1.387177334594978,0.1310498324631058,-0.22314038016345794,0.08879164066410501,-0.8810051288147794,-0.9770286284628511,-0.6715971578254221,1.3002560139455641,2.321624410335273,-0.15289584456586722,-0.6972843987992097,0.5931203866351997,0.9130042417329262,-0.3295338415521216,-1.3016776038004398,1.960484862694741,2.2802574608931754,-1.55531604820331,-0.4757202431700581,1.4373273727690996,-1.0070240274826834,1.2629202246100506,0.12856968538899607,-1.1243817895047012,0.04653002549161323,0.4369480939055736,0.2693438575066526,1.8038758704998965,0.1029603524630663,1.6081370990783066,-0.1378580105992773,0.5793942859228219,-0.14858741009587503,-0.19768016506777614,1.048015998868027,0.630830200972105,-1.5016688943855903,-0.42725460179513036,0.6632276199073781,0.03905584833789047,1.7065901060137059,-1.1400524905628655,0.4061750213104448,-0.3410890234644094,0.528994584107765,-0.44653772676211606,1.0273411655950548,-0.7616521517056599,-0.2990750926136947,0.7438791605337584,-0.6864816773203487,0.29972132855314054,0.0635865919701606,1.1160715054732728,0.23893414638922392,-3.0791028296082588,0.5628299582121862,1.3428877260800716,0.16002233058937887,-1.908974501388095,-1.063113689959441,-1.6701307613421852,0.6415131291626535,-1.4708631052358239,0.4542836706219212,-0.1803329649366861,2.3448185248734807,-0.42455083915233127,1.3596741223109698,-0.6387336708337593,-1.199901298038498,-0.46670532426178835,-1.9657923377437196,-2.5721533669425205,1.255546642935715,0.12504483924872897],\"y\":[-0.06291427450316933,-1.5322731602884292,2.028348772987773,0.6693932445647333,-1.784146484904668,0.5629194960966317,-1.1531714182196977,-1.198881273469872,-0.3599836499936697,-1.5859282623298518,0.43249326298018725,0.006334251206168981,-0.26156984664420363,-0.5542522296562603,0.6615866179143592,-1.324140148711569,0.34809760005611035,0.22845512200847662,0.7507214599572216,-0.4860243963364303,1.1966633637001574,-1.2290464952865618,0.39754334761882865,1.6994877438337332,0.7416418706957048,0.6403585630531775,-0.8734327491302029,-0.392926611428367,0.5749885606001245,-2.0467397051668876,0.49166689329736457,1.4036586051368503,-0.8307840514047554,0.6335495113267404,1.1820666940436422,-1.075705232012773,1.1881493161215,-1.423278677749765,-0.6430643428642822,-0.3293289381854944,-0.6547480913773267,-0.8463597065410111,-0.0024702289586539285,-1.0612818837077704,0.1254377076446763,-0.404602263867722,-0.7446729897259533,0.2186432671211768,1.2500505771424142,-0.8238305736789608,0.9222414596307853,-0.015284416785555715,-0.22472721377838545,0.0030087357121871758,0.08870220788145161,0.8984932568044094,0.14441621658763268,-0.4512488727289043,1.1375588391431979,-0.6527449377415648,0.27328665505704497,0.8823114753761337,0.00732754794294055,1.413438055483529,-0.5078282211761682,-0.8144068941811758,0.8789189975450421,-0.4161014934626199,1.2354275217687003,-0.4247058207211809,-1.8070468171353722,-0.07483434418167269,-0.8290768762316153,0.0323215009305928,-0.46818557550193923,-0.678510243789971,-0.326508032144984,-0.332445340739474,-0.08272614551191813,1.0935692828179533,0.2059558797739144,-0.4350877289157243,0.58286721728474,-0.5766016189112366,-1.0735566071205689,1.0114973460848427,-0.6641909267070367,-0.7784262569825346,-0.7927172147205591,-0.792636498224324,0.4303546660014756,0.6293061385726557,0.9161824688845475,-1.2931998909956706,0.3963712146012255,-1.0923974264157994,-0.9439165040572574,1.446733011848096,2.659876209227425,-1.4368341467410388],\"type\":\"scatter\"}],                        {\"legend\":{\"bgcolor\":\"#F5F6F9\",\"font\":{\"color\":\"#4D5663\"}},\"paper_bgcolor\":\"#F5F6F9\",\"plot_bgcolor\":\"#F5F6F9\",\"template\":{\"data\":{\"barpolar\":[{\"marker\":{\"line\":{\"color\":\"#E5ECF6\",\"width\":0.5},\"pattern\":{\"fillmode\":\"overlay\",\"size\":10,\"solidity\":0.2}},\"type\":\"barpolar\"}],\"bar\":[{\"error_x\":{\"color\":\"#2a3f5f\"},\"error_y\":{\"color\":\"#2a3f5f\"},\"marker\":{\"line\":{\"color\":\"#E5ECF6\",\"width\":0.5},\"pattern\":{\"fillmode\":\"overlay\",\"size\":10,\"solidity\":0.2}},\"type\":\"bar\"}],\"carpet\":[{\"aaxis\":{\"endlinecolor\":\"#2a3f5f\",\"gridcolor\":\"white\",\"linecolor\":\"white\",\"minorgridcolor\":\"white\",\"startlinecolor\":\"#2a3f5f\"},\"baxis\":{\"endlinecolor\":\"#2a3f5f\",\"gridcolor\":\"white\",\"linecolor\":\"white\",\"minorgridcolor\":\"white\",\"startlinecolor\":\"#2a3f5f\"},\"type\":\"carpet\"}],\"choropleth\":[{\"colorbar\":{\"outlinewidth\":0,\"ticks\":\"\"},\"type\":\"choropleth\"}],\"contourcarpet\":[{\"colorbar\":{\"outlinewidth\":0,\"ticks\":\"\"},\"type\":\"contourcarpet\"}],\"contour\":[{\"colorbar\":{\"outlinewidth\":0,\"ticks\":\"\"},\"colorscale\":[[0.0,\"#0d0887\"],[0.1111111111111111,\"#46039f\"],[0.2222222222222222,\"#7201a8\"],[0.3333333333333333,\"#9c179e\"],[0.4444444444444444,\"#bd3786\"],[0.5555555555555556,\"#d8576b\"],[0.6666666666666666,\"#ed7953\"],[0.7777777777777778,\"#fb9f3a\"],[0.8888888888888888,\"#fdca26\"],[1.0,\"#f0f921\"]],\"type\":\"contour\"}],\"heatmapgl\":[{\"colorbar\":{\"outlinewidth\":0,\"ticks\":\"\"},\"colorscale\":[[0.0,\"#0d0887\"],[0.1111111111111111,\"#46039f\"],[0.2222222222222222,\"#7201a8\"],[0.3333333333333333,\"#9c179e\"],[0.4444444444444444,\"#bd3786\"],[0.5555555555555556,\"#d8576b\"],[0.6666666666666666,\"#ed7953\"],[0.7777777777777778,\"#fb9f3a\"],[0.8888888888888888,\"#fdca26\"],[1.0,\"#f0f921\"]],\"type\":\"heatmapgl\"}],\"heatmap\":[{\"colorbar\":{\"outlinewidth\":0,\"ticks\":\"\"},\"colorscale\":[[0.0,\"#0d0887\"],[0.1111111111111111,\"#46039f\"],[0.2222222222222222,\"#7201a8\"],[0.3333333333333333,\"#9c179e\"],[0.4444444444444444,\"#bd3786\"],[0.5555555555555556,\"#d8576b\"],[0.6666666666666666,\"#ed7953\"],[0.7777777777777778,\"#fb9f3a\"],[0.8888888888888888,\"#fdca26\"],[1.0,\"#f0f921\"]],\"type\":\"heatmap\"}],\"histogram2dcontour\":[{\"colorbar\":{\"outlinewidth\":0,\"ticks\":\"\"},\"colorscale\":[[0.0,\"#0d0887\"],[0.1111111111111111,\"#46039f\"],[0.2222222222222222,\"#7201a8\"],[0.3333333333333333,\"#9c179e\"],[0.4444444444444444,\"#bd3786\"],[0.5555555555555556,\"#d8576b\"],[0.6666666666666666,\"#ed7953\"],[0.7777777777777778,\"#fb9f3a\"],[0.8888888888888888,\"#fdca26\"],[1.0,\"#f0f921\"]],\"type\":\"histogram2dcontour\"}],\"histogram2d\":[{\"colorbar\":{\"outlinewidth\":0,\"ticks\":\"\"},\"colorscale\":[[0.0,\"#0d0887\"],[0.1111111111111111,\"#46039f\"],[0.2222222222222222,\"#7201a8\"],[0.3333333333333333,\"#9c179e\"],[0.4444444444444444,\"#bd3786\"],[0.5555555555555556,\"#d8576b\"],[0.6666666666666666,\"#ed7953\"],[0.7777777777777778,\"#fb9f3a\"],[0.8888888888888888,\"#fdca26\"],[1.0,\"#f0f921\"]],\"type\":\"histogram2d\"}],\"histogram\":[{\"marker\":{\"pattern\":{\"fillmode\":\"overlay\",\"size\":10,\"solidity\":0.2}},\"type\":\"histogram\"}],\"mesh3d\":[{\"colorbar\":{\"outlinewidth\":0,\"ticks\":\"\"},\"type\":\"mesh3d\"}],\"parcoords\":[{\"line\":{\"colorbar\":{\"outlinewidth\":0,\"ticks\":\"\"}},\"type\":\"parcoords\"}],\"pie\":[{\"automargin\":true,\"type\":\"pie\"}],\"scatter3d\":[{\"line\":{\"colorbar\":{\"outlinewidth\":0,\"ticks\":\"\"}},\"marker\":{\"colorbar\":{\"outlinewidth\":0,\"ticks\":\"\"}},\"type\":\"scatter3d\"}],\"scattercarpet\":[{\"marker\":{\"colorbar\":{\"outlinewidth\":0,\"ticks\":\"\"}},\"type\":\"scattercarpet\"}],\"scattergeo\":[{\"marker\":{\"colorbar\":{\"outlinewidth\":0,\"ticks\":\"\"}},\"type\":\"scattergeo\"}],\"scattergl\":[{\"marker\":{\"colorbar\":{\"outlinewidth\":0,\"ticks\":\"\"}},\"type\":\"scattergl\"}],\"scattermapbox\":[{\"marker\":{\"colorbar\":{\"outlinewidth\":0,\"ticks\":\"\"}},\"type\":\"scattermapbox\"}],\"scatterpolargl\":[{\"marker\":{\"colorbar\":{\"outlinewidth\":0,\"ticks\":\"\"}},\"type\":\"scatterpolargl\"}],\"scatterpolar\":[{\"marker\":{\"colorbar\":{\"outlinewidth\":0,\"ticks\":\"\"}},\"type\":\"scatterpolar\"}],\"scatter\":[{\"fillpattern\":{\"fillmode\":\"overlay\",\"size\":10,\"solidity\":0.2},\"type\":\"scatter\"}],\"scatterternary\":[{\"marker\":{\"colorbar\":{\"outlinewidth\":0,\"ticks\":\"\"}},\"type\":\"scatterternary\"}],\"surface\":[{\"colorbar\":{\"outlinewidth\":0,\"ticks\":\"\"},\"colorscale\":[[0.0,\"#0d0887\"],[0.1111111111111111,\"#46039f\"],[0.2222222222222222,\"#7201a8\"],[0.3333333333333333,\"#9c179e\"],[0.4444444444444444,\"#bd3786\"],[0.5555555555555556,\"#d8576b\"],[0.6666666666666666,\"#ed7953\"],[0.7777777777777778,\"#fb9f3a\"],[0.8888888888888888,\"#fdca26\"],[1.0,\"#f0f921\"]],\"type\":\"surface\"}],\"table\":[{\"cells\":{\"fill\":{\"color\":\"#EBF0F8\"},\"line\":{\"color\":\"white\"}},\"header\":{\"fill\":{\"color\":\"#C8D4E3\"},\"line\":{\"color\":\"white\"}},\"type\":\"table\"}]},\"layout\":{\"annotationdefaults\":{\"arrowcolor\":\"#2a3f5f\",\"arrowhead\":0,\"arrowwidth\":1},\"autotypenumbers\":\"strict\",\"coloraxis\":{\"colorbar\":{\"outlinewidth\":0,\"ticks\":\"\"}},\"colorscale\":{\"diverging\":[[0,\"#8e0152\"],[0.1,\"#c51b7d\"],[0.2,\"#de77ae\"],[0.3,\"#f1b6da\"],[0.4,\"#fde0ef\"],[0.5,\"#f7f7f7\"],[0.6,\"#e6f5d0\"],[0.7,\"#b8e186\"],[0.8,\"#7fbc41\"],[0.9,\"#4d9221\"],[1,\"#276419\"]],\"sequential\":[[0.0,\"#0d0887\"],[0.1111111111111111,\"#46039f\"],[0.2222222222222222,\"#7201a8\"],[0.3333333333333333,\"#9c179e\"],[0.4444444444444444,\"#bd3786\"],[0.5555555555555556,\"#d8576b\"],[0.6666666666666666,\"#ed7953\"],[0.7777777777777778,\"#fb9f3a\"],[0.8888888888888888,\"#fdca26\"],[1.0,\"#f0f921\"]],\"sequentialminus\":[[0.0,\"#0d0887\"],[0.1111111111111111,\"#46039f\"],[0.2222222222222222,\"#7201a8\"],[0.3333333333333333,\"#9c179e\"],[0.4444444444444444,\"#bd3786\"],[0.5555555555555556,\"#d8576b\"],[0.6666666666666666,\"#ed7953\"],[0.7777777777777778,\"#fb9f3a\"],[0.8888888888888888,\"#fdca26\"],[1.0,\"#f0f921\"]]},\"colorway\":[\"#636efa\",\"#EF553B\",\"#00cc96\",\"#ab63fa\",\"#FFA15A\",\"#19d3f3\",\"#FF6692\",\"#B6E880\",\"#FF97FF\",\"#FECB52\"],\"font\":{\"color\":\"#2a3f5f\"},\"geo\":{\"bgcolor\":\"white\",\"lakecolor\":\"white\",\"landcolor\":\"#E5ECF6\",\"showlakes\":true,\"showland\":true,\"subunitcolor\":\"white\"},\"hoverlabel\":{\"align\":\"left\"},\"hovermode\":\"closest\",\"mapbox\":{\"style\":\"light\"},\"paper_bgcolor\":\"white\",\"plot_bgcolor\":\"#E5ECF6\",\"polar\":{\"angularaxis\":{\"gridcolor\":\"white\",\"linecolor\":\"white\",\"ticks\":\"\"},\"bgcolor\":\"#E5ECF6\",\"radialaxis\":{\"gridcolor\":\"white\",\"linecolor\":\"white\",\"ticks\":\"\"}},\"scene\":{\"xaxis\":{\"backgroundcolor\":\"#E5ECF6\",\"gridcolor\":\"white\",\"gridwidth\":2,\"linecolor\":\"white\",\"showbackground\":true,\"ticks\":\"\",\"zerolinecolor\":\"white\"},\"yaxis\":{\"backgroundcolor\":\"#E5ECF6\",\"gridcolor\":\"white\",\"gridwidth\":2,\"linecolor\":\"white\",\"showbackground\":true,\"ticks\":\"\",\"zerolinecolor\":\"white\"},\"zaxis\":{\"backgroundcolor\":\"#E5ECF6\",\"gridcolor\":\"white\",\"gridwidth\":2,\"linecolor\":\"white\",\"showbackground\":true,\"ticks\":\"\",\"zerolinecolor\":\"white\"}},\"shapedefaults\":{\"line\":{\"color\":\"#2a3f5f\"}},\"ternary\":{\"aaxis\":{\"gridcolor\":\"white\",\"linecolor\":\"white\",\"ticks\":\"\"},\"baxis\":{\"gridcolor\":\"white\",\"linecolor\":\"white\",\"ticks\":\"\"},\"bgcolor\":\"#E5ECF6\",\"caxis\":{\"gridcolor\":\"white\",\"linecolor\":\"white\",\"ticks\":\"\"}},\"title\":{\"x\":0.05},\"xaxis\":{\"automargin\":true,\"gridcolor\":\"white\",\"linecolor\":\"white\",\"ticks\":\"\",\"title\":{\"standoff\":15},\"zerolinecolor\":\"white\",\"zerolinewidth\":2},\"yaxis\":{\"automargin\":true,\"gridcolor\":\"white\",\"linecolor\":\"white\",\"ticks\":\"\",\"title\":{\"standoff\":15},\"zerolinecolor\":\"white\",\"zerolinewidth\":2}}},\"title\":{\"font\":{\"color\":\"#4D5663\"}},\"xaxis\":{\"gridcolor\":\"#E1E5ED\",\"showgrid\":true,\"tickfont\":{\"color\":\"#4D5663\"},\"title\":{\"font\":{\"color\":\"#4D5663\"},\"text\":\"\"},\"zerolinecolor\":\"#E1E5ED\"},\"yaxis\":{\"gridcolor\":\"#E1E5ED\",\"showgrid\":true,\"tickfont\":{\"color\":\"#4D5663\"},\"title\":{\"font\":{\"color\":\"#4D5663\"},\"text\":\"\"},\"zerolinecolor\":\"#E1E5ED\"}},                        {\"showLink\": true, \"linkText\": \"Export to plot.ly\", \"plotlyServerURL\": \"https://plot.ly\", \"responsive\": true}                    ).then(function(){\n",
       "                            \n",
       "var gd = document.getElementById('c4982cef-0fa8-4bae-b85c-2c63d7a8f53d');\n",
       "var x = new MutationObserver(function (mutations, observer) {{\n",
       "        var display = window.getComputedStyle(gd).display;\n",
       "        if (!display || display === 'none') {{\n",
       "            console.log([gd, 'removed!']);\n",
       "            Plotly.purge(gd);\n",
       "            observer.disconnect();\n",
       "        }}\n",
       "}});\n",
       "\n",
       "// Listen for the removal of the full notebook cells\n",
       "var notebookContainer = gd.closest('#notebook-container');\n",
       "if (notebookContainer) {{\n",
       "    x.observe(notebookContainer, {childList: true});\n",
       "}}\n",
       "\n",
       "// Listen for the clearing of the current output cell\n",
       "var outputEl = gd.closest('.output');\n",
       "if (outputEl) {{\n",
       "    x.observe(outputEl, {childList: true});\n",
       "}}\n",
       "\n",
       "                        })                };                });            </script>        </div>"
      ]
     },
     "metadata": {},
     "output_type": "display_data"
    }
   ],
   "source": [
    "df.iplot(kind='scatter',x='A',y='B') # by default it tries to connect the dots"
   ]
  },
  {
   "cell_type": "code",
   "execution_count": 23,
   "id": "cca9a46e",
   "metadata": {},
   "outputs": [
    {
     "data": {
      "application/vnd.plotly.v1+json": {
       "config": {
        "linkText": "Export to plot.ly",
        "plotlyServerURL": "https://plot.ly",
        "showLink": true
       },
       "data": [
        {
         "line": {
          "color": "rgba(255, 153, 51, 1.0)",
          "dash": "solid",
          "shape": "linear",
          "width": 1.3
         },
         "marker": {
          "size": 12,
          "symbol": "circle"
         },
         "mode": "markers",
         "name": "B",
         "text": "",
         "type": "scatter",
         "x": [
          -0.23833749478084632,
          0.6501994394768832,
          0.69240112895364,
          1.5320970914057563,
          1.5143536412100664,
          0.9091328451299554,
          0.5633932306807066,
          -0.6957450025151292,
          -0.3293951092999953,
          0.07112715282153531,
          1.3871289338711221,
          -0.30275030951868354,
          0.4325520012397575,
          0.3557928642971695,
          -0.14842497025923618,
          0.5618247664499927,
          0.05994346882977397,
          -1.4735100631741256,
          -0.08917911520644622,
          1.7363207791384538,
          -0.14329310593151515,
          0.15611611177600046,
          0.5406570368378665,
          -0.9957010147824803,
          1.387177334594978,
          0.1310498324631058,
          -0.22314038016345794,
          0.08879164066410501,
          -0.8810051288147794,
          -0.9770286284628511,
          -0.6715971578254221,
          1.3002560139455641,
          2.321624410335273,
          -0.15289584456586722,
          -0.6972843987992097,
          0.5931203866351997,
          0.9130042417329262,
          -0.3295338415521216,
          -1.3016776038004398,
          1.960484862694741,
          2.2802574608931754,
          -1.55531604820331,
          -0.4757202431700581,
          1.4373273727690996,
          -1.0070240274826834,
          1.2629202246100506,
          0.12856968538899607,
          -1.1243817895047012,
          0.04653002549161323,
          0.4369480939055736,
          0.2693438575066526,
          1.8038758704998965,
          0.1029603524630663,
          1.6081370990783066,
          -0.1378580105992773,
          0.5793942859228219,
          -0.14858741009587503,
          -0.19768016506777614,
          1.048015998868027,
          0.630830200972105,
          -1.5016688943855903,
          -0.42725460179513036,
          0.6632276199073781,
          0.03905584833789047,
          1.7065901060137059,
          -1.1400524905628655,
          0.4061750213104448,
          -0.3410890234644094,
          0.528994584107765,
          -0.44653772676211606,
          1.0273411655950548,
          -0.7616521517056599,
          -0.2990750926136947,
          0.7438791605337584,
          -0.6864816773203487,
          0.29972132855314054,
          0.0635865919701606,
          1.1160715054732728,
          0.23893414638922392,
          -3.0791028296082588,
          0.5628299582121862,
          1.3428877260800716,
          0.16002233058937887,
          -1.908974501388095,
          -1.063113689959441,
          -1.6701307613421852,
          0.6415131291626535,
          -1.4708631052358239,
          0.4542836706219212,
          -0.1803329649366861,
          2.3448185248734807,
          -0.42455083915233127,
          1.3596741223109698,
          -0.6387336708337593,
          -1.199901298038498,
          -0.46670532426178835,
          -1.9657923377437196,
          -2.5721533669425205,
          1.255546642935715,
          0.12504483924872897
         ],
         "y": [
          -0.06291427450316933,
          -1.5322731602884292,
          2.028348772987773,
          0.6693932445647333,
          -1.784146484904668,
          0.5629194960966317,
          -1.1531714182196977,
          -1.198881273469872,
          -0.3599836499936697,
          -1.5859282623298518,
          0.43249326298018725,
          0.006334251206168981,
          -0.26156984664420363,
          -0.5542522296562603,
          0.6615866179143592,
          -1.324140148711569,
          0.34809760005611035,
          0.22845512200847662,
          0.7507214599572216,
          -0.4860243963364303,
          1.1966633637001574,
          -1.2290464952865618,
          0.39754334761882865,
          1.6994877438337332,
          0.7416418706957048,
          0.6403585630531775,
          -0.8734327491302029,
          -0.392926611428367,
          0.5749885606001245,
          -2.0467397051668876,
          0.49166689329736457,
          1.4036586051368503,
          -0.8307840514047554,
          0.6335495113267404,
          1.1820666940436422,
          -1.075705232012773,
          1.1881493161215,
          -1.423278677749765,
          -0.6430643428642822,
          -0.3293289381854944,
          -0.6547480913773267,
          -0.8463597065410111,
          -0.0024702289586539285,
          -1.0612818837077704,
          0.1254377076446763,
          -0.404602263867722,
          -0.7446729897259533,
          0.2186432671211768,
          1.2500505771424142,
          -0.8238305736789608,
          0.9222414596307853,
          -0.015284416785555715,
          -0.22472721377838545,
          0.0030087357121871758,
          0.08870220788145161,
          0.8984932568044094,
          0.14441621658763268,
          -0.4512488727289043,
          1.1375588391431979,
          -0.6527449377415648,
          0.27328665505704497,
          0.8823114753761337,
          0.00732754794294055,
          1.413438055483529,
          -0.5078282211761682,
          -0.8144068941811758,
          0.8789189975450421,
          -0.4161014934626199,
          1.2354275217687003,
          -0.4247058207211809,
          -1.8070468171353722,
          -0.07483434418167269,
          -0.8290768762316153,
          0.0323215009305928,
          -0.46818557550193923,
          -0.678510243789971,
          -0.326508032144984,
          -0.332445340739474,
          -0.08272614551191813,
          1.0935692828179533,
          0.2059558797739144,
          -0.4350877289157243,
          0.58286721728474,
          -0.5766016189112366,
          -1.0735566071205689,
          1.0114973460848427,
          -0.6641909267070367,
          -0.7784262569825346,
          -0.7927172147205591,
          -0.792636498224324,
          0.4303546660014756,
          0.6293061385726557,
          0.9161824688845475,
          -1.2931998909956706,
          0.3963712146012255,
          -1.0923974264157994,
          -0.9439165040572574,
          1.446733011848096,
          2.659876209227425,
          -1.4368341467410388
         ]
        }
       ],
       "layout": {
        "legend": {
         "bgcolor": "#F5F6F9",
         "font": {
          "color": "#4D5663"
         }
        },
        "paper_bgcolor": "#F5F6F9",
        "plot_bgcolor": "#F5F6F9",
        "template": {
         "data": {
          "bar": [
           {
            "error_x": {
             "color": "#2a3f5f"
            },
            "error_y": {
             "color": "#2a3f5f"
            },
            "marker": {
             "line": {
              "color": "#E5ECF6",
              "width": 0.5
             },
             "pattern": {
              "fillmode": "overlay",
              "size": 10,
              "solidity": 0.2
             }
            },
            "type": "bar"
           }
          ],
          "barpolar": [
           {
            "marker": {
             "line": {
              "color": "#E5ECF6",
              "width": 0.5
             },
             "pattern": {
              "fillmode": "overlay",
              "size": 10,
              "solidity": 0.2
             }
            },
            "type": "barpolar"
           }
          ],
          "carpet": [
           {
            "aaxis": {
             "endlinecolor": "#2a3f5f",
             "gridcolor": "white",
             "linecolor": "white",
             "minorgridcolor": "white",
             "startlinecolor": "#2a3f5f"
            },
            "baxis": {
             "endlinecolor": "#2a3f5f",
             "gridcolor": "white",
             "linecolor": "white",
             "minorgridcolor": "white",
             "startlinecolor": "#2a3f5f"
            },
            "type": "carpet"
           }
          ],
          "choropleth": [
           {
            "colorbar": {
             "outlinewidth": 0,
             "ticks": ""
            },
            "type": "choropleth"
           }
          ],
          "contour": [
           {
            "colorbar": {
             "outlinewidth": 0,
             "ticks": ""
            },
            "colorscale": [
             [
              0,
              "#0d0887"
             ],
             [
              0.1111111111111111,
              "#46039f"
             ],
             [
              0.2222222222222222,
              "#7201a8"
             ],
             [
              0.3333333333333333,
              "#9c179e"
             ],
             [
              0.4444444444444444,
              "#bd3786"
             ],
             [
              0.5555555555555556,
              "#d8576b"
             ],
             [
              0.6666666666666666,
              "#ed7953"
             ],
             [
              0.7777777777777778,
              "#fb9f3a"
             ],
             [
              0.8888888888888888,
              "#fdca26"
             ],
             [
              1,
              "#f0f921"
             ]
            ],
            "type": "contour"
           }
          ],
          "contourcarpet": [
           {
            "colorbar": {
             "outlinewidth": 0,
             "ticks": ""
            },
            "type": "contourcarpet"
           }
          ],
          "heatmap": [
           {
            "colorbar": {
             "outlinewidth": 0,
             "ticks": ""
            },
            "colorscale": [
             [
              0,
              "#0d0887"
             ],
             [
              0.1111111111111111,
              "#46039f"
             ],
             [
              0.2222222222222222,
              "#7201a8"
             ],
             [
              0.3333333333333333,
              "#9c179e"
             ],
             [
              0.4444444444444444,
              "#bd3786"
             ],
             [
              0.5555555555555556,
              "#d8576b"
             ],
             [
              0.6666666666666666,
              "#ed7953"
             ],
             [
              0.7777777777777778,
              "#fb9f3a"
             ],
             [
              0.8888888888888888,
              "#fdca26"
             ],
             [
              1,
              "#f0f921"
             ]
            ],
            "type": "heatmap"
           }
          ],
          "heatmapgl": [
           {
            "colorbar": {
             "outlinewidth": 0,
             "ticks": ""
            },
            "colorscale": [
             [
              0,
              "#0d0887"
             ],
             [
              0.1111111111111111,
              "#46039f"
             ],
             [
              0.2222222222222222,
              "#7201a8"
             ],
             [
              0.3333333333333333,
              "#9c179e"
             ],
             [
              0.4444444444444444,
              "#bd3786"
             ],
             [
              0.5555555555555556,
              "#d8576b"
             ],
             [
              0.6666666666666666,
              "#ed7953"
             ],
             [
              0.7777777777777778,
              "#fb9f3a"
             ],
             [
              0.8888888888888888,
              "#fdca26"
             ],
             [
              1,
              "#f0f921"
             ]
            ],
            "type": "heatmapgl"
           }
          ],
          "histogram": [
           {
            "marker": {
             "pattern": {
              "fillmode": "overlay",
              "size": 10,
              "solidity": 0.2
             }
            },
            "type": "histogram"
           }
          ],
          "histogram2d": [
           {
            "colorbar": {
             "outlinewidth": 0,
             "ticks": ""
            },
            "colorscale": [
             [
              0,
              "#0d0887"
             ],
             [
              0.1111111111111111,
              "#46039f"
             ],
             [
              0.2222222222222222,
              "#7201a8"
             ],
             [
              0.3333333333333333,
              "#9c179e"
             ],
             [
              0.4444444444444444,
              "#bd3786"
             ],
             [
              0.5555555555555556,
              "#d8576b"
             ],
             [
              0.6666666666666666,
              "#ed7953"
             ],
             [
              0.7777777777777778,
              "#fb9f3a"
             ],
             [
              0.8888888888888888,
              "#fdca26"
             ],
             [
              1,
              "#f0f921"
             ]
            ],
            "type": "histogram2d"
           }
          ],
          "histogram2dcontour": [
           {
            "colorbar": {
             "outlinewidth": 0,
             "ticks": ""
            },
            "colorscale": [
             [
              0,
              "#0d0887"
             ],
             [
              0.1111111111111111,
              "#46039f"
             ],
             [
              0.2222222222222222,
              "#7201a8"
             ],
             [
              0.3333333333333333,
              "#9c179e"
             ],
             [
              0.4444444444444444,
              "#bd3786"
             ],
             [
              0.5555555555555556,
              "#d8576b"
             ],
             [
              0.6666666666666666,
              "#ed7953"
             ],
             [
              0.7777777777777778,
              "#fb9f3a"
             ],
             [
              0.8888888888888888,
              "#fdca26"
             ],
             [
              1,
              "#f0f921"
             ]
            ],
            "type": "histogram2dcontour"
           }
          ],
          "mesh3d": [
           {
            "colorbar": {
             "outlinewidth": 0,
             "ticks": ""
            },
            "type": "mesh3d"
           }
          ],
          "parcoords": [
           {
            "line": {
             "colorbar": {
              "outlinewidth": 0,
              "ticks": ""
             }
            },
            "type": "parcoords"
           }
          ],
          "pie": [
           {
            "automargin": true,
            "type": "pie"
           }
          ],
          "scatter": [
           {
            "fillpattern": {
             "fillmode": "overlay",
             "size": 10,
             "solidity": 0.2
            },
            "type": "scatter"
           }
          ],
          "scatter3d": [
           {
            "line": {
             "colorbar": {
              "outlinewidth": 0,
              "ticks": ""
             }
            },
            "marker": {
             "colorbar": {
              "outlinewidth": 0,
              "ticks": ""
             }
            },
            "type": "scatter3d"
           }
          ],
          "scattercarpet": [
           {
            "marker": {
             "colorbar": {
              "outlinewidth": 0,
              "ticks": ""
             }
            },
            "type": "scattercarpet"
           }
          ],
          "scattergeo": [
           {
            "marker": {
             "colorbar": {
              "outlinewidth": 0,
              "ticks": ""
             }
            },
            "type": "scattergeo"
           }
          ],
          "scattergl": [
           {
            "marker": {
             "colorbar": {
              "outlinewidth": 0,
              "ticks": ""
             }
            },
            "type": "scattergl"
           }
          ],
          "scattermapbox": [
           {
            "marker": {
             "colorbar": {
              "outlinewidth": 0,
              "ticks": ""
             }
            },
            "type": "scattermapbox"
           }
          ],
          "scatterpolar": [
           {
            "marker": {
             "colorbar": {
              "outlinewidth": 0,
              "ticks": ""
             }
            },
            "type": "scatterpolar"
           }
          ],
          "scatterpolargl": [
           {
            "marker": {
             "colorbar": {
              "outlinewidth": 0,
              "ticks": ""
             }
            },
            "type": "scatterpolargl"
           }
          ],
          "scatterternary": [
           {
            "marker": {
             "colorbar": {
              "outlinewidth": 0,
              "ticks": ""
             }
            },
            "type": "scatterternary"
           }
          ],
          "surface": [
           {
            "colorbar": {
             "outlinewidth": 0,
             "ticks": ""
            },
            "colorscale": [
             [
              0,
              "#0d0887"
             ],
             [
              0.1111111111111111,
              "#46039f"
             ],
             [
              0.2222222222222222,
              "#7201a8"
             ],
             [
              0.3333333333333333,
              "#9c179e"
             ],
             [
              0.4444444444444444,
              "#bd3786"
             ],
             [
              0.5555555555555556,
              "#d8576b"
             ],
             [
              0.6666666666666666,
              "#ed7953"
             ],
             [
              0.7777777777777778,
              "#fb9f3a"
             ],
             [
              0.8888888888888888,
              "#fdca26"
             ],
             [
              1,
              "#f0f921"
             ]
            ],
            "type": "surface"
           }
          ],
          "table": [
           {
            "cells": {
             "fill": {
              "color": "#EBF0F8"
             },
             "line": {
              "color": "white"
             }
            },
            "header": {
             "fill": {
              "color": "#C8D4E3"
             },
             "line": {
              "color": "white"
             }
            },
            "type": "table"
           }
          ]
         },
         "layout": {
          "annotationdefaults": {
           "arrowcolor": "#2a3f5f",
           "arrowhead": 0,
           "arrowwidth": 1
          },
          "autotypenumbers": "strict",
          "coloraxis": {
           "colorbar": {
            "outlinewidth": 0,
            "ticks": ""
           }
          },
          "colorscale": {
           "diverging": [
            [
             0,
             "#8e0152"
            ],
            [
             0.1,
             "#c51b7d"
            ],
            [
             0.2,
             "#de77ae"
            ],
            [
             0.3,
             "#f1b6da"
            ],
            [
             0.4,
             "#fde0ef"
            ],
            [
             0.5,
             "#f7f7f7"
            ],
            [
             0.6,
             "#e6f5d0"
            ],
            [
             0.7,
             "#b8e186"
            ],
            [
             0.8,
             "#7fbc41"
            ],
            [
             0.9,
             "#4d9221"
            ],
            [
             1,
             "#276419"
            ]
           ],
           "sequential": [
            [
             0,
             "#0d0887"
            ],
            [
             0.1111111111111111,
             "#46039f"
            ],
            [
             0.2222222222222222,
             "#7201a8"
            ],
            [
             0.3333333333333333,
             "#9c179e"
            ],
            [
             0.4444444444444444,
             "#bd3786"
            ],
            [
             0.5555555555555556,
             "#d8576b"
            ],
            [
             0.6666666666666666,
             "#ed7953"
            ],
            [
             0.7777777777777778,
             "#fb9f3a"
            ],
            [
             0.8888888888888888,
             "#fdca26"
            ],
            [
             1,
             "#f0f921"
            ]
           ],
           "sequentialminus": [
            [
             0,
             "#0d0887"
            ],
            [
             0.1111111111111111,
             "#46039f"
            ],
            [
             0.2222222222222222,
             "#7201a8"
            ],
            [
             0.3333333333333333,
             "#9c179e"
            ],
            [
             0.4444444444444444,
             "#bd3786"
            ],
            [
             0.5555555555555556,
             "#d8576b"
            ],
            [
             0.6666666666666666,
             "#ed7953"
            ],
            [
             0.7777777777777778,
             "#fb9f3a"
            ],
            [
             0.8888888888888888,
             "#fdca26"
            ],
            [
             1,
             "#f0f921"
            ]
           ]
          },
          "colorway": [
           "#636efa",
           "#EF553B",
           "#00cc96",
           "#ab63fa",
           "#FFA15A",
           "#19d3f3",
           "#FF6692",
           "#B6E880",
           "#FF97FF",
           "#FECB52"
          ],
          "font": {
           "color": "#2a3f5f"
          },
          "geo": {
           "bgcolor": "white",
           "lakecolor": "white",
           "landcolor": "#E5ECF6",
           "showlakes": true,
           "showland": true,
           "subunitcolor": "white"
          },
          "hoverlabel": {
           "align": "left"
          },
          "hovermode": "closest",
          "mapbox": {
           "style": "light"
          },
          "paper_bgcolor": "white",
          "plot_bgcolor": "#E5ECF6",
          "polar": {
           "angularaxis": {
            "gridcolor": "white",
            "linecolor": "white",
            "ticks": ""
           },
           "bgcolor": "#E5ECF6",
           "radialaxis": {
            "gridcolor": "white",
            "linecolor": "white",
            "ticks": ""
           }
          },
          "scene": {
           "xaxis": {
            "backgroundcolor": "#E5ECF6",
            "gridcolor": "white",
            "gridwidth": 2,
            "linecolor": "white",
            "showbackground": true,
            "ticks": "",
            "zerolinecolor": "white"
           },
           "yaxis": {
            "backgroundcolor": "#E5ECF6",
            "gridcolor": "white",
            "gridwidth": 2,
            "linecolor": "white",
            "showbackground": true,
            "ticks": "",
            "zerolinecolor": "white"
           },
           "zaxis": {
            "backgroundcolor": "#E5ECF6",
            "gridcolor": "white",
            "gridwidth": 2,
            "linecolor": "white",
            "showbackground": true,
            "ticks": "",
            "zerolinecolor": "white"
           }
          },
          "shapedefaults": {
           "line": {
            "color": "#2a3f5f"
           }
          },
          "ternary": {
           "aaxis": {
            "gridcolor": "white",
            "linecolor": "white",
            "ticks": ""
           },
           "baxis": {
            "gridcolor": "white",
            "linecolor": "white",
            "ticks": ""
           },
           "bgcolor": "#E5ECF6",
           "caxis": {
            "gridcolor": "white",
            "linecolor": "white",
            "ticks": ""
           }
          },
          "title": {
           "x": 0.05
          },
          "xaxis": {
           "automargin": true,
           "gridcolor": "white",
           "linecolor": "white",
           "ticks": "",
           "title": {
            "standoff": 15
           },
           "zerolinecolor": "white",
           "zerolinewidth": 2
          },
          "yaxis": {
           "automargin": true,
           "gridcolor": "white",
           "linecolor": "white",
           "ticks": "",
           "title": {
            "standoff": 15
           },
           "zerolinecolor": "white",
           "zerolinewidth": 2
          }
         }
        },
        "title": {
         "font": {
          "color": "#4D5663"
         }
        },
        "xaxis": {
         "gridcolor": "#E1E5ED",
         "showgrid": true,
         "tickfont": {
          "color": "#4D5663"
         },
         "title": {
          "font": {
           "color": "#4D5663"
          },
          "text": ""
         },
         "zerolinecolor": "#E1E5ED"
        },
        "yaxis": {
         "gridcolor": "#E1E5ED",
         "showgrid": true,
         "tickfont": {
          "color": "#4D5663"
         },
         "title": {
          "font": {
           "color": "#4D5663"
          },
          "text": ""
         },
         "zerolinecolor": "#E1E5ED"
        }
       }
      },
      "text/html": [
       "<div>                            <div id=\"4027b92a-a8c8-4e3f-896d-3b8d7d32b13b\" class=\"plotly-graph-div\" style=\"height:525px; width:100%;\"></div>            <script type=\"text/javascript\">                require([\"plotly\"], function(Plotly) {                    window.PLOTLYENV=window.PLOTLYENV || {};\n",
       "                    window.PLOTLYENV.BASE_URL='https://plot.ly';                                    if (document.getElementById(\"4027b92a-a8c8-4e3f-896d-3b8d7d32b13b\")) {                    Plotly.newPlot(                        \"4027b92a-a8c8-4e3f-896d-3b8d7d32b13b\",                        [{\"line\":{\"color\":\"rgba(255, 153, 51, 1.0)\",\"dash\":\"solid\",\"shape\":\"linear\",\"width\":1.3},\"marker\":{\"size\":12,\"symbol\":\"circle\"},\"mode\":\"markers\",\"name\":\"B\",\"text\":\"\",\"x\":[-0.23833749478084632,0.6501994394768832,0.69240112895364,1.5320970914057563,1.5143536412100664,0.9091328451299554,0.5633932306807066,-0.6957450025151292,-0.3293951092999953,0.07112715282153531,1.3871289338711221,-0.30275030951868354,0.4325520012397575,0.3557928642971695,-0.14842497025923618,0.5618247664499927,0.05994346882977397,-1.4735100631741256,-0.08917911520644622,1.7363207791384538,-0.14329310593151515,0.15611611177600046,0.5406570368378665,-0.9957010147824803,1.387177334594978,0.1310498324631058,-0.22314038016345794,0.08879164066410501,-0.8810051288147794,-0.9770286284628511,-0.6715971578254221,1.3002560139455641,2.321624410335273,-0.15289584456586722,-0.6972843987992097,0.5931203866351997,0.9130042417329262,-0.3295338415521216,-1.3016776038004398,1.960484862694741,2.2802574608931754,-1.55531604820331,-0.4757202431700581,1.4373273727690996,-1.0070240274826834,1.2629202246100506,0.12856968538899607,-1.1243817895047012,0.04653002549161323,0.4369480939055736,0.2693438575066526,1.8038758704998965,0.1029603524630663,1.6081370990783066,-0.1378580105992773,0.5793942859228219,-0.14858741009587503,-0.19768016506777614,1.048015998868027,0.630830200972105,-1.5016688943855903,-0.42725460179513036,0.6632276199073781,0.03905584833789047,1.7065901060137059,-1.1400524905628655,0.4061750213104448,-0.3410890234644094,0.528994584107765,-0.44653772676211606,1.0273411655950548,-0.7616521517056599,-0.2990750926136947,0.7438791605337584,-0.6864816773203487,0.29972132855314054,0.0635865919701606,1.1160715054732728,0.23893414638922392,-3.0791028296082588,0.5628299582121862,1.3428877260800716,0.16002233058937887,-1.908974501388095,-1.063113689959441,-1.6701307613421852,0.6415131291626535,-1.4708631052358239,0.4542836706219212,-0.1803329649366861,2.3448185248734807,-0.42455083915233127,1.3596741223109698,-0.6387336708337593,-1.199901298038498,-0.46670532426178835,-1.9657923377437196,-2.5721533669425205,1.255546642935715,0.12504483924872897],\"y\":[-0.06291427450316933,-1.5322731602884292,2.028348772987773,0.6693932445647333,-1.784146484904668,0.5629194960966317,-1.1531714182196977,-1.198881273469872,-0.3599836499936697,-1.5859282623298518,0.43249326298018725,0.006334251206168981,-0.26156984664420363,-0.5542522296562603,0.6615866179143592,-1.324140148711569,0.34809760005611035,0.22845512200847662,0.7507214599572216,-0.4860243963364303,1.1966633637001574,-1.2290464952865618,0.39754334761882865,1.6994877438337332,0.7416418706957048,0.6403585630531775,-0.8734327491302029,-0.392926611428367,0.5749885606001245,-2.0467397051668876,0.49166689329736457,1.4036586051368503,-0.8307840514047554,0.6335495113267404,1.1820666940436422,-1.075705232012773,1.1881493161215,-1.423278677749765,-0.6430643428642822,-0.3293289381854944,-0.6547480913773267,-0.8463597065410111,-0.0024702289586539285,-1.0612818837077704,0.1254377076446763,-0.404602263867722,-0.7446729897259533,0.2186432671211768,1.2500505771424142,-0.8238305736789608,0.9222414596307853,-0.015284416785555715,-0.22472721377838545,0.0030087357121871758,0.08870220788145161,0.8984932568044094,0.14441621658763268,-0.4512488727289043,1.1375588391431979,-0.6527449377415648,0.27328665505704497,0.8823114753761337,0.00732754794294055,1.413438055483529,-0.5078282211761682,-0.8144068941811758,0.8789189975450421,-0.4161014934626199,1.2354275217687003,-0.4247058207211809,-1.8070468171353722,-0.07483434418167269,-0.8290768762316153,0.0323215009305928,-0.46818557550193923,-0.678510243789971,-0.326508032144984,-0.332445340739474,-0.08272614551191813,1.0935692828179533,0.2059558797739144,-0.4350877289157243,0.58286721728474,-0.5766016189112366,-1.0735566071205689,1.0114973460848427,-0.6641909267070367,-0.7784262569825346,-0.7927172147205591,-0.792636498224324,0.4303546660014756,0.6293061385726557,0.9161824688845475,-1.2931998909956706,0.3963712146012255,-1.0923974264157994,-0.9439165040572574,1.446733011848096,2.659876209227425,-1.4368341467410388],\"type\":\"scatter\"}],                        {\"legend\":{\"bgcolor\":\"#F5F6F9\",\"font\":{\"color\":\"#4D5663\"}},\"paper_bgcolor\":\"#F5F6F9\",\"plot_bgcolor\":\"#F5F6F9\",\"template\":{\"data\":{\"barpolar\":[{\"marker\":{\"line\":{\"color\":\"#E5ECF6\",\"width\":0.5},\"pattern\":{\"fillmode\":\"overlay\",\"size\":10,\"solidity\":0.2}},\"type\":\"barpolar\"}],\"bar\":[{\"error_x\":{\"color\":\"#2a3f5f\"},\"error_y\":{\"color\":\"#2a3f5f\"},\"marker\":{\"line\":{\"color\":\"#E5ECF6\",\"width\":0.5},\"pattern\":{\"fillmode\":\"overlay\",\"size\":10,\"solidity\":0.2}},\"type\":\"bar\"}],\"carpet\":[{\"aaxis\":{\"endlinecolor\":\"#2a3f5f\",\"gridcolor\":\"white\",\"linecolor\":\"white\",\"minorgridcolor\":\"white\",\"startlinecolor\":\"#2a3f5f\"},\"baxis\":{\"endlinecolor\":\"#2a3f5f\",\"gridcolor\":\"white\",\"linecolor\":\"white\",\"minorgridcolor\":\"white\",\"startlinecolor\":\"#2a3f5f\"},\"type\":\"carpet\"}],\"choropleth\":[{\"colorbar\":{\"outlinewidth\":0,\"ticks\":\"\"},\"type\":\"choropleth\"}],\"contourcarpet\":[{\"colorbar\":{\"outlinewidth\":0,\"ticks\":\"\"},\"type\":\"contourcarpet\"}],\"contour\":[{\"colorbar\":{\"outlinewidth\":0,\"ticks\":\"\"},\"colorscale\":[[0.0,\"#0d0887\"],[0.1111111111111111,\"#46039f\"],[0.2222222222222222,\"#7201a8\"],[0.3333333333333333,\"#9c179e\"],[0.4444444444444444,\"#bd3786\"],[0.5555555555555556,\"#d8576b\"],[0.6666666666666666,\"#ed7953\"],[0.7777777777777778,\"#fb9f3a\"],[0.8888888888888888,\"#fdca26\"],[1.0,\"#f0f921\"]],\"type\":\"contour\"}],\"heatmapgl\":[{\"colorbar\":{\"outlinewidth\":0,\"ticks\":\"\"},\"colorscale\":[[0.0,\"#0d0887\"],[0.1111111111111111,\"#46039f\"],[0.2222222222222222,\"#7201a8\"],[0.3333333333333333,\"#9c179e\"],[0.4444444444444444,\"#bd3786\"],[0.5555555555555556,\"#d8576b\"],[0.6666666666666666,\"#ed7953\"],[0.7777777777777778,\"#fb9f3a\"],[0.8888888888888888,\"#fdca26\"],[1.0,\"#f0f921\"]],\"type\":\"heatmapgl\"}],\"heatmap\":[{\"colorbar\":{\"outlinewidth\":0,\"ticks\":\"\"},\"colorscale\":[[0.0,\"#0d0887\"],[0.1111111111111111,\"#46039f\"],[0.2222222222222222,\"#7201a8\"],[0.3333333333333333,\"#9c179e\"],[0.4444444444444444,\"#bd3786\"],[0.5555555555555556,\"#d8576b\"],[0.6666666666666666,\"#ed7953\"],[0.7777777777777778,\"#fb9f3a\"],[0.8888888888888888,\"#fdca26\"],[1.0,\"#f0f921\"]],\"type\":\"heatmap\"}],\"histogram2dcontour\":[{\"colorbar\":{\"outlinewidth\":0,\"ticks\":\"\"},\"colorscale\":[[0.0,\"#0d0887\"],[0.1111111111111111,\"#46039f\"],[0.2222222222222222,\"#7201a8\"],[0.3333333333333333,\"#9c179e\"],[0.4444444444444444,\"#bd3786\"],[0.5555555555555556,\"#d8576b\"],[0.6666666666666666,\"#ed7953\"],[0.7777777777777778,\"#fb9f3a\"],[0.8888888888888888,\"#fdca26\"],[1.0,\"#f0f921\"]],\"type\":\"histogram2dcontour\"}],\"histogram2d\":[{\"colorbar\":{\"outlinewidth\":0,\"ticks\":\"\"},\"colorscale\":[[0.0,\"#0d0887\"],[0.1111111111111111,\"#46039f\"],[0.2222222222222222,\"#7201a8\"],[0.3333333333333333,\"#9c179e\"],[0.4444444444444444,\"#bd3786\"],[0.5555555555555556,\"#d8576b\"],[0.6666666666666666,\"#ed7953\"],[0.7777777777777778,\"#fb9f3a\"],[0.8888888888888888,\"#fdca26\"],[1.0,\"#f0f921\"]],\"type\":\"histogram2d\"}],\"histogram\":[{\"marker\":{\"pattern\":{\"fillmode\":\"overlay\",\"size\":10,\"solidity\":0.2}},\"type\":\"histogram\"}],\"mesh3d\":[{\"colorbar\":{\"outlinewidth\":0,\"ticks\":\"\"},\"type\":\"mesh3d\"}],\"parcoords\":[{\"line\":{\"colorbar\":{\"outlinewidth\":0,\"ticks\":\"\"}},\"type\":\"parcoords\"}],\"pie\":[{\"automargin\":true,\"type\":\"pie\"}],\"scatter3d\":[{\"line\":{\"colorbar\":{\"outlinewidth\":0,\"ticks\":\"\"}},\"marker\":{\"colorbar\":{\"outlinewidth\":0,\"ticks\":\"\"}},\"type\":\"scatter3d\"}],\"scattercarpet\":[{\"marker\":{\"colorbar\":{\"outlinewidth\":0,\"ticks\":\"\"}},\"type\":\"scattercarpet\"}],\"scattergeo\":[{\"marker\":{\"colorbar\":{\"outlinewidth\":0,\"ticks\":\"\"}},\"type\":\"scattergeo\"}],\"scattergl\":[{\"marker\":{\"colorbar\":{\"outlinewidth\":0,\"ticks\":\"\"}},\"type\":\"scattergl\"}],\"scattermapbox\":[{\"marker\":{\"colorbar\":{\"outlinewidth\":0,\"ticks\":\"\"}},\"type\":\"scattermapbox\"}],\"scatterpolargl\":[{\"marker\":{\"colorbar\":{\"outlinewidth\":0,\"ticks\":\"\"}},\"type\":\"scatterpolargl\"}],\"scatterpolar\":[{\"marker\":{\"colorbar\":{\"outlinewidth\":0,\"ticks\":\"\"}},\"type\":\"scatterpolar\"}],\"scatter\":[{\"fillpattern\":{\"fillmode\":\"overlay\",\"size\":10,\"solidity\":0.2},\"type\":\"scatter\"}],\"scatterternary\":[{\"marker\":{\"colorbar\":{\"outlinewidth\":0,\"ticks\":\"\"}},\"type\":\"scatterternary\"}],\"surface\":[{\"colorbar\":{\"outlinewidth\":0,\"ticks\":\"\"},\"colorscale\":[[0.0,\"#0d0887\"],[0.1111111111111111,\"#46039f\"],[0.2222222222222222,\"#7201a8\"],[0.3333333333333333,\"#9c179e\"],[0.4444444444444444,\"#bd3786\"],[0.5555555555555556,\"#d8576b\"],[0.6666666666666666,\"#ed7953\"],[0.7777777777777778,\"#fb9f3a\"],[0.8888888888888888,\"#fdca26\"],[1.0,\"#f0f921\"]],\"type\":\"surface\"}],\"table\":[{\"cells\":{\"fill\":{\"color\":\"#EBF0F8\"},\"line\":{\"color\":\"white\"}},\"header\":{\"fill\":{\"color\":\"#C8D4E3\"},\"line\":{\"color\":\"white\"}},\"type\":\"table\"}]},\"layout\":{\"annotationdefaults\":{\"arrowcolor\":\"#2a3f5f\",\"arrowhead\":0,\"arrowwidth\":1},\"autotypenumbers\":\"strict\",\"coloraxis\":{\"colorbar\":{\"outlinewidth\":0,\"ticks\":\"\"}},\"colorscale\":{\"diverging\":[[0,\"#8e0152\"],[0.1,\"#c51b7d\"],[0.2,\"#de77ae\"],[0.3,\"#f1b6da\"],[0.4,\"#fde0ef\"],[0.5,\"#f7f7f7\"],[0.6,\"#e6f5d0\"],[0.7,\"#b8e186\"],[0.8,\"#7fbc41\"],[0.9,\"#4d9221\"],[1,\"#276419\"]],\"sequential\":[[0.0,\"#0d0887\"],[0.1111111111111111,\"#46039f\"],[0.2222222222222222,\"#7201a8\"],[0.3333333333333333,\"#9c179e\"],[0.4444444444444444,\"#bd3786\"],[0.5555555555555556,\"#d8576b\"],[0.6666666666666666,\"#ed7953\"],[0.7777777777777778,\"#fb9f3a\"],[0.8888888888888888,\"#fdca26\"],[1.0,\"#f0f921\"]],\"sequentialminus\":[[0.0,\"#0d0887\"],[0.1111111111111111,\"#46039f\"],[0.2222222222222222,\"#7201a8\"],[0.3333333333333333,\"#9c179e\"],[0.4444444444444444,\"#bd3786\"],[0.5555555555555556,\"#d8576b\"],[0.6666666666666666,\"#ed7953\"],[0.7777777777777778,\"#fb9f3a\"],[0.8888888888888888,\"#fdca26\"],[1.0,\"#f0f921\"]]},\"colorway\":[\"#636efa\",\"#EF553B\",\"#00cc96\",\"#ab63fa\",\"#FFA15A\",\"#19d3f3\",\"#FF6692\",\"#B6E880\",\"#FF97FF\",\"#FECB52\"],\"font\":{\"color\":\"#2a3f5f\"},\"geo\":{\"bgcolor\":\"white\",\"lakecolor\":\"white\",\"landcolor\":\"#E5ECF6\",\"showlakes\":true,\"showland\":true,\"subunitcolor\":\"white\"},\"hoverlabel\":{\"align\":\"left\"},\"hovermode\":\"closest\",\"mapbox\":{\"style\":\"light\"},\"paper_bgcolor\":\"white\",\"plot_bgcolor\":\"#E5ECF6\",\"polar\":{\"angularaxis\":{\"gridcolor\":\"white\",\"linecolor\":\"white\",\"ticks\":\"\"},\"bgcolor\":\"#E5ECF6\",\"radialaxis\":{\"gridcolor\":\"white\",\"linecolor\":\"white\",\"ticks\":\"\"}},\"scene\":{\"xaxis\":{\"backgroundcolor\":\"#E5ECF6\",\"gridcolor\":\"white\",\"gridwidth\":2,\"linecolor\":\"white\",\"showbackground\":true,\"ticks\":\"\",\"zerolinecolor\":\"white\"},\"yaxis\":{\"backgroundcolor\":\"#E5ECF6\",\"gridcolor\":\"white\",\"gridwidth\":2,\"linecolor\":\"white\",\"showbackground\":true,\"ticks\":\"\",\"zerolinecolor\":\"white\"},\"zaxis\":{\"backgroundcolor\":\"#E5ECF6\",\"gridcolor\":\"white\",\"gridwidth\":2,\"linecolor\":\"white\",\"showbackground\":true,\"ticks\":\"\",\"zerolinecolor\":\"white\"}},\"shapedefaults\":{\"line\":{\"color\":\"#2a3f5f\"}},\"ternary\":{\"aaxis\":{\"gridcolor\":\"white\",\"linecolor\":\"white\",\"ticks\":\"\"},\"baxis\":{\"gridcolor\":\"white\",\"linecolor\":\"white\",\"ticks\":\"\"},\"bgcolor\":\"#E5ECF6\",\"caxis\":{\"gridcolor\":\"white\",\"linecolor\":\"white\",\"ticks\":\"\"}},\"title\":{\"x\":0.05},\"xaxis\":{\"automargin\":true,\"gridcolor\":\"white\",\"linecolor\":\"white\",\"ticks\":\"\",\"title\":{\"standoff\":15},\"zerolinecolor\":\"white\",\"zerolinewidth\":2},\"yaxis\":{\"automargin\":true,\"gridcolor\":\"white\",\"linecolor\":\"white\",\"ticks\":\"\",\"title\":{\"standoff\":15},\"zerolinecolor\":\"white\",\"zerolinewidth\":2}}},\"title\":{\"font\":{\"color\":\"#4D5663\"}},\"xaxis\":{\"gridcolor\":\"#E1E5ED\",\"showgrid\":true,\"tickfont\":{\"color\":\"#4D5663\"},\"title\":{\"font\":{\"color\":\"#4D5663\"},\"text\":\"\"},\"zerolinecolor\":\"#E1E5ED\"},\"yaxis\":{\"gridcolor\":\"#E1E5ED\",\"showgrid\":true,\"tickfont\":{\"color\":\"#4D5663\"},\"title\":{\"font\":{\"color\":\"#4D5663\"},\"text\":\"\"},\"zerolinecolor\":\"#E1E5ED\"}},                        {\"showLink\": true, \"linkText\": \"Export to plot.ly\", \"plotlyServerURL\": \"https://plot.ly\", \"responsive\": true}                    ).then(function(){\n",
       "                            \n",
       "var gd = document.getElementById('4027b92a-a8c8-4e3f-896d-3b8d7d32b13b');\n",
       "var x = new MutationObserver(function (mutations, observer) {{\n",
       "        var display = window.getComputedStyle(gd).display;\n",
       "        if (!display || display === 'none') {{\n",
       "            console.log([gd, 'removed!']);\n",
       "            Plotly.purge(gd);\n",
       "            observer.disconnect();\n",
       "        }}\n",
       "}});\n",
       "\n",
       "// Listen for the removal of the full notebook cells\n",
       "var notebookContainer = gd.closest('#notebook-container');\n",
       "if (notebookContainer) {{\n",
       "    x.observe(notebookContainer, {childList: true});\n",
       "}}\n",
       "\n",
       "// Listen for the clearing of the current output cell\n",
       "var outputEl = gd.closest('.output');\n",
       "if (outputEl) {{\n",
       "    x.observe(outputEl, {childList: true});\n",
       "}}\n",
       "\n",
       "                        })                };                });            </script>        </div>"
      ]
     },
     "metadata": {},
     "output_type": "display_data"
    }
   ],
   "source": [
    "df.iplot(kind='scatter',x='A',y='B',mode='markers')"
   ]
  },
  {
   "cell_type": "code",
   "execution_count": 25,
   "id": "f3d9f397",
   "metadata": {},
   "outputs": [
    {
     "data": {
      "application/vnd.plotly.v1+json": {
       "config": {
        "linkText": "Export to plot.ly",
        "plotlyServerURL": "https://plot.ly",
        "showLink": true
       },
       "data": [
        {
         "marker": {
          "color": "rgba(255, 153, 51, 0.6)",
          "line": {
           "color": "rgba(255, 153, 51, 1.0)",
           "width": 1
          }
         },
         "name": "Values",
         "orientation": "v",
         "text": "",
         "type": "bar",
         "x": [
          "A",
          "B",
          "C"
         ],
         "y": [
          32,
          43,
          50
         ]
        }
       ],
       "layout": {
        "legend": {
         "bgcolor": "#F5F6F9",
         "font": {
          "color": "#4D5663"
         }
        },
        "paper_bgcolor": "#F5F6F9",
        "plot_bgcolor": "#F5F6F9",
        "template": {
         "data": {
          "bar": [
           {
            "error_x": {
             "color": "#2a3f5f"
            },
            "error_y": {
             "color": "#2a3f5f"
            },
            "marker": {
             "line": {
              "color": "#E5ECF6",
              "width": 0.5
             },
             "pattern": {
              "fillmode": "overlay",
              "size": 10,
              "solidity": 0.2
             }
            },
            "type": "bar"
           }
          ],
          "barpolar": [
           {
            "marker": {
             "line": {
              "color": "#E5ECF6",
              "width": 0.5
             },
             "pattern": {
              "fillmode": "overlay",
              "size": 10,
              "solidity": 0.2
             }
            },
            "type": "barpolar"
           }
          ],
          "carpet": [
           {
            "aaxis": {
             "endlinecolor": "#2a3f5f",
             "gridcolor": "white",
             "linecolor": "white",
             "minorgridcolor": "white",
             "startlinecolor": "#2a3f5f"
            },
            "baxis": {
             "endlinecolor": "#2a3f5f",
             "gridcolor": "white",
             "linecolor": "white",
             "minorgridcolor": "white",
             "startlinecolor": "#2a3f5f"
            },
            "type": "carpet"
           }
          ],
          "choropleth": [
           {
            "colorbar": {
             "outlinewidth": 0,
             "ticks": ""
            },
            "type": "choropleth"
           }
          ],
          "contour": [
           {
            "colorbar": {
             "outlinewidth": 0,
             "ticks": ""
            },
            "colorscale": [
             [
              0,
              "#0d0887"
             ],
             [
              0.1111111111111111,
              "#46039f"
             ],
             [
              0.2222222222222222,
              "#7201a8"
             ],
             [
              0.3333333333333333,
              "#9c179e"
             ],
             [
              0.4444444444444444,
              "#bd3786"
             ],
             [
              0.5555555555555556,
              "#d8576b"
             ],
             [
              0.6666666666666666,
              "#ed7953"
             ],
             [
              0.7777777777777778,
              "#fb9f3a"
             ],
             [
              0.8888888888888888,
              "#fdca26"
             ],
             [
              1,
              "#f0f921"
             ]
            ],
            "type": "contour"
           }
          ],
          "contourcarpet": [
           {
            "colorbar": {
             "outlinewidth": 0,
             "ticks": ""
            },
            "type": "contourcarpet"
           }
          ],
          "heatmap": [
           {
            "colorbar": {
             "outlinewidth": 0,
             "ticks": ""
            },
            "colorscale": [
             [
              0,
              "#0d0887"
             ],
             [
              0.1111111111111111,
              "#46039f"
             ],
             [
              0.2222222222222222,
              "#7201a8"
             ],
             [
              0.3333333333333333,
              "#9c179e"
             ],
             [
              0.4444444444444444,
              "#bd3786"
             ],
             [
              0.5555555555555556,
              "#d8576b"
             ],
             [
              0.6666666666666666,
              "#ed7953"
             ],
             [
              0.7777777777777778,
              "#fb9f3a"
             ],
             [
              0.8888888888888888,
              "#fdca26"
             ],
             [
              1,
              "#f0f921"
             ]
            ],
            "type": "heatmap"
           }
          ],
          "heatmapgl": [
           {
            "colorbar": {
             "outlinewidth": 0,
             "ticks": ""
            },
            "colorscale": [
             [
              0,
              "#0d0887"
             ],
             [
              0.1111111111111111,
              "#46039f"
             ],
             [
              0.2222222222222222,
              "#7201a8"
             ],
             [
              0.3333333333333333,
              "#9c179e"
             ],
             [
              0.4444444444444444,
              "#bd3786"
             ],
             [
              0.5555555555555556,
              "#d8576b"
             ],
             [
              0.6666666666666666,
              "#ed7953"
             ],
             [
              0.7777777777777778,
              "#fb9f3a"
             ],
             [
              0.8888888888888888,
              "#fdca26"
             ],
             [
              1,
              "#f0f921"
             ]
            ],
            "type": "heatmapgl"
           }
          ],
          "histogram": [
           {
            "marker": {
             "pattern": {
              "fillmode": "overlay",
              "size": 10,
              "solidity": 0.2
             }
            },
            "type": "histogram"
           }
          ],
          "histogram2d": [
           {
            "colorbar": {
             "outlinewidth": 0,
             "ticks": ""
            },
            "colorscale": [
             [
              0,
              "#0d0887"
             ],
             [
              0.1111111111111111,
              "#46039f"
             ],
             [
              0.2222222222222222,
              "#7201a8"
             ],
             [
              0.3333333333333333,
              "#9c179e"
             ],
             [
              0.4444444444444444,
              "#bd3786"
             ],
             [
              0.5555555555555556,
              "#d8576b"
             ],
             [
              0.6666666666666666,
              "#ed7953"
             ],
             [
              0.7777777777777778,
              "#fb9f3a"
             ],
             [
              0.8888888888888888,
              "#fdca26"
             ],
             [
              1,
              "#f0f921"
             ]
            ],
            "type": "histogram2d"
           }
          ],
          "histogram2dcontour": [
           {
            "colorbar": {
             "outlinewidth": 0,
             "ticks": ""
            },
            "colorscale": [
             [
              0,
              "#0d0887"
             ],
             [
              0.1111111111111111,
              "#46039f"
             ],
             [
              0.2222222222222222,
              "#7201a8"
             ],
             [
              0.3333333333333333,
              "#9c179e"
             ],
             [
              0.4444444444444444,
              "#bd3786"
             ],
             [
              0.5555555555555556,
              "#d8576b"
             ],
             [
              0.6666666666666666,
              "#ed7953"
             ],
             [
              0.7777777777777778,
              "#fb9f3a"
             ],
             [
              0.8888888888888888,
              "#fdca26"
             ],
             [
              1,
              "#f0f921"
             ]
            ],
            "type": "histogram2dcontour"
           }
          ],
          "mesh3d": [
           {
            "colorbar": {
             "outlinewidth": 0,
             "ticks": ""
            },
            "type": "mesh3d"
           }
          ],
          "parcoords": [
           {
            "line": {
             "colorbar": {
              "outlinewidth": 0,
              "ticks": ""
             }
            },
            "type": "parcoords"
           }
          ],
          "pie": [
           {
            "automargin": true,
            "type": "pie"
           }
          ],
          "scatter": [
           {
            "fillpattern": {
             "fillmode": "overlay",
             "size": 10,
             "solidity": 0.2
            },
            "type": "scatter"
           }
          ],
          "scatter3d": [
           {
            "line": {
             "colorbar": {
              "outlinewidth": 0,
              "ticks": ""
             }
            },
            "marker": {
             "colorbar": {
              "outlinewidth": 0,
              "ticks": ""
             }
            },
            "type": "scatter3d"
           }
          ],
          "scattercarpet": [
           {
            "marker": {
             "colorbar": {
              "outlinewidth": 0,
              "ticks": ""
             }
            },
            "type": "scattercarpet"
           }
          ],
          "scattergeo": [
           {
            "marker": {
             "colorbar": {
              "outlinewidth": 0,
              "ticks": ""
             }
            },
            "type": "scattergeo"
           }
          ],
          "scattergl": [
           {
            "marker": {
             "colorbar": {
              "outlinewidth": 0,
              "ticks": ""
             }
            },
            "type": "scattergl"
           }
          ],
          "scattermapbox": [
           {
            "marker": {
             "colorbar": {
              "outlinewidth": 0,
              "ticks": ""
             }
            },
            "type": "scattermapbox"
           }
          ],
          "scatterpolar": [
           {
            "marker": {
             "colorbar": {
              "outlinewidth": 0,
              "ticks": ""
             }
            },
            "type": "scatterpolar"
           }
          ],
          "scatterpolargl": [
           {
            "marker": {
             "colorbar": {
              "outlinewidth": 0,
              "ticks": ""
             }
            },
            "type": "scatterpolargl"
           }
          ],
          "scatterternary": [
           {
            "marker": {
             "colorbar": {
              "outlinewidth": 0,
              "ticks": ""
             }
            },
            "type": "scatterternary"
           }
          ],
          "surface": [
           {
            "colorbar": {
             "outlinewidth": 0,
             "ticks": ""
            },
            "colorscale": [
             [
              0,
              "#0d0887"
             ],
             [
              0.1111111111111111,
              "#46039f"
             ],
             [
              0.2222222222222222,
              "#7201a8"
             ],
             [
              0.3333333333333333,
              "#9c179e"
             ],
             [
              0.4444444444444444,
              "#bd3786"
             ],
             [
              0.5555555555555556,
              "#d8576b"
             ],
             [
              0.6666666666666666,
              "#ed7953"
             ],
             [
              0.7777777777777778,
              "#fb9f3a"
             ],
             [
              0.8888888888888888,
              "#fdca26"
             ],
             [
              1,
              "#f0f921"
             ]
            ],
            "type": "surface"
           }
          ],
          "table": [
           {
            "cells": {
             "fill": {
              "color": "#EBF0F8"
             },
             "line": {
              "color": "white"
             }
            },
            "header": {
             "fill": {
              "color": "#C8D4E3"
             },
             "line": {
              "color": "white"
             }
            },
            "type": "table"
           }
          ]
         },
         "layout": {
          "annotationdefaults": {
           "arrowcolor": "#2a3f5f",
           "arrowhead": 0,
           "arrowwidth": 1
          },
          "autotypenumbers": "strict",
          "coloraxis": {
           "colorbar": {
            "outlinewidth": 0,
            "ticks": ""
           }
          },
          "colorscale": {
           "diverging": [
            [
             0,
             "#8e0152"
            ],
            [
             0.1,
             "#c51b7d"
            ],
            [
             0.2,
             "#de77ae"
            ],
            [
             0.3,
             "#f1b6da"
            ],
            [
             0.4,
             "#fde0ef"
            ],
            [
             0.5,
             "#f7f7f7"
            ],
            [
             0.6,
             "#e6f5d0"
            ],
            [
             0.7,
             "#b8e186"
            ],
            [
             0.8,
             "#7fbc41"
            ],
            [
             0.9,
             "#4d9221"
            ],
            [
             1,
             "#276419"
            ]
           ],
           "sequential": [
            [
             0,
             "#0d0887"
            ],
            [
             0.1111111111111111,
             "#46039f"
            ],
            [
             0.2222222222222222,
             "#7201a8"
            ],
            [
             0.3333333333333333,
             "#9c179e"
            ],
            [
             0.4444444444444444,
             "#bd3786"
            ],
            [
             0.5555555555555556,
             "#d8576b"
            ],
            [
             0.6666666666666666,
             "#ed7953"
            ],
            [
             0.7777777777777778,
             "#fb9f3a"
            ],
            [
             0.8888888888888888,
             "#fdca26"
            ],
            [
             1,
             "#f0f921"
            ]
           ],
           "sequentialminus": [
            [
             0,
             "#0d0887"
            ],
            [
             0.1111111111111111,
             "#46039f"
            ],
            [
             0.2222222222222222,
             "#7201a8"
            ],
            [
             0.3333333333333333,
             "#9c179e"
            ],
            [
             0.4444444444444444,
             "#bd3786"
            ],
            [
             0.5555555555555556,
             "#d8576b"
            ],
            [
             0.6666666666666666,
             "#ed7953"
            ],
            [
             0.7777777777777778,
             "#fb9f3a"
            ],
            [
             0.8888888888888888,
             "#fdca26"
            ],
            [
             1,
             "#f0f921"
            ]
           ]
          },
          "colorway": [
           "#636efa",
           "#EF553B",
           "#00cc96",
           "#ab63fa",
           "#FFA15A",
           "#19d3f3",
           "#FF6692",
           "#B6E880",
           "#FF97FF",
           "#FECB52"
          ],
          "font": {
           "color": "#2a3f5f"
          },
          "geo": {
           "bgcolor": "white",
           "lakecolor": "white",
           "landcolor": "#E5ECF6",
           "showlakes": true,
           "showland": true,
           "subunitcolor": "white"
          },
          "hoverlabel": {
           "align": "left"
          },
          "hovermode": "closest",
          "mapbox": {
           "style": "light"
          },
          "paper_bgcolor": "white",
          "plot_bgcolor": "#E5ECF6",
          "polar": {
           "angularaxis": {
            "gridcolor": "white",
            "linecolor": "white",
            "ticks": ""
           },
           "bgcolor": "#E5ECF6",
           "radialaxis": {
            "gridcolor": "white",
            "linecolor": "white",
            "ticks": ""
           }
          },
          "scene": {
           "xaxis": {
            "backgroundcolor": "#E5ECF6",
            "gridcolor": "white",
            "gridwidth": 2,
            "linecolor": "white",
            "showbackground": true,
            "ticks": "",
            "zerolinecolor": "white"
           },
           "yaxis": {
            "backgroundcolor": "#E5ECF6",
            "gridcolor": "white",
            "gridwidth": 2,
            "linecolor": "white",
            "showbackground": true,
            "ticks": "",
            "zerolinecolor": "white"
           },
           "zaxis": {
            "backgroundcolor": "#E5ECF6",
            "gridcolor": "white",
            "gridwidth": 2,
            "linecolor": "white",
            "showbackground": true,
            "ticks": "",
            "zerolinecolor": "white"
           }
          },
          "shapedefaults": {
           "line": {
            "color": "#2a3f5f"
           }
          },
          "ternary": {
           "aaxis": {
            "gridcolor": "white",
            "linecolor": "white",
            "ticks": ""
           },
           "baxis": {
            "gridcolor": "white",
            "linecolor": "white",
            "ticks": ""
           },
           "bgcolor": "#E5ECF6",
           "caxis": {
            "gridcolor": "white",
            "linecolor": "white",
            "ticks": ""
           }
          },
          "title": {
           "x": 0.05
          },
          "xaxis": {
           "automargin": true,
           "gridcolor": "white",
           "linecolor": "white",
           "ticks": "",
           "title": {
            "standoff": 15
           },
           "zerolinecolor": "white",
           "zerolinewidth": 2
          },
          "yaxis": {
           "automargin": true,
           "gridcolor": "white",
           "linecolor": "white",
           "ticks": "",
           "title": {
            "standoff": 15
           },
           "zerolinecolor": "white",
           "zerolinewidth": 2
          }
         }
        },
        "title": {
         "font": {
          "color": "#4D5663"
         }
        },
        "xaxis": {
         "gridcolor": "#E1E5ED",
         "showgrid": true,
         "tickfont": {
          "color": "#4D5663"
         },
         "title": {
          "font": {
           "color": "#4D5663"
          },
          "text": ""
         },
         "zerolinecolor": "#E1E5ED"
        },
        "yaxis": {
         "gridcolor": "#E1E5ED",
         "showgrid": true,
         "tickfont": {
          "color": "#4D5663"
         },
         "title": {
          "font": {
           "color": "#4D5663"
          },
          "text": ""
         },
         "zerolinecolor": "#E1E5ED"
        }
       }
      },
      "text/html": [
       "<div>                            <div id=\"5127e04c-33b7-4fac-9bf0-8419dbea8672\" class=\"plotly-graph-div\" style=\"height:525px; width:100%;\"></div>            <script type=\"text/javascript\">                require([\"plotly\"], function(Plotly) {                    window.PLOTLYENV=window.PLOTLYENV || {};\n",
       "                    window.PLOTLYENV.BASE_URL='https://plot.ly';                                    if (document.getElementById(\"5127e04c-33b7-4fac-9bf0-8419dbea8672\")) {                    Plotly.newPlot(                        \"5127e04c-33b7-4fac-9bf0-8419dbea8672\",                        [{\"marker\":{\"color\":\"rgba(255, 153, 51, 0.6)\",\"line\":{\"color\":\"rgba(255, 153, 51, 1.0)\",\"width\":1}},\"name\":\"Values\",\"orientation\":\"v\",\"text\":\"\",\"x\":[\"A\",\"B\",\"C\"],\"y\":[32,43,50],\"type\":\"bar\"}],                        {\"legend\":{\"bgcolor\":\"#F5F6F9\",\"font\":{\"color\":\"#4D5663\"}},\"paper_bgcolor\":\"#F5F6F9\",\"plot_bgcolor\":\"#F5F6F9\",\"template\":{\"data\":{\"barpolar\":[{\"marker\":{\"line\":{\"color\":\"#E5ECF6\",\"width\":0.5},\"pattern\":{\"fillmode\":\"overlay\",\"size\":10,\"solidity\":0.2}},\"type\":\"barpolar\"}],\"bar\":[{\"error_x\":{\"color\":\"#2a3f5f\"},\"error_y\":{\"color\":\"#2a3f5f\"},\"marker\":{\"line\":{\"color\":\"#E5ECF6\",\"width\":0.5},\"pattern\":{\"fillmode\":\"overlay\",\"size\":10,\"solidity\":0.2}},\"type\":\"bar\"}],\"carpet\":[{\"aaxis\":{\"endlinecolor\":\"#2a3f5f\",\"gridcolor\":\"white\",\"linecolor\":\"white\",\"minorgridcolor\":\"white\",\"startlinecolor\":\"#2a3f5f\"},\"baxis\":{\"endlinecolor\":\"#2a3f5f\",\"gridcolor\":\"white\",\"linecolor\":\"white\",\"minorgridcolor\":\"white\",\"startlinecolor\":\"#2a3f5f\"},\"type\":\"carpet\"}],\"choropleth\":[{\"colorbar\":{\"outlinewidth\":0,\"ticks\":\"\"},\"type\":\"choropleth\"}],\"contourcarpet\":[{\"colorbar\":{\"outlinewidth\":0,\"ticks\":\"\"},\"type\":\"contourcarpet\"}],\"contour\":[{\"colorbar\":{\"outlinewidth\":0,\"ticks\":\"\"},\"colorscale\":[[0.0,\"#0d0887\"],[0.1111111111111111,\"#46039f\"],[0.2222222222222222,\"#7201a8\"],[0.3333333333333333,\"#9c179e\"],[0.4444444444444444,\"#bd3786\"],[0.5555555555555556,\"#d8576b\"],[0.6666666666666666,\"#ed7953\"],[0.7777777777777778,\"#fb9f3a\"],[0.8888888888888888,\"#fdca26\"],[1.0,\"#f0f921\"]],\"type\":\"contour\"}],\"heatmapgl\":[{\"colorbar\":{\"outlinewidth\":0,\"ticks\":\"\"},\"colorscale\":[[0.0,\"#0d0887\"],[0.1111111111111111,\"#46039f\"],[0.2222222222222222,\"#7201a8\"],[0.3333333333333333,\"#9c179e\"],[0.4444444444444444,\"#bd3786\"],[0.5555555555555556,\"#d8576b\"],[0.6666666666666666,\"#ed7953\"],[0.7777777777777778,\"#fb9f3a\"],[0.8888888888888888,\"#fdca26\"],[1.0,\"#f0f921\"]],\"type\":\"heatmapgl\"}],\"heatmap\":[{\"colorbar\":{\"outlinewidth\":0,\"ticks\":\"\"},\"colorscale\":[[0.0,\"#0d0887\"],[0.1111111111111111,\"#46039f\"],[0.2222222222222222,\"#7201a8\"],[0.3333333333333333,\"#9c179e\"],[0.4444444444444444,\"#bd3786\"],[0.5555555555555556,\"#d8576b\"],[0.6666666666666666,\"#ed7953\"],[0.7777777777777778,\"#fb9f3a\"],[0.8888888888888888,\"#fdca26\"],[1.0,\"#f0f921\"]],\"type\":\"heatmap\"}],\"histogram2dcontour\":[{\"colorbar\":{\"outlinewidth\":0,\"ticks\":\"\"},\"colorscale\":[[0.0,\"#0d0887\"],[0.1111111111111111,\"#46039f\"],[0.2222222222222222,\"#7201a8\"],[0.3333333333333333,\"#9c179e\"],[0.4444444444444444,\"#bd3786\"],[0.5555555555555556,\"#d8576b\"],[0.6666666666666666,\"#ed7953\"],[0.7777777777777778,\"#fb9f3a\"],[0.8888888888888888,\"#fdca26\"],[1.0,\"#f0f921\"]],\"type\":\"histogram2dcontour\"}],\"histogram2d\":[{\"colorbar\":{\"outlinewidth\":0,\"ticks\":\"\"},\"colorscale\":[[0.0,\"#0d0887\"],[0.1111111111111111,\"#46039f\"],[0.2222222222222222,\"#7201a8\"],[0.3333333333333333,\"#9c179e\"],[0.4444444444444444,\"#bd3786\"],[0.5555555555555556,\"#d8576b\"],[0.6666666666666666,\"#ed7953\"],[0.7777777777777778,\"#fb9f3a\"],[0.8888888888888888,\"#fdca26\"],[1.0,\"#f0f921\"]],\"type\":\"histogram2d\"}],\"histogram\":[{\"marker\":{\"pattern\":{\"fillmode\":\"overlay\",\"size\":10,\"solidity\":0.2}},\"type\":\"histogram\"}],\"mesh3d\":[{\"colorbar\":{\"outlinewidth\":0,\"ticks\":\"\"},\"type\":\"mesh3d\"}],\"parcoords\":[{\"line\":{\"colorbar\":{\"outlinewidth\":0,\"ticks\":\"\"}},\"type\":\"parcoords\"}],\"pie\":[{\"automargin\":true,\"type\":\"pie\"}],\"scatter3d\":[{\"line\":{\"colorbar\":{\"outlinewidth\":0,\"ticks\":\"\"}},\"marker\":{\"colorbar\":{\"outlinewidth\":0,\"ticks\":\"\"}},\"type\":\"scatter3d\"}],\"scattercarpet\":[{\"marker\":{\"colorbar\":{\"outlinewidth\":0,\"ticks\":\"\"}},\"type\":\"scattercarpet\"}],\"scattergeo\":[{\"marker\":{\"colorbar\":{\"outlinewidth\":0,\"ticks\":\"\"}},\"type\":\"scattergeo\"}],\"scattergl\":[{\"marker\":{\"colorbar\":{\"outlinewidth\":0,\"ticks\":\"\"}},\"type\":\"scattergl\"}],\"scattermapbox\":[{\"marker\":{\"colorbar\":{\"outlinewidth\":0,\"ticks\":\"\"}},\"type\":\"scattermapbox\"}],\"scatterpolargl\":[{\"marker\":{\"colorbar\":{\"outlinewidth\":0,\"ticks\":\"\"}},\"type\":\"scatterpolargl\"}],\"scatterpolar\":[{\"marker\":{\"colorbar\":{\"outlinewidth\":0,\"ticks\":\"\"}},\"type\":\"scatterpolar\"}],\"scatter\":[{\"fillpattern\":{\"fillmode\":\"overlay\",\"size\":10,\"solidity\":0.2},\"type\":\"scatter\"}],\"scatterternary\":[{\"marker\":{\"colorbar\":{\"outlinewidth\":0,\"ticks\":\"\"}},\"type\":\"scatterternary\"}],\"surface\":[{\"colorbar\":{\"outlinewidth\":0,\"ticks\":\"\"},\"colorscale\":[[0.0,\"#0d0887\"],[0.1111111111111111,\"#46039f\"],[0.2222222222222222,\"#7201a8\"],[0.3333333333333333,\"#9c179e\"],[0.4444444444444444,\"#bd3786\"],[0.5555555555555556,\"#d8576b\"],[0.6666666666666666,\"#ed7953\"],[0.7777777777777778,\"#fb9f3a\"],[0.8888888888888888,\"#fdca26\"],[1.0,\"#f0f921\"]],\"type\":\"surface\"}],\"table\":[{\"cells\":{\"fill\":{\"color\":\"#EBF0F8\"},\"line\":{\"color\":\"white\"}},\"header\":{\"fill\":{\"color\":\"#C8D4E3\"},\"line\":{\"color\":\"white\"}},\"type\":\"table\"}]},\"layout\":{\"annotationdefaults\":{\"arrowcolor\":\"#2a3f5f\",\"arrowhead\":0,\"arrowwidth\":1},\"autotypenumbers\":\"strict\",\"coloraxis\":{\"colorbar\":{\"outlinewidth\":0,\"ticks\":\"\"}},\"colorscale\":{\"diverging\":[[0,\"#8e0152\"],[0.1,\"#c51b7d\"],[0.2,\"#de77ae\"],[0.3,\"#f1b6da\"],[0.4,\"#fde0ef\"],[0.5,\"#f7f7f7\"],[0.6,\"#e6f5d0\"],[0.7,\"#b8e186\"],[0.8,\"#7fbc41\"],[0.9,\"#4d9221\"],[1,\"#276419\"]],\"sequential\":[[0.0,\"#0d0887\"],[0.1111111111111111,\"#46039f\"],[0.2222222222222222,\"#7201a8\"],[0.3333333333333333,\"#9c179e\"],[0.4444444444444444,\"#bd3786\"],[0.5555555555555556,\"#d8576b\"],[0.6666666666666666,\"#ed7953\"],[0.7777777777777778,\"#fb9f3a\"],[0.8888888888888888,\"#fdca26\"],[1.0,\"#f0f921\"]],\"sequentialminus\":[[0.0,\"#0d0887\"],[0.1111111111111111,\"#46039f\"],[0.2222222222222222,\"#7201a8\"],[0.3333333333333333,\"#9c179e\"],[0.4444444444444444,\"#bd3786\"],[0.5555555555555556,\"#d8576b\"],[0.6666666666666666,\"#ed7953\"],[0.7777777777777778,\"#fb9f3a\"],[0.8888888888888888,\"#fdca26\"],[1.0,\"#f0f921\"]]},\"colorway\":[\"#636efa\",\"#EF553B\",\"#00cc96\",\"#ab63fa\",\"#FFA15A\",\"#19d3f3\",\"#FF6692\",\"#B6E880\",\"#FF97FF\",\"#FECB52\"],\"font\":{\"color\":\"#2a3f5f\"},\"geo\":{\"bgcolor\":\"white\",\"lakecolor\":\"white\",\"landcolor\":\"#E5ECF6\",\"showlakes\":true,\"showland\":true,\"subunitcolor\":\"white\"},\"hoverlabel\":{\"align\":\"left\"},\"hovermode\":\"closest\",\"mapbox\":{\"style\":\"light\"},\"paper_bgcolor\":\"white\",\"plot_bgcolor\":\"#E5ECF6\",\"polar\":{\"angularaxis\":{\"gridcolor\":\"white\",\"linecolor\":\"white\",\"ticks\":\"\"},\"bgcolor\":\"#E5ECF6\",\"radialaxis\":{\"gridcolor\":\"white\",\"linecolor\":\"white\",\"ticks\":\"\"}},\"scene\":{\"xaxis\":{\"backgroundcolor\":\"#E5ECF6\",\"gridcolor\":\"white\",\"gridwidth\":2,\"linecolor\":\"white\",\"showbackground\":true,\"ticks\":\"\",\"zerolinecolor\":\"white\"},\"yaxis\":{\"backgroundcolor\":\"#E5ECF6\",\"gridcolor\":\"white\",\"gridwidth\":2,\"linecolor\":\"white\",\"showbackground\":true,\"ticks\":\"\",\"zerolinecolor\":\"white\"},\"zaxis\":{\"backgroundcolor\":\"#E5ECF6\",\"gridcolor\":\"white\",\"gridwidth\":2,\"linecolor\":\"white\",\"showbackground\":true,\"ticks\":\"\",\"zerolinecolor\":\"white\"}},\"shapedefaults\":{\"line\":{\"color\":\"#2a3f5f\"}},\"ternary\":{\"aaxis\":{\"gridcolor\":\"white\",\"linecolor\":\"white\",\"ticks\":\"\"},\"baxis\":{\"gridcolor\":\"white\",\"linecolor\":\"white\",\"ticks\":\"\"},\"bgcolor\":\"#E5ECF6\",\"caxis\":{\"gridcolor\":\"white\",\"linecolor\":\"white\",\"ticks\":\"\"}},\"title\":{\"x\":0.05},\"xaxis\":{\"automargin\":true,\"gridcolor\":\"white\",\"linecolor\":\"white\",\"ticks\":\"\",\"title\":{\"standoff\":15},\"zerolinecolor\":\"white\",\"zerolinewidth\":2},\"yaxis\":{\"automargin\":true,\"gridcolor\":\"white\",\"linecolor\":\"white\",\"ticks\":\"\",\"title\":{\"standoff\":15},\"zerolinecolor\":\"white\",\"zerolinewidth\":2}}},\"title\":{\"font\":{\"color\":\"#4D5663\"}},\"xaxis\":{\"gridcolor\":\"#E1E5ED\",\"showgrid\":true,\"tickfont\":{\"color\":\"#4D5663\"},\"title\":{\"font\":{\"color\":\"#4D5663\"},\"text\":\"\"},\"zerolinecolor\":\"#E1E5ED\"},\"yaxis\":{\"gridcolor\":\"#E1E5ED\",\"showgrid\":true,\"tickfont\":{\"color\":\"#4D5663\"},\"title\":{\"font\":{\"color\":\"#4D5663\"},\"text\":\"\"},\"zerolinecolor\":\"#E1E5ED\"}},                        {\"showLink\": true, \"linkText\": \"Export to plot.ly\", \"plotlyServerURL\": \"https://plot.ly\", \"responsive\": true}                    ).then(function(){\n",
       "                            \n",
       "var gd = document.getElementById('5127e04c-33b7-4fac-9bf0-8419dbea8672');\n",
       "var x = new MutationObserver(function (mutations, observer) {{\n",
       "        var display = window.getComputedStyle(gd).display;\n",
       "        if (!display || display === 'none') {{\n",
       "            console.log([gd, 'removed!']);\n",
       "            Plotly.purge(gd);\n",
       "            observer.disconnect();\n",
       "        }}\n",
       "}});\n",
       "\n",
       "// Listen for the removal of the full notebook cells\n",
       "var notebookContainer = gd.closest('#notebook-container');\n",
       "if (notebookContainer) {{\n",
       "    x.observe(notebookContainer, {childList: true});\n",
       "}}\n",
       "\n",
       "// Listen for the clearing of the current output cell\n",
       "var outputEl = gd.closest('.output');\n",
       "if (outputEl) {{\n",
       "    x.observe(outputEl, {childList: true});\n",
       "}}\n",
       "\n",
       "                        })                };                });            </script>        </div>"
      ]
     },
     "metadata": {},
     "output_type": "display_data"
    }
   ],
   "source": [
    "df2.iplot(kind='bar',x='Category',y='Values')"
   ]
  },
  {
   "cell_type": "code",
   "execution_count": 26,
   "id": "a344319c",
   "metadata": {},
   "outputs": [
    {
     "data": {
      "text/html": [
       "<div>\n",
       "<style scoped>\n",
       "    .dataframe tbody tr th:only-of-type {\n",
       "        vertical-align: middle;\n",
       "    }\n",
       "\n",
       "    .dataframe tbody tr th {\n",
       "        vertical-align: top;\n",
       "    }\n",
       "\n",
       "    .dataframe thead th {\n",
       "        text-align: right;\n",
       "    }\n",
       "</style>\n",
       "<table border=\"1\" class=\"dataframe\">\n",
       "  <thead>\n",
       "    <tr style=\"text-align: right;\">\n",
       "      <th></th>\n",
       "      <th>A</th>\n",
       "      <th>B</th>\n",
       "      <th>C</th>\n",
       "      <th>D</th>\n",
       "    </tr>\n",
       "  </thead>\n",
       "  <tbody>\n",
       "    <tr>\n",
       "      <th>0</th>\n",
       "      <td>-0.238337</td>\n",
       "      <td>-0.062914</td>\n",
       "      <td>-1.015066</td>\n",
       "      <td>-0.114209</td>\n",
       "    </tr>\n",
       "    <tr>\n",
       "      <th>1</th>\n",
       "      <td>0.650199</td>\n",
       "      <td>-1.532273</td>\n",
       "      <td>2.439607</td>\n",
       "      <td>-0.180156</td>\n",
       "    </tr>\n",
       "    <tr>\n",
       "      <th>2</th>\n",
       "      <td>0.692401</td>\n",
       "      <td>2.028349</td>\n",
       "      <td>-1.051482</td>\n",
       "      <td>0.446738</td>\n",
       "    </tr>\n",
       "    <tr>\n",
       "      <th>3</th>\n",
       "      <td>1.532097</td>\n",
       "      <td>0.669393</td>\n",
       "      <td>0.025787</td>\n",
       "      <td>0.513496</td>\n",
       "    </tr>\n",
       "    <tr>\n",
       "      <th>4</th>\n",
       "      <td>1.514354</td>\n",
       "      <td>-1.784146</td>\n",
       "      <td>0.483229</td>\n",
       "      <td>-2.506825</td>\n",
       "    </tr>\n",
       "    <tr>\n",
       "      <th>...</th>\n",
       "      <td>...</td>\n",
       "      <td>...</td>\n",
       "      <td>...</td>\n",
       "      <td>...</td>\n",
       "    </tr>\n",
       "    <tr>\n",
       "      <th>95</th>\n",
       "      <td>-0.466705</td>\n",
       "      <td>-1.092397</td>\n",
       "      <td>-0.778374</td>\n",
       "      <td>-2.298270</td>\n",
       "    </tr>\n",
       "    <tr>\n",
       "      <th>96</th>\n",
       "      <td>-1.965792</td>\n",
       "      <td>-0.943917</td>\n",
       "      <td>-1.112287</td>\n",
       "      <td>1.090852</td>\n",
       "    </tr>\n",
       "    <tr>\n",
       "      <th>97</th>\n",
       "      <td>-2.572153</td>\n",
       "      <td>1.446733</td>\n",
       "      <td>-0.853933</td>\n",
       "      <td>-1.130490</td>\n",
       "    </tr>\n",
       "    <tr>\n",
       "      <th>98</th>\n",
       "      <td>1.255547</td>\n",
       "      <td>2.659876</td>\n",
       "      <td>-0.193718</td>\n",
       "      <td>-0.054708</td>\n",
       "    </tr>\n",
       "    <tr>\n",
       "      <th>99</th>\n",
       "      <td>0.125045</td>\n",
       "      <td>-1.436834</td>\n",
       "      <td>0.425185</td>\n",
       "      <td>2.831359</td>\n",
       "    </tr>\n",
       "  </tbody>\n",
       "</table>\n",
       "<p>100 rows × 4 columns</p>\n",
       "</div>"
      ],
      "text/plain": [
       "           A         B         C         D\n",
       "0  -0.238337 -0.062914 -1.015066 -0.114209\n",
       "1   0.650199 -1.532273  2.439607 -0.180156\n",
       "2   0.692401  2.028349 -1.051482  0.446738\n",
       "3   1.532097  0.669393  0.025787  0.513496\n",
       "4   1.514354 -1.784146  0.483229 -2.506825\n",
       "..       ...       ...       ...       ...\n",
       "95 -0.466705 -1.092397 -0.778374 -2.298270\n",
       "96 -1.965792 -0.943917 -1.112287  1.090852\n",
       "97 -2.572153  1.446733 -0.853933 -1.130490\n",
       "98  1.255547  2.659876 -0.193718 -0.054708\n",
       "99  0.125045 -1.436834  0.425185  2.831359\n",
       "\n",
       "[100 rows x 4 columns]"
      ]
     },
     "execution_count": 26,
     "metadata": {},
     "output_type": "execute_result"
    }
   ],
   "source": [
    "df"
   ]
  },
  {
   "cell_type": "code",
   "execution_count": 28,
   "id": "5aa5b0d1",
   "metadata": {},
   "outputs": [
    {
     "data": {
      "application/vnd.plotly.v1+json": {
       "config": {
        "linkText": "Export to plot.ly",
        "plotlyServerURL": "https://plot.ly",
        "showLink": true
       },
       "data": [
        {
         "marker": {
          "color": "rgba(255, 153, 51, 0.6)",
          "line": {
           "color": "rgba(255, 153, 51, 1.0)",
           "width": 1
          }
         },
         "name": "None",
         "orientation": "v",
         "text": "",
         "type": "bar",
         "x": [
          "A",
          "B",
          "C",
          "D"
         ],
         "y": [
          100,
          100,
          100,
          100
         ]
        }
       ],
       "layout": {
        "legend": {
         "bgcolor": "#F5F6F9",
         "font": {
          "color": "#4D5663"
         }
        },
        "paper_bgcolor": "#F5F6F9",
        "plot_bgcolor": "#F5F6F9",
        "template": {
         "data": {
          "bar": [
           {
            "error_x": {
             "color": "#2a3f5f"
            },
            "error_y": {
             "color": "#2a3f5f"
            },
            "marker": {
             "line": {
              "color": "#E5ECF6",
              "width": 0.5
             },
             "pattern": {
              "fillmode": "overlay",
              "size": 10,
              "solidity": 0.2
             }
            },
            "type": "bar"
           }
          ],
          "barpolar": [
           {
            "marker": {
             "line": {
              "color": "#E5ECF6",
              "width": 0.5
             },
             "pattern": {
              "fillmode": "overlay",
              "size": 10,
              "solidity": 0.2
             }
            },
            "type": "barpolar"
           }
          ],
          "carpet": [
           {
            "aaxis": {
             "endlinecolor": "#2a3f5f",
             "gridcolor": "white",
             "linecolor": "white",
             "minorgridcolor": "white",
             "startlinecolor": "#2a3f5f"
            },
            "baxis": {
             "endlinecolor": "#2a3f5f",
             "gridcolor": "white",
             "linecolor": "white",
             "minorgridcolor": "white",
             "startlinecolor": "#2a3f5f"
            },
            "type": "carpet"
           }
          ],
          "choropleth": [
           {
            "colorbar": {
             "outlinewidth": 0,
             "ticks": ""
            },
            "type": "choropleth"
           }
          ],
          "contour": [
           {
            "colorbar": {
             "outlinewidth": 0,
             "ticks": ""
            },
            "colorscale": [
             [
              0,
              "#0d0887"
             ],
             [
              0.1111111111111111,
              "#46039f"
             ],
             [
              0.2222222222222222,
              "#7201a8"
             ],
             [
              0.3333333333333333,
              "#9c179e"
             ],
             [
              0.4444444444444444,
              "#bd3786"
             ],
             [
              0.5555555555555556,
              "#d8576b"
             ],
             [
              0.6666666666666666,
              "#ed7953"
             ],
             [
              0.7777777777777778,
              "#fb9f3a"
             ],
             [
              0.8888888888888888,
              "#fdca26"
             ],
             [
              1,
              "#f0f921"
             ]
            ],
            "type": "contour"
           }
          ],
          "contourcarpet": [
           {
            "colorbar": {
             "outlinewidth": 0,
             "ticks": ""
            },
            "type": "contourcarpet"
           }
          ],
          "heatmap": [
           {
            "colorbar": {
             "outlinewidth": 0,
             "ticks": ""
            },
            "colorscale": [
             [
              0,
              "#0d0887"
             ],
             [
              0.1111111111111111,
              "#46039f"
             ],
             [
              0.2222222222222222,
              "#7201a8"
             ],
             [
              0.3333333333333333,
              "#9c179e"
             ],
             [
              0.4444444444444444,
              "#bd3786"
             ],
             [
              0.5555555555555556,
              "#d8576b"
             ],
             [
              0.6666666666666666,
              "#ed7953"
             ],
             [
              0.7777777777777778,
              "#fb9f3a"
             ],
             [
              0.8888888888888888,
              "#fdca26"
             ],
             [
              1,
              "#f0f921"
             ]
            ],
            "type": "heatmap"
           }
          ],
          "heatmapgl": [
           {
            "colorbar": {
             "outlinewidth": 0,
             "ticks": ""
            },
            "colorscale": [
             [
              0,
              "#0d0887"
             ],
             [
              0.1111111111111111,
              "#46039f"
             ],
             [
              0.2222222222222222,
              "#7201a8"
             ],
             [
              0.3333333333333333,
              "#9c179e"
             ],
             [
              0.4444444444444444,
              "#bd3786"
             ],
             [
              0.5555555555555556,
              "#d8576b"
             ],
             [
              0.6666666666666666,
              "#ed7953"
             ],
             [
              0.7777777777777778,
              "#fb9f3a"
             ],
             [
              0.8888888888888888,
              "#fdca26"
             ],
             [
              1,
              "#f0f921"
             ]
            ],
            "type": "heatmapgl"
           }
          ],
          "histogram": [
           {
            "marker": {
             "pattern": {
              "fillmode": "overlay",
              "size": 10,
              "solidity": 0.2
             }
            },
            "type": "histogram"
           }
          ],
          "histogram2d": [
           {
            "colorbar": {
             "outlinewidth": 0,
             "ticks": ""
            },
            "colorscale": [
             [
              0,
              "#0d0887"
             ],
             [
              0.1111111111111111,
              "#46039f"
             ],
             [
              0.2222222222222222,
              "#7201a8"
             ],
             [
              0.3333333333333333,
              "#9c179e"
             ],
             [
              0.4444444444444444,
              "#bd3786"
             ],
             [
              0.5555555555555556,
              "#d8576b"
             ],
             [
              0.6666666666666666,
              "#ed7953"
             ],
             [
              0.7777777777777778,
              "#fb9f3a"
             ],
             [
              0.8888888888888888,
              "#fdca26"
             ],
             [
              1,
              "#f0f921"
             ]
            ],
            "type": "histogram2d"
           }
          ],
          "histogram2dcontour": [
           {
            "colorbar": {
             "outlinewidth": 0,
             "ticks": ""
            },
            "colorscale": [
             [
              0,
              "#0d0887"
             ],
             [
              0.1111111111111111,
              "#46039f"
             ],
             [
              0.2222222222222222,
              "#7201a8"
             ],
             [
              0.3333333333333333,
              "#9c179e"
             ],
             [
              0.4444444444444444,
              "#bd3786"
             ],
             [
              0.5555555555555556,
              "#d8576b"
             ],
             [
              0.6666666666666666,
              "#ed7953"
             ],
             [
              0.7777777777777778,
              "#fb9f3a"
             ],
             [
              0.8888888888888888,
              "#fdca26"
             ],
             [
              1,
              "#f0f921"
             ]
            ],
            "type": "histogram2dcontour"
           }
          ],
          "mesh3d": [
           {
            "colorbar": {
             "outlinewidth": 0,
             "ticks": ""
            },
            "type": "mesh3d"
           }
          ],
          "parcoords": [
           {
            "line": {
             "colorbar": {
              "outlinewidth": 0,
              "ticks": ""
             }
            },
            "type": "parcoords"
           }
          ],
          "pie": [
           {
            "automargin": true,
            "type": "pie"
           }
          ],
          "scatter": [
           {
            "fillpattern": {
             "fillmode": "overlay",
             "size": 10,
             "solidity": 0.2
            },
            "type": "scatter"
           }
          ],
          "scatter3d": [
           {
            "line": {
             "colorbar": {
              "outlinewidth": 0,
              "ticks": ""
             }
            },
            "marker": {
             "colorbar": {
              "outlinewidth": 0,
              "ticks": ""
             }
            },
            "type": "scatter3d"
           }
          ],
          "scattercarpet": [
           {
            "marker": {
             "colorbar": {
              "outlinewidth": 0,
              "ticks": ""
             }
            },
            "type": "scattercarpet"
           }
          ],
          "scattergeo": [
           {
            "marker": {
             "colorbar": {
              "outlinewidth": 0,
              "ticks": ""
             }
            },
            "type": "scattergeo"
           }
          ],
          "scattergl": [
           {
            "marker": {
             "colorbar": {
              "outlinewidth": 0,
              "ticks": ""
             }
            },
            "type": "scattergl"
           }
          ],
          "scattermapbox": [
           {
            "marker": {
             "colorbar": {
              "outlinewidth": 0,
              "ticks": ""
             }
            },
            "type": "scattermapbox"
           }
          ],
          "scatterpolar": [
           {
            "marker": {
             "colorbar": {
              "outlinewidth": 0,
              "ticks": ""
             }
            },
            "type": "scatterpolar"
           }
          ],
          "scatterpolargl": [
           {
            "marker": {
             "colorbar": {
              "outlinewidth": 0,
              "ticks": ""
             }
            },
            "type": "scatterpolargl"
           }
          ],
          "scatterternary": [
           {
            "marker": {
             "colorbar": {
              "outlinewidth": 0,
              "ticks": ""
             }
            },
            "type": "scatterternary"
           }
          ],
          "surface": [
           {
            "colorbar": {
             "outlinewidth": 0,
             "ticks": ""
            },
            "colorscale": [
             [
              0,
              "#0d0887"
             ],
             [
              0.1111111111111111,
              "#46039f"
             ],
             [
              0.2222222222222222,
              "#7201a8"
             ],
             [
              0.3333333333333333,
              "#9c179e"
             ],
             [
              0.4444444444444444,
              "#bd3786"
             ],
             [
              0.5555555555555556,
              "#d8576b"
             ],
             [
              0.6666666666666666,
              "#ed7953"
             ],
             [
              0.7777777777777778,
              "#fb9f3a"
             ],
             [
              0.8888888888888888,
              "#fdca26"
             ],
             [
              1,
              "#f0f921"
             ]
            ],
            "type": "surface"
           }
          ],
          "table": [
           {
            "cells": {
             "fill": {
              "color": "#EBF0F8"
             },
             "line": {
              "color": "white"
             }
            },
            "header": {
             "fill": {
              "color": "#C8D4E3"
             },
             "line": {
              "color": "white"
             }
            },
            "type": "table"
           }
          ]
         },
         "layout": {
          "annotationdefaults": {
           "arrowcolor": "#2a3f5f",
           "arrowhead": 0,
           "arrowwidth": 1
          },
          "autotypenumbers": "strict",
          "coloraxis": {
           "colorbar": {
            "outlinewidth": 0,
            "ticks": ""
           }
          },
          "colorscale": {
           "diverging": [
            [
             0,
             "#8e0152"
            ],
            [
             0.1,
             "#c51b7d"
            ],
            [
             0.2,
             "#de77ae"
            ],
            [
             0.3,
             "#f1b6da"
            ],
            [
             0.4,
             "#fde0ef"
            ],
            [
             0.5,
             "#f7f7f7"
            ],
            [
             0.6,
             "#e6f5d0"
            ],
            [
             0.7,
             "#b8e186"
            ],
            [
             0.8,
             "#7fbc41"
            ],
            [
             0.9,
             "#4d9221"
            ],
            [
             1,
             "#276419"
            ]
           ],
           "sequential": [
            [
             0,
             "#0d0887"
            ],
            [
             0.1111111111111111,
             "#46039f"
            ],
            [
             0.2222222222222222,
             "#7201a8"
            ],
            [
             0.3333333333333333,
             "#9c179e"
            ],
            [
             0.4444444444444444,
             "#bd3786"
            ],
            [
             0.5555555555555556,
             "#d8576b"
            ],
            [
             0.6666666666666666,
             "#ed7953"
            ],
            [
             0.7777777777777778,
             "#fb9f3a"
            ],
            [
             0.8888888888888888,
             "#fdca26"
            ],
            [
             1,
             "#f0f921"
            ]
           ],
           "sequentialminus": [
            [
             0,
             "#0d0887"
            ],
            [
             0.1111111111111111,
             "#46039f"
            ],
            [
             0.2222222222222222,
             "#7201a8"
            ],
            [
             0.3333333333333333,
             "#9c179e"
            ],
            [
             0.4444444444444444,
             "#bd3786"
            ],
            [
             0.5555555555555556,
             "#d8576b"
            ],
            [
             0.6666666666666666,
             "#ed7953"
            ],
            [
             0.7777777777777778,
             "#fb9f3a"
            ],
            [
             0.8888888888888888,
             "#fdca26"
            ],
            [
             1,
             "#f0f921"
            ]
           ]
          },
          "colorway": [
           "#636efa",
           "#EF553B",
           "#00cc96",
           "#ab63fa",
           "#FFA15A",
           "#19d3f3",
           "#FF6692",
           "#B6E880",
           "#FF97FF",
           "#FECB52"
          ],
          "font": {
           "color": "#2a3f5f"
          },
          "geo": {
           "bgcolor": "white",
           "lakecolor": "white",
           "landcolor": "#E5ECF6",
           "showlakes": true,
           "showland": true,
           "subunitcolor": "white"
          },
          "hoverlabel": {
           "align": "left"
          },
          "hovermode": "closest",
          "mapbox": {
           "style": "light"
          },
          "paper_bgcolor": "white",
          "plot_bgcolor": "#E5ECF6",
          "polar": {
           "angularaxis": {
            "gridcolor": "white",
            "linecolor": "white",
            "ticks": ""
           },
           "bgcolor": "#E5ECF6",
           "radialaxis": {
            "gridcolor": "white",
            "linecolor": "white",
            "ticks": ""
           }
          },
          "scene": {
           "xaxis": {
            "backgroundcolor": "#E5ECF6",
            "gridcolor": "white",
            "gridwidth": 2,
            "linecolor": "white",
            "showbackground": true,
            "ticks": "",
            "zerolinecolor": "white"
           },
           "yaxis": {
            "backgroundcolor": "#E5ECF6",
            "gridcolor": "white",
            "gridwidth": 2,
            "linecolor": "white",
            "showbackground": true,
            "ticks": "",
            "zerolinecolor": "white"
           },
           "zaxis": {
            "backgroundcolor": "#E5ECF6",
            "gridcolor": "white",
            "gridwidth": 2,
            "linecolor": "white",
            "showbackground": true,
            "ticks": "",
            "zerolinecolor": "white"
           }
          },
          "shapedefaults": {
           "line": {
            "color": "#2a3f5f"
           }
          },
          "ternary": {
           "aaxis": {
            "gridcolor": "white",
            "linecolor": "white",
            "ticks": ""
           },
           "baxis": {
            "gridcolor": "white",
            "linecolor": "white",
            "ticks": ""
           },
           "bgcolor": "#E5ECF6",
           "caxis": {
            "gridcolor": "white",
            "linecolor": "white",
            "ticks": ""
           }
          },
          "title": {
           "x": 0.05
          },
          "xaxis": {
           "automargin": true,
           "gridcolor": "white",
           "linecolor": "white",
           "ticks": "",
           "title": {
            "standoff": 15
           },
           "zerolinecolor": "white",
           "zerolinewidth": 2
          },
          "yaxis": {
           "automargin": true,
           "gridcolor": "white",
           "linecolor": "white",
           "ticks": "",
           "title": {
            "standoff": 15
           },
           "zerolinecolor": "white",
           "zerolinewidth": 2
          }
         }
        },
        "title": {
         "font": {
          "color": "#4D5663"
         }
        },
        "xaxis": {
         "gridcolor": "#E1E5ED",
         "showgrid": true,
         "tickfont": {
          "color": "#4D5663"
         },
         "title": {
          "font": {
           "color": "#4D5663"
          },
          "text": ""
         },
         "zerolinecolor": "#E1E5ED"
        },
        "yaxis": {
         "gridcolor": "#E1E5ED",
         "showgrid": true,
         "tickfont": {
          "color": "#4D5663"
         },
         "title": {
          "font": {
           "color": "#4D5663"
          },
          "text": ""
         },
         "zerolinecolor": "#E1E5ED"
        }
       }
      },
      "text/html": [
       "<div>                            <div id=\"cde6974c-c976-4c03-ab56-cb8dcdd65b1c\" class=\"plotly-graph-div\" style=\"height:525px; width:100%;\"></div>            <script type=\"text/javascript\">                require([\"plotly\"], function(Plotly) {                    window.PLOTLYENV=window.PLOTLYENV || {};\n",
       "                    window.PLOTLYENV.BASE_URL='https://plot.ly';                                    if (document.getElementById(\"cde6974c-c976-4c03-ab56-cb8dcdd65b1c\")) {                    Plotly.newPlot(                        \"cde6974c-c976-4c03-ab56-cb8dcdd65b1c\",                        [{\"marker\":{\"color\":\"rgba(255, 153, 51, 0.6)\",\"line\":{\"color\":\"rgba(255, 153, 51, 1.0)\",\"width\":1}},\"name\":\"None\",\"orientation\":\"v\",\"text\":\"\",\"x\":[\"A\",\"B\",\"C\",\"D\"],\"y\":[100,100,100,100],\"type\":\"bar\"}],                        {\"legend\":{\"bgcolor\":\"#F5F6F9\",\"font\":{\"color\":\"#4D5663\"}},\"paper_bgcolor\":\"#F5F6F9\",\"plot_bgcolor\":\"#F5F6F9\",\"template\":{\"data\":{\"barpolar\":[{\"marker\":{\"line\":{\"color\":\"#E5ECF6\",\"width\":0.5},\"pattern\":{\"fillmode\":\"overlay\",\"size\":10,\"solidity\":0.2}},\"type\":\"barpolar\"}],\"bar\":[{\"error_x\":{\"color\":\"#2a3f5f\"},\"error_y\":{\"color\":\"#2a3f5f\"},\"marker\":{\"line\":{\"color\":\"#E5ECF6\",\"width\":0.5},\"pattern\":{\"fillmode\":\"overlay\",\"size\":10,\"solidity\":0.2}},\"type\":\"bar\"}],\"carpet\":[{\"aaxis\":{\"endlinecolor\":\"#2a3f5f\",\"gridcolor\":\"white\",\"linecolor\":\"white\",\"minorgridcolor\":\"white\",\"startlinecolor\":\"#2a3f5f\"},\"baxis\":{\"endlinecolor\":\"#2a3f5f\",\"gridcolor\":\"white\",\"linecolor\":\"white\",\"minorgridcolor\":\"white\",\"startlinecolor\":\"#2a3f5f\"},\"type\":\"carpet\"}],\"choropleth\":[{\"colorbar\":{\"outlinewidth\":0,\"ticks\":\"\"},\"type\":\"choropleth\"}],\"contourcarpet\":[{\"colorbar\":{\"outlinewidth\":0,\"ticks\":\"\"},\"type\":\"contourcarpet\"}],\"contour\":[{\"colorbar\":{\"outlinewidth\":0,\"ticks\":\"\"},\"colorscale\":[[0.0,\"#0d0887\"],[0.1111111111111111,\"#46039f\"],[0.2222222222222222,\"#7201a8\"],[0.3333333333333333,\"#9c179e\"],[0.4444444444444444,\"#bd3786\"],[0.5555555555555556,\"#d8576b\"],[0.6666666666666666,\"#ed7953\"],[0.7777777777777778,\"#fb9f3a\"],[0.8888888888888888,\"#fdca26\"],[1.0,\"#f0f921\"]],\"type\":\"contour\"}],\"heatmapgl\":[{\"colorbar\":{\"outlinewidth\":0,\"ticks\":\"\"},\"colorscale\":[[0.0,\"#0d0887\"],[0.1111111111111111,\"#46039f\"],[0.2222222222222222,\"#7201a8\"],[0.3333333333333333,\"#9c179e\"],[0.4444444444444444,\"#bd3786\"],[0.5555555555555556,\"#d8576b\"],[0.6666666666666666,\"#ed7953\"],[0.7777777777777778,\"#fb9f3a\"],[0.8888888888888888,\"#fdca26\"],[1.0,\"#f0f921\"]],\"type\":\"heatmapgl\"}],\"heatmap\":[{\"colorbar\":{\"outlinewidth\":0,\"ticks\":\"\"},\"colorscale\":[[0.0,\"#0d0887\"],[0.1111111111111111,\"#46039f\"],[0.2222222222222222,\"#7201a8\"],[0.3333333333333333,\"#9c179e\"],[0.4444444444444444,\"#bd3786\"],[0.5555555555555556,\"#d8576b\"],[0.6666666666666666,\"#ed7953\"],[0.7777777777777778,\"#fb9f3a\"],[0.8888888888888888,\"#fdca26\"],[1.0,\"#f0f921\"]],\"type\":\"heatmap\"}],\"histogram2dcontour\":[{\"colorbar\":{\"outlinewidth\":0,\"ticks\":\"\"},\"colorscale\":[[0.0,\"#0d0887\"],[0.1111111111111111,\"#46039f\"],[0.2222222222222222,\"#7201a8\"],[0.3333333333333333,\"#9c179e\"],[0.4444444444444444,\"#bd3786\"],[0.5555555555555556,\"#d8576b\"],[0.6666666666666666,\"#ed7953\"],[0.7777777777777778,\"#fb9f3a\"],[0.8888888888888888,\"#fdca26\"],[1.0,\"#f0f921\"]],\"type\":\"histogram2dcontour\"}],\"histogram2d\":[{\"colorbar\":{\"outlinewidth\":0,\"ticks\":\"\"},\"colorscale\":[[0.0,\"#0d0887\"],[0.1111111111111111,\"#46039f\"],[0.2222222222222222,\"#7201a8\"],[0.3333333333333333,\"#9c179e\"],[0.4444444444444444,\"#bd3786\"],[0.5555555555555556,\"#d8576b\"],[0.6666666666666666,\"#ed7953\"],[0.7777777777777778,\"#fb9f3a\"],[0.8888888888888888,\"#fdca26\"],[1.0,\"#f0f921\"]],\"type\":\"histogram2d\"}],\"histogram\":[{\"marker\":{\"pattern\":{\"fillmode\":\"overlay\",\"size\":10,\"solidity\":0.2}},\"type\":\"histogram\"}],\"mesh3d\":[{\"colorbar\":{\"outlinewidth\":0,\"ticks\":\"\"},\"type\":\"mesh3d\"}],\"parcoords\":[{\"line\":{\"colorbar\":{\"outlinewidth\":0,\"ticks\":\"\"}},\"type\":\"parcoords\"}],\"pie\":[{\"automargin\":true,\"type\":\"pie\"}],\"scatter3d\":[{\"line\":{\"colorbar\":{\"outlinewidth\":0,\"ticks\":\"\"}},\"marker\":{\"colorbar\":{\"outlinewidth\":0,\"ticks\":\"\"}},\"type\":\"scatter3d\"}],\"scattercarpet\":[{\"marker\":{\"colorbar\":{\"outlinewidth\":0,\"ticks\":\"\"}},\"type\":\"scattercarpet\"}],\"scattergeo\":[{\"marker\":{\"colorbar\":{\"outlinewidth\":0,\"ticks\":\"\"}},\"type\":\"scattergeo\"}],\"scattergl\":[{\"marker\":{\"colorbar\":{\"outlinewidth\":0,\"ticks\":\"\"}},\"type\":\"scattergl\"}],\"scattermapbox\":[{\"marker\":{\"colorbar\":{\"outlinewidth\":0,\"ticks\":\"\"}},\"type\":\"scattermapbox\"}],\"scatterpolargl\":[{\"marker\":{\"colorbar\":{\"outlinewidth\":0,\"ticks\":\"\"}},\"type\":\"scatterpolargl\"}],\"scatterpolar\":[{\"marker\":{\"colorbar\":{\"outlinewidth\":0,\"ticks\":\"\"}},\"type\":\"scatterpolar\"}],\"scatter\":[{\"fillpattern\":{\"fillmode\":\"overlay\",\"size\":10,\"solidity\":0.2},\"type\":\"scatter\"}],\"scatterternary\":[{\"marker\":{\"colorbar\":{\"outlinewidth\":0,\"ticks\":\"\"}},\"type\":\"scatterternary\"}],\"surface\":[{\"colorbar\":{\"outlinewidth\":0,\"ticks\":\"\"},\"colorscale\":[[0.0,\"#0d0887\"],[0.1111111111111111,\"#46039f\"],[0.2222222222222222,\"#7201a8\"],[0.3333333333333333,\"#9c179e\"],[0.4444444444444444,\"#bd3786\"],[0.5555555555555556,\"#d8576b\"],[0.6666666666666666,\"#ed7953\"],[0.7777777777777778,\"#fb9f3a\"],[0.8888888888888888,\"#fdca26\"],[1.0,\"#f0f921\"]],\"type\":\"surface\"}],\"table\":[{\"cells\":{\"fill\":{\"color\":\"#EBF0F8\"},\"line\":{\"color\":\"white\"}},\"header\":{\"fill\":{\"color\":\"#C8D4E3\"},\"line\":{\"color\":\"white\"}},\"type\":\"table\"}]},\"layout\":{\"annotationdefaults\":{\"arrowcolor\":\"#2a3f5f\",\"arrowhead\":0,\"arrowwidth\":1},\"autotypenumbers\":\"strict\",\"coloraxis\":{\"colorbar\":{\"outlinewidth\":0,\"ticks\":\"\"}},\"colorscale\":{\"diverging\":[[0,\"#8e0152\"],[0.1,\"#c51b7d\"],[0.2,\"#de77ae\"],[0.3,\"#f1b6da\"],[0.4,\"#fde0ef\"],[0.5,\"#f7f7f7\"],[0.6,\"#e6f5d0\"],[0.7,\"#b8e186\"],[0.8,\"#7fbc41\"],[0.9,\"#4d9221\"],[1,\"#276419\"]],\"sequential\":[[0.0,\"#0d0887\"],[0.1111111111111111,\"#46039f\"],[0.2222222222222222,\"#7201a8\"],[0.3333333333333333,\"#9c179e\"],[0.4444444444444444,\"#bd3786\"],[0.5555555555555556,\"#d8576b\"],[0.6666666666666666,\"#ed7953\"],[0.7777777777777778,\"#fb9f3a\"],[0.8888888888888888,\"#fdca26\"],[1.0,\"#f0f921\"]],\"sequentialminus\":[[0.0,\"#0d0887\"],[0.1111111111111111,\"#46039f\"],[0.2222222222222222,\"#7201a8\"],[0.3333333333333333,\"#9c179e\"],[0.4444444444444444,\"#bd3786\"],[0.5555555555555556,\"#d8576b\"],[0.6666666666666666,\"#ed7953\"],[0.7777777777777778,\"#fb9f3a\"],[0.8888888888888888,\"#fdca26\"],[1.0,\"#f0f921\"]]},\"colorway\":[\"#636efa\",\"#EF553B\",\"#00cc96\",\"#ab63fa\",\"#FFA15A\",\"#19d3f3\",\"#FF6692\",\"#B6E880\",\"#FF97FF\",\"#FECB52\"],\"font\":{\"color\":\"#2a3f5f\"},\"geo\":{\"bgcolor\":\"white\",\"lakecolor\":\"white\",\"landcolor\":\"#E5ECF6\",\"showlakes\":true,\"showland\":true,\"subunitcolor\":\"white\"},\"hoverlabel\":{\"align\":\"left\"},\"hovermode\":\"closest\",\"mapbox\":{\"style\":\"light\"},\"paper_bgcolor\":\"white\",\"plot_bgcolor\":\"#E5ECF6\",\"polar\":{\"angularaxis\":{\"gridcolor\":\"white\",\"linecolor\":\"white\",\"ticks\":\"\"},\"bgcolor\":\"#E5ECF6\",\"radialaxis\":{\"gridcolor\":\"white\",\"linecolor\":\"white\",\"ticks\":\"\"}},\"scene\":{\"xaxis\":{\"backgroundcolor\":\"#E5ECF6\",\"gridcolor\":\"white\",\"gridwidth\":2,\"linecolor\":\"white\",\"showbackground\":true,\"ticks\":\"\",\"zerolinecolor\":\"white\"},\"yaxis\":{\"backgroundcolor\":\"#E5ECF6\",\"gridcolor\":\"white\",\"gridwidth\":2,\"linecolor\":\"white\",\"showbackground\":true,\"ticks\":\"\",\"zerolinecolor\":\"white\"},\"zaxis\":{\"backgroundcolor\":\"#E5ECF6\",\"gridcolor\":\"white\",\"gridwidth\":2,\"linecolor\":\"white\",\"showbackground\":true,\"ticks\":\"\",\"zerolinecolor\":\"white\"}},\"shapedefaults\":{\"line\":{\"color\":\"#2a3f5f\"}},\"ternary\":{\"aaxis\":{\"gridcolor\":\"white\",\"linecolor\":\"white\",\"ticks\":\"\"},\"baxis\":{\"gridcolor\":\"white\",\"linecolor\":\"white\",\"ticks\":\"\"},\"bgcolor\":\"#E5ECF6\",\"caxis\":{\"gridcolor\":\"white\",\"linecolor\":\"white\",\"ticks\":\"\"}},\"title\":{\"x\":0.05},\"xaxis\":{\"automargin\":true,\"gridcolor\":\"white\",\"linecolor\":\"white\",\"ticks\":\"\",\"title\":{\"standoff\":15},\"zerolinecolor\":\"white\",\"zerolinewidth\":2},\"yaxis\":{\"automargin\":true,\"gridcolor\":\"white\",\"linecolor\":\"white\",\"ticks\":\"\",\"title\":{\"standoff\":15},\"zerolinecolor\":\"white\",\"zerolinewidth\":2}}},\"title\":{\"font\":{\"color\":\"#4D5663\"}},\"xaxis\":{\"gridcolor\":\"#E1E5ED\",\"showgrid\":true,\"tickfont\":{\"color\":\"#4D5663\"},\"title\":{\"font\":{\"color\":\"#4D5663\"},\"text\":\"\"},\"zerolinecolor\":\"#E1E5ED\"},\"yaxis\":{\"gridcolor\":\"#E1E5ED\",\"showgrid\":true,\"tickfont\":{\"color\":\"#4D5663\"},\"title\":{\"font\":{\"color\":\"#4D5663\"},\"text\":\"\"},\"zerolinecolor\":\"#E1E5ED\"}},                        {\"showLink\": true, \"linkText\": \"Export to plot.ly\", \"plotlyServerURL\": \"https://plot.ly\", \"responsive\": true}                    ).then(function(){\n",
       "                            \n",
       "var gd = document.getElementById('cde6974c-c976-4c03-ab56-cb8dcdd65b1c');\n",
       "var x = new MutationObserver(function (mutations, observer) {{\n",
       "        var display = window.getComputedStyle(gd).display;\n",
       "        if (!display || display === 'none') {{\n",
       "            console.log([gd, 'removed!']);\n",
       "            Plotly.purge(gd);\n",
       "            observer.disconnect();\n",
       "        }}\n",
       "}});\n",
       "\n",
       "// Listen for the removal of the full notebook cells\n",
       "var notebookContainer = gd.closest('#notebook-container');\n",
       "if (notebookContainer) {{\n",
       "    x.observe(notebookContainer, {childList: true});\n",
       "}}\n",
       "\n",
       "// Listen for the clearing of the current output cell\n",
       "var outputEl = gd.closest('.output');\n",
       "if (outputEl) {{\n",
       "    x.observe(outputEl, {childList: true});\n",
       "}}\n",
       "\n",
       "                        })                };                });            </script>        </div>"
      ]
     },
     "metadata": {},
     "output_type": "display_data"
    }
   ],
   "source": [
    "df.count().iplot(kind='bar')"
   ]
  },
  {
   "cell_type": "code",
   "execution_count": 29,
   "id": "36246b37",
   "metadata": {},
   "outputs": [
    {
     "data": {
      "application/vnd.plotly.v1+json": {
       "config": {
        "linkText": "Export to plot.ly",
        "plotlyServerURL": "https://plot.ly",
        "showLink": true
       },
       "data": [
        {
         "marker": {
          "color": "rgba(255, 153, 51, 0.6)",
          "line": {
           "color": "rgba(255, 153, 51, 1.0)",
           "width": 1
          }
         },
         "name": "None",
         "orientation": "v",
         "text": "",
         "type": "bar",
         "x": [
          "A",
          "B",
          "C",
          "D"
         ],
         "y": [
          10.032624554151642,
          -6.949081997680284,
          -4.305935342552537,
          18.53682621505876
         ]
        }
       ],
       "layout": {
        "legend": {
         "bgcolor": "#F5F6F9",
         "font": {
          "color": "#4D5663"
         }
        },
        "paper_bgcolor": "#F5F6F9",
        "plot_bgcolor": "#F5F6F9",
        "template": {
         "data": {
          "bar": [
           {
            "error_x": {
             "color": "#2a3f5f"
            },
            "error_y": {
             "color": "#2a3f5f"
            },
            "marker": {
             "line": {
              "color": "#E5ECF6",
              "width": 0.5
             },
             "pattern": {
              "fillmode": "overlay",
              "size": 10,
              "solidity": 0.2
             }
            },
            "type": "bar"
           }
          ],
          "barpolar": [
           {
            "marker": {
             "line": {
              "color": "#E5ECF6",
              "width": 0.5
             },
             "pattern": {
              "fillmode": "overlay",
              "size": 10,
              "solidity": 0.2
             }
            },
            "type": "barpolar"
           }
          ],
          "carpet": [
           {
            "aaxis": {
             "endlinecolor": "#2a3f5f",
             "gridcolor": "white",
             "linecolor": "white",
             "minorgridcolor": "white",
             "startlinecolor": "#2a3f5f"
            },
            "baxis": {
             "endlinecolor": "#2a3f5f",
             "gridcolor": "white",
             "linecolor": "white",
             "minorgridcolor": "white",
             "startlinecolor": "#2a3f5f"
            },
            "type": "carpet"
           }
          ],
          "choropleth": [
           {
            "colorbar": {
             "outlinewidth": 0,
             "ticks": ""
            },
            "type": "choropleth"
           }
          ],
          "contour": [
           {
            "colorbar": {
             "outlinewidth": 0,
             "ticks": ""
            },
            "colorscale": [
             [
              0,
              "#0d0887"
             ],
             [
              0.1111111111111111,
              "#46039f"
             ],
             [
              0.2222222222222222,
              "#7201a8"
             ],
             [
              0.3333333333333333,
              "#9c179e"
             ],
             [
              0.4444444444444444,
              "#bd3786"
             ],
             [
              0.5555555555555556,
              "#d8576b"
             ],
             [
              0.6666666666666666,
              "#ed7953"
             ],
             [
              0.7777777777777778,
              "#fb9f3a"
             ],
             [
              0.8888888888888888,
              "#fdca26"
             ],
             [
              1,
              "#f0f921"
             ]
            ],
            "type": "contour"
           }
          ],
          "contourcarpet": [
           {
            "colorbar": {
             "outlinewidth": 0,
             "ticks": ""
            },
            "type": "contourcarpet"
           }
          ],
          "heatmap": [
           {
            "colorbar": {
             "outlinewidth": 0,
             "ticks": ""
            },
            "colorscale": [
             [
              0,
              "#0d0887"
             ],
             [
              0.1111111111111111,
              "#46039f"
             ],
             [
              0.2222222222222222,
              "#7201a8"
             ],
             [
              0.3333333333333333,
              "#9c179e"
             ],
             [
              0.4444444444444444,
              "#bd3786"
             ],
             [
              0.5555555555555556,
              "#d8576b"
             ],
             [
              0.6666666666666666,
              "#ed7953"
             ],
             [
              0.7777777777777778,
              "#fb9f3a"
             ],
             [
              0.8888888888888888,
              "#fdca26"
             ],
             [
              1,
              "#f0f921"
             ]
            ],
            "type": "heatmap"
           }
          ],
          "heatmapgl": [
           {
            "colorbar": {
             "outlinewidth": 0,
             "ticks": ""
            },
            "colorscale": [
             [
              0,
              "#0d0887"
             ],
             [
              0.1111111111111111,
              "#46039f"
             ],
             [
              0.2222222222222222,
              "#7201a8"
             ],
             [
              0.3333333333333333,
              "#9c179e"
             ],
             [
              0.4444444444444444,
              "#bd3786"
             ],
             [
              0.5555555555555556,
              "#d8576b"
             ],
             [
              0.6666666666666666,
              "#ed7953"
             ],
             [
              0.7777777777777778,
              "#fb9f3a"
             ],
             [
              0.8888888888888888,
              "#fdca26"
             ],
             [
              1,
              "#f0f921"
             ]
            ],
            "type": "heatmapgl"
           }
          ],
          "histogram": [
           {
            "marker": {
             "pattern": {
              "fillmode": "overlay",
              "size": 10,
              "solidity": 0.2
             }
            },
            "type": "histogram"
           }
          ],
          "histogram2d": [
           {
            "colorbar": {
             "outlinewidth": 0,
             "ticks": ""
            },
            "colorscale": [
             [
              0,
              "#0d0887"
             ],
             [
              0.1111111111111111,
              "#46039f"
             ],
             [
              0.2222222222222222,
              "#7201a8"
             ],
             [
              0.3333333333333333,
              "#9c179e"
             ],
             [
              0.4444444444444444,
              "#bd3786"
             ],
             [
              0.5555555555555556,
              "#d8576b"
             ],
             [
              0.6666666666666666,
              "#ed7953"
             ],
             [
              0.7777777777777778,
              "#fb9f3a"
             ],
             [
              0.8888888888888888,
              "#fdca26"
             ],
             [
              1,
              "#f0f921"
             ]
            ],
            "type": "histogram2d"
           }
          ],
          "histogram2dcontour": [
           {
            "colorbar": {
             "outlinewidth": 0,
             "ticks": ""
            },
            "colorscale": [
             [
              0,
              "#0d0887"
             ],
             [
              0.1111111111111111,
              "#46039f"
             ],
             [
              0.2222222222222222,
              "#7201a8"
             ],
             [
              0.3333333333333333,
              "#9c179e"
             ],
             [
              0.4444444444444444,
              "#bd3786"
             ],
             [
              0.5555555555555556,
              "#d8576b"
             ],
             [
              0.6666666666666666,
              "#ed7953"
             ],
             [
              0.7777777777777778,
              "#fb9f3a"
             ],
             [
              0.8888888888888888,
              "#fdca26"
             ],
             [
              1,
              "#f0f921"
             ]
            ],
            "type": "histogram2dcontour"
           }
          ],
          "mesh3d": [
           {
            "colorbar": {
             "outlinewidth": 0,
             "ticks": ""
            },
            "type": "mesh3d"
           }
          ],
          "parcoords": [
           {
            "line": {
             "colorbar": {
              "outlinewidth": 0,
              "ticks": ""
             }
            },
            "type": "parcoords"
           }
          ],
          "pie": [
           {
            "automargin": true,
            "type": "pie"
           }
          ],
          "scatter": [
           {
            "fillpattern": {
             "fillmode": "overlay",
             "size": 10,
             "solidity": 0.2
            },
            "type": "scatter"
           }
          ],
          "scatter3d": [
           {
            "line": {
             "colorbar": {
              "outlinewidth": 0,
              "ticks": ""
             }
            },
            "marker": {
             "colorbar": {
              "outlinewidth": 0,
              "ticks": ""
             }
            },
            "type": "scatter3d"
           }
          ],
          "scattercarpet": [
           {
            "marker": {
             "colorbar": {
              "outlinewidth": 0,
              "ticks": ""
             }
            },
            "type": "scattercarpet"
           }
          ],
          "scattergeo": [
           {
            "marker": {
             "colorbar": {
              "outlinewidth": 0,
              "ticks": ""
             }
            },
            "type": "scattergeo"
           }
          ],
          "scattergl": [
           {
            "marker": {
             "colorbar": {
              "outlinewidth": 0,
              "ticks": ""
             }
            },
            "type": "scattergl"
           }
          ],
          "scattermapbox": [
           {
            "marker": {
             "colorbar": {
              "outlinewidth": 0,
              "ticks": ""
             }
            },
            "type": "scattermapbox"
           }
          ],
          "scatterpolar": [
           {
            "marker": {
             "colorbar": {
              "outlinewidth": 0,
              "ticks": ""
             }
            },
            "type": "scatterpolar"
           }
          ],
          "scatterpolargl": [
           {
            "marker": {
             "colorbar": {
              "outlinewidth": 0,
              "ticks": ""
             }
            },
            "type": "scatterpolargl"
           }
          ],
          "scatterternary": [
           {
            "marker": {
             "colorbar": {
              "outlinewidth": 0,
              "ticks": ""
             }
            },
            "type": "scatterternary"
           }
          ],
          "surface": [
           {
            "colorbar": {
             "outlinewidth": 0,
             "ticks": ""
            },
            "colorscale": [
             [
              0,
              "#0d0887"
             ],
             [
              0.1111111111111111,
              "#46039f"
             ],
             [
              0.2222222222222222,
              "#7201a8"
             ],
             [
              0.3333333333333333,
              "#9c179e"
             ],
             [
              0.4444444444444444,
              "#bd3786"
             ],
             [
              0.5555555555555556,
              "#d8576b"
             ],
             [
              0.6666666666666666,
              "#ed7953"
             ],
             [
              0.7777777777777778,
              "#fb9f3a"
             ],
             [
              0.8888888888888888,
              "#fdca26"
             ],
             [
              1,
              "#f0f921"
             ]
            ],
            "type": "surface"
           }
          ],
          "table": [
           {
            "cells": {
             "fill": {
              "color": "#EBF0F8"
             },
             "line": {
              "color": "white"
             }
            },
            "header": {
             "fill": {
              "color": "#C8D4E3"
             },
             "line": {
              "color": "white"
             }
            },
            "type": "table"
           }
          ]
         },
         "layout": {
          "annotationdefaults": {
           "arrowcolor": "#2a3f5f",
           "arrowhead": 0,
           "arrowwidth": 1
          },
          "autotypenumbers": "strict",
          "coloraxis": {
           "colorbar": {
            "outlinewidth": 0,
            "ticks": ""
           }
          },
          "colorscale": {
           "diverging": [
            [
             0,
             "#8e0152"
            ],
            [
             0.1,
             "#c51b7d"
            ],
            [
             0.2,
             "#de77ae"
            ],
            [
             0.3,
             "#f1b6da"
            ],
            [
             0.4,
             "#fde0ef"
            ],
            [
             0.5,
             "#f7f7f7"
            ],
            [
             0.6,
             "#e6f5d0"
            ],
            [
             0.7,
             "#b8e186"
            ],
            [
             0.8,
             "#7fbc41"
            ],
            [
             0.9,
             "#4d9221"
            ],
            [
             1,
             "#276419"
            ]
           ],
           "sequential": [
            [
             0,
             "#0d0887"
            ],
            [
             0.1111111111111111,
             "#46039f"
            ],
            [
             0.2222222222222222,
             "#7201a8"
            ],
            [
             0.3333333333333333,
             "#9c179e"
            ],
            [
             0.4444444444444444,
             "#bd3786"
            ],
            [
             0.5555555555555556,
             "#d8576b"
            ],
            [
             0.6666666666666666,
             "#ed7953"
            ],
            [
             0.7777777777777778,
             "#fb9f3a"
            ],
            [
             0.8888888888888888,
             "#fdca26"
            ],
            [
             1,
             "#f0f921"
            ]
           ],
           "sequentialminus": [
            [
             0,
             "#0d0887"
            ],
            [
             0.1111111111111111,
             "#46039f"
            ],
            [
             0.2222222222222222,
             "#7201a8"
            ],
            [
             0.3333333333333333,
             "#9c179e"
            ],
            [
             0.4444444444444444,
             "#bd3786"
            ],
            [
             0.5555555555555556,
             "#d8576b"
            ],
            [
             0.6666666666666666,
             "#ed7953"
            ],
            [
             0.7777777777777778,
             "#fb9f3a"
            ],
            [
             0.8888888888888888,
             "#fdca26"
            ],
            [
             1,
             "#f0f921"
            ]
           ]
          },
          "colorway": [
           "#636efa",
           "#EF553B",
           "#00cc96",
           "#ab63fa",
           "#FFA15A",
           "#19d3f3",
           "#FF6692",
           "#B6E880",
           "#FF97FF",
           "#FECB52"
          ],
          "font": {
           "color": "#2a3f5f"
          },
          "geo": {
           "bgcolor": "white",
           "lakecolor": "white",
           "landcolor": "#E5ECF6",
           "showlakes": true,
           "showland": true,
           "subunitcolor": "white"
          },
          "hoverlabel": {
           "align": "left"
          },
          "hovermode": "closest",
          "mapbox": {
           "style": "light"
          },
          "paper_bgcolor": "white",
          "plot_bgcolor": "#E5ECF6",
          "polar": {
           "angularaxis": {
            "gridcolor": "white",
            "linecolor": "white",
            "ticks": ""
           },
           "bgcolor": "#E5ECF6",
           "radialaxis": {
            "gridcolor": "white",
            "linecolor": "white",
            "ticks": ""
           }
          },
          "scene": {
           "xaxis": {
            "backgroundcolor": "#E5ECF6",
            "gridcolor": "white",
            "gridwidth": 2,
            "linecolor": "white",
            "showbackground": true,
            "ticks": "",
            "zerolinecolor": "white"
           },
           "yaxis": {
            "backgroundcolor": "#E5ECF6",
            "gridcolor": "white",
            "gridwidth": 2,
            "linecolor": "white",
            "showbackground": true,
            "ticks": "",
            "zerolinecolor": "white"
           },
           "zaxis": {
            "backgroundcolor": "#E5ECF6",
            "gridcolor": "white",
            "gridwidth": 2,
            "linecolor": "white",
            "showbackground": true,
            "ticks": "",
            "zerolinecolor": "white"
           }
          },
          "shapedefaults": {
           "line": {
            "color": "#2a3f5f"
           }
          },
          "ternary": {
           "aaxis": {
            "gridcolor": "white",
            "linecolor": "white",
            "ticks": ""
           },
           "baxis": {
            "gridcolor": "white",
            "linecolor": "white",
            "ticks": ""
           },
           "bgcolor": "#E5ECF6",
           "caxis": {
            "gridcolor": "white",
            "linecolor": "white",
            "ticks": ""
           }
          },
          "title": {
           "x": 0.05
          },
          "xaxis": {
           "automargin": true,
           "gridcolor": "white",
           "linecolor": "white",
           "ticks": "",
           "title": {
            "standoff": 15
           },
           "zerolinecolor": "white",
           "zerolinewidth": 2
          },
          "yaxis": {
           "automargin": true,
           "gridcolor": "white",
           "linecolor": "white",
           "ticks": "",
           "title": {
            "standoff": 15
           },
           "zerolinecolor": "white",
           "zerolinewidth": 2
          }
         }
        },
        "title": {
         "font": {
          "color": "#4D5663"
         }
        },
        "xaxis": {
         "gridcolor": "#E1E5ED",
         "showgrid": true,
         "tickfont": {
          "color": "#4D5663"
         },
         "title": {
          "font": {
           "color": "#4D5663"
          },
          "text": ""
         },
         "zerolinecolor": "#E1E5ED"
        },
        "yaxis": {
         "gridcolor": "#E1E5ED",
         "showgrid": true,
         "tickfont": {
          "color": "#4D5663"
         },
         "title": {
          "font": {
           "color": "#4D5663"
          },
          "text": ""
         },
         "zerolinecolor": "#E1E5ED"
        }
       }
      },
      "text/html": [
       "<div>                            <div id=\"7ff8d129-53c6-402e-a5ca-bab69c6849d2\" class=\"plotly-graph-div\" style=\"height:525px; width:100%;\"></div>            <script type=\"text/javascript\">                require([\"plotly\"], function(Plotly) {                    window.PLOTLYENV=window.PLOTLYENV || {};\n",
       "                    window.PLOTLYENV.BASE_URL='https://plot.ly';                                    if (document.getElementById(\"7ff8d129-53c6-402e-a5ca-bab69c6849d2\")) {                    Plotly.newPlot(                        \"7ff8d129-53c6-402e-a5ca-bab69c6849d2\",                        [{\"marker\":{\"color\":\"rgba(255, 153, 51, 0.6)\",\"line\":{\"color\":\"rgba(255, 153, 51, 1.0)\",\"width\":1}},\"name\":\"None\",\"orientation\":\"v\",\"text\":\"\",\"x\":[\"A\",\"B\",\"C\",\"D\"],\"y\":[10.032624554151642,-6.949081997680284,-4.305935342552537,18.53682621505876],\"type\":\"bar\"}],                        {\"legend\":{\"bgcolor\":\"#F5F6F9\",\"font\":{\"color\":\"#4D5663\"}},\"paper_bgcolor\":\"#F5F6F9\",\"plot_bgcolor\":\"#F5F6F9\",\"template\":{\"data\":{\"barpolar\":[{\"marker\":{\"line\":{\"color\":\"#E5ECF6\",\"width\":0.5},\"pattern\":{\"fillmode\":\"overlay\",\"size\":10,\"solidity\":0.2}},\"type\":\"barpolar\"}],\"bar\":[{\"error_x\":{\"color\":\"#2a3f5f\"},\"error_y\":{\"color\":\"#2a3f5f\"},\"marker\":{\"line\":{\"color\":\"#E5ECF6\",\"width\":0.5},\"pattern\":{\"fillmode\":\"overlay\",\"size\":10,\"solidity\":0.2}},\"type\":\"bar\"}],\"carpet\":[{\"aaxis\":{\"endlinecolor\":\"#2a3f5f\",\"gridcolor\":\"white\",\"linecolor\":\"white\",\"minorgridcolor\":\"white\",\"startlinecolor\":\"#2a3f5f\"},\"baxis\":{\"endlinecolor\":\"#2a3f5f\",\"gridcolor\":\"white\",\"linecolor\":\"white\",\"minorgridcolor\":\"white\",\"startlinecolor\":\"#2a3f5f\"},\"type\":\"carpet\"}],\"choropleth\":[{\"colorbar\":{\"outlinewidth\":0,\"ticks\":\"\"},\"type\":\"choropleth\"}],\"contourcarpet\":[{\"colorbar\":{\"outlinewidth\":0,\"ticks\":\"\"},\"type\":\"contourcarpet\"}],\"contour\":[{\"colorbar\":{\"outlinewidth\":0,\"ticks\":\"\"},\"colorscale\":[[0.0,\"#0d0887\"],[0.1111111111111111,\"#46039f\"],[0.2222222222222222,\"#7201a8\"],[0.3333333333333333,\"#9c179e\"],[0.4444444444444444,\"#bd3786\"],[0.5555555555555556,\"#d8576b\"],[0.6666666666666666,\"#ed7953\"],[0.7777777777777778,\"#fb9f3a\"],[0.8888888888888888,\"#fdca26\"],[1.0,\"#f0f921\"]],\"type\":\"contour\"}],\"heatmapgl\":[{\"colorbar\":{\"outlinewidth\":0,\"ticks\":\"\"},\"colorscale\":[[0.0,\"#0d0887\"],[0.1111111111111111,\"#46039f\"],[0.2222222222222222,\"#7201a8\"],[0.3333333333333333,\"#9c179e\"],[0.4444444444444444,\"#bd3786\"],[0.5555555555555556,\"#d8576b\"],[0.6666666666666666,\"#ed7953\"],[0.7777777777777778,\"#fb9f3a\"],[0.8888888888888888,\"#fdca26\"],[1.0,\"#f0f921\"]],\"type\":\"heatmapgl\"}],\"heatmap\":[{\"colorbar\":{\"outlinewidth\":0,\"ticks\":\"\"},\"colorscale\":[[0.0,\"#0d0887\"],[0.1111111111111111,\"#46039f\"],[0.2222222222222222,\"#7201a8\"],[0.3333333333333333,\"#9c179e\"],[0.4444444444444444,\"#bd3786\"],[0.5555555555555556,\"#d8576b\"],[0.6666666666666666,\"#ed7953\"],[0.7777777777777778,\"#fb9f3a\"],[0.8888888888888888,\"#fdca26\"],[1.0,\"#f0f921\"]],\"type\":\"heatmap\"}],\"histogram2dcontour\":[{\"colorbar\":{\"outlinewidth\":0,\"ticks\":\"\"},\"colorscale\":[[0.0,\"#0d0887\"],[0.1111111111111111,\"#46039f\"],[0.2222222222222222,\"#7201a8\"],[0.3333333333333333,\"#9c179e\"],[0.4444444444444444,\"#bd3786\"],[0.5555555555555556,\"#d8576b\"],[0.6666666666666666,\"#ed7953\"],[0.7777777777777778,\"#fb9f3a\"],[0.8888888888888888,\"#fdca26\"],[1.0,\"#f0f921\"]],\"type\":\"histogram2dcontour\"}],\"histogram2d\":[{\"colorbar\":{\"outlinewidth\":0,\"ticks\":\"\"},\"colorscale\":[[0.0,\"#0d0887\"],[0.1111111111111111,\"#46039f\"],[0.2222222222222222,\"#7201a8\"],[0.3333333333333333,\"#9c179e\"],[0.4444444444444444,\"#bd3786\"],[0.5555555555555556,\"#d8576b\"],[0.6666666666666666,\"#ed7953\"],[0.7777777777777778,\"#fb9f3a\"],[0.8888888888888888,\"#fdca26\"],[1.0,\"#f0f921\"]],\"type\":\"histogram2d\"}],\"histogram\":[{\"marker\":{\"pattern\":{\"fillmode\":\"overlay\",\"size\":10,\"solidity\":0.2}},\"type\":\"histogram\"}],\"mesh3d\":[{\"colorbar\":{\"outlinewidth\":0,\"ticks\":\"\"},\"type\":\"mesh3d\"}],\"parcoords\":[{\"line\":{\"colorbar\":{\"outlinewidth\":0,\"ticks\":\"\"}},\"type\":\"parcoords\"}],\"pie\":[{\"automargin\":true,\"type\":\"pie\"}],\"scatter3d\":[{\"line\":{\"colorbar\":{\"outlinewidth\":0,\"ticks\":\"\"}},\"marker\":{\"colorbar\":{\"outlinewidth\":0,\"ticks\":\"\"}},\"type\":\"scatter3d\"}],\"scattercarpet\":[{\"marker\":{\"colorbar\":{\"outlinewidth\":0,\"ticks\":\"\"}},\"type\":\"scattercarpet\"}],\"scattergeo\":[{\"marker\":{\"colorbar\":{\"outlinewidth\":0,\"ticks\":\"\"}},\"type\":\"scattergeo\"}],\"scattergl\":[{\"marker\":{\"colorbar\":{\"outlinewidth\":0,\"ticks\":\"\"}},\"type\":\"scattergl\"}],\"scattermapbox\":[{\"marker\":{\"colorbar\":{\"outlinewidth\":0,\"ticks\":\"\"}},\"type\":\"scattermapbox\"}],\"scatterpolargl\":[{\"marker\":{\"colorbar\":{\"outlinewidth\":0,\"ticks\":\"\"}},\"type\":\"scatterpolargl\"}],\"scatterpolar\":[{\"marker\":{\"colorbar\":{\"outlinewidth\":0,\"ticks\":\"\"}},\"type\":\"scatterpolar\"}],\"scatter\":[{\"fillpattern\":{\"fillmode\":\"overlay\",\"size\":10,\"solidity\":0.2},\"type\":\"scatter\"}],\"scatterternary\":[{\"marker\":{\"colorbar\":{\"outlinewidth\":0,\"ticks\":\"\"}},\"type\":\"scatterternary\"}],\"surface\":[{\"colorbar\":{\"outlinewidth\":0,\"ticks\":\"\"},\"colorscale\":[[0.0,\"#0d0887\"],[0.1111111111111111,\"#46039f\"],[0.2222222222222222,\"#7201a8\"],[0.3333333333333333,\"#9c179e\"],[0.4444444444444444,\"#bd3786\"],[0.5555555555555556,\"#d8576b\"],[0.6666666666666666,\"#ed7953\"],[0.7777777777777778,\"#fb9f3a\"],[0.8888888888888888,\"#fdca26\"],[1.0,\"#f0f921\"]],\"type\":\"surface\"}],\"table\":[{\"cells\":{\"fill\":{\"color\":\"#EBF0F8\"},\"line\":{\"color\":\"white\"}},\"header\":{\"fill\":{\"color\":\"#C8D4E3\"},\"line\":{\"color\":\"white\"}},\"type\":\"table\"}]},\"layout\":{\"annotationdefaults\":{\"arrowcolor\":\"#2a3f5f\",\"arrowhead\":0,\"arrowwidth\":1},\"autotypenumbers\":\"strict\",\"coloraxis\":{\"colorbar\":{\"outlinewidth\":0,\"ticks\":\"\"}},\"colorscale\":{\"diverging\":[[0,\"#8e0152\"],[0.1,\"#c51b7d\"],[0.2,\"#de77ae\"],[0.3,\"#f1b6da\"],[0.4,\"#fde0ef\"],[0.5,\"#f7f7f7\"],[0.6,\"#e6f5d0\"],[0.7,\"#b8e186\"],[0.8,\"#7fbc41\"],[0.9,\"#4d9221\"],[1,\"#276419\"]],\"sequential\":[[0.0,\"#0d0887\"],[0.1111111111111111,\"#46039f\"],[0.2222222222222222,\"#7201a8\"],[0.3333333333333333,\"#9c179e\"],[0.4444444444444444,\"#bd3786\"],[0.5555555555555556,\"#d8576b\"],[0.6666666666666666,\"#ed7953\"],[0.7777777777777778,\"#fb9f3a\"],[0.8888888888888888,\"#fdca26\"],[1.0,\"#f0f921\"]],\"sequentialminus\":[[0.0,\"#0d0887\"],[0.1111111111111111,\"#46039f\"],[0.2222222222222222,\"#7201a8\"],[0.3333333333333333,\"#9c179e\"],[0.4444444444444444,\"#bd3786\"],[0.5555555555555556,\"#d8576b\"],[0.6666666666666666,\"#ed7953\"],[0.7777777777777778,\"#fb9f3a\"],[0.8888888888888888,\"#fdca26\"],[1.0,\"#f0f921\"]]},\"colorway\":[\"#636efa\",\"#EF553B\",\"#00cc96\",\"#ab63fa\",\"#FFA15A\",\"#19d3f3\",\"#FF6692\",\"#B6E880\",\"#FF97FF\",\"#FECB52\"],\"font\":{\"color\":\"#2a3f5f\"},\"geo\":{\"bgcolor\":\"white\",\"lakecolor\":\"white\",\"landcolor\":\"#E5ECF6\",\"showlakes\":true,\"showland\":true,\"subunitcolor\":\"white\"},\"hoverlabel\":{\"align\":\"left\"},\"hovermode\":\"closest\",\"mapbox\":{\"style\":\"light\"},\"paper_bgcolor\":\"white\",\"plot_bgcolor\":\"#E5ECF6\",\"polar\":{\"angularaxis\":{\"gridcolor\":\"white\",\"linecolor\":\"white\",\"ticks\":\"\"},\"bgcolor\":\"#E5ECF6\",\"radialaxis\":{\"gridcolor\":\"white\",\"linecolor\":\"white\",\"ticks\":\"\"}},\"scene\":{\"xaxis\":{\"backgroundcolor\":\"#E5ECF6\",\"gridcolor\":\"white\",\"gridwidth\":2,\"linecolor\":\"white\",\"showbackground\":true,\"ticks\":\"\",\"zerolinecolor\":\"white\"},\"yaxis\":{\"backgroundcolor\":\"#E5ECF6\",\"gridcolor\":\"white\",\"gridwidth\":2,\"linecolor\":\"white\",\"showbackground\":true,\"ticks\":\"\",\"zerolinecolor\":\"white\"},\"zaxis\":{\"backgroundcolor\":\"#E5ECF6\",\"gridcolor\":\"white\",\"gridwidth\":2,\"linecolor\":\"white\",\"showbackground\":true,\"ticks\":\"\",\"zerolinecolor\":\"white\"}},\"shapedefaults\":{\"line\":{\"color\":\"#2a3f5f\"}},\"ternary\":{\"aaxis\":{\"gridcolor\":\"white\",\"linecolor\":\"white\",\"ticks\":\"\"},\"baxis\":{\"gridcolor\":\"white\",\"linecolor\":\"white\",\"ticks\":\"\"},\"bgcolor\":\"#E5ECF6\",\"caxis\":{\"gridcolor\":\"white\",\"linecolor\":\"white\",\"ticks\":\"\"}},\"title\":{\"x\":0.05},\"xaxis\":{\"automargin\":true,\"gridcolor\":\"white\",\"linecolor\":\"white\",\"ticks\":\"\",\"title\":{\"standoff\":15},\"zerolinecolor\":\"white\",\"zerolinewidth\":2},\"yaxis\":{\"automargin\":true,\"gridcolor\":\"white\",\"linecolor\":\"white\",\"ticks\":\"\",\"title\":{\"standoff\":15},\"zerolinecolor\":\"white\",\"zerolinewidth\":2}}},\"title\":{\"font\":{\"color\":\"#4D5663\"}},\"xaxis\":{\"gridcolor\":\"#E1E5ED\",\"showgrid\":true,\"tickfont\":{\"color\":\"#4D5663\"},\"title\":{\"font\":{\"color\":\"#4D5663\"},\"text\":\"\"},\"zerolinecolor\":\"#E1E5ED\"},\"yaxis\":{\"gridcolor\":\"#E1E5ED\",\"showgrid\":true,\"tickfont\":{\"color\":\"#4D5663\"},\"title\":{\"font\":{\"color\":\"#4D5663\"},\"text\":\"\"},\"zerolinecolor\":\"#E1E5ED\"}},                        {\"showLink\": true, \"linkText\": \"Export to plot.ly\", \"plotlyServerURL\": \"https://plot.ly\", \"responsive\": true}                    ).then(function(){\n",
       "                            \n",
       "var gd = document.getElementById('7ff8d129-53c6-402e-a5ca-bab69c6849d2');\n",
       "var x = new MutationObserver(function (mutations, observer) {{\n",
       "        var display = window.getComputedStyle(gd).display;\n",
       "        if (!display || display === 'none') {{\n",
       "            console.log([gd, 'removed!']);\n",
       "            Plotly.purge(gd);\n",
       "            observer.disconnect();\n",
       "        }}\n",
       "}});\n",
       "\n",
       "// Listen for the removal of the full notebook cells\n",
       "var notebookContainer = gd.closest('#notebook-container');\n",
       "if (notebookContainer) {{\n",
       "    x.observe(notebookContainer, {childList: true});\n",
       "}}\n",
       "\n",
       "// Listen for the clearing of the current output cell\n",
       "var outputEl = gd.closest('.output');\n",
       "if (outputEl) {{\n",
       "    x.observe(outputEl, {childList: true});\n",
       "}}\n",
       "\n",
       "                        })                };                });            </script>        </div>"
      ]
     },
     "metadata": {},
     "output_type": "display_data"
    }
   ],
   "source": [
    "df.sum().iplot(kind='bar')"
   ]
  },
  {
   "cell_type": "code",
   "execution_count": 30,
   "id": "5beab9d0",
   "metadata": {},
   "outputs": [
    {
     "data": {
      "text/html": [
       "<div>\n",
       "<style scoped>\n",
       "    .dataframe tbody tr th:only-of-type {\n",
       "        vertical-align: middle;\n",
       "    }\n",
       "\n",
       "    .dataframe tbody tr th {\n",
       "        vertical-align: top;\n",
       "    }\n",
       "\n",
       "    .dataframe thead th {\n",
       "        text-align: right;\n",
       "    }\n",
       "</style>\n",
       "<table border=\"1\" class=\"dataframe\">\n",
       "  <thead>\n",
       "    <tr style=\"text-align: right;\">\n",
       "      <th></th>\n",
       "      <th>A</th>\n",
       "      <th>B</th>\n",
       "      <th>C</th>\n",
       "      <th>D</th>\n",
       "    </tr>\n",
       "  </thead>\n",
       "  <tbody>\n",
       "    <tr>\n",
       "      <th>0</th>\n",
       "      <td>-0.238337</td>\n",
       "      <td>-0.062914</td>\n",
       "      <td>-1.015066</td>\n",
       "      <td>-0.114209</td>\n",
       "    </tr>\n",
       "    <tr>\n",
       "      <th>1</th>\n",
       "      <td>0.650199</td>\n",
       "      <td>-1.532273</td>\n",
       "      <td>2.439607</td>\n",
       "      <td>-0.180156</td>\n",
       "    </tr>\n",
       "    <tr>\n",
       "      <th>2</th>\n",
       "      <td>0.692401</td>\n",
       "      <td>2.028349</td>\n",
       "      <td>-1.051482</td>\n",
       "      <td>0.446738</td>\n",
       "    </tr>\n",
       "    <tr>\n",
       "      <th>3</th>\n",
       "      <td>1.532097</td>\n",
       "      <td>0.669393</td>\n",
       "      <td>0.025787</td>\n",
       "      <td>0.513496</td>\n",
       "    </tr>\n",
       "    <tr>\n",
       "      <th>4</th>\n",
       "      <td>1.514354</td>\n",
       "      <td>-1.784146</td>\n",
       "      <td>0.483229</td>\n",
       "      <td>-2.506825</td>\n",
       "    </tr>\n",
       "    <tr>\n",
       "      <th>...</th>\n",
       "      <td>...</td>\n",
       "      <td>...</td>\n",
       "      <td>...</td>\n",
       "      <td>...</td>\n",
       "    </tr>\n",
       "    <tr>\n",
       "      <th>95</th>\n",
       "      <td>-0.466705</td>\n",
       "      <td>-1.092397</td>\n",
       "      <td>-0.778374</td>\n",
       "      <td>-2.298270</td>\n",
       "    </tr>\n",
       "    <tr>\n",
       "      <th>96</th>\n",
       "      <td>-1.965792</td>\n",
       "      <td>-0.943917</td>\n",
       "      <td>-1.112287</td>\n",
       "      <td>1.090852</td>\n",
       "    </tr>\n",
       "    <tr>\n",
       "      <th>97</th>\n",
       "      <td>-2.572153</td>\n",
       "      <td>1.446733</td>\n",
       "      <td>-0.853933</td>\n",
       "      <td>-1.130490</td>\n",
       "    </tr>\n",
       "    <tr>\n",
       "      <th>98</th>\n",
       "      <td>1.255547</td>\n",
       "      <td>2.659876</td>\n",
       "      <td>-0.193718</td>\n",
       "      <td>-0.054708</td>\n",
       "    </tr>\n",
       "    <tr>\n",
       "      <th>99</th>\n",
       "      <td>0.125045</td>\n",
       "      <td>-1.436834</td>\n",
       "      <td>0.425185</td>\n",
       "      <td>2.831359</td>\n",
       "    </tr>\n",
       "  </tbody>\n",
       "</table>\n",
       "<p>100 rows × 4 columns</p>\n",
       "</div>"
      ],
      "text/plain": [
       "           A         B         C         D\n",
       "0  -0.238337 -0.062914 -1.015066 -0.114209\n",
       "1   0.650199 -1.532273  2.439607 -0.180156\n",
       "2   0.692401  2.028349 -1.051482  0.446738\n",
       "3   1.532097  0.669393  0.025787  0.513496\n",
       "4   1.514354 -1.784146  0.483229 -2.506825\n",
       "..       ...       ...       ...       ...\n",
       "95 -0.466705 -1.092397 -0.778374 -2.298270\n",
       "96 -1.965792 -0.943917 -1.112287  1.090852\n",
       "97 -2.572153  1.446733 -0.853933 -1.130490\n",
       "98  1.255547  2.659876 -0.193718 -0.054708\n",
       "99  0.125045 -1.436834  0.425185  2.831359\n",
       "\n",
       "[100 rows x 4 columns]"
      ]
     },
     "execution_count": 30,
     "metadata": {},
     "output_type": "execute_result"
    }
   ],
   "source": [
    "df"
   ]
  },
  {
   "cell_type": "code",
   "execution_count": 31,
   "id": "2feb0fa6",
   "metadata": {},
   "outputs": [
    {
     "data": {
      "application/vnd.plotly.v1+json": {
       "config": {
        "linkText": "Export to plot.ly",
        "plotlyServerURL": "https://plot.ly",
        "showLink": true
       },
       "data": [
        {
         "boxpoints": false,
         "line": {
          "width": 1.3
         },
         "marker": {
          "color": "rgba(255, 153, 51, 1.0)"
         },
         "name": "A",
         "orientation": "v",
         "type": "box",
         "y": [
          -0.23833749478084632,
          0.6501994394768832,
          0.69240112895364,
          1.5320970914057563,
          1.5143536412100664,
          0.9091328451299554,
          0.5633932306807066,
          -0.6957450025151292,
          -0.3293951092999953,
          0.07112715282153531,
          1.3871289338711221,
          -0.30275030951868354,
          0.4325520012397575,
          0.3557928642971695,
          -0.14842497025923618,
          0.5618247664499927,
          0.05994346882977397,
          -1.4735100631741256,
          -0.08917911520644622,
          1.7363207791384538,
          -0.14329310593151515,
          0.15611611177600046,
          0.5406570368378665,
          -0.9957010147824803,
          1.387177334594978,
          0.1310498324631058,
          -0.22314038016345794,
          0.08879164066410501,
          -0.8810051288147794,
          -0.9770286284628511,
          -0.6715971578254221,
          1.3002560139455641,
          2.321624410335273,
          -0.15289584456586722,
          -0.6972843987992097,
          0.5931203866351997,
          0.9130042417329262,
          -0.3295338415521216,
          -1.3016776038004398,
          1.960484862694741,
          2.2802574608931754,
          -1.55531604820331,
          -0.4757202431700581,
          1.4373273727690996,
          -1.0070240274826834,
          1.2629202246100506,
          0.12856968538899607,
          -1.1243817895047012,
          0.04653002549161323,
          0.4369480939055736,
          0.2693438575066526,
          1.8038758704998965,
          0.1029603524630663,
          1.6081370990783066,
          -0.1378580105992773,
          0.5793942859228219,
          -0.14858741009587503,
          -0.19768016506777614,
          1.048015998868027,
          0.630830200972105,
          -1.5016688943855903,
          -0.42725460179513036,
          0.6632276199073781,
          0.03905584833789047,
          1.7065901060137059,
          -1.1400524905628655,
          0.4061750213104448,
          -0.3410890234644094,
          0.528994584107765,
          -0.44653772676211606,
          1.0273411655950548,
          -0.7616521517056599,
          -0.2990750926136947,
          0.7438791605337584,
          -0.6864816773203487,
          0.29972132855314054,
          0.0635865919701606,
          1.1160715054732728,
          0.23893414638922392,
          -3.0791028296082588,
          0.5628299582121862,
          1.3428877260800716,
          0.16002233058937887,
          -1.908974501388095,
          -1.063113689959441,
          -1.6701307613421852,
          0.6415131291626535,
          -1.4708631052358239,
          0.4542836706219212,
          -0.1803329649366861,
          2.3448185248734807,
          -0.42455083915233127,
          1.3596741223109698,
          -0.6387336708337593,
          -1.199901298038498,
          -0.46670532426178835,
          -1.9657923377437196,
          -2.5721533669425205,
          1.255546642935715,
          0.12504483924872897
         ]
        },
        {
         "boxpoints": false,
         "line": {
          "width": 1.3
         },
         "marker": {
          "color": "rgba(55, 128, 191, 1.0)"
         },
         "name": "B",
         "orientation": "v",
         "type": "box",
         "y": [
          -0.06291427450316933,
          -1.5322731602884292,
          2.028348772987773,
          0.6693932445647333,
          -1.784146484904668,
          0.5629194960966317,
          -1.1531714182196977,
          -1.198881273469872,
          -0.3599836499936697,
          -1.5859282623298518,
          0.43249326298018725,
          0.006334251206168981,
          -0.26156984664420363,
          -0.5542522296562603,
          0.6615866179143592,
          -1.324140148711569,
          0.34809760005611035,
          0.22845512200847662,
          0.7507214599572216,
          -0.4860243963364303,
          1.1966633637001574,
          -1.2290464952865618,
          0.39754334761882865,
          1.6994877438337332,
          0.7416418706957048,
          0.6403585630531775,
          -0.8734327491302029,
          -0.392926611428367,
          0.5749885606001245,
          -2.0467397051668876,
          0.49166689329736457,
          1.4036586051368503,
          -0.8307840514047554,
          0.6335495113267404,
          1.1820666940436422,
          -1.075705232012773,
          1.1881493161215,
          -1.423278677749765,
          -0.6430643428642822,
          -0.3293289381854944,
          -0.6547480913773267,
          -0.8463597065410111,
          -0.0024702289586539285,
          -1.0612818837077704,
          0.1254377076446763,
          -0.404602263867722,
          -0.7446729897259533,
          0.2186432671211768,
          1.2500505771424142,
          -0.8238305736789608,
          0.9222414596307853,
          -0.015284416785555715,
          -0.22472721377838545,
          0.0030087357121871758,
          0.08870220788145161,
          0.8984932568044094,
          0.14441621658763268,
          -0.4512488727289043,
          1.1375588391431979,
          -0.6527449377415648,
          0.27328665505704497,
          0.8823114753761337,
          0.00732754794294055,
          1.413438055483529,
          -0.5078282211761682,
          -0.8144068941811758,
          0.8789189975450421,
          -0.4161014934626199,
          1.2354275217687003,
          -0.4247058207211809,
          -1.8070468171353722,
          -0.07483434418167269,
          -0.8290768762316153,
          0.0323215009305928,
          -0.46818557550193923,
          -0.678510243789971,
          -0.326508032144984,
          -0.332445340739474,
          -0.08272614551191813,
          1.0935692828179533,
          0.2059558797739144,
          -0.4350877289157243,
          0.58286721728474,
          -0.5766016189112366,
          -1.0735566071205689,
          1.0114973460848427,
          -0.6641909267070367,
          -0.7784262569825346,
          -0.7927172147205591,
          -0.792636498224324,
          0.4303546660014756,
          0.6293061385726557,
          0.9161824688845475,
          -1.2931998909956706,
          0.3963712146012255,
          -1.0923974264157994,
          -0.9439165040572574,
          1.446733011848096,
          2.659876209227425,
          -1.4368341467410388
         ]
        },
        {
         "boxpoints": false,
         "line": {
          "width": 1.3
         },
         "marker": {
          "color": "rgba(50, 171, 96, 1.0)"
         },
         "name": "C",
         "orientation": "v",
         "type": "box",
         "y": [
          -1.0150659689487147,
          2.4396069488032004,
          -1.0514821902214544,
          0.025786994760816077,
          0.48322859921099276,
          -0.4713532665428161,
          1.1436149986359878,
          -1.3128261233699856,
          -0.2912887547934578,
          1.039967082869105,
          -1.2843076748845133,
          1.073342564131795,
          -0.8843569377025369,
          0.6558533134970753,
          0.7419265491553783,
          -0.36327706865560755,
          -0.07345510361056795,
          -1.0612208963079712,
          0.6679856736507008,
          0.441518726846609,
          -0.12011044158825018,
          -2.803927213926374,
          1.0534290050662707,
          -0.17728000698749297,
          -1.1366462406419275,
          0.05517776174957644,
          -0.5095312481923084,
          -1.4083290572757459,
          -1.3502810759787633,
          1.1010685067401154,
          1.3597498360665201,
          -1.653068798167152,
          0.3603041379925434,
          -1.0258913919715984,
          -0.5887645509273518,
          -0.6226080766418056,
          0.2757135067272518,
          1.5670278179236714,
          -0.03438956511296057,
          0.5646557786163486,
          -0.40049686928198874,
          0.5682714687046483,
          0.5106595362063697,
          0.4876875655268923,
          -1.0365701372832248,
          0.148753131420438,
          -0.7862128711346452,
          1.1610530422171528,
          -1.7584960556237275,
          -1.0996052338366407,
          0.5550921060825537,
          -0.07194723058616423,
          0.09874844773802363,
          -0.4289801702715877,
          0.27700922642152415,
          1.9446504729028886,
          -0.17081785777879283,
          -0.3397090921659036,
          0.1163343778242112,
          0.4974586729775939,
          -1.0145727727320606,
          0.9668061343377845,
          -1.195043377548783,
          -0.5275585370225807,
          2.2253408079614423,
          -0.9149325662020059,
          -1.9910130099560681,
          1.104037547093716,
          -0.5948118495939628,
          -0.5714118575752235,
          -1.9450022867837182,
          -1.0504344320553727,
          0.15838932114169152,
          -0.9115035290858265,
          0.043653088138158616,
          0.8967081481912822,
          1.8324806901016975,
          -0.17421799579891237,
          0.6025750586775659,
          0.01661511897748368,
          -0.09490050931702307,
          1.7329566918601587,
          0.6146070890461516,
          -0.8180565346431806,
          1.1496174165297404,
          0.9420873200673806,
          -0.8544064772026969,
          -0.23058590602236753,
          -0.5596922214896065,
          1.2956915909558462,
          1.6340132748923069,
          -0.1760196401199447,
          1.73319140559922,
          -1.435564489500065,
          0.23477011573606574,
          -0.7783744915371498,
          -1.1122868170232463,
          -0.853933282237851,
          -0.1937175967392873,
          0.4251853382724826
         ]
        },
        {
         "boxpoints": false,
         "line": {
          "width": 1.3
         },
         "marker": {
          "color": "rgba(128, 0, 128, 1.0)"
         },
         "name": "D",
         "orientation": "v",
         "type": "box",
         "y": [
          -0.11420890555588285,
          -0.18015600719370806,
          0.4467383032836302,
          0.5134964052696426,
          -2.506825030725312,
          -0.30496628040293366,
          -0.8793998563115474,
          -0.07250883132508364,
          -0.11111811357587129,
          1.5151277061489496,
          -1.6947082063992764,
          2.5528215620763284,
          -0.19190944351111974,
          -1.965756154674671,
          1.1193011182579384,
          1.945523608659881,
          -1.548098759567209,
          0.8123488904543115,
          -0.3225284134510511,
          3.363765957377816,
          -0.09040794345171485,
          1.5409372325812711,
          -0.1524503640369373,
          -0.9211225662963648,
          -0.234664343283136,
          -0.5988387987441645,
          1.9640046099329038,
          -1.9059093534907663,
          -0.30501271196983526,
          -0.07003303235654587,
          0.4273691216130949,
          0.5344919229822604,
          1.3648893776046511,
          0.14356096686465294,
          2.1775369436370027,
          0.4948293859869428,
          -0.12634359535027728,
          0.5515697606392707,
          -0.7817494449281183,
          1.168703603757188,
          1.0632746888968312,
          0.5928503508023099,
          -0.48452447812260047,
          2.471398018677528,
          0.0320537702562301,
          -1.2132812417956753,
          -0.3147939787890694,
          0.8410529978982227,
          -0.5513828889586566,
          0.6123404127705531,
          -0.7787436701085488,
          -1.1170001747219052,
          -0.5855935605970888,
          0.007561232728142446,
          0.5054553025090613,
          -0.134028957426057,
          2.4810376480615144,
          1.9949948194179672,
          0.3913991206519806,
          -0.3872507585745515,
          -1.8004463541736992,
          1.4480733436083826,
          -1.735085442897729,
          1.791726625268079,
          0.22312852195532035,
          -0.17831185991010187,
          -0.1342515593153074,
          3.064660548554613,
          -0.2567088207163651,
          1.9759774418795923,
          -0.23412258600826766,
          -0.4692604812153284,
          -0.19256176835937983,
          -1.9612341837422296,
          1.6231965239335477,
          -0.6870279081201187,
          0.13469205743861082,
          1.2128703557234293,
          1.2922561840488511,
          0.9025536852040918,
          -0.5283235308581054,
          0.8419027821447392,
          -1.496797888222635,
          -0.49694884262671085,
          0.06126558484265961,
          -0.2895372319404262,
          -1.1338328750070126,
          -0.6649022974941925,
          0.33940798232820063,
          0.9026626694446349,
          1.119667959555071,
          0.14558202217431568,
          -0.8702993232331738,
          0.1886403378793685,
          0.9743523532494787,
          -2.2982701623404735,
          1.090851860680595,
          -1.130490055546931,
          -0.05470785652087121,
          2.831359429291828
         ]
        }
       ],
       "layout": {
        "legend": {
         "bgcolor": "#F5F6F9",
         "font": {
          "color": "#4D5663"
         }
        },
        "paper_bgcolor": "#F5F6F9",
        "plot_bgcolor": "#F5F6F9",
        "template": {
         "data": {
          "bar": [
           {
            "error_x": {
             "color": "#2a3f5f"
            },
            "error_y": {
             "color": "#2a3f5f"
            },
            "marker": {
             "line": {
              "color": "#E5ECF6",
              "width": 0.5
             },
             "pattern": {
              "fillmode": "overlay",
              "size": 10,
              "solidity": 0.2
             }
            },
            "type": "bar"
           }
          ],
          "barpolar": [
           {
            "marker": {
             "line": {
              "color": "#E5ECF6",
              "width": 0.5
             },
             "pattern": {
              "fillmode": "overlay",
              "size": 10,
              "solidity": 0.2
             }
            },
            "type": "barpolar"
           }
          ],
          "carpet": [
           {
            "aaxis": {
             "endlinecolor": "#2a3f5f",
             "gridcolor": "white",
             "linecolor": "white",
             "minorgridcolor": "white",
             "startlinecolor": "#2a3f5f"
            },
            "baxis": {
             "endlinecolor": "#2a3f5f",
             "gridcolor": "white",
             "linecolor": "white",
             "minorgridcolor": "white",
             "startlinecolor": "#2a3f5f"
            },
            "type": "carpet"
           }
          ],
          "choropleth": [
           {
            "colorbar": {
             "outlinewidth": 0,
             "ticks": ""
            },
            "type": "choropleth"
           }
          ],
          "contour": [
           {
            "colorbar": {
             "outlinewidth": 0,
             "ticks": ""
            },
            "colorscale": [
             [
              0,
              "#0d0887"
             ],
             [
              0.1111111111111111,
              "#46039f"
             ],
             [
              0.2222222222222222,
              "#7201a8"
             ],
             [
              0.3333333333333333,
              "#9c179e"
             ],
             [
              0.4444444444444444,
              "#bd3786"
             ],
             [
              0.5555555555555556,
              "#d8576b"
             ],
             [
              0.6666666666666666,
              "#ed7953"
             ],
             [
              0.7777777777777778,
              "#fb9f3a"
             ],
             [
              0.8888888888888888,
              "#fdca26"
             ],
             [
              1,
              "#f0f921"
             ]
            ],
            "type": "contour"
           }
          ],
          "contourcarpet": [
           {
            "colorbar": {
             "outlinewidth": 0,
             "ticks": ""
            },
            "type": "contourcarpet"
           }
          ],
          "heatmap": [
           {
            "colorbar": {
             "outlinewidth": 0,
             "ticks": ""
            },
            "colorscale": [
             [
              0,
              "#0d0887"
             ],
             [
              0.1111111111111111,
              "#46039f"
             ],
             [
              0.2222222222222222,
              "#7201a8"
             ],
             [
              0.3333333333333333,
              "#9c179e"
             ],
             [
              0.4444444444444444,
              "#bd3786"
             ],
             [
              0.5555555555555556,
              "#d8576b"
             ],
             [
              0.6666666666666666,
              "#ed7953"
             ],
             [
              0.7777777777777778,
              "#fb9f3a"
             ],
             [
              0.8888888888888888,
              "#fdca26"
             ],
             [
              1,
              "#f0f921"
             ]
            ],
            "type": "heatmap"
           }
          ],
          "heatmapgl": [
           {
            "colorbar": {
             "outlinewidth": 0,
             "ticks": ""
            },
            "colorscale": [
             [
              0,
              "#0d0887"
             ],
             [
              0.1111111111111111,
              "#46039f"
             ],
             [
              0.2222222222222222,
              "#7201a8"
             ],
             [
              0.3333333333333333,
              "#9c179e"
             ],
             [
              0.4444444444444444,
              "#bd3786"
             ],
             [
              0.5555555555555556,
              "#d8576b"
             ],
             [
              0.6666666666666666,
              "#ed7953"
             ],
             [
              0.7777777777777778,
              "#fb9f3a"
             ],
             [
              0.8888888888888888,
              "#fdca26"
             ],
             [
              1,
              "#f0f921"
             ]
            ],
            "type": "heatmapgl"
           }
          ],
          "histogram": [
           {
            "marker": {
             "pattern": {
              "fillmode": "overlay",
              "size": 10,
              "solidity": 0.2
             }
            },
            "type": "histogram"
           }
          ],
          "histogram2d": [
           {
            "colorbar": {
             "outlinewidth": 0,
             "ticks": ""
            },
            "colorscale": [
             [
              0,
              "#0d0887"
             ],
             [
              0.1111111111111111,
              "#46039f"
             ],
             [
              0.2222222222222222,
              "#7201a8"
             ],
             [
              0.3333333333333333,
              "#9c179e"
             ],
             [
              0.4444444444444444,
              "#bd3786"
             ],
             [
              0.5555555555555556,
              "#d8576b"
             ],
             [
              0.6666666666666666,
              "#ed7953"
             ],
             [
              0.7777777777777778,
              "#fb9f3a"
             ],
             [
              0.8888888888888888,
              "#fdca26"
             ],
             [
              1,
              "#f0f921"
             ]
            ],
            "type": "histogram2d"
           }
          ],
          "histogram2dcontour": [
           {
            "colorbar": {
             "outlinewidth": 0,
             "ticks": ""
            },
            "colorscale": [
             [
              0,
              "#0d0887"
             ],
             [
              0.1111111111111111,
              "#46039f"
             ],
             [
              0.2222222222222222,
              "#7201a8"
             ],
             [
              0.3333333333333333,
              "#9c179e"
             ],
             [
              0.4444444444444444,
              "#bd3786"
             ],
             [
              0.5555555555555556,
              "#d8576b"
             ],
             [
              0.6666666666666666,
              "#ed7953"
             ],
             [
              0.7777777777777778,
              "#fb9f3a"
             ],
             [
              0.8888888888888888,
              "#fdca26"
             ],
             [
              1,
              "#f0f921"
             ]
            ],
            "type": "histogram2dcontour"
           }
          ],
          "mesh3d": [
           {
            "colorbar": {
             "outlinewidth": 0,
             "ticks": ""
            },
            "type": "mesh3d"
           }
          ],
          "parcoords": [
           {
            "line": {
             "colorbar": {
              "outlinewidth": 0,
              "ticks": ""
             }
            },
            "type": "parcoords"
           }
          ],
          "pie": [
           {
            "automargin": true,
            "type": "pie"
           }
          ],
          "scatter": [
           {
            "fillpattern": {
             "fillmode": "overlay",
             "size": 10,
             "solidity": 0.2
            },
            "type": "scatter"
           }
          ],
          "scatter3d": [
           {
            "line": {
             "colorbar": {
              "outlinewidth": 0,
              "ticks": ""
             }
            },
            "marker": {
             "colorbar": {
              "outlinewidth": 0,
              "ticks": ""
             }
            },
            "type": "scatter3d"
           }
          ],
          "scattercarpet": [
           {
            "marker": {
             "colorbar": {
              "outlinewidth": 0,
              "ticks": ""
             }
            },
            "type": "scattercarpet"
           }
          ],
          "scattergeo": [
           {
            "marker": {
             "colorbar": {
              "outlinewidth": 0,
              "ticks": ""
             }
            },
            "type": "scattergeo"
           }
          ],
          "scattergl": [
           {
            "marker": {
             "colorbar": {
              "outlinewidth": 0,
              "ticks": ""
             }
            },
            "type": "scattergl"
           }
          ],
          "scattermapbox": [
           {
            "marker": {
             "colorbar": {
              "outlinewidth": 0,
              "ticks": ""
             }
            },
            "type": "scattermapbox"
           }
          ],
          "scatterpolar": [
           {
            "marker": {
             "colorbar": {
              "outlinewidth": 0,
              "ticks": ""
             }
            },
            "type": "scatterpolar"
           }
          ],
          "scatterpolargl": [
           {
            "marker": {
             "colorbar": {
              "outlinewidth": 0,
              "ticks": ""
             }
            },
            "type": "scatterpolargl"
           }
          ],
          "scatterternary": [
           {
            "marker": {
             "colorbar": {
              "outlinewidth": 0,
              "ticks": ""
             }
            },
            "type": "scatterternary"
           }
          ],
          "surface": [
           {
            "colorbar": {
             "outlinewidth": 0,
             "ticks": ""
            },
            "colorscale": [
             [
              0,
              "#0d0887"
             ],
             [
              0.1111111111111111,
              "#46039f"
             ],
             [
              0.2222222222222222,
              "#7201a8"
             ],
             [
              0.3333333333333333,
              "#9c179e"
             ],
             [
              0.4444444444444444,
              "#bd3786"
             ],
             [
              0.5555555555555556,
              "#d8576b"
             ],
             [
              0.6666666666666666,
              "#ed7953"
             ],
             [
              0.7777777777777778,
              "#fb9f3a"
             ],
             [
              0.8888888888888888,
              "#fdca26"
             ],
             [
              1,
              "#f0f921"
             ]
            ],
            "type": "surface"
           }
          ],
          "table": [
           {
            "cells": {
             "fill": {
              "color": "#EBF0F8"
             },
             "line": {
              "color": "white"
             }
            },
            "header": {
             "fill": {
              "color": "#C8D4E3"
             },
             "line": {
              "color": "white"
             }
            },
            "type": "table"
           }
          ]
         },
         "layout": {
          "annotationdefaults": {
           "arrowcolor": "#2a3f5f",
           "arrowhead": 0,
           "arrowwidth": 1
          },
          "autotypenumbers": "strict",
          "coloraxis": {
           "colorbar": {
            "outlinewidth": 0,
            "ticks": ""
           }
          },
          "colorscale": {
           "diverging": [
            [
             0,
             "#8e0152"
            ],
            [
             0.1,
             "#c51b7d"
            ],
            [
             0.2,
             "#de77ae"
            ],
            [
             0.3,
             "#f1b6da"
            ],
            [
             0.4,
             "#fde0ef"
            ],
            [
             0.5,
             "#f7f7f7"
            ],
            [
             0.6,
             "#e6f5d0"
            ],
            [
             0.7,
             "#b8e186"
            ],
            [
             0.8,
             "#7fbc41"
            ],
            [
             0.9,
             "#4d9221"
            ],
            [
             1,
             "#276419"
            ]
           ],
           "sequential": [
            [
             0,
             "#0d0887"
            ],
            [
             0.1111111111111111,
             "#46039f"
            ],
            [
             0.2222222222222222,
             "#7201a8"
            ],
            [
             0.3333333333333333,
             "#9c179e"
            ],
            [
             0.4444444444444444,
             "#bd3786"
            ],
            [
             0.5555555555555556,
             "#d8576b"
            ],
            [
             0.6666666666666666,
             "#ed7953"
            ],
            [
             0.7777777777777778,
             "#fb9f3a"
            ],
            [
             0.8888888888888888,
             "#fdca26"
            ],
            [
             1,
             "#f0f921"
            ]
           ],
           "sequentialminus": [
            [
             0,
             "#0d0887"
            ],
            [
             0.1111111111111111,
             "#46039f"
            ],
            [
             0.2222222222222222,
             "#7201a8"
            ],
            [
             0.3333333333333333,
             "#9c179e"
            ],
            [
             0.4444444444444444,
             "#bd3786"
            ],
            [
             0.5555555555555556,
             "#d8576b"
            ],
            [
             0.6666666666666666,
             "#ed7953"
            ],
            [
             0.7777777777777778,
             "#fb9f3a"
            ],
            [
             0.8888888888888888,
             "#fdca26"
            ],
            [
             1,
             "#f0f921"
            ]
           ]
          },
          "colorway": [
           "#636efa",
           "#EF553B",
           "#00cc96",
           "#ab63fa",
           "#FFA15A",
           "#19d3f3",
           "#FF6692",
           "#B6E880",
           "#FF97FF",
           "#FECB52"
          ],
          "font": {
           "color": "#2a3f5f"
          },
          "geo": {
           "bgcolor": "white",
           "lakecolor": "white",
           "landcolor": "#E5ECF6",
           "showlakes": true,
           "showland": true,
           "subunitcolor": "white"
          },
          "hoverlabel": {
           "align": "left"
          },
          "hovermode": "closest",
          "mapbox": {
           "style": "light"
          },
          "paper_bgcolor": "white",
          "plot_bgcolor": "#E5ECF6",
          "polar": {
           "angularaxis": {
            "gridcolor": "white",
            "linecolor": "white",
            "ticks": ""
           },
           "bgcolor": "#E5ECF6",
           "radialaxis": {
            "gridcolor": "white",
            "linecolor": "white",
            "ticks": ""
           }
          },
          "scene": {
           "xaxis": {
            "backgroundcolor": "#E5ECF6",
            "gridcolor": "white",
            "gridwidth": 2,
            "linecolor": "white",
            "showbackground": true,
            "ticks": "",
            "zerolinecolor": "white"
           },
           "yaxis": {
            "backgroundcolor": "#E5ECF6",
            "gridcolor": "white",
            "gridwidth": 2,
            "linecolor": "white",
            "showbackground": true,
            "ticks": "",
            "zerolinecolor": "white"
           },
           "zaxis": {
            "backgroundcolor": "#E5ECF6",
            "gridcolor": "white",
            "gridwidth": 2,
            "linecolor": "white",
            "showbackground": true,
            "ticks": "",
            "zerolinecolor": "white"
           }
          },
          "shapedefaults": {
           "line": {
            "color": "#2a3f5f"
           }
          },
          "ternary": {
           "aaxis": {
            "gridcolor": "white",
            "linecolor": "white",
            "ticks": ""
           },
           "baxis": {
            "gridcolor": "white",
            "linecolor": "white",
            "ticks": ""
           },
           "bgcolor": "#E5ECF6",
           "caxis": {
            "gridcolor": "white",
            "linecolor": "white",
            "ticks": ""
           }
          },
          "title": {
           "x": 0.05
          },
          "xaxis": {
           "automargin": true,
           "gridcolor": "white",
           "linecolor": "white",
           "ticks": "",
           "title": {
            "standoff": 15
           },
           "zerolinecolor": "white",
           "zerolinewidth": 2
          },
          "yaxis": {
           "automargin": true,
           "gridcolor": "white",
           "linecolor": "white",
           "ticks": "",
           "title": {
            "standoff": 15
           },
           "zerolinecolor": "white",
           "zerolinewidth": 2
          }
         }
        },
        "title": {
         "font": {
          "color": "#4D5663"
         }
        },
        "xaxis": {
         "gridcolor": "#E1E5ED",
         "showgrid": true,
         "tickfont": {
          "color": "#4D5663"
         },
         "title": {
          "font": {
           "color": "#4D5663"
          },
          "text": ""
         },
         "zerolinecolor": "#E1E5ED"
        },
        "yaxis": {
         "gridcolor": "#E1E5ED",
         "showgrid": true,
         "tickfont": {
          "color": "#4D5663"
         },
         "title": {
          "font": {
           "color": "#4D5663"
          },
          "text": ""
         },
         "zerolinecolor": "#E1E5ED"
        }
       }
      },
      "text/html": [
       "<div>                            <div id=\"5c4fea07-9fa3-4098-90db-ded3289993be\" class=\"plotly-graph-div\" style=\"height:525px; width:100%;\"></div>            <script type=\"text/javascript\">                require([\"plotly\"], function(Plotly) {                    window.PLOTLYENV=window.PLOTLYENV || {};\n",
       "                    window.PLOTLYENV.BASE_URL='https://plot.ly';                                    if (document.getElementById(\"5c4fea07-9fa3-4098-90db-ded3289993be\")) {                    Plotly.newPlot(                        \"5c4fea07-9fa3-4098-90db-ded3289993be\",                        [{\"boxpoints\":false,\"line\":{\"width\":1.3},\"marker\":{\"color\":\"rgba(255, 153, 51, 1.0)\"},\"name\":\"A\",\"orientation\":\"v\",\"y\":[-0.23833749478084632,0.6501994394768832,0.69240112895364,1.5320970914057563,1.5143536412100664,0.9091328451299554,0.5633932306807066,-0.6957450025151292,-0.3293951092999953,0.07112715282153531,1.3871289338711221,-0.30275030951868354,0.4325520012397575,0.3557928642971695,-0.14842497025923618,0.5618247664499927,0.05994346882977397,-1.4735100631741256,-0.08917911520644622,1.7363207791384538,-0.14329310593151515,0.15611611177600046,0.5406570368378665,-0.9957010147824803,1.387177334594978,0.1310498324631058,-0.22314038016345794,0.08879164066410501,-0.8810051288147794,-0.9770286284628511,-0.6715971578254221,1.3002560139455641,2.321624410335273,-0.15289584456586722,-0.6972843987992097,0.5931203866351997,0.9130042417329262,-0.3295338415521216,-1.3016776038004398,1.960484862694741,2.2802574608931754,-1.55531604820331,-0.4757202431700581,1.4373273727690996,-1.0070240274826834,1.2629202246100506,0.12856968538899607,-1.1243817895047012,0.04653002549161323,0.4369480939055736,0.2693438575066526,1.8038758704998965,0.1029603524630663,1.6081370990783066,-0.1378580105992773,0.5793942859228219,-0.14858741009587503,-0.19768016506777614,1.048015998868027,0.630830200972105,-1.5016688943855903,-0.42725460179513036,0.6632276199073781,0.03905584833789047,1.7065901060137059,-1.1400524905628655,0.4061750213104448,-0.3410890234644094,0.528994584107765,-0.44653772676211606,1.0273411655950548,-0.7616521517056599,-0.2990750926136947,0.7438791605337584,-0.6864816773203487,0.29972132855314054,0.0635865919701606,1.1160715054732728,0.23893414638922392,-3.0791028296082588,0.5628299582121862,1.3428877260800716,0.16002233058937887,-1.908974501388095,-1.063113689959441,-1.6701307613421852,0.6415131291626535,-1.4708631052358239,0.4542836706219212,-0.1803329649366861,2.3448185248734807,-0.42455083915233127,1.3596741223109698,-0.6387336708337593,-1.199901298038498,-0.46670532426178835,-1.9657923377437196,-2.5721533669425205,1.255546642935715,0.12504483924872897],\"type\":\"box\"},{\"boxpoints\":false,\"line\":{\"width\":1.3},\"marker\":{\"color\":\"rgba(55, 128, 191, 1.0)\"},\"name\":\"B\",\"orientation\":\"v\",\"y\":[-0.06291427450316933,-1.5322731602884292,2.028348772987773,0.6693932445647333,-1.784146484904668,0.5629194960966317,-1.1531714182196977,-1.198881273469872,-0.3599836499936697,-1.5859282623298518,0.43249326298018725,0.006334251206168981,-0.26156984664420363,-0.5542522296562603,0.6615866179143592,-1.324140148711569,0.34809760005611035,0.22845512200847662,0.7507214599572216,-0.4860243963364303,1.1966633637001574,-1.2290464952865618,0.39754334761882865,1.6994877438337332,0.7416418706957048,0.6403585630531775,-0.8734327491302029,-0.392926611428367,0.5749885606001245,-2.0467397051668876,0.49166689329736457,1.4036586051368503,-0.8307840514047554,0.6335495113267404,1.1820666940436422,-1.075705232012773,1.1881493161215,-1.423278677749765,-0.6430643428642822,-0.3293289381854944,-0.6547480913773267,-0.8463597065410111,-0.0024702289586539285,-1.0612818837077704,0.1254377076446763,-0.404602263867722,-0.7446729897259533,0.2186432671211768,1.2500505771424142,-0.8238305736789608,0.9222414596307853,-0.015284416785555715,-0.22472721377838545,0.0030087357121871758,0.08870220788145161,0.8984932568044094,0.14441621658763268,-0.4512488727289043,1.1375588391431979,-0.6527449377415648,0.27328665505704497,0.8823114753761337,0.00732754794294055,1.413438055483529,-0.5078282211761682,-0.8144068941811758,0.8789189975450421,-0.4161014934626199,1.2354275217687003,-0.4247058207211809,-1.8070468171353722,-0.07483434418167269,-0.8290768762316153,0.0323215009305928,-0.46818557550193923,-0.678510243789971,-0.326508032144984,-0.332445340739474,-0.08272614551191813,1.0935692828179533,0.2059558797739144,-0.4350877289157243,0.58286721728474,-0.5766016189112366,-1.0735566071205689,1.0114973460848427,-0.6641909267070367,-0.7784262569825346,-0.7927172147205591,-0.792636498224324,0.4303546660014756,0.6293061385726557,0.9161824688845475,-1.2931998909956706,0.3963712146012255,-1.0923974264157994,-0.9439165040572574,1.446733011848096,2.659876209227425,-1.4368341467410388],\"type\":\"box\"},{\"boxpoints\":false,\"line\":{\"width\":1.3},\"marker\":{\"color\":\"rgba(50, 171, 96, 1.0)\"},\"name\":\"C\",\"orientation\":\"v\",\"y\":[-1.0150659689487147,2.4396069488032004,-1.0514821902214544,0.025786994760816077,0.48322859921099276,-0.4713532665428161,1.1436149986359878,-1.3128261233699856,-0.2912887547934578,1.039967082869105,-1.2843076748845133,1.073342564131795,-0.8843569377025369,0.6558533134970753,0.7419265491553783,-0.36327706865560755,-0.07345510361056795,-1.0612208963079712,0.6679856736507008,0.441518726846609,-0.12011044158825018,-2.803927213926374,1.0534290050662707,-0.17728000698749297,-1.1366462406419275,0.05517776174957644,-0.5095312481923084,-1.4083290572757459,-1.3502810759787633,1.1010685067401154,1.3597498360665201,-1.653068798167152,0.3603041379925434,-1.0258913919715984,-0.5887645509273518,-0.6226080766418056,0.2757135067272518,1.5670278179236714,-0.03438956511296057,0.5646557786163486,-0.40049686928198874,0.5682714687046483,0.5106595362063697,0.4876875655268923,-1.0365701372832248,0.148753131420438,-0.7862128711346452,1.1610530422171528,-1.7584960556237275,-1.0996052338366407,0.5550921060825537,-0.07194723058616423,0.09874844773802363,-0.4289801702715877,0.27700922642152415,1.9446504729028886,-0.17081785777879283,-0.3397090921659036,0.1163343778242112,0.4974586729775939,-1.0145727727320606,0.9668061343377845,-1.195043377548783,-0.5275585370225807,2.2253408079614423,-0.9149325662020059,-1.9910130099560681,1.104037547093716,-0.5948118495939628,-0.5714118575752235,-1.9450022867837182,-1.0504344320553727,0.15838932114169152,-0.9115035290858265,0.043653088138158616,0.8967081481912822,1.8324806901016975,-0.17421799579891237,0.6025750586775659,0.01661511897748368,-0.09490050931702307,1.7329566918601587,0.6146070890461516,-0.8180565346431806,1.1496174165297404,0.9420873200673806,-0.8544064772026969,-0.23058590602236753,-0.5596922214896065,1.2956915909558462,1.6340132748923069,-0.1760196401199447,1.73319140559922,-1.435564489500065,0.23477011573606574,-0.7783744915371498,-1.1122868170232463,-0.853933282237851,-0.1937175967392873,0.4251853382724826],\"type\":\"box\"},{\"boxpoints\":false,\"line\":{\"width\":1.3},\"marker\":{\"color\":\"rgba(128, 0, 128, 1.0)\"},\"name\":\"D\",\"orientation\":\"v\",\"y\":[-0.11420890555588285,-0.18015600719370806,0.4467383032836302,0.5134964052696426,-2.506825030725312,-0.30496628040293366,-0.8793998563115474,-0.07250883132508364,-0.11111811357587129,1.5151277061489496,-1.6947082063992764,2.5528215620763284,-0.19190944351111974,-1.965756154674671,1.1193011182579384,1.945523608659881,-1.548098759567209,0.8123488904543115,-0.3225284134510511,3.363765957377816,-0.09040794345171485,1.5409372325812711,-0.1524503640369373,-0.9211225662963648,-0.234664343283136,-0.5988387987441645,1.9640046099329038,-1.9059093534907663,-0.30501271196983526,-0.07003303235654587,0.4273691216130949,0.5344919229822604,1.3648893776046511,0.14356096686465294,2.1775369436370027,0.4948293859869428,-0.12634359535027728,0.5515697606392707,-0.7817494449281183,1.168703603757188,1.0632746888968312,0.5928503508023099,-0.48452447812260047,2.471398018677528,0.0320537702562301,-1.2132812417956753,-0.3147939787890694,0.8410529978982227,-0.5513828889586566,0.6123404127705531,-0.7787436701085488,-1.1170001747219052,-0.5855935605970888,0.007561232728142446,0.5054553025090613,-0.134028957426057,2.4810376480615144,1.9949948194179672,0.3913991206519806,-0.3872507585745515,-1.8004463541736992,1.4480733436083826,-1.735085442897729,1.791726625268079,0.22312852195532035,-0.17831185991010187,-0.1342515593153074,3.064660548554613,-0.2567088207163651,1.9759774418795923,-0.23412258600826766,-0.4692604812153284,-0.19256176835937983,-1.9612341837422296,1.6231965239335477,-0.6870279081201187,0.13469205743861082,1.2128703557234293,1.2922561840488511,0.9025536852040918,-0.5283235308581054,0.8419027821447392,-1.496797888222635,-0.49694884262671085,0.06126558484265961,-0.2895372319404262,-1.1338328750070126,-0.6649022974941925,0.33940798232820063,0.9026626694446349,1.119667959555071,0.14558202217431568,-0.8702993232331738,0.1886403378793685,0.9743523532494787,-2.2982701623404735,1.090851860680595,-1.130490055546931,-0.05470785652087121,2.831359429291828],\"type\":\"box\"}],                        {\"legend\":{\"bgcolor\":\"#F5F6F9\",\"font\":{\"color\":\"#4D5663\"}},\"paper_bgcolor\":\"#F5F6F9\",\"plot_bgcolor\":\"#F5F6F9\",\"template\":{\"data\":{\"barpolar\":[{\"marker\":{\"line\":{\"color\":\"#E5ECF6\",\"width\":0.5},\"pattern\":{\"fillmode\":\"overlay\",\"size\":10,\"solidity\":0.2}},\"type\":\"barpolar\"}],\"bar\":[{\"error_x\":{\"color\":\"#2a3f5f\"},\"error_y\":{\"color\":\"#2a3f5f\"},\"marker\":{\"line\":{\"color\":\"#E5ECF6\",\"width\":0.5},\"pattern\":{\"fillmode\":\"overlay\",\"size\":10,\"solidity\":0.2}},\"type\":\"bar\"}],\"carpet\":[{\"aaxis\":{\"endlinecolor\":\"#2a3f5f\",\"gridcolor\":\"white\",\"linecolor\":\"white\",\"minorgridcolor\":\"white\",\"startlinecolor\":\"#2a3f5f\"},\"baxis\":{\"endlinecolor\":\"#2a3f5f\",\"gridcolor\":\"white\",\"linecolor\":\"white\",\"minorgridcolor\":\"white\",\"startlinecolor\":\"#2a3f5f\"},\"type\":\"carpet\"}],\"choropleth\":[{\"colorbar\":{\"outlinewidth\":0,\"ticks\":\"\"},\"type\":\"choropleth\"}],\"contourcarpet\":[{\"colorbar\":{\"outlinewidth\":0,\"ticks\":\"\"},\"type\":\"contourcarpet\"}],\"contour\":[{\"colorbar\":{\"outlinewidth\":0,\"ticks\":\"\"},\"colorscale\":[[0.0,\"#0d0887\"],[0.1111111111111111,\"#46039f\"],[0.2222222222222222,\"#7201a8\"],[0.3333333333333333,\"#9c179e\"],[0.4444444444444444,\"#bd3786\"],[0.5555555555555556,\"#d8576b\"],[0.6666666666666666,\"#ed7953\"],[0.7777777777777778,\"#fb9f3a\"],[0.8888888888888888,\"#fdca26\"],[1.0,\"#f0f921\"]],\"type\":\"contour\"}],\"heatmapgl\":[{\"colorbar\":{\"outlinewidth\":0,\"ticks\":\"\"},\"colorscale\":[[0.0,\"#0d0887\"],[0.1111111111111111,\"#46039f\"],[0.2222222222222222,\"#7201a8\"],[0.3333333333333333,\"#9c179e\"],[0.4444444444444444,\"#bd3786\"],[0.5555555555555556,\"#d8576b\"],[0.6666666666666666,\"#ed7953\"],[0.7777777777777778,\"#fb9f3a\"],[0.8888888888888888,\"#fdca26\"],[1.0,\"#f0f921\"]],\"type\":\"heatmapgl\"}],\"heatmap\":[{\"colorbar\":{\"outlinewidth\":0,\"ticks\":\"\"},\"colorscale\":[[0.0,\"#0d0887\"],[0.1111111111111111,\"#46039f\"],[0.2222222222222222,\"#7201a8\"],[0.3333333333333333,\"#9c179e\"],[0.4444444444444444,\"#bd3786\"],[0.5555555555555556,\"#d8576b\"],[0.6666666666666666,\"#ed7953\"],[0.7777777777777778,\"#fb9f3a\"],[0.8888888888888888,\"#fdca26\"],[1.0,\"#f0f921\"]],\"type\":\"heatmap\"}],\"histogram2dcontour\":[{\"colorbar\":{\"outlinewidth\":0,\"ticks\":\"\"},\"colorscale\":[[0.0,\"#0d0887\"],[0.1111111111111111,\"#46039f\"],[0.2222222222222222,\"#7201a8\"],[0.3333333333333333,\"#9c179e\"],[0.4444444444444444,\"#bd3786\"],[0.5555555555555556,\"#d8576b\"],[0.6666666666666666,\"#ed7953\"],[0.7777777777777778,\"#fb9f3a\"],[0.8888888888888888,\"#fdca26\"],[1.0,\"#f0f921\"]],\"type\":\"histogram2dcontour\"}],\"histogram2d\":[{\"colorbar\":{\"outlinewidth\":0,\"ticks\":\"\"},\"colorscale\":[[0.0,\"#0d0887\"],[0.1111111111111111,\"#46039f\"],[0.2222222222222222,\"#7201a8\"],[0.3333333333333333,\"#9c179e\"],[0.4444444444444444,\"#bd3786\"],[0.5555555555555556,\"#d8576b\"],[0.6666666666666666,\"#ed7953\"],[0.7777777777777778,\"#fb9f3a\"],[0.8888888888888888,\"#fdca26\"],[1.0,\"#f0f921\"]],\"type\":\"histogram2d\"}],\"histogram\":[{\"marker\":{\"pattern\":{\"fillmode\":\"overlay\",\"size\":10,\"solidity\":0.2}},\"type\":\"histogram\"}],\"mesh3d\":[{\"colorbar\":{\"outlinewidth\":0,\"ticks\":\"\"},\"type\":\"mesh3d\"}],\"parcoords\":[{\"line\":{\"colorbar\":{\"outlinewidth\":0,\"ticks\":\"\"}},\"type\":\"parcoords\"}],\"pie\":[{\"automargin\":true,\"type\":\"pie\"}],\"scatter3d\":[{\"line\":{\"colorbar\":{\"outlinewidth\":0,\"ticks\":\"\"}},\"marker\":{\"colorbar\":{\"outlinewidth\":0,\"ticks\":\"\"}},\"type\":\"scatter3d\"}],\"scattercarpet\":[{\"marker\":{\"colorbar\":{\"outlinewidth\":0,\"ticks\":\"\"}},\"type\":\"scattercarpet\"}],\"scattergeo\":[{\"marker\":{\"colorbar\":{\"outlinewidth\":0,\"ticks\":\"\"}},\"type\":\"scattergeo\"}],\"scattergl\":[{\"marker\":{\"colorbar\":{\"outlinewidth\":0,\"ticks\":\"\"}},\"type\":\"scattergl\"}],\"scattermapbox\":[{\"marker\":{\"colorbar\":{\"outlinewidth\":0,\"ticks\":\"\"}},\"type\":\"scattermapbox\"}],\"scatterpolargl\":[{\"marker\":{\"colorbar\":{\"outlinewidth\":0,\"ticks\":\"\"}},\"type\":\"scatterpolargl\"}],\"scatterpolar\":[{\"marker\":{\"colorbar\":{\"outlinewidth\":0,\"ticks\":\"\"}},\"type\":\"scatterpolar\"}],\"scatter\":[{\"fillpattern\":{\"fillmode\":\"overlay\",\"size\":10,\"solidity\":0.2},\"type\":\"scatter\"}],\"scatterternary\":[{\"marker\":{\"colorbar\":{\"outlinewidth\":0,\"ticks\":\"\"}},\"type\":\"scatterternary\"}],\"surface\":[{\"colorbar\":{\"outlinewidth\":0,\"ticks\":\"\"},\"colorscale\":[[0.0,\"#0d0887\"],[0.1111111111111111,\"#46039f\"],[0.2222222222222222,\"#7201a8\"],[0.3333333333333333,\"#9c179e\"],[0.4444444444444444,\"#bd3786\"],[0.5555555555555556,\"#d8576b\"],[0.6666666666666666,\"#ed7953\"],[0.7777777777777778,\"#fb9f3a\"],[0.8888888888888888,\"#fdca26\"],[1.0,\"#f0f921\"]],\"type\":\"surface\"}],\"table\":[{\"cells\":{\"fill\":{\"color\":\"#EBF0F8\"},\"line\":{\"color\":\"white\"}},\"header\":{\"fill\":{\"color\":\"#C8D4E3\"},\"line\":{\"color\":\"white\"}},\"type\":\"table\"}]},\"layout\":{\"annotationdefaults\":{\"arrowcolor\":\"#2a3f5f\",\"arrowhead\":0,\"arrowwidth\":1},\"autotypenumbers\":\"strict\",\"coloraxis\":{\"colorbar\":{\"outlinewidth\":0,\"ticks\":\"\"}},\"colorscale\":{\"diverging\":[[0,\"#8e0152\"],[0.1,\"#c51b7d\"],[0.2,\"#de77ae\"],[0.3,\"#f1b6da\"],[0.4,\"#fde0ef\"],[0.5,\"#f7f7f7\"],[0.6,\"#e6f5d0\"],[0.7,\"#b8e186\"],[0.8,\"#7fbc41\"],[0.9,\"#4d9221\"],[1,\"#276419\"]],\"sequential\":[[0.0,\"#0d0887\"],[0.1111111111111111,\"#46039f\"],[0.2222222222222222,\"#7201a8\"],[0.3333333333333333,\"#9c179e\"],[0.4444444444444444,\"#bd3786\"],[0.5555555555555556,\"#d8576b\"],[0.6666666666666666,\"#ed7953\"],[0.7777777777777778,\"#fb9f3a\"],[0.8888888888888888,\"#fdca26\"],[1.0,\"#f0f921\"]],\"sequentialminus\":[[0.0,\"#0d0887\"],[0.1111111111111111,\"#46039f\"],[0.2222222222222222,\"#7201a8\"],[0.3333333333333333,\"#9c179e\"],[0.4444444444444444,\"#bd3786\"],[0.5555555555555556,\"#d8576b\"],[0.6666666666666666,\"#ed7953\"],[0.7777777777777778,\"#fb9f3a\"],[0.8888888888888888,\"#fdca26\"],[1.0,\"#f0f921\"]]},\"colorway\":[\"#636efa\",\"#EF553B\",\"#00cc96\",\"#ab63fa\",\"#FFA15A\",\"#19d3f3\",\"#FF6692\",\"#B6E880\",\"#FF97FF\",\"#FECB52\"],\"font\":{\"color\":\"#2a3f5f\"},\"geo\":{\"bgcolor\":\"white\",\"lakecolor\":\"white\",\"landcolor\":\"#E5ECF6\",\"showlakes\":true,\"showland\":true,\"subunitcolor\":\"white\"},\"hoverlabel\":{\"align\":\"left\"},\"hovermode\":\"closest\",\"mapbox\":{\"style\":\"light\"},\"paper_bgcolor\":\"white\",\"plot_bgcolor\":\"#E5ECF6\",\"polar\":{\"angularaxis\":{\"gridcolor\":\"white\",\"linecolor\":\"white\",\"ticks\":\"\"},\"bgcolor\":\"#E5ECF6\",\"radialaxis\":{\"gridcolor\":\"white\",\"linecolor\":\"white\",\"ticks\":\"\"}},\"scene\":{\"xaxis\":{\"backgroundcolor\":\"#E5ECF6\",\"gridcolor\":\"white\",\"gridwidth\":2,\"linecolor\":\"white\",\"showbackground\":true,\"ticks\":\"\",\"zerolinecolor\":\"white\"},\"yaxis\":{\"backgroundcolor\":\"#E5ECF6\",\"gridcolor\":\"white\",\"gridwidth\":2,\"linecolor\":\"white\",\"showbackground\":true,\"ticks\":\"\",\"zerolinecolor\":\"white\"},\"zaxis\":{\"backgroundcolor\":\"#E5ECF6\",\"gridcolor\":\"white\",\"gridwidth\":2,\"linecolor\":\"white\",\"showbackground\":true,\"ticks\":\"\",\"zerolinecolor\":\"white\"}},\"shapedefaults\":{\"line\":{\"color\":\"#2a3f5f\"}},\"ternary\":{\"aaxis\":{\"gridcolor\":\"white\",\"linecolor\":\"white\",\"ticks\":\"\"},\"baxis\":{\"gridcolor\":\"white\",\"linecolor\":\"white\",\"ticks\":\"\"},\"bgcolor\":\"#E5ECF6\",\"caxis\":{\"gridcolor\":\"white\",\"linecolor\":\"white\",\"ticks\":\"\"}},\"title\":{\"x\":0.05},\"xaxis\":{\"automargin\":true,\"gridcolor\":\"white\",\"linecolor\":\"white\",\"ticks\":\"\",\"title\":{\"standoff\":15},\"zerolinecolor\":\"white\",\"zerolinewidth\":2},\"yaxis\":{\"automargin\":true,\"gridcolor\":\"white\",\"linecolor\":\"white\",\"ticks\":\"\",\"title\":{\"standoff\":15},\"zerolinecolor\":\"white\",\"zerolinewidth\":2}}},\"title\":{\"font\":{\"color\":\"#4D5663\"}},\"xaxis\":{\"gridcolor\":\"#E1E5ED\",\"showgrid\":true,\"tickfont\":{\"color\":\"#4D5663\"},\"title\":{\"font\":{\"color\":\"#4D5663\"},\"text\":\"\"},\"zerolinecolor\":\"#E1E5ED\"},\"yaxis\":{\"gridcolor\":\"#E1E5ED\",\"showgrid\":true,\"tickfont\":{\"color\":\"#4D5663\"},\"title\":{\"font\":{\"color\":\"#4D5663\"},\"text\":\"\"},\"zerolinecolor\":\"#E1E5ED\"}},                        {\"showLink\": true, \"linkText\": \"Export to plot.ly\", \"plotlyServerURL\": \"https://plot.ly\", \"responsive\": true}                    ).then(function(){\n",
       "                            \n",
       "var gd = document.getElementById('5c4fea07-9fa3-4098-90db-ded3289993be');\n",
       "var x = new MutationObserver(function (mutations, observer) {{\n",
       "        var display = window.getComputedStyle(gd).display;\n",
       "        if (!display || display === 'none') {{\n",
       "            console.log([gd, 'removed!']);\n",
       "            Plotly.purge(gd);\n",
       "            observer.disconnect();\n",
       "        }}\n",
       "}});\n",
       "\n",
       "// Listen for the removal of the full notebook cells\n",
       "var notebookContainer = gd.closest('#notebook-container');\n",
       "if (notebookContainer) {{\n",
       "    x.observe(notebookContainer, {childList: true});\n",
       "}}\n",
       "\n",
       "// Listen for the clearing of the current output cell\n",
       "var outputEl = gd.closest('.output');\n",
       "if (outputEl) {{\n",
       "    x.observe(outputEl, {childList: true});\n",
       "}}\n",
       "\n",
       "                        })                };                });            </script>        </div>"
      ]
     },
     "metadata": {},
     "output_type": "display_data"
    }
   ],
   "source": [
    "df.iplot(kind='box')"
   ]
  },
  {
   "cell_type": "code",
   "execution_count": 32,
   "id": "46a5c815",
   "metadata": {},
   "outputs": [],
   "source": [
    "df3 = pd.DataFrame({'x':[1,2,3,4,5],'y':[10,20,30,20,10],'z':[500,400,300,200,100]})"
   ]
  },
  {
   "cell_type": "code",
   "execution_count": 34,
   "id": "33e9b004",
   "metadata": {},
   "outputs": [
    {
     "data": {
      "application/vnd.plotly.v1+json": {
       "config": {
        "linkText": "Export to plot.ly",
        "plotlyServerURL": "https://plot.ly",
        "showLink": true
       },
       "data": [
        {
         "colorscale": [
          [
           0,
           "rgb(255, 153, 51)"
          ],
          [
           0.1111111111111111,
           "rgb(55, 128, 191)"
          ],
          [
           0.2222222222222222,
           "rgb(50, 171, 96)"
          ],
          [
           0.3333333333333333,
           "rgb(128, 0, 128)"
          ],
          [
           0.4444444444444444,
           "rgb(219, 64, 82)"
          ],
          [
           0.5555555555555556,
           "rgb(0, 128, 128)"
          ],
          [
           0.6666666666666666,
           "rgb(255, 255, 51)"
          ],
          [
           0.7777777777777778,
           "rgb(128, 128, 0)"
          ],
          [
           0.8888888888888888,
           "rgb(251, 128, 114)"
          ],
          [
           1,
           "rgb(128, 177, 211)"
          ]
         ],
         "type": "surface",
         "x": [
          0,
          1,
          2,
          3,
          4
         ],
         "y": [
          "x",
          "y",
          "z"
         ],
         "z": [
          [
           1,
           2,
           3,
           4,
           5
          ],
          [
           10,
           20,
           30,
           20,
           10
          ],
          [
           500,
           400,
           300,
           200,
           100
          ]
         ]
        }
       ],
       "layout": {
        "legend": {
         "bgcolor": "#F5F6F9",
         "font": {
          "color": "#4D5663"
         }
        },
        "paper_bgcolor": "#F5F6F9",
        "plot_bgcolor": "#F5F6F9",
        "template": {
         "data": {
          "bar": [
           {
            "error_x": {
             "color": "#2a3f5f"
            },
            "error_y": {
             "color": "#2a3f5f"
            },
            "marker": {
             "line": {
              "color": "#E5ECF6",
              "width": 0.5
             },
             "pattern": {
              "fillmode": "overlay",
              "size": 10,
              "solidity": 0.2
             }
            },
            "type": "bar"
           }
          ],
          "barpolar": [
           {
            "marker": {
             "line": {
              "color": "#E5ECF6",
              "width": 0.5
             },
             "pattern": {
              "fillmode": "overlay",
              "size": 10,
              "solidity": 0.2
             }
            },
            "type": "barpolar"
           }
          ],
          "carpet": [
           {
            "aaxis": {
             "endlinecolor": "#2a3f5f",
             "gridcolor": "white",
             "linecolor": "white",
             "minorgridcolor": "white",
             "startlinecolor": "#2a3f5f"
            },
            "baxis": {
             "endlinecolor": "#2a3f5f",
             "gridcolor": "white",
             "linecolor": "white",
             "minorgridcolor": "white",
             "startlinecolor": "#2a3f5f"
            },
            "type": "carpet"
           }
          ],
          "choropleth": [
           {
            "colorbar": {
             "outlinewidth": 0,
             "ticks": ""
            },
            "type": "choropleth"
           }
          ],
          "contour": [
           {
            "colorbar": {
             "outlinewidth": 0,
             "ticks": ""
            },
            "colorscale": [
             [
              0,
              "#0d0887"
             ],
             [
              0.1111111111111111,
              "#46039f"
             ],
             [
              0.2222222222222222,
              "#7201a8"
             ],
             [
              0.3333333333333333,
              "#9c179e"
             ],
             [
              0.4444444444444444,
              "#bd3786"
             ],
             [
              0.5555555555555556,
              "#d8576b"
             ],
             [
              0.6666666666666666,
              "#ed7953"
             ],
             [
              0.7777777777777778,
              "#fb9f3a"
             ],
             [
              0.8888888888888888,
              "#fdca26"
             ],
             [
              1,
              "#f0f921"
             ]
            ],
            "type": "contour"
           }
          ],
          "contourcarpet": [
           {
            "colorbar": {
             "outlinewidth": 0,
             "ticks": ""
            },
            "type": "contourcarpet"
           }
          ],
          "heatmap": [
           {
            "colorbar": {
             "outlinewidth": 0,
             "ticks": ""
            },
            "colorscale": [
             [
              0,
              "#0d0887"
             ],
             [
              0.1111111111111111,
              "#46039f"
             ],
             [
              0.2222222222222222,
              "#7201a8"
             ],
             [
              0.3333333333333333,
              "#9c179e"
             ],
             [
              0.4444444444444444,
              "#bd3786"
             ],
             [
              0.5555555555555556,
              "#d8576b"
             ],
             [
              0.6666666666666666,
              "#ed7953"
             ],
             [
              0.7777777777777778,
              "#fb9f3a"
             ],
             [
              0.8888888888888888,
              "#fdca26"
             ],
             [
              1,
              "#f0f921"
             ]
            ],
            "type": "heatmap"
           }
          ],
          "heatmapgl": [
           {
            "colorbar": {
             "outlinewidth": 0,
             "ticks": ""
            },
            "colorscale": [
             [
              0,
              "#0d0887"
             ],
             [
              0.1111111111111111,
              "#46039f"
             ],
             [
              0.2222222222222222,
              "#7201a8"
             ],
             [
              0.3333333333333333,
              "#9c179e"
             ],
             [
              0.4444444444444444,
              "#bd3786"
             ],
             [
              0.5555555555555556,
              "#d8576b"
             ],
             [
              0.6666666666666666,
              "#ed7953"
             ],
             [
              0.7777777777777778,
              "#fb9f3a"
             ],
             [
              0.8888888888888888,
              "#fdca26"
             ],
             [
              1,
              "#f0f921"
             ]
            ],
            "type": "heatmapgl"
           }
          ],
          "histogram": [
           {
            "marker": {
             "pattern": {
              "fillmode": "overlay",
              "size": 10,
              "solidity": 0.2
             }
            },
            "type": "histogram"
           }
          ],
          "histogram2d": [
           {
            "colorbar": {
             "outlinewidth": 0,
             "ticks": ""
            },
            "colorscale": [
             [
              0,
              "#0d0887"
             ],
             [
              0.1111111111111111,
              "#46039f"
             ],
             [
              0.2222222222222222,
              "#7201a8"
             ],
             [
              0.3333333333333333,
              "#9c179e"
             ],
             [
              0.4444444444444444,
              "#bd3786"
             ],
             [
              0.5555555555555556,
              "#d8576b"
             ],
             [
              0.6666666666666666,
              "#ed7953"
             ],
             [
              0.7777777777777778,
              "#fb9f3a"
             ],
             [
              0.8888888888888888,
              "#fdca26"
             ],
             [
              1,
              "#f0f921"
             ]
            ],
            "type": "histogram2d"
           }
          ],
          "histogram2dcontour": [
           {
            "colorbar": {
             "outlinewidth": 0,
             "ticks": ""
            },
            "colorscale": [
             [
              0,
              "#0d0887"
             ],
             [
              0.1111111111111111,
              "#46039f"
             ],
             [
              0.2222222222222222,
              "#7201a8"
             ],
             [
              0.3333333333333333,
              "#9c179e"
             ],
             [
              0.4444444444444444,
              "#bd3786"
             ],
             [
              0.5555555555555556,
              "#d8576b"
             ],
             [
              0.6666666666666666,
              "#ed7953"
             ],
             [
              0.7777777777777778,
              "#fb9f3a"
             ],
             [
              0.8888888888888888,
              "#fdca26"
             ],
             [
              1,
              "#f0f921"
             ]
            ],
            "type": "histogram2dcontour"
           }
          ],
          "mesh3d": [
           {
            "colorbar": {
             "outlinewidth": 0,
             "ticks": ""
            },
            "type": "mesh3d"
           }
          ],
          "parcoords": [
           {
            "line": {
             "colorbar": {
              "outlinewidth": 0,
              "ticks": ""
             }
            },
            "type": "parcoords"
           }
          ],
          "pie": [
           {
            "automargin": true,
            "type": "pie"
           }
          ],
          "scatter": [
           {
            "fillpattern": {
             "fillmode": "overlay",
             "size": 10,
             "solidity": 0.2
            },
            "type": "scatter"
           }
          ],
          "scatter3d": [
           {
            "line": {
             "colorbar": {
              "outlinewidth": 0,
              "ticks": ""
             }
            },
            "marker": {
             "colorbar": {
              "outlinewidth": 0,
              "ticks": ""
             }
            },
            "type": "scatter3d"
           }
          ],
          "scattercarpet": [
           {
            "marker": {
             "colorbar": {
              "outlinewidth": 0,
              "ticks": ""
             }
            },
            "type": "scattercarpet"
           }
          ],
          "scattergeo": [
           {
            "marker": {
             "colorbar": {
              "outlinewidth": 0,
              "ticks": ""
             }
            },
            "type": "scattergeo"
           }
          ],
          "scattergl": [
           {
            "marker": {
             "colorbar": {
              "outlinewidth": 0,
              "ticks": ""
             }
            },
            "type": "scattergl"
           }
          ],
          "scattermapbox": [
           {
            "marker": {
             "colorbar": {
              "outlinewidth": 0,
              "ticks": ""
             }
            },
            "type": "scattermapbox"
           }
          ],
          "scatterpolar": [
           {
            "marker": {
             "colorbar": {
              "outlinewidth": 0,
              "ticks": ""
             }
            },
            "type": "scatterpolar"
           }
          ],
          "scatterpolargl": [
           {
            "marker": {
             "colorbar": {
              "outlinewidth": 0,
              "ticks": ""
             }
            },
            "type": "scatterpolargl"
           }
          ],
          "scatterternary": [
           {
            "marker": {
             "colorbar": {
              "outlinewidth": 0,
              "ticks": ""
             }
            },
            "type": "scatterternary"
           }
          ],
          "surface": [
           {
            "colorbar": {
             "outlinewidth": 0,
             "ticks": ""
            },
            "colorscale": [
             [
              0,
              "#0d0887"
             ],
             [
              0.1111111111111111,
              "#46039f"
             ],
             [
              0.2222222222222222,
              "#7201a8"
             ],
             [
              0.3333333333333333,
              "#9c179e"
             ],
             [
              0.4444444444444444,
              "#bd3786"
             ],
             [
              0.5555555555555556,
              "#d8576b"
             ],
             [
              0.6666666666666666,
              "#ed7953"
             ],
             [
              0.7777777777777778,
              "#fb9f3a"
             ],
             [
              0.8888888888888888,
              "#fdca26"
             ],
             [
              1,
              "#f0f921"
             ]
            ],
            "type": "surface"
           }
          ],
          "table": [
           {
            "cells": {
             "fill": {
              "color": "#EBF0F8"
             },
             "line": {
              "color": "white"
             }
            },
            "header": {
             "fill": {
              "color": "#C8D4E3"
             },
             "line": {
              "color": "white"
             }
            },
            "type": "table"
           }
          ]
         },
         "layout": {
          "annotationdefaults": {
           "arrowcolor": "#2a3f5f",
           "arrowhead": 0,
           "arrowwidth": 1
          },
          "autotypenumbers": "strict",
          "coloraxis": {
           "colorbar": {
            "outlinewidth": 0,
            "ticks": ""
           }
          },
          "colorscale": {
           "diverging": [
            [
             0,
             "#8e0152"
            ],
            [
             0.1,
             "#c51b7d"
            ],
            [
             0.2,
             "#de77ae"
            ],
            [
             0.3,
             "#f1b6da"
            ],
            [
             0.4,
             "#fde0ef"
            ],
            [
             0.5,
             "#f7f7f7"
            ],
            [
             0.6,
             "#e6f5d0"
            ],
            [
             0.7,
             "#b8e186"
            ],
            [
             0.8,
             "#7fbc41"
            ],
            [
             0.9,
             "#4d9221"
            ],
            [
             1,
             "#276419"
            ]
           ],
           "sequential": [
            [
             0,
             "#0d0887"
            ],
            [
             0.1111111111111111,
             "#46039f"
            ],
            [
             0.2222222222222222,
             "#7201a8"
            ],
            [
             0.3333333333333333,
             "#9c179e"
            ],
            [
             0.4444444444444444,
             "#bd3786"
            ],
            [
             0.5555555555555556,
             "#d8576b"
            ],
            [
             0.6666666666666666,
             "#ed7953"
            ],
            [
             0.7777777777777778,
             "#fb9f3a"
            ],
            [
             0.8888888888888888,
             "#fdca26"
            ],
            [
             1,
             "#f0f921"
            ]
           ],
           "sequentialminus": [
            [
             0,
             "#0d0887"
            ],
            [
             0.1111111111111111,
             "#46039f"
            ],
            [
             0.2222222222222222,
             "#7201a8"
            ],
            [
             0.3333333333333333,
             "#9c179e"
            ],
            [
             0.4444444444444444,
             "#bd3786"
            ],
            [
             0.5555555555555556,
             "#d8576b"
            ],
            [
             0.6666666666666666,
             "#ed7953"
            ],
            [
             0.7777777777777778,
             "#fb9f3a"
            ],
            [
             0.8888888888888888,
             "#fdca26"
            ],
            [
             1,
             "#f0f921"
            ]
           ]
          },
          "colorway": [
           "#636efa",
           "#EF553B",
           "#00cc96",
           "#ab63fa",
           "#FFA15A",
           "#19d3f3",
           "#FF6692",
           "#B6E880",
           "#FF97FF",
           "#FECB52"
          ],
          "font": {
           "color": "#2a3f5f"
          },
          "geo": {
           "bgcolor": "white",
           "lakecolor": "white",
           "landcolor": "#E5ECF6",
           "showlakes": true,
           "showland": true,
           "subunitcolor": "white"
          },
          "hoverlabel": {
           "align": "left"
          },
          "hovermode": "closest",
          "mapbox": {
           "style": "light"
          },
          "paper_bgcolor": "white",
          "plot_bgcolor": "#E5ECF6",
          "polar": {
           "angularaxis": {
            "gridcolor": "white",
            "linecolor": "white",
            "ticks": ""
           },
           "bgcolor": "#E5ECF6",
           "radialaxis": {
            "gridcolor": "white",
            "linecolor": "white",
            "ticks": ""
           }
          },
          "scene": {
           "xaxis": {
            "backgroundcolor": "#E5ECF6",
            "gridcolor": "white",
            "gridwidth": 2,
            "linecolor": "white",
            "showbackground": true,
            "ticks": "",
            "zerolinecolor": "white"
           },
           "yaxis": {
            "backgroundcolor": "#E5ECF6",
            "gridcolor": "white",
            "gridwidth": 2,
            "linecolor": "white",
            "showbackground": true,
            "ticks": "",
            "zerolinecolor": "white"
           },
           "zaxis": {
            "backgroundcolor": "#E5ECF6",
            "gridcolor": "white",
            "gridwidth": 2,
            "linecolor": "white",
            "showbackground": true,
            "ticks": "",
            "zerolinecolor": "white"
           }
          },
          "shapedefaults": {
           "line": {
            "color": "#2a3f5f"
           }
          },
          "ternary": {
           "aaxis": {
            "gridcolor": "white",
            "linecolor": "white",
            "ticks": ""
           },
           "baxis": {
            "gridcolor": "white",
            "linecolor": "white",
            "ticks": ""
           },
           "bgcolor": "#E5ECF6",
           "caxis": {
            "gridcolor": "white",
            "linecolor": "white",
            "ticks": ""
           }
          },
          "title": {
           "x": 0.05
          },
          "xaxis": {
           "automargin": true,
           "gridcolor": "white",
           "linecolor": "white",
           "ticks": "",
           "title": {
            "standoff": 15
           },
           "zerolinecolor": "white",
           "zerolinewidth": 2
          },
          "yaxis": {
           "automargin": true,
           "gridcolor": "white",
           "linecolor": "white",
           "ticks": "",
           "title": {
            "standoff": 15
           },
           "zerolinecolor": "white",
           "zerolinewidth": 2
          }
         }
        },
        "title": {
         "font": {
          "color": "#4D5663"
         }
        },
        "xaxis": {
         "gridcolor": "#E1E5ED",
         "showgrid": true,
         "tickfont": {
          "color": "#4D5663"
         },
         "title": {
          "font": {
           "color": "#4D5663"
          },
          "text": ""
         },
         "zerolinecolor": "#E1E5ED"
        },
        "yaxis": {
         "gridcolor": "#E1E5ED",
         "showgrid": true,
         "tickfont": {
          "color": "#4D5663"
         },
         "title": {
          "font": {
           "color": "#4D5663"
          },
          "text": ""
         },
         "zerolinecolor": "#E1E5ED"
        }
       }
      },
      "text/html": [
       "<div>                            <div id=\"982f450d-f9db-4963-9e7b-2e909ff2c432\" class=\"plotly-graph-div\" style=\"height:525px; width:100%;\"></div>            <script type=\"text/javascript\">                require([\"plotly\"], function(Plotly) {                    window.PLOTLYENV=window.PLOTLYENV || {};\n",
       "                    window.PLOTLYENV.BASE_URL='https://plot.ly';                                    if (document.getElementById(\"982f450d-f9db-4963-9e7b-2e909ff2c432\")) {                    Plotly.newPlot(                        \"982f450d-f9db-4963-9e7b-2e909ff2c432\",                        [{\"colorscale\":[[0.0,\"rgb(255, 153, 51)\"],[0.1111111111111111,\"rgb(55, 128, 191)\"],[0.2222222222222222,\"rgb(50, 171, 96)\"],[0.3333333333333333,\"rgb(128, 0, 128)\"],[0.4444444444444444,\"rgb(219, 64, 82)\"],[0.5555555555555556,\"rgb(0, 128, 128)\"],[0.6666666666666666,\"rgb(255, 255, 51)\"],[0.7777777777777778,\"rgb(128, 128, 0)\"],[0.8888888888888888,\"rgb(251, 128, 114)\"],[1.0,\"rgb(128, 177, 211)\"]],\"x\":[0,1,2,3,4],\"y\":[\"x\",\"y\",\"z\"],\"z\":[[1,2,3,4,5],[10,20,30,20,10],[500,400,300,200,100]],\"type\":\"surface\"}],                        {\"legend\":{\"bgcolor\":\"#F5F6F9\",\"font\":{\"color\":\"#4D5663\"}},\"paper_bgcolor\":\"#F5F6F9\",\"plot_bgcolor\":\"#F5F6F9\",\"template\":{\"data\":{\"barpolar\":[{\"marker\":{\"line\":{\"color\":\"#E5ECF6\",\"width\":0.5},\"pattern\":{\"fillmode\":\"overlay\",\"size\":10,\"solidity\":0.2}},\"type\":\"barpolar\"}],\"bar\":[{\"error_x\":{\"color\":\"#2a3f5f\"},\"error_y\":{\"color\":\"#2a3f5f\"},\"marker\":{\"line\":{\"color\":\"#E5ECF6\",\"width\":0.5},\"pattern\":{\"fillmode\":\"overlay\",\"size\":10,\"solidity\":0.2}},\"type\":\"bar\"}],\"carpet\":[{\"aaxis\":{\"endlinecolor\":\"#2a3f5f\",\"gridcolor\":\"white\",\"linecolor\":\"white\",\"minorgridcolor\":\"white\",\"startlinecolor\":\"#2a3f5f\"},\"baxis\":{\"endlinecolor\":\"#2a3f5f\",\"gridcolor\":\"white\",\"linecolor\":\"white\",\"minorgridcolor\":\"white\",\"startlinecolor\":\"#2a3f5f\"},\"type\":\"carpet\"}],\"choropleth\":[{\"colorbar\":{\"outlinewidth\":0,\"ticks\":\"\"},\"type\":\"choropleth\"}],\"contourcarpet\":[{\"colorbar\":{\"outlinewidth\":0,\"ticks\":\"\"},\"type\":\"contourcarpet\"}],\"contour\":[{\"colorbar\":{\"outlinewidth\":0,\"ticks\":\"\"},\"colorscale\":[[0.0,\"#0d0887\"],[0.1111111111111111,\"#46039f\"],[0.2222222222222222,\"#7201a8\"],[0.3333333333333333,\"#9c179e\"],[0.4444444444444444,\"#bd3786\"],[0.5555555555555556,\"#d8576b\"],[0.6666666666666666,\"#ed7953\"],[0.7777777777777778,\"#fb9f3a\"],[0.8888888888888888,\"#fdca26\"],[1.0,\"#f0f921\"]],\"type\":\"contour\"}],\"heatmapgl\":[{\"colorbar\":{\"outlinewidth\":0,\"ticks\":\"\"},\"colorscale\":[[0.0,\"#0d0887\"],[0.1111111111111111,\"#46039f\"],[0.2222222222222222,\"#7201a8\"],[0.3333333333333333,\"#9c179e\"],[0.4444444444444444,\"#bd3786\"],[0.5555555555555556,\"#d8576b\"],[0.6666666666666666,\"#ed7953\"],[0.7777777777777778,\"#fb9f3a\"],[0.8888888888888888,\"#fdca26\"],[1.0,\"#f0f921\"]],\"type\":\"heatmapgl\"}],\"heatmap\":[{\"colorbar\":{\"outlinewidth\":0,\"ticks\":\"\"},\"colorscale\":[[0.0,\"#0d0887\"],[0.1111111111111111,\"#46039f\"],[0.2222222222222222,\"#7201a8\"],[0.3333333333333333,\"#9c179e\"],[0.4444444444444444,\"#bd3786\"],[0.5555555555555556,\"#d8576b\"],[0.6666666666666666,\"#ed7953\"],[0.7777777777777778,\"#fb9f3a\"],[0.8888888888888888,\"#fdca26\"],[1.0,\"#f0f921\"]],\"type\":\"heatmap\"}],\"histogram2dcontour\":[{\"colorbar\":{\"outlinewidth\":0,\"ticks\":\"\"},\"colorscale\":[[0.0,\"#0d0887\"],[0.1111111111111111,\"#46039f\"],[0.2222222222222222,\"#7201a8\"],[0.3333333333333333,\"#9c179e\"],[0.4444444444444444,\"#bd3786\"],[0.5555555555555556,\"#d8576b\"],[0.6666666666666666,\"#ed7953\"],[0.7777777777777778,\"#fb9f3a\"],[0.8888888888888888,\"#fdca26\"],[1.0,\"#f0f921\"]],\"type\":\"histogram2dcontour\"}],\"histogram2d\":[{\"colorbar\":{\"outlinewidth\":0,\"ticks\":\"\"},\"colorscale\":[[0.0,\"#0d0887\"],[0.1111111111111111,\"#46039f\"],[0.2222222222222222,\"#7201a8\"],[0.3333333333333333,\"#9c179e\"],[0.4444444444444444,\"#bd3786\"],[0.5555555555555556,\"#d8576b\"],[0.6666666666666666,\"#ed7953\"],[0.7777777777777778,\"#fb9f3a\"],[0.8888888888888888,\"#fdca26\"],[1.0,\"#f0f921\"]],\"type\":\"histogram2d\"}],\"histogram\":[{\"marker\":{\"pattern\":{\"fillmode\":\"overlay\",\"size\":10,\"solidity\":0.2}},\"type\":\"histogram\"}],\"mesh3d\":[{\"colorbar\":{\"outlinewidth\":0,\"ticks\":\"\"},\"type\":\"mesh3d\"}],\"parcoords\":[{\"line\":{\"colorbar\":{\"outlinewidth\":0,\"ticks\":\"\"}},\"type\":\"parcoords\"}],\"pie\":[{\"automargin\":true,\"type\":\"pie\"}],\"scatter3d\":[{\"line\":{\"colorbar\":{\"outlinewidth\":0,\"ticks\":\"\"}},\"marker\":{\"colorbar\":{\"outlinewidth\":0,\"ticks\":\"\"}},\"type\":\"scatter3d\"}],\"scattercarpet\":[{\"marker\":{\"colorbar\":{\"outlinewidth\":0,\"ticks\":\"\"}},\"type\":\"scattercarpet\"}],\"scattergeo\":[{\"marker\":{\"colorbar\":{\"outlinewidth\":0,\"ticks\":\"\"}},\"type\":\"scattergeo\"}],\"scattergl\":[{\"marker\":{\"colorbar\":{\"outlinewidth\":0,\"ticks\":\"\"}},\"type\":\"scattergl\"}],\"scattermapbox\":[{\"marker\":{\"colorbar\":{\"outlinewidth\":0,\"ticks\":\"\"}},\"type\":\"scattermapbox\"}],\"scatterpolargl\":[{\"marker\":{\"colorbar\":{\"outlinewidth\":0,\"ticks\":\"\"}},\"type\":\"scatterpolargl\"}],\"scatterpolar\":[{\"marker\":{\"colorbar\":{\"outlinewidth\":0,\"ticks\":\"\"}},\"type\":\"scatterpolar\"}],\"scatter\":[{\"fillpattern\":{\"fillmode\":\"overlay\",\"size\":10,\"solidity\":0.2},\"type\":\"scatter\"}],\"scatterternary\":[{\"marker\":{\"colorbar\":{\"outlinewidth\":0,\"ticks\":\"\"}},\"type\":\"scatterternary\"}],\"surface\":[{\"colorbar\":{\"outlinewidth\":0,\"ticks\":\"\"},\"colorscale\":[[0.0,\"#0d0887\"],[0.1111111111111111,\"#46039f\"],[0.2222222222222222,\"#7201a8\"],[0.3333333333333333,\"#9c179e\"],[0.4444444444444444,\"#bd3786\"],[0.5555555555555556,\"#d8576b\"],[0.6666666666666666,\"#ed7953\"],[0.7777777777777778,\"#fb9f3a\"],[0.8888888888888888,\"#fdca26\"],[1.0,\"#f0f921\"]],\"type\":\"surface\"}],\"table\":[{\"cells\":{\"fill\":{\"color\":\"#EBF0F8\"},\"line\":{\"color\":\"white\"}},\"header\":{\"fill\":{\"color\":\"#C8D4E3\"},\"line\":{\"color\":\"white\"}},\"type\":\"table\"}]},\"layout\":{\"annotationdefaults\":{\"arrowcolor\":\"#2a3f5f\",\"arrowhead\":0,\"arrowwidth\":1},\"autotypenumbers\":\"strict\",\"coloraxis\":{\"colorbar\":{\"outlinewidth\":0,\"ticks\":\"\"}},\"colorscale\":{\"diverging\":[[0,\"#8e0152\"],[0.1,\"#c51b7d\"],[0.2,\"#de77ae\"],[0.3,\"#f1b6da\"],[0.4,\"#fde0ef\"],[0.5,\"#f7f7f7\"],[0.6,\"#e6f5d0\"],[0.7,\"#b8e186\"],[0.8,\"#7fbc41\"],[0.9,\"#4d9221\"],[1,\"#276419\"]],\"sequential\":[[0.0,\"#0d0887\"],[0.1111111111111111,\"#46039f\"],[0.2222222222222222,\"#7201a8\"],[0.3333333333333333,\"#9c179e\"],[0.4444444444444444,\"#bd3786\"],[0.5555555555555556,\"#d8576b\"],[0.6666666666666666,\"#ed7953\"],[0.7777777777777778,\"#fb9f3a\"],[0.8888888888888888,\"#fdca26\"],[1.0,\"#f0f921\"]],\"sequentialminus\":[[0.0,\"#0d0887\"],[0.1111111111111111,\"#46039f\"],[0.2222222222222222,\"#7201a8\"],[0.3333333333333333,\"#9c179e\"],[0.4444444444444444,\"#bd3786\"],[0.5555555555555556,\"#d8576b\"],[0.6666666666666666,\"#ed7953\"],[0.7777777777777778,\"#fb9f3a\"],[0.8888888888888888,\"#fdca26\"],[1.0,\"#f0f921\"]]},\"colorway\":[\"#636efa\",\"#EF553B\",\"#00cc96\",\"#ab63fa\",\"#FFA15A\",\"#19d3f3\",\"#FF6692\",\"#B6E880\",\"#FF97FF\",\"#FECB52\"],\"font\":{\"color\":\"#2a3f5f\"},\"geo\":{\"bgcolor\":\"white\",\"lakecolor\":\"white\",\"landcolor\":\"#E5ECF6\",\"showlakes\":true,\"showland\":true,\"subunitcolor\":\"white\"},\"hoverlabel\":{\"align\":\"left\"},\"hovermode\":\"closest\",\"mapbox\":{\"style\":\"light\"},\"paper_bgcolor\":\"white\",\"plot_bgcolor\":\"#E5ECF6\",\"polar\":{\"angularaxis\":{\"gridcolor\":\"white\",\"linecolor\":\"white\",\"ticks\":\"\"},\"bgcolor\":\"#E5ECF6\",\"radialaxis\":{\"gridcolor\":\"white\",\"linecolor\":\"white\",\"ticks\":\"\"}},\"scene\":{\"xaxis\":{\"backgroundcolor\":\"#E5ECF6\",\"gridcolor\":\"white\",\"gridwidth\":2,\"linecolor\":\"white\",\"showbackground\":true,\"ticks\":\"\",\"zerolinecolor\":\"white\"},\"yaxis\":{\"backgroundcolor\":\"#E5ECF6\",\"gridcolor\":\"white\",\"gridwidth\":2,\"linecolor\":\"white\",\"showbackground\":true,\"ticks\":\"\",\"zerolinecolor\":\"white\"},\"zaxis\":{\"backgroundcolor\":\"#E5ECF6\",\"gridcolor\":\"white\",\"gridwidth\":2,\"linecolor\":\"white\",\"showbackground\":true,\"ticks\":\"\",\"zerolinecolor\":\"white\"}},\"shapedefaults\":{\"line\":{\"color\":\"#2a3f5f\"}},\"ternary\":{\"aaxis\":{\"gridcolor\":\"white\",\"linecolor\":\"white\",\"ticks\":\"\"},\"baxis\":{\"gridcolor\":\"white\",\"linecolor\":\"white\",\"ticks\":\"\"},\"bgcolor\":\"#E5ECF6\",\"caxis\":{\"gridcolor\":\"white\",\"linecolor\":\"white\",\"ticks\":\"\"}},\"title\":{\"x\":0.05},\"xaxis\":{\"automargin\":true,\"gridcolor\":\"white\",\"linecolor\":\"white\",\"ticks\":\"\",\"title\":{\"standoff\":15},\"zerolinecolor\":\"white\",\"zerolinewidth\":2},\"yaxis\":{\"automargin\":true,\"gridcolor\":\"white\",\"linecolor\":\"white\",\"ticks\":\"\",\"title\":{\"standoff\":15},\"zerolinecolor\":\"white\",\"zerolinewidth\":2}}},\"title\":{\"font\":{\"color\":\"#4D5663\"}},\"xaxis\":{\"gridcolor\":\"#E1E5ED\",\"showgrid\":true,\"tickfont\":{\"color\":\"#4D5663\"},\"title\":{\"font\":{\"color\":\"#4D5663\"},\"text\":\"\"},\"zerolinecolor\":\"#E1E5ED\"},\"yaxis\":{\"gridcolor\":\"#E1E5ED\",\"showgrid\":true,\"tickfont\":{\"color\":\"#4D5663\"},\"title\":{\"font\":{\"color\":\"#4D5663\"},\"text\":\"\"},\"zerolinecolor\":\"#E1E5ED\"}},                        {\"showLink\": true, \"linkText\": \"Export to plot.ly\", \"plotlyServerURL\": \"https://plot.ly\", \"responsive\": true}                    ).then(function(){\n",
       "                            \n",
       "var gd = document.getElementById('982f450d-f9db-4963-9e7b-2e909ff2c432');\n",
       "var x = new MutationObserver(function (mutations, observer) {{\n",
       "        var display = window.getComputedStyle(gd).display;\n",
       "        if (!display || display === 'none') {{\n",
       "            console.log([gd, 'removed!']);\n",
       "            Plotly.purge(gd);\n",
       "            observer.disconnect();\n",
       "        }}\n",
       "}});\n",
       "\n",
       "// Listen for the removal of the full notebook cells\n",
       "var notebookContainer = gd.closest('#notebook-container');\n",
       "if (notebookContainer) {{\n",
       "    x.observe(notebookContainer, {childList: true});\n",
       "}}\n",
       "\n",
       "// Listen for the clearing of the current output cell\n",
       "var outputEl = gd.closest('.output');\n",
       "if (outputEl) {{\n",
       "    x.observe(outputEl, {childList: true});\n",
       "}}\n",
       "\n",
       "                        })                };                });            </script>        </div>"
      ]
     },
     "metadata": {},
     "output_type": "display_data"
    }
   ],
   "source": [
    "df3.iplot(kind='surface')"
   ]
  },
  {
   "cell_type": "code",
   "execution_count": 35,
   "id": "48fe1ff0",
   "metadata": {},
   "outputs": [],
   "source": [
    "df3 = pd.DataFrame({'x':[1,2,3,4,5],'y':[10,20,30,20,10],'z':[5,4,3,2,1]})"
   ]
  },
  {
   "cell_type": "code",
   "execution_count": 38,
   "id": "81254215",
   "metadata": {},
   "outputs": [
    {
     "data": {
      "application/vnd.plotly.v1+json": {
       "config": {
        "linkText": "Export to plot.ly",
        "plotlyServerURL": "https://plot.ly",
        "showLink": true
       },
       "data": [
        {
         "colorscale": [
          [
           0,
           "rgb(255,255,229)"
          ],
          [
           0.125,
           "rgb(255,247,188)"
          ],
          [
           0.25,
           "rgb(254,227,145)"
          ],
          [
           0.375,
           "rgb(254,196,79)"
          ],
          [
           0.5,
           "rgb(254,153,41)"
          ],
          [
           0.625,
           "rgb(236,112,20)"
          ],
          [
           0.75,
           "rgb(204,76,2)"
          ],
          [
           0.875,
           "rgb(153,52,4)"
          ],
          [
           1,
           "rgb(102,37,6)"
          ]
         ],
         "type": "surface",
         "x": [
          0,
          1,
          2,
          3,
          4
         ],
         "y": [
          "x",
          "y",
          "z"
         ],
         "z": [
          [
           1,
           2,
           3,
           4,
           5
          ],
          [
           10,
           20,
           30,
           20,
           10
          ],
          [
           5,
           4,
           3,
           2,
           1
          ]
         ]
        }
       ],
       "layout": {
        "legend": {
         "bgcolor": "#F5F6F9",
         "font": {
          "color": "#4D5663"
         }
        },
        "paper_bgcolor": "#F5F6F9",
        "plot_bgcolor": "#F5F6F9",
        "template": {
         "data": {
          "bar": [
           {
            "error_x": {
             "color": "#2a3f5f"
            },
            "error_y": {
             "color": "#2a3f5f"
            },
            "marker": {
             "line": {
              "color": "#E5ECF6",
              "width": 0.5
             },
             "pattern": {
              "fillmode": "overlay",
              "size": 10,
              "solidity": 0.2
             }
            },
            "type": "bar"
           }
          ],
          "barpolar": [
           {
            "marker": {
             "line": {
              "color": "#E5ECF6",
              "width": 0.5
             },
             "pattern": {
              "fillmode": "overlay",
              "size": 10,
              "solidity": 0.2
             }
            },
            "type": "barpolar"
           }
          ],
          "carpet": [
           {
            "aaxis": {
             "endlinecolor": "#2a3f5f",
             "gridcolor": "white",
             "linecolor": "white",
             "minorgridcolor": "white",
             "startlinecolor": "#2a3f5f"
            },
            "baxis": {
             "endlinecolor": "#2a3f5f",
             "gridcolor": "white",
             "linecolor": "white",
             "minorgridcolor": "white",
             "startlinecolor": "#2a3f5f"
            },
            "type": "carpet"
           }
          ],
          "choropleth": [
           {
            "colorbar": {
             "outlinewidth": 0,
             "ticks": ""
            },
            "type": "choropleth"
           }
          ],
          "contour": [
           {
            "colorbar": {
             "outlinewidth": 0,
             "ticks": ""
            },
            "colorscale": [
             [
              0,
              "#0d0887"
             ],
             [
              0.1111111111111111,
              "#46039f"
             ],
             [
              0.2222222222222222,
              "#7201a8"
             ],
             [
              0.3333333333333333,
              "#9c179e"
             ],
             [
              0.4444444444444444,
              "#bd3786"
             ],
             [
              0.5555555555555556,
              "#d8576b"
             ],
             [
              0.6666666666666666,
              "#ed7953"
             ],
             [
              0.7777777777777778,
              "#fb9f3a"
             ],
             [
              0.8888888888888888,
              "#fdca26"
             ],
             [
              1,
              "#f0f921"
             ]
            ],
            "type": "contour"
           }
          ],
          "contourcarpet": [
           {
            "colorbar": {
             "outlinewidth": 0,
             "ticks": ""
            },
            "type": "contourcarpet"
           }
          ],
          "heatmap": [
           {
            "colorbar": {
             "outlinewidth": 0,
             "ticks": ""
            },
            "colorscale": [
             [
              0,
              "#0d0887"
             ],
             [
              0.1111111111111111,
              "#46039f"
             ],
             [
              0.2222222222222222,
              "#7201a8"
             ],
             [
              0.3333333333333333,
              "#9c179e"
             ],
             [
              0.4444444444444444,
              "#bd3786"
             ],
             [
              0.5555555555555556,
              "#d8576b"
             ],
             [
              0.6666666666666666,
              "#ed7953"
             ],
             [
              0.7777777777777778,
              "#fb9f3a"
             ],
             [
              0.8888888888888888,
              "#fdca26"
             ],
             [
              1,
              "#f0f921"
             ]
            ],
            "type": "heatmap"
           }
          ],
          "heatmapgl": [
           {
            "colorbar": {
             "outlinewidth": 0,
             "ticks": ""
            },
            "colorscale": [
             [
              0,
              "#0d0887"
             ],
             [
              0.1111111111111111,
              "#46039f"
             ],
             [
              0.2222222222222222,
              "#7201a8"
             ],
             [
              0.3333333333333333,
              "#9c179e"
             ],
             [
              0.4444444444444444,
              "#bd3786"
             ],
             [
              0.5555555555555556,
              "#d8576b"
             ],
             [
              0.6666666666666666,
              "#ed7953"
             ],
             [
              0.7777777777777778,
              "#fb9f3a"
             ],
             [
              0.8888888888888888,
              "#fdca26"
             ],
             [
              1,
              "#f0f921"
             ]
            ],
            "type": "heatmapgl"
           }
          ],
          "histogram": [
           {
            "marker": {
             "pattern": {
              "fillmode": "overlay",
              "size": 10,
              "solidity": 0.2
             }
            },
            "type": "histogram"
           }
          ],
          "histogram2d": [
           {
            "colorbar": {
             "outlinewidth": 0,
             "ticks": ""
            },
            "colorscale": [
             [
              0,
              "#0d0887"
             ],
             [
              0.1111111111111111,
              "#46039f"
             ],
             [
              0.2222222222222222,
              "#7201a8"
             ],
             [
              0.3333333333333333,
              "#9c179e"
             ],
             [
              0.4444444444444444,
              "#bd3786"
             ],
             [
              0.5555555555555556,
              "#d8576b"
             ],
             [
              0.6666666666666666,
              "#ed7953"
             ],
             [
              0.7777777777777778,
              "#fb9f3a"
             ],
             [
              0.8888888888888888,
              "#fdca26"
             ],
             [
              1,
              "#f0f921"
             ]
            ],
            "type": "histogram2d"
           }
          ],
          "histogram2dcontour": [
           {
            "colorbar": {
             "outlinewidth": 0,
             "ticks": ""
            },
            "colorscale": [
             [
              0,
              "#0d0887"
             ],
             [
              0.1111111111111111,
              "#46039f"
             ],
             [
              0.2222222222222222,
              "#7201a8"
             ],
             [
              0.3333333333333333,
              "#9c179e"
             ],
             [
              0.4444444444444444,
              "#bd3786"
             ],
             [
              0.5555555555555556,
              "#d8576b"
             ],
             [
              0.6666666666666666,
              "#ed7953"
             ],
             [
              0.7777777777777778,
              "#fb9f3a"
             ],
             [
              0.8888888888888888,
              "#fdca26"
             ],
             [
              1,
              "#f0f921"
             ]
            ],
            "type": "histogram2dcontour"
           }
          ],
          "mesh3d": [
           {
            "colorbar": {
             "outlinewidth": 0,
             "ticks": ""
            },
            "type": "mesh3d"
           }
          ],
          "parcoords": [
           {
            "line": {
             "colorbar": {
              "outlinewidth": 0,
              "ticks": ""
             }
            },
            "type": "parcoords"
           }
          ],
          "pie": [
           {
            "automargin": true,
            "type": "pie"
           }
          ],
          "scatter": [
           {
            "fillpattern": {
             "fillmode": "overlay",
             "size": 10,
             "solidity": 0.2
            },
            "type": "scatter"
           }
          ],
          "scatter3d": [
           {
            "line": {
             "colorbar": {
              "outlinewidth": 0,
              "ticks": ""
             }
            },
            "marker": {
             "colorbar": {
              "outlinewidth": 0,
              "ticks": ""
             }
            },
            "type": "scatter3d"
           }
          ],
          "scattercarpet": [
           {
            "marker": {
             "colorbar": {
              "outlinewidth": 0,
              "ticks": ""
             }
            },
            "type": "scattercarpet"
           }
          ],
          "scattergeo": [
           {
            "marker": {
             "colorbar": {
              "outlinewidth": 0,
              "ticks": ""
             }
            },
            "type": "scattergeo"
           }
          ],
          "scattergl": [
           {
            "marker": {
             "colorbar": {
              "outlinewidth": 0,
              "ticks": ""
             }
            },
            "type": "scattergl"
           }
          ],
          "scattermapbox": [
           {
            "marker": {
             "colorbar": {
              "outlinewidth": 0,
              "ticks": ""
             }
            },
            "type": "scattermapbox"
           }
          ],
          "scatterpolar": [
           {
            "marker": {
             "colorbar": {
              "outlinewidth": 0,
              "ticks": ""
             }
            },
            "type": "scatterpolar"
           }
          ],
          "scatterpolargl": [
           {
            "marker": {
             "colorbar": {
              "outlinewidth": 0,
              "ticks": ""
             }
            },
            "type": "scatterpolargl"
           }
          ],
          "scatterternary": [
           {
            "marker": {
             "colorbar": {
              "outlinewidth": 0,
              "ticks": ""
             }
            },
            "type": "scatterternary"
           }
          ],
          "surface": [
           {
            "colorbar": {
             "outlinewidth": 0,
             "ticks": ""
            },
            "colorscale": [
             [
              0,
              "#0d0887"
             ],
             [
              0.1111111111111111,
              "#46039f"
             ],
             [
              0.2222222222222222,
              "#7201a8"
             ],
             [
              0.3333333333333333,
              "#9c179e"
             ],
             [
              0.4444444444444444,
              "#bd3786"
             ],
             [
              0.5555555555555556,
              "#d8576b"
             ],
             [
              0.6666666666666666,
              "#ed7953"
             ],
             [
              0.7777777777777778,
              "#fb9f3a"
             ],
             [
              0.8888888888888888,
              "#fdca26"
             ],
             [
              1,
              "#f0f921"
             ]
            ],
            "type": "surface"
           }
          ],
          "table": [
           {
            "cells": {
             "fill": {
              "color": "#EBF0F8"
             },
             "line": {
              "color": "white"
             }
            },
            "header": {
             "fill": {
              "color": "#C8D4E3"
             },
             "line": {
              "color": "white"
             }
            },
            "type": "table"
           }
          ]
         },
         "layout": {
          "annotationdefaults": {
           "arrowcolor": "#2a3f5f",
           "arrowhead": 0,
           "arrowwidth": 1
          },
          "autotypenumbers": "strict",
          "coloraxis": {
           "colorbar": {
            "outlinewidth": 0,
            "ticks": ""
           }
          },
          "colorscale": {
           "diverging": [
            [
             0,
             "#8e0152"
            ],
            [
             0.1,
             "#c51b7d"
            ],
            [
             0.2,
             "#de77ae"
            ],
            [
             0.3,
             "#f1b6da"
            ],
            [
             0.4,
             "#fde0ef"
            ],
            [
             0.5,
             "#f7f7f7"
            ],
            [
             0.6,
             "#e6f5d0"
            ],
            [
             0.7,
             "#b8e186"
            ],
            [
             0.8,
             "#7fbc41"
            ],
            [
             0.9,
             "#4d9221"
            ],
            [
             1,
             "#276419"
            ]
           ],
           "sequential": [
            [
             0,
             "#0d0887"
            ],
            [
             0.1111111111111111,
             "#46039f"
            ],
            [
             0.2222222222222222,
             "#7201a8"
            ],
            [
             0.3333333333333333,
             "#9c179e"
            ],
            [
             0.4444444444444444,
             "#bd3786"
            ],
            [
             0.5555555555555556,
             "#d8576b"
            ],
            [
             0.6666666666666666,
             "#ed7953"
            ],
            [
             0.7777777777777778,
             "#fb9f3a"
            ],
            [
             0.8888888888888888,
             "#fdca26"
            ],
            [
             1,
             "#f0f921"
            ]
           ],
           "sequentialminus": [
            [
             0,
             "#0d0887"
            ],
            [
             0.1111111111111111,
             "#46039f"
            ],
            [
             0.2222222222222222,
             "#7201a8"
            ],
            [
             0.3333333333333333,
             "#9c179e"
            ],
            [
             0.4444444444444444,
             "#bd3786"
            ],
            [
             0.5555555555555556,
             "#d8576b"
            ],
            [
             0.6666666666666666,
             "#ed7953"
            ],
            [
             0.7777777777777778,
             "#fb9f3a"
            ],
            [
             0.8888888888888888,
             "#fdca26"
            ],
            [
             1,
             "#f0f921"
            ]
           ]
          },
          "colorway": [
           "#636efa",
           "#EF553B",
           "#00cc96",
           "#ab63fa",
           "#FFA15A",
           "#19d3f3",
           "#FF6692",
           "#B6E880",
           "#FF97FF",
           "#FECB52"
          ],
          "font": {
           "color": "#2a3f5f"
          },
          "geo": {
           "bgcolor": "white",
           "lakecolor": "white",
           "landcolor": "#E5ECF6",
           "showlakes": true,
           "showland": true,
           "subunitcolor": "white"
          },
          "hoverlabel": {
           "align": "left"
          },
          "hovermode": "closest",
          "mapbox": {
           "style": "light"
          },
          "paper_bgcolor": "white",
          "plot_bgcolor": "#E5ECF6",
          "polar": {
           "angularaxis": {
            "gridcolor": "white",
            "linecolor": "white",
            "ticks": ""
           },
           "bgcolor": "#E5ECF6",
           "radialaxis": {
            "gridcolor": "white",
            "linecolor": "white",
            "ticks": ""
           }
          },
          "scene": {
           "xaxis": {
            "backgroundcolor": "#E5ECF6",
            "gridcolor": "white",
            "gridwidth": 2,
            "linecolor": "white",
            "showbackground": true,
            "ticks": "",
            "zerolinecolor": "white"
           },
           "yaxis": {
            "backgroundcolor": "#E5ECF6",
            "gridcolor": "white",
            "gridwidth": 2,
            "linecolor": "white",
            "showbackground": true,
            "ticks": "",
            "zerolinecolor": "white"
           },
           "zaxis": {
            "backgroundcolor": "#E5ECF6",
            "gridcolor": "white",
            "gridwidth": 2,
            "linecolor": "white",
            "showbackground": true,
            "ticks": "",
            "zerolinecolor": "white"
           }
          },
          "shapedefaults": {
           "line": {
            "color": "#2a3f5f"
           }
          },
          "ternary": {
           "aaxis": {
            "gridcolor": "white",
            "linecolor": "white",
            "ticks": ""
           },
           "baxis": {
            "gridcolor": "white",
            "linecolor": "white",
            "ticks": ""
           },
           "bgcolor": "#E5ECF6",
           "caxis": {
            "gridcolor": "white",
            "linecolor": "white",
            "ticks": ""
           }
          },
          "title": {
           "x": 0.05
          },
          "xaxis": {
           "automargin": true,
           "gridcolor": "white",
           "linecolor": "white",
           "ticks": "",
           "title": {
            "standoff": 15
           },
           "zerolinecolor": "white",
           "zerolinewidth": 2
          },
          "yaxis": {
           "automargin": true,
           "gridcolor": "white",
           "linecolor": "white",
           "ticks": "",
           "title": {
            "standoff": 15
           },
           "zerolinecolor": "white",
           "zerolinewidth": 2
          }
         }
        },
        "title": {
         "font": {
          "color": "#4D5663"
         }
        },
        "xaxis": {
         "gridcolor": "#E1E5ED",
         "showgrid": true,
         "tickfont": {
          "color": "#4D5663"
         },
         "title": {
          "font": {
           "color": "#4D5663"
          },
          "text": ""
         },
         "zerolinecolor": "#E1E5ED"
        },
        "yaxis": {
         "gridcolor": "#E1E5ED",
         "showgrid": true,
         "tickfont": {
          "color": "#4D5663"
         },
         "title": {
          "font": {
           "color": "#4D5663"
          },
          "text": ""
         },
         "zerolinecolor": "#E1E5ED"
        }
       }
      },
      "text/html": [
       "<div>                            <div id=\"ab90cb2d-cf27-4e0d-8b7f-86040da91938\" class=\"plotly-graph-div\" style=\"height:525px; width:100%;\"></div>            <script type=\"text/javascript\">                require([\"plotly\"], function(Plotly) {                    window.PLOTLYENV=window.PLOTLYENV || {};\n",
       "                    window.PLOTLYENV.BASE_URL='https://plot.ly';                                    if (document.getElementById(\"ab90cb2d-cf27-4e0d-8b7f-86040da91938\")) {                    Plotly.newPlot(                        \"ab90cb2d-cf27-4e0d-8b7f-86040da91938\",                        [{\"colorscale\":[[0.0,\"rgb(255,255,229)\"],[0.125,\"rgb(255,247,188)\"],[0.25,\"rgb(254,227,145)\"],[0.375,\"rgb(254,196,79)\"],[0.5,\"rgb(254,153,41)\"],[0.625,\"rgb(236,112,20)\"],[0.75,\"rgb(204,76,2)\"],[0.875,\"rgb(153,52,4)\"],[1.0,\"rgb(102,37,6)\"]],\"x\":[0,1,2,3,4],\"y\":[\"x\",\"y\",\"z\"],\"z\":[[1,2,3,4,5],[10,20,30,20,10],[5,4,3,2,1]],\"type\":\"surface\"}],                        {\"legend\":{\"bgcolor\":\"#F5F6F9\",\"font\":{\"color\":\"#4D5663\"}},\"paper_bgcolor\":\"#F5F6F9\",\"plot_bgcolor\":\"#F5F6F9\",\"template\":{\"data\":{\"barpolar\":[{\"marker\":{\"line\":{\"color\":\"#E5ECF6\",\"width\":0.5},\"pattern\":{\"fillmode\":\"overlay\",\"size\":10,\"solidity\":0.2}},\"type\":\"barpolar\"}],\"bar\":[{\"error_x\":{\"color\":\"#2a3f5f\"},\"error_y\":{\"color\":\"#2a3f5f\"},\"marker\":{\"line\":{\"color\":\"#E5ECF6\",\"width\":0.5},\"pattern\":{\"fillmode\":\"overlay\",\"size\":10,\"solidity\":0.2}},\"type\":\"bar\"}],\"carpet\":[{\"aaxis\":{\"endlinecolor\":\"#2a3f5f\",\"gridcolor\":\"white\",\"linecolor\":\"white\",\"minorgridcolor\":\"white\",\"startlinecolor\":\"#2a3f5f\"},\"baxis\":{\"endlinecolor\":\"#2a3f5f\",\"gridcolor\":\"white\",\"linecolor\":\"white\",\"minorgridcolor\":\"white\",\"startlinecolor\":\"#2a3f5f\"},\"type\":\"carpet\"}],\"choropleth\":[{\"colorbar\":{\"outlinewidth\":0,\"ticks\":\"\"},\"type\":\"choropleth\"}],\"contourcarpet\":[{\"colorbar\":{\"outlinewidth\":0,\"ticks\":\"\"},\"type\":\"contourcarpet\"}],\"contour\":[{\"colorbar\":{\"outlinewidth\":0,\"ticks\":\"\"},\"colorscale\":[[0.0,\"#0d0887\"],[0.1111111111111111,\"#46039f\"],[0.2222222222222222,\"#7201a8\"],[0.3333333333333333,\"#9c179e\"],[0.4444444444444444,\"#bd3786\"],[0.5555555555555556,\"#d8576b\"],[0.6666666666666666,\"#ed7953\"],[0.7777777777777778,\"#fb9f3a\"],[0.8888888888888888,\"#fdca26\"],[1.0,\"#f0f921\"]],\"type\":\"contour\"}],\"heatmapgl\":[{\"colorbar\":{\"outlinewidth\":0,\"ticks\":\"\"},\"colorscale\":[[0.0,\"#0d0887\"],[0.1111111111111111,\"#46039f\"],[0.2222222222222222,\"#7201a8\"],[0.3333333333333333,\"#9c179e\"],[0.4444444444444444,\"#bd3786\"],[0.5555555555555556,\"#d8576b\"],[0.6666666666666666,\"#ed7953\"],[0.7777777777777778,\"#fb9f3a\"],[0.8888888888888888,\"#fdca26\"],[1.0,\"#f0f921\"]],\"type\":\"heatmapgl\"}],\"heatmap\":[{\"colorbar\":{\"outlinewidth\":0,\"ticks\":\"\"},\"colorscale\":[[0.0,\"#0d0887\"],[0.1111111111111111,\"#46039f\"],[0.2222222222222222,\"#7201a8\"],[0.3333333333333333,\"#9c179e\"],[0.4444444444444444,\"#bd3786\"],[0.5555555555555556,\"#d8576b\"],[0.6666666666666666,\"#ed7953\"],[0.7777777777777778,\"#fb9f3a\"],[0.8888888888888888,\"#fdca26\"],[1.0,\"#f0f921\"]],\"type\":\"heatmap\"}],\"histogram2dcontour\":[{\"colorbar\":{\"outlinewidth\":0,\"ticks\":\"\"},\"colorscale\":[[0.0,\"#0d0887\"],[0.1111111111111111,\"#46039f\"],[0.2222222222222222,\"#7201a8\"],[0.3333333333333333,\"#9c179e\"],[0.4444444444444444,\"#bd3786\"],[0.5555555555555556,\"#d8576b\"],[0.6666666666666666,\"#ed7953\"],[0.7777777777777778,\"#fb9f3a\"],[0.8888888888888888,\"#fdca26\"],[1.0,\"#f0f921\"]],\"type\":\"histogram2dcontour\"}],\"histogram2d\":[{\"colorbar\":{\"outlinewidth\":0,\"ticks\":\"\"},\"colorscale\":[[0.0,\"#0d0887\"],[0.1111111111111111,\"#46039f\"],[0.2222222222222222,\"#7201a8\"],[0.3333333333333333,\"#9c179e\"],[0.4444444444444444,\"#bd3786\"],[0.5555555555555556,\"#d8576b\"],[0.6666666666666666,\"#ed7953\"],[0.7777777777777778,\"#fb9f3a\"],[0.8888888888888888,\"#fdca26\"],[1.0,\"#f0f921\"]],\"type\":\"histogram2d\"}],\"histogram\":[{\"marker\":{\"pattern\":{\"fillmode\":\"overlay\",\"size\":10,\"solidity\":0.2}},\"type\":\"histogram\"}],\"mesh3d\":[{\"colorbar\":{\"outlinewidth\":0,\"ticks\":\"\"},\"type\":\"mesh3d\"}],\"parcoords\":[{\"line\":{\"colorbar\":{\"outlinewidth\":0,\"ticks\":\"\"}},\"type\":\"parcoords\"}],\"pie\":[{\"automargin\":true,\"type\":\"pie\"}],\"scatter3d\":[{\"line\":{\"colorbar\":{\"outlinewidth\":0,\"ticks\":\"\"}},\"marker\":{\"colorbar\":{\"outlinewidth\":0,\"ticks\":\"\"}},\"type\":\"scatter3d\"}],\"scattercarpet\":[{\"marker\":{\"colorbar\":{\"outlinewidth\":0,\"ticks\":\"\"}},\"type\":\"scattercarpet\"}],\"scattergeo\":[{\"marker\":{\"colorbar\":{\"outlinewidth\":0,\"ticks\":\"\"}},\"type\":\"scattergeo\"}],\"scattergl\":[{\"marker\":{\"colorbar\":{\"outlinewidth\":0,\"ticks\":\"\"}},\"type\":\"scattergl\"}],\"scattermapbox\":[{\"marker\":{\"colorbar\":{\"outlinewidth\":0,\"ticks\":\"\"}},\"type\":\"scattermapbox\"}],\"scatterpolargl\":[{\"marker\":{\"colorbar\":{\"outlinewidth\":0,\"ticks\":\"\"}},\"type\":\"scatterpolargl\"}],\"scatterpolar\":[{\"marker\":{\"colorbar\":{\"outlinewidth\":0,\"ticks\":\"\"}},\"type\":\"scatterpolar\"}],\"scatter\":[{\"fillpattern\":{\"fillmode\":\"overlay\",\"size\":10,\"solidity\":0.2},\"type\":\"scatter\"}],\"scatterternary\":[{\"marker\":{\"colorbar\":{\"outlinewidth\":0,\"ticks\":\"\"}},\"type\":\"scatterternary\"}],\"surface\":[{\"colorbar\":{\"outlinewidth\":0,\"ticks\":\"\"},\"colorscale\":[[0.0,\"#0d0887\"],[0.1111111111111111,\"#46039f\"],[0.2222222222222222,\"#7201a8\"],[0.3333333333333333,\"#9c179e\"],[0.4444444444444444,\"#bd3786\"],[0.5555555555555556,\"#d8576b\"],[0.6666666666666666,\"#ed7953\"],[0.7777777777777778,\"#fb9f3a\"],[0.8888888888888888,\"#fdca26\"],[1.0,\"#f0f921\"]],\"type\":\"surface\"}],\"table\":[{\"cells\":{\"fill\":{\"color\":\"#EBF0F8\"},\"line\":{\"color\":\"white\"}},\"header\":{\"fill\":{\"color\":\"#C8D4E3\"},\"line\":{\"color\":\"white\"}},\"type\":\"table\"}]},\"layout\":{\"annotationdefaults\":{\"arrowcolor\":\"#2a3f5f\",\"arrowhead\":0,\"arrowwidth\":1},\"autotypenumbers\":\"strict\",\"coloraxis\":{\"colorbar\":{\"outlinewidth\":0,\"ticks\":\"\"}},\"colorscale\":{\"diverging\":[[0,\"#8e0152\"],[0.1,\"#c51b7d\"],[0.2,\"#de77ae\"],[0.3,\"#f1b6da\"],[0.4,\"#fde0ef\"],[0.5,\"#f7f7f7\"],[0.6,\"#e6f5d0\"],[0.7,\"#b8e186\"],[0.8,\"#7fbc41\"],[0.9,\"#4d9221\"],[1,\"#276419\"]],\"sequential\":[[0.0,\"#0d0887\"],[0.1111111111111111,\"#46039f\"],[0.2222222222222222,\"#7201a8\"],[0.3333333333333333,\"#9c179e\"],[0.4444444444444444,\"#bd3786\"],[0.5555555555555556,\"#d8576b\"],[0.6666666666666666,\"#ed7953\"],[0.7777777777777778,\"#fb9f3a\"],[0.8888888888888888,\"#fdca26\"],[1.0,\"#f0f921\"]],\"sequentialminus\":[[0.0,\"#0d0887\"],[0.1111111111111111,\"#46039f\"],[0.2222222222222222,\"#7201a8\"],[0.3333333333333333,\"#9c179e\"],[0.4444444444444444,\"#bd3786\"],[0.5555555555555556,\"#d8576b\"],[0.6666666666666666,\"#ed7953\"],[0.7777777777777778,\"#fb9f3a\"],[0.8888888888888888,\"#fdca26\"],[1.0,\"#f0f921\"]]},\"colorway\":[\"#636efa\",\"#EF553B\",\"#00cc96\",\"#ab63fa\",\"#FFA15A\",\"#19d3f3\",\"#FF6692\",\"#B6E880\",\"#FF97FF\",\"#FECB52\"],\"font\":{\"color\":\"#2a3f5f\"},\"geo\":{\"bgcolor\":\"white\",\"lakecolor\":\"white\",\"landcolor\":\"#E5ECF6\",\"showlakes\":true,\"showland\":true,\"subunitcolor\":\"white\"},\"hoverlabel\":{\"align\":\"left\"},\"hovermode\":\"closest\",\"mapbox\":{\"style\":\"light\"},\"paper_bgcolor\":\"white\",\"plot_bgcolor\":\"#E5ECF6\",\"polar\":{\"angularaxis\":{\"gridcolor\":\"white\",\"linecolor\":\"white\",\"ticks\":\"\"},\"bgcolor\":\"#E5ECF6\",\"radialaxis\":{\"gridcolor\":\"white\",\"linecolor\":\"white\",\"ticks\":\"\"}},\"scene\":{\"xaxis\":{\"backgroundcolor\":\"#E5ECF6\",\"gridcolor\":\"white\",\"gridwidth\":2,\"linecolor\":\"white\",\"showbackground\":true,\"ticks\":\"\",\"zerolinecolor\":\"white\"},\"yaxis\":{\"backgroundcolor\":\"#E5ECF6\",\"gridcolor\":\"white\",\"gridwidth\":2,\"linecolor\":\"white\",\"showbackground\":true,\"ticks\":\"\",\"zerolinecolor\":\"white\"},\"zaxis\":{\"backgroundcolor\":\"#E5ECF6\",\"gridcolor\":\"white\",\"gridwidth\":2,\"linecolor\":\"white\",\"showbackground\":true,\"ticks\":\"\",\"zerolinecolor\":\"white\"}},\"shapedefaults\":{\"line\":{\"color\":\"#2a3f5f\"}},\"ternary\":{\"aaxis\":{\"gridcolor\":\"white\",\"linecolor\":\"white\",\"ticks\":\"\"},\"baxis\":{\"gridcolor\":\"white\",\"linecolor\":\"white\",\"ticks\":\"\"},\"bgcolor\":\"#E5ECF6\",\"caxis\":{\"gridcolor\":\"white\",\"linecolor\":\"white\",\"ticks\":\"\"}},\"title\":{\"x\":0.05},\"xaxis\":{\"automargin\":true,\"gridcolor\":\"white\",\"linecolor\":\"white\",\"ticks\":\"\",\"title\":{\"standoff\":15},\"zerolinecolor\":\"white\",\"zerolinewidth\":2},\"yaxis\":{\"automargin\":true,\"gridcolor\":\"white\",\"linecolor\":\"white\",\"ticks\":\"\",\"title\":{\"standoff\":15},\"zerolinecolor\":\"white\",\"zerolinewidth\":2}}},\"title\":{\"font\":{\"color\":\"#4D5663\"}},\"xaxis\":{\"gridcolor\":\"#E1E5ED\",\"showgrid\":true,\"tickfont\":{\"color\":\"#4D5663\"},\"title\":{\"font\":{\"color\":\"#4D5663\"},\"text\":\"\"},\"zerolinecolor\":\"#E1E5ED\"},\"yaxis\":{\"gridcolor\":\"#E1E5ED\",\"showgrid\":true,\"tickfont\":{\"color\":\"#4D5663\"},\"title\":{\"font\":{\"color\":\"#4D5663\"},\"text\":\"\"},\"zerolinecolor\":\"#E1E5ED\"}},                        {\"showLink\": true, \"linkText\": \"Export to plot.ly\", \"plotlyServerURL\": \"https://plot.ly\", \"responsive\": true}                    ).then(function(){\n",
       "                            \n",
       "var gd = document.getElementById('ab90cb2d-cf27-4e0d-8b7f-86040da91938');\n",
       "var x = new MutationObserver(function (mutations, observer) {{\n",
       "        var display = window.getComputedStyle(gd).display;\n",
       "        if (!display || display === 'none') {{\n",
       "            console.log([gd, 'removed!']);\n",
       "            Plotly.purge(gd);\n",
       "            observer.disconnect();\n",
       "        }}\n",
       "}});\n",
       "\n",
       "// Listen for the removal of the full notebook cells\n",
       "var notebookContainer = gd.closest('#notebook-container');\n",
       "if (notebookContainer) {{\n",
       "    x.observe(notebookContainer, {childList: true});\n",
       "}}\n",
       "\n",
       "// Listen for the clearing of the current output cell\n",
       "var outputEl = gd.closest('.output');\n",
       "if (outputEl) {{\n",
       "    x.observe(outputEl, {childList: true});\n",
       "}}\n",
       "\n",
       "                        })                };                });            </script>        </div>"
      ]
     },
     "metadata": {},
     "output_type": "display_data"
    }
   ],
   "source": [
    "df3.iplot(kind='surface',colorscale='ylorbr')"
   ]
  },
  {
   "cell_type": "code",
   "execution_count": 39,
   "id": "185415d2",
   "metadata": {},
   "outputs": [
    {
     "data": {
      "application/vnd.plotly.v1+json": {
       "config": {
        "linkText": "Export to plot.ly",
        "plotlyServerURL": "https://plot.ly",
        "showLink": true
       },
       "data": [
        {
         "histfunc": "count",
         "histnorm": "",
         "marker": {
          "color": "rgba(255, 153, 51, 1.0)",
          "line": {
           "color": "#4D5663",
           "width": 1.3
          }
         },
         "name": "A",
         "nbinsx": 25,
         "opacity": 0.8,
         "orientation": "v",
         "type": "histogram",
         "x": [
          -0.23833749478084632,
          0.6501994394768832,
          0.69240112895364,
          1.5320970914057563,
          1.5143536412100664,
          0.9091328451299554,
          0.5633932306807066,
          -0.6957450025151292,
          -0.3293951092999953,
          0.07112715282153531,
          1.3871289338711221,
          -0.30275030951868354,
          0.4325520012397575,
          0.3557928642971695,
          -0.14842497025923618,
          0.5618247664499927,
          0.05994346882977397,
          -1.4735100631741256,
          -0.08917911520644622,
          1.7363207791384538,
          -0.14329310593151515,
          0.15611611177600046,
          0.5406570368378665,
          -0.9957010147824803,
          1.387177334594978,
          0.1310498324631058,
          -0.22314038016345794,
          0.08879164066410501,
          -0.8810051288147794,
          -0.9770286284628511,
          -0.6715971578254221,
          1.3002560139455641,
          2.321624410335273,
          -0.15289584456586722,
          -0.6972843987992097,
          0.5931203866351997,
          0.9130042417329262,
          -0.3295338415521216,
          -1.3016776038004398,
          1.960484862694741,
          2.2802574608931754,
          -1.55531604820331,
          -0.4757202431700581,
          1.4373273727690996,
          -1.0070240274826834,
          1.2629202246100506,
          0.12856968538899607,
          -1.1243817895047012,
          0.04653002549161323,
          0.4369480939055736,
          0.2693438575066526,
          1.8038758704998965,
          0.1029603524630663,
          1.6081370990783066,
          -0.1378580105992773,
          0.5793942859228219,
          -0.14858741009587503,
          -0.19768016506777614,
          1.048015998868027,
          0.630830200972105,
          -1.5016688943855903,
          -0.42725460179513036,
          0.6632276199073781,
          0.03905584833789047,
          1.7065901060137059,
          -1.1400524905628655,
          0.4061750213104448,
          -0.3410890234644094,
          0.528994584107765,
          -0.44653772676211606,
          1.0273411655950548,
          -0.7616521517056599,
          -0.2990750926136947,
          0.7438791605337584,
          -0.6864816773203487,
          0.29972132855314054,
          0.0635865919701606,
          1.1160715054732728,
          0.23893414638922392,
          -3.0791028296082588,
          0.5628299582121862,
          1.3428877260800716,
          0.16002233058937887,
          -1.908974501388095,
          -1.063113689959441,
          -1.6701307613421852,
          0.6415131291626535,
          -1.4708631052358239,
          0.4542836706219212,
          -0.1803329649366861,
          2.3448185248734807,
          -0.42455083915233127,
          1.3596741223109698,
          -0.6387336708337593,
          -1.199901298038498,
          -0.46670532426178835,
          -1.9657923377437196,
          -2.5721533669425205,
          1.255546642935715,
          0.12504483924872897
         ]
        }
       ],
       "layout": {
        "barmode": "overlay",
        "legend": {
         "bgcolor": "#F5F6F9",
         "font": {
          "color": "#4D5663"
         }
        },
        "paper_bgcolor": "#F5F6F9",
        "plot_bgcolor": "#F5F6F9",
        "template": {
         "data": {
          "bar": [
           {
            "error_x": {
             "color": "#2a3f5f"
            },
            "error_y": {
             "color": "#2a3f5f"
            },
            "marker": {
             "line": {
              "color": "#E5ECF6",
              "width": 0.5
             },
             "pattern": {
              "fillmode": "overlay",
              "size": 10,
              "solidity": 0.2
             }
            },
            "type": "bar"
           }
          ],
          "barpolar": [
           {
            "marker": {
             "line": {
              "color": "#E5ECF6",
              "width": 0.5
             },
             "pattern": {
              "fillmode": "overlay",
              "size": 10,
              "solidity": 0.2
             }
            },
            "type": "barpolar"
           }
          ],
          "carpet": [
           {
            "aaxis": {
             "endlinecolor": "#2a3f5f",
             "gridcolor": "white",
             "linecolor": "white",
             "minorgridcolor": "white",
             "startlinecolor": "#2a3f5f"
            },
            "baxis": {
             "endlinecolor": "#2a3f5f",
             "gridcolor": "white",
             "linecolor": "white",
             "minorgridcolor": "white",
             "startlinecolor": "#2a3f5f"
            },
            "type": "carpet"
           }
          ],
          "choropleth": [
           {
            "colorbar": {
             "outlinewidth": 0,
             "ticks": ""
            },
            "type": "choropleth"
           }
          ],
          "contour": [
           {
            "colorbar": {
             "outlinewidth": 0,
             "ticks": ""
            },
            "colorscale": [
             [
              0,
              "#0d0887"
             ],
             [
              0.1111111111111111,
              "#46039f"
             ],
             [
              0.2222222222222222,
              "#7201a8"
             ],
             [
              0.3333333333333333,
              "#9c179e"
             ],
             [
              0.4444444444444444,
              "#bd3786"
             ],
             [
              0.5555555555555556,
              "#d8576b"
             ],
             [
              0.6666666666666666,
              "#ed7953"
             ],
             [
              0.7777777777777778,
              "#fb9f3a"
             ],
             [
              0.8888888888888888,
              "#fdca26"
             ],
             [
              1,
              "#f0f921"
             ]
            ],
            "type": "contour"
           }
          ],
          "contourcarpet": [
           {
            "colorbar": {
             "outlinewidth": 0,
             "ticks": ""
            },
            "type": "contourcarpet"
           }
          ],
          "heatmap": [
           {
            "colorbar": {
             "outlinewidth": 0,
             "ticks": ""
            },
            "colorscale": [
             [
              0,
              "#0d0887"
             ],
             [
              0.1111111111111111,
              "#46039f"
             ],
             [
              0.2222222222222222,
              "#7201a8"
             ],
             [
              0.3333333333333333,
              "#9c179e"
             ],
             [
              0.4444444444444444,
              "#bd3786"
             ],
             [
              0.5555555555555556,
              "#d8576b"
             ],
             [
              0.6666666666666666,
              "#ed7953"
             ],
             [
              0.7777777777777778,
              "#fb9f3a"
             ],
             [
              0.8888888888888888,
              "#fdca26"
             ],
             [
              1,
              "#f0f921"
             ]
            ],
            "type": "heatmap"
           }
          ],
          "heatmapgl": [
           {
            "colorbar": {
             "outlinewidth": 0,
             "ticks": ""
            },
            "colorscale": [
             [
              0,
              "#0d0887"
             ],
             [
              0.1111111111111111,
              "#46039f"
             ],
             [
              0.2222222222222222,
              "#7201a8"
             ],
             [
              0.3333333333333333,
              "#9c179e"
             ],
             [
              0.4444444444444444,
              "#bd3786"
             ],
             [
              0.5555555555555556,
              "#d8576b"
             ],
             [
              0.6666666666666666,
              "#ed7953"
             ],
             [
              0.7777777777777778,
              "#fb9f3a"
             ],
             [
              0.8888888888888888,
              "#fdca26"
             ],
             [
              1,
              "#f0f921"
             ]
            ],
            "type": "heatmapgl"
           }
          ],
          "histogram": [
           {
            "marker": {
             "pattern": {
              "fillmode": "overlay",
              "size": 10,
              "solidity": 0.2
             }
            },
            "type": "histogram"
           }
          ],
          "histogram2d": [
           {
            "colorbar": {
             "outlinewidth": 0,
             "ticks": ""
            },
            "colorscale": [
             [
              0,
              "#0d0887"
             ],
             [
              0.1111111111111111,
              "#46039f"
             ],
             [
              0.2222222222222222,
              "#7201a8"
             ],
             [
              0.3333333333333333,
              "#9c179e"
             ],
             [
              0.4444444444444444,
              "#bd3786"
             ],
             [
              0.5555555555555556,
              "#d8576b"
             ],
             [
              0.6666666666666666,
              "#ed7953"
             ],
             [
              0.7777777777777778,
              "#fb9f3a"
             ],
             [
              0.8888888888888888,
              "#fdca26"
             ],
             [
              1,
              "#f0f921"
             ]
            ],
            "type": "histogram2d"
           }
          ],
          "histogram2dcontour": [
           {
            "colorbar": {
             "outlinewidth": 0,
             "ticks": ""
            },
            "colorscale": [
             [
              0,
              "#0d0887"
             ],
             [
              0.1111111111111111,
              "#46039f"
             ],
             [
              0.2222222222222222,
              "#7201a8"
             ],
             [
              0.3333333333333333,
              "#9c179e"
             ],
             [
              0.4444444444444444,
              "#bd3786"
             ],
             [
              0.5555555555555556,
              "#d8576b"
             ],
             [
              0.6666666666666666,
              "#ed7953"
             ],
             [
              0.7777777777777778,
              "#fb9f3a"
             ],
             [
              0.8888888888888888,
              "#fdca26"
             ],
             [
              1,
              "#f0f921"
             ]
            ],
            "type": "histogram2dcontour"
           }
          ],
          "mesh3d": [
           {
            "colorbar": {
             "outlinewidth": 0,
             "ticks": ""
            },
            "type": "mesh3d"
           }
          ],
          "parcoords": [
           {
            "line": {
             "colorbar": {
              "outlinewidth": 0,
              "ticks": ""
             }
            },
            "type": "parcoords"
           }
          ],
          "pie": [
           {
            "automargin": true,
            "type": "pie"
           }
          ],
          "scatter": [
           {
            "fillpattern": {
             "fillmode": "overlay",
             "size": 10,
             "solidity": 0.2
            },
            "type": "scatter"
           }
          ],
          "scatter3d": [
           {
            "line": {
             "colorbar": {
              "outlinewidth": 0,
              "ticks": ""
             }
            },
            "marker": {
             "colorbar": {
              "outlinewidth": 0,
              "ticks": ""
             }
            },
            "type": "scatter3d"
           }
          ],
          "scattercarpet": [
           {
            "marker": {
             "colorbar": {
              "outlinewidth": 0,
              "ticks": ""
             }
            },
            "type": "scattercarpet"
           }
          ],
          "scattergeo": [
           {
            "marker": {
             "colorbar": {
              "outlinewidth": 0,
              "ticks": ""
             }
            },
            "type": "scattergeo"
           }
          ],
          "scattergl": [
           {
            "marker": {
             "colorbar": {
              "outlinewidth": 0,
              "ticks": ""
             }
            },
            "type": "scattergl"
           }
          ],
          "scattermapbox": [
           {
            "marker": {
             "colorbar": {
              "outlinewidth": 0,
              "ticks": ""
             }
            },
            "type": "scattermapbox"
           }
          ],
          "scatterpolar": [
           {
            "marker": {
             "colorbar": {
              "outlinewidth": 0,
              "ticks": ""
             }
            },
            "type": "scatterpolar"
           }
          ],
          "scatterpolargl": [
           {
            "marker": {
             "colorbar": {
              "outlinewidth": 0,
              "ticks": ""
             }
            },
            "type": "scatterpolargl"
           }
          ],
          "scatterternary": [
           {
            "marker": {
             "colorbar": {
              "outlinewidth": 0,
              "ticks": ""
             }
            },
            "type": "scatterternary"
           }
          ],
          "surface": [
           {
            "colorbar": {
             "outlinewidth": 0,
             "ticks": ""
            },
            "colorscale": [
             [
              0,
              "#0d0887"
             ],
             [
              0.1111111111111111,
              "#46039f"
             ],
             [
              0.2222222222222222,
              "#7201a8"
             ],
             [
              0.3333333333333333,
              "#9c179e"
             ],
             [
              0.4444444444444444,
              "#bd3786"
             ],
             [
              0.5555555555555556,
              "#d8576b"
             ],
             [
              0.6666666666666666,
              "#ed7953"
             ],
             [
              0.7777777777777778,
              "#fb9f3a"
             ],
             [
              0.8888888888888888,
              "#fdca26"
             ],
             [
              1,
              "#f0f921"
             ]
            ],
            "type": "surface"
           }
          ],
          "table": [
           {
            "cells": {
             "fill": {
              "color": "#EBF0F8"
             },
             "line": {
              "color": "white"
             }
            },
            "header": {
             "fill": {
              "color": "#C8D4E3"
             },
             "line": {
              "color": "white"
             }
            },
            "type": "table"
           }
          ]
         },
         "layout": {
          "annotationdefaults": {
           "arrowcolor": "#2a3f5f",
           "arrowhead": 0,
           "arrowwidth": 1
          },
          "autotypenumbers": "strict",
          "coloraxis": {
           "colorbar": {
            "outlinewidth": 0,
            "ticks": ""
           }
          },
          "colorscale": {
           "diverging": [
            [
             0,
             "#8e0152"
            ],
            [
             0.1,
             "#c51b7d"
            ],
            [
             0.2,
             "#de77ae"
            ],
            [
             0.3,
             "#f1b6da"
            ],
            [
             0.4,
             "#fde0ef"
            ],
            [
             0.5,
             "#f7f7f7"
            ],
            [
             0.6,
             "#e6f5d0"
            ],
            [
             0.7,
             "#b8e186"
            ],
            [
             0.8,
             "#7fbc41"
            ],
            [
             0.9,
             "#4d9221"
            ],
            [
             1,
             "#276419"
            ]
           ],
           "sequential": [
            [
             0,
             "#0d0887"
            ],
            [
             0.1111111111111111,
             "#46039f"
            ],
            [
             0.2222222222222222,
             "#7201a8"
            ],
            [
             0.3333333333333333,
             "#9c179e"
            ],
            [
             0.4444444444444444,
             "#bd3786"
            ],
            [
             0.5555555555555556,
             "#d8576b"
            ],
            [
             0.6666666666666666,
             "#ed7953"
            ],
            [
             0.7777777777777778,
             "#fb9f3a"
            ],
            [
             0.8888888888888888,
             "#fdca26"
            ],
            [
             1,
             "#f0f921"
            ]
           ],
           "sequentialminus": [
            [
             0,
             "#0d0887"
            ],
            [
             0.1111111111111111,
             "#46039f"
            ],
            [
             0.2222222222222222,
             "#7201a8"
            ],
            [
             0.3333333333333333,
             "#9c179e"
            ],
            [
             0.4444444444444444,
             "#bd3786"
            ],
            [
             0.5555555555555556,
             "#d8576b"
            ],
            [
             0.6666666666666666,
             "#ed7953"
            ],
            [
             0.7777777777777778,
             "#fb9f3a"
            ],
            [
             0.8888888888888888,
             "#fdca26"
            ],
            [
             1,
             "#f0f921"
            ]
           ]
          },
          "colorway": [
           "#636efa",
           "#EF553B",
           "#00cc96",
           "#ab63fa",
           "#FFA15A",
           "#19d3f3",
           "#FF6692",
           "#B6E880",
           "#FF97FF",
           "#FECB52"
          ],
          "font": {
           "color": "#2a3f5f"
          },
          "geo": {
           "bgcolor": "white",
           "lakecolor": "white",
           "landcolor": "#E5ECF6",
           "showlakes": true,
           "showland": true,
           "subunitcolor": "white"
          },
          "hoverlabel": {
           "align": "left"
          },
          "hovermode": "closest",
          "mapbox": {
           "style": "light"
          },
          "paper_bgcolor": "white",
          "plot_bgcolor": "#E5ECF6",
          "polar": {
           "angularaxis": {
            "gridcolor": "white",
            "linecolor": "white",
            "ticks": ""
           },
           "bgcolor": "#E5ECF6",
           "radialaxis": {
            "gridcolor": "white",
            "linecolor": "white",
            "ticks": ""
           }
          },
          "scene": {
           "xaxis": {
            "backgroundcolor": "#E5ECF6",
            "gridcolor": "white",
            "gridwidth": 2,
            "linecolor": "white",
            "showbackground": true,
            "ticks": "",
            "zerolinecolor": "white"
           },
           "yaxis": {
            "backgroundcolor": "#E5ECF6",
            "gridcolor": "white",
            "gridwidth": 2,
            "linecolor": "white",
            "showbackground": true,
            "ticks": "",
            "zerolinecolor": "white"
           },
           "zaxis": {
            "backgroundcolor": "#E5ECF6",
            "gridcolor": "white",
            "gridwidth": 2,
            "linecolor": "white",
            "showbackground": true,
            "ticks": "",
            "zerolinecolor": "white"
           }
          },
          "shapedefaults": {
           "line": {
            "color": "#2a3f5f"
           }
          },
          "ternary": {
           "aaxis": {
            "gridcolor": "white",
            "linecolor": "white",
            "ticks": ""
           },
           "baxis": {
            "gridcolor": "white",
            "linecolor": "white",
            "ticks": ""
           },
           "bgcolor": "#E5ECF6",
           "caxis": {
            "gridcolor": "white",
            "linecolor": "white",
            "ticks": ""
           }
          },
          "title": {
           "x": 0.05
          },
          "xaxis": {
           "automargin": true,
           "gridcolor": "white",
           "linecolor": "white",
           "ticks": "",
           "title": {
            "standoff": 15
           },
           "zerolinecolor": "white",
           "zerolinewidth": 2
          },
          "yaxis": {
           "automargin": true,
           "gridcolor": "white",
           "linecolor": "white",
           "ticks": "",
           "title": {
            "standoff": 15
           },
           "zerolinecolor": "white",
           "zerolinewidth": 2
          }
         }
        },
        "title": {
         "font": {
          "color": "#4D5663"
         }
        },
        "xaxis": {
         "gridcolor": "#E1E5ED",
         "showgrid": true,
         "tickfont": {
          "color": "#4D5663"
         },
         "title": {
          "font": {
           "color": "#4D5663"
          },
          "text": ""
         },
         "zerolinecolor": "#E1E5ED"
        },
        "yaxis": {
         "gridcolor": "#E1E5ED",
         "showgrid": true,
         "tickfont": {
          "color": "#4D5663"
         },
         "title": {
          "font": {
           "color": "#4D5663"
          },
          "text": ""
         },
         "zerolinecolor": "#E1E5ED"
        }
       }
      },
      "text/html": [
       "<div>                            <div id=\"9f3ae168-f697-47ae-a673-cd62a9340e05\" class=\"plotly-graph-div\" style=\"height:525px; width:100%;\"></div>            <script type=\"text/javascript\">                require([\"plotly\"], function(Plotly) {                    window.PLOTLYENV=window.PLOTLYENV || {};\n",
       "                    window.PLOTLYENV.BASE_URL='https://plot.ly';                                    if (document.getElementById(\"9f3ae168-f697-47ae-a673-cd62a9340e05\")) {                    Plotly.newPlot(                        \"9f3ae168-f697-47ae-a673-cd62a9340e05\",                        [{\"histfunc\":\"count\",\"histnorm\":\"\",\"marker\":{\"color\":\"rgba(255, 153, 51, 1.0)\",\"line\":{\"color\":\"#4D5663\",\"width\":1.3}},\"name\":\"A\",\"nbinsx\":25,\"opacity\":0.8,\"orientation\":\"v\",\"x\":[-0.23833749478084632,0.6501994394768832,0.69240112895364,1.5320970914057563,1.5143536412100664,0.9091328451299554,0.5633932306807066,-0.6957450025151292,-0.3293951092999953,0.07112715282153531,1.3871289338711221,-0.30275030951868354,0.4325520012397575,0.3557928642971695,-0.14842497025923618,0.5618247664499927,0.05994346882977397,-1.4735100631741256,-0.08917911520644622,1.7363207791384538,-0.14329310593151515,0.15611611177600046,0.5406570368378665,-0.9957010147824803,1.387177334594978,0.1310498324631058,-0.22314038016345794,0.08879164066410501,-0.8810051288147794,-0.9770286284628511,-0.6715971578254221,1.3002560139455641,2.321624410335273,-0.15289584456586722,-0.6972843987992097,0.5931203866351997,0.9130042417329262,-0.3295338415521216,-1.3016776038004398,1.960484862694741,2.2802574608931754,-1.55531604820331,-0.4757202431700581,1.4373273727690996,-1.0070240274826834,1.2629202246100506,0.12856968538899607,-1.1243817895047012,0.04653002549161323,0.4369480939055736,0.2693438575066526,1.8038758704998965,0.1029603524630663,1.6081370990783066,-0.1378580105992773,0.5793942859228219,-0.14858741009587503,-0.19768016506777614,1.048015998868027,0.630830200972105,-1.5016688943855903,-0.42725460179513036,0.6632276199073781,0.03905584833789047,1.7065901060137059,-1.1400524905628655,0.4061750213104448,-0.3410890234644094,0.528994584107765,-0.44653772676211606,1.0273411655950548,-0.7616521517056599,-0.2990750926136947,0.7438791605337584,-0.6864816773203487,0.29972132855314054,0.0635865919701606,1.1160715054732728,0.23893414638922392,-3.0791028296082588,0.5628299582121862,1.3428877260800716,0.16002233058937887,-1.908974501388095,-1.063113689959441,-1.6701307613421852,0.6415131291626535,-1.4708631052358239,0.4542836706219212,-0.1803329649366861,2.3448185248734807,-0.42455083915233127,1.3596741223109698,-0.6387336708337593,-1.199901298038498,-0.46670532426178835,-1.9657923377437196,-2.5721533669425205,1.255546642935715,0.12504483924872897],\"type\":\"histogram\"}],                        {\"barmode\":\"overlay\",\"legend\":{\"bgcolor\":\"#F5F6F9\",\"font\":{\"color\":\"#4D5663\"}},\"paper_bgcolor\":\"#F5F6F9\",\"plot_bgcolor\":\"#F5F6F9\",\"template\":{\"data\":{\"barpolar\":[{\"marker\":{\"line\":{\"color\":\"#E5ECF6\",\"width\":0.5},\"pattern\":{\"fillmode\":\"overlay\",\"size\":10,\"solidity\":0.2}},\"type\":\"barpolar\"}],\"bar\":[{\"error_x\":{\"color\":\"#2a3f5f\"},\"error_y\":{\"color\":\"#2a3f5f\"},\"marker\":{\"line\":{\"color\":\"#E5ECF6\",\"width\":0.5},\"pattern\":{\"fillmode\":\"overlay\",\"size\":10,\"solidity\":0.2}},\"type\":\"bar\"}],\"carpet\":[{\"aaxis\":{\"endlinecolor\":\"#2a3f5f\",\"gridcolor\":\"white\",\"linecolor\":\"white\",\"minorgridcolor\":\"white\",\"startlinecolor\":\"#2a3f5f\"},\"baxis\":{\"endlinecolor\":\"#2a3f5f\",\"gridcolor\":\"white\",\"linecolor\":\"white\",\"minorgridcolor\":\"white\",\"startlinecolor\":\"#2a3f5f\"},\"type\":\"carpet\"}],\"choropleth\":[{\"colorbar\":{\"outlinewidth\":0,\"ticks\":\"\"},\"type\":\"choropleth\"}],\"contourcarpet\":[{\"colorbar\":{\"outlinewidth\":0,\"ticks\":\"\"},\"type\":\"contourcarpet\"}],\"contour\":[{\"colorbar\":{\"outlinewidth\":0,\"ticks\":\"\"},\"colorscale\":[[0.0,\"#0d0887\"],[0.1111111111111111,\"#46039f\"],[0.2222222222222222,\"#7201a8\"],[0.3333333333333333,\"#9c179e\"],[0.4444444444444444,\"#bd3786\"],[0.5555555555555556,\"#d8576b\"],[0.6666666666666666,\"#ed7953\"],[0.7777777777777778,\"#fb9f3a\"],[0.8888888888888888,\"#fdca26\"],[1.0,\"#f0f921\"]],\"type\":\"contour\"}],\"heatmapgl\":[{\"colorbar\":{\"outlinewidth\":0,\"ticks\":\"\"},\"colorscale\":[[0.0,\"#0d0887\"],[0.1111111111111111,\"#46039f\"],[0.2222222222222222,\"#7201a8\"],[0.3333333333333333,\"#9c179e\"],[0.4444444444444444,\"#bd3786\"],[0.5555555555555556,\"#d8576b\"],[0.6666666666666666,\"#ed7953\"],[0.7777777777777778,\"#fb9f3a\"],[0.8888888888888888,\"#fdca26\"],[1.0,\"#f0f921\"]],\"type\":\"heatmapgl\"}],\"heatmap\":[{\"colorbar\":{\"outlinewidth\":0,\"ticks\":\"\"},\"colorscale\":[[0.0,\"#0d0887\"],[0.1111111111111111,\"#46039f\"],[0.2222222222222222,\"#7201a8\"],[0.3333333333333333,\"#9c179e\"],[0.4444444444444444,\"#bd3786\"],[0.5555555555555556,\"#d8576b\"],[0.6666666666666666,\"#ed7953\"],[0.7777777777777778,\"#fb9f3a\"],[0.8888888888888888,\"#fdca26\"],[1.0,\"#f0f921\"]],\"type\":\"heatmap\"}],\"histogram2dcontour\":[{\"colorbar\":{\"outlinewidth\":0,\"ticks\":\"\"},\"colorscale\":[[0.0,\"#0d0887\"],[0.1111111111111111,\"#46039f\"],[0.2222222222222222,\"#7201a8\"],[0.3333333333333333,\"#9c179e\"],[0.4444444444444444,\"#bd3786\"],[0.5555555555555556,\"#d8576b\"],[0.6666666666666666,\"#ed7953\"],[0.7777777777777778,\"#fb9f3a\"],[0.8888888888888888,\"#fdca26\"],[1.0,\"#f0f921\"]],\"type\":\"histogram2dcontour\"}],\"histogram2d\":[{\"colorbar\":{\"outlinewidth\":0,\"ticks\":\"\"},\"colorscale\":[[0.0,\"#0d0887\"],[0.1111111111111111,\"#46039f\"],[0.2222222222222222,\"#7201a8\"],[0.3333333333333333,\"#9c179e\"],[0.4444444444444444,\"#bd3786\"],[0.5555555555555556,\"#d8576b\"],[0.6666666666666666,\"#ed7953\"],[0.7777777777777778,\"#fb9f3a\"],[0.8888888888888888,\"#fdca26\"],[1.0,\"#f0f921\"]],\"type\":\"histogram2d\"}],\"histogram\":[{\"marker\":{\"pattern\":{\"fillmode\":\"overlay\",\"size\":10,\"solidity\":0.2}},\"type\":\"histogram\"}],\"mesh3d\":[{\"colorbar\":{\"outlinewidth\":0,\"ticks\":\"\"},\"type\":\"mesh3d\"}],\"parcoords\":[{\"line\":{\"colorbar\":{\"outlinewidth\":0,\"ticks\":\"\"}},\"type\":\"parcoords\"}],\"pie\":[{\"automargin\":true,\"type\":\"pie\"}],\"scatter3d\":[{\"line\":{\"colorbar\":{\"outlinewidth\":0,\"ticks\":\"\"}},\"marker\":{\"colorbar\":{\"outlinewidth\":0,\"ticks\":\"\"}},\"type\":\"scatter3d\"}],\"scattercarpet\":[{\"marker\":{\"colorbar\":{\"outlinewidth\":0,\"ticks\":\"\"}},\"type\":\"scattercarpet\"}],\"scattergeo\":[{\"marker\":{\"colorbar\":{\"outlinewidth\":0,\"ticks\":\"\"}},\"type\":\"scattergeo\"}],\"scattergl\":[{\"marker\":{\"colorbar\":{\"outlinewidth\":0,\"ticks\":\"\"}},\"type\":\"scattergl\"}],\"scattermapbox\":[{\"marker\":{\"colorbar\":{\"outlinewidth\":0,\"ticks\":\"\"}},\"type\":\"scattermapbox\"}],\"scatterpolargl\":[{\"marker\":{\"colorbar\":{\"outlinewidth\":0,\"ticks\":\"\"}},\"type\":\"scatterpolargl\"}],\"scatterpolar\":[{\"marker\":{\"colorbar\":{\"outlinewidth\":0,\"ticks\":\"\"}},\"type\":\"scatterpolar\"}],\"scatter\":[{\"fillpattern\":{\"fillmode\":\"overlay\",\"size\":10,\"solidity\":0.2},\"type\":\"scatter\"}],\"scatterternary\":[{\"marker\":{\"colorbar\":{\"outlinewidth\":0,\"ticks\":\"\"}},\"type\":\"scatterternary\"}],\"surface\":[{\"colorbar\":{\"outlinewidth\":0,\"ticks\":\"\"},\"colorscale\":[[0.0,\"#0d0887\"],[0.1111111111111111,\"#46039f\"],[0.2222222222222222,\"#7201a8\"],[0.3333333333333333,\"#9c179e\"],[0.4444444444444444,\"#bd3786\"],[0.5555555555555556,\"#d8576b\"],[0.6666666666666666,\"#ed7953\"],[0.7777777777777778,\"#fb9f3a\"],[0.8888888888888888,\"#fdca26\"],[1.0,\"#f0f921\"]],\"type\":\"surface\"}],\"table\":[{\"cells\":{\"fill\":{\"color\":\"#EBF0F8\"},\"line\":{\"color\":\"white\"}},\"header\":{\"fill\":{\"color\":\"#C8D4E3\"},\"line\":{\"color\":\"white\"}},\"type\":\"table\"}]},\"layout\":{\"annotationdefaults\":{\"arrowcolor\":\"#2a3f5f\",\"arrowhead\":0,\"arrowwidth\":1},\"autotypenumbers\":\"strict\",\"coloraxis\":{\"colorbar\":{\"outlinewidth\":0,\"ticks\":\"\"}},\"colorscale\":{\"diverging\":[[0,\"#8e0152\"],[0.1,\"#c51b7d\"],[0.2,\"#de77ae\"],[0.3,\"#f1b6da\"],[0.4,\"#fde0ef\"],[0.5,\"#f7f7f7\"],[0.6,\"#e6f5d0\"],[0.7,\"#b8e186\"],[0.8,\"#7fbc41\"],[0.9,\"#4d9221\"],[1,\"#276419\"]],\"sequential\":[[0.0,\"#0d0887\"],[0.1111111111111111,\"#46039f\"],[0.2222222222222222,\"#7201a8\"],[0.3333333333333333,\"#9c179e\"],[0.4444444444444444,\"#bd3786\"],[0.5555555555555556,\"#d8576b\"],[0.6666666666666666,\"#ed7953\"],[0.7777777777777778,\"#fb9f3a\"],[0.8888888888888888,\"#fdca26\"],[1.0,\"#f0f921\"]],\"sequentialminus\":[[0.0,\"#0d0887\"],[0.1111111111111111,\"#46039f\"],[0.2222222222222222,\"#7201a8\"],[0.3333333333333333,\"#9c179e\"],[0.4444444444444444,\"#bd3786\"],[0.5555555555555556,\"#d8576b\"],[0.6666666666666666,\"#ed7953\"],[0.7777777777777778,\"#fb9f3a\"],[0.8888888888888888,\"#fdca26\"],[1.0,\"#f0f921\"]]},\"colorway\":[\"#636efa\",\"#EF553B\",\"#00cc96\",\"#ab63fa\",\"#FFA15A\",\"#19d3f3\",\"#FF6692\",\"#B6E880\",\"#FF97FF\",\"#FECB52\"],\"font\":{\"color\":\"#2a3f5f\"},\"geo\":{\"bgcolor\":\"white\",\"lakecolor\":\"white\",\"landcolor\":\"#E5ECF6\",\"showlakes\":true,\"showland\":true,\"subunitcolor\":\"white\"},\"hoverlabel\":{\"align\":\"left\"},\"hovermode\":\"closest\",\"mapbox\":{\"style\":\"light\"},\"paper_bgcolor\":\"white\",\"plot_bgcolor\":\"#E5ECF6\",\"polar\":{\"angularaxis\":{\"gridcolor\":\"white\",\"linecolor\":\"white\",\"ticks\":\"\"},\"bgcolor\":\"#E5ECF6\",\"radialaxis\":{\"gridcolor\":\"white\",\"linecolor\":\"white\",\"ticks\":\"\"}},\"scene\":{\"xaxis\":{\"backgroundcolor\":\"#E5ECF6\",\"gridcolor\":\"white\",\"gridwidth\":2,\"linecolor\":\"white\",\"showbackground\":true,\"ticks\":\"\",\"zerolinecolor\":\"white\"},\"yaxis\":{\"backgroundcolor\":\"#E5ECF6\",\"gridcolor\":\"white\",\"gridwidth\":2,\"linecolor\":\"white\",\"showbackground\":true,\"ticks\":\"\",\"zerolinecolor\":\"white\"},\"zaxis\":{\"backgroundcolor\":\"#E5ECF6\",\"gridcolor\":\"white\",\"gridwidth\":2,\"linecolor\":\"white\",\"showbackground\":true,\"ticks\":\"\",\"zerolinecolor\":\"white\"}},\"shapedefaults\":{\"line\":{\"color\":\"#2a3f5f\"}},\"ternary\":{\"aaxis\":{\"gridcolor\":\"white\",\"linecolor\":\"white\",\"ticks\":\"\"},\"baxis\":{\"gridcolor\":\"white\",\"linecolor\":\"white\",\"ticks\":\"\"},\"bgcolor\":\"#E5ECF6\",\"caxis\":{\"gridcolor\":\"white\",\"linecolor\":\"white\",\"ticks\":\"\"}},\"title\":{\"x\":0.05},\"xaxis\":{\"automargin\":true,\"gridcolor\":\"white\",\"linecolor\":\"white\",\"ticks\":\"\",\"title\":{\"standoff\":15},\"zerolinecolor\":\"white\",\"zerolinewidth\":2},\"yaxis\":{\"automargin\":true,\"gridcolor\":\"white\",\"linecolor\":\"white\",\"ticks\":\"\",\"title\":{\"standoff\":15},\"zerolinecolor\":\"white\",\"zerolinewidth\":2}}},\"title\":{\"font\":{\"color\":\"#4D5663\"}},\"xaxis\":{\"gridcolor\":\"#E1E5ED\",\"showgrid\":true,\"tickfont\":{\"color\":\"#4D5663\"},\"title\":{\"font\":{\"color\":\"#4D5663\"},\"text\":\"\"},\"zerolinecolor\":\"#E1E5ED\"},\"yaxis\":{\"gridcolor\":\"#E1E5ED\",\"showgrid\":true,\"tickfont\":{\"color\":\"#4D5663\"},\"title\":{\"font\":{\"color\":\"#4D5663\"},\"text\":\"\"},\"zerolinecolor\":\"#E1E5ED\"}},                        {\"showLink\": true, \"linkText\": \"Export to plot.ly\", \"plotlyServerURL\": \"https://plot.ly\", \"responsive\": true}                    ).then(function(){\n",
       "                            \n",
       "var gd = document.getElementById('9f3ae168-f697-47ae-a673-cd62a9340e05');\n",
       "var x = new MutationObserver(function (mutations, observer) {{\n",
       "        var display = window.getComputedStyle(gd).display;\n",
       "        if (!display || display === 'none') {{\n",
       "            console.log([gd, 'removed!']);\n",
       "            Plotly.purge(gd);\n",
       "            observer.disconnect();\n",
       "        }}\n",
       "}});\n",
       "\n",
       "// Listen for the removal of the full notebook cells\n",
       "var notebookContainer = gd.closest('#notebook-container');\n",
       "if (notebookContainer) {{\n",
       "    x.observe(notebookContainer, {childList: true});\n",
       "}}\n",
       "\n",
       "// Listen for the clearing of the current output cell\n",
       "var outputEl = gd.closest('.output');\n",
       "if (outputEl) {{\n",
       "    x.observe(outputEl, {childList: true});\n",
       "}}\n",
       "\n",
       "                        })                };                });            </script>        </div>"
      ]
     },
     "metadata": {},
     "output_type": "display_data"
    }
   ],
   "source": [
    "df['A'].iplot(kind='hist',bins=25)"
   ]
  },
  {
   "cell_type": "code",
   "execution_count": 40,
   "id": "3583ceae",
   "metadata": {},
   "outputs": [
    {
     "data": {
      "application/vnd.plotly.v1+json": {
       "config": {
        "linkText": "Export to plot.ly",
        "plotlyServerURL": "https://plot.ly",
        "showLink": true
       },
       "data": [
        {
         "histfunc": "count",
         "histnorm": "",
         "marker": {
          "color": "rgba(255, 153, 51, 1.0)",
          "line": {
           "color": "#4D5663",
           "width": 1.3
          }
         },
         "name": "A",
         "opacity": 0.8,
         "orientation": "v",
         "type": "histogram",
         "x": [
          -0.23833749478084632,
          0.6501994394768832,
          0.69240112895364,
          1.5320970914057563,
          1.5143536412100664,
          0.9091328451299554,
          0.5633932306807066,
          -0.6957450025151292,
          -0.3293951092999953,
          0.07112715282153531,
          1.3871289338711221,
          -0.30275030951868354,
          0.4325520012397575,
          0.3557928642971695,
          -0.14842497025923618,
          0.5618247664499927,
          0.05994346882977397,
          -1.4735100631741256,
          -0.08917911520644622,
          1.7363207791384538,
          -0.14329310593151515,
          0.15611611177600046,
          0.5406570368378665,
          -0.9957010147824803,
          1.387177334594978,
          0.1310498324631058,
          -0.22314038016345794,
          0.08879164066410501,
          -0.8810051288147794,
          -0.9770286284628511,
          -0.6715971578254221,
          1.3002560139455641,
          2.321624410335273,
          -0.15289584456586722,
          -0.6972843987992097,
          0.5931203866351997,
          0.9130042417329262,
          -0.3295338415521216,
          -1.3016776038004398,
          1.960484862694741,
          2.2802574608931754,
          -1.55531604820331,
          -0.4757202431700581,
          1.4373273727690996,
          -1.0070240274826834,
          1.2629202246100506,
          0.12856968538899607,
          -1.1243817895047012,
          0.04653002549161323,
          0.4369480939055736,
          0.2693438575066526,
          1.8038758704998965,
          0.1029603524630663,
          1.6081370990783066,
          -0.1378580105992773,
          0.5793942859228219,
          -0.14858741009587503,
          -0.19768016506777614,
          1.048015998868027,
          0.630830200972105,
          -1.5016688943855903,
          -0.42725460179513036,
          0.6632276199073781,
          0.03905584833789047,
          1.7065901060137059,
          -1.1400524905628655,
          0.4061750213104448,
          -0.3410890234644094,
          0.528994584107765,
          -0.44653772676211606,
          1.0273411655950548,
          -0.7616521517056599,
          -0.2990750926136947,
          0.7438791605337584,
          -0.6864816773203487,
          0.29972132855314054,
          0.0635865919701606,
          1.1160715054732728,
          0.23893414638922392,
          -3.0791028296082588,
          0.5628299582121862,
          1.3428877260800716,
          0.16002233058937887,
          -1.908974501388095,
          -1.063113689959441,
          -1.6701307613421852,
          0.6415131291626535,
          -1.4708631052358239,
          0.4542836706219212,
          -0.1803329649366861,
          2.3448185248734807,
          -0.42455083915233127,
          1.3596741223109698,
          -0.6387336708337593,
          -1.199901298038498,
          -0.46670532426178835,
          -1.9657923377437196,
          -2.5721533669425205,
          1.255546642935715,
          0.12504483924872897
         ]
        },
        {
         "histfunc": "count",
         "histnorm": "",
         "marker": {
          "color": "rgba(55, 128, 191, 1.0)",
          "line": {
           "color": "#4D5663",
           "width": 1.3
          }
         },
         "name": "B",
         "opacity": 0.8,
         "orientation": "v",
         "type": "histogram",
         "x": [
          -0.06291427450316933,
          -1.5322731602884292,
          2.028348772987773,
          0.6693932445647333,
          -1.784146484904668,
          0.5629194960966317,
          -1.1531714182196977,
          -1.198881273469872,
          -0.3599836499936697,
          -1.5859282623298518,
          0.43249326298018725,
          0.006334251206168981,
          -0.26156984664420363,
          -0.5542522296562603,
          0.6615866179143592,
          -1.324140148711569,
          0.34809760005611035,
          0.22845512200847662,
          0.7507214599572216,
          -0.4860243963364303,
          1.1966633637001574,
          -1.2290464952865618,
          0.39754334761882865,
          1.6994877438337332,
          0.7416418706957048,
          0.6403585630531775,
          -0.8734327491302029,
          -0.392926611428367,
          0.5749885606001245,
          -2.0467397051668876,
          0.49166689329736457,
          1.4036586051368503,
          -0.8307840514047554,
          0.6335495113267404,
          1.1820666940436422,
          -1.075705232012773,
          1.1881493161215,
          -1.423278677749765,
          -0.6430643428642822,
          -0.3293289381854944,
          -0.6547480913773267,
          -0.8463597065410111,
          -0.0024702289586539285,
          -1.0612818837077704,
          0.1254377076446763,
          -0.404602263867722,
          -0.7446729897259533,
          0.2186432671211768,
          1.2500505771424142,
          -0.8238305736789608,
          0.9222414596307853,
          -0.015284416785555715,
          -0.22472721377838545,
          0.0030087357121871758,
          0.08870220788145161,
          0.8984932568044094,
          0.14441621658763268,
          -0.4512488727289043,
          1.1375588391431979,
          -0.6527449377415648,
          0.27328665505704497,
          0.8823114753761337,
          0.00732754794294055,
          1.413438055483529,
          -0.5078282211761682,
          -0.8144068941811758,
          0.8789189975450421,
          -0.4161014934626199,
          1.2354275217687003,
          -0.4247058207211809,
          -1.8070468171353722,
          -0.07483434418167269,
          -0.8290768762316153,
          0.0323215009305928,
          -0.46818557550193923,
          -0.678510243789971,
          -0.326508032144984,
          -0.332445340739474,
          -0.08272614551191813,
          1.0935692828179533,
          0.2059558797739144,
          -0.4350877289157243,
          0.58286721728474,
          -0.5766016189112366,
          -1.0735566071205689,
          1.0114973460848427,
          -0.6641909267070367,
          -0.7784262569825346,
          -0.7927172147205591,
          -0.792636498224324,
          0.4303546660014756,
          0.6293061385726557,
          0.9161824688845475,
          -1.2931998909956706,
          0.3963712146012255,
          -1.0923974264157994,
          -0.9439165040572574,
          1.446733011848096,
          2.659876209227425,
          -1.4368341467410388
         ]
        },
        {
         "histfunc": "count",
         "histnorm": "",
         "marker": {
          "color": "rgba(50, 171, 96, 1.0)",
          "line": {
           "color": "#4D5663",
           "width": 1.3
          }
         },
         "name": "C",
         "opacity": 0.8,
         "orientation": "v",
         "type": "histogram",
         "x": [
          -1.0150659689487147,
          2.4396069488032004,
          -1.0514821902214544,
          0.025786994760816077,
          0.48322859921099276,
          -0.4713532665428161,
          1.1436149986359878,
          -1.3128261233699856,
          -0.2912887547934578,
          1.039967082869105,
          -1.2843076748845133,
          1.073342564131795,
          -0.8843569377025369,
          0.6558533134970753,
          0.7419265491553783,
          -0.36327706865560755,
          -0.07345510361056795,
          -1.0612208963079712,
          0.6679856736507008,
          0.441518726846609,
          -0.12011044158825018,
          -2.803927213926374,
          1.0534290050662707,
          -0.17728000698749297,
          -1.1366462406419275,
          0.05517776174957644,
          -0.5095312481923084,
          -1.4083290572757459,
          -1.3502810759787633,
          1.1010685067401154,
          1.3597498360665201,
          -1.653068798167152,
          0.3603041379925434,
          -1.0258913919715984,
          -0.5887645509273518,
          -0.6226080766418056,
          0.2757135067272518,
          1.5670278179236714,
          -0.03438956511296057,
          0.5646557786163486,
          -0.40049686928198874,
          0.5682714687046483,
          0.5106595362063697,
          0.4876875655268923,
          -1.0365701372832248,
          0.148753131420438,
          -0.7862128711346452,
          1.1610530422171528,
          -1.7584960556237275,
          -1.0996052338366407,
          0.5550921060825537,
          -0.07194723058616423,
          0.09874844773802363,
          -0.4289801702715877,
          0.27700922642152415,
          1.9446504729028886,
          -0.17081785777879283,
          -0.3397090921659036,
          0.1163343778242112,
          0.4974586729775939,
          -1.0145727727320606,
          0.9668061343377845,
          -1.195043377548783,
          -0.5275585370225807,
          2.2253408079614423,
          -0.9149325662020059,
          -1.9910130099560681,
          1.104037547093716,
          -0.5948118495939628,
          -0.5714118575752235,
          -1.9450022867837182,
          -1.0504344320553727,
          0.15838932114169152,
          -0.9115035290858265,
          0.043653088138158616,
          0.8967081481912822,
          1.8324806901016975,
          -0.17421799579891237,
          0.6025750586775659,
          0.01661511897748368,
          -0.09490050931702307,
          1.7329566918601587,
          0.6146070890461516,
          -0.8180565346431806,
          1.1496174165297404,
          0.9420873200673806,
          -0.8544064772026969,
          -0.23058590602236753,
          -0.5596922214896065,
          1.2956915909558462,
          1.6340132748923069,
          -0.1760196401199447,
          1.73319140559922,
          -1.435564489500065,
          0.23477011573606574,
          -0.7783744915371498,
          -1.1122868170232463,
          -0.853933282237851,
          -0.1937175967392873,
          0.4251853382724826
         ]
        },
        {
         "histfunc": "count",
         "histnorm": "",
         "marker": {
          "color": "rgba(128, 0, 128, 1.0)",
          "line": {
           "color": "#4D5663",
           "width": 1.3
          }
         },
         "name": "D",
         "opacity": 0.8,
         "orientation": "v",
         "type": "histogram",
         "x": [
          -0.11420890555588285,
          -0.18015600719370806,
          0.4467383032836302,
          0.5134964052696426,
          -2.506825030725312,
          -0.30496628040293366,
          -0.8793998563115474,
          -0.07250883132508364,
          -0.11111811357587129,
          1.5151277061489496,
          -1.6947082063992764,
          2.5528215620763284,
          -0.19190944351111974,
          -1.965756154674671,
          1.1193011182579384,
          1.945523608659881,
          -1.548098759567209,
          0.8123488904543115,
          -0.3225284134510511,
          3.363765957377816,
          -0.09040794345171485,
          1.5409372325812711,
          -0.1524503640369373,
          -0.9211225662963648,
          -0.234664343283136,
          -0.5988387987441645,
          1.9640046099329038,
          -1.9059093534907663,
          -0.30501271196983526,
          -0.07003303235654587,
          0.4273691216130949,
          0.5344919229822604,
          1.3648893776046511,
          0.14356096686465294,
          2.1775369436370027,
          0.4948293859869428,
          -0.12634359535027728,
          0.5515697606392707,
          -0.7817494449281183,
          1.168703603757188,
          1.0632746888968312,
          0.5928503508023099,
          -0.48452447812260047,
          2.471398018677528,
          0.0320537702562301,
          -1.2132812417956753,
          -0.3147939787890694,
          0.8410529978982227,
          -0.5513828889586566,
          0.6123404127705531,
          -0.7787436701085488,
          -1.1170001747219052,
          -0.5855935605970888,
          0.007561232728142446,
          0.5054553025090613,
          -0.134028957426057,
          2.4810376480615144,
          1.9949948194179672,
          0.3913991206519806,
          -0.3872507585745515,
          -1.8004463541736992,
          1.4480733436083826,
          -1.735085442897729,
          1.791726625268079,
          0.22312852195532035,
          -0.17831185991010187,
          -0.1342515593153074,
          3.064660548554613,
          -0.2567088207163651,
          1.9759774418795923,
          -0.23412258600826766,
          -0.4692604812153284,
          -0.19256176835937983,
          -1.9612341837422296,
          1.6231965239335477,
          -0.6870279081201187,
          0.13469205743861082,
          1.2128703557234293,
          1.2922561840488511,
          0.9025536852040918,
          -0.5283235308581054,
          0.8419027821447392,
          -1.496797888222635,
          -0.49694884262671085,
          0.06126558484265961,
          -0.2895372319404262,
          -1.1338328750070126,
          -0.6649022974941925,
          0.33940798232820063,
          0.9026626694446349,
          1.119667959555071,
          0.14558202217431568,
          -0.8702993232331738,
          0.1886403378793685,
          0.9743523532494787,
          -2.2982701623404735,
          1.090851860680595,
          -1.130490055546931,
          -0.05470785652087121,
          2.831359429291828
         ]
        }
       ],
       "layout": {
        "barmode": "overlay",
        "legend": {
         "bgcolor": "#F5F6F9",
         "font": {
          "color": "#4D5663"
         }
        },
        "paper_bgcolor": "#F5F6F9",
        "plot_bgcolor": "#F5F6F9",
        "template": {
         "data": {
          "bar": [
           {
            "error_x": {
             "color": "#2a3f5f"
            },
            "error_y": {
             "color": "#2a3f5f"
            },
            "marker": {
             "line": {
              "color": "#E5ECF6",
              "width": 0.5
             },
             "pattern": {
              "fillmode": "overlay",
              "size": 10,
              "solidity": 0.2
             }
            },
            "type": "bar"
           }
          ],
          "barpolar": [
           {
            "marker": {
             "line": {
              "color": "#E5ECF6",
              "width": 0.5
             },
             "pattern": {
              "fillmode": "overlay",
              "size": 10,
              "solidity": 0.2
             }
            },
            "type": "barpolar"
           }
          ],
          "carpet": [
           {
            "aaxis": {
             "endlinecolor": "#2a3f5f",
             "gridcolor": "white",
             "linecolor": "white",
             "minorgridcolor": "white",
             "startlinecolor": "#2a3f5f"
            },
            "baxis": {
             "endlinecolor": "#2a3f5f",
             "gridcolor": "white",
             "linecolor": "white",
             "minorgridcolor": "white",
             "startlinecolor": "#2a3f5f"
            },
            "type": "carpet"
           }
          ],
          "choropleth": [
           {
            "colorbar": {
             "outlinewidth": 0,
             "ticks": ""
            },
            "type": "choropleth"
           }
          ],
          "contour": [
           {
            "colorbar": {
             "outlinewidth": 0,
             "ticks": ""
            },
            "colorscale": [
             [
              0,
              "#0d0887"
             ],
             [
              0.1111111111111111,
              "#46039f"
             ],
             [
              0.2222222222222222,
              "#7201a8"
             ],
             [
              0.3333333333333333,
              "#9c179e"
             ],
             [
              0.4444444444444444,
              "#bd3786"
             ],
             [
              0.5555555555555556,
              "#d8576b"
             ],
             [
              0.6666666666666666,
              "#ed7953"
             ],
             [
              0.7777777777777778,
              "#fb9f3a"
             ],
             [
              0.8888888888888888,
              "#fdca26"
             ],
             [
              1,
              "#f0f921"
             ]
            ],
            "type": "contour"
           }
          ],
          "contourcarpet": [
           {
            "colorbar": {
             "outlinewidth": 0,
             "ticks": ""
            },
            "type": "contourcarpet"
           }
          ],
          "heatmap": [
           {
            "colorbar": {
             "outlinewidth": 0,
             "ticks": ""
            },
            "colorscale": [
             [
              0,
              "#0d0887"
             ],
             [
              0.1111111111111111,
              "#46039f"
             ],
             [
              0.2222222222222222,
              "#7201a8"
             ],
             [
              0.3333333333333333,
              "#9c179e"
             ],
             [
              0.4444444444444444,
              "#bd3786"
             ],
             [
              0.5555555555555556,
              "#d8576b"
             ],
             [
              0.6666666666666666,
              "#ed7953"
             ],
             [
              0.7777777777777778,
              "#fb9f3a"
             ],
             [
              0.8888888888888888,
              "#fdca26"
             ],
             [
              1,
              "#f0f921"
             ]
            ],
            "type": "heatmap"
           }
          ],
          "heatmapgl": [
           {
            "colorbar": {
             "outlinewidth": 0,
             "ticks": ""
            },
            "colorscale": [
             [
              0,
              "#0d0887"
             ],
             [
              0.1111111111111111,
              "#46039f"
             ],
             [
              0.2222222222222222,
              "#7201a8"
             ],
             [
              0.3333333333333333,
              "#9c179e"
             ],
             [
              0.4444444444444444,
              "#bd3786"
             ],
             [
              0.5555555555555556,
              "#d8576b"
             ],
             [
              0.6666666666666666,
              "#ed7953"
             ],
             [
              0.7777777777777778,
              "#fb9f3a"
             ],
             [
              0.8888888888888888,
              "#fdca26"
             ],
             [
              1,
              "#f0f921"
             ]
            ],
            "type": "heatmapgl"
           }
          ],
          "histogram": [
           {
            "marker": {
             "pattern": {
              "fillmode": "overlay",
              "size": 10,
              "solidity": 0.2
             }
            },
            "type": "histogram"
           }
          ],
          "histogram2d": [
           {
            "colorbar": {
             "outlinewidth": 0,
             "ticks": ""
            },
            "colorscale": [
             [
              0,
              "#0d0887"
             ],
             [
              0.1111111111111111,
              "#46039f"
             ],
             [
              0.2222222222222222,
              "#7201a8"
             ],
             [
              0.3333333333333333,
              "#9c179e"
             ],
             [
              0.4444444444444444,
              "#bd3786"
             ],
             [
              0.5555555555555556,
              "#d8576b"
             ],
             [
              0.6666666666666666,
              "#ed7953"
             ],
             [
              0.7777777777777778,
              "#fb9f3a"
             ],
             [
              0.8888888888888888,
              "#fdca26"
             ],
             [
              1,
              "#f0f921"
             ]
            ],
            "type": "histogram2d"
           }
          ],
          "histogram2dcontour": [
           {
            "colorbar": {
             "outlinewidth": 0,
             "ticks": ""
            },
            "colorscale": [
             [
              0,
              "#0d0887"
             ],
             [
              0.1111111111111111,
              "#46039f"
             ],
             [
              0.2222222222222222,
              "#7201a8"
             ],
             [
              0.3333333333333333,
              "#9c179e"
             ],
             [
              0.4444444444444444,
              "#bd3786"
             ],
             [
              0.5555555555555556,
              "#d8576b"
             ],
             [
              0.6666666666666666,
              "#ed7953"
             ],
             [
              0.7777777777777778,
              "#fb9f3a"
             ],
             [
              0.8888888888888888,
              "#fdca26"
             ],
             [
              1,
              "#f0f921"
             ]
            ],
            "type": "histogram2dcontour"
           }
          ],
          "mesh3d": [
           {
            "colorbar": {
             "outlinewidth": 0,
             "ticks": ""
            },
            "type": "mesh3d"
           }
          ],
          "parcoords": [
           {
            "line": {
             "colorbar": {
              "outlinewidth": 0,
              "ticks": ""
             }
            },
            "type": "parcoords"
           }
          ],
          "pie": [
           {
            "automargin": true,
            "type": "pie"
           }
          ],
          "scatter": [
           {
            "fillpattern": {
             "fillmode": "overlay",
             "size": 10,
             "solidity": 0.2
            },
            "type": "scatter"
           }
          ],
          "scatter3d": [
           {
            "line": {
             "colorbar": {
              "outlinewidth": 0,
              "ticks": ""
             }
            },
            "marker": {
             "colorbar": {
              "outlinewidth": 0,
              "ticks": ""
             }
            },
            "type": "scatter3d"
           }
          ],
          "scattercarpet": [
           {
            "marker": {
             "colorbar": {
              "outlinewidth": 0,
              "ticks": ""
             }
            },
            "type": "scattercarpet"
           }
          ],
          "scattergeo": [
           {
            "marker": {
             "colorbar": {
              "outlinewidth": 0,
              "ticks": ""
             }
            },
            "type": "scattergeo"
           }
          ],
          "scattergl": [
           {
            "marker": {
             "colorbar": {
              "outlinewidth": 0,
              "ticks": ""
             }
            },
            "type": "scattergl"
           }
          ],
          "scattermapbox": [
           {
            "marker": {
             "colorbar": {
              "outlinewidth": 0,
              "ticks": ""
             }
            },
            "type": "scattermapbox"
           }
          ],
          "scatterpolar": [
           {
            "marker": {
             "colorbar": {
              "outlinewidth": 0,
              "ticks": ""
             }
            },
            "type": "scatterpolar"
           }
          ],
          "scatterpolargl": [
           {
            "marker": {
             "colorbar": {
              "outlinewidth": 0,
              "ticks": ""
             }
            },
            "type": "scatterpolargl"
           }
          ],
          "scatterternary": [
           {
            "marker": {
             "colorbar": {
              "outlinewidth": 0,
              "ticks": ""
             }
            },
            "type": "scatterternary"
           }
          ],
          "surface": [
           {
            "colorbar": {
             "outlinewidth": 0,
             "ticks": ""
            },
            "colorscale": [
             [
              0,
              "#0d0887"
             ],
             [
              0.1111111111111111,
              "#46039f"
             ],
             [
              0.2222222222222222,
              "#7201a8"
             ],
             [
              0.3333333333333333,
              "#9c179e"
             ],
             [
              0.4444444444444444,
              "#bd3786"
             ],
             [
              0.5555555555555556,
              "#d8576b"
             ],
             [
              0.6666666666666666,
              "#ed7953"
             ],
             [
              0.7777777777777778,
              "#fb9f3a"
             ],
             [
              0.8888888888888888,
              "#fdca26"
             ],
             [
              1,
              "#f0f921"
             ]
            ],
            "type": "surface"
           }
          ],
          "table": [
           {
            "cells": {
             "fill": {
              "color": "#EBF0F8"
             },
             "line": {
              "color": "white"
             }
            },
            "header": {
             "fill": {
              "color": "#C8D4E3"
             },
             "line": {
              "color": "white"
             }
            },
            "type": "table"
           }
          ]
         },
         "layout": {
          "annotationdefaults": {
           "arrowcolor": "#2a3f5f",
           "arrowhead": 0,
           "arrowwidth": 1
          },
          "autotypenumbers": "strict",
          "coloraxis": {
           "colorbar": {
            "outlinewidth": 0,
            "ticks": ""
           }
          },
          "colorscale": {
           "diverging": [
            [
             0,
             "#8e0152"
            ],
            [
             0.1,
             "#c51b7d"
            ],
            [
             0.2,
             "#de77ae"
            ],
            [
             0.3,
             "#f1b6da"
            ],
            [
             0.4,
             "#fde0ef"
            ],
            [
             0.5,
             "#f7f7f7"
            ],
            [
             0.6,
             "#e6f5d0"
            ],
            [
             0.7,
             "#b8e186"
            ],
            [
             0.8,
             "#7fbc41"
            ],
            [
             0.9,
             "#4d9221"
            ],
            [
             1,
             "#276419"
            ]
           ],
           "sequential": [
            [
             0,
             "#0d0887"
            ],
            [
             0.1111111111111111,
             "#46039f"
            ],
            [
             0.2222222222222222,
             "#7201a8"
            ],
            [
             0.3333333333333333,
             "#9c179e"
            ],
            [
             0.4444444444444444,
             "#bd3786"
            ],
            [
             0.5555555555555556,
             "#d8576b"
            ],
            [
             0.6666666666666666,
             "#ed7953"
            ],
            [
             0.7777777777777778,
             "#fb9f3a"
            ],
            [
             0.8888888888888888,
             "#fdca26"
            ],
            [
             1,
             "#f0f921"
            ]
           ],
           "sequentialminus": [
            [
             0,
             "#0d0887"
            ],
            [
             0.1111111111111111,
             "#46039f"
            ],
            [
             0.2222222222222222,
             "#7201a8"
            ],
            [
             0.3333333333333333,
             "#9c179e"
            ],
            [
             0.4444444444444444,
             "#bd3786"
            ],
            [
             0.5555555555555556,
             "#d8576b"
            ],
            [
             0.6666666666666666,
             "#ed7953"
            ],
            [
             0.7777777777777778,
             "#fb9f3a"
            ],
            [
             0.8888888888888888,
             "#fdca26"
            ],
            [
             1,
             "#f0f921"
            ]
           ]
          },
          "colorway": [
           "#636efa",
           "#EF553B",
           "#00cc96",
           "#ab63fa",
           "#FFA15A",
           "#19d3f3",
           "#FF6692",
           "#B6E880",
           "#FF97FF",
           "#FECB52"
          ],
          "font": {
           "color": "#2a3f5f"
          },
          "geo": {
           "bgcolor": "white",
           "lakecolor": "white",
           "landcolor": "#E5ECF6",
           "showlakes": true,
           "showland": true,
           "subunitcolor": "white"
          },
          "hoverlabel": {
           "align": "left"
          },
          "hovermode": "closest",
          "mapbox": {
           "style": "light"
          },
          "paper_bgcolor": "white",
          "plot_bgcolor": "#E5ECF6",
          "polar": {
           "angularaxis": {
            "gridcolor": "white",
            "linecolor": "white",
            "ticks": ""
           },
           "bgcolor": "#E5ECF6",
           "radialaxis": {
            "gridcolor": "white",
            "linecolor": "white",
            "ticks": ""
           }
          },
          "scene": {
           "xaxis": {
            "backgroundcolor": "#E5ECF6",
            "gridcolor": "white",
            "gridwidth": 2,
            "linecolor": "white",
            "showbackground": true,
            "ticks": "",
            "zerolinecolor": "white"
           },
           "yaxis": {
            "backgroundcolor": "#E5ECF6",
            "gridcolor": "white",
            "gridwidth": 2,
            "linecolor": "white",
            "showbackground": true,
            "ticks": "",
            "zerolinecolor": "white"
           },
           "zaxis": {
            "backgroundcolor": "#E5ECF6",
            "gridcolor": "white",
            "gridwidth": 2,
            "linecolor": "white",
            "showbackground": true,
            "ticks": "",
            "zerolinecolor": "white"
           }
          },
          "shapedefaults": {
           "line": {
            "color": "#2a3f5f"
           }
          },
          "ternary": {
           "aaxis": {
            "gridcolor": "white",
            "linecolor": "white",
            "ticks": ""
           },
           "baxis": {
            "gridcolor": "white",
            "linecolor": "white",
            "ticks": ""
           },
           "bgcolor": "#E5ECF6",
           "caxis": {
            "gridcolor": "white",
            "linecolor": "white",
            "ticks": ""
           }
          },
          "title": {
           "x": 0.05
          },
          "xaxis": {
           "automargin": true,
           "gridcolor": "white",
           "linecolor": "white",
           "ticks": "",
           "title": {
            "standoff": 15
           },
           "zerolinecolor": "white",
           "zerolinewidth": 2
          },
          "yaxis": {
           "automargin": true,
           "gridcolor": "white",
           "linecolor": "white",
           "ticks": "",
           "title": {
            "standoff": 15
           },
           "zerolinecolor": "white",
           "zerolinewidth": 2
          }
         }
        },
        "title": {
         "font": {
          "color": "#4D5663"
         }
        },
        "xaxis": {
         "gridcolor": "#E1E5ED",
         "showgrid": true,
         "tickfont": {
          "color": "#4D5663"
         },
         "title": {
          "font": {
           "color": "#4D5663"
          },
          "text": ""
         },
         "zerolinecolor": "#E1E5ED"
        },
        "yaxis": {
         "gridcolor": "#E1E5ED",
         "showgrid": true,
         "tickfont": {
          "color": "#4D5663"
         },
         "title": {
          "font": {
           "color": "#4D5663"
          },
          "text": ""
         },
         "zerolinecolor": "#E1E5ED"
        }
       }
      },
      "text/html": [
       "<div>                            <div id=\"26bd485e-528b-4992-a0fd-bcebe54678b6\" class=\"plotly-graph-div\" style=\"height:525px; width:100%;\"></div>            <script type=\"text/javascript\">                require([\"plotly\"], function(Plotly) {                    window.PLOTLYENV=window.PLOTLYENV || {};\n",
       "                    window.PLOTLYENV.BASE_URL='https://plot.ly';                                    if (document.getElementById(\"26bd485e-528b-4992-a0fd-bcebe54678b6\")) {                    Plotly.newPlot(                        \"26bd485e-528b-4992-a0fd-bcebe54678b6\",                        [{\"histfunc\":\"count\",\"histnorm\":\"\",\"marker\":{\"color\":\"rgba(255, 153, 51, 1.0)\",\"line\":{\"color\":\"#4D5663\",\"width\":1.3}},\"name\":\"A\",\"opacity\":0.8,\"orientation\":\"v\",\"x\":[-0.23833749478084632,0.6501994394768832,0.69240112895364,1.5320970914057563,1.5143536412100664,0.9091328451299554,0.5633932306807066,-0.6957450025151292,-0.3293951092999953,0.07112715282153531,1.3871289338711221,-0.30275030951868354,0.4325520012397575,0.3557928642971695,-0.14842497025923618,0.5618247664499927,0.05994346882977397,-1.4735100631741256,-0.08917911520644622,1.7363207791384538,-0.14329310593151515,0.15611611177600046,0.5406570368378665,-0.9957010147824803,1.387177334594978,0.1310498324631058,-0.22314038016345794,0.08879164066410501,-0.8810051288147794,-0.9770286284628511,-0.6715971578254221,1.3002560139455641,2.321624410335273,-0.15289584456586722,-0.6972843987992097,0.5931203866351997,0.9130042417329262,-0.3295338415521216,-1.3016776038004398,1.960484862694741,2.2802574608931754,-1.55531604820331,-0.4757202431700581,1.4373273727690996,-1.0070240274826834,1.2629202246100506,0.12856968538899607,-1.1243817895047012,0.04653002549161323,0.4369480939055736,0.2693438575066526,1.8038758704998965,0.1029603524630663,1.6081370990783066,-0.1378580105992773,0.5793942859228219,-0.14858741009587503,-0.19768016506777614,1.048015998868027,0.630830200972105,-1.5016688943855903,-0.42725460179513036,0.6632276199073781,0.03905584833789047,1.7065901060137059,-1.1400524905628655,0.4061750213104448,-0.3410890234644094,0.528994584107765,-0.44653772676211606,1.0273411655950548,-0.7616521517056599,-0.2990750926136947,0.7438791605337584,-0.6864816773203487,0.29972132855314054,0.0635865919701606,1.1160715054732728,0.23893414638922392,-3.0791028296082588,0.5628299582121862,1.3428877260800716,0.16002233058937887,-1.908974501388095,-1.063113689959441,-1.6701307613421852,0.6415131291626535,-1.4708631052358239,0.4542836706219212,-0.1803329649366861,2.3448185248734807,-0.42455083915233127,1.3596741223109698,-0.6387336708337593,-1.199901298038498,-0.46670532426178835,-1.9657923377437196,-2.5721533669425205,1.255546642935715,0.12504483924872897],\"type\":\"histogram\"},{\"histfunc\":\"count\",\"histnorm\":\"\",\"marker\":{\"color\":\"rgba(55, 128, 191, 1.0)\",\"line\":{\"color\":\"#4D5663\",\"width\":1.3}},\"name\":\"B\",\"opacity\":0.8,\"orientation\":\"v\",\"x\":[-0.06291427450316933,-1.5322731602884292,2.028348772987773,0.6693932445647333,-1.784146484904668,0.5629194960966317,-1.1531714182196977,-1.198881273469872,-0.3599836499936697,-1.5859282623298518,0.43249326298018725,0.006334251206168981,-0.26156984664420363,-0.5542522296562603,0.6615866179143592,-1.324140148711569,0.34809760005611035,0.22845512200847662,0.7507214599572216,-0.4860243963364303,1.1966633637001574,-1.2290464952865618,0.39754334761882865,1.6994877438337332,0.7416418706957048,0.6403585630531775,-0.8734327491302029,-0.392926611428367,0.5749885606001245,-2.0467397051668876,0.49166689329736457,1.4036586051368503,-0.8307840514047554,0.6335495113267404,1.1820666940436422,-1.075705232012773,1.1881493161215,-1.423278677749765,-0.6430643428642822,-0.3293289381854944,-0.6547480913773267,-0.8463597065410111,-0.0024702289586539285,-1.0612818837077704,0.1254377076446763,-0.404602263867722,-0.7446729897259533,0.2186432671211768,1.2500505771424142,-0.8238305736789608,0.9222414596307853,-0.015284416785555715,-0.22472721377838545,0.0030087357121871758,0.08870220788145161,0.8984932568044094,0.14441621658763268,-0.4512488727289043,1.1375588391431979,-0.6527449377415648,0.27328665505704497,0.8823114753761337,0.00732754794294055,1.413438055483529,-0.5078282211761682,-0.8144068941811758,0.8789189975450421,-0.4161014934626199,1.2354275217687003,-0.4247058207211809,-1.8070468171353722,-0.07483434418167269,-0.8290768762316153,0.0323215009305928,-0.46818557550193923,-0.678510243789971,-0.326508032144984,-0.332445340739474,-0.08272614551191813,1.0935692828179533,0.2059558797739144,-0.4350877289157243,0.58286721728474,-0.5766016189112366,-1.0735566071205689,1.0114973460848427,-0.6641909267070367,-0.7784262569825346,-0.7927172147205591,-0.792636498224324,0.4303546660014756,0.6293061385726557,0.9161824688845475,-1.2931998909956706,0.3963712146012255,-1.0923974264157994,-0.9439165040572574,1.446733011848096,2.659876209227425,-1.4368341467410388],\"type\":\"histogram\"},{\"histfunc\":\"count\",\"histnorm\":\"\",\"marker\":{\"color\":\"rgba(50, 171, 96, 1.0)\",\"line\":{\"color\":\"#4D5663\",\"width\":1.3}},\"name\":\"C\",\"opacity\":0.8,\"orientation\":\"v\",\"x\":[-1.0150659689487147,2.4396069488032004,-1.0514821902214544,0.025786994760816077,0.48322859921099276,-0.4713532665428161,1.1436149986359878,-1.3128261233699856,-0.2912887547934578,1.039967082869105,-1.2843076748845133,1.073342564131795,-0.8843569377025369,0.6558533134970753,0.7419265491553783,-0.36327706865560755,-0.07345510361056795,-1.0612208963079712,0.6679856736507008,0.441518726846609,-0.12011044158825018,-2.803927213926374,1.0534290050662707,-0.17728000698749297,-1.1366462406419275,0.05517776174957644,-0.5095312481923084,-1.4083290572757459,-1.3502810759787633,1.1010685067401154,1.3597498360665201,-1.653068798167152,0.3603041379925434,-1.0258913919715984,-0.5887645509273518,-0.6226080766418056,0.2757135067272518,1.5670278179236714,-0.03438956511296057,0.5646557786163486,-0.40049686928198874,0.5682714687046483,0.5106595362063697,0.4876875655268923,-1.0365701372832248,0.148753131420438,-0.7862128711346452,1.1610530422171528,-1.7584960556237275,-1.0996052338366407,0.5550921060825537,-0.07194723058616423,0.09874844773802363,-0.4289801702715877,0.27700922642152415,1.9446504729028886,-0.17081785777879283,-0.3397090921659036,0.1163343778242112,0.4974586729775939,-1.0145727727320606,0.9668061343377845,-1.195043377548783,-0.5275585370225807,2.2253408079614423,-0.9149325662020059,-1.9910130099560681,1.104037547093716,-0.5948118495939628,-0.5714118575752235,-1.9450022867837182,-1.0504344320553727,0.15838932114169152,-0.9115035290858265,0.043653088138158616,0.8967081481912822,1.8324806901016975,-0.17421799579891237,0.6025750586775659,0.01661511897748368,-0.09490050931702307,1.7329566918601587,0.6146070890461516,-0.8180565346431806,1.1496174165297404,0.9420873200673806,-0.8544064772026969,-0.23058590602236753,-0.5596922214896065,1.2956915909558462,1.6340132748923069,-0.1760196401199447,1.73319140559922,-1.435564489500065,0.23477011573606574,-0.7783744915371498,-1.1122868170232463,-0.853933282237851,-0.1937175967392873,0.4251853382724826],\"type\":\"histogram\"},{\"histfunc\":\"count\",\"histnorm\":\"\",\"marker\":{\"color\":\"rgba(128, 0, 128, 1.0)\",\"line\":{\"color\":\"#4D5663\",\"width\":1.3}},\"name\":\"D\",\"opacity\":0.8,\"orientation\":\"v\",\"x\":[-0.11420890555588285,-0.18015600719370806,0.4467383032836302,0.5134964052696426,-2.506825030725312,-0.30496628040293366,-0.8793998563115474,-0.07250883132508364,-0.11111811357587129,1.5151277061489496,-1.6947082063992764,2.5528215620763284,-0.19190944351111974,-1.965756154674671,1.1193011182579384,1.945523608659881,-1.548098759567209,0.8123488904543115,-0.3225284134510511,3.363765957377816,-0.09040794345171485,1.5409372325812711,-0.1524503640369373,-0.9211225662963648,-0.234664343283136,-0.5988387987441645,1.9640046099329038,-1.9059093534907663,-0.30501271196983526,-0.07003303235654587,0.4273691216130949,0.5344919229822604,1.3648893776046511,0.14356096686465294,2.1775369436370027,0.4948293859869428,-0.12634359535027728,0.5515697606392707,-0.7817494449281183,1.168703603757188,1.0632746888968312,0.5928503508023099,-0.48452447812260047,2.471398018677528,0.0320537702562301,-1.2132812417956753,-0.3147939787890694,0.8410529978982227,-0.5513828889586566,0.6123404127705531,-0.7787436701085488,-1.1170001747219052,-0.5855935605970888,0.007561232728142446,0.5054553025090613,-0.134028957426057,2.4810376480615144,1.9949948194179672,0.3913991206519806,-0.3872507585745515,-1.8004463541736992,1.4480733436083826,-1.735085442897729,1.791726625268079,0.22312852195532035,-0.17831185991010187,-0.1342515593153074,3.064660548554613,-0.2567088207163651,1.9759774418795923,-0.23412258600826766,-0.4692604812153284,-0.19256176835937983,-1.9612341837422296,1.6231965239335477,-0.6870279081201187,0.13469205743861082,1.2128703557234293,1.2922561840488511,0.9025536852040918,-0.5283235308581054,0.8419027821447392,-1.496797888222635,-0.49694884262671085,0.06126558484265961,-0.2895372319404262,-1.1338328750070126,-0.6649022974941925,0.33940798232820063,0.9026626694446349,1.119667959555071,0.14558202217431568,-0.8702993232331738,0.1886403378793685,0.9743523532494787,-2.2982701623404735,1.090851860680595,-1.130490055546931,-0.05470785652087121,2.831359429291828],\"type\":\"histogram\"}],                        {\"barmode\":\"overlay\",\"legend\":{\"bgcolor\":\"#F5F6F9\",\"font\":{\"color\":\"#4D5663\"}},\"paper_bgcolor\":\"#F5F6F9\",\"plot_bgcolor\":\"#F5F6F9\",\"template\":{\"data\":{\"barpolar\":[{\"marker\":{\"line\":{\"color\":\"#E5ECF6\",\"width\":0.5},\"pattern\":{\"fillmode\":\"overlay\",\"size\":10,\"solidity\":0.2}},\"type\":\"barpolar\"}],\"bar\":[{\"error_x\":{\"color\":\"#2a3f5f\"},\"error_y\":{\"color\":\"#2a3f5f\"},\"marker\":{\"line\":{\"color\":\"#E5ECF6\",\"width\":0.5},\"pattern\":{\"fillmode\":\"overlay\",\"size\":10,\"solidity\":0.2}},\"type\":\"bar\"}],\"carpet\":[{\"aaxis\":{\"endlinecolor\":\"#2a3f5f\",\"gridcolor\":\"white\",\"linecolor\":\"white\",\"minorgridcolor\":\"white\",\"startlinecolor\":\"#2a3f5f\"},\"baxis\":{\"endlinecolor\":\"#2a3f5f\",\"gridcolor\":\"white\",\"linecolor\":\"white\",\"minorgridcolor\":\"white\",\"startlinecolor\":\"#2a3f5f\"},\"type\":\"carpet\"}],\"choropleth\":[{\"colorbar\":{\"outlinewidth\":0,\"ticks\":\"\"},\"type\":\"choropleth\"}],\"contourcarpet\":[{\"colorbar\":{\"outlinewidth\":0,\"ticks\":\"\"},\"type\":\"contourcarpet\"}],\"contour\":[{\"colorbar\":{\"outlinewidth\":0,\"ticks\":\"\"},\"colorscale\":[[0.0,\"#0d0887\"],[0.1111111111111111,\"#46039f\"],[0.2222222222222222,\"#7201a8\"],[0.3333333333333333,\"#9c179e\"],[0.4444444444444444,\"#bd3786\"],[0.5555555555555556,\"#d8576b\"],[0.6666666666666666,\"#ed7953\"],[0.7777777777777778,\"#fb9f3a\"],[0.8888888888888888,\"#fdca26\"],[1.0,\"#f0f921\"]],\"type\":\"contour\"}],\"heatmapgl\":[{\"colorbar\":{\"outlinewidth\":0,\"ticks\":\"\"},\"colorscale\":[[0.0,\"#0d0887\"],[0.1111111111111111,\"#46039f\"],[0.2222222222222222,\"#7201a8\"],[0.3333333333333333,\"#9c179e\"],[0.4444444444444444,\"#bd3786\"],[0.5555555555555556,\"#d8576b\"],[0.6666666666666666,\"#ed7953\"],[0.7777777777777778,\"#fb9f3a\"],[0.8888888888888888,\"#fdca26\"],[1.0,\"#f0f921\"]],\"type\":\"heatmapgl\"}],\"heatmap\":[{\"colorbar\":{\"outlinewidth\":0,\"ticks\":\"\"},\"colorscale\":[[0.0,\"#0d0887\"],[0.1111111111111111,\"#46039f\"],[0.2222222222222222,\"#7201a8\"],[0.3333333333333333,\"#9c179e\"],[0.4444444444444444,\"#bd3786\"],[0.5555555555555556,\"#d8576b\"],[0.6666666666666666,\"#ed7953\"],[0.7777777777777778,\"#fb9f3a\"],[0.8888888888888888,\"#fdca26\"],[1.0,\"#f0f921\"]],\"type\":\"heatmap\"}],\"histogram2dcontour\":[{\"colorbar\":{\"outlinewidth\":0,\"ticks\":\"\"},\"colorscale\":[[0.0,\"#0d0887\"],[0.1111111111111111,\"#46039f\"],[0.2222222222222222,\"#7201a8\"],[0.3333333333333333,\"#9c179e\"],[0.4444444444444444,\"#bd3786\"],[0.5555555555555556,\"#d8576b\"],[0.6666666666666666,\"#ed7953\"],[0.7777777777777778,\"#fb9f3a\"],[0.8888888888888888,\"#fdca26\"],[1.0,\"#f0f921\"]],\"type\":\"histogram2dcontour\"}],\"histogram2d\":[{\"colorbar\":{\"outlinewidth\":0,\"ticks\":\"\"},\"colorscale\":[[0.0,\"#0d0887\"],[0.1111111111111111,\"#46039f\"],[0.2222222222222222,\"#7201a8\"],[0.3333333333333333,\"#9c179e\"],[0.4444444444444444,\"#bd3786\"],[0.5555555555555556,\"#d8576b\"],[0.6666666666666666,\"#ed7953\"],[0.7777777777777778,\"#fb9f3a\"],[0.8888888888888888,\"#fdca26\"],[1.0,\"#f0f921\"]],\"type\":\"histogram2d\"}],\"histogram\":[{\"marker\":{\"pattern\":{\"fillmode\":\"overlay\",\"size\":10,\"solidity\":0.2}},\"type\":\"histogram\"}],\"mesh3d\":[{\"colorbar\":{\"outlinewidth\":0,\"ticks\":\"\"},\"type\":\"mesh3d\"}],\"parcoords\":[{\"line\":{\"colorbar\":{\"outlinewidth\":0,\"ticks\":\"\"}},\"type\":\"parcoords\"}],\"pie\":[{\"automargin\":true,\"type\":\"pie\"}],\"scatter3d\":[{\"line\":{\"colorbar\":{\"outlinewidth\":0,\"ticks\":\"\"}},\"marker\":{\"colorbar\":{\"outlinewidth\":0,\"ticks\":\"\"}},\"type\":\"scatter3d\"}],\"scattercarpet\":[{\"marker\":{\"colorbar\":{\"outlinewidth\":0,\"ticks\":\"\"}},\"type\":\"scattercarpet\"}],\"scattergeo\":[{\"marker\":{\"colorbar\":{\"outlinewidth\":0,\"ticks\":\"\"}},\"type\":\"scattergeo\"}],\"scattergl\":[{\"marker\":{\"colorbar\":{\"outlinewidth\":0,\"ticks\":\"\"}},\"type\":\"scattergl\"}],\"scattermapbox\":[{\"marker\":{\"colorbar\":{\"outlinewidth\":0,\"ticks\":\"\"}},\"type\":\"scattermapbox\"}],\"scatterpolargl\":[{\"marker\":{\"colorbar\":{\"outlinewidth\":0,\"ticks\":\"\"}},\"type\":\"scatterpolargl\"}],\"scatterpolar\":[{\"marker\":{\"colorbar\":{\"outlinewidth\":0,\"ticks\":\"\"}},\"type\":\"scatterpolar\"}],\"scatter\":[{\"fillpattern\":{\"fillmode\":\"overlay\",\"size\":10,\"solidity\":0.2},\"type\":\"scatter\"}],\"scatterternary\":[{\"marker\":{\"colorbar\":{\"outlinewidth\":0,\"ticks\":\"\"}},\"type\":\"scatterternary\"}],\"surface\":[{\"colorbar\":{\"outlinewidth\":0,\"ticks\":\"\"},\"colorscale\":[[0.0,\"#0d0887\"],[0.1111111111111111,\"#46039f\"],[0.2222222222222222,\"#7201a8\"],[0.3333333333333333,\"#9c179e\"],[0.4444444444444444,\"#bd3786\"],[0.5555555555555556,\"#d8576b\"],[0.6666666666666666,\"#ed7953\"],[0.7777777777777778,\"#fb9f3a\"],[0.8888888888888888,\"#fdca26\"],[1.0,\"#f0f921\"]],\"type\":\"surface\"}],\"table\":[{\"cells\":{\"fill\":{\"color\":\"#EBF0F8\"},\"line\":{\"color\":\"white\"}},\"header\":{\"fill\":{\"color\":\"#C8D4E3\"},\"line\":{\"color\":\"white\"}},\"type\":\"table\"}]},\"layout\":{\"annotationdefaults\":{\"arrowcolor\":\"#2a3f5f\",\"arrowhead\":0,\"arrowwidth\":1},\"autotypenumbers\":\"strict\",\"coloraxis\":{\"colorbar\":{\"outlinewidth\":0,\"ticks\":\"\"}},\"colorscale\":{\"diverging\":[[0,\"#8e0152\"],[0.1,\"#c51b7d\"],[0.2,\"#de77ae\"],[0.3,\"#f1b6da\"],[0.4,\"#fde0ef\"],[0.5,\"#f7f7f7\"],[0.6,\"#e6f5d0\"],[0.7,\"#b8e186\"],[0.8,\"#7fbc41\"],[0.9,\"#4d9221\"],[1,\"#276419\"]],\"sequential\":[[0.0,\"#0d0887\"],[0.1111111111111111,\"#46039f\"],[0.2222222222222222,\"#7201a8\"],[0.3333333333333333,\"#9c179e\"],[0.4444444444444444,\"#bd3786\"],[0.5555555555555556,\"#d8576b\"],[0.6666666666666666,\"#ed7953\"],[0.7777777777777778,\"#fb9f3a\"],[0.8888888888888888,\"#fdca26\"],[1.0,\"#f0f921\"]],\"sequentialminus\":[[0.0,\"#0d0887\"],[0.1111111111111111,\"#46039f\"],[0.2222222222222222,\"#7201a8\"],[0.3333333333333333,\"#9c179e\"],[0.4444444444444444,\"#bd3786\"],[0.5555555555555556,\"#d8576b\"],[0.6666666666666666,\"#ed7953\"],[0.7777777777777778,\"#fb9f3a\"],[0.8888888888888888,\"#fdca26\"],[1.0,\"#f0f921\"]]},\"colorway\":[\"#636efa\",\"#EF553B\",\"#00cc96\",\"#ab63fa\",\"#FFA15A\",\"#19d3f3\",\"#FF6692\",\"#B6E880\",\"#FF97FF\",\"#FECB52\"],\"font\":{\"color\":\"#2a3f5f\"},\"geo\":{\"bgcolor\":\"white\",\"lakecolor\":\"white\",\"landcolor\":\"#E5ECF6\",\"showlakes\":true,\"showland\":true,\"subunitcolor\":\"white\"},\"hoverlabel\":{\"align\":\"left\"},\"hovermode\":\"closest\",\"mapbox\":{\"style\":\"light\"},\"paper_bgcolor\":\"white\",\"plot_bgcolor\":\"#E5ECF6\",\"polar\":{\"angularaxis\":{\"gridcolor\":\"white\",\"linecolor\":\"white\",\"ticks\":\"\"},\"bgcolor\":\"#E5ECF6\",\"radialaxis\":{\"gridcolor\":\"white\",\"linecolor\":\"white\",\"ticks\":\"\"}},\"scene\":{\"xaxis\":{\"backgroundcolor\":\"#E5ECF6\",\"gridcolor\":\"white\",\"gridwidth\":2,\"linecolor\":\"white\",\"showbackground\":true,\"ticks\":\"\",\"zerolinecolor\":\"white\"},\"yaxis\":{\"backgroundcolor\":\"#E5ECF6\",\"gridcolor\":\"white\",\"gridwidth\":2,\"linecolor\":\"white\",\"showbackground\":true,\"ticks\":\"\",\"zerolinecolor\":\"white\"},\"zaxis\":{\"backgroundcolor\":\"#E5ECF6\",\"gridcolor\":\"white\",\"gridwidth\":2,\"linecolor\":\"white\",\"showbackground\":true,\"ticks\":\"\",\"zerolinecolor\":\"white\"}},\"shapedefaults\":{\"line\":{\"color\":\"#2a3f5f\"}},\"ternary\":{\"aaxis\":{\"gridcolor\":\"white\",\"linecolor\":\"white\",\"ticks\":\"\"},\"baxis\":{\"gridcolor\":\"white\",\"linecolor\":\"white\",\"ticks\":\"\"},\"bgcolor\":\"#E5ECF6\",\"caxis\":{\"gridcolor\":\"white\",\"linecolor\":\"white\",\"ticks\":\"\"}},\"title\":{\"x\":0.05},\"xaxis\":{\"automargin\":true,\"gridcolor\":\"white\",\"linecolor\":\"white\",\"ticks\":\"\",\"title\":{\"standoff\":15},\"zerolinecolor\":\"white\",\"zerolinewidth\":2},\"yaxis\":{\"automargin\":true,\"gridcolor\":\"white\",\"linecolor\":\"white\",\"ticks\":\"\",\"title\":{\"standoff\":15},\"zerolinecolor\":\"white\",\"zerolinewidth\":2}}},\"title\":{\"font\":{\"color\":\"#4D5663\"}},\"xaxis\":{\"gridcolor\":\"#E1E5ED\",\"showgrid\":true,\"tickfont\":{\"color\":\"#4D5663\"},\"title\":{\"font\":{\"color\":\"#4D5663\"},\"text\":\"\"},\"zerolinecolor\":\"#E1E5ED\"},\"yaxis\":{\"gridcolor\":\"#E1E5ED\",\"showgrid\":true,\"tickfont\":{\"color\":\"#4D5663\"},\"title\":{\"font\":{\"color\":\"#4D5663\"},\"text\":\"\"},\"zerolinecolor\":\"#E1E5ED\"}},                        {\"showLink\": true, \"linkText\": \"Export to plot.ly\", \"plotlyServerURL\": \"https://plot.ly\", \"responsive\": true}                    ).then(function(){\n",
       "                            \n",
       "var gd = document.getElementById('26bd485e-528b-4992-a0fd-bcebe54678b6');\n",
       "var x = new MutationObserver(function (mutations, observer) {{\n",
       "        var display = window.getComputedStyle(gd).display;\n",
       "        if (!display || display === 'none') {{\n",
       "            console.log([gd, 'removed!']);\n",
       "            Plotly.purge(gd);\n",
       "            observer.disconnect();\n",
       "        }}\n",
       "}});\n",
       "\n",
       "// Listen for the removal of the full notebook cells\n",
       "var notebookContainer = gd.closest('#notebook-container');\n",
       "if (notebookContainer) {{\n",
       "    x.observe(notebookContainer, {childList: true});\n",
       "}}\n",
       "\n",
       "// Listen for the clearing of the current output cell\n",
       "var outputEl = gd.closest('.output');\n",
       "if (outputEl) {{\n",
       "    x.observe(outputEl, {childList: true});\n",
       "}}\n",
       "\n",
       "                        })                };                });            </script>        </div>"
      ]
     },
     "metadata": {},
     "output_type": "display_data"
    }
   ],
   "source": [
    "df.iplot(kind='hist')"
   ]
  },
  {
   "cell_type": "code",
   "execution_count": 45,
   "id": "3919b429",
   "metadata": {},
   "outputs": [
    {
     "data": {
      "application/vnd.plotly.v1+json": {
       "config": {
        "linkText": "Export to plot.ly",
        "plotlyServerURL": "https://plot.ly",
        "showLink": true
       },
       "data": [
        {
         "line": {
          "color": "rgba(255, 153, 51, 1.0)",
          "dash": "solid",
          "shape": "linear",
          "width": 1.3
         },
         "mode": "lines",
         "name": "Spread",
         "text": "",
         "type": "scatter",
         "x": [
          0,
          1,
          2,
          3,
          4,
          5,
          6,
          7,
          8,
          9,
          10,
          11,
          12,
          13,
          14,
          15,
          16,
          17,
          18,
          19,
          20,
          21,
          22,
          23,
          24,
          25,
          26,
          27,
          28,
          29,
          30,
          31,
          32,
          33,
          34,
          35,
          36,
          37,
          38,
          39,
          40,
          41,
          42,
          43,
          44,
          45,
          46,
          47,
          48,
          49,
          50,
          51,
          52,
          53,
          54,
          55,
          56,
          57,
          58,
          59,
          60,
          61,
          62,
          63,
          64,
          65,
          66,
          67,
          68,
          69,
          70,
          71,
          72,
          73,
          74,
          75,
          76,
          77,
          78,
          79,
          80,
          81,
          82,
          83,
          84,
          85,
          86,
          87,
          88,
          89,
          90,
          91,
          92,
          93,
          94,
          95,
          96,
          97,
          98,
          99
         ],
         "y": [
          -0.17542322027767698,
          2.1824725997653123,
          -1.3359476440341331,
          0.8627038468410231,
          3.2985001261147344,
          0.3462133490333237,
          1.7165646489004043,
          0.5031362709547428,
          0.030588540693674393,
          1.6570554151513872,
          0.9546356708909349,
          -0.3090845607248525,
          0.6941218478839611,
          0.9100450939534298,
          -0.8100115881735954,
          1.8859649151615616,
          -0.2881541312263364,
          -1.701965185182602,
          -0.8399005751636679,
          2.222345175474884,
          -1.3399564696316726,
          1.3851626070625622,
          0.14311368921903783,
          -2.6951887586162133,
          0.6455354638992733,
          -0.5093087305900716,
          0.6502923689667449,
          0.481718252092472,
          -1.455993689414904,
          1.0697110767040365,
          -1.1632640511227867,
          -0.10340259119128614,
          3.1524084617400283,
          -0.7864453558926077,
          -1.8793510928428518,
          1.6688256186479726,
          -0.27514507438857383,
          1.0937448361976434,
          -0.6586132609361577,
          2.2898138008802356,
          2.935005552270502,
          -0.7089563416622988,
          -0.47325001421140417,
          2.49860925647687,
          -1.1324617351273596,
          1.6675224884777726,
          0.8732426751149494,
          -1.3430250566258781,
          -1.203520551650801,
          1.2607786675845345,
          -0.6528976021241327,
          1.8191602872854522,
          0.32768756624145173,
          1.6051283633661195,
          -0.2265602184807289,
          -0.31909897088158745,
          -0.2930036266835077,
          0.25356870766112816,
          -0.08954284027517079,
          1.2835751387136698,
          -1.7749555494426352,
          -1.309566077171264,
          0.6559000719644376,
          -1.3743822071456386,
          2.214418327189874,
          -0.32564559638168966,
          -0.4727439762345973,
          0.07501246999821048,
          -0.7064329376609353,
          -0.021831906040935156,
          2.8343879827304272,
          -0.6868178075239872,
          0.5300017836179206,
          0.7115576596031655,
          -0.21829610181840947,
          0.9782315723431116,
          0.39009462411514456,
          1.448516846212747,
          0.32166029190114204,
          -4.172672112426212,
          0.3568740784382718,
          1.7779754549957958,
          -0.42284488669536113,
          -1.3323728824768584,
          0.010442917161127774,
          -2.681628107427028,
          1.3057040558696902,
          -0.6924368482532892,
          1.2470008853424803,
          0.6123035332876379,
          1.914463858872005,
          -1.0538569777249869,
          0.4434916534264224,
          0.6544662201619112,
          -1.5962725126397235,
          0.625692102154011,
          -1.0218758336864622,
          -4.018886378790617,
          -1.40432956629171,
          1.5618789859897677
         ]
        }
       ],
       "layout": {
        "legend": {
         "bgcolor": "#F5F6F9",
         "font": {
          "color": "#4D5663"
         }
        },
        "paper_bgcolor": "#F5F6F9",
        "plot_bgcolor": "#F5F6F9",
        "template": {
         "data": {
          "bar": [
           {
            "error_x": {
             "color": "#2a3f5f"
            },
            "error_y": {
             "color": "#2a3f5f"
            },
            "marker": {
             "line": {
              "color": "#E5ECF6",
              "width": 0.5
             },
             "pattern": {
              "fillmode": "overlay",
              "size": 10,
              "solidity": 0.2
             }
            },
            "type": "bar"
           }
          ],
          "barpolar": [
           {
            "marker": {
             "line": {
              "color": "#E5ECF6",
              "width": 0.5
             },
             "pattern": {
              "fillmode": "overlay",
              "size": 10,
              "solidity": 0.2
             }
            },
            "type": "barpolar"
           }
          ],
          "carpet": [
           {
            "aaxis": {
             "endlinecolor": "#2a3f5f",
             "gridcolor": "white",
             "linecolor": "white",
             "minorgridcolor": "white",
             "startlinecolor": "#2a3f5f"
            },
            "baxis": {
             "endlinecolor": "#2a3f5f",
             "gridcolor": "white",
             "linecolor": "white",
             "minorgridcolor": "white",
             "startlinecolor": "#2a3f5f"
            },
            "type": "carpet"
           }
          ],
          "choropleth": [
           {
            "colorbar": {
             "outlinewidth": 0,
             "ticks": ""
            },
            "type": "choropleth"
           }
          ],
          "contour": [
           {
            "colorbar": {
             "outlinewidth": 0,
             "ticks": ""
            },
            "colorscale": [
             [
              0,
              "#0d0887"
             ],
             [
              0.1111111111111111,
              "#46039f"
             ],
             [
              0.2222222222222222,
              "#7201a8"
             ],
             [
              0.3333333333333333,
              "#9c179e"
             ],
             [
              0.4444444444444444,
              "#bd3786"
             ],
             [
              0.5555555555555556,
              "#d8576b"
             ],
             [
              0.6666666666666666,
              "#ed7953"
             ],
             [
              0.7777777777777778,
              "#fb9f3a"
             ],
             [
              0.8888888888888888,
              "#fdca26"
             ],
             [
              1,
              "#f0f921"
             ]
            ],
            "type": "contour"
           }
          ],
          "contourcarpet": [
           {
            "colorbar": {
             "outlinewidth": 0,
             "ticks": ""
            },
            "type": "contourcarpet"
           }
          ],
          "heatmap": [
           {
            "colorbar": {
             "outlinewidth": 0,
             "ticks": ""
            },
            "colorscale": [
             [
              0,
              "#0d0887"
             ],
             [
              0.1111111111111111,
              "#46039f"
             ],
             [
              0.2222222222222222,
              "#7201a8"
             ],
             [
              0.3333333333333333,
              "#9c179e"
             ],
             [
              0.4444444444444444,
              "#bd3786"
             ],
             [
              0.5555555555555556,
              "#d8576b"
             ],
             [
              0.6666666666666666,
              "#ed7953"
             ],
             [
              0.7777777777777778,
              "#fb9f3a"
             ],
             [
              0.8888888888888888,
              "#fdca26"
             ],
             [
              1,
              "#f0f921"
             ]
            ],
            "type": "heatmap"
           }
          ],
          "heatmapgl": [
           {
            "colorbar": {
             "outlinewidth": 0,
             "ticks": ""
            },
            "colorscale": [
             [
              0,
              "#0d0887"
             ],
             [
              0.1111111111111111,
              "#46039f"
             ],
             [
              0.2222222222222222,
              "#7201a8"
             ],
             [
              0.3333333333333333,
              "#9c179e"
             ],
             [
              0.4444444444444444,
              "#bd3786"
             ],
             [
              0.5555555555555556,
              "#d8576b"
             ],
             [
              0.6666666666666666,
              "#ed7953"
             ],
             [
              0.7777777777777778,
              "#fb9f3a"
             ],
             [
              0.8888888888888888,
              "#fdca26"
             ],
             [
              1,
              "#f0f921"
             ]
            ],
            "type": "heatmapgl"
           }
          ],
          "histogram": [
           {
            "marker": {
             "pattern": {
              "fillmode": "overlay",
              "size": 10,
              "solidity": 0.2
             }
            },
            "type": "histogram"
           }
          ],
          "histogram2d": [
           {
            "colorbar": {
             "outlinewidth": 0,
             "ticks": ""
            },
            "colorscale": [
             [
              0,
              "#0d0887"
             ],
             [
              0.1111111111111111,
              "#46039f"
             ],
             [
              0.2222222222222222,
              "#7201a8"
             ],
             [
              0.3333333333333333,
              "#9c179e"
             ],
             [
              0.4444444444444444,
              "#bd3786"
             ],
             [
              0.5555555555555556,
              "#d8576b"
             ],
             [
              0.6666666666666666,
              "#ed7953"
             ],
             [
              0.7777777777777778,
              "#fb9f3a"
             ],
             [
              0.8888888888888888,
              "#fdca26"
             ],
             [
              1,
              "#f0f921"
             ]
            ],
            "type": "histogram2d"
           }
          ],
          "histogram2dcontour": [
           {
            "colorbar": {
             "outlinewidth": 0,
             "ticks": ""
            },
            "colorscale": [
             [
              0,
              "#0d0887"
             ],
             [
              0.1111111111111111,
              "#46039f"
             ],
             [
              0.2222222222222222,
              "#7201a8"
             ],
             [
              0.3333333333333333,
              "#9c179e"
             ],
             [
              0.4444444444444444,
              "#bd3786"
             ],
             [
              0.5555555555555556,
              "#d8576b"
             ],
             [
              0.6666666666666666,
              "#ed7953"
             ],
             [
              0.7777777777777778,
              "#fb9f3a"
             ],
             [
              0.8888888888888888,
              "#fdca26"
             ],
             [
              1,
              "#f0f921"
             ]
            ],
            "type": "histogram2dcontour"
           }
          ],
          "mesh3d": [
           {
            "colorbar": {
             "outlinewidth": 0,
             "ticks": ""
            },
            "type": "mesh3d"
           }
          ],
          "parcoords": [
           {
            "line": {
             "colorbar": {
              "outlinewidth": 0,
              "ticks": ""
             }
            },
            "type": "parcoords"
           }
          ],
          "pie": [
           {
            "automargin": true,
            "type": "pie"
           }
          ],
          "scatter": [
           {
            "fillpattern": {
             "fillmode": "overlay",
             "size": 10,
             "solidity": 0.2
            },
            "type": "scatter"
           }
          ],
          "scatter3d": [
           {
            "line": {
             "colorbar": {
              "outlinewidth": 0,
              "ticks": ""
             }
            },
            "marker": {
             "colorbar": {
              "outlinewidth": 0,
              "ticks": ""
             }
            },
            "type": "scatter3d"
           }
          ],
          "scattercarpet": [
           {
            "marker": {
             "colorbar": {
              "outlinewidth": 0,
              "ticks": ""
             }
            },
            "type": "scattercarpet"
           }
          ],
          "scattergeo": [
           {
            "marker": {
             "colorbar": {
              "outlinewidth": 0,
              "ticks": ""
             }
            },
            "type": "scattergeo"
           }
          ],
          "scattergl": [
           {
            "marker": {
             "colorbar": {
              "outlinewidth": 0,
              "ticks": ""
             }
            },
            "type": "scattergl"
           }
          ],
          "scattermapbox": [
           {
            "marker": {
             "colorbar": {
              "outlinewidth": 0,
              "ticks": ""
             }
            },
            "type": "scattermapbox"
           }
          ],
          "scatterpolar": [
           {
            "marker": {
             "colorbar": {
              "outlinewidth": 0,
              "ticks": ""
             }
            },
            "type": "scatterpolar"
           }
          ],
          "scatterpolargl": [
           {
            "marker": {
             "colorbar": {
              "outlinewidth": 0,
              "ticks": ""
             }
            },
            "type": "scatterpolargl"
           }
          ],
          "scatterternary": [
           {
            "marker": {
             "colorbar": {
              "outlinewidth": 0,
              "ticks": ""
             }
            },
            "type": "scatterternary"
           }
          ],
          "surface": [
           {
            "colorbar": {
             "outlinewidth": 0,
             "ticks": ""
            },
            "colorscale": [
             [
              0,
              "#0d0887"
             ],
             [
              0.1111111111111111,
              "#46039f"
             ],
             [
              0.2222222222222222,
              "#7201a8"
             ],
             [
              0.3333333333333333,
              "#9c179e"
             ],
             [
              0.4444444444444444,
              "#bd3786"
             ],
             [
              0.5555555555555556,
              "#d8576b"
             ],
             [
              0.6666666666666666,
              "#ed7953"
             ],
             [
              0.7777777777777778,
              "#fb9f3a"
             ],
             [
              0.8888888888888888,
              "#fdca26"
             ],
             [
              1,
              "#f0f921"
             ]
            ],
            "type": "surface"
           }
          ],
          "table": [
           {
            "cells": {
             "fill": {
              "color": "#EBF0F8"
             },
             "line": {
              "color": "white"
             }
            },
            "header": {
             "fill": {
              "color": "#C8D4E3"
             },
             "line": {
              "color": "white"
             }
            },
            "type": "table"
           }
          ]
         },
         "layout": {
          "annotationdefaults": {
           "arrowcolor": "#2a3f5f",
           "arrowhead": 0,
           "arrowwidth": 1
          },
          "autotypenumbers": "strict",
          "coloraxis": {
           "colorbar": {
            "outlinewidth": 0,
            "ticks": ""
           }
          },
          "colorscale": {
           "diverging": [
            [
             0,
             "#8e0152"
            ],
            [
             0.1,
             "#c51b7d"
            ],
            [
             0.2,
             "#de77ae"
            ],
            [
             0.3,
             "#f1b6da"
            ],
            [
             0.4,
             "#fde0ef"
            ],
            [
             0.5,
             "#f7f7f7"
            ],
            [
             0.6,
             "#e6f5d0"
            ],
            [
             0.7,
             "#b8e186"
            ],
            [
             0.8,
             "#7fbc41"
            ],
            [
             0.9,
             "#4d9221"
            ],
            [
             1,
             "#276419"
            ]
           ],
           "sequential": [
            [
             0,
             "#0d0887"
            ],
            [
             0.1111111111111111,
             "#46039f"
            ],
            [
             0.2222222222222222,
             "#7201a8"
            ],
            [
             0.3333333333333333,
             "#9c179e"
            ],
            [
             0.4444444444444444,
             "#bd3786"
            ],
            [
             0.5555555555555556,
             "#d8576b"
            ],
            [
             0.6666666666666666,
             "#ed7953"
            ],
            [
             0.7777777777777778,
             "#fb9f3a"
            ],
            [
             0.8888888888888888,
             "#fdca26"
            ],
            [
             1,
             "#f0f921"
            ]
           ],
           "sequentialminus": [
            [
             0,
             "#0d0887"
            ],
            [
             0.1111111111111111,
             "#46039f"
            ],
            [
             0.2222222222222222,
             "#7201a8"
            ],
            [
             0.3333333333333333,
             "#9c179e"
            ],
            [
             0.4444444444444444,
             "#bd3786"
            ],
            [
             0.5555555555555556,
             "#d8576b"
            ],
            [
             0.6666666666666666,
             "#ed7953"
            ],
            [
             0.7777777777777778,
             "#fb9f3a"
            ],
            [
             0.8888888888888888,
             "#fdca26"
            ],
            [
             1,
             "#f0f921"
            ]
           ]
          },
          "colorway": [
           "#636efa",
           "#EF553B",
           "#00cc96",
           "#ab63fa",
           "#FFA15A",
           "#19d3f3",
           "#FF6692",
           "#B6E880",
           "#FF97FF",
           "#FECB52"
          ],
          "font": {
           "color": "#2a3f5f"
          },
          "geo": {
           "bgcolor": "white",
           "lakecolor": "white",
           "landcolor": "#E5ECF6",
           "showlakes": true,
           "showland": true,
           "subunitcolor": "white"
          },
          "hoverlabel": {
           "align": "left"
          },
          "hovermode": "closest",
          "mapbox": {
           "style": "light"
          },
          "paper_bgcolor": "white",
          "plot_bgcolor": "#E5ECF6",
          "polar": {
           "angularaxis": {
            "gridcolor": "white",
            "linecolor": "white",
            "ticks": ""
           },
           "bgcolor": "#E5ECF6",
           "radialaxis": {
            "gridcolor": "white",
            "linecolor": "white",
            "ticks": ""
           }
          },
          "scene": {
           "xaxis": {
            "backgroundcolor": "#E5ECF6",
            "gridcolor": "white",
            "gridwidth": 2,
            "linecolor": "white",
            "showbackground": true,
            "ticks": "",
            "zerolinecolor": "white"
           },
           "yaxis": {
            "backgroundcolor": "#E5ECF6",
            "gridcolor": "white",
            "gridwidth": 2,
            "linecolor": "white",
            "showbackground": true,
            "ticks": "",
            "zerolinecolor": "white"
           },
           "zaxis": {
            "backgroundcolor": "#E5ECF6",
            "gridcolor": "white",
            "gridwidth": 2,
            "linecolor": "white",
            "showbackground": true,
            "ticks": "",
            "zerolinecolor": "white"
           }
          },
          "shapedefaults": {
           "line": {
            "color": "#2a3f5f"
           }
          },
          "ternary": {
           "aaxis": {
            "gridcolor": "white",
            "linecolor": "white",
            "ticks": ""
           },
           "baxis": {
            "gridcolor": "white",
            "linecolor": "white",
            "ticks": ""
           },
           "bgcolor": "#E5ECF6",
           "caxis": {
            "gridcolor": "white",
            "linecolor": "white",
            "ticks": ""
           }
          },
          "title": {
           "x": 0.05
          },
          "xaxis": {
           "automargin": true,
           "gridcolor": "white",
           "linecolor": "white",
           "ticks": "",
           "title": {
            "standoff": 15
           },
           "zerolinecolor": "white",
           "zerolinewidth": 2
          },
          "yaxis": {
           "automargin": true,
           "gridcolor": "white",
           "linecolor": "white",
           "ticks": "",
           "title": {
            "standoff": 15
           },
           "zerolinecolor": "white",
           "zerolinewidth": 2
          }
         }
        },
        "title": {
         "font": {
          "color": "#4D5663"
         },
         "text": "Spread Plot"
        },
        "xaxis": {
         "gridcolor": "#E1E5ED",
         "showgrid": true,
         "tickfont": {
          "color": "#4D5663"
         },
         "title": {
          "font": {
           "color": "#4D5663"
          },
          "text": "Index"
         },
         "zerolinecolor": "#E1E5ED"
        },
        "yaxis": {
         "gridcolor": "#E1E5ED",
         "showgrid": true,
         "tickfont": {
          "color": "#4D5663"
         },
         "title": {
          "font": {
           "color": "#4D5663"
          },
          "text": "Spread"
         },
         "zerolinecolor": "#E1E5ED"
        }
       }
      },
      "text/html": [
       "<div>                            <div id=\"99ce189e-848d-4439-8c07-9576e419e6a3\" class=\"plotly-graph-div\" style=\"height:525px; width:100%;\"></div>            <script type=\"text/javascript\">                require([\"plotly\"], function(Plotly) {                    window.PLOTLYENV=window.PLOTLYENV || {};\n",
       "                    window.PLOTLYENV.BASE_URL='https://plot.ly';                                    if (document.getElementById(\"99ce189e-848d-4439-8c07-9576e419e6a3\")) {                    Plotly.newPlot(                        \"99ce189e-848d-4439-8c07-9576e419e6a3\",                        [{\"line\":{\"color\":\"rgba(255, 153, 51, 1.0)\",\"dash\":\"solid\",\"shape\":\"linear\",\"width\":1.3},\"mode\":\"lines\",\"name\":\"Spread\",\"text\":\"\",\"x\":[0,1,2,3,4,5,6,7,8,9,10,11,12,13,14,15,16,17,18,19,20,21,22,23,24,25,26,27,28,29,30,31,32,33,34,35,36,37,38,39,40,41,42,43,44,45,46,47,48,49,50,51,52,53,54,55,56,57,58,59,60,61,62,63,64,65,66,67,68,69,70,71,72,73,74,75,76,77,78,79,80,81,82,83,84,85,86,87,88,89,90,91,92,93,94,95,96,97,98,99],\"y\":[-0.17542322027767698,2.1824725997653123,-1.3359476440341331,0.8627038468410231,3.2985001261147344,0.3462133490333237,1.7165646489004043,0.5031362709547428,0.030588540693674393,1.6570554151513872,0.9546356708909349,-0.3090845607248525,0.6941218478839611,0.9100450939534298,-0.8100115881735954,1.8859649151615616,-0.2881541312263364,-1.701965185182602,-0.8399005751636679,2.222345175474884,-1.3399564696316726,1.3851626070625622,0.14311368921903783,-2.6951887586162133,0.6455354638992733,-0.5093087305900716,0.6502923689667449,0.481718252092472,-1.455993689414904,1.0697110767040365,-1.1632640511227867,-0.10340259119128614,3.1524084617400283,-0.7864453558926077,-1.8793510928428518,1.6688256186479726,-0.27514507438857383,1.0937448361976434,-0.6586132609361577,2.2898138008802356,2.935005552270502,-0.7089563416622988,-0.47325001421140417,2.49860925647687,-1.1324617351273596,1.6675224884777726,0.8732426751149494,-1.3430250566258781,-1.203520551650801,1.2607786675845345,-0.6528976021241327,1.8191602872854522,0.32768756624145173,1.6051283633661195,-0.2265602184807289,-0.31909897088158745,-0.2930036266835077,0.25356870766112816,-0.08954284027517079,1.2835751387136698,-1.7749555494426352,-1.309566077171264,0.6559000719644376,-1.3743822071456386,2.214418327189874,-0.32564559638168966,-0.4727439762345973,0.07501246999821048,-0.7064329376609353,-0.021831906040935156,2.8343879827304272,-0.6868178075239872,0.5300017836179206,0.7115576596031655,-0.21829610181840947,0.9782315723431116,0.39009462411514456,1.448516846212747,0.32166029190114204,-4.172672112426212,0.3568740784382718,1.7779754549957958,-0.42284488669536113,-1.3323728824768584,0.010442917161127774,-2.681628107427028,1.3057040558696902,-0.6924368482532892,1.2470008853424803,0.6123035332876379,1.914463858872005,-1.0538569777249869,0.4434916534264224,0.6544662201619112,-1.5962725126397235,0.625692102154011,-1.0218758336864622,-4.018886378790617,-1.40432956629171,1.5618789859897677],\"type\":\"scatter\"}],                        {\"legend\":{\"bgcolor\":\"#F5F6F9\",\"font\":{\"color\":\"#4D5663\"}},\"paper_bgcolor\":\"#F5F6F9\",\"plot_bgcolor\":\"#F5F6F9\",\"template\":{\"data\":{\"barpolar\":[{\"marker\":{\"line\":{\"color\":\"#E5ECF6\",\"width\":0.5},\"pattern\":{\"fillmode\":\"overlay\",\"size\":10,\"solidity\":0.2}},\"type\":\"barpolar\"}],\"bar\":[{\"error_x\":{\"color\":\"#2a3f5f\"},\"error_y\":{\"color\":\"#2a3f5f\"},\"marker\":{\"line\":{\"color\":\"#E5ECF6\",\"width\":0.5},\"pattern\":{\"fillmode\":\"overlay\",\"size\":10,\"solidity\":0.2}},\"type\":\"bar\"}],\"carpet\":[{\"aaxis\":{\"endlinecolor\":\"#2a3f5f\",\"gridcolor\":\"white\",\"linecolor\":\"white\",\"minorgridcolor\":\"white\",\"startlinecolor\":\"#2a3f5f\"},\"baxis\":{\"endlinecolor\":\"#2a3f5f\",\"gridcolor\":\"white\",\"linecolor\":\"white\",\"minorgridcolor\":\"white\",\"startlinecolor\":\"#2a3f5f\"},\"type\":\"carpet\"}],\"choropleth\":[{\"colorbar\":{\"outlinewidth\":0,\"ticks\":\"\"},\"type\":\"choropleth\"}],\"contourcarpet\":[{\"colorbar\":{\"outlinewidth\":0,\"ticks\":\"\"},\"type\":\"contourcarpet\"}],\"contour\":[{\"colorbar\":{\"outlinewidth\":0,\"ticks\":\"\"},\"colorscale\":[[0.0,\"#0d0887\"],[0.1111111111111111,\"#46039f\"],[0.2222222222222222,\"#7201a8\"],[0.3333333333333333,\"#9c179e\"],[0.4444444444444444,\"#bd3786\"],[0.5555555555555556,\"#d8576b\"],[0.6666666666666666,\"#ed7953\"],[0.7777777777777778,\"#fb9f3a\"],[0.8888888888888888,\"#fdca26\"],[1.0,\"#f0f921\"]],\"type\":\"contour\"}],\"heatmapgl\":[{\"colorbar\":{\"outlinewidth\":0,\"ticks\":\"\"},\"colorscale\":[[0.0,\"#0d0887\"],[0.1111111111111111,\"#46039f\"],[0.2222222222222222,\"#7201a8\"],[0.3333333333333333,\"#9c179e\"],[0.4444444444444444,\"#bd3786\"],[0.5555555555555556,\"#d8576b\"],[0.6666666666666666,\"#ed7953\"],[0.7777777777777778,\"#fb9f3a\"],[0.8888888888888888,\"#fdca26\"],[1.0,\"#f0f921\"]],\"type\":\"heatmapgl\"}],\"heatmap\":[{\"colorbar\":{\"outlinewidth\":0,\"ticks\":\"\"},\"colorscale\":[[0.0,\"#0d0887\"],[0.1111111111111111,\"#46039f\"],[0.2222222222222222,\"#7201a8\"],[0.3333333333333333,\"#9c179e\"],[0.4444444444444444,\"#bd3786\"],[0.5555555555555556,\"#d8576b\"],[0.6666666666666666,\"#ed7953\"],[0.7777777777777778,\"#fb9f3a\"],[0.8888888888888888,\"#fdca26\"],[1.0,\"#f0f921\"]],\"type\":\"heatmap\"}],\"histogram2dcontour\":[{\"colorbar\":{\"outlinewidth\":0,\"ticks\":\"\"},\"colorscale\":[[0.0,\"#0d0887\"],[0.1111111111111111,\"#46039f\"],[0.2222222222222222,\"#7201a8\"],[0.3333333333333333,\"#9c179e\"],[0.4444444444444444,\"#bd3786\"],[0.5555555555555556,\"#d8576b\"],[0.6666666666666666,\"#ed7953\"],[0.7777777777777778,\"#fb9f3a\"],[0.8888888888888888,\"#fdca26\"],[1.0,\"#f0f921\"]],\"type\":\"histogram2dcontour\"}],\"histogram2d\":[{\"colorbar\":{\"outlinewidth\":0,\"ticks\":\"\"},\"colorscale\":[[0.0,\"#0d0887\"],[0.1111111111111111,\"#46039f\"],[0.2222222222222222,\"#7201a8\"],[0.3333333333333333,\"#9c179e\"],[0.4444444444444444,\"#bd3786\"],[0.5555555555555556,\"#d8576b\"],[0.6666666666666666,\"#ed7953\"],[0.7777777777777778,\"#fb9f3a\"],[0.8888888888888888,\"#fdca26\"],[1.0,\"#f0f921\"]],\"type\":\"histogram2d\"}],\"histogram\":[{\"marker\":{\"pattern\":{\"fillmode\":\"overlay\",\"size\":10,\"solidity\":0.2}},\"type\":\"histogram\"}],\"mesh3d\":[{\"colorbar\":{\"outlinewidth\":0,\"ticks\":\"\"},\"type\":\"mesh3d\"}],\"parcoords\":[{\"line\":{\"colorbar\":{\"outlinewidth\":0,\"ticks\":\"\"}},\"type\":\"parcoords\"}],\"pie\":[{\"automargin\":true,\"type\":\"pie\"}],\"scatter3d\":[{\"line\":{\"colorbar\":{\"outlinewidth\":0,\"ticks\":\"\"}},\"marker\":{\"colorbar\":{\"outlinewidth\":0,\"ticks\":\"\"}},\"type\":\"scatter3d\"}],\"scattercarpet\":[{\"marker\":{\"colorbar\":{\"outlinewidth\":0,\"ticks\":\"\"}},\"type\":\"scattercarpet\"}],\"scattergeo\":[{\"marker\":{\"colorbar\":{\"outlinewidth\":0,\"ticks\":\"\"}},\"type\":\"scattergeo\"}],\"scattergl\":[{\"marker\":{\"colorbar\":{\"outlinewidth\":0,\"ticks\":\"\"}},\"type\":\"scattergl\"}],\"scattermapbox\":[{\"marker\":{\"colorbar\":{\"outlinewidth\":0,\"ticks\":\"\"}},\"type\":\"scattermapbox\"}],\"scatterpolargl\":[{\"marker\":{\"colorbar\":{\"outlinewidth\":0,\"ticks\":\"\"}},\"type\":\"scatterpolargl\"}],\"scatterpolar\":[{\"marker\":{\"colorbar\":{\"outlinewidth\":0,\"ticks\":\"\"}},\"type\":\"scatterpolar\"}],\"scatter\":[{\"fillpattern\":{\"fillmode\":\"overlay\",\"size\":10,\"solidity\":0.2},\"type\":\"scatter\"}],\"scatterternary\":[{\"marker\":{\"colorbar\":{\"outlinewidth\":0,\"ticks\":\"\"}},\"type\":\"scatterternary\"}],\"surface\":[{\"colorbar\":{\"outlinewidth\":0,\"ticks\":\"\"},\"colorscale\":[[0.0,\"#0d0887\"],[0.1111111111111111,\"#46039f\"],[0.2222222222222222,\"#7201a8\"],[0.3333333333333333,\"#9c179e\"],[0.4444444444444444,\"#bd3786\"],[0.5555555555555556,\"#d8576b\"],[0.6666666666666666,\"#ed7953\"],[0.7777777777777778,\"#fb9f3a\"],[0.8888888888888888,\"#fdca26\"],[1.0,\"#f0f921\"]],\"type\":\"surface\"}],\"table\":[{\"cells\":{\"fill\":{\"color\":\"#EBF0F8\"},\"line\":{\"color\":\"white\"}},\"header\":{\"fill\":{\"color\":\"#C8D4E3\"},\"line\":{\"color\":\"white\"}},\"type\":\"table\"}]},\"layout\":{\"annotationdefaults\":{\"arrowcolor\":\"#2a3f5f\",\"arrowhead\":0,\"arrowwidth\":1},\"autotypenumbers\":\"strict\",\"coloraxis\":{\"colorbar\":{\"outlinewidth\":0,\"ticks\":\"\"}},\"colorscale\":{\"diverging\":[[0,\"#8e0152\"],[0.1,\"#c51b7d\"],[0.2,\"#de77ae\"],[0.3,\"#f1b6da\"],[0.4,\"#fde0ef\"],[0.5,\"#f7f7f7\"],[0.6,\"#e6f5d0\"],[0.7,\"#b8e186\"],[0.8,\"#7fbc41\"],[0.9,\"#4d9221\"],[1,\"#276419\"]],\"sequential\":[[0.0,\"#0d0887\"],[0.1111111111111111,\"#46039f\"],[0.2222222222222222,\"#7201a8\"],[0.3333333333333333,\"#9c179e\"],[0.4444444444444444,\"#bd3786\"],[0.5555555555555556,\"#d8576b\"],[0.6666666666666666,\"#ed7953\"],[0.7777777777777778,\"#fb9f3a\"],[0.8888888888888888,\"#fdca26\"],[1.0,\"#f0f921\"]],\"sequentialminus\":[[0.0,\"#0d0887\"],[0.1111111111111111,\"#46039f\"],[0.2222222222222222,\"#7201a8\"],[0.3333333333333333,\"#9c179e\"],[0.4444444444444444,\"#bd3786\"],[0.5555555555555556,\"#d8576b\"],[0.6666666666666666,\"#ed7953\"],[0.7777777777777778,\"#fb9f3a\"],[0.8888888888888888,\"#fdca26\"],[1.0,\"#f0f921\"]]},\"colorway\":[\"#636efa\",\"#EF553B\",\"#00cc96\",\"#ab63fa\",\"#FFA15A\",\"#19d3f3\",\"#FF6692\",\"#B6E880\",\"#FF97FF\",\"#FECB52\"],\"font\":{\"color\":\"#2a3f5f\"},\"geo\":{\"bgcolor\":\"white\",\"lakecolor\":\"white\",\"landcolor\":\"#E5ECF6\",\"showlakes\":true,\"showland\":true,\"subunitcolor\":\"white\"},\"hoverlabel\":{\"align\":\"left\"},\"hovermode\":\"closest\",\"mapbox\":{\"style\":\"light\"},\"paper_bgcolor\":\"white\",\"plot_bgcolor\":\"#E5ECF6\",\"polar\":{\"angularaxis\":{\"gridcolor\":\"white\",\"linecolor\":\"white\",\"ticks\":\"\"},\"bgcolor\":\"#E5ECF6\",\"radialaxis\":{\"gridcolor\":\"white\",\"linecolor\":\"white\",\"ticks\":\"\"}},\"scene\":{\"xaxis\":{\"backgroundcolor\":\"#E5ECF6\",\"gridcolor\":\"white\",\"gridwidth\":2,\"linecolor\":\"white\",\"showbackground\":true,\"ticks\":\"\",\"zerolinecolor\":\"white\"},\"yaxis\":{\"backgroundcolor\":\"#E5ECF6\",\"gridcolor\":\"white\",\"gridwidth\":2,\"linecolor\":\"white\",\"showbackground\":true,\"ticks\":\"\",\"zerolinecolor\":\"white\"},\"zaxis\":{\"backgroundcolor\":\"#E5ECF6\",\"gridcolor\":\"white\",\"gridwidth\":2,\"linecolor\":\"white\",\"showbackground\":true,\"ticks\":\"\",\"zerolinecolor\":\"white\"}},\"shapedefaults\":{\"line\":{\"color\":\"#2a3f5f\"}},\"ternary\":{\"aaxis\":{\"gridcolor\":\"white\",\"linecolor\":\"white\",\"ticks\":\"\"},\"baxis\":{\"gridcolor\":\"white\",\"linecolor\":\"white\",\"ticks\":\"\"},\"bgcolor\":\"#E5ECF6\",\"caxis\":{\"gridcolor\":\"white\",\"linecolor\":\"white\",\"ticks\":\"\"}},\"title\":{\"x\":0.05},\"xaxis\":{\"automargin\":true,\"gridcolor\":\"white\",\"linecolor\":\"white\",\"ticks\":\"\",\"title\":{\"standoff\":15},\"zerolinecolor\":\"white\",\"zerolinewidth\":2},\"yaxis\":{\"automargin\":true,\"gridcolor\":\"white\",\"linecolor\":\"white\",\"ticks\":\"\",\"title\":{\"standoff\":15},\"zerolinecolor\":\"white\",\"zerolinewidth\":2}}},\"title\":{\"font\":{\"color\":\"#4D5663\"},\"text\":\"Spread Plot\"},\"xaxis\":{\"gridcolor\":\"#E1E5ED\",\"showgrid\":true,\"tickfont\":{\"color\":\"#4D5663\"},\"title\":{\"font\":{\"color\":\"#4D5663\"},\"text\":\"Index\"},\"zerolinecolor\":\"#E1E5ED\"},\"yaxis\":{\"gridcolor\":\"#E1E5ED\",\"showgrid\":true,\"tickfont\":{\"color\":\"#4D5663\"},\"title\":{\"font\":{\"color\":\"#4D5663\"},\"text\":\"Spread\"},\"zerolinecolor\":\"#E1E5ED\"}},                        {\"showLink\": true, \"linkText\": \"Export to plot.ly\", \"plotlyServerURL\": \"https://plot.ly\", \"responsive\": true}                    ).then(function(){\n",
       "                            \n",
       "var gd = document.getElementById('99ce189e-848d-4439-8c07-9576e419e6a3');\n",
       "var x = new MutationObserver(function (mutations, observer) {{\n",
       "        var display = window.getComputedStyle(gd).display;\n",
       "        if (!display || display === 'none') {{\n",
       "            console.log([gd, 'removed!']);\n",
       "            Plotly.purge(gd);\n",
       "            observer.disconnect();\n",
       "        }}\n",
       "}});\n",
       "\n",
       "// Listen for the removal of the full notebook cells\n",
       "var notebookContainer = gd.closest('#notebook-container');\n",
       "if (notebookContainer) {{\n",
       "    x.observe(notebookContainer, {childList: true});\n",
       "}}\n",
       "\n",
       "// Listen for the clearing of the current output cell\n",
       "var outputEl = gd.closest('.output');\n",
       "if (outputEl) {{\n",
       "    x.observe(outputEl, {childList: true});\n",
       "}}\n",
       "\n",
       "                        })                };                });            </script>        </div>"
      ]
     },
     "metadata": {},
     "output_type": "display_data"
    }
   ],
   "source": [
    "\n",
    "\n",
    "spread_df = pd.DataFrame({'Spread': df['A'] - df['B']})\n",
    "\n",
    "spread_df.iplot(kind='scatter', mode='lines', title='Spread Plot', xTitle='Index',yTitle='Spread')\n"
   ]
  },
  {
   "cell_type": "code",
   "execution_count": 50,
   "id": "dd47b174",
   "metadata": {},
   "outputs": [
    {
     "data": {
      "application/vnd.plotly.v1+json": {
       "config": {
        "linkText": "Export to plot.ly",
        "plotlyServerURL": "https://plot.ly",
        "showLink": true
       },
       "data": [
        {
         "marker": {
          "color": [
           "rgb(252,251,253)",
           "rgb(239,237,245)",
           "rgb(218,218,235)",
           "rgb(188,189,220)",
           "rgb(158,154,200)",
           "rgb(128,125,186)",
           "rgb(106,81,163)",
           "rgb(84,39,143)",
           "rgb(63,0,125)"
          ],
          "line": {
           "width": 1.3
          },
          "size": [
           46,
           112,
           45,
           65,
           74,
           56,
           87,
           40,
           59,
           85,
           40,
           85,
           48,
           77,
           79,
           58,
           64,
           45,
           78,
           73,
           63,
           12,
           85,
           62,
           43,
           66,
           55,
           38,
           39,
           86,
           91,
           33,
           72,
           45,
           54,
           53,
           70,
           95,
           64,
           76,
           57,
           76,
           75,
           74,
           45,
           68,
           50,
           87,
           31,
           44,
           76,
           64,
           67,
           57,
           70,
           102,
           62,
           58,
           67,
           74,
           46,
           83,
           42,
           55,
           107,
           48,
           27,
           86,
           54,
           54,
           28,
           45,
           68,
           48,
           66,
           82,
           100,
           62,
           76,
           65,
           63,
           98,
           77,
           49,
           87,
           83,
           49,
           61,
           54,
           90,
           96,
           62,
           98,
           38,
           69,
           50,
           44,
           49,
           61,
           73
          ],
          "symbol": "circle"
         },
         "mode": "markers",
         "text": "",
         "type": "scatter",
         "x": [
          -0.23833749478084632,
          0.6501994394768832,
          0.69240112895364,
          1.5320970914057563,
          1.5143536412100664,
          0.9091328451299554,
          0.5633932306807066,
          -0.6957450025151292,
          -0.3293951092999953,
          0.07112715282153531,
          1.3871289338711221,
          -0.30275030951868354,
          0.4325520012397575,
          0.3557928642971695,
          -0.14842497025923618,
          0.5618247664499927,
          0.05994346882977397,
          -1.4735100631741256,
          -0.08917911520644622,
          1.7363207791384538,
          -0.14329310593151515,
          0.15611611177600046,
          0.5406570368378665,
          -0.9957010147824803,
          1.387177334594978,
          0.1310498324631058,
          -0.22314038016345794,
          0.08879164066410501,
          -0.8810051288147794,
          -0.9770286284628511,
          -0.6715971578254221,
          1.3002560139455641,
          2.321624410335273,
          -0.15289584456586722,
          -0.6972843987992097,
          0.5931203866351997,
          0.9130042417329262,
          -0.3295338415521216,
          -1.3016776038004398,
          1.960484862694741,
          2.2802574608931754,
          -1.55531604820331,
          -0.4757202431700581,
          1.4373273727690996,
          -1.0070240274826834,
          1.2629202246100506,
          0.12856968538899607,
          -1.1243817895047012,
          0.04653002549161323,
          0.4369480939055736,
          0.2693438575066526,
          1.8038758704998965,
          0.1029603524630663,
          1.6081370990783066,
          -0.1378580105992773,
          0.5793942859228219,
          -0.14858741009587503,
          -0.19768016506777614,
          1.048015998868027,
          0.630830200972105,
          -1.5016688943855903,
          -0.42725460179513036,
          0.6632276199073781,
          0.03905584833789047,
          1.7065901060137059,
          -1.1400524905628655,
          0.4061750213104448,
          -0.3410890234644094,
          0.528994584107765,
          -0.44653772676211606,
          1.0273411655950548,
          -0.7616521517056599,
          -0.2990750926136947,
          0.7438791605337584,
          -0.6864816773203487,
          0.29972132855314054,
          0.0635865919701606,
          1.1160715054732728,
          0.23893414638922392,
          -3.0791028296082588,
          0.5628299582121862,
          1.3428877260800716,
          0.16002233058937887,
          -1.908974501388095,
          -1.063113689959441,
          -1.6701307613421852,
          0.6415131291626535,
          -1.4708631052358239,
          0.4542836706219212,
          -0.1803329649366861,
          2.3448185248734807,
          -0.42455083915233127,
          1.3596741223109698,
          -0.6387336708337593,
          -1.199901298038498,
          -0.46670532426178835,
          -1.9657923377437196,
          -2.5721533669425205,
          1.255546642935715,
          0.12504483924872897
         ],
         "y": [
          -0.06291427450316933,
          -1.5322731602884292,
          2.028348772987773,
          0.6693932445647333,
          -1.784146484904668,
          0.5629194960966317,
          -1.1531714182196977,
          -1.198881273469872,
          -0.3599836499936697,
          -1.5859282623298518,
          0.43249326298018725,
          0.006334251206168981,
          -0.26156984664420363,
          -0.5542522296562603,
          0.6615866179143592,
          -1.324140148711569,
          0.34809760005611035,
          0.22845512200847662,
          0.7507214599572216,
          -0.4860243963364303,
          1.1966633637001574,
          -1.2290464952865618,
          0.39754334761882865,
          1.6994877438337332,
          0.7416418706957048,
          0.6403585630531775,
          -0.8734327491302029,
          -0.392926611428367,
          0.5749885606001245,
          -2.0467397051668876,
          0.49166689329736457,
          1.4036586051368503,
          -0.8307840514047554,
          0.6335495113267404,
          1.1820666940436422,
          -1.075705232012773,
          1.1881493161215,
          -1.423278677749765,
          -0.6430643428642822,
          -0.3293289381854944,
          -0.6547480913773267,
          -0.8463597065410111,
          -0.0024702289586539285,
          -1.0612818837077704,
          0.1254377076446763,
          -0.404602263867722,
          -0.7446729897259533,
          0.2186432671211768,
          1.2500505771424142,
          -0.8238305736789608,
          0.9222414596307853,
          -0.015284416785555715,
          -0.22472721377838545,
          0.0030087357121871758,
          0.08870220788145161,
          0.8984932568044094,
          0.14441621658763268,
          -0.4512488727289043,
          1.1375588391431979,
          -0.6527449377415648,
          0.27328665505704497,
          0.8823114753761337,
          0.00732754794294055,
          1.413438055483529,
          -0.5078282211761682,
          -0.8144068941811758,
          0.8789189975450421,
          -0.4161014934626199,
          1.2354275217687003,
          -0.4247058207211809,
          -1.8070468171353722,
          -0.07483434418167269,
          -0.8290768762316153,
          0.0323215009305928,
          -0.46818557550193923,
          -0.678510243789971,
          -0.326508032144984,
          -0.332445340739474,
          -0.08272614551191813,
          1.0935692828179533,
          0.2059558797739144,
          -0.4350877289157243,
          0.58286721728474,
          -0.5766016189112366,
          -1.0735566071205689,
          1.0114973460848427,
          -0.6641909267070367,
          -0.7784262569825346,
          -0.7927172147205591,
          -0.792636498224324,
          0.4303546660014756,
          0.6293061385726557,
          0.9161824688845475,
          -1.2931998909956706,
          0.3963712146012255,
          -1.0923974264157994,
          -0.9439165040572574,
          1.446733011848096,
          2.659876209227425,
          -1.4368341467410388
         ]
        }
       ],
       "layout": {
        "legend": {
         "bgcolor": "#F5F6F9",
         "font": {
          "color": "#4D5663"
         }
        },
        "paper_bgcolor": "#F5F6F9",
        "plot_bgcolor": "#F5F6F9",
        "template": {
         "data": {
          "bar": [
           {
            "error_x": {
             "color": "#2a3f5f"
            },
            "error_y": {
             "color": "#2a3f5f"
            },
            "marker": {
             "line": {
              "color": "#E5ECF6",
              "width": 0.5
             },
             "pattern": {
              "fillmode": "overlay",
              "size": 10,
              "solidity": 0.2
             }
            },
            "type": "bar"
           }
          ],
          "barpolar": [
           {
            "marker": {
             "line": {
              "color": "#E5ECF6",
              "width": 0.5
             },
             "pattern": {
              "fillmode": "overlay",
              "size": 10,
              "solidity": 0.2
             }
            },
            "type": "barpolar"
           }
          ],
          "carpet": [
           {
            "aaxis": {
             "endlinecolor": "#2a3f5f",
             "gridcolor": "white",
             "linecolor": "white",
             "minorgridcolor": "white",
             "startlinecolor": "#2a3f5f"
            },
            "baxis": {
             "endlinecolor": "#2a3f5f",
             "gridcolor": "white",
             "linecolor": "white",
             "minorgridcolor": "white",
             "startlinecolor": "#2a3f5f"
            },
            "type": "carpet"
           }
          ],
          "choropleth": [
           {
            "colorbar": {
             "outlinewidth": 0,
             "ticks": ""
            },
            "type": "choropleth"
           }
          ],
          "contour": [
           {
            "colorbar": {
             "outlinewidth": 0,
             "ticks": ""
            },
            "colorscale": [
             [
              0,
              "#0d0887"
             ],
             [
              0.1111111111111111,
              "#46039f"
             ],
             [
              0.2222222222222222,
              "#7201a8"
             ],
             [
              0.3333333333333333,
              "#9c179e"
             ],
             [
              0.4444444444444444,
              "#bd3786"
             ],
             [
              0.5555555555555556,
              "#d8576b"
             ],
             [
              0.6666666666666666,
              "#ed7953"
             ],
             [
              0.7777777777777778,
              "#fb9f3a"
             ],
             [
              0.8888888888888888,
              "#fdca26"
             ],
             [
              1,
              "#f0f921"
             ]
            ],
            "type": "contour"
           }
          ],
          "contourcarpet": [
           {
            "colorbar": {
             "outlinewidth": 0,
             "ticks": ""
            },
            "type": "contourcarpet"
           }
          ],
          "heatmap": [
           {
            "colorbar": {
             "outlinewidth": 0,
             "ticks": ""
            },
            "colorscale": [
             [
              0,
              "#0d0887"
             ],
             [
              0.1111111111111111,
              "#46039f"
             ],
             [
              0.2222222222222222,
              "#7201a8"
             ],
             [
              0.3333333333333333,
              "#9c179e"
             ],
             [
              0.4444444444444444,
              "#bd3786"
             ],
             [
              0.5555555555555556,
              "#d8576b"
             ],
             [
              0.6666666666666666,
              "#ed7953"
             ],
             [
              0.7777777777777778,
              "#fb9f3a"
             ],
             [
              0.8888888888888888,
              "#fdca26"
             ],
             [
              1,
              "#f0f921"
             ]
            ],
            "type": "heatmap"
           }
          ],
          "heatmapgl": [
           {
            "colorbar": {
             "outlinewidth": 0,
             "ticks": ""
            },
            "colorscale": [
             [
              0,
              "#0d0887"
             ],
             [
              0.1111111111111111,
              "#46039f"
             ],
             [
              0.2222222222222222,
              "#7201a8"
             ],
             [
              0.3333333333333333,
              "#9c179e"
             ],
             [
              0.4444444444444444,
              "#bd3786"
             ],
             [
              0.5555555555555556,
              "#d8576b"
             ],
             [
              0.6666666666666666,
              "#ed7953"
             ],
             [
              0.7777777777777778,
              "#fb9f3a"
             ],
             [
              0.8888888888888888,
              "#fdca26"
             ],
             [
              1,
              "#f0f921"
             ]
            ],
            "type": "heatmapgl"
           }
          ],
          "histogram": [
           {
            "marker": {
             "pattern": {
              "fillmode": "overlay",
              "size": 10,
              "solidity": 0.2
             }
            },
            "type": "histogram"
           }
          ],
          "histogram2d": [
           {
            "colorbar": {
             "outlinewidth": 0,
             "ticks": ""
            },
            "colorscale": [
             [
              0,
              "#0d0887"
             ],
             [
              0.1111111111111111,
              "#46039f"
             ],
             [
              0.2222222222222222,
              "#7201a8"
             ],
             [
              0.3333333333333333,
              "#9c179e"
             ],
             [
              0.4444444444444444,
              "#bd3786"
             ],
             [
              0.5555555555555556,
              "#d8576b"
             ],
             [
              0.6666666666666666,
              "#ed7953"
             ],
             [
              0.7777777777777778,
              "#fb9f3a"
             ],
             [
              0.8888888888888888,
              "#fdca26"
             ],
             [
              1,
              "#f0f921"
             ]
            ],
            "type": "histogram2d"
           }
          ],
          "histogram2dcontour": [
           {
            "colorbar": {
             "outlinewidth": 0,
             "ticks": ""
            },
            "colorscale": [
             [
              0,
              "#0d0887"
             ],
             [
              0.1111111111111111,
              "#46039f"
             ],
             [
              0.2222222222222222,
              "#7201a8"
             ],
             [
              0.3333333333333333,
              "#9c179e"
             ],
             [
              0.4444444444444444,
              "#bd3786"
             ],
             [
              0.5555555555555556,
              "#d8576b"
             ],
             [
              0.6666666666666666,
              "#ed7953"
             ],
             [
              0.7777777777777778,
              "#fb9f3a"
             ],
             [
              0.8888888888888888,
              "#fdca26"
             ],
             [
              1,
              "#f0f921"
             ]
            ],
            "type": "histogram2dcontour"
           }
          ],
          "mesh3d": [
           {
            "colorbar": {
             "outlinewidth": 0,
             "ticks": ""
            },
            "type": "mesh3d"
           }
          ],
          "parcoords": [
           {
            "line": {
             "colorbar": {
              "outlinewidth": 0,
              "ticks": ""
             }
            },
            "type": "parcoords"
           }
          ],
          "pie": [
           {
            "automargin": true,
            "type": "pie"
           }
          ],
          "scatter": [
           {
            "fillpattern": {
             "fillmode": "overlay",
             "size": 10,
             "solidity": 0.2
            },
            "type": "scatter"
           }
          ],
          "scatter3d": [
           {
            "line": {
             "colorbar": {
              "outlinewidth": 0,
              "ticks": ""
             }
            },
            "marker": {
             "colorbar": {
              "outlinewidth": 0,
              "ticks": ""
             }
            },
            "type": "scatter3d"
           }
          ],
          "scattercarpet": [
           {
            "marker": {
             "colorbar": {
              "outlinewidth": 0,
              "ticks": ""
             }
            },
            "type": "scattercarpet"
           }
          ],
          "scattergeo": [
           {
            "marker": {
             "colorbar": {
              "outlinewidth": 0,
              "ticks": ""
             }
            },
            "type": "scattergeo"
           }
          ],
          "scattergl": [
           {
            "marker": {
             "colorbar": {
              "outlinewidth": 0,
              "ticks": ""
             }
            },
            "type": "scattergl"
           }
          ],
          "scattermapbox": [
           {
            "marker": {
             "colorbar": {
              "outlinewidth": 0,
              "ticks": ""
             }
            },
            "type": "scattermapbox"
           }
          ],
          "scatterpolar": [
           {
            "marker": {
             "colorbar": {
              "outlinewidth": 0,
              "ticks": ""
             }
            },
            "type": "scatterpolar"
           }
          ],
          "scatterpolargl": [
           {
            "marker": {
             "colorbar": {
              "outlinewidth": 0,
              "ticks": ""
             }
            },
            "type": "scatterpolargl"
           }
          ],
          "scatterternary": [
           {
            "marker": {
             "colorbar": {
              "outlinewidth": 0,
              "ticks": ""
             }
            },
            "type": "scatterternary"
           }
          ],
          "surface": [
           {
            "colorbar": {
             "outlinewidth": 0,
             "ticks": ""
            },
            "colorscale": [
             [
              0,
              "#0d0887"
             ],
             [
              0.1111111111111111,
              "#46039f"
             ],
             [
              0.2222222222222222,
              "#7201a8"
             ],
             [
              0.3333333333333333,
              "#9c179e"
             ],
             [
              0.4444444444444444,
              "#bd3786"
             ],
             [
              0.5555555555555556,
              "#d8576b"
             ],
             [
              0.6666666666666666,
              "#ed7953"
             ],
             [
              0.7777777777777778,
              "#fb9f3a"
             ],
             [
              0.8888888888888888,
              "#fdca26"
             ],
             [
              1,
              "#f0f921"
             ]
            ],
            "type": "surface"
           }
          ],
          "table": [
           {
            "cells": {
             "fill": {
              "color": "#EBF0F8"
             },
             "line": {
              "color": "white"
             }
            },
            "header": {
             "fill": {
              "color": "#C8D4E3"
             },
             "line": {
              "color": "white"
             }
            },
            "type": "table"
           }
          ]
         },
         "layout": {
          "annotationdefaults": {
           "arrowcolor": "#2a3f5f",
           "arrowhead": 0,
           "arrowwidth": 1
          },
          "autotypenumbers": "strict",
          "coloraxis": {
           "colorbar": {
            "outlinewidth": 0,
            "ticks": ""
           }
          },
          "colorscale": {
           "diverging": [
            [
             0,
             "#8e0152"
            ],
            [
             0.1,
             "#c51b7d"
            ],
            [
             0.2,
             "#de77ae"
            ],
            [
             0.3,
             "#f1b6da"
            ],
            [
             0.4,
             "#fde0ef"
            ],
            [
             0.5,
             "#f7f7f7"
            ],
            [
             0.6,
             "#e6f5d0"
            ],
            [
             0.7,
             "#b8e186"
            ],
            [
             0.8,
             "#7fbc41"
            ],
            [
             0.9,
             "#4d9221"
            ],
            [
             1,
             "#276419"
            ]
           ],
           "sequential": [
            [
             0,
             "#0d0887"
            ],
            [
             0.1111111111111111,
             "#46039f"
            ],
            [
             0.2222222222222222,
             "#7201a8"
            ],
            [
             0.3333333333333333,
             "#9c179e"
            ],
            [
             0.4444444444444444,
             "#bd3786"
            ],
            [
             0.5555555555555556,
             "#d8576b"
            ],
            [
             0.6666666666666666,
             "#ed7953"
            ],
            [
             0.7777777777777778,
             "#fb9f3a"
            ],
            [
             0.8888888888888888,
             "#fdca26"
            ],
            [
             1,
             "#f0f921"
            ]
           ],
           "sequentialminus": [
            [
             0,
             "#0d0887"
            ],
            [
             0.1111111111111111,
             "#46039f"
            ],
            [
             0.2222222222222222,
             "#7201a8"
            ],
            [
             0.3333333333333333,
             "#9c179e"
            ],
            [
             0.4444444444444444,
             "#bd3786"
            ],
            [
             0.5555555555555556,
             "#d8576b"
            ],
            [
             0.6666666666666666,
             "#ed7953"
            ],
            [
             0.7777777777777778,
             "#fb9f3a"
            ],
            [
             0.8888888888888888,
             "#fdca26"
            ],
            [
             1,
             "#f0f921"
            ]
           ]
          },
          "colorway": [
           "#636efa",
           "#EF553B",
           "#00cc96",
           "#ab63fa",
           "#FFA15A",
           "#19d3f3",
           "#FF6692",
           "#B6E880",
           "#FF97FF",
           "#FECB52"
          ],
          "font": {
           "color": "#2a3f5f"
          },
          "geo": {
           "bgcolor": "white",
           "lakecolor": "white",
           "landcolor": "#E5ECF6",
           "showlakes": true,
           "showland": true,
           "subunitcolor": "white"
          },
          "hoverlabel": {
           "align": "left"
          },
          "hovermode": "closest",
          "mapbox": {
           "style": "light"
          },
          "paper_bgcolor": "white",
          "plot_bgcolor": "#E5ECF6",
          "polar": {
           "angularaxis": {
            "gridcolor": "white",
            "linecolor": "white",
            "ticks": ""
           },
           "bgcolor": "#E5ECF6",
           "radialaxis": {
            "gridcolor": "white",
            "linecolor": "white",
            "ticks": ""
           }
          },
          "scene": {
           "xaxis": {
            "backgroundcolor": "#E5ECF6",
            "gridcolor": "white",
            "gridwidth": 2,
            "linecolor": "white",
            "showbackground": true,
            "ticks": "",
            "zerolinecolor": "white"
           },
           "yaxis": {
            "backgroundcolor": "#E5ECF6",
            "gridcolor": "white",
            "gridwidth": 2,
            "linecolor": "white",
            "showbackground": true,
            "ticks": "",
            "zerolinecolor": "white"
           },
           "zaxis": {
            "backgroundcolor": "#E5ECF6",
            "gridcolor": "white",
            "gridwidth": 2,
            "linecolor": "white",
            "showbackground": true,
            "ticks": "",
            "zerolinecolor": "white"
           }
          },
          "shapedefaults": {
           "line": {
            "color": "#2a3f5f"
           }
          },
          "ternary": {
           "aaxis": {
            "gridcolor": "white",
            "linecolor": "white",
            "ticks": ""
           },
           "baxis": {
            "gridcolor": "white",
            "linecolor": "white",
            "ticks": ""
           },
           "bgcolor": "#E5ECF6",
           "caxis": {
            "gridcolor": "white",
            "linecolor": "white",
            "ticks": ""
           }
          },
          "title": {
           "x": 0.05
          },
          "xaxis": {
           "automargin": true,
           "gridcolor": "white",
           "linecolor": "white",
           "ticks": "",
           "title": {
            "standoff": 15
           },
           "zerolinecolor": "white",
           "zerolinewidth": 2
          },
          "yaxis": {
           "automargin": true,
           "gridcolor": "white",
           "linecolor": "white",
           "ticks": "",
           "title": {
            "standoff": 15
           },
           "zerolinecolor": "white",
           "zerolinewidth": 2
          }
         }
        },
        "title": {
         "font": {
          "color": "#4D5663"
         }
        },
        "xaxis": {
         "gridcolor": "#E1E5ED",
         "showgrid": true,
         "tickfont": {
          "color": "#4D5663"
         },
         "title": {
          "font": {
           "color": "#4D5663"
          },
          "text": ""
         },
         "zerolinecolor": "#E1E5ED"
        },
        "yaxis": {
         "gridcolor": "#E1E5ED",
         "showgrid": true,
         "tickfont": {
          "color": "#4D5663"
         },
         "title": {
          "font": {
           "color": "#4D5663"
          },
          "text": ""
         },
         "zerolinecolor": "#E1E5ED"
        }
       }
      },
      "text/html": [
       "<div>                            <div id=\"5aa73e7d-db79-46a1-b258-818971af9591\" class=\"plotly-graph-div\" style=\"height:525px; width:100%;\"></div>            <script type=\"text/javascript\">                require([\"plotly\"], function(Plotly) {                    window.PLOTLYENV=window.PLOTLYENV || {};\n",
       "                    window.PLOTLYENV.BASE_URL='https://plot.ly';                                    if (document.getElementById(\"5aa73e7d-db79-46a1-b258-818971af9591\")) {                    Plotly.newPlot(                        \"5aa73e7d-db79-46a1-b258-818971af9591\",                        [{\"marker\":{\"color\":[\"rgb(252,251,253)\",\"rgb(239,237,245)\",\"rgb(218,218,235)\",\"rgb(188,189,220)\",\"rgb(158,154,200)\",\"rgb(128,125,186)\",\"rgb(106,81,163)\",\"rgb(84,39,143)\",\"rgb(63,0,125)\"],\"line\":{\"width\":1.3},\"size\":[46,112,45,65,74,56,87,40,59,85,40,85,48,77,79,58,64,45,78,73,63,12,85,62,43,66,55,38,39,86,91,33,72,45,54,53,70,95,64,76,57,76,75,74,45,68,50,87,31,44,76,64,67,57,70,102,62,58,67,74,46,83,42,55,107,48,27,86,54,54,28,45,68,48,66,82,100,62,76,65,63,98,77,49,87,83,49,61,54,90,96,62,98,38,69,50,44,49,61,73],\"symbol\":\"circle\"},\"mode\":\"markers\",\"text\":\"\",\"x\":[-0.23833749478084632,0.6501994394768832,0.69240112895364,1.5320970914057563,1.5143536412100664,0.9091328451299554,0.5633932306807066,-0.6957450025151292,-0.3293951092999953,0.07112715282153531,1.3871289338711221,-0.30275030951868354,0.4325520012397575,0.3557928642971695,-0.14842497025923618,0.5618247664499927,0.05994346882977397,-1.4735100631741256,-0.08917911520644622,1.7363207791384538,-0.14329310593151515,0.15611611177600046,0.5406570368378665,-0.9957010147824803,1.387177334594978,0.1310498324631058,-0.22314038016345794,0.08879164066410501,-0.8810051288147794,-0.9770286284628511,-0.6715971578254221,1.3002560139455641,2.321624410335273,-0.15289584456586722,-0.6972843987992097,0.5931203866351997,0.9130042417329262,-0.3295338415521216,-1.3016776038004398,1.960484862694741,2.2802574608931754,-1.55531604820331,-0.4757202431700581,1.4373273727690996,-1.0070240274826834,1.2629202246100506,0.12856968538899607,-1.1243817895047012,0.04653002549161323,0.4369480939055736,0.2693438575066526,1.8038758704998965,0.1029603524630663,1.6081370990783066,-0.1378580105992773,0.5793942859228219,-0.14858741009587503,-0.19768016506777614,1.048015998868027,0.630830200972105,-1.5016688943855903,-0.42725460179513036,0.6632276199073781,0.03905584833789047,1.7065901060137059,-1.1400524905628655,0.4061750213104448,-0.3410890234644094,0.528994584107765,-0.44653772676211606,1.0273411655950548,-0.7616521517056599,-0.2990750926136947,0.7438791605337584,-0.6864816773203487,0.29972132855314054,0.0635865919701606,1.1160715054732728,0.23893414638922392,-3.0791028296082588,0.5628299582121862,1.3428877260800716,0.16002233058937887,-1.908974501388095,-1.063113689959441,-1.6701307613421852,0.6415131291626535,-1.4708631052358239,0.4542836706219212,-0.1803329649366861,2.3448185248734807,-0.42455083915233127,1.3596741223109698,-0.6387336708337593,-1.199901298038498,-0.46670532426178835,-1.9657923377437196,-2.5721533669425205,1.255546642935715,0.12504483924872897],\"y\":[-0.06291427450316933,-1.5322731602884292,2.028348772987773,0.6693932445647333,-1.784146484904668,0.5629194960966317,-1.1531714182196977,-1.198881273469872,-0.3599836499936697,-1.5859282623298518,0.43249326298018725,0.006334251206168981,-0.26156984664420363,-0.5542522296562603,0.6615866179143592,-1.324140148711569,0.34809760005611035,0.22845512200847662,0.7507214599572216,-0.4860243963364303,1.1966633637001574,-1.2290464952865618,0.39754334761882865,1.6994877438337332,0.7416418706957048,0.6403585630531775,-0.8734327491302029,-0.392926611428367,0.5749885606001245,-2.0467397051668876,0.49166689329736457,1.4036586051368503,-0.8307840514047554,0.6335495113267404,1.1820666940436422,-1.075705232012773,1.1881493161215,-1.423278677749765,-0.6430643428642822,-0.3293289381854944,-0.6547480913773267,-0.8463597065410111,-0.0024702289586539285,-1.0612818837077704,0.1254377076446763,-0.404602263867722,-0.7446729897259533,0.2186432671211768,1.2500505771424142,-0.8238305736789608,0.9222414596307853,-0.015284416785555715,-0.22472721377838545,0.0030087357121871758,0.08870220788145161,0.8984932568044094,0.14441621658763268,-0.4512488727289043,1.1375588391431979,-0.6527449377415648,0.27328665505704497,0.8823114753761337,0.00732754794294055,1.413438055483529,-0.5078282211761682,-0.8144068941811758,0.8789189975450421,-0.4161014934626199,1.2354275217687003,-0.4247058207211809,-1.8070468171353722,-0.07483434418167269,-0.8290768762316153,0.0323215009305928,-0.46818557550193923,-0.678510243789971,-0.326508032144984,-0.332445340739474,-0.08272614551191813,1.0935692828179533,0.2059558797739144,-0.4350877289157243,0.58286721728474,-0.5766016189112366,-1.0735566071205689,1.0114973460848427,-0.6641909267070367,-0.7784262569825346,-0.7927172147205591,-0.792636498224324,0.4303546660014756,0.6293061385726557,0.9161824688845475,-1.2931998909956706,0.3963712146012255,-1.0923974264157994,-0.9439165040572574,1.446733011848096,2.659876209227425,-1.4368341467410388],\"type\":\"scatter\"}],                        {\"legend\":{\"bgcolor\":\"#F5F6F9\",\"font\":{\"color\":\"#4D5663\"}},\"paper_bgcolor\":\"#F5F6F9\",\"plot_bgcolor\":\"#F5F6F9\",\"template\":{\"data\":{\"barpolar\":[{\"marker\":{\"line\":{\"color\":\"#E5ECF6\",\"width\":0.5},\"pattern\":{\"fillmode\":\"overlay\",\"size\":10,\"solidity\":0.2}},\"type\":\"barpolar\"}],\"bar\":[{\"error_x\":{\"color\":\"#2a3f5f\"},\"error_y\":{\"color\":\"#2a3f5f\"},\"marker\":{\"line\":{\"color\":\"#E5ECF6\",\"width\":0.5},\"pattern\":{\"fillmode\":\"overlay\",\"size\":10,\"solidity\":0.2}},\"type\":\"bar\"}],\"carpet\":[{\"aaxis\":{\"endlinecolor\":\"#2a3f5f\",\"gridcolor\":\"white\",\"linecolor\":\"white\",\"minorgridcolor\":\"white\",\"startlinecolor\":\"#2a3f5f\"},\"baxis\":{\"endlinecolor\":\"#2a3f5f\",\"gridcolor\":\"white\",\"linecolor\":\"white\",\"minorgridcolor\":\"white\",\"startlinecolor\":\"#2a3f5f\"},\"type\":\"carpet\"}],\"choropleth\":[{\"colorbar\":{\"outlinewidth\":0,\"ticks\":\"\"},\"type\":\"choropleth\"}],\"contourcarpet\":[{\"colorbar\":{\"outlinewidth\":0,\"ticks\":\"\"},\"type\":\"contourcarpet\"}],\"contour\":[{\"colorbar\":{\"outlinewidth\":0,\"ticks\":\"\"},\"colorscale\":[[0.0,\"#0d0887\"],[0.1111111111111111,\"#46039f\"],[0.2222222222222222,\"#7201a8\"],[0.3333333333333333,\"#9c179e\"],[0.4444444444444444,\"#bd3786\"],[0.5555555555555556,\"#d8576b\"],[0.6666666666666666,\"#ed7953\"],[0.7777777777777778,\"#fb9f3a\"],[0.8888888888888888,\"#fdca26\"],[1.0,\"#f0f921\"]],\"type\":\"contour\"}],\"heatmapgl\":[{\"colorbar\":{\"outlinewidth\":0,\"ticks\":\"\"},\"colorscale\":[[0.0,\"#0d0887\"],[0.1111111111111111,\"#46039f\"],[0.2222222222222222,\"#7201a8\"],[0.3333333333333333,\"#9c179e\"],[0.4444444444444444,\"#bd3786\"],[0.5555555555555556,\"#d8576b\"],[0.6666666666666666,\"#ed7953\"],[0.7777777777777778,\"#fb9f3a\"],[0.8888888888888888,\"#fdca26\"],[1.0,\"#f0f921\"]],\"type\":\"heatmapgl\"}],\"heatmap\":[{\"colorbar\":{\"outlinewidth\":0,\"ticks\":\"\"},\"colorscale\":[[0.0,\"#0d0887\"],[0.1111111111111111,\"#46039f\"],[0.2222222222222222,\"#7201a8\"],[0.3333333333333333,\"#9c179e\"],[0.4444444444444444,\"#bd3786\"],[0.5555555555555556,\"#d8576b\"],[0.6666666666666666,\"#ed7953\"],[0.7777777777777778,\"#fb9f3a\"],[0.8888888888888888,\"#fdca26\"],[1.0,\"#f0f921\"]],\"type\":\"heatmap\"}],\"histogram2dcontour\":[{\"colorbar\":{\"outlinewidth\":0,\"ticks\":\"\"},\"colorscale\":[[0.0,\"#0d0887\"],[0.1111111111111111,\"#46039f\"],[0.2222222222222222,\"#7201a8\"],[0.3333333333333333,\"#9c179e\"],[0.4444444444444444,\"#bd3786\"],[0.5555555555555556,\"#d8576b\"],[0.6666666666666666,\"#ed7953\"],[0.7777777777777778,\"#fb9f3a\"],[0.8888888888888888,\"#fdca26\"],[1.0,\"#f0f921\"]],\"type\":\"histogram2dcontour\"}],\"histogram2d\":[{\"colorbar\":{\"outlinewidth\":0,\"ticks\":\"\"},\"colorscale\":[[0.0,\"#0d0887\"],[0.1111111111111111,\"#46039f\"],[0.2222222222222222,\"#7201a8\"],[0.3333333333333333,\"#9c179e\"],[0.4444444444444444,\"#bd3786\"],[0.5555555555555556,\"#d8576b\"],[0.6666666666666666,\"#ed7953\"],[0.7777777777777778,\"#fb9f3a\"],[0.8888888888888888,\"#fdca26\"],[1.0,\"#f0f921\"]],\"type\":\"histogram2d\"}],\"histogram\":[{\"marker\":{\"pattern\":{\"fillmode\":\"overlay\",\"size\":10,\"solidity\":0.2}},\"type\":\"histogram\"}],\"mesh3d\":[{\"colorbar\":{\"outlinewidth\":0,\"ticks\":\"\"},\"type\":\"mesh3d\"}],\"parcoords\":[{\"line\":{\"colorbar\":{\"outlinewidth\":0,\"ticks\":\"\"}},\"type\":\"parcoords\"}],\"pie\":[{\"automargin\":true,\"type\":\"pie\"}],\"scatter3d\":[{\"line\":{\"colorbar\":{\"outlinewidth\":0,\"ticks\":\"\"}},\"marker\":{\"colorbar\":{\"outlinewidth\":0,\"ticks\":\"\"}},\"type\":\"scatter3d\"}],\"scattercarpet\":[{\"marker\":{\"colorbar\":{\"outlinewidth\":0,\"ticks\":\"\"}},\"type\":\"scattercarpet\"}],\"scattergeo\":[{\"marker\":{\"colorbar\":{\"outlinewidth\":0,\"ticks\":\"\"}},\"type\":\"scattergeo\"}],\"scattergl\":[{\"marker\":{\"colorbar\":{\"outlinewidth\":0,\"ticks\":\"\"}},\"type\":\"scattergl\"}],\"scattermapbox\":[{\"marker\":{\"colorbar\":{\"outlinewidth\":0,\"ticks\":\"\"}},\"type\":\"scattermapbox\"}],\"scatterpolargl\":[{\"marker\":{\"colorbar\":{\"outlinewidth\":0,\"ticks\":\"\"}},\"type\":\"scatterpolargl\"}],\"scatterpolar\":[{\"marker\":{\"colorbar\":{\"outlinewidth\":0,\"ticks\":\"\"}},\"type\":\"scatterpolar\"}],\"scatter\":[{\"fillpattern\":{\"fillmode\":\"overlay\",\"size\":10,\"solidity\":0.2},\"type\":\"scatter\"}],\"scatterternary\":[{\"marker\":{\"colorbar\":{\"outlinewidth\":0,\"ticks\":\"\"}},\"type\":\"scatterternary\"}],\"surface\":[{\"colorbar\":{\"outlinewidth\":0,\"ticks\":\"\"},\"colorscale\":[[0.0,\"#0d0887\"],[0.1111111111111111,\"#46039f\"],[0.2222222222222222,\"#7201a8\"],[0.3333333333333333,\"#9c179e\"],[0.4444444444444444,\"#bd3786\"],[0.5555555555555556,\"#d8576b\"],[0.6666666666666666,\"#ed7953\"],[0.7777777777777778,\"#fb9f3a\"],[0.8888888888888888,\"#fdca26\"],[1.0,\"#f0f921\"]],\"type\":\"surface\"}],\"table\":[{\"cells\":{\"fill\":{\"color\":\"#EBF0F8\"},\"line\":{\"color\":\"white\"}},\"header\":{\"fill\":{\"color\":\"#C8D4E3\"},\"line\":{\"color\":\"white\"}},\"type\":\"table\"}]},\"layout\":{\"annotationdefaults\":{\"arrowcolor\":\"#2a3f5f\",\"arrowhead\":0,\"arrowwidth\":1},\"autotypenumbers\":\"strict\",\"coloraxis\":{\"colorbar\":{\"outlinewidth\":0,\"ticks\":\"\"}},\"colorscale\":{\"diverging\":[[0,\"#8e0152\"],[0.1,\"#c51b7d\"],[0.2,\"#de77ae\"],[0.3,\"#f1b6da\"],[0.4,\"#fde0ef\"],[0.5,\"#f7f7f7\"],[0.6,\"#e6f5d0\"],[0.7,\"#b8e186\"],[0.8,\"#7fbc41\"],[0.9,\"#4d9221\"],[1,\"#276419\"]],\"sequential\":[[0.0,\"#0d0887\"],[0.1111111111111111,\"#46039f\"],[0.2222222222222222,\"#7201a8\"],[0.3333333333333333,\"#9c179e\"],[0.4444444444444444,\"#bd3786\"],[0.5555555555555556,\"#d8576b\"],[0.6666666666666666,\"#ed7953\"],[0.7777777777777778,\"#fb9f3a\"],[0.8888888888888888,\"#fdca26\"],[1.0,\"#f0f921\"]],\"sequentialminus\":[[0.0,\"#0d0887\"],[0.1111111111111111,\"#46039f\"],[0.2222222222222222,\"#7201a8\"],[0.3333333333333333,\"#9c179e\"],[0.4444444444444444,\"#bd3786\"],[0.5555555555555556,\"#d8576b\"],[0.6666666666666666,\"#ed7953\"],[0.7777777777777778,\"#fb9f3a\"],[0.8888888888888888,\"#fdca26\"],[1.0,\"#f0f921\"]]},\"colorway\":[\"#636efa\",\"#EF553B\",\"#00cc96\",\"#ab63fa\",\"#FFA15A\",\"#19d3f3\",\"#FF6692\",\"#B6E880\",\"#FF97FF\",\"#FECB52\"],\"font\":{\"color\":\"#2a3f5f\"},\"geo\":{\"bgcolor\":\"white\",\"lakecolor\":\"white\",\"landcolor\":\"#E5ECF6\",\"showlakes\":true,\"showland\":true,\"subunitcolor\":\"white\"},\"hoverlabel\":{\"align\":\"left\"},\"hovermode\":\"closest\",\"mapbox\":{\"style\":\"light\"},\"paper_bgcolor\":\"white\",\"plot_bgcolor\":\"#E5ECF6\",\"polar\":{\"angularaxis\":{\"gridcolor\":\"white\",\"linecolor\":\"white\",\"ticks\":\"\"},\"bgcolor\":\"#E5ECF6\",\"radialaxis\":{\"gridcolor\":\"white\",\"linecolor\":\"white\",\"ticks\":\"\"}},\"scene\":{\"xaxis\":{\"backgroundcolor\":\"#E5ECF6\",\"gridcolor\":\"white\",\"gridwidth\":2,\"linecolor\":\"white\",\"showbackground\":true,\"ticks\":\"\",\"zerolinecolor\":\"white\"},\"yaxis\":{\"backgroundcolor\":\"#E5ECF6\",\"gridcolor\":\"white\",\"gridwidth\":2,\"linecolor\":\"white\",\"showbackground\":true,\"ticks\":\"\",\"zerolinecolor\":\"white\"},\"zaxis\":{\"backgroundcolor\":\"#E5ECF6\",\"gridcolor\":\"white\",\"gridwidth\":2,\"linecolor\":\"white\",\"showbackground\":true,\"ticks\":\"\",\"zerolinecolor\":\"white\"}},\"shapedefaults\":{\"line\":{\"color\":\"#2a3f5f\"}},\"ternary\":{\"aaxis\":{\"gridcolor\":\"white\",\"linecolor\":\"white\",\"ticks\":\"\"},\"baxis\":{\"gridcolor\":\"white\",\"linecolor\":\"white\",\"ticks\":\"\"},\"bgcolor\":\"#E5ECF6\",\"caxis\":{\"gridcolor\":\"white\",\"linecolor\":\"white\",\"ticks\":\"\"}},\"title\":{\"x\":0.05},\"xaxis\":{\"automargin\":true,\"gridcolor\":\"white\",\"linecolor\":\"white\",\"ticks\":\"\",\"title\":{\"standoff\":15},\"zerolinecolor\":\"white\",\"zerolinewidth\":2},\"yaxis\":{\"automargin\":true,\"gridcolor\":\"white\",\"linecolor\":\"white\",\"ticks\":\"\",\"title\":{\"standoff\":15},\"zerolinecolor\":\"white\",\"zerolinewidth\":2}}},\"title\":{\"font\":{\"color\":\"#4D5663\"}},\"xaxis\":{\"gridcolor\":\"#E1E5ED\",\"showgrid\":true,\"tickfont\":{\"color\":\"#4D5663\"},\"title\":{\"font\":{\"color\":\"#4D5663\"},\"text\":\"\"},\"zerolinecolor\":\"#E1E5ED\"},\"yaxis\":{\"gridcolor\":\"#E1E5ED\",\"showgrid\":true,\"tickfont\":{\"color\":\"#4D5663\"},\"title\":{\"font\":{\"color\":\"#4D5663\"},\"text\":\"\"},\"zerolinecolor\":\"#E1E5ED\"}},                        {\"showLink\": true, \"linkText\": \"Export to plot.ly\", \"plotlyServerURL\": \"https://plot.ly\", \"responsive\": true}                    ).then(function(){\n",
       "                            \n",
       "var gd = document.getElementById('5aa73e7d-db79-46a1-b258-818971af9591');\n",
       "var x = new MutationObserver(function (mutations, observer) {{\n",
       "        var display = window.getComputedStyle(gd).display;\n",
       "        if (!display || display === 'none') {{\n",
       "            console.log([gd, 'removed!']);\n",
       "            Plotly.purge(gd);\n",
       "            observer.disconnect();\n",
       "        }}\n",
       "}});\n",
       "\n",
       "// Listen for the removal of the full notebook cells\n",
       "var notebookContainer = gd.closest('#notebook-container');\n",
       "if (notebookContainer) {{\n",
       "    x.observe(notebookContainer, {childList: true});\n",
       "}}\n",
       "\n",
       "// Listen for the clearing of the current output cell\n",
       "var outputEl = gd.closest('.output');\n",
       "if (outputEl) {{\n",
       "    x.observe(outputEl, {childList: true});\n",
       "}}\n",
       "\n",
       "                        })                };                });            </script>        </div>"
      ]
     },
     "metadata": {},
     "output_type": "display_data"
    }
   ],
   "source": [
    "df.iplot(kind='bubble',x='A',y='B',size='C',colorscale='purples')"
   ]
  },
  {
   "cell_type": "code",
   "execution_count": 49,
   "id": "0b709698",
   "metadata": {},
   "outputs": [
    {
     "data": {
      "text/html": [
       "<div style=\"display:inline-block;padding:10px;\"><div>accent</div><div style=\"background-color:rgb(127,201,127);height:20px;width:20px;margin-bottom:0px;display:inline-block;\"></div><div style=\"background-color:rgb(190,174,212);height:20px;width:20px;margin-bottom:0px;display:inline-block;\"></div><div style=\"background-color:rgb(253,192,134);height:20px;width:20px;margin-bottom:0px;display:inline-block;\"></div><div style=\"background-color:rgb(255,255,153);height:20px;width:20px;margin-bottom:0px;display:inline-block;\"></div><div style=\"background-color:rgb(56,108,176);height:20px;width:20px;margin-bottom:0px;display:inline-block;\"></div><div style=\"background-color:rgb(240,2,127);height:20px;width:20px;margin-bottom:0px;display:inline-block;\"></div><div style=\"background-color:rgb(191,91,23);height:20px;width:20px;margin-bottom:0px;display:inline-block;\"></div><div style=\"background-color:rgb(102,102,102);height:20px;width:20px;margin-bottom:0px;display:inline-block;\"></div></div><div style=\"display:inline-block;padding:10px;\"><div>blues</div><div style=\"background-color:rgb(247,251,255);height:20px;width:20px;margin-bottom:0px;display:inline-block;\"></div><div style=\"background-color:rgb(222,235,247);height:20px;width:20px;margin-bottom:0px;display:inline-block;\"></div><div style=\"background-color:rgb(198,219,239);height:20px;width:20px;margin-bottom:0px;display:inline-block;\"></div><div style=\"background-color:rgb(158,202,225);height:20px;width:20px;margin-bottom:0px;display:inline-block;\"></div><div style=\"background-color:rgb(107,174,214);height:20px;width:20px;margin-bottom:0px;display:inline-block;\"></div><div style=\"background-color:rgb(66,146,198);height:20px;width:20px;margin-bottom:0px;display:inline-block;\"></div><div style=\"background-color:rgb(33,113,181);height:20px;width:20px;margin-bottom:0px;display:inline-block;\"></div><div style=\"background-color:rgb(8,81,156);height:20px;width:20px;margin-bottom:0px;display:inline-block;\"></div><div style=\"background-color:rgb(8,48,107);height:20px;width:20px;margin-bottom:0px;display:inline-block;\"></div></div><div style=\"display:inline-block;padding:10px;\"><div>brbg</div><div style=\"background-color:rgb(84,48,5);height:20px;width:20px;margin-bottom:0px;display:inline-block;\"></div><div style=\"background-color:rgb(140,81,10);height:20px;width:20px;margin-bottom:0px;display:inline-block;\"></div><div style=\"background-color:rgb(191,129,45);height:20px;width:20px;margin-bottom:0px;display:inline-block;\"></div><div style=\"background-color:rgb(223,194,125);height:20px;width:20px;margin-bottom:0px;display:inline-block;\"></div><div style=\"background-color:rgb(246,232,195);height:20px;width:20px;margin-bottom:0px;display:inline-block;\"></div><div style=\"background-color:rgb(245,245,245);height:20px;width:20px;margin-bottom:0px;display:inline-block;\"></div><div style=\"background-color:rgb(199,234,229);height:20px;width:20px;margin-bottom:0px;display:inline-block;\"></div><div style=\"background-color:rgb(128,205,193);height:20px;width:20px;margin-bottom:0px;display:inline-block;\"></div><div style=\"background-color:rgb(53,151,143);height:20px;width:20px;margin-bottom:0px;display:inline-block;\"></div><div style=\"background-color:rgb(1,102,94);height:20px;width:20px;margin-bottom:0px;display:inline-block;\"></div><div style=\"background-color:rgb(0,60,48);height:20px;width:20px;margin-bottom:0px;display:inline-block;\"></div></div><div style=\"display:inline-block;padding:10px;\"><div>bugn</div><div style=\"background-color:rgb(247,252,253);height:20px;width:20px;margin-bottom:0px;display:inline-block;\"></div><div style=\"background-color:rgb(229,245,249);height:20px;width:20px;margin-bottom:0px;display:inline-block;\"></div><div style=\"background-color:rgb(204,236,230);height:20px;width:20px;margin-bottom:0px;display:inline-block;\"></div><div style=\"background-color:rgb(153,216,201);height:20px;width:20px;margin-bottom:0px;display:inline-block;\"></div><div style=\"background-color:rgb(102,194,164);height:20px;width:20px;margin-bottom:0px;display:inline-block;\"></div><div style=\"background-color:rgb(65,174,118);height:20px;width:20px;margin-bottom:0px;display:inline-block;\"></div><div style=\"background-color:rgb(35,139,69);height:20px;width:20px;margin-bottom:0px;display:inline-block;\"></div><div style=\"background-color:rgb(0,109,44);height:20px;width:20px;margin-bottom:0px;display:inline-block;\"></div><div style=\"background-color:rgb(0,68,27);height:20px;width:20px;margin-bottom:0px;display:inline-block;\"></div></div><div style=\"display:inline-block;padding:10px;\"><div>bupu</div><div style=\"background-color:rgb(247,252,253);height:20px;width:20px;margin-bottom:0px;display:inline-block;\"></div><div style=\"background-color:rgb(224,236,244);height:20px;width:20px;margin-bottom:0px;display:inline-block;\"></div><div style=\"background-color:rgb(191,211,230);height:20px;width:20px;margin-bottom:0px;display:inline-block;\"></div><div style=\"background-color:rgb(158,188,218);height:20px;width:20px;margin-bottom:0px;display:inline-block;\"></div><div style=\"background-color:rgb(140,150,198);height:20px;width:20px;margin-bottom:0px;display:inline-block;\"></div><div style=\"background-color:rgb(140,107,177);height:20px;width:20px;margin-bottom:0px;display:inline-block;\"></div><div style=\"background-color:rgb(136,65,157);height:20px;width:20px;margin-bottom:0px;display:inline-block;\"></div><div style=\"background-color:rgb(129,15,124);height:20px;width:20px;margin-bottom:0px;display:inline-block;\"></div><div style=\"background-color:rgb(77,0,75);height:20px;width:20px;margin-bottom:0px;display:inline-block;\"></div></div><div style=\"display:inline-block;padding:10px;\"><div>dark2</div><div style=\"background-color:rgb(27,158,119);height:20px;width:20px;margin-bottom:0px;display:inline-block;\"></div><div style=\"background-color:rgb(217,95,2);height:20px;width:20px;margin-bottom:0px;display:inline-block;\"></div><div style=\"background-color:rgb(117,112,179);height:20px;width:20px;margin-bottom:0px;display:inline-block;\"></div><div style=\"background-color:rgb(231,41,138);height:20px;width:20px;margin-bottom:0px;display:inline-block;\"></div><div style=\"background-color:rgb(102,166,30);height:20px;width:20px;margin-bottom:0px;display:inline-block;\"></div><div style=\"background-color:rgb(230,171,2);height:20px;width:20px;margin-bottom:0px;display:inline-block;\"></div><div style=\"background-color:rgb(166,118,29);height:20px;width:20px;margin-bottom:0px;display:inline-block;\"></div><div style=\"background-color:rgb(102,102,102);height:20px;width:20px;margin-bottom:0px;display:inline-block;\"></div></div><div style=\"display:inline-block;padding:10px;\"><div>dflt</div><div style=\"background-color:rgb(255, 153, 51);height:20px;width:20px;margin-bottom:0px;display:inline-block;\"></div><div style=\"background-color:rgb(55, 128, 191);height:20px;width:20px;margin-bottom:0px;display:inline-block;\"></div><div style=\"background-color:rgb(50, 171, 96);height:20px;width:20px;margin-bottom:0px;display:inline-block;\"></div><div style=\"background-color:rgb(128, 0, 128);height:20px;width:20px;margin-bottom:0px;display:inline-block;\"></div><div style=\"background-color:rgb(219, 64, 82);height:20px;width:20px;margin-bottom:0px;display:inline-block;\"></div><div style=\"background-color:rgb(0, 128, 128);height:20px;width:20px;margin-bottom:0px;display:inline-block;\"></div><div style=\"background-color:rgb(255, 255, 51);height:20px;width:20px;margin-bottom:0px;display:inline-block;\"></div><div style=\"background-color:rgb(128, 128, 0);height:20px;width:20px;margin-bottom:0px;display:inline-block;\"></div><div style=\"background-color:rgb(251, 128, 114);height:20px;width:20px;margin-bottom:0px;display:inline-block;\"></div><div style=\"background-color:rgb(128, 177, 211);height:20px;width:20px;margin-bottom:0px;display:inline-block;\"></div></div><div style=\"display:inline-block;padding:10px;\"><div>ggplot</div><div style=\"background-color:rgb(226, 74, 51);height:20px;width:20px;margin-bottom:0px;display:inline-block;\"></div><div style=\"background-color:rgb(62, 111, 176);height:20px;width:20px;margin-bottom:0px;display:inline-block;\"></div><div style=\"background-color:rgb(132, 118, 202);height:20px;width:20px;margin-bottom:0px;display:inline-block;\"></div><div style=\"background-color:rgb(101, 101, 101);height:20px;width:20px;margin-bottom:0px;display:inline-block;\"></div><div style=\"background-color:rgb(251, 193, 94);height:20px;width:20px;margin-bottom:0px;display:inline-block;\"></div><div style=\"background-color:rgb(142, 186, 66);height:20px;width:20px;margin-bottom:0px;display:inline-block;\"></div><div style=\"background-color:rgb(255, 181, 184);height:20px;width:20px;margin-bottom:0px;display:inline-block;\"></div></div><div style=\"display:inline-block;padding:10px;\"><div>gnbu</div><div style=\"background-color:rgb(247,252,240);height:20px;width:20px;margin-bottom:0px;display:inline-block;\"></div><div style=\"background-color:rgb(224,243,219);height:20px;width:20px;margin-bottom:0px;display:inline-block;\"></div><div style=\"background-color:rgb(204,235,197);height:20px;width:20px;margin-bottom:0px;display:inline-block;\"></div><div style=\"background-color:rgb(168,221,181);height:20px;width:20px;margin-bottom:0px;display:inline-block;\"></div><div style=\"background-color:rgb(123,204,196);height:20px;width:20px;margin-bottom:0px;display:inline-block;\"></div><div style=\"background-color:rgb(78,179,211);height:20px;width:20px;margin-bottom:0px;display:inline-block;\"></div><div style=\"background-color:rgb(43,140,190);height:20px;width:20px;margin-bottom:0px;display:inline-block;\"></div><div style=\"background-color:rgb(8,104,172);height:20px;width:20px;margin-bottom:0px;display:inline-block;\"></div><div style=\"background-color:rgb(8,64,129);height:20px;width:20px;margin-bottom:0px;display:inline-block;\"></div></div><div style=\"display:inline-block;padding:10px;\"><div>greens</div><div style=\"background-color:rgb(247,252,245);height:20px;width:20px;margin-bottom:0px;display:inline-block;\"></div><div style=\"background-color:rgb(229,245,224);height:20px;width:20px;margin-bottom:0px;display:inline-block;\"></div><div style=\"background-color:rgb(199,233,192);height:20px;width:20px;margin-bottom:0px;display:inline-block;\"></div><div style=\"background-color:rgb(161,217,155);height:20px;width:20px;margin-bottom:0px;display:inline-block;\"></div><div style=\"background-color:rgb(116,196,118);height:20px;width:20px;margin-bottom:0px;display:inline-block;\"></div><div style=\"background-color:rgb(65,171,93);height:20px;width:20px;margin-bottom:0px;display:inline-block;\"></div><div style=\"background-color:rgb(35,139,69);height:20px;width:20px;margin-bottom:0px;display:inline-block;\"></div><div style=\"background-color:rgb(0,109,44);height:20px;width:20px;margin-bottom:0px;display:inline-block;\"></div><div style=\"background-color:rgb(0,68,27);height:20px;width:20px;margin-bottom:0px;display:inline-block;\"></div></div><div style=\"display:inline-block;padding:10px;\"><div>greys</div><div style=\"background-color:rgb(255,255,255);height:20px;width:20px;margin-bottom:0px;display:inline-block;\"></div><div style=\"background-color:rgb(240,240,240);height:20px;width:20px;margin-bottom:0px;display:inline-block;\"></div><div style=\"background-color:rgb(217,217,217);height:20px;width:20px;margin-bottom:0px;display:inline-block;\"></div><div style=\"background-color:rgb(189,189,189);height:20px;width:20px;margin-bottom:0px;display:inline-block;\"></div><div style=\"background-color:rgb(150,150,150);height:20px;width:20px;margin-bottom:0px;display:inline-block;\"></div><div style=\"background-color:rgb(115,115,115);height:20px;width:20px;margin-bottom:0px;display:inline-block;\"></div><div style=\"background-color:rgb(82,82,82);height:20px;width:20px;margin-bottom:0px;display:inline-block;\"></div><div style=\"background-color:rgb(37,37,37);height:20px;width:20px;margin-bottom:0px;display:inline-block;\"></div><div style=\"background-color:rgb(0,0,0);height:20px;width:20px;margin-bottom:0px;display:inline-block;\"></div></div><div style=\"display:inline-block;padding:10px;\"><div>henanigans</div><div style=\"background-color:rgb(182, 236, 243);height:20px;width:20px;margin-bottom:0px;display:inline-block;\"></div><div style=\"background-color:rgb(222, 149, 142);height:20px;width:20px;margin-bottom:0px;display:inline-block;\"></div><div style=\"background-color:rgb(160, 209, 123);height:20px;width:20px;margin-bottom:0px;display:inline-block;\"></div><div style=\"background-color:rgb(147, 182, 230);height:20px;width:20px;margin-bottom:0px;display:inline-block;\"></div><div style=\"background-color:rgb(235, 180, 131);height:20px;width:20px;margin-bottom:0px;display:inline-block;\"></div><div style=\"background-color:rgb(172, 146, 222);height:20px;width:20px;margin-bottom:0px;display:inline-block;\"></div><div style=\"background-color:rgb(233, 234, 190);height:20px;width:20px;margin-bottom:0px;display:inline-block;\"></div><div style=\"background-color:rgb(244, 244, 244);height:20px;width:20px;margin-bottom:0px;display:inline-block;\"></div><div style=\"background-color:rgb(126, 196, 207);height:20px;width:20px;margin-bottom:0px;display:inline-block;\"></div><div style=\"background-color:rgb(247, 126, 112);height:20px;width:20px;margin-bottom:0px;display:inline-block;\"></div><div style=\"background-color:rgb(139, 209, 85);height:20px;width:20px;margin-bottom:0px;display:inline-block;\"></div><div style=\"background-color:rgb(95, 149, 222);height:20px;width:20px;margin-bottom:0px;display:inline-block;\"></div></div><div style=\"display:inline-block;padding:10px;\"><div>oranges</div><div style=\"background-color:rgb(255,245,235);height:20px;width:20px;margin-bottom:0px;display:inline-block;\"></div><div style=\"background-color:rgb(254,230,206);height:20px;width:20px;margin-bottom:0px;display:inline-block;\"></div><div style=\"background-color:rgb(253,208,162);height:20px;width:20px;margin-bottom:0px;display:inline-block;\"></div><div style=\"background-color:rgb(253,174,107);height:20px;width:20px;margin-bottom:0px;display:inline-block;\"></div><div style=\"background-color:rgb(253,141,60);height:20px;width:20px;margin-bottom:0px;display:inline-block;\"></div><div style=\"background-color:rgb(241,105,19);height:20px;width:20px;margin-bottom:0px;display:inline-block;\"></div><div style=\"background-color:rgb(217,72,1);height:20px;width:20px;margin-bottom:0px;display:inline-block;\"></div><div style=\"background-color:rgb(166,54,3);height:20px;width:20px;margin-bottom:0px;display:inline-block;\"></div><div style=\"background-color:rgb(127,39,4);height:20px;width:20px;margin-bottom:0px;display:inline-block;\"></div></div><div style=\"display:inline-block;padding:10px;\"><div>original</div><div style=\"background-color:rgb(255, 153, 51);height:20px;width:20px;margin-bottom:0px;display:inline-block;\"></div><div style=\"background-color:rgb(55, 128, 191);height:20px;width:20px;margin-bottom:0px;display:inline-block;\"></div><div style=\"background-color:rgb(50, 171, 96);height:20px;width:20px;margin-bottom:0px;display:inline-block;\"></div><div style=\"background-color:rgb(128, 0, 128);height:20px;width:20px;margin-bottom:0px;display:inline-block;\"></div><div style=\"background-color:rgb(219, 64, 82);height:20px;width:20px;margin-bottom:0px;display:inline-block;\"></div><div style=\"background-color:rgb(0, 128, 128);height:20px;width:20px;margin-bottom:0px;display:inline-block;\"></div><div style=\"background-color:rgb(255, 255, 51);height:20px;width:20px;margin-bottom:0px;display:inline-block;\"></div><div style=\"background-color:rgb(128, 128, 0);height:20px;width:20px;margin-bottom:0px;display:inline-block;\"></div><div style=\"background-color:rgb(251, 128, 114);height:20px;width:20px;margin-bottom:0px;display:inline-block;\"></div><div style=\"background-color:rgb(128, 177, 211);height:20px;width:20px;margin-bottom:0px;display:inline-block;\"></div></div><div style=\"display:inline-block;padding:10px;\"><div>orrd</div><div style=\"background-color:rgb(255,247,236);height:20px;width:20px;margin-bottom:0px;display:inline-block;\"></div><div style=\"background-color:rgb(254,232,200);height:20px;width:20px;margin-bottom:0px;display:inline-block;\"></div><div style=\"background-color:rgb(253,212,158);height:20px;width:20px;margin-bottom:0px;display:inline-block;\"></div><div style=\"background-color:rgb(253,187,132);height:20px;width:20px;margin-bottom:0px;display:inline-block;\"></div><div style=\"background-color:rgb(252,141,89);height:20px;width:20px;margin-bottom:0px;display:inline-block;\"></div><div style=\"background-color:rgb(239,101,72);height:20px;width:20px;margin-bottom:0px;display:inline-block;\"></div><div style=\"background-color:rgb(215,48,31);height:20px;width:20px;margin-bottom:0px;display:inline-block;\"></div><div style=\"background-color:rgb(179,0,0);height:20px;width:20px;margin-bottom:0px;display:inline-block;\"></div><div style=\"background-color:rgb(127,0,0);height:20px;width:20px;margin-bottom:0px;display:inline-block;\"></div></div><div style=\"display:inline-block;padding:10px;\"><div>paired</div><div style=\"background-color:rgb(166,206,227);height:20px;width:20px;margin-bottom:0px;display:inline-block;\"></div><div style=\"background-color:rgb(31,120,180);height:20px;width:20px;margin-bottom:0px;display:inline-block;\"></div><div style=\"background-color:rgb(178,223,138);height:20px;width:20px;margin-bottom:0px;display:inline-block;\"></div><div style=\"background-color:rgb(51,160,44);height:20px;width:20px;margin-bottom:0px;display:inline-block;\"></div><div style=\"background-color:rgb(251,154,153);height:20px;width:20px;margin-bottom:0px;display:inline-block;\"></div><div style=\"background-color:rgb(227,26,28);height:20px;width:20px;margin-bottom:0px;display:inline-block;\"></div><div style=\"background-color:rgb(253,191,111);height:20px;width:20px;margin-bottom:0px;display:inline-block;\"></div><div style=\"background-color:rgb(255,127,0);height:20px;width:20px;margin-bottom:0px;display:inline-block;\"></div><div style=\"background-color:rgb(202,178,214);height:20px;width:20px;margin-bottom:0px;display:inline-block;\"></div><div style=\"background-color:rgb(106,61,154);height:20px;width:20px;margin-bottom:0px;display:inline-block;\"></div><div style=\"background-color:rgb(255,255,153);height:20px;width:20px;margin-bottom:0px;display:inline-block;\"></div><div style=\"background-color:rgb(177,89,40);height:20px;width:20px;margin-bottom:0px;display:inline-block;\"></div></div><div style=\"display:inline-block;padding:10px;\"><div>pastel1</div><div style=\"background-color:rgb(251,180,174);height:20px;width:20px;margin-bottom:0px;display:inline-block;\"></div><div style=\"background-color:rgb(179,205,227);height:20px;width:20px;margin-bottom:0px;display:inline-block;\"></div><div style=\"background-color:rgb(204,235,197);height:20px;width:20px;margin-bottom:0px;display:inline-block;\"></div><div style=\"background-color:rgb(222,203,228);height:20px;width:20px;margin-bottom:0px;display:inline-block;\"></div><div style=\"background-color:rgb(254,217,166);height:20px;width:20px;margin-bottom:0px;display:inline-block;\"></div><div style=\"background-color:rgb(255,255,204);height:20px;width:20px;margin-bottom:0px;display:inline-block;\"></div><div style=\"background-color:rgb(229,216,189);height:20px;width:20px;margin-bottom:0px;display:inline-block;\"></div><div style=\"background-color:rgb(253,218,236);height:20px;width:20px;margin-bottom:0px;display:inline-block;\"></div><div style=\"background-color:rgb(242,242,242);height:20px;width:20px;margin-bottom:0px;display:inline-block;\"></div></div><div style=\"display:inline-block;padding:10px;\"><div>pastel2</div><div style=\"background-color:rgb(179,226,205);height:20px;width:20px;margin-bottom:0px;display:inline-block;\"></div><div style=\"background-color:rgb(253,205,172);height:20px;width:20px;margin-bottom:0px;display:inline-block;\"></div><div style=\"background-color:rgb(203,213,232);height:20px;width:20px;margin-bottom:0px;display:inline-block;\"></div><div style=\"background-color:rgb(244,202,228);height:20px;width:20px;margin-bottom:0px;display:inline-block;\"></div><div style=\"background-color:rgb(230,245,201);height:20px;width:20px;margin-bottom:0px;display:inline-block;\"></div><div style=\"background-color:rgb(255,242,174);height:20px;width:20px;margin-bottom:0px;display:inline-block;\"></div><div style=\"background-color:rgb(241,226,204);height:20px;width:20px;margin-bottom:0px;display:inline-block;\"></div><div style=\"background-color:rgb(204,204,204);height:20px;width:20px;margin-bottom:0px;display:inline-block;\"></div></div><div style=\"display:inline-block;padding:10px;\"><div>piyg</div><div style=\"background-color:rgb(142,1,82);height:20px;width:20px;margin-bottom:0px;display:inline-block;\"></div><div style=\"background-color:rgb(197,27,125);height:20px;width:20px;margin-bottom:0px;display:inline-block;\"></div><div style=\"background-color:rgb(222,119,174);height:20px;width:20px;margin-bottom:0px;display:inline-block;\"></div><div style=\"background-color:rgb(241,182,218);height:20px;width:20px;margin-bottom:0px;display:inline-block;\"></div><div style=\"background-color:rgb(253,224,239);height:20px;width:20px;margin-bottom:0px;display:inline-block;\"></div><div style=\"background-color:rgb(247,247,247);height:20px;width:20px;margin-bottom:0px;display:inline-block;\"></div><div style=\"background-color:rgb(230,245,208);height:20px;width:20px;margin-bottom:0px;display:inline-block;\"></div><div style=\"background-color:rgb(184,225,134);height:20px;width:20px;margin-bottom:0px;display:inline-block;\"></div><div style=\"background-color:rgb(127,188,65);height:20px;width:20px;margin-bottom:0px;display:inline-block;\"></div><div style=\"background-color:rgb(77,146,33);height:20px;width:20px;margin-bottom:0px;display:inline-block;\"></div><div style=\"background-color:rgb(39,100,25);height:20px;width:20px;margin-bottom:0px;display:inline-block;\"></div></div><div style=\"display:inline-block;padding:10px;\"><div>plotly</div><div style=\"background-color:rgb(31, 119, 180);height:20px;width:20px;margin-bottom:0px;display:inline-block;\"></div><div style=\"background-color:rgb(255, 127, 14);height:20px;width:20px;margin-bottom:0px;display:inline-block;\"></div><div style=\"background-color:rgb(44, 160, 44);height:20px;width:20px;margin-bottom:0px;display:inline-block;\"></div><div style=\"background-color:rgb(214, 39, 40);height:20px;width:20px;margin-bottom:0px;display:inline-block;\"></div><div style=\"background-color:rgb(148, 103, 189);height:20px;width:20px;margin-bottom:0px;display:inline-block;\"></div><div style=\"background-color:rgb(140, 86, 75);height:20px;width:20px;margin-bottom:0px;display:inline-block;\"></div><div style=\"background-color:rgb(227, 119, 194);height:20px;width:20px;margin-bottom:0px;display:inline-block;\"></div><div style=\"background-color:rgb(127, 127, 127);height:20px;width:20px;margin-bottom:0px;display:inline-block;\"></div><div style=\"background-color:rgb(188, 189, 34);height:20px;width:20px;margin-bottom:0px;display:inline-block;\"></div><div style=\"background-color:rgb(23, 190, 207);height:20px;width:20px;margin-bottom:0px;display:inline-block;\"></div></div><div style=\"display:inline-block;padding:10px;\"><div>polar</div><div style=\"background-color:rgb(0, 128, 240);height:20px;width:20px;margin-bottom:0px;display:inline-block;\"></div><div style=\"background-color:rgb(238, 118, 0);height:20px;width:20px;margin-bottom:0px;display:inline-block;\"></div><div style=\"background-color:rgb(48, 144, 84);height:20px;width:20px;margin-bottom:0px;display:inline-block;\"></div><div style=\"background-color:rgb(98, 98, 222);height:20px;width:20px;margin-bottom:0px;display:inline-block;\"></div><div style=\"background-color:rgb(217, 66, 85);height:20px;width:20px;margin-bottom:0px;display:inline-block;\"></div><div style=\"background-color:rgb(173, 252, 252);height:20px;width:20px;margin-bottom:0px;display:inline-block;\"></div><div style=\"background-color:rgb(70, 160, 240);height:20px;width:20px;margin-bottom:0px;display:inline-block;\"></div></div><div style=\"display:inline-block;padding:10px;\"><div>prgn</div><div style=\"background-color:rgb(64,0,75);height:20px;width:20px;margin-bottom:0px;display:inline-block;\"></div><div style=\"background-color:rgb(118,42,131);height:20px;width:20px;margin-bottom:0px;display:inline-block;\"></div><div style=\"background-color:rgb(153,112,171);height:20px;width:20px;margin-bottom:0px;display:inline-block;\"></div><div style=\"background-color:rgb(194,165,207);height:20px;width:20px;margin-bottom:0px;display:inline-block;\"></div><div style=\"background-color:rgb(231,212,232);height:20px;width:20px;margin-bottom:0px;display:inline-block;\"></div><div style=\"background-color:rgb(247,247,247);height:20px;width:20px;margin-bottom:0px;display:inline-block;\"></div><div style=\"background-color:rgb(217,240,211);height:20px;width:20px;margin-bottom:0px;display:inline-block;\"></div><div style=\"background-color:rgb(166,219,160);height:20px;width:20px;margin-bottom:0px;display:inline-block;\"></div><div style=\"background-color:rgb(90,174,97);height:20px;width:20px;margin-bottom:0px;display:inline-block;\"></div><div style=\"background-color:rgb(27,120,55);height:20px;width:20px;margin-bottom:0px;display:inline-block;\"></div><div style=\"background-color:rgb(0,68,27);height:20px;width:20px;margin-bottom:0px;display:inline-block;\"></div></div><div style=\"display:inline-block;padding:10px;\"><div>pubu</div><div style=\"background-color:rgb(255,247,251);height:20px;width:20px;margin-bottom:0px;display:inline-block;\"></div><div style=\"background-color:rgb(236,231,242);height:20px;width:20px;margin-bottom:0px;display:inline-block;\"></div><div style=\"background-color:rgb(208,209,230);height:20px;width:20px;margin-bottom:0px;display:inline-block;\"></div><div style=\"background-color:rgb(166,189,219);height:20px;width:20px;margin-bottom:0px;display:inline-block;\"></div><div style=\"background-color:rgb(116,169,207);height:20px;width:20px;margin-bottom:0px;display:inline-block;\"></div><div style=\"background-color:rgb(54,144,192);height:20px;width:20px;margin-bottom:0px;display:inline-block;\"></div><div style=\"background-color:rgb(5,112,176);height:20px;width:20px;margin-bottom:0px;display:inline-block;\"></div><div style=\"background-color:rgb(4,90,141);height:20px;width:20px;margin-bottom:0px;display:inline-block;\"></div><div style=\"background-color:rgb(2,56,88);height:20px;width:20px;margin-bottom:0px;display:inline-block;\"></div></div><div style=\"display:inline-block;padding:10px;\"><div>pubugn</div><div style=\"background-color:rgb(255,247,251);height:20px;width:20px;margin-bottom:0px;display:inline-block;\"></div><div style=\"background-color:rgb(236,226,240);height:20px;width:20px;margin-bottom:0px;display:inline-block;\"></div><div style=\"background-color:rgb(208,209,230);height:20px;width:20px;margin-bottom:0px;display:inline-block;\"></div><div style=\"background-color:rgb(166,189,219);height:20px;width:20px;margin-bottom:0px;display:inline-block;\"></div><div style=\"background-color:rgb(103,169,207);height:20px;width:20px;margin-bottom:0px;display:inline-block;\"></div><div style=\"background-color:rgb(54,144,192);height:20px;width:20px;margin-bottom:0px;display:inline-block;\"></div><div style=\"background-color:rgb(2,129,138);height:20px;width:20px;margin-bottom:0px;display:inline-block;\"></div><div style=\"background-color:rgb(1,108,89);height:20px;width:20px;margin-bottom:0px;display:inline-block;\"></div><div style=\"background-color:rgb(1,70,54);height:20px;width:20px;margin-bottom:0px;display:inline-block;\"></div></div><div style=\"display:inline-block;padding:10px;\"><div>puor</div><div style=\"background-color:rgb(127,59,8);height:20px;width:20px;margin-bottom:0px;display:inline-block;\"></div><div style=\"background-color:rgb(179,88,6);height:20px;width:20px;margin-bottom:0px;display:inline-block;\"></div><div style=\"background-color:rgb(224,130,20);height:20px;width:20px;margin-bottom:0px;display:inline-block;\"></div><div style=\"background-color:rgb(253,184,99);height:20px;width:20px;margin-bottom:0px;display:inline-block;\"></div><div style=\"background-color:rgb(254,224,182);height:20px;width:20px;margin-bottom:0px;display:inline-block;\"></div><div style=\"background-color:rgb(247,247,247);height:20px;width:20px;margin-bottom:0px;display:inline-block;\"></div><div style=\"background-color:rgb(216,218,235);height:20px;width:20px;margin-bottom:0px;display:inline-block;\"></div><div style=\"background-color:rgb(178,171,210);height:20px;width:20px;margin-bottom:0px;display:inline-block;\"></div><div style=\"background-color:rgb(128,115,172);height:20px;width:20px;margin-bottom:0px;display:inline-block;\"></div><div style=\"background-color:rgb(84,39,136);height:20px;width:20px;margin-bottom:0px;display:inline-block;\"></div><div style=\"background-color:rgb(45,0,75);height:20px;width:20px;margin-bottom:0px;display:inline-block;\"></div></div><div style=\"display:inline-block;padding:10px;\"><div>purd</div><div style=\"background-color:rgb(247,244,249);height:20px;width:20px;margin-bottom:0px;display:inline-block;\"></div><div style=\"background-color:rgb(231,225,239);height:20px;width:20px;margin-bottom:0px;display:inline-block;\"></div><div style=\"background-color:rgb(212,185,218);height:20px;width:20px;margin-bottom:0px;display:inline-block;\"></div><div style=\"background-color:rgb(201,148,199);height:20px;width:20px;margin-bottom:0px;display:inline-block;\"></div><div style=\"background-color:rgb(223,101,176);height:20px;width:20px;margin-bottom:0px;display:inline-block;\"></div><div style=\"background-color:rgb(231,41,138);height:20px;width:20px;margin-bottom:0px;display:inline-block;\"></div><div style=\"background-color:rgb(206,18,86);height:20px;width:20px;margin-bottom:0px;display:inline-block;\"></div><div style=\"background-color:rgb(152,0,67);height:20px;width:20px;margin-bottom:0px;display:inline-block;\"></div><div style=\"background-color:rgb(103,0,31);height:20px;width:20px;margin-bottom:0px;display:inline-block;\"></div></div><div style=\"display:inline-block;padding:10px;\"><div>purples</div><div style=\"background-color:rgb(252,251,253);height:20px;width:20px;margin-bottom:0px;display:inline-block;\"></div><div style=\"background-color:rgb(239,237,245);height:20px;width:20px;margin-bottom:0px;display:inline-block;\"></div><div style=\"background-color:rgb(218,218,235);height:20px;width:20px;margin-bottom:0px;display:inline-block;\"></div><div style=\"background-color:rgb(188,189,220);height:20px;width:20px;margin-bottom:0px;display:inline-block;\"></div><div style=\"background-color:rgb(158,154,200);height:20px;width:20px;margin-bottom:0px;display:inline-block;\"></div><div style=\"background-color:rgb(128,125,186);height:20px;width:20px;margin-bottom:0px;display:inline-block;\"></div><div style=\"background-color:rgb(106,81,163);height:20px;width:20px;margin-bottom:0px;display:inline-block;\"></div><div style=\"background-color:rgb(84,39,143);height:20px;width:20px;margin-bottom:0px;display:inline-block;\"></div><div style=\"background-color:rgb(63,0,125);height:20px;width:20px;margin-bottom:0px;display:inline-block;\"></div></div><div style=\"display:inline-block;padding:10px;\"><div>rdbu</div><div style=\"background-color:rgb(103,0,31);height:20px;width:20px;margin-bottom:0px;display:inline-block;\"></div><div style=\"background-color:rgb(178,24,43);height:20px;width:20px;margin-bottom:0px;display:inline-block;\"></div><div style=\"background-color:rgb(214,96,77);height:20px;width:20px;margin-bottom:0px;display:inline-block;\"></div><div style=\"background-color:rgb(244,165,130);height:20px;width:20px;margin-bottom:0px;display:inline-block;\"></div><div style=\"background-color:rgb(253,219,199);height:20px;width:20px;margin-bottom:0px;display:inline-block;\"></div><div style=\"background-color:rgb(247,247,247);height:20px;width:20px;margin-bottom:0px;display:inline-block;\"></div><div style=\"background-color:rgb(209,229,240);height:20px;width:20px;margin-bottom:0px;display:inline-block;\"></div><div style=\"background-color:rgb(146,197,222);height:20px;width:20px;margin-bottom:0px;display:inline-block;\"></div><div style=\"background-color:rgb(67,147,195);height:20px;width:20px;margin-bottom:0px;display:inline-block;\"></div><div style=\"background-color:rgb(33,102,172);height:20px;width:20px;margin-bottom:0px;display:inline-block;\"></div><div style=\"background-color:rgb(5,48,97);height:20px;width:20px;margin-bottom:0px;display:inline-block;\"></div></div><div style=\"display:inline-block;padding:10px;\"><div>rdgy</div><div style=\"background-color:rgb(103,0,31);height:20px;width:20px;margin-bottom:0px;display:inline-block;\"></div><div style=\"background-color:rgb(178,24,43);height:20px;width:20px;margin-bottom:0px;display:inline-block;\"></div><div style=\"background-color:rgb(214,96,77);height:20px;width:20px;margin-bottom:0px;display:inline-block;\"></div><div style=\"background-color:rgb(244,165,130);height:20px;width:20px;margin-bottom:0px;display:inline-block;\"></div><div style=\"background-color:rgb(253,219,199);height:20px;width:20px;margin-bottom:0px;display:inline-block;\"></div><div style=\"background-color:rgb(255,255,255);height:20px;width:20px;margin-bottom:0px;display:inline-block;\"></div><div style=\"background-color:rgb(224,224,224);height:20px;width:20px;margin-bottom:0px;display:inline-block;\"></div><div style=\"background-color:rgb(186,186,186);height:20px;width:20px;margin-bottom:0px;display:inline-block;\"></div><div style=\"background-color:rgb(135,135,135);height:20px;width:20px;margin-bottom:0px;display:inline-block;\"></div><div style=\"background-color:rgb(77,77,77);height:20px;width:20px;margin-bottom:0px;display:inline-block;\"></div><div style=\"background-color:rgb(26,26,26);height:20px;width:20px;margin-bottom:0px;display:inline-block;\"></div></div><div style=\"display:inline-block;padding:10px;\"><div>rdpu</div><div style=\"background-color:rgb(255,247,243);height:20px;width:20px;margin-bottom:0px;display:inline-block;\"></div><div style=\"background-color:rgb(253,224,221);height:20px;width:20px;margin-bottom:0px;display:inline-block;\"></div><div style=\"background-color:rgb(252,197,192);height:20px;width:20px;margin-bottom:0px;display:inline-block;\"></div><div style=\"background-color:rgb(250,159,181);height:20px;width:20px;margin-bottom:0px;display:inline-block;\"></div><div style=\"background-color:rgb(247,104,161);height:20px;width:20px;margin-bottom:0px;display:inline-block;\"></div><div style=\"background-color:rgb(221,52,151);height:20px;width:20px;margin-bottom:0px;display:inline-block;\"></div><div style=\"background-color:rgb(174,1,126);height:20px;width:20px;margin-bottom:0px;display:inline-block;\"></div><div style=\"background-color:rgb(122,1,119);height:20px;width:20px;margin-bottom:0px;display:inline-block;\"></div><div style=\"background-color:rgb(73,0,106);height:20px;width:20px;margin-bottom:0px;display:inline-block;\"></div></div><div style=\"display:inline-block;padding:10px;\"><div>rdylbu</div><div style=\"background-color:rgb(165,0,38);height:20px;width:20px;margin-bottom:0px;display:inline-block;\"></div><div style=\"background-color:rgb(215,48,39);height:20px;width:20px;margin-bottom:0px;display:inline-block;\"></div><div style=\"background-color:rgb(244,109,67);height:20px;width:20px;margin-bottom:0px;display:inline-block;\"></div><div style=\"background-color:rgb(253,174,97);height:20px;width:20px;margin-bottom:0px;display:inline-block;\"></div><div style=\"background-color:rgb(254,224,144);height:20px;width:20px;margin-bottom:0px;display:inline-block;\"></div><div style=\"background-color:rgb(255,255,191);height:20px;width:20px;margin-bottom:0px;display:inline-block;\"></div><div style=\"background-color:rgb(224,243,248);height:20px;width:20px;margin-bottom:0px;display:inline-block;\"></div><div style=\"background-color:rgb(171,217,233);height:20px;width:20px;margin-bottom:0px;display:inline-block;\"></div><div style=\"background-color:rgb(116,173,209);height:20px;width:20px;margin-bottom:0px;display:inline-block;\"></div><div style=\"background-color:rgb(69,117,180);height:20px;width:20px;margin-bottom:0px;display:inline-block;\"></div><div style=\"background-color:rgb(49,54,149);height:20px;width:20px;margin-bottom:0px;display:inline-block;\"></div></div><div style=\"display:inline-block;padding:10px;\"><div>rdylgn</div><div style=\"background-color:rgb(165,0,38);height:20px;width:20px;margin-bottom:0px;display:inline-block;\"></div><div style=\"background-color:rgb(215,48,39);height:20px;width:20px;margin-bottom:0px;display:inline-block;\"></div><div style=\"background-color:rgb(244,109,67);height:20px;width:20px;margin-bottom:0px;display:inline-block;\"></div><div style=\"background-color:rgb(253,174,97);height:20px;width:20px;margin-bottom:0px;display:inline-block;\"></div><div style=\"background-color:rgb(254,224,139);height:20px;width:20px;margin-bottom:0px;display:inline-block;\"></div><div style=\"background-color:rgb(255,255,191);height:20px;width:20px;margin-bottom:0px;display:inline-block;\"></div><div style=\"background-color:rgb(217,239,139);height:20px;width:20px;margin-bottom:0px;display:inline-block;\"></div><div style=\"background-color:rgb(166,217,106);height:20px;width:20px;margin-bottom:0px;display:inline-block;\"></div><div style=\"background-color:rgb(102,189,99);height:20px;width:20px;margin-bottom:0px;display:inline-block;\"></div><div style=\"background-color:rgb(26,152,80);height:20px;width:20px;margin-bottom:0px;display:inline-block;\"></div><div style=\"background-color:rgb(0,104,55);height:20px;width:20px;margin-bottom:0px;display:inline-block;\"></div></div><div style=\"display:inline-block;padding:10px;\"><div>reds</div><div style=\"background-color:rgb(255,245,240);height:20px;width:20px;margin-bottom:0px;display:inline-block;\"></div><div style=\"background-color:rgb(254,224,210);height:20px;width:20px;margin-bottom:0px;display:inline-block;\"></div><div style=\"background-color:rgb(252,187,161);height:20px;width:20px;margin-bottom:0px;display:inline-block;\"></div><div style=\"background-color:rgb(252,146,114);height:20px;width:20px;margin-bottom:0px;display:inline-block;\"></div><div style=\"background-color:rgb(251,106,74);height:20px;width:20px;margin-bottom:0px;display:inline-block;\"></div><div style=\"background-color:rgb(239,59,44);height:20px;width:20px;margin-bottom:0px;display:inline-block;\"></div><div style=\"background-color:rgb(203,24,29);height:20px;width:20px;margin-bottom:0px;display:inline-block;\"></div><div style=\"background-color:rgb(165,15,21);height:20px;width:20px;margin-bottom:0px;display:inline-block;\"></div><div style=\"background-color:rgb(103,0,13);height:20px;width:20px;margin-bottom:0px;display:inline-block;\"></div></div><div style=\"display:inline-block;padding:10px;\"><div>set1</div><div style=\"background-color:rgb(228,26,28);height:20px;width:20px;margin-bottom:0px;display:inline-block;\"></div><div style=\"background-color:rgb(55,126,184);height:20px;width:20px;margin-bottom:0px;display:inline-block;\"></div><div style=\"background-color:rgb(77,175,74);height:20px;width:20px;margin-bottom:0px;display:inline-block;\"></div><div style=\"background-color:rgb(152,78,163);height:20px;width:20px;margin-bottom:0px;display:inline-block;\"></div><div style=\"background-color:rgb(255,127,0);height:20px;width:20px;margin-bottom:0px;display:inline-block;\"></div><div style=\"background-color:rgb(255,255,51);height:20px;width:20px;margin-bottom:0px;display:inline-block;\"></div><div style=\"background-color:rgb(166,86,40);height:20px;width:20px;margin-bottom:0px;display:inline-block;\"></div><div style=\"background-color:rgb(247,129,191);height:20px;width:20px;margin-bottom:0px;display:inline-block;\"></div><div style=\"background-color:rgb(153,153,153);height:20px;width:20px;margin-bottom:0px;display:inline-block;\"></div></div><div style=\"display:inline-block;padding:10px;\"><div>set2</div><div style=\"background-color:rgb(102,194,165);height:20px;width:20px;margin-bottom:0px;display:inline-block;\"></div><div style=\"background-color:rgb(252,141,98);height:20px;width:20px;margin-bottom:0px;display:inline-block;\"></div><div style=\"background-color:rgb(141,160,203);height:20px;width:20px;margin-bottom:0px;display:inline-block;\"></div><div style=\"background-color:rgb(231,138,195);height:20px;width:20px;margin-bottom:0px;display:inline-block;\"></div><div style=\"background-color:rgb(166,216,84);height:20px;width:20px;margin-bottom:0px;display:inline-block;\"></div><div style=\"background-color:rgb(255,217,47);height:20px;width:20px;margin-bottom:0px;display:inline-block;\"></div><div style=\"background-color:rgb(229,196,148);height:20px;width:20px;margin-bottom:0px;display:inline-block;\"></div><div style=\"background-color:rgb(179,179,179);height:20px;width:20px;margin-bottom:0px;display:inline-block;\"></div></div><div style=\"display:inline-block;padding:10px;\"><div>set3</div><div style=\"background-color:rgb(141,211,199);height:20px;width:20px;margin-bottom:0px;display:inline-block;\"></div><div style=\"background-color:rgb(255,255,179);height:20px;width:20px;margin-bottom:0px;display:inline-block;\"></div><div style=\"background-color:rgb(190,186,218);height:20px;width:20px;margin-bottom:0px;display:inline-block;\"></div><div style=\"background-color:rgb(251,128,114);height:20px;width:20px;margin-bottom:0px;display:inline-block;\"></div><div style=\"background-color:rgb(128,177,211);height:20px;width:20px;margin-bottom:0px;display:inline-block;\"></div><div style=\"background-color:rgb(253,180,98);height:20px;width:20px;margin-bottom:0px;display:inline-block;\"></div><div style=\"background-color:rgb(179,222,105);height:20px;width:20px;margin-bottom:0px;display:inline-block;\"></div><div style=\"background-color:rgb(252,205,229);height:20px;width:20px;margin-bottom:0px;display:inline-block;\"></div><div style=\"background-color:rgb(217,217,217);height:20px;width:20px;margin-bottom:0px;display:inline-block;\"></div><div style=\"background-color:rgb(188,128,189);height:20px;width:20px;margin-bottom:0px;display:inline-block;\"></div><div style=\"background-color:rgb(204,235,197);height:20px;width:20px;margin-bottom:0px;display:inline-block;\"></div><div style=\"background-color:rgb(255,237,111);height:20px;width:20px;margin-bottom:0px;display:inline-block;\"></div></div><div style=\"display:inline-block;padding:10px;\"><div>spectral</div><div style=\"background-color:rgb(158,1,66);height:20px;width:20px;margin-bottom:0px;display:inline-block;\"></div><div style=\"background-color:rgb(213,62,79);height:20px;width:20px;margin-bottom:0px;display:inline-block;\"></div><div style=\"background-color:rgb(244,109,67);height:20px;width:20px;margin-bottom:0px;display:inline-block;\"></div><div style=\"background-color:rgb(253,174,97);height:20px;width:20px;margin-bottom:0px;display:inline-block;\"></div><div style=\"background-color:rgb(254,224,139);height:20px;width:20px;margin-bottom:0px;display:inline-block;\"></div><div style=\"background-color:rgb(255,255,191);height:20px;width:20px;margin-bottom:0px;display:inline-block;\"></div><div style=\"background-color:rgb(230,245,152);height:20px;width:20px;margin-bottom:0px;display:inline-block;\"></div><div style=\"background-color:rgb(171,221,164);height:20px;width:20px;margin-bottom:0px;display:inline-block;\"></div><div style=\"background-color:rgb(102,194,165);height:20px;width:20px;margin-bottom:0px;display:inline-block;\"></div><div style=\"background-color:rgb(50,136,189);height:20px;width:20px;margin-bottom:0px;display:inline-block;\"></div><div style=\"background-color:rgb(94,79,162);height:20px;width:20px;margin-bottom:0px;display:inline-block;\"></div></div><div style=\"display:inline-block;padding:10px;\"><div>ylgn</div><div style=\"background-color:rgb(255,255,229);height:20px;width:20px;margin-bottom:0px;display:inline-block;\"></div><div style=\"background-color:rgb(247,252,185);height:20px;width:20px;margin-bottom:0px;display:inline-block;\"></div><div style=\"background-color:rgb(217,240,163);height:20px;width:20px;margin-bottom:0px;display:inline-block;\"></div><div style=\"background-color:rgb(173,221,142);height:20px;width:20px;margin-bottom:0px;display:inline-block;\"></div><div style=\"background-color:rgb(120,198,121);height:20px;width:20px;margin-bottom:0px;display:inline-block;\"></div><div style=\"background-color:rgb(65,171,93);height:20px;width:20px;margin-bottom:0px;display:inline-block;\"></div><div style=\"background-color:rgb(35,132,67);height:20px;width:20px;margin-bottom:0px;display:inline-block;\"></div><div style=\"background-color:rgb(0,104,55);height:20px;width:20px;margin-bottom:0px;display:inline-block;\"></div><div style=\"background-color:rgb(0,69,41);height:20px;width:20px;margin-bottom:0px;display:inline-block;\"></div></div><div style=\"display:inline-block;padding:10px;\"><div>ylgnbu</div><div style=\"background-color:rgb(255,255,217);height:20px;width:20px;margin-bottom:0px;display:inline-block;\"></div><div style=\"background-color:rgb(237,248,177);height:20px;width:20px;margin-bottom:0px;display:inline-block;\"></div><div style=\"background-color:rgb(199,233,180);height:20px;width:20px;margin-bottom:0px;display:inline-block;\"></div><div style=\"background-color:rgb(127,205,187);height:20px;width:20px;margin-bottom:0px;display:inline-block;\"></div><div style=\"background-color:rgb(65,182,196);height:20px;width:20px;margin-bottom:0px;display:inline-block;\"></div><div style=\"background-color:rgb(29,145,192);height:20px;width:20px;margin-bottom:0px;display:inline-block;\"></div><div style=\"background-color:rgb(34,94,168);height:20px;width:20px;margin-bottom:0px;display:inline-block;\"></div><div style=\"background-color:rgb(37,52,148);height:20px;width:20px;margin-bottom:0px;display:inline-block;\"></div><div style=\"background-color:rgb(8,29,88);height:20px;width:20px;margin-bottom:0px;display:inline-block;\"></div></div><div style=\"display:inline-block;padding:10px;\"><div>ylorbr</div><div style=\"background-color:rgb(255,255,229);height:20px;width:20px;margin-bottom:0px;display:inline-block;\"></div><div style=\"background-color:rgb(255,247,188);height:20px;width:20px;margin-bottom:0px;display:inline-block;\"></div><div style=\"background-color:rgb(254,227,145);height:20px;width:20px;margin-bottom:0px;display:inline-block;\"></div><div style=\"background-color:rgb(254,196,79);height:20px;width:20px;margin-bottom:0px;display:inline-block;\"></div><div style=\"background-color:rgb(254,153,41);height:20px;width:20px;margin-bottom:0px;display:inline-block;\"></div><div style=\"background-color:rgb(236,112,20);height:20px;width:20px;margin-bottom:0px;display:inline-block;\"></div><div style=\"background-color:rgb(204,76,2);height:20px;width:20px;margin-bottom:0px;display:inline-block;\"></div><div style=\"background-color:rgb(153,52,4);height:20px;width:20px;margin-bottom:0px;display:inline-block;\"></div><div style=\"background-color:rgb(102,37,6);height:20px;width:20px;margin-bottom:0px;display:inline-block;\"></div></div><div style=\"display:inline-block;padding:10px;\"><div>ylorrd</div><div style=\"background-color:rgb(255,255,204);height:20px;width:20px;margin-bottom:0px;display:inline-block;\"></div><div style=\"background-color:rgb(255,237,160);height:20px;width:20px;margin-bottom:0px;display:inline-block;\"></div><div style=\"background-color:rgb(254,217,118);height:20px;width:20px;margin-bottom:0px;display:inline-block;\"></div><div style=\"background-color:rgb(254,178,76);height:20px;width:20px;margin-bottom:0px;display:inline-block;\"></div><div style=\"background-color:rgb(253,141,60);height:20px;width:20px;margin-bottom:0px;display:inline-block;\"></div><div style=\"background-color:rgb(252,78,42);height:20px;width:20px;margin-bottom:0px;display:inline-block;\"></div><div style=\"background-color:rgb(227,26,28);height:20px;width:20px;margin-bottom:0px;display:inline-block;\"></div><div style=\"background-color:rgb(189,0,38);height:20px;width:20px;margin-bottom:0px;display:inline-block;\"></div><div style=\"background-color:rgb(128,0,38);height:20px;width:20px;margin-bottom:0px;display:inline-block;\"></div></div>"
      ],
      "text/plain": [
       "<IPython.core.display.HTML object>"
      ]
     },
     "metadata": {},
     "output_type": "display_data"
    }
   ],
   "source": [
    "cf.colors.scales()"
   ]
  },
  {
   "cell_type": "code",
   "execution_count": 51,
   "id": "51b50314",
   "metadata": {},
   "outputs": [
    {
     "data": {
      "application/vnd.plotly.v1+json": {
       "config": {
        "linkText": "Export to plot.ly",
        "plotlyServerURL": "https://plot.ly",
        "showLink": true
       },
       "data": [
        {
         "histfunc": "count",
         "histnorm": "",
         "marker": {
          "color": "rgba(255, 153, 51, 1.0)",
          "line": {
           "color": "#4D5663",
           "width": 1.3
          }
         },
         "name": "A",
         "nbinsx": 10,
         "opacity": 0.8,
         "orientation": "v",
         "type": "histogram",
         "x": [
          -0.23833749478084632,
          0.6501994394768832,
          0.69240112895364,
          1.5320970914057563,
          1.5143536412100664,
          0.9091328451299554,
          0.5633932306807066,
          -0.6957450025151292,
          -0.3293951092999953,
          0.07112715282153531,
          1.3871289338711221,
          -0.30275030951868354,
          0.4325520012397575,
          0.3557928642971695,
          -0.14842497025923618,
          0.5618247664499927,
          0.05994346882977397,
          -1.4735100631741256,
          -0.08917911520644622,
          1.7363207791384538,
          -0.14329310593151515,
          0.15611611177600046,
          0.5406570368378665,
          -0.9957010147824803,
          1.387177334594978,
          0.1310498324631058,
          -0.22314038016345794,
          0.08879164066410501,
          -0.8810051288147794,
          -0.9770286284628511,
          -0.6715971578254221,
          1.3002560139455641,
          2.321624410335273,
          -0.15289584456586722,
          -0.6972843987992097,
          0.5931203866351997,
          0.9130042417329262,
          -0.3295338415521216,
          -1.3016776038004398,
          1.960484862694741,
          2.2802574608931754,
          -1.55531604820331,
          -0.4757202431700581,
          1.4373273727690996,
          -1.0070240274826834,
          1.2629202246100506,
          0.12856968538899607,
          -1.1243817895047012,
          0.04653002549161323,
          0.4369480939055736,
          0.2693438575066526,
          1.8038758704998965,
          0.1029603524630663,
          1.6081370990783066,
          -0.1378580105992773,
          0.5793942859228219,
          -0.14858741009587503,
          -0.19768016506777614,
          1.048015998868027,
          0.630830200972105,
          -1.5016688943855903,
          -0.42725460179513036,
          0.6632276199073781,
          0.03905584833789047,
          1.7065901060137059,
          -1.1400524905628655,
          0.4061750213104448,
          -0.3410890234644094,
          0.528994584107765,
          -0.44653772676211606,
          1.0273411655950548,
          -0.7616521517056599,
          -0.2990750926136947,
          0.7438791605337584,
          -0.6864816773203487,
          0.29972132855314054,
          0.0635865919701606,
          1.1160715054732728,
          0.23893414638922392,
          -3.0791028296082588,
          0.5628299582121862,
          1.3428877260800716,
          0.16002233058937887,
          -1.908974501388095,
          -1.063113689959441,
          -1.6701307613421852,
          0.6415131291626535,
          -1.4708631052358239,
          0.4542836706219212,
          -0.1803329649366861,
          2.3448185248734807,
          -0.42455083915233127,
          1.3596741223109698,
          -0.6387336708337593,
          -1.199901298038498,
          -0.46670532426178835,
          -1.9657923377437196,
          -2.5721533669425205,
          1.255546642935715,
          0.12504483924872897
         ],
         "xaxis": "x",
         "yaxis": "y"
        },
        {
         "line": {
          "color": "rgba(128, 128, 128, 1.0)",
          "dash": "solid",
          "shape": "linear",
          "width": 1.3
         },
         "marker": {
          "size": 2,
          "symbol": "circle"
         },
         "mode": "markers",
         "name": "A",
         "text": "",
         "type": "scatter",
         "x": [
          -0.06291427450316933,
          -1.5322731602884292,
          2.028348772987773,
          0.6693932445647333,
          -1.784146484904668,
          0.5629194960966317,
          -1.1531714182196977,
          -1.198881273469872,
          -0.3599836499936697,
          -1.5859282623298518,
          0.43249326298018725,
          0.006334251206168981,
          -0.26156984664420363,
          -0.5542522296562603,
          0.6615866179143592,
          -1.324140148711569,
          0.34809760005611035,
          0.22845512200847662,
          0.7507214599572216,
          -0.4860243963364303,
          1.1966633637001574,
          -1.2290464952865618,
          0.39754334761882865,
          1.6994877438337332,
          0.7416418706957048,
          0.6403585630531775,
          -0.8734327491302029,
          -0.392926611428367,
          0.5749885606001245,
          -2.0467397051668876,
          0.49166689329736457,
          1.4036586051368503,
          -0.8307840514047554,
          0.6335495113267404,
          1.1820666940436422,
          -1.075705232012773,
          1.1881493161215,
          -1.423278677749765,
          -0.6430643428642822,
          -0.3293289381854944,
          -0.6547480913773267,
          -0.8463597065410111,
          -0.0024702289586539285,
          -1.0612818837077704,
          0.1254377076446763,
          -0.404602263867722,
          -0.7446729897259533,
          0.2186432671211768,
          1.2500505771424142,
          -0.8238305736789608,
          0.9222414596307853,
          -0.015284416785555715,
          -0.22472721377838545,
          0.0030087357121871758,
          0.08870220788145161,
          0.8984932568044094,
          0.14441621658763268,
          -0.4512488727289043,
          1.1375588391431979,
          -0.6527449377415648,
          0.27328665505704497,
          0.8823114753761337,
          0.00732754794294055,
          1.413438055483529,
          -0.5078282211761682,
          -0.8144068941811758,
          0.8789189975450421,
          -0.4161014934626199,
          1.2354275217687003,
          -0.4247058207211809,
          -1.8070468171353722,
          -0.07483434418167269,
          -0.8290768762316153,
          0.0323215009305928,
          -0.46818557550193923,
          -0.678510243789971,
          -0.326508032144984,
          -0.332445340739474,
          -0.08272614551191813,
          1.0935692828179533,
          0.2059558797739144,
          -0.4350877289157243,
          0.58286721728474,
          -0.5766016189112366,
          -1.0735566071205689,
          1.0114973460848427,
          -0.6641909267070367,
          -0.7784262569825346,
          -0.7927172147205591,
          -0.792636498224324,
          0.4303546660014756,
          0.6293061385726557,
          0.9161824688845475,
          -1.2931998909956706,
          0.3963712146012255,
          -1.0923974264157994,
          -0.9439165040572574,
          1.446733011848096,
          2.659876209227425,
          -1.4368341467410388
         ],
         "xaxis": "x2",
         "y": [
          -0.23833749478084632,
          0.6501994394768832,
          0.69240112895364,
          1.5320970914057563,
          1.5143536412100664,
          0.9091328451299554,
          0.5633932306807066,
          -0.6957450025151292,
          -0.3293951092999953,
          0.07112715282153531,
          1.3871289338711221,
          -0.30275030951868354,
          0.4325520012397575,
          0.3557928642971695,
          -0.14842497025923618,
          0.5618247664499927,
          0.05994346882977397,
          -1.4735100631741256,
          -0.08917911520644622,
          1.7363207791384538,
          -0.14329310593151515,
          0.15611611177600046,
          0.5406570368378665,
          -0.9957010147824803,
          1.387177334594978,
          0.1310498324631058,
          -0.22314038016345794,
          0.08879164066410501,
          -0.8810051288147794,
          -0.9770286284628511,
          -0.6715971578254221,
          1.3002560139455641,
          2.321624410335273,
          -0.15289584456586722,
          -0.6972843987992097,
          0.5931203866351997,
          0.9130042417329262,
          -0.3295338415521216,
          -1.3016776038004398,
          1.960484862694741,
          2.2802574608931754,
          -1.55531604820331,
          -0.4757202431700581,
          1.4373273727690996,
          -1.0070240274826834,
          1.2629202246100506,
          0.12856968538899607,
          -1.1243817895047012,
          0.04653002549161323,
          0.4369480939055736,
          0.2693438575066526,
          1.8038758704998965,
          0.1029603524630663,
          1.6081370990783066,
          -0.1378580105992773,
          0.5793942859228219,
          -0.14858741009587503,
          -0.19768016506777614,
          1.048015998868027,
          0.630830200972105,
          -1.5016688943855903,
          -0.42725460179513036,
          0.6632276199073781,
          0.03905584833789047,
          1.7065901060137059,
          -1.1400524905628655,
          0.4061750213104448,
          -0.3410890234644094,
          0.528994584107765,
          -0.44653772676211606,
          1.0273411655950548,
          -0.7616521517056599,
          -0.2990750926136947,
          0.7438791605337584,
          -0.6864816773203487,
          0.29972132855314054,
          0.0635865919701606,
          1.1160715054732728,
          0.23893414638922392,
          -3.0791028296082588,
          0.5628299582121862,
          1.3428877260800716,
          0.16002233058937887,
          -1.908974501388095,
          -1.063113689959441,
          -1.6701307613421852,
          0.6415131291626535,
          -1.4708631052358239,
          0.4542836706219212,
          -0.1803329649366861,
          2.3448185248734807,
          -0.42455083915233127,
          1.3596741223109698,
          -0.6387336708337593,
          -1.199901298038498,
          -0.46670532426178835,
          -1.9657923377437196,
          -2.5721533669425205,
          1.255546642935715,
          0.12504483924872897
         ],
         "yaxis": "y2"
        },
        {
         "line": {
          "color": "rgba(128, 128, 128, 1.0)",
          "dash": "solid",
          "shape": "linear",
          "width": 1.3
         },
         "marker": {
          "size": 2,
          "symbol": "circle"
         },
         "mode": "markers",
         "name": "A",
         "text": "",
         "type": "scatter",
         "x": [
          -1.0150659689487147,
          2.4396069488032004,
          -1.0514821902214544,
          0.025786994760816077,
          0.48322859921099276,
          -0.4713532665428161,
          1.1436149986359878,
          -1.3128261233699856,
          -0.2912887547934578,
          1.039967082869105,
          -1.2843076748845133,
          1.073342564131795,
          -0.8843569377025369,
          0.6558533134970753,
          0.7419265491553783,
          -0.36327706865560755,
          -0.07345510361056795,
          -1.0612208963079712,
          0.6679856736507008,
          0.441518726846609,
          -0.12011044158825018,
          -2.803927213926374,
          1.0534290050662707,
          -0.17728000698749297,
          -1.1366462406419275,
          0.05517776174957644,
          -0.5095312481923084,
          -1.4083290572757459,
          -1.3502810759787633,
          1.1010685067401154,
          1.3597498360665201,
          -1.653068798167152,
          0.3603041379925434,
          -1.0258913919715984,
          -0.5887645509273518,
          -0.6226080766418056,
          0.2757135067272518,
          1.5670278179236714,
          -0.03438956511296057,
          0.5646557786163486,
          -0.40049686928198874,
          0.5682714687046483,
          0.5106595362063697,
          0.4876875655268923,
          -1.0365701372832248,
          0.148753131420438,
          -0.7862128711346452,
          1.1610530422171528,
          -1.7584960556237275,
          -1.0996052338366407,
          0.5550921060825537,
          -0.07194723058616423,
          0.09874844773802363,
          -0.4289801702715877,
          0.27700922642152415,
          1.9446504729028886,
          -0.17081785777879283,
          -0.3397090921659036,
          0.1163343778242112,
          0.4974586729775939,
          -1.0145727727320606,
          0.9668061343377845,
          -1.195043377548783,
          -0.5275585370225807,
          2.2253408079614423,
          -0.9149325662020059,
          -1.9910130099560681,
          1.104037547093716,
          -0.5948118495939628,
          -0.5714118575752235,
          -1.9450022867837182,
          -1.0504344320553727,
          0.15838932114169152,
          -0.9115035290858265,
          0.043653088138158616,
          0.8967081481912822,
          1.8324806901016975,
          -0.17421799579891237,
          0.6025750586775659,
          0.01661511897748368,
          -0.09490050931702307,
          1.7329566918601587,
          0.6146070890461516,
          -0.8180565346431806,
          1.1496174165297404,
          0.9420873200673806,
          -0.8544064772026969,
          -0.23058590602236753,
          -0.5596922214896065,
          1.2956915909558462,
          1.6340132748923069,
          -0.1760196401199447,
          1.73319140559922,
          -1.435564489500065,
          0.23477011573606574,
          -0.7783744915371498,
          -1.1122868170232463,
          -0.853933282237851,
          -0.1937175967392873,
          0.4251853382724826
         ],
         "xaxis": "x3",
         "y": [
          -0.23833749478084632,
          0.6501994394768832,
          0.69240112895364,
          1.5320970914057563,
          1.5143536412100664,
          0.9091328451299554,
          0.5633932306807066,
          -0.6957450025151292,
          -0.3293951092999953,
          0.07112715282153531,
          1.3871289338711221,
          -0.30275030951868354,
          0.4325520012397575,
          0.3557928642971695,
          -0.14842497025923618,
          0.5618247664499927,
          0.05994346882977397,
          -1.4735100631741256,
          -0.08917911520644622,
          1.7363207791384538,
          -0.14329310593151515,
          0.15611611177600046,
          0.5406570368378665,
          -0.9957010147824803,
          1.387177334594978,
          0.1310498324631058,
          -0.22314038016345794,
          0.08879164066410501,
          -0.8810051288147794,
          -0.9770286284628511,
          -0.6715971578254221,
          1.3002560139455641,
          2.321624410335273,
          -0.15289584456586722,
          -0.6972843987992097,
          0.5931203866351997,
          0.9130042417329262,
          -0.3295338415521216,
          -1.3016776038004398,
          1.960484862694741,
          2.2802574608931754,
          -1.55531604820331,
          -0.4757202431700581,
          1.4373273727690996,
          -1.0070240274826834,
          1.2629202246100506,
          0.12856968538899607,
          -1.1243817895047012,
          0.04653002549161323,
          0.4369480939055736,
          0.2693438575066526,
          1.8038758704998965,
          0.1029603524630663,
          1.6081370990783066,
          -0.1378580105992773,
          0.5793942859228219,
          -0.14858741009587503,
          -0.19768016506777614,
          1.048015998868027,
          0.630830200972105,
          -1.5016688943855903,
          -0.42725460179513036,
          0.6632276199073781,
          0.03905584833789047,
          1.7065901060137059,
          -1.1400524905628655,
          0.4061750213104448,
          -0.3410890234644094,
          0.528994584107765,
          -0.44653772676211606,
          1.0273411655950548,
          -0.7616521517056599,
          -0.2990750926136947,
          0.7438791605337584,
          -0.6864816773203487,
          0.29972132855314054,
          0.0635865919701606,
          1.1160715054732728,
          0.23893414638922392,
          -3.0791028296082588,
          0.5628299582121862,
          1.3428877260800716,
          0.16002233058937887,
          -1.908974501388095,
          -1.063113689959441,
          -1.6701307613421852,
          0.6415131291626535,
          -1.4708631052358239,
          0.4542836706219212,
          -0.1803329649366861,
          2.3448185248734807,
          -0.42455083915233127,
          1.3596741223109698,
          -0.6387336708337593,
          -1.199901298038498,
          -0.46670532426178835,
          -1.9657923377437196,
          -2.5721533669425205,
          1.255546642935715,
          0.12504483924872897
         ],
         "yaxis": "y3"
        },
        {
         "line": {
          "color": "rgba(128, 128, 128, 1.0)",
          "dash": "solid",
          "shape": "linear",
          "width": 1.3
         },
         "marker": {
          "size": 2,
          "symbol": "circle"
         },
         "mode": "markers",
         "name": "A",
         "text": "",
         "type": "scatter",
         "x": [
          -0.11420890555588285,
          -0.18015600719370806,
          0.4467383032836302,
          0.5134964052696426,
          -2.506825030725312,
          -0.30496628040293366,
          -0.8793998563115474,
          -0.07250883132508364,
          -0.11111811357587129,
          1.5151277061489496,
          -1.6947082063992764,
          2.5528215620763284,
          -0.19190944351111974,
          -1.965756154674671,
          1.1193011182579384,
          1.945523608659881,
          -1.548098759567209,
          0.8123488904543115,
          -0.3225284134510511,
          3.363765957377816,
          -0.09040794345171485,
          1.5409372325812711,
          -0.1524503640369373,
          -0.9211225662963648,
          -0.234664343283136,
          -0.5988387987441645,
          1.9640046099329038,
          -1.9059093534907663,
          -0.30501271196983526,
          -0.07003303235654587,
          0.4273691216130949,
          0.5344919229822604,
          1.3648893776046511,
          0.14356096686465294,
          2.1775369436370027,
          0.4948293859869428,
          -0.12634359535027728,
          0.5515697606392707,
          -0.7817494449281183,
          1.168703603757188,
          1.0632746888968312,
          0.5928503508023099,
          -0.48452447812260047,
          2.471398018677528,
          0.0320537702562301,
          -1.2132812417956753,
          -0.3147939787890694,
          0.8410529978982227,
          -0.5513828889586566,
          0.6123404127705531,
          -0.7787436701085488,
          -1.1170001747219052,
          -0.5855935605970888,
          0.007561232728142446,
          0.5054553025090613,
          -0.134028957426057,
          2.4810376480615144,
          1.9949948194179672,
          0.3913991206519806,
          -0.3872507585745515,
          -1.8004463541736992,
          1.4480733436083826,
          -1.735085442897729,
          1.791726625268079,
          0.22312852195532035,
          -0.17831185991010187,
          -0.1342515593153074,
          3.064660548554613,
          -0.2567088207163651,
          1.9759774418795923,
          -0.23412258600826766,
          -0.4692604812153284,
          -0.19256176835937983,
          -1.9612341837422296,
          1.6231965239335477,
          -0.6870279081201187,
          0.13469205743861082,
          1.2128703557234293,
          1.2922561840488511,
          0.9025536852040918,
          -0.5283235308581054,
          0.8419027821447392,
          -1.496797888222635,
          -0.49694884262671085,
          0.06126558484265961,
          -0.2895372319404262,
          -1.1338328750070126,
          -0.6649022974941925,
          0.33940798232820063,
          0.9026626694446349,
          1.119667959555071,
          0.14558202217431568,
          -0.8702993232331738,
          0.1886403378793685,
          0.9743523532494787,
          -2.2982701623404735,
          1.090851860680595,
          -1.130490055546931,
          -0.05470785652087121,
          2.831359429291828
         ],
         "xaxis": "x4",
         "y": [
          -0.23833749478084632,
          0.6501994394768832,
          0.69240112895364,
          1.5320970914057563,
          1.5143536412100664,
          0.9091328451299554,
          0.5633932306807066,
          -0.6957450025151292,
          -0.3293951092999953,
          0.07112715282153531,
          1.3871289338711221,
          -0.30275030951868354,
          0.4325520012397575,
          0.3557928642971695,
          -0.14842497025923618,
          0.5618247664499927,
          0.05994346882977397,
          -1.4735100631741256,
          -0.08917911520644622,
          1.7363207791384538,
          -0.14329310593151515,
          0.15611611177600046,
          0.5406570368378665,
          -0.9957010147824803,
          1.387177334594978,
          0.1310498324631058,
          -0.22314038016345794,
          0.08879164066410501,
          -0.8810051288147794,
          -0.9770286284628511,
          -0.6715971578254221,
          1.3002560139455641,
          2.321624410335273,
          -0.15289584456586722,
          -0.6972843987992097,
          0.5931203866351997,
          0.9130042417329262,
          -0.3295338415521216,
          -1.3016776038004398,
          1.960484862694741,
          2.2802574608931754,
          -1.55531604820331,
          -0.4757202431700581,
          1.4373273727690996,
          -1.0070240274826834,
          1.2629202246100506,
          0.12856968538899607,
          -1.1243817895047012,
          0.04653002549161323,
          0.4369480939055736,
          0.2693438575066526,
          1.8038758704998965,
          0.1029603524630663,
          1.6081370990783066,
          -0.1378580105992773,
          0.5793942859228219,
          -0.14858741009587503,
          -0.19768016506777614,
          1.048015998868027,
          0.630830200972105,
          -1.5016688943855903,
          -0.42725460179513036,
          0.6632276199073781,
          0.03905584833789047,
          1.7065901060137059,
          -1.1400524905628655,
          0.4061750213104448,
          -0.3410890234644094,
          0.528994584107765,
          -0.44653772676211606,
          1.0273411655950548,
          -0.7616521517056599,
          -0.2990750926136947,
          0.7438791605337584,
          -0.6864816773203487,
          0.29972132855314054,
          0.0635865919701606,
          1.1160715054732728,
          0.23893414638922392,
          -3.0791028296082588,
          0.5628299582121862,
          1.3428877260800716,
          0.16002233058937887,
          -1.908974501388095,
          -1.063113689959441,
          -1.6701307613421852,
          0.6415131291626535,
          -1.4708631052358239,
          0.4542836706219212,
          -0.1803329649366861,
          2.3448185248734807,
          -0.42455083915233127,
          1.3596741223109698,
          -0.6387336708337593,
          -1.199901298038498,
          -0.46670532426178835,
          -1.9657923377437196,
          -2.5721533669425205,
          1.255546642935715,
          0.12504483924872897
         ],
         "yaxis": "y4"
        },
        {
         "line": {
          "color": "rgba(128, 128, 128, 1.0)",
          "dash": "solid",
          "shape": "linear",
          "width": 1.3
         },
         "marker": {
          "size": 2,
          "symbol": "circle"
         },
         "mode": "markers",
         "name": "B",
         "text": "",
         "type": "scatter",
         "x": [
          -0.23833749478084632,
          0.6501994394768832,
          0.69240112895364,
          1.5320970914057563,
          1.5143536412100664,
          0.9091328451299554,
          0.5633932306807066,
          -0.6957450025151292,
          -0.3293951092999953,
          0.07112715282153531,
          1.3871289338711221,
          -0.30275030951868354,
          0.4325520012397575,
          0.3557928642971695,
          -0.14842497025923618,
          0.5618247664499927,
          0.05994346882977397,
          -1.4735100631741256,
          -0.08917911520644622,
          1.7363207791384538,
          -0.14329310593151515,
          0.15611611177600046,
          0.5406570368378665,
          -0.9957010147824803,
          1.387177334594978,
          0.1310498324631058,
          -0.22314038016345794,
          0.08879164066410501,
          -0.8810051288147794,
          -0.9770286284628511,
          -0.6715971578254221,
          1.3002560139455641,
          2.321624410335273,
          -0.15289584456586722,
          -0.6972843987992097,
          0.5931203866351997,
          0.9130042417329262,
          -0.3295338415521216,
          -1.3016776038004398,
          1.960484862694741,
          2.2802574608931754,
          -1.55531604820331,
          -0.4757202431700581,
          1.4373273727690996,
          -1.0070240274826834,
          1.2629202246100506,
          0.12856968538899607,
          -1.1243817895047012,
          0.04653002549161323,
          0.4369480939055736,
          0.2693438575066526,
          1.8038758704998965,
          0.1029603524630663,
          1.6081370990783066,
          -0.1378580105992773,
          0.5793942859228219,
          -0.14858741009587503,
          -0.19768016506777614,
          1.048015998868027,
          0.630830200972105,
          -1.5016688943855903,
          -0.42725460179513036,
          0.6632276199073781,
          0.03905584833789047,
          1.7065901060137059,
          -1.1400524905628655,
          0.4061750213104448,
          -0.3410890234644094,
          0.528994584107765,
          -0.44653772676211606,
          1.0273411655950548,
          -0.7616521517056599,
          -0.2990750926136947,
          0.7438791605337584,
          -0.6864816773203487,
          0.29972132855314054,
          0.0635865919701606,
          1.1160715054732728,
          0.23893414638922392,
          -3.0791028296082588,
          0.5628299582121862,
          1.3428877260800716,
          0.16002233058937887,
          -1.908974501388095,
          -1.063113689959441,
          -1.6701307613421852,
          0.6415131291626535,
          -1.4708631052358239,
          0.4542836706219212,
          -0.1803329649366861,
          2.3448185248734807,
          -0.42455083915233127,
          1.3596741223109698,
          -0.6387336708337593,
          -1.199901298038498,
          -0.46670532426178835,
          -1.9657923377437196,
          -2.5721533669425205,
          1.255546642935715,
          0.12504483924872897
         ],
         "xaxis": "x5",
         "y": [
          -0.06291427450316933,
          -1.5322731602884292,
          2.028348772987773,
          0.6693932445647333,
          -1.784146484904668,
          0.5629194960966317,
          -1.1531714182196977,
          -1.198881273469872,
          -0.3599836499936697,
          -1.5859282623298518,
          0.43249326298018725,
          0.006334251206168981,
          -0.26156984664420363,
          -0.5542522296562603,
          0.6615866179143592,
          -1.324140148711569,
          0.34809760005611035,
          0.22845512200847662,
          0.7507214599572216,
          -0.4860243963364303,
          1.1966633637001574,
          -1.2290464952865618,
          0.39754334761882865,
          1.6994877438337332,
          0.7416418706957048,
          0.6403585630531775,
          -0.8734327491302029,
          -0.392926611428367,
          0.5749885606001245,
          -2.0467397051668876,
          0.49166689329736457,
          1.4036586051368503,
          -0.8307840514047554,
          0.6335495113267404,
          1.1820666940436422,
          -1.075705232012773,
          1.1881493161215,
          -1.423278677749765,
          -0.6430643428642822,
          -0.3293289381854944,
          -0.6547480913773267,
          -0.8463597065410111,
          -0.0024702289586539285,
          -1.0612818837077704,
          0.1254377076446763,
          -0.404602263867722,
          -0.7446729897259533,
          0.2186432671211768,
          1.2500505771424142,
          -0.8238305736789608,
          0.9222414596307853,
          -0.015284416785555715,
          -0.22472721377838545,
          0.0030087357121871758,
          0.08870220788145161,
          0.8984932568044094,
          0.14441621658763268,
          -0.4512488727289043,
          1.1375588391431979,
          -0.6527449377415648,
          0.27328665505704497,
          0.8823114753761337,
          0.00732754794294055,
          1.413438055483529,
          -0.5078282211761682,
          -0.8144068941811758,
          0.8789189975450421,
          -0.4161014934626199,
          1.2354275217687003,
          -0.4247058207211809,
          -1.8070468171353722,
          -0.07483434418167269,
          -0.8290768762316153,
          0.0323215009305928,
          -0.46818557550193923,
          -0.678510243789971,
          -0.326508032144984,
          -0.332445340739474,
          -0.08272614551191813,
          1.0935692828179533,
          0.2059558797739144,
          -0.4350877289157243,
          0.58286721728474,
          -0.5766016189112366,
          -1.0735566071205689,
          1.0114973460848427,
          -0.6641909267070367,
          -0.7784262569825346,
          -0.7927172147205591,
          -0.792636498224324,
          0.4303546660014756,
          0.6293061385726557,
          0.9161824688845475,
          -1.2931998909956706,
          0.3963712146012255,
          -1.0923974264157994,
          -0.9439165040572574,
          1.446733011848096,
          2.659876209227425,
          -1.4368341467410388
         ],
         "yaxis": "y5"
        },
        {
         "histfunc": "count",
         "histnorm": "",
         "marker": {
          "color": "rgba(55, 128, 191, 1.0)",
          "line": {
           "color": "#4D5663",
           "width": 1.3
          }
         },
         "name": "B",
         "nbinsx": 10,
         "opacity": 0.8,
         "orientation": "v",
         "type": "histogram",
         "x": [
          -0.06291427450316933,
          -1.5322731602884292,
          2.028348772987773,
          0.6693932445647333,
          -1.784146484904668,
          0.5629194960966317,
          -1.1531714182196977,
          -1.198881273469872,
          -0.3599836499936697,
          -1.5859282623298518,
          0.43249326298018725,
          0.006334251206168981,
          -0.26156984664420363,
          -0.5542522296562603,
          0.6615866179143592,
          -1.324140148711569,
          0.34809760005611035,
          0.22845512200847662,
          0.7507214599572216,
          -0.4860243963364303,
          1.1966633637001574,
          -1.2290464952865618,
          0.39754334761882865,
          1.6994877438337332,
          0.7416418706957048,
          0.6403585630531775,
          -0.8734327491302029,
          -0.392926611428367,
          0.5749885606001245,
          -2.0467397051668876,
          0.49166689329736457,
          1.4036586051368503,
          -0.8307840514047554,
          0.6335495113267404,
          1.1820666940436422,
          -1.075705232012773,
          1.1881493161215,
          -1.423278677749765,
          -0.6430643428642822,
          -0.3293289381854944,
          -0.6547480913773267,
          -0.8463597065410111,
          -0.0024702289586539285,
          -1.0612818837077704,
          0.1254377076446763,
          -0.404602263867722,
          -0.7446729897259533,
          0.2186432671211768,
          1.2500505771424142,
          -0.8238305736789608,
          0.9222414596307853,
          -0.015284416785555715,
          -0.22472721377838545,
          0.0030087357121871758,
          0.08870220788145161,
          0.8984932568044094,
          0.14441621658763268,
          -0.4512488727289043,
          1.1375588391431979,
          -0.6527449377415648,
          0.27328665505704497,
          0.8823114753761337,
          0.00732754794294055,
          1.413438055483529,
          -0.5078282211761682,
          -0.8144068941811758,
          0.8789189975450421,
          -0.4161014934626199,
          1.2354275217687003,
          -0.4247058207211809,
          -1.8070468171353722,
          -0.07483434418167269,
          -0.8290768762316153,
          0.0323215009305928,
          -0.46818557550193923,
          -0.678510243789971,
          -0.326508032144984,
          -0.332445340739474,
          -0.08272614551191813,
          1.0935692828179533,
          0.2059558797739144,
          -0.4350877289157243,
          0.58286721728474,
          -0.5766016189112366,
          -1.0735566071205689,
          1.0114973460848427,
          -0.6641909267070367,
          -0.7784262569825346,
          -0.7927172147205591,
          -0.792636498224324,
          0.4303546660014756,
          0.6293061385726557,
          0.9161824688845475,
          -1.2931998909956706,
          0.3963712146012255,
          -1.0923974264157994,
          -0.9439165040572574,
          1.446733011848096,
          2.659876209227425,
          -1.4368341467410388
         ],
         "xaxis": "x6",
         "yaxis": "y6"
        },
        {
         "line": {
          "color": "rgba(128, 128, 128, 1.0)",
          "dash": "solid",
          "shape": "linear",
          "width": 1.3
         },
         "marker": {
          "size": 2,
          "symbol": "circle"
         },
         "mode": "markers",
         "name": "B",
         "text": "",
         "type": "scatter",
         "x": [
          -1.0150659689487147,
          2.4396069488032004,
          -1.0514821902214544,
          0.025786994760816077,
          0.48322859921099276,
          -0.4713532665428161,
          1.1436149986359878,
          -1.3128261233699856,
          -0.2912887547934578,
          1.039967082869105,
          -1.2843076748845133,
          1.073342564131795,
          -0.8843569377025369,
          0.6558533134970753,
          0.7419265491553783,
          -0.36327706865560755,
          -0.07345510361056795,
          -1.0612208963079712,
          0.6679856736507008,
          0.441518726846609,
          -0.12011044158825018,
          -2.803927213926374,
          1.0534290050662707,
          -0.17728000698749297,
          -1.1366462406419275,
          0.05517776174957644,
          -0.5095312481923084,
          -1.4083290572757459,
          -1.3502810759787633,
          1.1010685067401154,
          1.3597498360665201,
          -1.653068798167152,
          0.3603041379925434,
          -1.0258913919715984,
          -0.5887645509273518,
          -0.6226080766418056,
          0.2757135067272518,
          1.5670278179236714,
          -0.03438956511296057,
          0.5646557786163486,
          -0.40049686928198874,
          0.5682714687046483,
          0.5106595362063697,
          0.4876875655268923,
          -1.0365701372832248,
          0.148753131420438,
          -0.7862128711346452,
          1.1610530422171528,
          -1.7584960556237275,
          -1.0996052338366407,
          0.5550921060825537,
          -0.07194723058616423,
          0.09874844773802363,
          -0.4289801702715877,
          0.27700922642152415,
          1.9446504729028886,
          -0.17081785777879283,
          -0.3397090921659036,
          0.1163343778242112,
          0.4974586729775939,
          -1.0145727727320606,
          0.9668061343377845,
          -1.195043377548783,
          -0.5275585370225807,
          2.2253408079614423,
          -0.9149325662020059,
          -1.9910130099560681,
          1.104037547093716,
          -0.5948118495939628,
          -0.5714118575752235,
          -1.9450022867837182,
          -1.0504344320553727,
          0.15838932114169152,
          -0.9115035290858265,
          0.043653088138158616,
          0.8967081481912822,
          1.8324806901016975,
          -0.17421799579891237,
          0.6025750586775659,
          0.01661511897748368,
          -0.09490050931702307,
          1.7329566918601587,
          0.6146070890461516,
          -0.8180565346431806,
          1.1496174165297404,
          0.9420873200673806,
          -0.8544064772026969,
          -0.23058590602236753,
          -0.5596922214896065,
          1.2956915909558462,
          1.6340132748923069,
          -0.1760196401199447,
          1.73319140559922,
          -1.435564489500065,
          0.23477011573606574,
          -0.7783744915371498,
          -1.1122868170232463,
          -0.853933282237851,
          -0.1937175967392873,
          0.4251853382724826
         ],
         "xaxis": "x7",
         "y": [
          -0.06291427450316933,
          -1.5322731602884292,
          2.028348772987773,
          0.6693932445647333,
          -1.784146484904668,
          0.5629194960966317,
          -1.1531714182196977,
          -1.198881273469872,
          -0.3599836499936697,
          -1.5859282623298518,
          0.43249326298018725,
          0.006334251206168981,
          -0.26156984664420363,
          -0.5542522296562603,
          0.6615866179143592,
          -1.324140148711569,
          0.34809760005611035,
          0.22845512200847662,
          0.7507214599572216,
          -0.4860243963364303,
          1.1966633637001574,
          -1.2290464952865618,
          0.39754334761882865,
          1.6994877438337332,
          0.7416418706957048,
          0.6403585630531775,
          -0.8734327491302029,
          -0.392926611428367,
          0.5749885606001245,
          -2.0467397051668876,
          0.49166689329736457,
          1.4036586051368503,
          -0.8307840514047554,
          0.6335495113267404,
          1.1820666940436422,
          -1.075705232012773,
          1.1881493161215,
          -1.423278677749765,
          -0.6430643428642822,
          -0.3293289381854944,
          -0.6547480913773267,
          -0.8463597065410111,
          -0.0024702289586539285,
          -1.0612818837077704,
          0.1254377076446763,
          -0.404602263867722,
          -0.7446729897259533,
          0.2186432671211768,
          1.2500505771424142,
          -0.8238305736789608,
          0.9222414596307853,
          -0.015284416785555715,
          -0.22472721377838545,
          0.0030087357121871758,
          0.08870220788145161,
          0.8984932568044094,
          0.14441621658763268,
          -0.4512488727289043,
          1.1375588391431979,
          -0.6527449377415648,
          0.27328665505704497,
          0.8823114753761337,
          0.00732754794294055,
          1.413438055483529,
          -0.5078282211761682,
          -0.8144068941811758,
          0.8789189975450421,
          -0.4161014934626199,
          1.2354275217687003,
          -0.4247058207211809,
          -1.8070468171353722,
          -0.07483434418167269,
          -0.8290768762316153,
          0.0323215009305928,
          -0.46818557550193923,
          -0.678510243789971,
          -0.326508032144984,
          -0.332445340739474,
          -0.08272614551191813,
          1.0935692828179533,
          0.2059558797739144,
          -0.4350877289157243,
          0.58286721728474,
          -0.5766016189112366,
          -1.0735566071205689,
          1.0114973460848427,
          -0.6641909267070367,
          -0.7784262569825346,
          -0.7927172147205591,
          -0.792636498224324,
          0.4303546660014756,
          0.6293061385726557,
          0.9161824688845475,
          -1.2931998909956706,
          0.3963712146012255,
          -1.0923974264157994,
          -0.9439165040572574,
          1.446733011848096,
          2.659876209227425,
          -1.4368341467410388
         ],
         "yaxis": "y7"
        },
        {
         "line": {
          "color": "rgba(128, 128, 128, 1.0)",
          "dash": "solid",
          "shape": "linear",
          "width": 1.3
         },
         "marker": {
          "size": 2,
          "symbol": "circle"
         },
         "mode": "markers",
         "name": "B",
         "text": "",
         "type": "scatter",
         "x": [
          -0.11420890555588285,
          -0.18015600719370806,
          0.4467383032836302,
          0.5134964052696426,
          -2.506825030725312,
          -0.30496628040293366,
          -0.8793998563115474,
          -0.07250883132508364,
          -0.11111811357587129,
          1.5151277061489496,
          -1.6947082063992764,
          2.5528215620763284,
          -0.19190944351111974,
          -1.965756154674671,
          1.1193011182579384,
          1.945523608659881,
          -1.548098759567209,
          0.8123488904543115,
          -0.3225284134510511,
          3.363765957377816,
          -0.09040794345171485,
          1.5409372325812711,
          -0.1524503640369373,
          -0.9211225662963648,
          -0.234664343283136,
          -0.5988387987441645,
          1.9640046099329038,
          -1.9059093534907663,
          -0.30501271196983526,
          -0.07003303235654587,
          0.4273691216130949,
          0.5344919229822604,
          1.3648893776046511,
          0.14356096686465294,
          2.1775369436370027,
          0.4948293859869428,
          -0.12634359535027728,
          0.5515697606392707,
          -0.7817494449281183,
          1.168703603757188,
          1.0632746888968312,
          0.5928503508023099,
          -0.48452447812260047,
          2.471398018677528,
          0.0320537702562301,
          -1.2132812417956753,
          -0.3147939787890694,
          0.8410529978982227,
          -0.5513828889586566,
          0.6123404127705531,
          -0.7787436701085488,
          -1.1170001747219052,
          -0.5855935605970888,
          0.007561232728142446,
          0.5054553025090613,
          -0.134028957426057,
          2.4810376480615144,
          1.9949948194179672,
          0.3913991206519806,
          -0.3872507585745515,
          -1.8004463541736992,
          1.4480733436083826,
          -1.735085442897729,
          1.791726625268079,
          0.22312852195532035,
          -0.17831185991010187,
          -0.1342515593153074,
          3.064660548554613,
          -0.2567088207163651,
          1.9759774418795923,
          -0.23412258600826766,
          -0.4692604812153284,
          -0.19256176835937983,
          -1.9612341837422296,
          1.6231965239335477,
          -0.6870279081201187,
          0.13469205743861082,
          1.2128703557234293,
          1.2922561840488511,
          0.9025536852040918,
          -0.5283235308581054,
          0.8419027821447392,
          -1.496797888222635,
          -0.49694884262671085,
          0.06126558484265961,
          -0.2895372319404262,
          -1.1338328750070126,
          -0.6649022974941925,
          0.33940798232820063,
          0.9026626694446349,
          1.119667959555071,
          0.14558202217431568,
          -0.8702993232331738,
          0.1886403378793685,
          0.9743523532494787,
          -2.2982701623404735,
          1.090851860680595,
          -1.130490055546931,
          -0.05470785652087121,
          2.831359429291828
         ],
         "xaxis": "x8",
         "y": [
          -0.06291427450316933,
          -1.5322731602884292,
          2.028348772987773,
          0.6693932445647333,
          -1.784146484904668,
          0.5629194960966317,
          -1.1531714182196977,
          -1.198881273469872,
          -0.3599836499936697,
          -1.5859282623298518,
          0.43249326298018725,
          0.006334251206168981,
          -0.26156984664420363,
          -0.5542522296562603,
          0.6615866179143592,
          -1.324140148711569,
          0.34809760005611035,
          0.22845512200847662,
          0.7507214599572216,
          -0.4860243963364303,
          1.1966633637001574,
          -1.2290464952865618,
          0.39754334761882865,
          1.6994877438337332,
          0.7416418706957048,
          0.6403585630531775,
          -0.8734327491302029,
          -0.392926611428367,
          0.5749885606001245,
          -2.0467397051668876,
          0.49166689329736457,
          1.4036586051368503,
          -0.8307840514047554,
          0.6335495113267404,
          1.1820666940436422,
          -1.075705232012773,
          1.1881493161215,
          -1.423278677749765,
          -0.6430643428642822,
          -0.3293289381854944,
          -0.6547480913773267,
          -0.8463597065410111,
          -0.0024702289586539285,
          -1.0612818837077704,
          0.1254377076446763,
          -0.404602263867722,
          -0.7446729897259533,
          0.2186432671211768,
          1.2500505771424142,
          -0.8238305736789608,
          0.9222414596307853,
          -0.015284416785555715,
          -0.22472721377838545,
          0.0030087357121871758,
          0.08870220788145161,
          0.8984932568044094,
          0.14441621658763268,
          -0.4512488727289043,
          1.1375588391431979,
          -0.6527449377415648,
          0.27328665505704497,
          0.8823114753761337,
          0.00732754794294055,
          1.413438055483529,
          -0.5078282211761682,
          -0.8144068941811758,
          0.8789189975450421,
          -0.4161014934626199,
          1.2354275217687003,
          -0.4247058207211809,
          -1.8070468171353722,
          -0.07483434418167269,
          -0.8290768762316153,
          0.0323215009305928,
          -0.46818557550193923,
          -0.678510243789971,
          -0.326508032144984,
          -0.332445340739474,
          -0.08272614551191813,
          1.0935692828179533,
          0.2059558797739144,
          -0.4350877289157243,
          0.58286721728474,
          -0.5766016189112366,
          -1.0735566071205689,
          1.0114973460848427,
          -0.6641909267070367,
          -0.7784262569825346,
          -0.7927172147205591,
          -0.792636498224324,
          0.4303546660014756,
          0.6293061385726557,
          0.9161824688845475,
          -1.2931998909956706,
          0.3963712146012255,
          -1.0923974264157994,
          -0.9439165040572574,
          1.446733011848096,
          2.659876209227425,
          -1.4368341467410388
         ],
         "yaxis": "y8"
        },
        {
         "line": {
          "color": "rgba(128, 128, 128, 1.0)",
          "dash": "solid",
          "shape": "linear",
          "width": 1.3
         },
         "marker": {
          "size": 2,
          "symbol": "circle"
         },
         "mode": "markers",
         "name": "C",
         "text": "",
         "type": "scatter",
         "x": [
          -0.23833749478084632,
          0.6501994394768832,
          0.69240112895364,
          1.5320970914057563,
          1.5143536412100664,
          0.9091328451299554,
          0.5633932306807066,
          -0.6957450025151292,
          -0.3293951092999953,
          0.07112715282153531,
          1.3871289338711221,
          -0.30275030951868354,
          0.4325520012397575,
          0.3557928642971695,
          -0.14842497025923618,
          0.5618247664499927,
          0.05994346882977397,
          -1.4735100631741256,
          -0.08917911520644622,
          1.7363207791384538,
          -0.14329310593151515,
          0.15611611177600046,
          0.5406570368378665,
          -0.9957010147824803,
          1.387177334594978,
          0.1310498324631058,
          -0.22314038016345794,
          0.08879164066410501,
          -0.8810051288147794,
          -0.9770286284628511,
          -0.6715971578254221,
          1.3002560139455641,
          2.321624410335273,
          -0.15289584456586722,
          -0.6972843987992097,
          0.5931203866351997,
          0.9130042417329262,
          -0.3295338415521216,
          -1.3016776038004398,
          1.960484862694741,
          2.2802574608931754,
          -1.55531604820331,
          -0.4757202431700581,
          1.4373273727690996,
          -1.0070240274826834,
          1.2629202246100506,
          0.12856968538899607,
          -1.1243817895047012,
          0.04653002549161323,
          0.4369480939055736,
          0.2693438575066526,
          1.8038758704998965,
          0.1029603524630663,
          1.6081370990783066,
          -0.1378580105992773,
          0.5793942859228219,
          -0.14858741009587503,
          -0.19768016506777614,
          1.048015998868027,
          0.630830200972105,
          -1.5016688943855903,
          -0.42725460179513036,
          0.6632276199073781,
          0.03905584833789047,
          1.7065901060137059,
          -1.1400524905628655,
          0.4061750213104448,
          -0.3410890234644094,
          0.528994584107765,
          -0.44653772676211606,
          1.0273411655950548,
          -0.7616521517056599,
          -0.2990750926136947,
          0.7438791605337584,
          -0.6864816773203487,
          0.29972132855314054,
          0.0635865919701606,
          1.1160715054732728,
          0.23893414638922392,
          -3.0791028296082588,
          0.5628299582121862,
          1.3428877260800716,
          0.16002233058937887,
          -1.908974501388095,
          -1.063113689959441,
          -1.6701307613421852,
          0.6415131291626535,
          -1.4708631052358239,
          0.4542836706219212,
          -0.1803329649366861,
          2.3448185248734807,
          -0.42455083915233127,
          1.3596741223109698,
          -0.6387336708337593,
          -1.199901298038498,
          -0.46670532426178835,
          -1.9657923377437196,
          -2.5721533669425205,
          1.255546642935715,
          0.12504483924872897
         ],
         "xaxis": "x9",
         "y": [
          -1.0150659689487147,
          2.4396069488032004,
          -1.0514821902214544,
          0.025786994760816077,
          0.48322859921099276,
          -0.4713532665428161,
          1.1436149986359878,
          -1.3128261233699856,
          -0.2912887547934578,
          1.039967082869105,
          -1.2843076748845133,
          1.073342564131795,
          -0.8843569377025369,
          0.6558533134970753,
          0.7419265491553783,
          -0.36327706865560755,
          -0.07345510361056795,
          -1.0612208963079712,
          0.6679856736507008,
          0.441518726846609,
          -0.12011044158825018,
          -2.803927213926374,
          1.0534290050662707,
          -0.17728000698749297,
          -1.1366462406419275,
          0.05517776174957644,
          -0.5095312481923084,
          -1.4083290572757459,
          -1.3502810759787633,
          1.1010685067401154,
          1.3597498360665201,
          -1.653068798167152,
          0.3603041379925434,
          -1.0258913919715984,
          -0.5887645509273518,
          -0.6226080766418056,
          0.2757135067272518,
          1.5670278179236714,
          -0.03438956511296057,
          0.5646557786163486,
          -0.40049686928198874,
          0.5682714687046483,
          0.5106595362063697,
          0.4876875655268923,
          -1.0365701372832248,
          0.148753131420438,
          -0.7862128711346452,
          1.1610530422171528,
          -1.7584960556237275,
          -1.0996052338366407,
          0.5550921060825537,
          -0.07194723058616423,
          0.09874844773802363,
          -0.4289801702715877,
          0.27700922642152415,
          1.9446504729028886,
          -0.17081785777879283,
          -0.3397090921659036,
          0.1163343778242112,
          0.4974586729775939,
          -1.0145727727320606,
          0.9668061343377845,
          -1.195043377548783,
          -0.5275585370225807,
          2.2253408079614423,
          -0.9149325662020059,
          -1.9910130099560681,
          1.104037547093716,
          -0.5948118495939628,
          -0.5714118575752235,
          -1.9450022867837182,
          -1.0504344320553727,
          0.15838932114169152,
          -0.9115035290858265,
          0.043653088138158616,
          0.8967081481912822,
          1.8324806901016975,
          -0.17421799579891237,
          0.6025750586775659,
          0.01661511897748368,
          -0.09490050931702307,
          1.7329566918601587,
          0.6146070890461516,
          -0.8180565346431806,
          1.1496174165297404,
          0.9420873200673806,
          -0.8544064772026969,
          -0.23058590602236753,
          -0.5596922214896065,
          1.2956915909558462,
          1.6340132748923069,
          -0.1760196401199447,
          1.73319140559922,
          -1.435564489500065,
          0.23477011573606574,
          -0.7783744915371498,
          -1.1122868170232463,
          -0.853933282237851,
          -0.1937175967392873,
          0.4251853382724826
         ],
         "yaxis": "y9"
        },
        {
         "line": {
          "color": "rgba(128, 128, 128, 1.0)",
          "dash": "solid",
          "shape": "linear",
          "width": 1.3
         },
         "marker": {
          "size": 2,
          "symbol": "circle"
         },
         "mode": "markers",
         "name": "C",
         "text": "",
         "type": "scatter",
         "x": [
          -0.06291427450316933,
          -1.5322731602884292,
          2.028348772987773,
          0.6693932445647333,
          -1.784146484904668,
          0.5629194960966317,
          -1.1531714182196977,
          -1.198881273469872,
          -0.3599836499936697,
          -1.5859282623298518,
          0.43249326298018725,
          0.006334251206168981,
          -0.26156984664420363,
          -0.5542522296562603,
          0.6615866179143592,
          -1.324140148711569,
          0.34809760005611035,
          0.22845512200847662,
          0.7507214599572216,
          -0.4860243963364303,
          1.1966633637001574,
          -1.2290464952865618,
          0.39754334761882865,
          1.6994877438337332,
          0.7416418706957048,
          0.6403585630531775,
          -0.8734327491302029,
          -0.392926611428367,
          0.5749885606001245,
          -2.0467397051668876,
          0.49166689329736457,
          1.4036586051368503,
          -0.8307840514047554,
          0.6335495113267404,
          1.1820666940436422,
          -1.075705232012773,
          1.1881493161215,
          -1.423278677749765,
          -0.6430643428642822,
          -0.3293289381854944,
          -0.6547480913773267,
          -0.8463597065410111,
          -0.0024702289586539285,
          -1.0612818837077704,
          0.1254377076446763,
          -0.404602263867722,
          -0.7446729897259533,
          0.2186432671211768,
          1.2500505771424142,
          -0.8238305736789608,
          0.9222414596307853,
          -0.015284416785555715,
          -0.22472721377838545,
          0.0030087357121871758,
          0.08870220788145161,
          0.8984932568044094,
          0.14441621658763268,
          -0.4512488727289043,
          1.1375588391431979,
          -0.6527449377415648,
          0.27328665505704497,
          0.8823114753761337,
          0.00732754794294055,
          1.413438055483529,
          -0.5078282211761682,
          -0.8144068941811758,
          0.8789189975450421,
          -0.4161014934626199,
          1.2354275217687003,
          -0.4247058207211809,
          -1.8070468171353722,
          -0.07483434418167269,
          -0.8290768762316153,
          0.0323215009305928,
          -0.46818557550193923,
          -0.678510243789971,
          -0.326508032144984,
          -0.332445340739474,
          -0.08272614551191813,
          1.0935692828179533,
          0.2059558797739144,
          -0.4350877289157243,
          0.58286721728474,
          -0.5766016189112366,
          -1.0735566071205689,
          1.0114973460848427,
          -0.6641909267070367,
          -0.7784262569825346,
          -0.7927172147205591,
          -0.792636498224324,
          0.4303546660014756,
          0.6293061385726557,
          0.9161824688845475,
          -1.2931998909956706,
          0.3963712146012255,
          -1.0923974264157994,
          -0.9439165040572574,
          1.446733011848096,
          2.659876209227425,
          -1.4368341467410388
         ],
         "xaxis": "x10",
         "y": [
          -1.0150659689487147,
          2.4396069488032004,
          -1.0514821902214544,
          0.025786994760816077,
          0.48322859921099276,
          -0.4713532665428161,
          1.1436149986359878,
          -1.3128261233699856,
          -0.2912887547934578,
          1.039967082869105,
          -1.2843076748845133,
          1.073342564131795,
          -0.8843569377025369,
          0.6558533134970753,
          0.7419265491553783,
          -0.36327706865560755,
          -0.07345510361056795,
          -1.0612208963079712,
          0.6679856736507008,
          0.441518726846609,
          -0.12011044158825018,
          -2.803927213926374,
          1.0534290050662707,
          -0.17728000698749297,
          -1.1366462406419275,
          0.05517776174957644,
          -0.5095312481923084,
          -1.4083290572757459,
          -1.3502810759787633,
          1.1010685067401154,
          1.3597498360665201,
          -1.653068798167152,
          0.3603041379925434,
          -1.0258913919715984,
          -0.5887645509273518,
          -0.6226080766418056,
          0.2757135067272518,
          1.5670278179236714,
          -0.03438956511296057,
          0.5646557786163486,
          -0.40049686928198874,
          0.5682714687046483,
          0.5106595362063697,
          0.4876875655268923,
          -1.0365701372832248,
          0.148753131420438,
          -0.7862128711346452,
          1.1610530422171528,
          -1.7584960556237275,
          -1.0996052338366407,
          0.5550921060825537,
          -0.07194723058616423,
          0.09874844773802363,
          -0.4289801702715877,
          0.27700922642152415,
          1.9446504729028886,
          -0.17081785777879283,
          -0.3397090921659036,
          0.1163343778242112,
          0.4974586729775939,
          -1.0145727727320606,
          0.9668061343377845,
          -1.195043377548783,
          -0.5275585370225807,
          2.2253408079614423,
          -0.9149325662020059,
          -1.9910130099560681,
          1.104037547093716,
          -0.5948118495939628,
          -0.5714118575752235,
          -1.9450022867837182,
          -1.0504344320553727,
          0.15838932114169152,
          -0.9115035290858265,
          0.043653088138158616,
          0.8967081481912822,
          1.8324806901016975,
          -0.17421799579891237,
          0.6025750586775659,
          0.01661511897748368,
          -0.09490050931702307,
          1.7329566918601587,
          0.6146070890461516,
          -0.8180565346431806,
          1.1496174165297404,
          0.9420873200673806,
          -0.8544064772026969,
          -0.23058590602236753,
          -0.5596922214896065,
          1.2956915909558462,
          1.6340132748923069,
          -0.1760196401199447,
          1.73319140559922,
          -1.435564489500065,
          0.23477011573606574,
          -0.7783744915371498,
          -1.1122868170232463,
          -0.853933282237851,
          -0.1937175967392873,
          0.4251853382724826
         ],
         "yaxis": "y10"
        },
        {
         "histfunc": "count",
         "histnorm": "",
         "marker": {
          "color": "rgba(50, 171, 96, 1.0)",
          "line": {
           "color": "#4D5663",
           "width": 1.3
          }
         },
         "name": "C",
         "nbinsx": 10,
         "opacity": 0.8,
         "orientation": "v",
         "type": "histogram",
         "x": [
          -1.0150659689487147,
          2.4396069488032004,
          -1.0514821902214544,
          0.025786994760816077,
          0.48322859921099276,
          -0.4713532665428161,
          1.1436149986359878,
          -1.3128261233699856,
          -0.2912887547934578,
          1.039967082869105,
          -1.2843076748845133,
          1.073342564131795,
          -0.8843569377025369,
          0.6558533134970753,
          0.7419265491553783,
          -0.36327706865560755,
          -0.07345510361056795,
          -1.0612208963079712,
          0.6679856736507008,
          0.441518726846609,
          -0.12011044158825018,
          -2.803927213926374,
          1.0534290050662707,
          -0.17728000698749297,
          -1.1366462406419275,
          0.05517776174957644,
          -0.5095312481923084,
          -1.4083290572757459,
          -1.3502810759787633,
          1.1010685067401154,
          1.3597498360665201,
          -1.653068798167152,
          0.3603041379925434,
          -1.0258913919715984,
          -0.5887645509273518,
          -0.6226080766418056,
          0.2757135067272518,
          1.5670278179236714,
          -0.03438956511296057,
          0.5646557786163486,
          -0.40049686928198874,
          0.5682714687046483,
          0.5106595362063697,
          0.4876875655268923,
          -1.0365701372832248,
          0.148753131420438,
          -0.7862128711346452,
          1.1610530422171528,
          -1.7584960556237275,
          -1.0996052338366407,
          0.5550921060825537,
          -0.07194723058616423,
          0.09874844773802363,
          -0.4289801702715877,
          0.27700922642152415,
          1.9446504729028886,
          -0.17081785777879283,
          -0.3397090921659036,
          0.1163343778242112,
          0.4974586729775939,
          -1.0145727727320606,
          0.9668061343377845,
          -1.195043377548783,
          -0.5275585370225807,
          2.2253408079614423,
          -0.9149325662020059,
          -1.9910130099560681,
          1.104037547093716,
          -0.5948118495939628,
          -0.5714118575752235,
          -1.9450022867837182,
          -1.0504344320553727,
          0.15838932114169152,
          -0.9115035290858265,
          0.043653088138158616,
          0.8967081481912822,
          1.8324806901016975,
          -0.17421799579891237,
          0.6025750586775659,
          0.01661511897748368,
          -0.09490050931702307,
          1.7329566918601587,
          0.6146070890461516,
          -0.8180565346431806,
          1.1496174165297404,
          0.9420873200673806,
          -0.8544064772026969,
          -0.23058590602236753,
          -0.5596922214896065,
          1.2956915909558462,
          1.6340132748923069,
          -0.1760196401199447,
          1.73319140559922,
          -1.435564489500065,
          0.23477011573606574,
          -0.7783744915371498,
          -1.1122868170232463,
          -0.853933282237851,
          -0.1937175967392873,
          0.4251853382724826
         ],
         "xaxis": "x11",
         "yaxis": "y11"
        },
        {
         "line": {
          "color": "rgba(128, 128, 128, 1.0)",
          "dash": "solid",
          "shape": "linear",
          "width": 1.3
         },
         "marker": {
          "size": 2,
          "symbol": "circle"
         },
         "mode": "markers",
         "name": "C",
         "text": "",
         "type": "scatter",
         "x": [
          -0.11420890555588285,
          -0.18015600719370806,
          0.4467383032836302,
          0.5134964052696426,
          -2.506825030725312,
          -0.30496628040293366,
          -0.8793998563115474,
          -0.07250883132508364,
          -0.11111811357587129,
          1.5151277061489496,
          -1.6947082063992764,
          2.5528215620763284,
          -0.19190944351111974,
          -1.965756154674671,
          1.1193011182579384,
          1.945523608659881,
          -1.548098759567209,
          0.8123488904543115,
          -0.3225284134510511,
          3.363765957377816,
          -0.09040794345171485,
          1.5409372325812711,
          -0.1524503640369373,
          -0.9211225662963648,
          -0.234664343283136,
          -0.5988387987441645,
          1.9640046099329038,
          -1.9059093534907663,
          -0.30501271196983526,
          -0.07003303235654587,
          0.4273691216130949,
          0.5344919229822604,
          1.3648893776046511,
          0.14356096686465294,
          2.1775369436370027,
          0.4948293859869428,
          -0.12634359535027728,
          0.5515697606392707,
          -0.7817494449281183,
          1.168703603757188,
          1.0632746888968312,
          0.5928503508023099,
          -0.48452447812260047,
          2.471398018677528,
          0.0320537702562301,
          -1.2132812417956753,
          -0.3147939787890694,
          0.8410529978982227,
          -0.5513828889586566,
          0.6123404127705531,
          -0.7787436701085488,
          -1.1170001747219052,
          -0.5855935605970888,
          0.007561232728142446,
          0.5054553025090613,
          -0.134028957426057,
          2.4810376480615144,
          1.9949948194179672,
          0.3913991206519806,
          -0.3872507585745515,
          -1.8004463541736992,
          1.4480733436083826,
          -1.735085442897729,
          1.791726625268079,
          0.22312852195532035,
          -0.17831185991010187,
          -0.1342515593153074,
          3.064660548554613,
          -0.2567088207163651,
          1.9759774418795923,
          -0.23412258600826766,
          -0.4692604812153284,
          -0.19256176835937983,
          -1.9612341837422296,
          1.6231965239335477,
          -0.6870279081201187,
          0.13469205743861082,
          1.2128703557234293,
          1.2922561840488511,
          0.9025536852040918,
          -0.5283235308581054,
          0.8419027821447392,
          -1.496797888222635,
          -0.49694884262671085,
          0.06126558484265961,
          -0.2895372319404262,
          -1.1338328750070126,
          -0.6649022974941925,
          0.33940798232820063,
          0.9026626694446349,
          1.119667959555071,
          0.14558202217431568,
          -0.8702993232331738,
          0.1886403378793685,
          0.9743523532494787,
          -2.2982701623404735,
          1.090851860680595,
          -1.130490055546931,
          -0.05470785652087121,
          2.831359429291828
         ],
         "xaxis": "x12",
         "y": [
          -1.0150659689487147,
          2.4396069488032004,
          -1.0514821902214544,
          0.025786994760816077,
          0.48322859921099276,
          -0.4713532665428161,
          1.1436149986359878,
          -1.3128261233699856,
          -0.2912887547934578,
          1.039967082869105,
          -1.2843076748845133,
          1.073342564131795,
          -0.8843569377025369,
          0.6558533134970753,
          0.7419265491553783,
          -0.36327706865560755,
          -0.07345510361056795,
          -1.0612208963079712,
          0.6679856736507008,
          0.441518726846609,
          -0.12011044158825018,
          -2.803927213926374,
          1.0534290050662707,
          -0.17728000698749297,
          -1.1366462406419275,
          0.05517776174957644,
          -0.5095312481923084,
          -1.4083290572757459,
          -1.3502810759787633,
          1.1010685067401154,
          1.3597498360665201,
          -1.653068798167152,
          0.3603041379925434,
          -1.0258913919715984,
          -0.5887645509273518,
          -0.6226080766418056,
          0.2757135067272518,
          1.5670278179236714,
          -0.03438956511296057,
          0.5646557786163486,
          -0.40049686928198874,
          0.5682714687046483,
          0.5106595362063697,
          0.4876875655268923,
          -1.0365701372832248,
          0.148753131420438,
          -0.7862128711346452,
          1.1610530422171528,
          -1.7584960556237275,
          -1.0996052338366407,
          0.5550921060825537,
          -0.07194723058616423,
          0.09874844773802363,
          -0.4289801702715877,
          0.27700922642152415,
          1.9446504729028886,
          -0.17081785777879283,
          -0.3397090921659036,
          0.1163343778242112,
          0.4974586729775939,
          -1.0145727727320606,
          0.9668061343377845,
          -1.195043377548783,
          -0.5275585370225807,
          2.2253408079614423,
          -0.9149325662020059,
          -1.9910130099560681,
          1.104037547093716,
          -0.5948118495939628,
          -0.5714118575752235,
          -1.9450022867837182,
          -1.0504344320553727,
          0.15838932114169152,
          -0.9115035290858265,
          0.043653088138158616,
          0.8967081481912822,
          1.8324806901016975,
          -0.17421799579891237,
          0.6025750586775659,
          0.01661511897748368,
          -0.09490050931702307,
          1.7329566918601587,
          0.6146070890461516,
          -0.8180565346431806,
          1.1496174165297404,
          0.9420873200673806,
          -0.8544064772026969,
          -0.23058590602236753,
          -0.5596922214896065,
          1.2956915909558462,
          1.6340132748923069,
          -0.1760196401199447,
          1.73319140559922,
          -1.435564489500065,
          0.23477011573606574,
          -0.7783744915371498,
          -1.1122868170232463,
          -0.853933282237851,
          -0.1937175967392873,
          0.4251853382724826
         ],
         "yaxis": "y12"
        },
        {
         "line": {
          "color": "rgba(128, 128, 128, 1.0)",
          "dash": "solid",
          "shape": "linear",
          "width": 1.3
         },
         "marker": {
          "size": 2,
          "symbol": "circle"
         },
         "mode": "markers",
         "name": "D",
         "text": "",
         "type": "scatter",
         "x": [
          -0.23833749478084632,
          0.6501994394768832,
          0.69240112895364,
          1.5320970914057563,
          1.5143536412100664,
          0.9091328451299554,
          0.5633932306807066,
          -0.6957450025151292,
          -0.3293951092999953,
          0.07112715282153531,
          1.3871289338711221,
          -0.30275030951868354,
          0.4325520012397575,
          0.3557928642971695,
          -0.14842497025923618,
          0.5618247664499927,
          0.05994346882977397,
          -1.4735100631741256,
          -0.08917911520644622,
          1.7363207791384538,
          -0.14329310593151515,
          0.15611611177600046,
          0.5406570368378665,
          -0.9957010147824803,
          1.387177334594978,
          0.1310498324631058,
          -0.22314038016345794,
          0.08879164066410501,
          -0.8810051288147794,
          -0.9770286284628511,
          -0.6715971578254221,
          1.3002560139455641,
          2.321624410335273,
          -0.15289584456586722,
          -0.6972843987992097,
          0.5931203866351997,
          0.9130042417329262,
          -0.3295338415521216,
          -1.3016776038004398,
          1.960484862694741,
          2.2802574608931754,
          -1.55531604820331,
          -0.4757202431700581,
          1.4373273727690996,
          -1.0070240274826834,
          1.2629202246100506,
          0.12856968538899607,
          -1.1243817895047012,
          0.04653002549161323,
          0.4369480939055736,
          0.2693438575066526,
          1.8038758704998965,
          0.1029603524630663,
          1.6081370990783066,
          -0.1378580105992773,
          0.5793942859228219,
          -0.14858741009587503,
          -0.19768016506777614,
          1.048015998868027,
          0.630830200972105,
          -1.5016688943855903,
          -0.42725460179513036,
          0.6632276199073781,
          0.03905584833789047,
          1.7065901060137059,
          -1.1400524905628655,
          0.4061750213104448,
          -0.3410890234644094,
          0.528994584107765,
          -0.44653772676211606,
          1.0273411655950548,
          -0.7616521517056599,
          -0.2990750926136947,
          0.7438791605337584,
          -0.6864816773203487,
          0.29972132855314054,
          0.0635865919701606,
          1.1160715054732728,
          0.23893414638922392,
          -3.0791028296082588,
          0.5628299582121862,
          1.3428877260800716,
          0.16002233058937887,
          -1.908974501388095,
          -1.063113689959441,
          -1.6701307613421852,
          0.6415131291626535,
          -1.4708631052358239,
          0.4542836706219212,
          -0.1803329649366861,
          2.3448185248734807,
          -0.42455083915233127,
          1.3596741223109698,
          -0.6387336708337593,
          -1.199901298038498,
          -0.46670532426178835,
          -1.9657923377437196,
          -2.5721533669425205,
          1.255546642935715,
          0.12504483924872897
         ],
         "xaxis": "x13",
         "y": [
          -0.11420890555588285,
          -0.18015600719370806,
          0.4467383032836302,
          0.5134964052696426,
          -2.506825030725312,
          -0.30496628040293366,
          -0.8793998563115474,
          -0.07250883132508364,
          -0.11111811357587129,
          1.5151277061489496,
          -1.6947082063992764,
          2.5528215620763284,
          -0.19190944351111974,
          -1.965756154674671,
          1.1193011182579384,
          1.945523608659881,
          -1.548098759567209,
          0.8123488904543115,
          -0.3225284134510511,
          3.363765957377816,
          -0.09040794345171485,
          1.5409372325812711,
          -0.1524503640369373,
          -0.9211225662963648,
          -0.234664343283136,
          -0.5988387987441645,
          1.9640046099329038,
          -1.9059093534907663,
          -0.30501271196983526,
          -0.07003303235654587,
          0.4273691216130949,
          0.5344919229822604,
          1.3648893776046511,
          0.14356096686465294,
          2.1775369436370027,
          0.4948293859869428,
          -0.12634359535027728,
          0.5515697606392707,
          -0.7817494449281183,
          1.168703603757188,
          1.0632746888968312,
          0.5928503508023099,
          -0.48452447812260047,
          2.471398018677528,
          0.0320537702562301,
          -1.2132812417956753,
          -0.3147939787890694,
          0.8410529978982227,
          -0.5513828889586566,
          0.6123404127705531,
          -0.7787436701085488,
          -1.1170001747219052,
          -0.5855935605970888,
          0.007561232728142446,
          0.5054553025090613,
          -0.134028957426057,
          2.4810376480615144,
          1.9949948194179672,
          0.3913991206519806,
          -0.3872507585745515,
          -1.8004463541736992,
          1.4480733436083826,
          -1.735085442897729,
          1.791726625268079,
          0.22312852195532035,
          -0.17831185991010187,
          -0.1342515593153074,
          3.064660548554613,
          -0.2567088207163651,
          1.9759774418795923,
          -0.23412258600826766,
          -0.4692604812153284,
          -0.19256176835937983,
          -1.9612341837422296,
          1.6231965239335477,
          -0.6870279081201187,
          0.13469205743861082,
          1.2128703557234293,
          1.2922561840488511,
          0.9025536852040918,
          -0.5283235308581054,
          0.8419027821447392,
          -1.496797888222635,
          -0.49694884262671085,
          0.06126558484265961,
          -0.2895372319404262,
          -1.1338328750070126,
          -0.6649022974941925,
          0.33940798232820063,
          0.9026626694446349,
          1.119667959555071,
          0.14558202217431568,
          -0.8702993232331738,
          0.1886403378793685,
          0.9743523532494787,
          -2.2982701623404735,
          1.090851860680595,
          -1.130490055546931,
          -0.05470785652087121,
          2.831359429291828
         ],
         "yaxis": "y13"
        },
        {
         "line": {
          "color": "rgba(128, 128, 128, 1.0)",
          "dash": "solid",
          "shape": "linear",
          "width": 1.3
         },
         "marker": {
          "size": 2,
          "symbol": "circle"
         },
         "mode": "markers",
         "name": "D",
         "text": "",
         "type": "scatter",
         "x": [
          -0.06291427450316933,
          -1.5322731602884292,
          2.028348772987773,
          0.6693932445647333,
          -1.784146484904668,
          0.5629194960966317,
          -1.1531714182196977,
          -1.198881273469872,
          -0.3599836499936697,
          -1.5859282623298518,
          0.43249326298018725,
          0.006334251206168981,
          -0.26156984664420363,
          -0.5542522296562603,
          0.6615866179143592,
          -1.324140148711569,
          0.34809760005611035,
          0.22845512200847662,
          0.7507214599572216,
          -0.4860243963364303,
          1.1966633637001574,
          -1.2290464952865618,
          0.39754334761882865,
          1.6994877438337332,
          0.7416418706957048,
          0.6403585630531775,
          -0.8734327491302029,
          -0.392926611428367,
          0.5749885606001245,
          -2.0467397051668876,
          0.49166689329736457,
          1.4036586051368503,
          -0.8307840514047554,
          0.6335495113267404,
          1.1820666940436422,
          -1.075705232012773,
          1.1881493161215,
          -1.423278677749765,
          -0.6430643428642822,
          -0.3293289381854944,
          -0.6547480913773267,
          -0.8463597065410111,
          -0.0024702289586539285,
          -1.0612818837077704,
          0.1254377076446763,
          -0.404602263867722,
          -0.7446729897259533,
          0.2186432671211768,
          1.2500505771424142,
          -0.8238305736789608,
          0.9222414596307853,
          -0.015284416785555715,
          -0.22472721377838545,
          0.0030087357121871758,
          0.08870220788145161,
          0.8984932568044094,
          0.14441621658763268,
          -0.4512488727289043,
          1.1375588391431979,
          -0.6527449377415648,
          0.27328665505704497,
          0.8823114753761337,
          0.00732754794294055,
          1.413438055483529,
          -0.5078282211761682,
          -0.8144068941811758,
          0.8789189975450421,
          -0.4161014934626199,
          1.2354275217687003,
          -0.4247058207211809,
          -1.8070468171353722,
          -0.07483434418167269,
          -0.8290768762316153,
          0.0323215009305928,
          -0.46818557550193923,
          -0.678510243789971,
          -0.326508032144984,
          -0.332445340739474,
          -0.08272614551191813,
          1.0935692828179533,
          0.2059558797739144,
          -0.4350877289157243,
          0.58286721728474,
          -0.5766016189112366,
          -1.0735566071205689,
          1.0114973460848427,
          -0.6641909267070367,
          -0.7784262569825346,
          -0.7927172147205591,
          -0.792636498224324,
          0.4303546660014756,
          0.6293061385726557,
          0.9161824688845475,
          -1.2931998909956706,
          0.3963712146012255,
          -1.0923974264157994,
          -0.9439165040572574,
          1.446733011848096,
          2.659876209227425,
          -1.4368341467410388
         ],
         "xaxis": "x14",
         "y": [
          -0.11420890555588285,
          -0.18015600719370806,
          0.4467383032836302,
          0.5134964052696426,
          -2.506825030725312,
          -0.30496628040293366,
          -0.8793998563115474,
          -0.07250883132508364,
          -0.11111811357587129,
          1.5151277061489496,
          -1.6947082063992764,
          2.5528215620763284,
          -0.19190944351111974,
          -1.965756154674671,
          1.1193011182579384,
          1.945523608659881,
          -1.548098759567209,
          0.8123488904543115,
          -0.3225284134510511,
          3.363765957377816,
          -0.09040794345171485,
          1.5409372325812711,
          -0.1524503640369373,
          -0.9211225662963648,
          -0.234664343283136,
          -0.5988387987441645,
          1.9640046099329038,
          -1.9059093534907663,
          -0.30501271196983526,
          -0.07003303235654587,
          0.4273691216130949,
          0.5344919229822604,
          1.3648893776046511,
          0.14356096686465294,
          2.1775369436370027,
          0.4948293859869428,
          -0.12634359535027728,
          0.5515697606392707,
          -0.7817494449281183,
          1.168703603757188,
          1.0632746888968312,
          0.5928503508023099,
          -0.48452447812260047,
          2.471398018677528,
          0.0320537702562301,
          -1.2132812417956753,
          -0.3147939787890694,
          0.8410529978982227,
          -0.5513828889586566,
          0.6123404127705531,
          -0.7787436701085488,
          -1.1170001747219052,
          -0.5855935605970888,
          0.007561232728142446,
          0.5054553025090613,
          -0.134028957426057,
          2.4810376480615144,
          1.9949948194179672,
          0.3913991206519806,
          -0.3872507585745515,
          -1.8004463541736992,
          1.4480733436083826,
          -1.735085442897729,
          1.791726625268079,
          0.22312852195532035,
          -0.17831185991010187,
          -0.1342515593153074,
          3.064660548554613,
          -0.2567088207163651,
          1.9759774418795923,
          -0.23412258600826766,
          -0.4692604812153284,
          -0.19256176835937983,
          -1.9612341837422296,
          1.6231965239335477,
          -0.6870279081201187,
          0.13469205743861082,
          1.2128703557234293,
          1.2922561840488511,
          0.9025536852040918,
          -0.5283235308581054,
          0.8419027821447392,
          -1.496797888222635,
          -0.49694884262671085,
          0.06126558484265961,
          -0.2895372319404262,
          -1.1338328750070126,
          -0.6649022974941925,
          0.33940798232820063,
          0.9026626694446349,
          1.119667959555071,
          0.14558202217431568,
          -0.8702993232331738,
          0.1886403378793685,
          0.9743523532494787,
          -2.2982701623404735,
          1.090851860680595,
          -1.130490055546931,
          -0.05470785652087121,
          2.831359429291828
         ],
         "yaxis": "y14"
        },
        {
         "line": {
          "color": "rgba(128, 128, 128, 1.0)",
          "dash": "solid",
          "shape": "linear",
          "width": 1.3
         },
         "marker": {
          "size": 2,
          "symbol": "circle"
         },
         "mode": "markers",
         "name": "D",
         "text": "",
         "type": "scatter",
         "x": [
          -1.0150659689487147,
          2.4396069488032004,
          -1.0514821902214544,
          0.025786994760816077,
          0.48322859921099276,
          -0.4713532665428161,
          1.1436149986359878,
          -1.3128261233699856,
          -0.2912887547934578,
          1.039967082869105,
          -1.2843076748845133,
          1.073342564131795,
          -0.8843569377025369,
          0.6558533134970753,
          0.7419265491553783,
          -0.36327706865560755,
          -0.07345510361056795,
          -1.0612208963079712,
          0.6679856736507008,
          0.441518726846609,
          -0.12011044158825018,
          -2.803927213926374,
          1.0534290050662707,
          -0.17728000698749297,
          -1.1366462406419275,
          0.05517776174957644,
          -0.5095312481923084,
          -1.4083290572757459,
          -1.3502810759787633,
          1.1010685067401154,
          1.3597498360665201,
          -1.653068798167152,
          0.3603041379925434,
          -1.0258913919715984,
          -0.5887645509273518,
          -0.6226080766418056,
          0.2757135067272518,
          1.5670278179236714,
          -0.03438956511296057,
          0.5646557786163486,
          -0.40049686928198874,
          0.5682714687046483,
          0.5106595362063697,
          0.4876875655268923,
          -1.0365701372832248,
          0.148753131420438,
          -0.7862128711346452,
          1.1610530422171528,
          -1.7584960556237275,
          -1.0996052338366407,
          0.5550921060825537,
          -0.07194723058616423,
          0.09874844773802363,
          -0.4289801702715877,
          0.27700922642152415,
          1.9446504729028886,
          -0.17081785777879283,
          -0.3397090921659036,
          0.1163343778242112,
          0.4974586729775939,
          -1.0145727727320606,
          0.9668061343377845,
          -1.195043377548783,
          -0.5275585370225807,
          2.2253408079614423,
          -0.9149325662020059,
          -1.9910130099560681,
          1.104037547093716,
          -0.5948118495939628,
          -0.5714118575752235,
          -1.9450022867837182,
          -1.0504344320553727,
          0.15838932114169152,
          -0.9115035290858265,
          0.043653088138158616,
          0.8967081481912822,
          1.8324806901016975,
          -0.17421799579891237,
          0.6025750586775659,
          0.01661511897748368,
          -0.09490050931702307,
          1.7329566918601587,
          0.6146070890461516,
          -0.8180565346431806,
          1.1496174165297404,
          0.9420873200673806,
          -0.8544064772026969,
          -0.23058590602236753,
          -0.5596922214896065,
          1.2956915909558462,
          1.6340132748923069,
          -0.1760196401199447,
          1.73319140559922,
          -1.435564489500065,
          0.23477011573606574,
          -0.7783744915371498,
          -1.1122868170232463,
          -0.853933282237851,
          -0.1937175967392873,
          0.4251853382724826
         ],
         "xaxis": "x15",
         "y": [
          -0.11420890555588285,
          -0.18015600719370806,
          0.4467383032836302,
          0.5134964052696426,
          -2.506825030725312,
          -0.30496628040293366,
          -0.8793998563115474,
          -0.07250883132508364,
          -0.11111811357587129,
          1.5151277061489496,
          -1.6947082063992764,
          2.5528215620763284,
          -0.19190944351111974,
          -1.965756154674671,
          1.1193011182579384,
          1.945523608659881,
          -1.548098759567209,
          0.8123488904543115,
          -0.3225284134510511,
          3.363765957377816,
          -0.09040794345171485,
          1.5409372325812711,
          -0.1524503640369373,
          -0.9211225662963648,
          -0.234664343283136,
          -0.5988387987441645,
          1.9640046099329038,
          -1.9059093534907663,
          -0.30501271196983526,
          -0.07003303235654587,
          0.4273691216130949,
          0.5344919229822604,
          1.3648893776046511,
          0.14356096686465294,
          2.1775369436370027,
          0.4948293859869428,
          -0.12634359535027728,
          0.5515697606392707,
          -0.7817494449281183,
          1.168703603757188,
          1.0632746888968312,
          0.5928503508023099,
          -0.48452447812260047,
          2.471398018677528,
          0.0320537702562301,
          -1.2132812417956753,
          -0.3147939787890694,
          0.8410529978982227,
          -0.5513828889586566,
          0.6123404127705531,
          -0.7787436701085488,
          -1.1170001747219052,
          -0.5855935605970888,
          0.007561232728142446,
          0.5054553025090613,
          -0.134028957426057,
          2.4810376480615144,
          1.9949948194179672,
          0.3913991206519806,
          -0.3872507585745515,
          -1.8004463541736992,
          1.4480733436083826,
          -1.735085442897729,
          1.791726625268079,
          0.22312852195532035,
          -0.17831185991010187,
          -0.1342515593153074,
          3.064660548554613,
          -0.2567088207163651,
          1.9759774418795923,
          -0.23412258600826766,
          -0.4692604812153284,
          -0.19256176835937983,
          -1.9612341837422296,
          1.6231965239335477,
          -0.6870279081201187,
          0.13469205743861082,
          1.2128703557234293,
          1.2922561840488511,
          0.9025536852040918,
          -0.5283235308581054,
          0.8419027821447392,
          -1.496797888222635,
          -0.49694884262671085,
          0.06126558484265961,
          -0.2895372319404262,
          -1.1338328750070126,
          -0.6649022974941925,
          0.33940798232820063,
          0.9026626694446349,
          1.119667959555071,
          0.14558202217431568,
          -0.8702993232331738,
          0.1886403378793685,
          0.9743523532494787,
          -2.2982701623404735,
          1.090851860680595,
          -1.130490055546931,
          -0.05470785652087121,
          2.831359429291828
         ],
         "yaxis": "y15"
        },
        {
         "histfunc": "count",
         "histnorm": "",
         "marker": {
          "color": "rgba(128, 0, 128, 1.0)",
          "line": {
           "color": "#4D5663",
           "width": 1.3
          }
         },
         "name": "D",
         "nbinsx": 10,
         "opacity": 0.8,
         "orientation": "v",
         "type": "histogram",
         "x": [
          -0.11420890555588285,
          -0.18015600719370806,
          0.4467383032836302,
          0.5134964052696426,
          -2.506825030725312,
          -0.30496628040293366,
          -0.8793998563115474,
          -0.07250883132508364,
          -0.11111811357587129,
          1.5151277061489496,
          -1.6947082063992764,
          2.5528215620763284,
          -0.19190944351111974,
          -1.965756154674671,
          1.1193011182579384,
          1.945523608659881,
          -1.548098759567209,
          0.8123488904543115,
          -0.3225284134510511,
          3.363765957377816,
          -0.09040794345171485,
          1.5409372325812711,
          -0.1524503640369373,
          -0.9211225662963648,
          -0.234664343283136,
          -0.5988387987441645,
          1.9640046099329038,
          -1.9059093534907663,
          -0.30501271196983526,
          -0.07003303235654587,
          0.4273691216130949,
          0.5344919229822604,
          1.3648893776046511,
          0.14356096686465294,
          2.1775369436370027,
          0.4948293859869428,
          -0.12634359535027728,
          0.5515697606392707,
          -0.7817494449281183,
          1.168703603757188,
          1.0632746888968312,
          0.5928503508023099,
          -0.48452447812260047,
          2.471398018677528,
          0.0320537702562301,
          -1.2132812417956753,
          -0.3147939787890694,
          0.8410529978982227,
          -0.5513828889586566,
          0.6123404127705531,
          -0.7787436701085488,
          -1.1170001747219052,
          -0.5855935605970888,
          0.007561232728142446,
          0.5054553025090613,
          -0.134028957426057,
          2.4810376480615144,
          1.9949948194179672,
          0.3913991206519806,
          -0.3872507585745515,
          -1.8004463541736992,
          1.4480733436083826,
          -1.735085442897729,
          1.791726625268079,
          0.22312852195532035,
          -0.17831185991010187,
          -0.1342515593153074,
          3.064660548554613,
          -0.2567088207163651,
          1.9759774418795923,
          -0.23412258600826766,
          -0.4692604812153284,
          -0.19256176835937983,
          -1.9612341837422296,
          1.6231965239335477,
          -0.6870279081201187,
          0.13469205743861082,
          1.2128703557234293,
          1.2922561840488511,
          0.9025536852040918,
          -0.5283235308581054,
          0.8419027821447392,
          -1.496797888222635,
          -0.49694884262671085,
          0.06126558484265961,
          -0.2895372319404262,
          -1.1338328750070126,
          -0.6649022974941925,
          0.33940798232820063,
          0.9026626694446349,
          1.119667959555071,
          0.14558202217431568,
          -0.8702993232331738,
          0.1886403378793685,
          0.9743523532494787,
          -2.2982701623404735,
          1.090851860680595,
          -1.130490055546931,
          -0.05470785652087121,
          2.831359429291828
         ],
         "xaxis": "x16",
         "yaxis": "y16"
        }
       ],
       "layout": {
        "bargap": 0.02,
        "legend": {
         "bgcolor": "#F5F6F9",
         "font": {
          "color": "#4D5663"
         }
        },
        "paper_bgcolor": "#F5F6F9",
        "plot_bgcolor": "#F5F6F9",
        "showlegend": false,
        "template": {
         "data": {
          "bar": [
           {
            "error_x": {
             "color": "#2a3f5f"
            },
            "error_y": {
             "color": "#2a3f5f"
            },
            "marker": {
             "line": {
              "color": "#E5ECF6",
              "width": 0.5
             },
             "pattern": {
              "fillmode": "overlay",
              "size": 10,
              "solidity": 0.2
             }
            },
            "type": "bar"
           }
          ],
          "barpolar": [
           {
            "marker": {
             "line": {
              "color": "#E5ECF6",
              "width": 0.5
             },
             "pattern": {
              "fillmode": "overlay",
              "size": 10,
              "solidity": 0.2
             }
            },
            "type": "barpolar"
           }
          ],
          "carpet": [
           {
            "aaxis": {
             "endlinecolor": "#2a3f5f",
             "gridcolor": "white",
             "linecolor": "white",
             "minorgridcolor": "white",
             "startlinecolor": "#2a3f5f"
            },
            "baxis": {
             "endlinecolor": "#2a3f5f",
             "gridcolor": "white",
             "linecolor": "white",
             "minorgridcolor": "white",
             "startlinecolor": "#2a3f5f"
            },
            "type": "carpet"
           }
          ],
          "choropleth": [
           {
            "colorbar": {
             "outlinewidth": 0,
             "ticks": ""
            },
            "type": "choropleth"
           }
          ],
          "contour": [
           {
            "colorbar": {
             "outlinewidth": 0,
             "ticks": ""
            },
            "colorscale": [
             [
              0,
              "#0d0887"
             ],
             [
              0.1111111111111111,
              "#46039f"
             ],
             [
              0.2222222222222222,
              "#7201a8"
             ],
             [
              0.3333333333333333,
              "#9c179e"
             ],
             [
              0.4444444444444444,
              "#bd3786"
             ],
             [
              0.5555555555555556,
              "#d8576b"
             ],
             [
              0.6666666666666666,
              "#ed7953"
             ],
             [
              0.7777777777777778,
              "#fb9f3a"
             ],
             [
              0.8888888888888888,
              "#fdca26"
             ],
             [
              1,
              "#f0f921"
             ]
            ],
            "type": "contour"
           }
          ],
          "contourcarpet": [
           {
            "colorbar": {
             "outlinewidth": 0,
             "ticks": ""
            },
            "type": "contourcarpet"
           }
          ],
          "heatmap": [
           {
            "colorbar": {
             "outlinewidth": 0,
             "ticks": ""
            },
            "colorscale": [
             [
              0,
              "#0d0887"
             ],
             [
              0.1111111111111111,
              "#46039f"
             ],
             [
              0.2222222222222222,
              "#7201a8"
             ],
             [
              0.3333333333333333,
              "#9c179e"
             ],
             [
              0.4444444444444444,
              "#bd3786"
             ],
             [
              0.5555555555555556,
              "#d8576b"
             ],
             [
              0.6666666666666666,
              "#ed7953"
             ],
             [
              0.7777777777777778,
              "#fb9f3a"
             ],
             [
              0.8888888888888888,
              "#fdca26"
             ],
             [
              1,
              "#f0f921"
             ]
            ],
            "type": "heatmap"
           }
          ],
          "heatmapgl": [
           {
            "colorbar": {
             "outlinewidth": 0,
             "ticks": ""
            },
            "colorscale": [
             [
              0,
              "#0d0887"
             ],
             [
              0.1111111111111111,
              "#46039f"
             ],
             [
              0.2222222222222222,
              "#7201a8"
             ],
             [
              0.3333333333333333,
              "#9c179e"
             ],
             [
              0.4444444444444444,
              "#bd3786"
             ],
             [
              0.5555555555555556,
              "#d8576b"
             ],
             [
              0.6666666666666666,
              "#ed7953"
             ],
             [
              0.7777777777777778,
              "#fb9f3a"
             ],
             [
              0.8888888888888888,
              "#fdca26"
             ],
             [
              1,
              "#f0f921"
             ]
            ],
            "type": "heatmapgl"
           }
          ],
          "histogram": [
           {
            "marker": {
             "pattern": {
              "fillmode": "overlay",
              "size": 10,
              "solidity": 0.2
             }
            },
            "type": "histogram"
           }
          ],
          "histogram2d": [
           {
            "colorbar": {
             "outlinewidth": 0,
             "ticks": ""
            },
            "colorscale": [
             [
              0,
              "#0d0887"
             ],
             [
              0.1111111111111111,
              "#46039f"
             ],
             [
              0.2222222222222222,
              "#7201a8"
             ],
             [
              0.3333333333333333,
              "#9c179e"
             ],
             [
              0.4444444444444444,
              "#bd3786"
             ],
             [
              0.5555555555555556,
              "#d8576b"
             ],
             [
              0.6666666666666666,
              "#ed7953"
             ],
             [
              0.7777777777777778,
              "#fb9f3a"
             ],
             [
              0.8888888888888888,
              "#fdca26"
             ],
             [
              1,
              "#f0f921"
             ]
            ],
            "type": "histogram2d"
           }
          ],
          "histogram2dcontour": [
           {
            "colorbar": {
             "outlinewidth": 0,
             "ticks": ""
            },
            "colorscale": [
             [
              0,
              "#0d0887"
             ],
             [
              0.1111111111111111,
              "#46039f"
             ],
             [
              0.2222222222222222,
              "#7201a8"
             ],
             [
              0.3333333333333333,
              "#9c179e"
             ],
             [
              0.4444444444444444,
              "#bd3786"
             ],
             [
              0.5555555555555556,
              "#d8576b"
             ],
             [
              0.6666666666666666,
              "#ed7953"
             ],
             [
              0.7777777777777778,
              "#fb9f3a"
             ],
             [
              0.8888888888888888,
              "#fdca26"
             ],
             [
              1,
              "#f0f921"
             ]
            ],
            "type": "histogram2dcontour"
           }
          ],
          "mesh3d": [
           {
            "colorbar": {
             "outlinewidth": 0,
             "ticks": ""
            },
            "type": "mesh3d"
           }
          ],
          "parcoords": [
           {
            "line": {
             "colorbar": {
              "outlinewidth": 0,
              "ticks": ""
             }
            },
            "type": "parcoords"
           }
          ],
          "pie": [
           {
            "automargin": true,
            "type": "pie"
           }
          ],
          "scatter": [
           {
            "fillpattern": {
             "fillmode": "overlay",
             "size": 10,
             "solidity": 0.2
            },
            "type": "scatter"
           }
          ],
          "scatter3d": [
           {
            "line": {
             "colorbar": {
              "outlinewidth": 0,
              "ticks": ""
             }
            },
            "marker": {
             "colorbar": {
              "outlinewidth": 0,
              "ticks": ""
             }
            },
            "type": "scatter3d"
           }
          ],
          "scattercarpet": [
           {
            "marker": {
             "colorbar": {
              "outlinewidth": 0,
              "ticks": ""
             }
            },
            "type": "scattercarpet"
           }
          ],
          "scattergeo": [
           {
            "marker": {
             "colorbar": {
              "outlinewidth": 0,
              "ticks": ""
             }
            },
            "type": "scattergeo"
           }
          ],
          "scattergl": [
           {
            "marker": {
             "colorbar": {
              "outlinewidth": 0,
              "ticks": ""
             }
            },
            "type": "scattergl"
           }
          ],
          "scattermapbox": [
           {
            "marker": {
             "colorbar": {
              "outlinewidth": 0,
              "ticks": ""
             }
            },
            "type": "scattermapbox"
           }
          ],
          "scatterpolar": [
           {
            "marker": {
             "colorbar": {
              "outlinewidth": 0,
              "ticks": ""
             }
            },
            "type": "scatterpolar"
           }
          ],
          "scatterpolargl": [
           {
            "marker": {
             "colorbar": {
              "outlinewidth": 0,
              "ticks": ""
             }
            },
            "type": "scatterpolargl"
           }
          ],
          "scatterternary": [
           {
            "marker": {
             "colorbar": {
              "outlinewidth": 0,
              "ticks": ""
             }
            },
            "type": "scatterternary"
           }
          ],
          "surface": [
           {
            "colorbar": {
             "outlinewidth": 0,
             "ticks": ""
            },
            "colorscale": [
             [
              0,
              "#0d0887"
             ],
             [
              0.1111111111111111,
              "#46039f"
             ],
             [
              0.2222222222222222,
              "#7201a8"
             ],
             [
              0.3333333333333333,
              "#9c179e"
             ],
             [
              0.4444444444444444,
              "#bd3786"
             ],
             [
              0.5555555555555556,
              "#d8576b"
             ],
             [
              0.6666666666666666,
              "#ed7953"
             ],
             [
              0.7777777777777778,
              "#fb9f3a"
             ],
             [
              0.8888888888888888,
              "#fdca26"
             ],
             [
              1,
              "#f0f921"
             ]
            ],
            "type": "surface"
           }
          ],
          "table": [
           {
            "cells": {
             "fill": {
              "color": "#EBF0F8"
             },
             "line": {
              "color": "white"
             }
            },
            "header": {
             "fill": {
              "color": "#C8D4E3"
             },
             "line": {
              "color": "white"
             }
            },
            "type": "table"
           }
          ]
         },
         "layout": {
          "annotationdefaults": {
           "arrowcolor": "#2a3f5f",
           "arrowhead": 0,
           "arrowwidth": 1
          },
          "autotypenumbers": "strict",
          "coloraxis": {
           "colorbar": {
            "outlinewidth": 0,
            "ticks": ""
           }
          },
          "colorscale": {
           "diverging": [
            [
             0,
             "#8e0152"
            ],
            [
             0.1,
             "#c51b7d"
            ],
            [
             0.2,
             "#de77ae"
            ],
            [
             0.3,
             "#f1b6da"
            ],
            [
             0.4,
             "#fde0ef"
            ],
            [
             0.5,
             "#f7f7f7"
            ],
            [
             0.6,
             "#e6f5d0"
            ],
            [
             0.7,
             "#b8e186"
            ],
            [
             0.8,
             "#7fbc41"
            ],
            [
             0.9,
             "#4d9221"
            ],
            [
             1,
             "#276419"
            ]
           ],
           "sequential": [
            [
             0,
             "#0d0887"
            ],
            [
             0.1111111111111111,
             "#46039f"
            ],
            [
             0.2222222222222222,
             "#7201a8"
            ],
            [
             0.3333333333333333,
             "#9c179e"
            ],
            [
             0.4444444444444444,
             "#bd3786"
            ],
            [
             0.5555555555555556,
             "#d8576b"
            ],
            [
             0.6666666666666666,
             "#ed7953"
            ],
            [
             0.7777777777777778,
             "#fb9f3a"
            ],
            [
             0.8888888888888888,
             "#fdca26"
            ],
            [
             1,
             "#f0f921"
            ]
           ],
           "sequentialminus": [
            [
             0,
             "#0d0887"
            ],
            [
             0.1111111111111111,
             "#46039f"
            ],
            [
             0.2222222222222222,
             "#7201a8"
            ],
            [
             0.3333333333333333,
             "#9c179e"
            ],
            [
             0.4444444444444444,
             "#bd3786"
            ],
            [
             0.5555555555555556,
             "#d8576b"
            ],
            [
             0.6666666666666666,
             "#ed7953"
            ],
            [
             0.7777777777777778,
             "#fb9f3a"
            ],
            [
             0.8888888888888888,
             "#fdca26"
            ],
            [
             1,
             "#f0f921"
            ]
           ]
          },
          "colorway": [
           "#636efa",
           "#EF553B",
           "#00cc96",
           "#ab63fa",
           "#FFA15A",
           "#19d3f3",
           "#FF6692",
           "#B6E880",
           "#FF97FF",
           "#FECB52"
          ],
          "font": {
           "color": "#2a3f5f"
          },
          "geo": {
           "bgcolor": "white",
           "lakecolor": "white",
           "landcolor": "#E5ECF6",
           "showlakes": true,
           "showland": true,
           "subunitcolor": "white"
          },
          "hoverlabel": {
           "align": "left"
          },
          "hovermode": "closest",
          "mapbox": {
           "style": "light"
          },
          "paper_bgcolor": "white",
          "plot_bgcolor": "#E5ECF6",
          "polar": {
           "angularaxis": {
            "gridcolor": "white",
            "linecolor": "white",
            "ticks": ""
           },
           "bgcolor": "#E5ECF6",
           "radialaxis": {
            "gridcolor": "white",
            "linecolor": "white",
            "ticks": ""
           }
          },
          "scene": {
           "xaxis": {
            "backgroundcolor": "#E5ECF6",
            "gridcolor": "white",
            "gridwidth": 2,
            "linecolor": "white",
            "showbackground": true,
            "ticks": "",
            "zerolinecolor": "white"
           },
           "yaxis": {
            "backgroundcolor": "#E5ECF6",
            "gridcolor": "white",
            "gridwidth": 2,
            "linecolor": "white",
            "showbackground": true,
            "ticks": "",
            "zerolinecolor": "white"
           },
           "zaxis": {
            "backgroundcolor": "#E5ECF6",
            "gridcolor": "white",
            "gridwidth": 2,
            "linecolor": "white",
            "showbackground": true,
            "ticks": "",
            "zerolinecolor": "white"
           }
          },
          "shapedefaults": {
           "line": {
            "color": "#2a3f5f"
           }
          },
          "ternary": {
           "aaxis": {
            "gridcolor": "white",
            "linecolor": "white",
            "ticks": ""
           },
           "baxis": {
            "gridcolor": "white",
            "linecolor": "white",
            "ticks": ""
           },
           "bgcolor": "#E5ECF6",
           "caxis": {
            "gridcolor": "white",
            "linecolor": "white",
            "ticks": ""
           }
          },
          "title": {
           "x": 0.05
          },
          "xaxis": {
           "automargin": true,
           "gridcolor": "white",
           "linecolor": "white",
           "ticks": "",
           "title": {
            "standoff": 15
           },
           "zerolinecolor": "white",
           "zerolinewidth": 2
          },
          "yaxis": {
           "automargin": true,
           "gridcolor": "white",
           "linecolor": "white",
           "ticks": "",
           "title": {
            "standoff": 15
           },
           "zerolinecolor": "white",
           "zerolinewidth": 2
          }
         }
        },
        "title": {
         "font": {
          "color": "#4D5663"
         }
        },
        "xaxis": {
         "anchor": "y",
         "domain": [
          0,
          0.2125
         ],
         "gridcolor": "#E1E5ED",
         "showgrid": false,
         "tickfont": {
          "color": "#4D5663"
         },
         "title": {
          "font": {
           "color": "#4D5663"
          },
          "text": ""
         },
         "zerolinecolor": "#E1E5ED"
        },
        "xaxis10": {
         "anchor": "y10",
         "domain": [
          0.2625,
          0.475
         ],
         "gridcolor": "#E1E5ED",
         "showgrid": false,
         "tickfont": {
          "color": "#4D5663"
         },
         "title": {
          "font": {
           "color": "#4D5663"
          },
          "text": ""
         },
         "zerolinecolor": "#E1E5ED"
        },
        "xaxis11": {
         "anchor": "y11",
         "domain": [
          0.525,
          0.7375
         ],
         "gridcolor": "#E1E5ED",
         "showgrid": false,
         "tickfont": {
          "color": "#4D5663"
         },
         "title": {
          "font": {
           "color": "#4D5663"
          },
          "text": ""
         },
         "zerolinecolor": "#E1E5ED"
        },
        "xaxis12": {
         "anchor": "y12",
         "domain": [
          0.7875,
          1
         ],
         "gridcolor": "#E1E5ED",
         "showgrid": false,
         "tickfont": {
          "color": "#4D5663"
         },
         "title": {
          "font": {
           "color": "#4D5663"
          },
          "text": ""
         },
         "zerolinecolor": "#E1E5ED"
        },
        "xaxis13": {
         "anchor": "y13",
         "domain": [
          0,
          0.2125
         ],
         "gridcolor": "#E1E5ED",
         "showgrid": false,
         "tickfont": {
          "color": "#4D5663"
         },
         "title": {
          "font": {
           "color": "#4D5663"
          },
          "text": ""
         },
         "zerolinecolor": "#E1E5ED"
        },
        "xaxis14": {
         "anchor": "y14",
         "domain": [
          0.2625,
          0.475
         ],
         "gridcolor": "#E1E5ED",
         "showgrid": false,
         "tickfont": {
          "color": "#4D5663"
         },
         "title": {
          "font": {
           "color": "#4D5663"
          },
          "text": ""
         },
         "zerolinecolor": "#E1E5ED"
        },
        "xaxis15": {
         "anchor": "y15",
         "domain": [
          0.525,
          0.7375
         ],
         "gridcolor": "#E1E5ED",
         "showgrid": false,
         "tickfont": {
          "color": "#4D5663"
         },
         "title": {
          "font": {
           "color": "#4D5663"
          },
          "text": ""
         },
         "zerolinecolor": "#E1E5ED"
        },
        "xaxis16": {
         "anchor": "y16",
         "domain": [
          0.7875,
          1
         ],
         "gridcolor": "#E1E5ED",
         "showgrid": false,
         "tickfont": {
          "color": "#4D5663"
         },
         "title": {
          "font": {
           "color": "#4D5663"
          },
          "text": ""
         },
         "zerolinecolor": "#E1E5ED"
        },
        "xaxis2": {
         "anchor": "y2",
         "domain": [
          0.2625,
          0.475
         ],
         "gridcolor": "#E1E5ED",
         "showgrid": false,
         "tickfont": {
          "color": "#4D5663"
         },
         "title": {
          "font": {
           "color": "#4D5663"
          },
          "text": ""
         },
         "zerolinecolor": "#E1E5ED"
        },
        "xaxis3": {
         "anchor": "y3",
         "domain": [
          0.525,
          0.7375
         ],
         "gridcolor": "#E1E5ED",
         "showgrid": false,
         "tickfont": {
          "color": "#4D5663"
         },
         "title": {
          "font": {
           "color": "#4D5663"
          },
          "text": ""
         },
         "zerolinecolor": "#E1E5ED"
        },
        "xaxis4": {
         "anchor": "y4",
         "domain": [
          0.7875,
          1
         ],
         "gridcolor": "#E1E5ED",
         "showgrid": false,
         "tickfont": {
          "color": "#4D5663"
         },
         "title": {
          "font": {
           "color": "#4D5663"
          },
          "text": ""
         },
         "zerolinecolor": "#E1E5ED"
        },
        "xaxis5": {
         "anchor": "y5",
         "domain": [
          0,
          0.2125
         ],
         "gridcolor": "#E1E5ED",
         "showgrid": false,
         "tickfont": {
          "color": "#4D5663"
         },
         "title": {
          "font": {
           "color": "#4D5663"
          },
          "text": ""
         },
         "zerolinecolor": "#E1E5ED"
        },
        "xaxis6": {
         "anchor": "y6",
         "domain": [
          0.2625,
          0.475
         ],
         "gridcolor": "#E1E5ED",
         "showgrid": false,
         "tickfont": {
          "color": "#4D5663"
         },
         "title": {
          "font": {
           "color": "#4D5663"
          },
          "text": ""
         },
         "zerolinecolor": "#E1E5ED"
        },
        "xaxis7": {
         "anchor": "y7",
         "domain": [
          0.525,
          0.7375
         ],
         "gridcolor": "#E1E5ED",
         "showgrid": false,
         "tickfont": {
          "color": "#4D5663"
         },
         "title": {
          "font": {
           "color": "#4D5663"
          },
          "text": ""
         },
         "zerolinecolor": "#E1E5ED"
        },
        "xaxis8": {
         "anchor": "y8",
         "domain": [
          0.7875,
          1
         ],
         "gridcolor": "#E1E5ED",
         "showgrid": false,
         "tickfont": {
          "color": "#4D5663"
         },
         "title": {
          "font": {
           "color": "#4D5663"
          },
          "text": ""
         },
         "zerolinecolor": "#E1E5ED"
        },
        "xaxis9": {
         "anchor": "y9",
         "domain": [
          0,
          0.2125
         ],
         "gridcolor": "#E1E5ED",
         "showgrid": false,
         "tickfont": {
          "color": "#4D5663"
         },
         "title": {
          "font": {
           "color": "#4D5663"
          },
          "text": ""
         },
         "zerolinecolor": "#E1E5ED"
        },
        "yaxis": {
         "anchor": "x",
         "domain": [
          0.8025,
          1
         ],
         "gridcolor": "#E1E5ED",
         "showgrid": false,
         "tickfont": {
          "color": "#4D5663"
         },
         "title": {
          "font": {
           "color": "#4D5663"
          },
          "text": ""
         },
         "zerolinecolor": "#E1E5ED"
        },
        "yaxis10": {
         "anchor": "x10",
         "domain": [
          0.2675,
          0.465
         ],
         "gridcolor": "#E1E5ED",
         "showgrid": false,
         "tickfont": {
          "color": "#4D5663"
         },
         "title": {
          "font": {
           "color": "#4D5663"
          },
          "text": ""
         },
         "zerolinecolor": "#E1E5ED"
        },
        "yaxis11": {
         "anchor": "x11",
         "domain": [
          0.2675,
          0.465
         ],
         "gridcolor": "#E1E5ED",
         "showgrid": false,
         "tickfont": {
          "color": "#4D5663"
         },
         "title": {
          "font": {
           "color": "#4D5663"
          },
          "text": ""
         },
         "zerolinecolor": "#E1E5ED"
        },
        "yaxis12": {
         "anchor": "x12",
         "domain": [
          0.2675,
          0.465
         ],
         "gridcolor": "#E1E5ED",
         "showgrid": false,
         "tickfont": {
          "color": "#4D5663"
         },
         "title": {
          "font": {
           "color": "#4D5663"
          },
          "text": ""
         },
         "zerolinecolor": "#E1E5ED"
        },
        "yaxis13": {
         "anchor": "x13",
         "domain": [
          0,
          0.1975
         ],
         "gridcolor": "#E1E5ED",
         "showgrid": false,
         "tickfont": {
          "color": "#4D5663"
         },
         "title": {
          "font": {
           "color": "#4D5663"
          },
          "text": ""
         },
         "zerolinecolor": "#E1E5ED"
        },
        "yaxis14": {
         "anchor": "x14",
         "domain": [
          0,
          0.1975
         ],
         "gridcolor": "#E1E5ED",
         "showgrid": false,
         "tickfont": {
          "color": "#4D5663"
         },
         "title": {
          "font": {
           "color": "#4D5663"
          },
          "text": ""
         },
         "zerolinecolor": "#E1E5ED"
        },
        "yaxis15": {
         "anchor": "x15",
         "domain": [
          0,
          0.1975
         ],
         "gridcolor": "#E1E5ED",
         "showgrid": false,
         "tickfont": {
          "color": "#4D5663"
         },
         "title": {
          "font": {
           "color": "#4D5663"
          },
          "text": ""
         },
         "zerolinecolor": "#E1E5ED"
        },
        "yaxis16": {
         "anchor": "x16",
         "domain": [
          0,
          0.1975
         ],
         "gridcolor": "#E1E5ED",
         "showgrid": false,
         "tickfont": {
          "color": "#4D5663"
         },
         "title": {
          "font": {
           "color": "#4D5663"
          },
          "text": ""
         },
         "zerolinecolor": "#E1E5ED"
        },
        "yaxis2": {
         "anchor": "x2",
         "domain": [
          0.8025,
          1
         ],
         "gridcolor": "#E1E5ED",
         "showgrid": false,
         "tickfont": {
          "color": "#4D5663"
         },
         "title": {
          "font": {
           "color": "#4D5663"
          },
          "text": ""
         },
         "zerolinecolor": "#E1E5ED"
        },
        "yaxis3": {
         "anchor": "x3",
         "domain": [
          0.8025,
          1
         ],
         "gridcolor": "#E1E5ED",
         "showgrid": false,
         "tickfont": {
          "color": "#4D5663"
         },
         "title": {
          "font": {
           "color": "#4D5663"
          },
          "text": ""
         },
         "zerolinecolor": "#E1E5ED"
        },
        "yaxis4": {
         "anchor": "x4",
         "domain": [
          0.8025,
          1
         ],
         "gridcolor": "#E1E5ED",
         "showgrid": false,
         "tickfont": {
          "color": "#4D5663"
         },
         "title": {
          "font": {
           "color": "#4D5663"
          },
          "text": ""
         },
         "zerolinecolor": "#E1E5ED"
        },
        "yaxis5": {
         "anchor": "x5",
         "domain": [
          0.535,
          0.7325
         ],
         "gridcolor": "#E1E5ED",
         "showgrid": false,
         "tickfont": {
          "color": "#4D5663"
         },
         "title": {
          "font": {
           "color": "#4D5663"
          },
          "text": ""
         },
         "zerolinecolor": "#E1E5ED"
        },
        "yaxis6": {
         "anchor": "x6",
         "domain": [
          0.535,
          0.7325
         ],
         "gridcolor": "#E1E5ED",
         "showgrid": false,
         "tickfont": {
          "color": "#4D5663"
         },
         "title": {
          "font": {
           "color": "#4D5663"
          },
          "text": ""
         },
         "zerolinecolor": "#E1E5ED"
        },
        "yaxis7": {
         "anchor": "x7",
         "domain": [
          0.535,
          0.7325
         ],
         "gridcolor": "#E1E5ED",
         "showgrid": false,
         "tickfont": {
          "color": "#4D5663"
         },
         "title": {
          "font": {
           "color": "#4D5663"
          },
          "text": ""
         },
         "zerolinecolor": "#E1E5ED"
        },
        "yaxis8": {
         "anchor": "x8",
         "domain": [
          0.535,
          0.7325
         ],
         "gridcolor": "#E1E5ED",
         "showgrid": false,
         "tickfont": {
          "color": "#4D5663"
         },
         "title": {
          "font": {
           "color": "#4D5663"
          },
          "text": ""
         },
         "zerolinecolor": "#E1E5ED"
        },
        "yaxis9": {
         "anchor": "x9",
         "domain": [
          0.2675,
          0.465
         ],
         "gridcolor": "#E1E5ED",
         "showgrid": false,
         "tickfont": {
          "color": "#4D5663"
         },
         "title": {
          "font": {
           "color": "#4D5663"
          },
          "text": ""
         },
         "zerolinecolor": "#E1E5ED"
        }
       }
      },
      "text/html": [
       "<div>                            <div id=\"06f0d561-c6c1-4ce8-92fc-5e07696b0e0a\" class=\"plotly-graph-div\" style=\"height:525px; width:100%;\"></div>            <script type=\"text/javascript\">                require([\"plotly\"], function(Plotly) {                    window.PLOTLYENV=window.PLOTLYENV || {};\n",
       "                    window.PLOTLYENV.BASE_URL='https://plot.ly';                                    if (document.getElementById(\"06f0d561-c6c1-4ce8-92fc-5e07696b0e0a\")) {                    Plotly.newPlot(                        \"06f0d561-c6c1-4ce8-92fc-5e07696b0e0a\",                        [{\"histfunc\":\"count\",\"histnorm\":\"\",\"marker\":{\"color\":\"rgba(255, 153, 51, 1.0)\",\"line\":{\"color\":\"#4D5663\",\"width\":1.3}},\"name\":\"A\",\"nbinsx\":10,\"opacity\":0.8,\"orientation\":\"v\",\"x\":[-0.23833749478084632,0.6501994394768832,0.69240112895364,1.5320970914057563,1.5143536412100664,0.9091328451299554,0.5633932306807066,-0.6957450025151292,-0.3293951092999953,0.07112715282153531,1.3871289338711221,-0.30275030951868354,0.4325520012397575,0.3557928642971695,-0.14842497025923618,0.5618247664499927,0.05994346882977397,-1.4735100631741256,-0.08917911520644622,1.7363207791384538,-0.14329310593151515,0.15611611177600046,0.5406570368378665,-0.9957010147824803,1.387177334594978,0.1310498324631058,-0.22314038016345794,0.08879164066410501,-0.8810051288147794,-0.9770286284628511,-0.6715971578254221,1.3002560139455641,2.321624410335273,-0.15289584456586722,-0.6972843987992097,0.5931203866351997,0.9130042417329262,-0.3295338415521216,-1.3016776038004398,1.960484862694741,2.2802574608931754,-1.55531604820331,-0.4757202431700581,1.4373273727690996,-1.0070240274826834,1.2629202246100506,0.12856968538899607,-1.1243817895047012,0.04653002549161323,0.4369480939055736,0.2693438575066526,1.8038758704998965,0.1029603524630663,1.6081370990783066,-0.1378580105992773,0.5793942859228219,-0.14858741009587503,-0.19768016506777614,1.048015998868027,0.630830200972105,-1.5016688943855903,-0.42725460179513036,0.6632276199073781,0.03905584833789047,1.7065901060137059,-1.1400524905628655,0.4061750213104448,-0.3410890234644094,0.528994584107765,-0.44653772676211606,1.0273411655950548,-0.7616521517056599,-0.2990750926136947,0.7438791605337584,-0.6864816773203487,0.29972132855314054,0.0635865919701606,1.1160715054732728,0.23893414638922392,-3.0791028296082588,0.5628299582121862,1.3428877260800716,0.16002233058937887,-1.908974501388095,-1.063113689959441,-1.6701307613421852,0.6415131291626535,-1.4708631052358239,0.4542836706219212,-0.1803329649366861,2.3448185248734807,-0.42455083915233127,1.3596741223109698,-0.6387336708337593,-1.199901298038498,-0.46670532426178835,-1.9657923377437196,-2.5721533669425205,1.255546642935715,0.12504483924872897],\"xaxis\":\"x\",\"yaxis\":\"y\",\"type\":\"histogram\"},{\"line\":{\"color\":\"rgba(128, 128, 128, 1.0)\",\"dash\":\"solid\",\"shape\":\"linear\",\"width\":1.3},\"marker\":{\"size\":2,\"symbol\":\"circle\"},\"mode\":\"markers\",\"name\":\"A\",\"text\":\"\",\"x\":[-0.06291427450316933,-1.5322731602884292,2.028348772987773,0.6693932445647333,-1.784146484904668,0.5629194960966317,-1.1531714182196977,-1.198881273469872,-0.3599836499936697,-1.5859282623298518,0.43249326298018725,0.006334251206168981,-0.26156984664420363,-0.5542522296562603,0.6615866179143592,-1.324140148711569,0.34809760005611035,0.22845512200847662,0.7507214599572216,-0.4860243963364303,1.1966633637001574,-1.2290464952865618,0.39754334761882865,1.6994877438337332,0.7416418706957048,0.6403585630531775,-0.8734327491302029,-0.392926611428367,0.5749885606001245,-2.0467397051668876,0.49166689329736457,1.4036586051368503,-0.8307840514047554,0.6335495113267404,1.1820666940436422,-1.075705232012773,1.1881493161215,-1.423278677749765,-0.6430643428642822,-0.3293289381854944,-0.6547480913773267,-0.8463597065410111,-0.0024702289586539285,-1.0612818837077704,0.1254377076446763,-0.404602263867722,-0.7446729897259533,0.2186432671211768,1.2500505771424142,-0.8238305736789608,0.9222414596307853,-0.015284416785555715,-0.22472721377838545,0.0030087357121871758,0.08870220788145161,0.8984932568044094,0.14441621658763268,-0.4512488727289043,1.1375588391431979,-0.6527449377415648,0.27328665505704497,0.8823114753761337,0.00732754794294055,1.413438055483529,-0.5078282211761682,-0.8144068941811758,0.8789189975450421,-0.4161014934626199,1.2354275217687003,-0.4247058207211809,-1.8070468171353722,-0.07483434418167269,-0.8290768762316153,0.0323215009305928,-0.46818557550193923,-0.678510243789971,-0.326508032144984,-0.332445340739474,-0.08272614551191813,1.0935692828179533,0.2059558797739144,-0.4350877289157243,0.58286721728474,-0.5766016189112366,-1.0735566071205689,1.0114973460848427,-0.6641909267070367,-0.7784262569825346,-0.7927172147205591,-0.792636498224324,0.4303546660014756,0.6293061385726557,0.9161824688845475,-1.2931998909956706,0.3963712146012255,-1.0923974264157994,-0.9439165040572574,1.446733011848096,2.659876209227425,-1.4368341467410388],\"xaxis\":\"x2\",\"y\":[-0.23833749478084632,0.6501994394768832,0.69240112895364,1.5320970914057563,1.5143536412100664,0.9091328451299554,0.5633932306807066,-0.6957450025151292,-0.3293951092999953,0.07112715282153531,1.3871289338711221,-0.30275030951868354,0.4325520012397575,0.3557928642971695,-0.14842497025923618,0.5618247664499927,0.05994346882977397,-1.4735100631741256,-0.08917911520644622,1.7363207791384538,-0.14329310593151515,0.15611611177600046,0.5406570368378665,-0.9957010147824803,1.387177334594978,0.1310498324631058,-0.22314038016345794,0.08879164066410501,-0.8810051288147794,-0.9770286284628511,-0.6715971578254221,1.3002560139455641,2.321624410335273,-0.15289584456586722,-0.6972843987992097,0.5931203866351997,0.9130042417329262,-0.3295338415521216,-1.3016776038004398,1.960484862694741,2.2802574608931754,-1.55531604820331,-0.4757202431700581,1.4373273727690996,-1.0070240274826834,1.2629202246100506,0.12856968538899607,-1.1243817895047012,0.04653002549161323,0.4369480939055736,0.2693438575066526,1.8038758704998965,0.1029603524630663,1.6081370990783066,-0.1378580105992773,0.5793942859228219,-0.14858741009587503,-0.19768016506777614,1.048015998868027,0.630830200972105,-1.5016688943855903,-0.42725460179513036,0.6632276199073781,0.03905584833789047,1.7065901060137059,-1.1400524905628655,0.4061750213104448,-0.3410890234644094,0.528994584107765,-0.44653772676211606,1.0273411655950548,-0.7616521517056599,-0.2990750926136947,0.7438791605337584,-0.6864816773203487,0.29972132855314054,0.0635865919701606,1.1160715054732728,0.23893414638922392,-3.0791028296082588,0.5628299582121862,1.3428877260800716,0.16002233058937887,-1.908974501388095,-1.063113689959441,-1.6701307613421852,0.6415131291626535,-1.4708631052358239,0.4542836706219212,-0.1803329649366861,2.3448185248734807,-0.42455083915233127,1.3596741223109698,-0.6387336708337593,-1.199901298038498,-0.46670532426178835,-1.9657923377437196,-2.5721533669425205,1.255546642935715,0.12504483924872897],\"yaxis\":\"y2\",\"type\":\"scatter\"},{\"line\":{\"color\":\"rgba(128, 128, 128, 1.0)\",\"dash\":\"solid\",\"shape\":\"linear\",\"width\":1.3},\"marker\":{\"size\":2,\"symbol\":\"circle\"},\"mode\":\"markers\",\"name\":\"A\",\"text\":\"\",\"x\":[-1.0150659689487147,2.4396069488032004,-1.0514821902214544,0.025786994760816077,0.48322859921099276,-0.4713532665428161,1.1436149986359878,-1.3128261233699856,-0.2912887547934578,1.039967082869105,-1.2843076748845133,1.073342564131795,-0.8843569377025369,0.6558533134970753,0.7419265491553783,-0.36327706865560755,-0.07345510361056795,-1.0612208963079712,0.6679856736507008,0.441518726846609,-0.12011044158825018,-2.803927213926374,1.0534290050662707,-0.17728000698749297,-1.1366462406419275,0.05517776174957644,-0.5095312481923084,-1.4083290572757459,-1.3502810759787633,1.1010685067401154,1.3597498360665201,-1.653068798167152,0.3603041379925434,-1.0258913919715984,-0.5887645509273518,-0.6226080766418056,0.2757135067272518,1.5670278179236714,-0.03438956511296057,0.5646557786163486,-0.40049686928198874,0.5682714687046483,0.5106595362063697,0.4876875655268923,-1.0365701372832248,0.148753131420438,-0.7862128711346452,1.1610530422171528,-1.7584960556237275,-1.0996052338366407,0.5550921060825537,-0.07194723058616423,0.09874844773802363,-0.4289801702715877,0.27700922642152415,1.9446504729028886,-0.17081785777879283,-0.3397090921659036,0.1163343778242112,0.4974586729775939,-1.0145727727320606,0.9668061343377845,-1.195043377548783,-0.5275585370225807,2.2253408079614423,-0.9149325662020059,-1.9910130099560681,1.104037547093716,-0.5948118495939628,-0.5714118575752235,-1.9450022867837182,-1.0504344320553727,0.15838932114169152,-0.9115035290858265,0.043653088138158616,0.8967081481912822,1.8324806901016975,-0.17421799579891237,0.6025750586775659,0.01661511897748368,-0.09490050931702307,1.7329566918601587,0.6146070890461516,-0.8180565346431806,1.1496174165297404,0.9420873200673806,-0.8544064772026969,-0.23058590602236753,-0.5596922214896065,1.2956915909558462,1.6340132748923069,-0.1760196401199447,1.73319140559922,-1.435564489500065,0.23477011573606574,-0.7783744915371498,-1.1122868170232463,-0.853933282237851,-0.1937175967392873,0.4251853382724826],\"xaxis\":\"x3\",\"y\":[-0.23833749478084632,0.6501994394768832,0.69240112895364,1.5320970914057563,1.5143536412100664,0.9091328451299554,0.5633932306807066,-0.6957450025151292,-0.3293951092999953,0.07112715282153531,1.3871289338711221,-0.30275030951868354,0.4325520012397575,0.3557928642971695,-0.14842497025923618,0.5618247664499927,0.05994346882977397,-1.4735100631741256,-0.08917911520644622,1.7363207791384538,-0.14329310593151515,0.15611611177600046,0.5406570368378665,-0.9957010147824803,1.387177334594978,0.1310498324631058,-0.22314038016345794,0.08879164066410501,-0.8810051288147794,-0.9770286284628511,-0.6715971578254221,1.3002560139455641,2.321624410335273,-0.15289584456586722,-0.6972843987992097,0.5931203866351997,0.9130042417329262,-0.3295338415521216,-1.3016776038004398,1.960484862694741,2.2802574608931754,-1.55531604820331,-0.4757202431700581,1.4373273727690996,-1.0070240274826834,1.2629202246100506,0.12856968538899607,-1.1243817895047012,0.04653002549161323,0.4369480939055736,0.2693438575066526,1.8038758704998965,0.1029603524630663,1.6081370990783066,-0.1378580105992773,0.5793942859228219,-0.14858741009587503,-0.19768016506777614,1.048015998868027,0.630830200972105,-1.5016688943855903,-0.42725460179513036,0.6632276199073781,0.03905584833789047,1.7065901060137059,-1.1400524905628655,0.4061750213104448,-0.3410890234644094,0.528994584107765,-0.44653772676211606,1.0273411655950548,-0.7616521517056599,-0.2990750926136947,0.7438791605337584,-0.6864816773203487,0.29972132855314054,0.0635865919701606,1.1160715054732728,0.23893414638922392,-3.0791028296082588,0.5628299582121862,1.3428877260800716,0.16002233058937887,-1.908974501388095,-1.063113689959441,-1.6701307613421852,0.6415131291626535,-1.4708631052358239,0.4542836706219212,-0.1803329649366861,2.3448185248734807,-0.42455083915233127,1.3596741223109698,-0.6387336708337593,-1.199901298038498,-0.46670532426178835,-1.9657923377437196,-2.5721533669425205,1.255546642935715,0.12504483924872897],\"yaxis\":\"y3\",\"type\":\"scatter\"},{\"line\":{\"color\":\"rgba(128, 128, 128, 1.0)\",\"dash\":\"solid\",\"shape\":\"linear\",\"width\":1.3},\"marker\":{\"size\":2,\"symbol\":\"circle\"},\"mode\":\"markers\",\"name\":\"A\",\"text\":\"\",\"x\":[-0.11420890555588285,-0.18015600719370806,0.4467383032836302,0.5134964052696426,-2.506825030725312,-0.30496628040293366,-0.8793998563115474,-0.07250883132508364,-0.11111811357587129,1.5151277061489496,-1.6947082063992764,2.5528215620763284,-0.19190944351111974,-1.965756154674671,1.1193011182579384,1.945523608659881,-1.548098759567209,0.8123488904543115,-0.3225284134510511,3.363765957377816,-0.09040794345171485,1.5409372325812711,-0.1524503640369373,-0.9211225662963648,-0.234664343283136,-0.5988387987441645,1.9640046099329038,-1.9059093534907663,-0.30501271196983526,-0.07003303235654587,0.4273691216130949,0.5344919229822604,1.3648893776046511,0.14356096686465294,2.1775369436370027,0.4948293859869428,-0.12634359535027728,0.5515697606392707,-0.7817494449281183,1.168703603757188,1.0632746888968312,0.5928503508023099,-0.48452447812260047,2.471398018677528,0.0320537702562301,-1.2132812417956753,-0.3147939787890694,0.8410529978982227,-0.5513828889586566,0.6123404127705531,-0.7787436701085488,-1.1170001747219052,-0.5855935605970888,0.007561232728142446,0.5054553025090613,-0.134028957426057,2.4810376480615144,1.9949948194179672,0.3913991206519806,-0.3872507585745515,-1.8004463541736992,1.4480733436083826,-1.735085442897729,1.791726625268079,0.22312852195532035,-0.17831185991010187,-0.1342515593153074,3.064660548554613,-0.2567088207163651,1.9759774418795923,-0.23412258600826766,-0.4692604812153284,-0.19256176835937983,-1.9612341837422296,1.6231965239335477,-0.6870279081201187,0.13469205743861082,1.2128703557234293,1.2922561840488511,0.9025536852040918,-0.5283235308581054,0.8419027821447392,-1.496797888222635,-0.49694884262671085,0.06126558484265961,-0.2895372319404262,-1.1338328750070126,-0.6649022974941925,0.33940798232820063,0.9026626694446349,1.119667959555071,0.14558202217431568,-0.8702993232331738,0.1886403378793685,0.9743523532494787,-2.2982701623404735,1.090851860680595,-1.130490055546931,-0.05470785652087121,2.831359429291828],\"xaxis\":\"x4\",\"y\":[-0.23833749478084632,0.6501994394768832,0.69240112895364,1.5320970914057563,1.5143536412100664,0.9091328451299554,0.5633932306807066,-0.6957450025151292,-0.3293951092999953,0.07112715282153531,1.3871289338711221,-0.30275030951868354,0.4325520012397575,0.3557928642971695,-0.14842497025923618,0.5618247664499927,0.05994346882977397,-1.4735100631741256,-0.08917911520644622,1.7363207791384538,-0.14329310593151515,0.15611611177600046,0.5406570368378665,-0.9957010147824803,1.387177334594978,0.1310498324631058,-0.22314038016345794,0.08879164066410501,-0.8810051288147794,-0.9770286284628511,-0.6715971578254221,1.3002560139455641,2.321624410335273,-0.15289584456586722,-0.6972843987992097,0.5931203866351997,0.9130042417329262,-0.3295338415521216,-1.3016776038004398,1.960484862694741,2.2802574608931754,-1.55531604820331,-0.4757202431700581,1.4373273727690996,-1.0070240274826834,1.2629202246100506,0.12856968538899607,-1.1243817895047012,0.04653002549161323,0.4369480939055736,0.2693438575066526,1.8038758704998965,0.1029603524630663,1.6081370990783066,-0.1378580105992773,0.5793942859228219,-0.14858741009587503,-0.19768016506777614,1.048015998868027,0.630830200972105,-1.5016688943855903,-0.42725460179513036,0.6632276199073781,0.03905584833789047,1.7065901060137059,-1.1400524905628655,0.4061750213104448,-0.3410890234644094,0.528994584107765,-0.44653772676211606,1.0273411655950548,-0.7616521517056599,-0.2990750926136947,0.7438791605337584,-0.6864816773203487,0.29972132855314054,0.0635865919701606,1.1160715054732728,0.23893414638922392,-3.0791028296082588,0.5628299582121862,1.3428877260800716,0.16002233058937887,-1.908974501388095,-1.063113689959441,-1.6701307613421852,0.6415131291626535,-1.4708631052358239,0.4542836706219212,-0.1803329649366861,2.3448185248734807,-0.42455083915233127,1.3596741223109698,-0.6387336708337593,-1.199901298038498,-0.46670532426178835,-1.9657923377437196,-2.5721533669425205,1.255546642935715,0.12504483924872897],\"yaxis\":\"y4\",\"type\":\"scatter\"},{\"line\":{\"color\":\"rgba(128, 128, 128, 1.0)\",\"dash\":\"solid\",\"shape\":\"linear\",\"width\":1.3},\"marker\":{\"size\":2,\"symbol\":\"circle\"},\"mode\":\"markers\",\"name\":\"B\",\"text\":\"\",\"x\":[-0.23833749478084632,0.6501994394768832,0.69240112895364,1.5320970914057563,1.5143536412100664,0.9091328451299554,0.5633932306807066,-0.6957450025151292,-0.3293951092999953,0.07112715282153531,1.3871289338711221,-0.30275030951868354,0.4325520012397575,0.3557928642971695,-0.14842497025923618,0.5618247664499927,0.05994346882977397,-1.4735100631741256,-0.08917911520644622,1.7363207791384538,-0.14329310593151515,0.15611611177600046,0.5406570368378665,-0.9957010147824803,1.387177334594978,0.1310498324631058,-0.22314038016345794,0.08879164066410501,-0.8810051288147794,-0.9770286284628511,-0.6715971578254221,1.3002560139455641,2.321624410335273,-0.15289584456586722,-0.6972843987992097,0.5931203866351997,0.9130042417329262,-0.3295338415521216,-1.3016776038004398,1.960484862694741,2.2802574608931754,-1.55531604820331,-0.4757202431700581,1.4373273727690996,-1.0070240274826834,1.2629202246100506,0.12856968538899607,-1.1243817895047012,0.04653002549161323,0.4369480939055736,0.2693438575066526,1.8038758704998965,0.1029603524630663,1.6081370990783066,-0.1378580105992773,0.5793942859228219,-0.14858741009587503,-0.19768016506777614,1.048015998868027,0.630830200972105,-1.5016688943855903,-0.42725460179513036,0.6632276199073781,0.03905584833789047,1.7065901060137059,-1.1400524905628655,0.4061750213104448,-0.3410890234644094,0.528994584107765,-0.44653772676211606,1.0273411655950548,-0.7616521517056599,-0.2990750926136947,0.7438791605337584,-0.6864816773203487,0.29972132855314054,0.0635865919701606,1.1160715054732728,0.23893414638922392,-3.0791028296082588,0.5628299582121862,1.3428877260800716,0.16002233058937887,-1.908974501388095,-1.063113689959441,-1.6701307613421852,0.6415131291626535,-1.4708631052358239,0.4542836706219212,-0.1803329649366861,2.3448185248734807,-0.42455083915233127,1.3596741223109698,-0.6387336708337593,-1.199901298038498,-0.46670532426178835,-1.9657923377437196,-2.5721533669425205,1.255546642935715,0.12504483924872897],\"xaxis\":\"x5\",\"y\":[-0.06291427450316933,-1.5322731602884292,2.028348772987773,0.6693932445647333,-1.784146484904668,0.5629194960966317,-1.1531714182196977,-1.198881273469872,-0.3599836499936697,-1.5859282623298518,0.43249326298018725,0.006334251206168981,-0.26156984664420363,-0.5542522296562603,0.6615866179143592,-1.324140148711569,0.34809760005611035,0.22845512200847662,0.7507214599572216,-0.4860243963364303,1.1966633637001574,-1.2290464952865618,0.39754334761882865,1.6994877438337332,0.7416418706957048,0.6403585630531775,-0.8734327491302029,-0.392926611428367,0.5749885606001245,-2.0467397051668876,0.49166689329736457,1.4036586051368503,-0.8307840514047554,0.6335495113267404,1.1820666940436422,-1.075705232012773,1.1881493161215,-1.423278677749765,-0.6430643428642822,-0.3293289381854944,-0.6547480913773267,-0.8463597065410111,-0.0024702289586539285,-1.0612818837077704,0.1254377076446763,-0.404602263867722,-0.7446729897259533,0.2186432671211768,1.2500505771424142,-0.8238305736789608,0.9222414596307853,-0.015284416785555715,-0.22472721377838545,0.0030087357121871758,0.08870220788145161,0.8984932568044094,0.14441621658763268,-0.4512488727289043,1.1375588391431979,-0.6527449377415648,0.27328665505704497,0.8823114753761337,0.00732754794294055,1.413438055483529,-0.5078282211761682,-0.8144068941811758,0.8789189975450421,-0.4161014934626199,1.2354275217687003,-0.4247058207211809,-1.8070468171353722,-0.07483434418167269,-0.8290768762316153,0.0323215009305928,-0.46818557550193923,-0.678510243789971,-0.326508032144984,-0.332445340739474,-0.08272614551191813,1.0935692828179533,0.2059558797739144,-0.4350877289157243,0.58286721728474,-0.5766016189112366,-1.0735566071205689,1.0114973460848427,-0.6641909267070367,-0.7784262569825346,-0.7927172147205591,-0.792636498224324,0.4303546660014756,0.6293061385726557,0.9161824688845475,-1.2931998909956706,0.3963712146012255,-1.0923974264157994,-0.9439165040572574,1.446733011848096,2.659876209227425,-1.4368341467410388],\"yaxis\":\"y5\",\"type\":\"scatter\"},{\"histfunc\":\"count\",\"histnorm\":\"\",\"marker\":{\"color\":\"rgba(55, 128, 191, 1.0)\",\"line\":{\"color\":\"#4D5663\",\"width\":1.3}},\"name\":\"B\",\"nbinsx\":10,\"opacity\":0.8,\"orientation\":\"v\",\"x\":[-0.06291427450316933,-1.5322731602884292,2.028348772987773,0.6693932445647333,-1.784146484904668,0.5629194960966317,-1.1531714182196977,-1.198881273469872,-0.3599836499936697,-1.5859282623298518,0.43249326298018725,0.006334251206168981,-0.26156984664420363,-0.5542522296562603,0.6615866179143592,-1.324140148711569,0.34809760005611035,0.22845512200847662,0.7507214599572216,-0.4860243963364303,1.1966633637001574,-1.2290464952865618,0.39754334761882865,1.6994877438337332,0.7416418706957048,0.6403585630531775,-0.8734327491302029,-0.392926611428367,0.5749885606001245,-2.0467397051668876,0.49166689329736457,1.4036586051368503,-0.8307840514047554,0.6335495113267404,1.1820666940436422,-1.075705232012773,1.1881493161215,-1.423278677749765,-0.6430643428642822,-0.3293289381854944,-0.6547480913773267,-0.8463597065410111,-0.0024702289586539285,-1.0612818837077704,0.1254377076446763,-0.404602263867722,-0.7446729897259533,0.2186432671211768,1.2500505771424142,-0.8238305736789608,0.9222414596307853,-0.015284416785555715,-0.22472721377838545,0.0030087357121871758,0.08870220788145161,0.8984932568044094,0.14441621658763268,-0.4512488727289043,1.1375588391431979,-0.6527449377415648,0.27328665505704497,0.8823114753761337,0.00732754794294055,1.413438055483529,-0.5078282211761682,-0.8144068941811758,0.8789189975450421,-0.4161014934626199,1.2354275217687003,-0.4247058207211809,-1.8070468171353722,-0.07483434418167269,-0.8290768762316153,0.0323215009305928,-0.46818557550193923,-0.678510243789971,-0.326508032144984,-0.332445340739474,-0.08272614551191813,1.0935692828179533,0.2059558797739144,-0.4350877289157243,0.58286721728474,-0.5766016189112366,-1.0735566071205689,1.0114973460848427,-0.6641909267070367,-0.7784262569825346,-0.7927172147205591,-0.792636498224324,0.4303546660014756,0.6293061385726557,0.9161824688845475,-1.2931998909956706,0.3963712146012255,-1.0923974264157994,-0.9439165040572574,1.446733011848096,2.659876209227425,-1.4368341467410388],\"xaxis\":\"x6\",\"yaxis\":\"y6\",\"type\":\"histogram\"},{\"line\":{\"color\":\"rgba(128, 128, 128, 1.0)\",\"dash\":\"solid\",\"shape\":\"linear\",\"width\":1.3},\"marker\":{\"size\":2,\"symbol\":\"circle\"},\"mode\":\"markers\",\"name\":\"B\",\"text\":\"\",\"x\":[-1.0150659689487147,2.4396069488032004,-1.0514821902214544,0.025786994760816077,0.48322859921099276,-0.4713532665428161,1.1436149986359878,-1.3128261233699856,-0.2912887547934578,1.039967082869105,-1.2843076748845133,1.073342564131795,-0.8843569377025369,0.6558533134970753,0.7419265491553783,-0.36327706865560755,-0.07345510361056795,-1.0612208963079712,0.6679856736507008,0.441518726846609,-0.12011044158825018,-2.803927213926374,1.0534290050662707,-0.17728000698749297,-1.1366462406419275,0.05517776174957644,-0.5095312481923084,-1.4083290572757459,-1.3502810759787633,1.1010685067401154,1.3597498360665201,-1.653068798167152,0.3603041379925434,-1.0258913919715984,-0.5887645509273518,-0.6226080766418056,0.2757135067272518,1.5670278179236714,-0.03438956511296057,0.5646557786163486,-0.40049686928198874,0.5682714687046483,0.5106595362063697,0.4876875655268923,-1.0365701372832248,0.148753131420438,-0.7862128711346452,1.1610530422171528,-1.7584960556237275,-1.0996052338366407,0.5550921060825537,-0.07194723058616423,0.09874844773802363,-0.4289801702715877,0.27700922642152415,1.9446504729028886,-0.17081785777879283,-0.3397090921659036,0.1163343778242112,0.4974586729775939,-1.0145727727320606,0.9668061343377845,-1.195043377548783,-0.5275585370225807,2.2253408079614423,-0.9149325662020059,-1.9910130099560681,1.104037547093716,-0.5948118495939628,-0.5714118575752235,-1.9450022867837182,-1.0504344320553727,0.15838932114169152,-0.9115035290858265,0.043653088138158616,0.8967081481912822,1.8324806901016975,-0.17421799579891237,0.6025750586775659,0.01661511897748368,-0.09490050931702307,1.7329566918601587,0.6146070890461516,-0.8180565346431806,1.1496174165297404,0.9420873200673806,-0.8544064772026969,-0.23058590602236753,-0.5596922214896065,1.2956915909558462,1.6340132748923069,-0.1760196401199447,1.73319140559922,-1.435564489500065,0.23477011573606574,-0.7783744915371498,-1.1122868170232463,-0.853933282237851,-0.1937175967392873,0.4251853382724826],\"xaxis\":\"x7\",\"y\":[-0.06291427450316933,-1.5322731602884292,2.028348772987773,0.6693932445647333,-1.784146484904668,0.5629194960966317,-1.1531714182196977,-1.198881273469872,-0.3599836499936697,-1.5859282623298518,0.43249326298018725,0.006334251206168981,-0.26156984664420363,-0.5542522296562603,0.6615866179143592,-1.324140148711569,0.34809760005611035,0.22845512200847662,0.7507214599572216,-0.4860243963364303,1.1966633637001574,-1.2290464952865618,0.39754334761882865,1.6994877438337332,0.7416418706957048,0.6403585630531775,-0.8734327491302029,-0.392926611428367,0.5749885606001245,-2.0467397051668876,0.49166689329736457,1.4036586051368503,-0.8307840514047554,0.6335495113267404,1.1820666940436422,-1.075705232012773,1.1881493161215,-1.423278677749765,-0.6430643428642822,-0.3293289381854944,-0.6547480913773267,-0.8463597065410111,-0.0024702289586539285,-1.0612818837077704,0.1254377076446763,-0.404602263867722,-0.7446729897259533,0.2186432671211768,1.2500505771424142,-0.8238305736789608,0.9222414596307853,-0.015284416785555715,-0.22472721377838545,0.0030087357121871758,0.08870220788145161,0.8984932568044094,0.14441621658763268,-0.4512488727289043,1.1375588391431979,-0.6527449377415648,0.27328665505704497,0.8823114753761337,0.00732754794294055,1.413438055483529,-0.5078282211761682,-0.8144068941811758,0.8789189975450421,-0.4161014934626199,1.2354275217687003,-0.4247058207211809,-1.8070468171353722,-0.07483434418167269,-0.8290768762316153,0.0323215009305928,-0.46818557550193923,-0.678510243789971,-0.326508032144984,-0.332445340739474,-0.08272614551191813,1.0935692828179533,0.2059558797739144,-0.4350877289157243,0.58286721728474,-0.5766016189112366,-1.0735566071205689,1.0114973460848427,-0.6641909267070367,-0.7784262569825346,-0.7927172147205591,-0.792636498224324,0.4303546660014756,0.6293061385726557,0.9161824688845475,-1.2931998909956706,0.3963712146012255,-1.0923974264157994,-0.9439165040572574,1.446733011848096,2.659876209227425,-1.4368341467410388],\"yaxis\":\"y7\",\"type\":\"scatter\"},{\"line\":{\"color\":\"rgba(128, 128, 128, 1.0)\",\"dash\":\"solid\",\"shape\":\"linear\",\"width\":1.3},\"marker\":{\"size\":2,\"symbol\":\"circle\"},\"mode\":\"markers\",\"name\":\"B\",\"text\":\"\",\"x\":[-0.11420890555588285,-0.18015600719370806,0.4467383032836302,0.5134964052696426,-2.506825030725312,-0.30496628040293366,-0.8793998563115474,-0.07250883132508364,-0.11111811357587129,1.5151277061489496,-1.6947082063992764,2.5528215620763284,-0.19190944351111974,-1.965756154674671,1.1193011182579384,1.945523608659881,-1.548098759567209,0.8123488904543115,-0.3225284134510511,3.363765957377816,-0.09040794345171485,1.5409372325812711,-0.1524503640369373,-0.9211225662963648,-0.234664343283136,-0.5988387987441645,1.9640046099329038,-1.9059093534907663,-0.30501271196983526,-0.07003303235654587,0.4273691216130949,0.5344919229822604,1.3648893776046511,0.14356096686465294,2.1775369436370027,0.4948293859869428,-0.12634359535027728,0.5515697606392707,-0.7817494449281183,1.168703603757188,1.0632746888968312,0.5928503508023099,-0.48452447812260047,2.471398018677528,0.0320537702562301,-1.2132812417956753,-0.3147939787890694,0.8410529978982227,-0.5513828889586566,0.6123404127705531,-0.7787436701085488,-1.1170001747219052,-0.5855935605970888,0.007561232728142446,0.5054553025090613,-0.134028957426057,2.4810376480615144,1.9949948194179672,0.3913991206519806,-0.3872507585745515,-1.8004463541736992,1.4480733436083826,-1.735085442897729,1.791726625268079,0.22312852195532035,-0.17831185991010187,-0.1342515593153074,3.064660548554613,-0.2567088207163651,1.9759774418795923,-0.23412258600826766,-0.4692604812153284,-0.19256176835937983,-1.9612341837422296,1.6231965239335477,-0.6870279081201187,0.13469205743861082,1.2128703557234293,1.2922561840488511,0.9025536852040918,-0.5283235308581054,0.8419027821447392,-1.496797888222635,-0.49694884262671085,0.06126558484265961,-0.2895372319404262,-1.1338328750070126,-0.6649022974941925,0.33940798232820063,0.9026626694446349,1.119667959555071,0.14558202217431568,-0.8702993232331738,0.1886403378793685,0.9743523532494787,-2.2982701623404735,1.090851860680595,-1.130490055546931,-0.05470785652087121,2.831359429291828],\"xaxis\":\"x8\",\"y\":[-0.06291427450316933,-1.5322731602884292,2.028348772987773,0.6693932445647333,-1.784146484904668,0.5629194960966317,-1.1531714182196977,-1.198881273469872,-0.3599836499936697,-1.5859282623298518,0.43249326298018725,0.006334251206168981,-0.26156984664420363,-0.5542522296562603,0.6615866179143592,-1.324140148711569,0.34809760005611035,0.22845512200847662,0.7507214599572216,-0.4860243963364303,1.1966633637001574,-1.2290464952865618,0.39754334761882865,1.6994877438337332,0.7416418706957048,0.6403585630531775,-0.8734327491302029,-0.392926611428367,0.5749885606001245,-2.0467397051668876,0.49166689329736457,1.4036586051368503,-0.8307840514047554,0.6335495113267404,1.1820666940436422,-1.075705232012773,1.1881493161215,-1.423278677749765,-0.6430643428642822,-0.3293289381854944,-0.6547480913773267,-0.8463597065410111,-0.0024702289586539285,-1.0612818837077704,0.1254377076446763,-0.404602263867722,-0.7446729897259533,0.2186432671211768,1.2500505771424142,-0.8238305736789608,0.9222414596307853,-0.015284416785555715,-0.22472721377838545,0.0030087357121871758,0.08870220788145161,0.8984932568044094,0.14441621658763268,-0.4512488727289043,1.1375588391431979,-0.6527449377415648,0.27328665505704497,0.8823114753761337,0.00732754794294055,1.413438055483529,-0.5078282211761682,-0.8144068941811758,0.8789189975450421,-0.4161014934626199,1.2354275217687003,-0.4247058207211809,-1.8070468171353722,-0.07483434418167269,-0.8290768762316153,0.0323215009305928,-0.46818557550193923,-0.678510243789971,-0.326508032144984,-0.332445340739474,-0.08272614551191813,1.0935692828179533,0.2059558797739144,-0.4350877289157243,0.58286721728474,-0.5766016189112366,-1.0735566071205689,1.0114973460848427,-0.6641909267070367,-0.7784262569825346,-0.7927172147205591,-0.792636498224324,0.4303546660014756,0.6293061385726557,0.9161824688845475,-1.2931998909956706,0.3963712146012255,-1.0923974264157994,-0.9439165040572574,1.446733011848096,2.659876209227425,-1.4368341467410388],\"yaxis\":\"y8\",\"type\":\"scatter\"},{\"line\":{\"color\":\"rgba(128, 128, 128, 1.0)\",\"dash\":\"solid\",\"shape\":\"linear\",\"width\":1.3},\"marker\":{\"size\":2,\"symbol\":\"circle\"},\"mode\":\"markers\",\"name\":\"C\",\"text\":\"\",\"x\":[-0.23833749478084632,0.6501994394768832,0.69240112895364,1.5320970914057563,1.5143536412100664,0.9091328451299554,0.5633932306807066,-0.6957450025151292,-0.3293951092999953,0.07112715282153531,1.3871289338711221,-0.30275030951868354,0.4325520012397575,0.3557928642971695,-0.14842497025923618,0.5618247664499927,0.05994346882977397,-1.4735100631741256,-0.08917911520644622,1.7363207791384538,-0.14329310593151515,0.15611611177600046,0.5406570368378665,-0.9957010147824803,1.387177334594978,0.1310498324631058,-0.22314038016345794,0.08879164066410501,-0.8810051288147794,-0.9770286284628511,-0.6715971578254221,1.3002560139455641,2.321624410335273,-0.15289584456586722,-0.6972843987992097,0.5931203866351997,0.9130042417329262,-0.3295338415521216,-1.3016776038004398,1.960484862694741,2.2802574608931754,-1.55531604820331,-0.4757202431700581,1.4373273727690996,-1.0070240274826834,1.2629202246100506,0.12856968538899607,-1.1243817895047012,0.04653002549161323,0.4369480939055736,0.2693438575066526,1.8038758704998965,0.1029603524630663,1.6081370990783066,-0.1378580105992773,0.5793942859228219,-0.14858741009587503,-0.19768016506777614,1.048015998868027,0.630830200972105,-1.5016688943855903,-0.42725460179513036,0.6632276199073781,0.03905584833789047,1.7065901060137059,-1.1400524905628655,0.4061750213104448,-0.3410890234644094,0.528994584107765,-0.44653772676211606,1.0273411655950548,-0.7616521517056599,-0.2990750926136947,0.7438791605337584,-0.6864816773203487,0.29972132855314054,0.0635865919701606,1.1160715054732728,0.23893414638922392,-3.0791028296082588,0.5628299582121862,1.3428877260800716,0.16002233058937887,-1.908974501388095,-1.063113689959441,-1.6701307613421852,0.6415131291626535,-1.4708631052358239,0.4542836706219212,-0.1803329649366861,2.3448185248734807,-0.42455083915233127,1.3596741223109698,-0.6387336708337593,-1.199901298038498,-0.46670532426178835,-1.9657923377437196,-2.5721533669425205,1.255546642935715,0.12504483924872897],\"xaxis\":\"x9\",\"y\":[-1.0150659689487147,2.4396069488032004,-1.0514821902214544,0.025786994760816077,0.48322859921099276,-0.4713532665428161,1.1436149986359878,-1.3128261233699856,-0.2912887547934578,1.039967082869105,-1.2843076748845133,1.073342564131795,-0.8843569377025369,0.6558533134970753,0.7419265491553783,-0.36327706865560755,-0.07345510361056795,-1.0612208963079712,0.6679856736507008,0.441518726846609,-0.12011044158825018,-2.803927213926374,1.0534290050662707,-0.17728000698749297,-1.1366462406419275,0.05517776174957644,-0.5095312481923084,-1.4083290572757459,-1.3502810759787633,1.1010685067401154,1.3597498360665201,-1.653068798167152,0.3603041379925434,-1.0258913919715984,-0.5887645509273518,-0.6226080766418056,0.2757135067272518,1.5670278179236714,-0.03438956511296057,0.5646557786163486,-0.40049686928198874,0.5682714687046483,0.5106595362063697,0.4876875655268923,-1.0365701372832248,0.148753131420438,-0.7862128711346452,1.1610530422171528,-1.7584960556237275,-1.0996052338366407,0.5550921060825537,-0.07194723058616423,0.09874844773802363,-0.4289801702715877,0.27700922642152415,1.9446504729028886,-0.17081785777879283,-0.3397090921659036,0.1163343778242112,0.4974586729775939,-1.0145727727320606,0.9668061343377845,-1.195043377548783,-0.5275585370225807,2.2253408079614423,-0.9149325662020059,-1.9910130099560681,1.104037547093716,-0.5948118495939628,-0.5714118575752235,-1.9450022867837182,-1.0504344320553727,0.15838932114169152,-0.9115035290858265,0.043653088138158616,0.8967081481912822,1.8324806901016975,-0.17421799579891237,0.6025750586775659,0.01661511897748368,-0.09490050931702307,1.7329566918601587,0.6146070890461516,-0.8180565346431806,1.1496174165297404,0.9420873200673806,-0.8544064772026969,-0.23058590602236753,-0.5596922214896065,1.2956915909558462,1.6340132748923069,-0.1760196401199447,1.73319140559922,-1.435564489500065,0.23477011573606574,-0.7783744915371498,-1.1122868170232463,-0.853933282237851,-0.1937175967392873,0.4251853382724826],\"yaxis\":\"y9\",\"type\":\"scatter\"},{\"line\":{\"color\":\"rgba(128, 128, 128, 1.0)\",\"dash\":\"solid\",\"shape\":\"linear\",\"width\":1.3},\"marker\":{\"size\":2,\"symbol\":\"circle\"},\"mode\":\"markers\",\"name\":\"C\",\"text\":\"\",\"x\":[-0.06291427450316933,-1.5322731602884292,2.028348772987773,0.6693932445647333,-1.784146484904668,0.5629194960966317,-1.1531714182196977,-1.198881273469872,-0.3599836499936697,-1.5859282623298518,0.43249326298018725,0.006334251206168981,-0.26156984664420363,-0.5542522296562603,0.6615866179143592,-1.324140148711569,0.34809760005611035,0.22845512200847662,0.7507214599572216,-0.4860243963364303,1.1966633637001574,-1.2290464952865618,0.39754334761882865,1.6994877438337332,0.7416418706957048,0.6403585630531775,-0.8734327491302029,-0.392926611428367,0.5749885606001245,-2.0467397051668876,0.49166689329736457,1.4036586051368503,-0.8307840514047554,0.6335495113267404,1.1820666940436422,-1.075705232012773,1.1881493161215,-1.423278677749765,-0.6430643428642822,-0.3293289381854944,-0.6547480913773267,-0.8463597065410111,-0.0024702289586539285,-1.0612818837077704,0.1254377076446763,-0.404602263867722,-0.7446729897259533,0.2186432671211768,1.2500505771424142,-0.8238305736789608,0.9222414596307853,-0.015284416785555715,-0.22472721377838545,0.0030087357121871758,0.08870220788145161,0.8984932568044094,0.14441621658763268,-0.4512488727289043,1.1375588391431979,-0.6527449377415648,0.27328665505704497,0.8823114753761337,0.00732754794294055,1.413438055483529,-0.5078282211761682,-0.8144068941811758,0.8789189975450421,-0.4161014934626199,1.2354275217687003,-0.4247058207211809,-1.8070468171353722,-0.07483434418167269,-0.8290768762316153,0.0323215009305928,-0.46818557550193923,-0.678510243789971,-0.326508032144984,-0.332445340739474,-0.08272614551191813,1.0935692828179533,0.2059558797739144,-0.4350877289157243,0.58286721728474,-0.5766016189112366,-1.0735566071205689,1.0114973460848427,-0.6641909267070367,-0.7784262569825346,-0.7927172147205591,-0.792636498224324,0.4303546660014756,0.6293061385726557,0.9161824688845475,-1.2931998909956706,0.3963712146012255,-1.0923974264157994,-0.9439165040572574,1.446733011848096,2.659876209227425,-1.4368341467410388],\"xaxis\":\"x10\",\"y\":[-1.0150659689487147,2.4396069488032004,-1.0514821902214544,0.025786994760816077,0.48322859921099276,-0.4713532665428161,1.1436149986359878,-1.3128261233699856,-0.2912887547934578,1.039967082869105,-1.2843076748845133,1.073342564131795,-0.8843569377025369,0.6558533134970753,0.7419265491553783,-0.36327706865560755,-0.07345510361056795,-1.0612208963079712,0.6679856736507008,0.441518726846609,-0.12011044158825018,-2.803927213926374,1.0534290050662707,-0.17728000698749297,-1.1366462406419275,0.05517776174957644,-0.5095312481923084,-1.4083290572757459,-1.3502810759787633,1.1010685067401154,1.3597498360665201,-1.653068798167152,0.3603041379925434,-1.0258913919715984,-0.5887645509273518,-0.6226080766418056,0.2757135067272518,1.5670278179236714,-0.03438956511296057,0.5646557786163486,-0.40049686928198874,0.5682714687046483,0.5106595362063697,0.4876875655268923,-1.0365701372832248,0.148753131420438,-0.7862128711346452,1.1610530422171528,-1.7584960556237275,-1.0996052338366407,0.5550921060825537,-0.07194723058616423,0.09874844773802363,-0.4289801702715877,0.27700922642152415,1.9446504729028886,-0.17081785777879283,-0.3397090921659036,0.1163343778242112,0.4974586729775939,-1.0145727727320606,0.9668061343377845,-1.195043377548783,-0.5275585370225807,2.2253408079614423,-0.9149325662020059,-1.9910130099560681,1.104037547093716,-0.5948118495939628,-0.5714118575752235,-1.9450022867837182,-1.0504344320553727,0.15838932114169152,-0.9115035290858265,0.043653088138158616,0.8967081481912822,1.8324806901016975,-0.17421799579891237,0.6025750586775659,0.01661511897748368,-0.09490050931702307,1.7329566918601587,0.6146070890461516,-0.8180565346431806,1.1496174165297404,0.9420873200673806,-0.8544064772026969,-0.23058590602236753,-0.5596922214896065,1.2956915909558462,1.6340132748923069,-0.1760196401199447,1.73319140559922,-1.435564489500065,0.23477011573606574,-0.7783744915371498,-1.1122868170232463,-0.853933282237851,-0.1937175967392873,0.4251853382724826],\"yaxis\":\"y10\",\"type\":\"scatter\"},{\"histfunc\":\"count\",\"histnorm\":\"\",\"marker\":{\"color\":\"rgba(50, 171, 96, 1.0)\",\"line\":{\"color\":\"#4D5663\",\"width\":1.3}},\"name\":\"C\",\"nbinsx\":10,\"opacity\":0.8,\"orientation\":\"v\",\"x\":[-1.0150659689487147,2.4396069488032004,-1.0514821902214544,0.025786994760816077,0.48322859921099276,-0.4713532665428161,1.1436149986359878,-1.3128261233699856,-0.2912887547934578,1.039967082869105,-1.2843076748845133,1.073342564131795,-0.8843569377025369,0.6558533134970753,0.7419265491553783,-0.36327706865560755,-0.07345510361056795,-1.0612208963079712,0.6679856736507008,0.441518726846609,-0.12011044158825018,-2.803927213926374,1.0534290050662707,-0.17728000698749297,-1.1366462406419275,0.05517776174957644,-0.5095312481923084,-1.4083290572757459,-1.3502810759787633,1.1010685067401154,1.3597498360665201,-1.653068798167152,0.3603041379925434,-1.0258913919715984,-0.5887645509273518,-0.6226080766418056,0.2757135067272518,1.5670278179236714,-0.03438956511296057,0.5646557786163486,-0.40049686928198874,0.5682714687046483,0.5106595362063697,0.4876875655268923,-1.0365701372832248,0.148753131420438,-0.7862128711346452,1.1610530422171528,-1.7584960556237275,-1.0996052338366407,0.5550921060825537,-0.07194723058616423,0.09874844773802363,-0.4289801702715877,0.27700922642152415,1.9446504729028886,-0.17081785777879283,-0.3397090921659036,0.1163343778242112,0.4974586729775939,-1.0145727727320606,0.9668061343377845,-1.195043377548783,-0.5275585370225807,2.2253408079614423,-0.9149325662020059,-1.9910130099560681,1.104037547093716,-0.5948118495939628,-0.5714118575752235,-1.9450022867837182,-1.0504344320553727,0.15838932114169152,-0.9115035290858265,0.043653088138158616,0.8967081481912822,1.8324806901016975,-0.17421799579891237,0.6025750586775659,0.01661511897748368,-0.09490050931702307,1.7329566918601587,0.6146070890461516,-0.8180565346431806,1.1496174165297404,0.9420873200673806,-0.8544064772026969,-0.23058590602236753,-0.5596922214896065,1.2956915909558462,1.6340132748923069,-0.1760196401199447,1.73319140559922,-1.435564489500065,0.23477011573606574,-0.7783744915371498,-1.1122868170232463,-0.853933282237851,-0.1937175967392873,0.4251853382724826],\"xaxis\":\"x11\",\"yaxis\":\"y11\",\"type\":\"histogram\"},{\"line\":{\"color\":\"rgba(128, 128, 128, 1.0)\",\"dash\":\"solid\",\"shape\":\"linear\",\"width\":1.3},\"marker\":{\"size\":2,\"symbol\":\"circle\"},\"mode\":\"markers\",\"name\":\"C\",\"text\":\"\",\"x\":[-0.11420890555588285,-0.18015600719370806,0.4467383032836302,0.5134964052696426,-2.506825030725312,-0.30496628040293366,-0.8793998563115474,-0.07250883132508364,-0.11111811357587129,1.5151277061489496,-1.6947082063992764,2.5528215620763284,-0.19190944351111974,-1.965756154674671,1.1193011182579384,1.945523608659881,-1.548098759567209,0.8123488904543115,-0.3225284134510511,3.363765957377816,-0.09040794345171485,1.5409372325812711,-0.1524503640369373,-0.9211225662963648,-0.234664343283136,-0.5988387987441645,1.9640046099329038,-1.9059093534907663,-0.30501271196983526,-0.07003303235654587,0.4273691216130949,0.5344919229822604,1.3648893776046511,0.14356096686465294,2.1775369436370027,0.4948293859869428,-0.12634359535027728,0.5515697606392707,-0.7817494449281183,1.168703603757188,1.0632746888968312,0.5928503508023099,-0.48452447812260047,2.471398018677528,0.0320537702562301,-1.2132812417956753,-0.3147939787890694,0.8410529978982227,-0.5513828889586566,0.6123404127705531,-0.7787436701085488,-1.1170001747219052,-0.5855935605970888,0.007561232728142446,0.5054553025090613,-0.134028957426057,2.4810376480615144,1.9949948194179672,0.3913991206519806,-0.3872507585745515,-1.8004463541736992,1.4480733436083826,-1.735085442897729,1.791726625268079,0.22312852195532035,-0.17831185991010187,-0.1342515593153074,3.064660548554613,-0.2567088207163651,1.9759774418795923,-0.23412258600826766,-0.4692604812153284,-0.19256176835937983,-1.9612341837422296,1.6231965239335477,-0.6870279081201187,0.13469205743861082,1.2128703557234293,1.2922561840488511,0.9025536852040918,-0.5283235308581054,0.8419027821447392,-1.496797888222635,-0.49694884262671085,0.06126558484265961,-0.2895372319404262,-1.1338328750070126,-0.6649022974941925,0.33940798232820063,0.9026626694446349,1.119667959555071,0.14558202217431568,-0.8702993232331738,0.1886403378793685,0.9743523532494787,-2.2982701623404735,1.090851860680595,-1.130490055546931,-0.05470785652087121,2.831359429291828],\"xaxis\":\"x12\",\"y\":[-1.0150659689487147,2.4396069488032004,-1.0514821902214544,0.025786994760816077,0.48322859921099276,-0.4713532665428161,1.1436149986359878,-1.3128261233699856,-0.2912887547934578,1.039967082869105,-1.2843076748845133,1.073342564131795,-0.8843569377025369,0.6558533134970753,0.7419265491553783,-0.36327706865560755,-0.07345510361056795,-1.0612208963079712,0.6679856736507008,0.441518726846609,-0.12011044158825018,-2.803927213926374,1.0534290050662707,-0.17728000698749297,-1.1366462406419275,0.05517776174957644,-0.5095312481923084,-1.4083290572757459,-1.3502810759787633,1.1010685067401154,1.3597498360665201,-1.653068798167152,0.3603041379925434,-1.0258913919715984,-0.5887645509273518,-0.6226080766418056,0.2757135067272518,1.5670278179236714,-0.03438956511296057,0.5646557786163486,-0.40049686928198874,0.5682714687046483,0.5106595362063697,0.4876875655268923,-1.0365701372832248,0.148753131420438,-0.7862128711346452,1.1610530422171528,-1.7584960556237275,-1.0996052338366407,0.5550921060825537,-0.07194723058616423,0.09874844773802363,-0.4289801702715877,0.27700922642152415,1.9446504729028886,-0.17081785777879283,-0.3397090921659036,0.1163343778242112,0.4974586729775939,-1.0145727727320606,0.9668061343377845,-1.195043377548783,-0.5275585370225807,2.2253408079614423,-0.9149325662020059,-1.9910130099560681,1.104037547093716,-0.5948118495939628,-0.5714118575752235,-1.9450022867837182,-1.0504344320553727,0.15838932114169152,-0.9115035290858265,0.043653088138158616,0.8967081481912822,1.8324806901016975,-0.17421799579891237,0.6025750586775659,0.01661511897748368,-0.09490050931702307,1.7329566918601587,0.6146070890461516,-0.8180565346431806,1.1496174165297404,0.9420873200673806,-0.8544064772026969,-0.23058590602236753,-0.5596922214896065,1.2956915909558462,1.6340132748923069,-0.1760196401199447,1.73319140559922,-1.435564489500065,0.23477011573606574,-0.7783744915371498,-1.1122868170232463,-0.853933282237851,-0.1937175967392873,0.4251853382724826],\"yaxis\":\"y12\",\"type\":\"scatter\"},{\"line\":{\"color\":\"rgba(128, 128, 128, 1.0)\",\"dash\":\"solid\",\"shape\":\"linear\",\"width\":1.3},\"marker\":{\"size\":2,\"symbol\":\"circle\"},\"mode\":\"markers\",\"name\":\"D\",\"text\":\"\",\"x\":[-0.23833749478084632,0.6501994394768832,0.69240112895364,1.5320970914057563,1.5143536412100664,0.9091328451299554,0.5633932306807066,-0.6957450025151292,-0.3293951092999953,0.07112715282153531,1.3871289338711221,-0.30275030951868354,0.4325520012397575,0.3557928642971695,-0.14842497025923618,0.5618247664499927,0.05994346882977397,-1.4735100631741256,-0.08917911520644622,1.7363207791384538,-0.14329310593151515,0.15611611177600046,0.5406570368378665,-0.9957010147824803,1.387177334594978,0.1310498324631058,-0.22314038016345794,0.08879164066410501,-0.8810051288147794,-0.9770286284628511,-0.6715971578254221,1.3002560139455641,2.321624410335273,-0.15289584456586722,-0.6972843987992097,0.5931203866351997,0.9130042417329262,-0.3295338415521216,-1.3016776038004398,1.960484862694741,2.2802574608931754,-1.55531604820331,-0.4757202431700581,1.4373273727690996,-1.0070240274826834,1.2629202246100506,0.12856968538899607,-1.1243817895047012,0.04653002549161323,0.4369480939055736,0.2693438575066526,1.8038758704998965,0.1029603524630663,1.6081370990783066,-0.1378580105992773,0.5793942859228219,-0.14858741009587503,-0.19768016506777614,1.048015998868027,0.630830200972105,-1.5016688943855903,-0.42725460179513036,0.6632276199073781,0.03905584833789047,1.7065901060137059,-1.1400524905628655,0.4061750213104448,-0.3410890234644094,0.528994584107765,-0.44653772676211606,1.0273411655950548,-0.7616521517056599,-0.2990750926136947,0.7438791605337584,-0.6864816773203487,0.29972132855314054,0.0635865919701606,1.1160715054732728,0.23893414638922392,-3.0791028296082588,0.5628299582121862,1.3428877260800716,0.16002233058937887,-1.908974501388095,-1.063113689959441,-1.6701307613421852,0.6415131291626535,-1.4708631052358239,0.4542836706219212,-0.1803329649366861,2.3448185248734807,-0.42455083915233127,1.3596741223109698,-0.6387336708337593,-1.199901298038498,-0.46670532426178835,-1.9657923377437196,-2.5721533669425205,1.255546642935715,0.12504483924872897],\"xaxis\":\"x13\",\"y\":[-0.11420890555588285,-0.18015600719370806,0.4467383032836302,0.5134964052696426,-2.506825030725312,-0.30496628040293366,-0.8793998563115474,-0.07250883132508364,-0.11111811357587129,1.5151277061489496,-1.6947082063992764,2.5528215620763284,-0.19190944351111974,-1.965756154674671,1.1193011182579384,1.945523608659881,-1.548098759567209,0.8123488904543115,-0.3225284134510511,3.363765957377816,-0.09040794345171485,1.5409372325812711,-0.1524503640369373,-0.9211225662963648,-0.234664343283136,-0.5988387987441645,1.9640046099329038,-1.9059093534907663,-0.30501271196983526,-0.07003303235654587,0.4273691216130949,0.5344919229822604,1.3648893776046511,0.14356096686465294,2.1775369436370027,0.4948293859869428,-0.12634359535027728,0.5515697606392707,-0.7817494449281183,1.168703603757188,1.0632746888968312,0.5928503508023099,-0.48452447812260047,2.471398018677528,0.0320537702562301,-1.2132812417956753,-0.3147939787890694,0.8410529978982227,-0.5513828889586566,0.6123404127705531,-0.7787436701085488,-1.1170001747219052,-0.5855935605970888,0.007561232728142446,0.5054553025090613,-0.134028957426057,2.4810376480615144,1.9949948194179672,0.3913991206519806,-0.3872507585745515,-1.8004463541736992,1.4480733436083826,-1.735085442897729,1.791726625268079,0.22312852195532035,-0.17831185991010187,-0.1342515593153074,3.064660548554613,-0.2567088207163651,1.9759774418795923,-0.23412258600826766,-0.4692604812153284,-0.19256176835937983,-1.9612341837422296,1.6231965239335477,-0.6870279081201187,0.13469205743861082,1.2128703557234293,1.2922561840488511,0.9025536852040918,-0.5283235308581054,0.8419027821447392,-1.496797888222635,-0.49694884262671085,0.06126558484265961,-0.2895372319404262,-1.1338328750070126,-0.6649022974941925,0.33940798232820063,0.9026626694446349,1.119667959555071,0.14558202217431568,-0.8702993232331738,0.1886403378793685,0.9743523532494787,-2.2982701623404735,1.090851860680595,-1.130490055546931,-0.05470785652087121,2.831359429291828],\"yaxis\":\"y13\",\"type\":\"scatter\"},{\"line\":{\"color\":\"rgba(128, 128, 128, 1.0)\",\"dash\":\"solid\",\"shape\":\"linear\",\"width\":1.3},\"marker\":{\"size\":2,\"symbol\":\"circle\"},\"mode\":\"markers\",\"name\":\"D\",\"text\":\"\",\"x\":[-0.06291427450316933,-1.5322731602884292,2.028348772987773,0.6693932445647333,-1.784146484904668,0.5629194960966317,-1.1531714182196977,-1.198881273469872,-0.3599836499936697,-1.5859282623298518,0.43249326298018725,0.006334251206168981,-0.26156984664420363,-0.5542522296562603,0.6615866179143592,-1.324140148711569,0.34809760005611035,0.22845512200847662,0.7507214599572216,-0.4860243963364303,1.1966633637001574,-1.2290464952865618,0.39754334761882865,1.6994877438337332,0.7416418706957048,0.6403585630531775,-0.8734327491302029,-0.392926611428367,0.5749885606001245,-2.0467397051668876,0.49166689329736457,1.4036586051368503,-0.8307840514047554,0.6335495113267404,1.1820666940436422,-1.075705232012773,1.1881493161215,-1.423278677749765,-0.6430643428642822,-0.3293289381854944,-0.6547480913773267,-0.8463597065410111,-0.0024702289586539285,-1.0612818837077704,0.1254377076446763,-0.404602263867722,-0.7446729897259533,0.2186432671211768,1.2500505771424142,-0.8238305736789608,0.9222414596307853,-0.015284416785555715,-0.22472721377838545,0.0030087357121871758,0.08870220788145161,0.8984932568044094,0.14441621658763268,-0.4512488727289043,1.1375588391431979,-0.6527449377415648,0.27328665505704497,0.8823114753761337,0.00732754794294055,1.413438055483529,-0.5078282211761682,-0.8144068941811758,0.8789189975450421,-0.4161014934626199,1.2354275217687003,-0.4247058207211809,-1.8070468171353722,-0.07483434418167269,-0.8290768762316153,0.0323215009305928,-0.46818557550193923,-0.678510243789971,-0.326508032144984,-0.332445340739474,-0.08272614551191813,1.0935692828179533,0.2059558797739144,-0.4350877289157243,0.58286721728474,-0.5766016189112366,-1.0735566071205689,1.0114973460848427,-0.6641909267070367,-0.7784262569825346,-0.7927172147205591,-0.792636498224324,0.4303546660014756,0.6293061385726557,0.9161824688845475,-1.2931998909956706,0.3963712146012255,-1.0923974264157994,-0.9439165040572574,1.446733011848096,2.659876209227425,-1.4368341467410388],\"xaxis\":\"x14\",\"y\":[-0.11420890555588285,-0.18015600719370806,0.4467383032836302,0.5134964052696426,-2.506825030725312,-0.30496628040293366,-0.8793998563115474,-0.07250883132508364,-0.11111811357587129,1.5151277061489496,-1.6947082063992764,2.5528215620763284,-0.19190944351111974,-1.965756154674671,1.1193011182579384,1.945523608659881,-1.548098759567209,0.8123488904543115,-0.3225284134510511,3.363765957377816,-0.09040794345171485,1.5409372325812711,-0.1524503640369373,-0.9211225662963648,-0.234664343283136,-0.5988387987441645,1.9640046099329038,-1.9059093534907663,-0.30501271196983526,-0.07003303235654587,0.4273691216130949,0.5344919229822604,1.3648893776046511,0.14356096686465294,2.1775369436370027,0.4948293859869428,-0.12634359535027728,0.5515697606392707,-0.7817494449281183,1.168703603757188,1.0632746888968312,0.5928503508023099,-0.48452447812260047,2.471398018677528,0.0320537702562301,-1.2132812417956753,-0.3147939787890694,0.8410529978982227,-0.5513828889586566,0.6123404127705531,-0.7787436701085488,-1.1170001747219052,-0.5855935605970888,0.007561232728142446,0.5054553025090613,-0.134028957426057,2.4810376480615144,1.9949948194179672,0.3913991206519806,-0.3872507585745515,-1.8004463541736992,1.4480733436083826,-1.735085442897729,1.791726625268079,0.22312852195532035,-0.17831185991010187,-0.1342515593153074,3.064660548554613,-0.2567088207163651,1.9759774418795923,-0.23412258600826766,-0.4692604812153284,-0.19256176835937983,-1.9612341837422296,1.6231965239335477,-0.6870279081201187,0.13469205743861082,1.2128703557234293,1.2922561840488511,0.9025536852040918,-0.5283235308581054,0.8419027821447392,-1.496797888222635,-0.49694884262671085,0.06126558484265961,-0.2895372319404262,-1.1338328750070126,-0.6649022974941925,0.33940798232820063,0.9026626694446349,1.119667959555071,0.14558202217431568,-0.8702993232331738,0.1886403378793685,0.9743523532494787,-2.2982701623404735,1.090851860680595,-1.130490055546931,-0.05470785652087121,2.831359429291828],\"yaxis\":\"y14\",\"type\":\"scatter\"},{\"line\":{\"color\":\"rgba(128, 128, 128, 1.0)\",\"dash\":\"solid\",\"shape\":\"linear\",\"width\":1.3},\"marker\":{\"size\":2,\"symbol\":\"circle\"},\"mode\":\"markers\",\"name\":\"D\",\"text\":\"\",\"x\":[-1.0150659689487147,2.4396069488032004,-1.0514821902214544,0.025786994760816077,0.48322859921099276,-0.4713532665428161,1.1436149986359878,-1.3128261233699856,-0.2912887547934578,1.039967082869105,-1.2843076748845133,1.073342564131795,-0.8843569377025369,0.6558533134970753,0.7419265491553783,-0.36327706865560755,-0.07345510361056795,-1.0612208963079712,0.6679856736507008,0.441518726846609,-0.12011044158825018,-2.803927213926374,1.0534290050662707,-0.17728000698749297,-1.1366462406419275,0.05517776174957644,-0.5095312481923084,-1.4083290572757459,-1.3502810759787633,1.1010685067401154,1.3597498360665201,-1.653068798167152,0.3603041379925434,-1.0258913919715984,-0.5887645509273518,-0.6226080766418056,0.2757135067272518,1.5670278179236714,-0.03438956511296057,0.5646557786163486,-0.40049686928198874,0.5682714687046483,0.5106595362063697,0.4876875655268923,-1.0365701372832248,0.148753131420438,-0.7862128711346452,1.1610530422171528,-1.7584960556237275,-1.0996052338366407,0.5550921060825537,-0.07194723058616423,0.09874844773802363,-0.4289801702715877,0.27700922642152415,1.9446504729028886,-0.17081785777879283,-0.3397090921659036,0.1163343778242112,0.4974586729775939,-1.0145727727320606,0.9668061343377845,-1.195043377548783,-0.5275585370225807,2.2253408079614423,-0.9149325662020059,-1.9910130099560681,1.104037547093716,-0.5948118495939628,-0.5714118575752235,-1.9450022867837182,-1.0504344320553727,0.15838932114169152,-0.9115035290858265,0.043653088138158616,0.8967081481912822,1.8324806901016975,-0.17421799579891237,0.6025750586775659,0.01661511897748368,-0.09490050931702307,1.7329566918601587,0.6146070890461516,-0.8180565346431806,1.1496174165297404,0.9420873200673806,-0.8544064772026969,-0.23058590602236753,-0.5596922214896065,1.2956915909558462,1.6340132748923069,-0.1760196401199447,1.73319140559922,-1.435564489500065,0.23477011573606574,-0.7783744915371498,-1.1122868170232463,-0.853933282237851,-0.1937175967392873,0.4251853382724826],\"xaxis\":\"x15\",\"y\":[-0.11420890555588285,-0.18015600719370806,0.4467383032836302,0.5134964052696426,-2.506825030725312,-0.30496628040293366,-0.8793998563115474,-0.07250883132508364,-0.11111811357587129,1.5151277061489496,-1.6947082063992764,2.5528215620763284,-0.19190944351111974,-1.965756154674671,1.1193011182579384,1.945523608659881,-1.548098759567209,0.8123488904543115,-0.3225284134510511,3.363765957377816,-0.09040794345171485,1.5409372325812711,-0.1524503640369373,-0.9211225662963648,-0.234664343283136,-0.5988387987441645,1.9640046099329038,-1.9059093534907663,-0.30501271196983526,-0.07003303235654587,0.4273691216130949,0.5344919229822604,1.3648893776046511,0.14356096686465294,2.1775369436370027,0.4948293859869428,-0.12634359535027728,0.5515697606392707,-0.7817494449281183,1.168703603757188,1.0632746888968312,0.5928503508023099,-0.48452447812260047,2.471398018677528,0.0320537702562301,-1.2132812417956753,-0.3147939787890694,0.8410529978982227,-0.5513828889586566,0.6123404127705531,-0.7787436701085488,-1.1170001747219052,-0.5855935605970888,0.007561232728142446,0.5054553025090613,-0.134028957426057,2.4810376480615144,1.9949948194179672,0.3913991206519806,-0.3872507585745515,-1.8004463541736992,1.4480733436083826,-1.735085442897729,1.791726625268079,0.22312852195532035,-0.17831185991010187,-0.1342515593153074,3.064660548554613,-0.2567088207163651,1.9759774418795923,-0.23412258600826766,-0.4692604812153284,-0.19256176835937983,-1.9612341837422296,1.6231965239335477,-0.6870279081201187,0.13469205743861082,1.2128703557234293,1.2922561840488511,0.9025536852040918,-0.5283235308581054,0.8419027821447392,-1.496797888222635,-0.49694884262671085,0.06126558484265961,-0.2895372319404262,-1.1338328750070126,-0.6649022974941925,0.33940798232820063,0.9026626694446349,1.119667959555071,0.14558202217431568,-0.8702993232331738,0.1886403378793685,0.9743523532494787,-2.2982701623404735,1.090851860680595,-1.130490055546931,-0.05470785652087121,2.831359429291828],\"yaxis\":\"y15\",\"type\":\"scatter\"},{\"histfunc\":\"count\",\"histnorm\":\"\",\"marker\":{\"color\":\"rgba(128, 0, 128, 1.0)\",\"line\":{\"color\":\"#4D5663\",\"width\":1.3}},\"name\":\"D\",\"nbinsx\":10,\"opacity\":0.8,\"orientation\":\"v\",\"x\":[-0.11420890555588285,-0.18015600719370806,0.4467383032836302,0.5134964052696426,-2.506825030725312,-0.30496628040293366,-0.8793998563115474,-0.07250883132508364,-0.11111811357587129,1.5151277061489496,-1.6947082063992764,2.5528215620763284,-0.19190944351111974,-1.965756154674671,1.1193011182579384,1.945523608659881,-1.548098759567209,0.8123488904543115,-0.3225284134510511,3.363765957377816,-0.09040794345171485,1.5409372325812711,-0.1524503640369373,-0.9211225662963648,-0.234664343283136,-0.5988387987441645,1.9640046099329038,-1.9059093534907663,-0.30501271196983526,-0.07003303235654587,0.4273691216130949,0.5344919229822604,1.3648893776046511,0.14356096686465294,2.1775369436370027,0.4948293859869428,-0.12634359535027728,0.5515697606392707,-0.7817494449281183,1.168703603757188,1.0632746888968312,0.5928503508023099,-0.48452447812260047,2.471398018677528,0.0320537702562301,-1.2132812417956753,-0.3147939787890694,0.8410529978982227,-0.5513828889586566,0.6123404127705531,-0.7787436701085488,-1.1170001747219052,-0.5855935605970888,0.007561232728142446,0.5054553025090613,-0.134028957426057,2.4810376480615144,1.9949948194179672,0.3913991206519806,-0.3872507585745515,-1.8004463541736992,1.4480733436083826,-1.735085442897729,1.791726625268079,0.22312852195532035,-0.17831185991010187,-0.1342515593153074,3.064660548554613,-0.2567088207163651,1.9759774418795923,-0.23412258600826766,-0.4692604812153284,-0.19256176835937983,-1.9612341837422296,1.6231965239335477,-0.6870279081201187,0.13469205743861082,1.2128703557234293,1.2922561840488511,0.9025536852040918,-0.5283235308581054,0.8419027821447392,-1.496797888222635,-0.49694884262671085,0.06126558484265961,-0.2895372319404262,-1.1338328750070126,-0.6649022974941925,0.33940798232820063,0.9026626694446349,1.119667959555071,0.14558202217431568,-0.8702993232331738,0.1886403378793685,0.9743523532494787,-2.2982701623404735,1.090851860680595,-1.130490055546931,-0.05470785652087121,2.831359429291828],\"xaxis\":\"x16\",\"yaxis\":\"y16\",\"type\":\"histogram\"}],                        {\"bargap\":0.02,\"legend\":{\"bgcolor\":\"#F5F6F9\",\"font\":{\"color\":\"#4D5663\"}},\"paper_bgcolor\":\"#F5F6F9\",\"plot_bgcolor\":\"#F5F6F9\",\"showlegend\":false,\"template\":{\"data\":{\"barpolar\":[{\"marker\":{\"line\":{\"color\":\"#E5ECF6\",\"width\":0.5},\"pattern\":{\"fillmode\":\"overlay\",\"size\":10,\"solidity\":0.2}},\"type\":\"barpolar\"}],\"bar\":[{\"error_x\":{\"color\":\"#2a3f5f\"},\"error_y\":{\"color\":\"#2a3f5f\"},\"marker\":{\"line\":{\"color\":\"#E5ECF6\",\"width\":0.5},\"pattern\":{\"fillmode\":\"overlay\",\"size\":10,\"solidity\":0.2}},\"type\":\"bar\"}],\"carpet\":[{\"aaxis\":{\"endlinecolor\":\"#2a3f5f\",\"gridcolor\":\"white\",\"linecolor\":\"white\",\"minorgridcolor\":\"white\",\"startlinecolor\":\"#2a3f5f\"},\"baxis\":{\"endlinecolor\":\"#2a3f5f\",\"gridcolor\":\"white\",\"linecolor\":\"white\",\"minorgridcolor\":\"white\",\"startlinecolor\":\"#2a3f5f\"},\"type\":\"carpet\"}],\"choropleth\":[{\"colorbar\":{\"outlinewidth\":0,\"ticks\":\"\"},\"type\":\"choropleth\"}],\"contourcarpet\":[{\"colorbar\":{\"outlinewidth\":0,\"ticks\":\"\"},\"type\":\"contourcarpet\"}],\"contour\":[{\"colorbar\":{\"outlinewidth\":0,\"ticks\":\"\"},\"colorscale\":[[0.0,\"#0d0887\"],[0.1111111111111111,\"#46039f\"],[0.2222222222222222,\"#7201a8\"],[0.3333333333333333,\"#9c179e\"],[0.4444444444444444,\"#bd3786\"],[0.5555555555555556,\"#d8576b\"],[0.6666666666666666,\"#ed7953\"],[0.7777777777777778,\"#fb9f3a\"],[0.8888888888888888,\"#fdca26\"],[1.0,\"#f0f921\"]],\"type\":\"contour\"}],\"heatmapgl\":[{\"colorbar\":{\"outlinewidth\":0,\"ticks\":\"\"},\"colorscale\":[[0.0,\"#0d0887\"],[0.1111111111111111,\"#46039f\"],[0.2222222222222222,\"#7201a8\"],[0.3333333333333333,\"#9c179e\"],[0.4444444444444444,\"#bd3786\"],[0.5555555555555556,\"#d8576b\"],[0.6666666666666666,\"#ed7953\"],[0.7777777777777778,\"#fb9f3a\"],[0.8888888888888888,\"#fdca26\"],[1.0,\"#f0f921\"]],\"type\":\"heatmapgl\"}],\"heatmap\":[{\"colorbar\":{\"outlinewidth\":0,\"ticks\":\"\"},\"colorscale\":[[0.0,\"#0d0887\"],[0.1111111111111111,\"#46039f\"],[0.2222222222222222,\"#7201a8\"],[0.3333333333333333,\"#9c179e\"],[0.4444444444444444,\"#bd3786\"],[0.5555555555555556,\"#d8576b\"],[0.6666666666666666,\"#ed7953\"],[0.7777777777777778,\"#fb9f3a\"],[0.8888888888888888,\"#fdca26\"],[1.0,\"#f0f921\"]],\"type\":\"heatmap\"}],\"histogram2dcontour\":[{\"colorbar\":{\"outlinewidth\":0,\"ticks\":\"\"},\"colorscale\":[[0.0,\"#0d0887\"],[0.1111111111111111,\"#46039f\"],[0.2222222222222222,\"#7201a8\"],[0.3333333333333333,\"#9c179e\"],[0.4444444444444444,\"#bd3786\"],[0.5555555555555556,\"#d8576b\"],[0.6666666666666666,\"#ed7953\"],[0.7777777777777778,\"#fb9f3a\"],[0.8888888888888888,\"#fdca26\"],[1.0,\"#f0f921\"]],\"type\":\"histogram2dcontour\"}],\"histogram2d\":[{\"colorbar\":{\"outlinewidth\":0,\"ticks\":\"\"},\"colorscale\":[[0.0,\"#0d0887\"],[0.1111111111111111,\"#46039f\"],[0.2222222222222222,\"#7201a8\"],[0.3333333333333333,\"#9c179e\"],[0.4444444444444444,\"#bd3786\"],[0.5555555555555556,\"#d8576b\"],[0.6666666666666666,\"#ed7953\"],[0.7777777777777778,\"#fb9f3a\"],[0.8888888888888888,\"#fdca26\"],[1.0,\"#f0f921\"]],\"type\":\"histogram2d\"}],\"histogram\":[{\"marker\":{\"pattern\":{\"fillmode\":\"overlay\",\"size\":10,\"solidity\":0.2}},\"type\":\"histogram\"}],\"mesh3d\":[{\"colorbar\":{\"outlinewidth\":0,\"ticks\":\"\"},\"type\":\"mesh3d\"}],\"parcoords\":[{\"line\":{\"colorbar\":{\"outlinewidth\":0,\"ticks\":\"\"}},\"type\":\"parcoords\"}],\"pie\":[{\"automargin\":true,\"type\":\"pie\"}],\"scatter3d\":[{\"line\":{\"colorbar\":{\"outlinewidth\":0,\"ticks\":\"\"}},\"marker\":{\"colorbar\":{\"outlinewidth\":0,\"ticks\":\"\"}},\"type\":\"scatter3d\"}],\"scattercarpet\":[{\"marker\":{\"colorbar\":{\"outlinewidth\":0,\"ticks\":\"\"}},\"type\":\"scattercarpet\"}],\"scattergeo\":[{\"marker\":{\"colorbar\":{\"outlinewidth\":0,\"ticks\":\"\"}},\"type\":\"scattergeo\"}],\"scattergl\":[{\"marker\":{\"colorbar\":{\"outlinewidth\":0,\"ticks\":\"\"}},\"type\":\"scattergl\"}],\"scattermapbox\":[{\"marker\":{\"colorbar\":{\"outlinewidth\":0,\"ticks\":\"\"}},\"type\":\"scattermapbox\"}],\"scatterpolargl\":[{\"marker\":{\"colorbar\":{\"outlinewidth\":0,\"ticks\":\"\"}},\"type\":\"scatterpolargl\"}],\"scatterpolar\":[{\"marker\":{\"colorbar\":{\"outlinewidth\":0,\"ticks\":\"\"}},\"type\":\"scatterpolar\"}],\"scatter\":[{\"fillpattern\":{\"fillmode\":\"overlay\",\"size\":10,\"solidity\":0.2},\"type\":\"scatter\"}],\"scatterternary\":[{\"marker\":{\"colorbar\":{\"outlinewidth\":0,\"ticks\":\"\"}},\"type\":\"scatterternary\"}],\"surface\":[{\"colorbar\":{\"outlinewidth\":0,\"ticks\":\"\"},\"colorscale\":[[0.0,\"#0d0887\"],[0.1111111111111111,\"#46039f\"],[0.2222222222222222,\"#7201a8\"],[0.3333333333333333,\"#9c179e\"],[0.4444444444444444,\"#bd3786\"],[0.5555555555555556,\"#d8576b\"],[0.6666666666666666,\"#ed7953\"],[0.7777777777777778,\"#fb9f3a\"],[0.8888888888888888,\"#fdca26\"],[1.0,\"#f0f921\"]],\"type\":\"surface\"}],\"table\":[{\"cells\":{\"fill\":{\"color\":\"#EBF0F8\"},\"line\":{\"color\":\"white\"}},\"header\":{\"fill\":{\"color\":\"#C8D4E3\"},\"line\":{\"color\":\"white\"}},\"type\":\"table\"}]},\"layout\":{\"annotationdefaults\":{\"arrowcolor\":\"#2a3f5f\",\"arrowhead\":0,\"arrowwidth\":1},\"autotypenumbers\":\"strict\",\"coloraxis\":{\"colorbar\":{\"outlinewidth\":0,\"ticks\":\"\"}},\"colorscale\":{\"diverging\":[[0,\"#8e0152\"],[0.1,\"#c51b7d\"],[0.2,\"#de77ae\"],[0.3,\"#f1b6da\"],[0.4,\"#fde0ef\"],[0.5,\"#f7f7f7\"],[0.6,\"#e6f5d0\"],[0.7,\"#b8e186\"],[0.8,\"#7fbc41\"],[0.9,\"#4d9221\"],[1,\"#276419\"]],\"sequential\":[[0.0,\"#0d0887\"],[0.1111111111111111,\"#46039f\"],[0.2222222222222222,\"#7201a8\"],[0.3333333333333333,\"#9c179e\"],[0.4444444444444444,\"#bd3786\"],[0.5555555555555556,\"#d8576b\"],[0.6666666666666666,\"#ed7953\"],[0.7777777777777778,\"#fb9f3a\"],[0.8888888888888888,\"#fdca26\"],[1.0,\"#f0f921\"]],\"sequentialminus\":[[0.0,\"#0d0887\"],[0.1111111111111111,\"#46039f\"],[0.2222222222222222,\"#7201a8\"],[0.3333333333333333,\"#9c179e\"],[0.4444444444444444,\"#bd3786\"],[0.5555555555555556,\"#d8576b\"],[0.6666666666666666,\"#ed7953\"],[0.7777777777777778,\"#fb9f3a\"],[0.8888888888888888,\"#fdca26\"],[1.0,\"#f0f921\"]]},\"colorway\":[\"#636efa\",\"#EF553B\",\"#00cc96\",\"#ab63fa\",\"#FFA15A\",\"#19d3f3\",\"#FF6692\",\"#B6E880\",\"#FF97FF\",\"#FECB52\"],\"font\":{\"color\":\"#2a3f5f\"},\"geo\":{\"bgcolor\":\"white\",\"lakecolor\":\"white\",\"landcolor\":\"#E5ECF6\",\"showlakes\":true,\"showland\":true,\"subunitcolor\":\"white\"},\"hoverlabel\":{\"align\":\"left\"},\"hovermode\":\"closest\",\"mapbox\":{\"style\":\"light\"},\"paper_bgcolor\":\"white\",\"plot_bgcolor\":\"#E5ECF6\",\"polar\":{\"angularaxis\":{\"gridcolor\":\"white\",\"linecolor\":\"white\",\"ticks\":\"\"},\"bgcolor\":\"#E5ECF6\",\"radialaxis\":{\"gridcolor\":\"white\",\"linecolor\":\"white\",\"ticks\":\"\"}},\"scene\":{\"xaxis\":{\"backgroundcolor\":\"#E5ECF6\",\"gridcolor\":\"white\",\"gridwidth\":2,\"linecolor\":\"white\",\"showbackground\":true,\"ticks\":\"\",\"zerolinecolor\":\"white\"},\"yaxis\":{\"backgroundcolor\":\"#E5ECF6\",\"gridcolor\":\"white\",\"gridwidth\":2,\"linecolor\":\"white\",\"showbackground\":true,\"ticks\":\"\",\"zerolinecolor\":\"white\"},\"zaxis\":{\"backgroundcolor\":\"#E5ECF6\",\"gridcolor\":\"white\",\"gridwidth\":2,\"linecolor\":\"white\",\"showbackground\":true,\"ticks\":\"\",\"zerolinecolor\":\"white\"}},\"shapedefaults\":{\"line\":{\"color\":\"#2a3f5f\"}},\"ternary\":{\"aaxis\":{\"gridcolor\":\"white\",\"linecolor\":\"white\",\"ticks\":\"\"},\"baxis\":{\"gridcolor\":\"white\",\"linecolor\":\"white\",\"ticks\":\"\"},\"bgcolor\":\"#E5ECF6\",\"caxis\":{\"gridcolor\":\"white\",\"linecolor\":\"white\",\"ticks\":\"\"}},\"title\":{\"x\":0.05},\"xaxis\":{\"automargin\":true,\"gridcolor\":\"white\",\"linecolor\":\"white\",\"ticks\":\"\",\"title\":{\"standoff\":15},\"zerolinecolor\":\"white\",\"zerolinewidth\":2},\"yaxis\":{\"automargin\":true,\"gridcolor\":\"white\",\"linecolor\":\"white\",\"ticks\":\"\",\"title\":{\"standoff\":15},\"zerolinecolor\":\"white\",\"zerolinewidth\":2}}},\"title\":{\"font\":{\"color\":\"#4D5663\"}},\"xaxis\":{\"anchor\":\"y\",\"domain\":[0.0,0.2125],\"gridcolor\":\"#E1E5ED\",\"showgrid\":false,\"tickfont\":{\"color\":\"#4D5663\"},\"title\":{\"font\":{\"color\":\"#4D5663\"},\"text\":\"\"},\"zerolinecolor\":\"#E1E5ED\"},\"yaxis\":{\"anchor\":\"x\",\"domain\":[0.8025,1.0],\"gridcolor\":\"#E1E5ED\",\"showgrid\":false,\"tickfont\":{\"color\":\"#4D5663\"},\"title\":{\"font\":{\"color\":\"#4D5663\"},\"text\":\"\"},\"zerolinecolor\":\"#E1E5ED\"},\"xaxis2\":{\"anchor\":\"y2\",\"domain\":[0.2625,0.475],\"gridcolor\":\"#E1E5ED\",\"showgrid\":false,\"tickfont\":{\"color\":\"#4D5663\"},\"title\":{\"font\":{\"color\":\"#4D5663\"},\"text\":\"\"},\"zerolinecolor\":\"#E1E5ED\"},\"yaxis2\":{\"anchor\":\"x2\",\"domain\":[0.8025,1.0],\"gridcolor\":\"#E1E5ED\",\"showgrid\":false,\"tickfont\":{\"color\":\"#4D5663\"},\"title\":{\"font\":{\"color\":\"#4D5663\"},\"text\":\"\"},\"zerolinecolor\":\"#E1E5ED\"},\"xaxis3\":{\"anchor\":\"y3\",\"domain\":[0.525,0.7375],\"gridcolor\":\"#E1E5ED\",\"showgrid\":false,\"tickfont\":{\"color\":\"#4D5663\"},\"title\":{\"font\":{\"color\":\"#4D5663\"},\"text\":\"\"},\"zerolinecolor\":\"#E1E5ED\"},\"yaxis3\":{\"anchor\":\"x3\",\"domain\":[0.8025,1.0],\"gridcolor\":\"#E1E5ED\",\"showgrid\":false,\"tickfont\":{\"color\":\"#4D5663\"},\"title\":{\"font\":{\"color\":\"#4D5663\"},\"text\":\"\"},\"zerolinecolor\":\"#E1E5ED\"},\"xaxis4\":{\"anchor\":\"y4\",\"domain\":[0.7875,1.0],\"gridcolor\":\"#E1E5ED\",\"showgrid\":false,\"tickfont\":{\"color\":\"#4D5663\"},\"title\":{\"font\":{\"color\":\"#4D5663\"},\"text\":\"\"},\"zerolinecolor\":\"#E1E5ED\"},\"yaxis4\":{\"anchor\":\"x4\",\"domain\":[0.8025,1.0],\"gridcolor\":\"#E1E5ED\",\"showgrid\":false,\"tickfont\":{\"color\":\"#4D5663\"},\"title\":{\"font\":{\"color\":\"#4D5663\"},\"text\":\"\"},\"zerolinecolor\":\"#E1E5ED\"},\"xaxis5\":{\"anchor\":\"y5\",\"domain\":[0.0,0.2125],\"gridcolor\":\"#E1E5ED\",\"showgrid\":false,\"tickfont\":{\"color\":\"#4D5663\"},\"title\":{\"font\":{\"color\":\"#4D5663\"},\"text\":\"\"},\"zerolinecolor\":\"#E1E5ED\"},\"yaxis5\":{\"anchor\":\"x5\",\"domain\":[0.535,0.7325],\"gridcolor\":\"#E1E5ED\",\"showgrid\":false,\"tickfont\":{\"color\":\"#4D5663\"},\"title\":{\"font\":{\"color\":\"#4D5663\"},\"text\":\"\"},\"zerolinecolor\":\"#E1E5ED\"},\"xaxis6\":{\"anchor\":\"y6\",\"domain\":[0.2625,0.475],\"gridcolor\":\"#E1E5ED\",\"showgrid\":false,\"tickfont\":{\"color\":\"#4D5663\"},\"title\":{\"font\":{\"color\":\"#4D5663\"},\"text\":\"\"},\"zerolinecolor\":\"#E1E5ED\"},\"yaxis6\":{\"anchor\":\"x6\",\"domain\":[0.535,0.7325],\"gridcolor\":\"#E1E5ED\",\"showgrid\":false,\"tickfont\":{\"color\":\"#4D5663\"},\"title\":{\"font\":{\"color\":\"#4D5663\"},\"text\":\"\"},\"zerolinecolor\":\"#E1E5ED\"},\"xaxis7\":{\"anchor\":\"y7\",\"domain\":[0.525,0.7375],\"gridcolor\":\"#E1E5ED\",\"showgrid\":false,\"tickfont\":{\"color\":\"#4D5663\"},\"title\":{\"font\":{\"color\":\"#4D5663\"},\"text\":\"\"},\"zerolinecolor\":\"#E1E5ED\"},\"yaxis7\":{\"anchor\":\"x7\",\"domain\":[0.535,0.7325],\"gridcolor\":\"#E1E5ED\",\"showgrid\":false,\"tickfont\":{\"color\":\"#4D5663\"},\"title\":{\"font\":{\"color\":\"#4D5663\"},\"text\":\"\"},\"zerolinecolor\":\"#E1E5ED\"},\"xaxis8\":{\"anchor\":\"y8\",\"domain\":[0.7875,1.0],\"gridcolor\":\"#E1E5ED\",\"showgrid\":false,\"tickfont\":{\"color\":\"#4D5663\"},\"title\":{\"font\":{\"color\":\"#4D5663\"},\"text\":\"\"},\"zerolinecolor\":\"#E1E5ED\"},\"yaxis8\":{\"anchor\":\"x8\",\"domain\":[0.535,0.7325],\"gridcolor\":\"#E1E5ED\",\"showgrid\":false,\"tickfont\":{\"color\":\"#4D5663\"},\"title\":{\"font\":{\"color\":\"#4D5663\"},\"text\":\"\"},\"zerolinecolor\":\"#E1E5ED\"},\"xaxis9\":{\"anchor\":\"y9\",\"domain\":[0.0,0.2125],\"gridcolor\":\"#E1E5ED\",\"showgrid\":false,\"tickfont\":{\"color\":\"#4D5663\"},\"title\":{\"font\":{\"color\":\"#4D5663\"},\"text\":\"\"},\"zerolinecolor\":\"#E1E5ED\"},\"yaxis9\":{\"anchor\":\"x9\",\"domain\":[0.2675,0.465],\"gridcolor\":\"#E1E5ED\",\"showgrid\":false,\"tickfont\":{\"color\":\"#4D5663\"},\"title\":{\"font\":{\"color\":\"#4D5663\"},\"text\":\"\"},\"zerolinecolor\":\"#E1E5ED\"},\"xaxis10\":{\"anchor\":\"y10\",\"domain\":[0.2625,0.475],\"gridcolor\":\"#E1E5ED\",\"showgrid\":false,\"tickfont\":{\"color\":\"#4D5663\"},\"title\":{\"font\":{\"color\":\"#4D5663\"},\"text\":\"\"},\"zerolinecolor\":\"#E1E5ED\"},\"yaxis10\":{\"anchor\":\"x10\",\"domain\":[0.2675,0.465],\"gridcolor\":\"#E1E5ED\",\"showgrid\":false,\"tickfont\":{\"color\":\"#4D5663\"},\"title\":{\"font\":{\"color\":\"#4D5663\"},\"text\":\"\"},\"zerolinecolor\":\"#E1E5ED\"},\"xaxis11\":{\"anchor\":\"y11\",\"domain\":[0.525,0.7375],\"gridcolor\":\"#E1E5ED\",\"showgrid\":false,\"tickfont\":{\"color\":\"#4D5663\"},\"title\":{\"font\":{\"color\":\"#4D5663\"},\"text\":\"\"},\"zerolinecolor\":\"#E1E5ED\"},\"yaxis11\":{\"anchor\":\"x11\",\"domain\":[0.2675,0.465],\"gridcolor\":\"#E1E5ED\",\"showgrid\":false,\"tickfont\":{\"color\":\"#4D5663\"},\"title\":{\"font\":{\"color\":\"#4D5663\"},\"text\":\"\"},\"zerolinecolor\":\"#E1E5ED\"},\"xaxis12\":{\"anchor\":\"y12\",\"domain\":[0.7875,1.0],\"gridcolor\":\"#E1E5ED\",\"showgrid\":false,\"tickfont\":{\"color\":\"#4D5663\"},\"title\":{\"font\":{\"color\":\"#4D5663\"},\"text\":\"\"},\"zerolinecolor\":\"#E1E5ED\"},\"yaxis12\":{\"anchor\":\"x12\",\"domain\":[0.2675,0.465],\"gridcolor\":\"#E1E5ED\",\"showgrid\":false,\"tickfont\":{\"color\":\"#4D5663\"},\"title\":{\"font\":{\"color\":\"#4D5663\"},\"text\":\"\"},\"zerolinecolor\":\"#E1E5ED\"},\"xaxis13\":{\"anchor\":\"y13\",\"domain\":[0.0,0.2125],\"gridcolor\":\"#E1E5ED\",\"showgrid\":false,\"tickfont\":{\"color\":\"#4D5663\"},\"title\":{\"font\":{\"color\":\"#4D5663\"},\"text\":\"\"},\"zerolinecolor\":\"#E1E5ED\"},\"yaxis13\":{\"anchor\":\"x13\",\"domain\":[0.0,0.1975],\"gridcolor\":\"#E1E5ED\",\"showgrid\":false,\"tickfont\":{\"color\":\"#4D5663\"},\"title\":{\"font\":{\"color\":\"#4D5663\"},\"text\":\"\"},\"zerolinecolor\":\"#E1E5ED\"},\"xaxis14\":{\"anchor\":\"y14\",\"domain\":[0.2625,0.475],\"gridcolor\":\"#E1E5ED\",\"showgrid\":false,\"tickfont\":{\"color\":\"#4D5663\"},\"title\":{\"font\":{\"color\":\"#4D5663\"},\"text\":\"\"},\"zerolinecolor\":\"#E1E5ED\"},\"yaxis14\":{\"anchor\":\"x14\",\"domain\":[0.0,0.1975],\"gridcolor\":\"#E1E5ED\",\"showgrid\":false,\"tickfont\":{\"color\":\"#4D5663\"},\"title\":{\"font\":{\"color\":\"#4D5663\"},\"text\":\"\"},\"zerolinecolor\":\"#E1E5ED\"},\"xaxis15\":{\"anchor\":\"y15\",\"domain\":[0.525,0.7375],\"gridcolor\":\"#E1E5ED\",\"showgrid\":false,\"tickfont\":{\"color\":\"#4D5663\"},\"title\":{\"font\":{\"color\":\"#4D5663\"},\"text\":\"\"},\"zerolinecolor\":\"#E1E5ED\"},\"yaxis15\":{\"anchor\":\"x15\",\"domain\":[0.0,0.1975],\"gridcolor\":\"#E1E5ED\",\"showgrid\":false,\"tickfont\":{\"color\":\"#4D5663\"},\"title\":{\"font\":{\"color\":\"#4D5663\"},\"text\":\"\"},\"zerolinecolor\":\"#E1E5ED\"},\"xaxis16\":{\"anchor\":\"y16\",\"domain\":[0.7875,1.0],\"gridcolor\":\"#E1E5ED\",\"showgrid\":false,\"tickfont\":{\"color\":\"#4D5663\"},\"title\":{\"font\":{\"color\":\"#4D5663\"},\"text\":\"\"},\"zerolinecolor\":\"#E1E5ED\"},\"yaxis16\":{\"anchor\":\"x16\",\"domain\":[0.0,0.1975],\"gridcolor\":\"#E1E5ED\",\"showgrid\":false,\"tickfont\":{\"color\":\"#4D5663\"},\"title\":{\"font\":{\"color\":\"#4D5663\"},\"text\":\"\"},\"zerolinecolor\":\"#E1E5ED\"}},                        {\"showLink\": true, \"linkText\": \"Export to plot.ly\", \"plotlyServerURL\": \"https://plot.ly\", \"responsive\": true}                    ).then(function(){\n",
       "                            \n",
       "var gd = document.getElementById('06f0d561-c6c1-4ce8-92fc-5e07696b0e0a');\n",
       "var x = new MutationObserver(function (mutations, observer) {{\n",
       "        var display = window.getComputedStyle(gd).display;\n",
       "        if (!display || display === 'none') {{\n",
       "            console.log([gd, 'removed!']);\n",
       "            Plotly.purge(gd);\n",
       "            observer.disconnect();\n",
       "        }}\n",
       "}});\n",
       "\n",
       "// Listen for the removal of the full notebook cells\n",
       "var notebookContainer = gd.closest('#notebook-container');\n",
       "if (notebookContainer) {{\n",
       "    x.observe(notebookContainer, {childList: true});\n",
       "}}\n",
       "\n",
       "// Listen for the clearing of the current output cell\n",
       "var outputEl = gd.closest('.output');\n",
       "if (outputEl) {{\n",
       "    x.observe(outputEl, {childList: true});\n",
       "}}\n",
       "\n",
       "                        })                };                });            </script>        </div>"
      ]
     },
     "metadata": {},
     "output_type": "display_data"
    }
   ],
   "source": [
    "df.scatter_matrix()"
   ]
  },
  {
   "cell_type": "code",
   "execution_count": null,
   "id": "9b9fe191",
   "metadata": {},
   "outputs": [],
   "source": []
  }
 ],
 "metadata": {
  "kernelspec": {
   "display_name": "Python 3 (ipykernel)",
   "language": "python",
   "name": "python3"
  },
  "language_info": {
   "codemirror_mode": {
    "name": "ipython",
    "version": 3
   },
   "file_extension": ".py",
   "mimetype": "text/x-python",
   "name": "python",
   "nbconvert_exporter": "python",
   "pygments_lexer": "ipython3",
   "version": "3.11.5"
  }
 },
 "nbformat": 4,
 "nbformat_minor": 5
}
