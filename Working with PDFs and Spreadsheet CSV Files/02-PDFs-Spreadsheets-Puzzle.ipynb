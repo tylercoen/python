{
 "cells": [
  {
   "cell_type": "markdown",
   "metadata": {},
   "source": [
    "___\n",
    "\n",
    "<a href='https://www.udemy.com/user/joseportilla/'><img src='../Pierian_Data_Logo.png'/></a>\n",
    "___\n",
    "<center><em>Content Copyright by Pierian Data</em></center>"
   ]
  },
  {
   "cell_type": "markdown",
   "metadata": {},
   "source": [
    "# PDFs and Spreadsheets Puzzle Exercise\n",
    "\n",
    "Let's test your skills, the files needed for this puzzle exercise\n",
    "\n",
    "You will need to work with two files for this exercise and solve the following tasks:\n",
    "\n",
    "* Task One: Use Python to extract the Google Drive link from the .csv file. (Hint: Its along the diagonal from top left to bottom right).\n",
    "* Task Two: Download the PDF from the Google Drive link (we already downloaded it for you just in case you can't download from Google Drive) and find the phone number that is in the document. Note: There are different ways of formatting a phone number!"
   ]
  },
  {
   "cell_type": "markdown",
   "metadata": {},
   "source": [
    "## Task One: Grab the Google Drive Link from .csv File"
   ]
  },
  {
   "cell_type": "code",
   "execution_count": 1,
   "metadata": {},
   "outputs": [
    {
     "data": {
      "text/plain": [
       "'/Users/tylercoen/Desktop/Certifications/Coding Courses/The Complete Python Bootcamp From Zero to Hero in Python/Working with PDFs and Spreadsheet CSV Files'"
      ]
     },
     "execution_count": 1,
     "metadata": {},
     "output_type": "execute_result"
    }
   ],
   "source": [
    "pwd"
   ]
  },
  {
   "cell_type": "code",
   "execution_count": 4,
   "metadata": {},
   "outputs": [],
   "source": [
    "import csv\n",
    "import os"
   ]
  },
  {
   "cell_type": "code",
   "execution_count": 5,
   "metadata": {},
   "outputs": [],
   "source": [
    "files = os.listdir()"
   ]
  },
  {
   "cell_type": "code",
   "execution_count": 6,
   "metadata": {},
   "outputs": [
    {
     "data": {
      "text/plain": [
       "['example.csv',\n",
       " 'exercise_files',\n",
       " 'Working with PDF Files with Python.ipynb',\n",
       " '02-PDFs-Spreadsheets-Puzzle.ipynb',\n",
       " 'Working with CSV Files.ipynb',\n",
       " 'Some_BrandNew_Doc.pdf',\n",
       " 'Some_new_file.pdf',\n",
       " 'Working_Business_Proposal.pdf',\n",
       " 'makeup_new.csv',\n",
       " 'to_save_file.csv',\n",
       " 'Some_New_Doc.pdf',\n",
       " '.ipynb_checkpoints']"
      ]
     },
     "execution_count": 6,
     "metadata": {},
     "output_type": "execute_result"
    }
   ],
   "source": [
    "files"
   ]
  },
  {
   "cell_type": "code",
   "execution_count": 9,
   "metadata": {},
   "outputs": [
    {
     "data": {
      "text/plain": [
       "['Find_the_Phone_Number.pdf', 'find_the_link.csv']"
      ]
     },
     "execution_count": 9,
     "metadata": {},
     "output_type": "execute_result"
    }
   ],
   "source": [
    "os.listdir('/Users/tylercoen/Desktop/Certifications/Coding Courses/The Complete Python Bootcamp From Zero to Hero in Python/Working with PDFs and Spreadsheet CSV Files/exercise_files')"
   ]
  },
  {
   "cell_type": "code",
   "execution_count": 10,
   "metadata": {},
   "outputs": [],
   "source": [
    "excel_doc = open('/Users/tylercoen/Desktop/Certifications/Coding Courses/The Complete Python Bootcamp From Zero to Hero in Python/Working with PDFs and Spreadsheet CSV Files/exercise_files/find_the_link.csv')"
   ]
  },
  {
   "cell_type": "code",
   "execution_count": 12,
   "metadata": {},
   "outputs": [],
   "source": [
    "csv_data = csv.reader(excel_doc)"
   ]
  },
  {
   "cell_type": "code",
   "execution_count": 13,
   "metadata": {},
   "outputs": [],
   "source": [
    "data_lines = list(csv_data)"
   ]
  },
  {
   "cell_type": "code",
   "execution_count": 36,
   "metadata": {},
   "outputs": [
    {
     "data": {
      "text/plain": [
       "['h',\n",
       " '53',\n",
       " '24',\n",
       " '46',\n",
       " '4',\n",
       " '11',\n",
       " '3',\n",
       " '35',\n",
       " '17',\n",
       " '52',\n",
       " '9',\n",
       " '60',\n",
       " '26',\n",
       " '60',\n",
       " '72',\n",
       " '39',\n",
       " '11',\n",
       " '80',\n",
       " '86',\n",
       " '66',\n",
       " '59',\n",
       " '9',\n",
       " '41',\n",
       " '33',\n",
       " '11',\n",
       " '42',\n",
       " '69',\n",
       " '74',\n",
       " '91',\n",
       " '61',\n",
       " '5',\n",
       " '69',\n",
       " '17',\n",
       " '17',\n",
       " '78',\n",
       " '6',\n",
       " '51',\n",
       " '54',\n",
       " '54',\n",
       " '94',\n",
       " '47',\n",
       " '37',\n",
       " '0',\n",
       " '16',\n",
       " '71',\n",
       " '6',\n",
       " '83',\n",
       " '7',\n",
       " '6',\n",
       " '38',\n",
       " '61',\n",
       " '18',\n",
       " '68',\n",
       " '15',\n",
       " '2',\n",
       " '81',\n",
       " '49',\n",
       " '5',\n",
       " '17',\n",
       " '21',\n",
       " '36',\n",
       " '63',\n",
       " '38',\n",
       " '24',\n",
       " '3',\n",
       " '99']"
      ]
     },
     "execution_count": 36,
     "metadata": {},
     "output_type": "execute_result"
    }
   ],
   "source": [
    "data_lines[0]"
   ]
  },
  {
   "cell_type": "code",
   "execution_count": 31,
   "metadata": {},
   "outputs": [
    {
     "data": {
      "text/plain": [
       "'h'"
      ]
     },
     "execution_count": 31,
     "metadata": {},
     "output_type": "execute_result"
    }
   ],
   "source": [
    "data_lines[0][0]"
   ]
  },
  {
   "cell_type": "code",
   "execution_count": 30,
   "metadata": {},
   "outputs": [
    {
     "data": {
      "text/plain": [
       "['85',\n",
       " 't',\n",
       " '31',\n",
       " '54',\n",
       " '60',\n",
       " '22',\n",
       " '77',\n",
       " '39',\n",
       " '93',\n",
       " '38',\n",
       " '31',\n",
       " '16',\n",
       " '29',\n",
       " '27',\n",
       " '8',\n",
       " '35',\n",
       " '0',\n",
       " '54',\n",
       " '84',\n",
       " '21',\n",
       " '47',\n",
       " '37',\n",
       " '66',\n",
       " '83',\n",
       " '26',\n",
       " '22',\n",
       " '68',\n",
       " '25',\n",
       " '44',\n",
       " '81',\n",
       " '27',\n",
       " '68',\n",
       " '17',\n",
       " '63',\n",
       " '13',\n",
       " '99',\n",
       " '38',\n",
       " '43',\n",
       " '87',\n",
       " '83',\n",
       " '73',\n",
       " '88',\n",
       " '67',\n",
       " '5',\n",
       " '12',\n",
       " '10',\n",
       " '7',\n",
       " '58',\n",
       " '64',\n",
       " '56',\n",
       " '53',\n",
       " '88',\n",
       " '96',\n",
       " '20',\n",
       " '7',\n",
       " '85',\n",
       " '94',\n",
       " '23',\n",
       " '14',\n",
       " '79',\n",
       " '24',\n",
       " '27',\n",
       " '90',\n",
       " '40',\n",
       " '27',\n",
       " '8']"
      ]
     },
     "execution_count": 30,
     "metadata": {},
     "output_type": "execute_result"
    }
   ],
   "source": [
    "data_lines[1]"
   ]
  },
  {
   "cell_type": "code",
   "execution_count": 41,
   "metadata": {},
   "outputs": [
    {
     "name": "stdout",
     "output_type": "stream",
     "text": [
      "h\n",
      "________________NEXT LINE_______________________\n",
      "t\n",
      "________________NEXT LINE_______________________\n",
      "t\n",
      "________________NEXT LINE_______________________\n",
      "p\n",
      "________________NEXT LINE_______________________\n",
      "s\n",
      "________________NEXT LINE_______________________\n",
      ":\n",
      "________________NEXT LINE_______________________\n",
      "/\n",
      "________________NEXT LINE_______________________\n",
      "/\n",
      "________________NEXT LINE_______________________\n",
      "d\n",
      "________________NEXT LINE_______________________\n",
      "r\n",
      "________________NEXT LINE_______________________\n",
      "i\n",
      "________________NEXT LINE_______________________\n",
      "v\n",
      "________________NEXT LINE_______________________\n",
      "e\n",
      "________________NEXT LINE_______________________\n",
      ".\n",
      "________________NEXT LINE_______________________\n",
      "g\n",
      "________________NEXT LINE_______________________\n",
      "o\n",
      "________________NEXT LINE_______________________\n",
      "o\n",
      "________________NEXT LINE_______________________\n",
      "g\n",
      "________________NEXT LINE_______________________\n",
      "l\n",
      "________________NEXT LINE_______________________\n",
      "e\n",
      "________________NEXT LINE_______________________\n",
      ".\n",
      "________________NEXT LINE_______________________\n",
      "c\n",
      "________________NEXT LINE_______________________\n",
      "o\n",
      "________________NEXT LINE_______________________\n",
      "m\n",
      "________________NEXT LINE_______________________\n",
      "/\n",
      "________________NEXT LINE_______________________\n",
      "o\n",
      "________________NEXT LINE_______________________\n",
      "p\n",
      "________________NEXT LINE_______________________\n",
      "e\n",
      "________________NEXT LINE_______________________\n",
      "n\n",
      "________________NEXT LINE_______________________\n",
      "?\n",
      "________________NEXT LINE_______________________\n",
      "i\n",
      "________________NEXT LINE_______________________\n",
      "d\n",
      "________________NEXT LINE_______________________\n",
      "=\n",
      "________________NEXT LINE_______________________\n",
      "1\n",
      "________________NEXT LINE_______________________\n",
      "G\n",
      "________________NEXT LINE_______________________\n",
      "6\n",
      "________________NEXT LINE_______________________\n",
      "S\n",
      "________________NEXT LINE_______________________\n",
      "E\n",
      "________________NEXT LINE_______________________\n",
      "g\n",
      "________________NEXT LINE_______________________\n",
      "g\n",
      "________________NEXT LINE_______________________\n",
      "0\n",
      "________________NEXT LINE_______________________\n",
      "1\n",
      "________________NEXT LINE_______________________\n",
      "8\n",
      "________________NEXT LINE_______________________\n",
      "U\n",
      "________________NEXT LINE_______________________\n",
      "B\n",
      "________________NEXT LINE_______________________\n",
      "4\n",
      "________________NEXT LINE_______________________\n",
      "_\n",
      "________________NEXT LINE_______________________\n",
      "4\n",
      "________________NEXT LINE_______________________\n",
      "x\n",
      "________________NEXT LINE_______________________\n",
      "s\n",
      "________________NEXT LINE_______________________\n",
      "A\n",
      "________________NEXT LINE_______________________\n",
      "J\n",
      "________________NEXT LINE_______________________\n",
      "J\n",
      "________________NEXT LINE_______________________\n",
      "5\n",
      "________________NEXT LINE_______________________\n",
      "T\n",
      "________________NEXT LINE_______________________\n",
      "d\n",
      "________________NEXT LINE_______________________\n",
      "z\n",
      "________________NEXT LINE_______________________\n",
      "r\n",
      "________________NEXT LINE_______________________\n",
      "h\n",
      "________________NEXT LINE_______________________\n",
      "m\n",
      "________________NEXT LINE_______________________\n",
      "X\n",
      "________________NEXT LINE_______________________\n",
      "i\n",
      "________________NEXT LINE_______________________\n",
      "p\n",
      "________________NEXT LINE_______________________\n",
      "r\n",
      "________________NEXT LINE_______________________\n",
      "4\n",
      "________________NEXT LINE_______________________\n",
      "Q\n",
      "________________NEXT LINE_______________________\n"
     ]
    }
   ],
   "source": [
    "letter_index = 0\n",
    "link = ''\n",
    "for line in data_lines:\n",
    "    print(line[letter_index])\n",
    "    link += line[letter_index]\n",
    "    letter_index += 1\n",
    "    print(\"________________NEXT LINE_______________________\")"
   ]
  },
  {
   "cell_type": "code",
   "execution_count": 42,
   "metadata": {},
   "outputs": [
    {
     "data": {
      "text/plain": [
       "'https://drive.google.com/open?id=1G6SEgg018UB4_4xsAJJ5TdzrhmXipr4Q'"
      ]
     },
     "execution_count": 42,
     "metadata": {},
     "output_type": "execute_result"
    }
   ],
   "source": [
    "link"
   ]
  },
  {
   "cell_type": "code",
   "execution_count": null,
   "metadata": {},
   "outputs": [],
   "source": []
  },
  {
   "cell_type": "code",
   "execution_count": null,
   "metadata": {},
   "outputs": [],
   "source": []
  },
  {
   "cell_type": "code",
   "execution_count": null,
   "metadata": {},
   "outputs": [],
   "source": []
  },
  {
   "cell_type": "code",
   "execution_count": null,
   "metadata": {},
   "outputs": [],
   "source": []
  },
  {
   "cell_type": "code",
   "execution_count": null,
   "metadata": {},
   "outputs": [],
   "source": []
  },
  {
   "cell_type": "code",
   "execution_count": null,
   "metadata": {},
   "outputs": [],
   "source": []
  },
  {
   "cell_type": "code",
   "execution_count": null,
   "metadata": {},
   "outputs": [],
   "source": []
  },
  {
   "cell_type": "code",
   "execution_count": null,
   "metadata": {},
   "outputs": [],
   "source": []
  },
  {
   "cell_type": "code",
   "execution_count": null,
   "metadata": {},
   "outputs": [],
   "source": []
  },
  {
   "cell_type": "code",
   "execution_count": 14,
   "metadata": {},
   "outputs": [
    {
     "data": {
      "text/plain": [
       "'https://drive.google.com/open?id=1G6SEgg018UB4_4xsAJJ5TdzrhmXipr4Q'"
      ]
     },
     "execution_count": 14,
     "metadata": {},
     "output_type": "execute_result"
    }
   ],
   "source": [
    "# THe correct result is shown below, if you can't download from Google Drive, \n",
    "# we added the PDF file to the Exercise_Files folder already"
   ]
  },
  {
   "cell_type": "markdown",
   "metadata": {},
   "source": [
    "## Task Two: Download the PDF from the Google Drive link and find the phone number that is in the document. "
   ]
  },
  {
   "cell_type": "code",
   "execution_count": 43,
   "metadata": {},
   "outputs": [],
   "source": [
    "import PyPDF2"
   ]
  },
  {
   "cell_type": "code",
   "execution_count": 51,
   "metadata": {},
   "outputs": [],
   "source": [
    "base_link = '/Users/tylercoen/Desktop/Certifications/Coding Courses/The Complete Python Bootcamp From Zero to Hero in Python/Working with PDFs and Spreadsheet CSV Files/exercise_files/'"
   ]
  },
  {
   "cell_type": "code",
   "execution_count": 52,
   "metadata": {},
   "outputs": [],
   "source": [
    "f = open(base_link+'Find_the_Phone_Number.pdf','rb')"
   ]
  },
  {
   "cell_type": "code",
   "execution_count": 54,
   "metadata": {},
   "outputs": [],
   "source": [
    "pdf_reader = PyPDF2.PdfReader(f)"
   ]
  },
  {
   "cell_type": "code",
   "execution_count": 55,
   "metadata": {},
   "outputs": [
    {
     "data": {
      "text/plain": [
       "17"
      ]
     },
     "execution_count": 55,
     "metadata": {},
     "output_type": "execute_result"
    }
   ],
   "source": [
    "len(pdf_reader.pages)"
   ]
  },
  {
   "cell_type": "code",
   "execution_count": 61,
   "metadata": {},
   "outputs": [],
   "source": [
    "page_one = pdf_reader.pages[1]"
   ]
  },
  {
   "cell_type": "code",
   "execution_count": 59,
   "metadata": {},
   "outputs": [],
   "source": [
    "page_one_text = page_one.extract_text()"
   ]
  },
  {
   "cell_type": "code",
   "execution_count": 62,
   "metadata": {},
   "outputs": [],
   "source": [
    "import re"
   ]
  },
  {
   "cell_type": "code",
   "execution_count": null,
   "metadata": {},
   "outputs": [],
   "source": []
  },
  {
   "cell_type": "code",
   "execution_count": null,
   "metadata": {},
   "outputs": [],
   "source": []
  },
  {
   "cell_type": "code",
   "execution_count": null,
   "metadata": {},
   "outputs": [],
   "source": []
  },
  {
   "cell_type": "code",
   "execution_count": 85,
   "metadata": {},
   "outputs": [
    {
     "data": {
      "text/plain": [
       "8"
      ]
     },
     "execution_count": 85,
     "metadata": {},
     "output_type": "execute_result"
    }
   ],
   "source": [
    "page_one_text\n",
    "len(re.search('Pushback',page_one_text).group())"
   ]
  },
  {
   "cell_type": "code",
   "execution_count": 87,
   "metadata": {},
   "outputs": [],
   "source": [
    "#reg = re.compile(\".*?(\\(?\\d{3}\\D{0,3}\\d{3}\\D{0,3}\\d{4}).*?\")\n",
    "full_doc = ''\n",
    "for num in range(len(pdf_reader.pages)):\n",
    "    page = pdf_reader.pages[num]\n",
    "    page_text = page.extract_text()\n",
    "    full_doc += page_text\n",
    "    "
   ]
  },
  {
   "cell_type": "code",
   "execution_count": 90,
   "metadata": {},
   "outputs": [
    {
     "data": {
      "text/plain": [
       "<re.Match object; span=(42889, 42917), match='phone number is 505.503.4455'>"
      ]
     },
     "execution_count": 90,
     "metadata": {},
     "output_type": "execute_result"
    }
   ],
   "source": [
    "re.search(r\".*?(\\(?\\d{3}\\D{0,3}\\d{3}\\D{0,3}\\d{4}).*?\",full_doc)"
   ]
  },
  {
   "cell_type": "code",
   "execution_count": 91,
   "metadata": {},
   "outputs": [],
   "source": [
    "phone_number = re.search(r\".*?(\\(?\\d{3}\\D{0,3}\\d{3}\\D{0,3}\\d{4}).*?\",full_doc).group()"
   ]
  },
  {
   "cell_type": "code",
   "execution_count": 92,
   "metadata": {},
   "outputs": [
    {
     "data": {
      "text/plain": [
       "'phone number is 505.503.4455'"
      ]
     },
     "execution_count": 92,
     "metadata": {},
     "output_type": "execute_result"
    }
   ],
   "source": [
    "phone_number"
   ]
  },
  {
   "cell_type": "code",
   "execution_count": null,
   "metadata": {},
   "outputs": [],
   "source": []
  },
  {
   "cell_type": "code",
   "execution_count": 1,
   "metadata": {
    "collapsed": true
   },
   "outputs": [],
   "source": [
    "# You should get this phone number\n",
    "# 505 503 4455"
   ]
  }
 ],
 "metadata": {
  "anaconda-cloud": {},
  "kernelspec": {
   "display_name": "Python 3 (ipykernel)",
   "language": "python",
   "name": "python3"
  },
  "language_info": {
   "codemirror_mode": {
    "name": "ipython",
    "version": 3
   },
   "file_extension": ".py",
   "mimetype": "text/x-python",
   "name": "python",
   "nbconvert_exporter": "python",
   "pygments_lexer": "ipython3",
   "version": "3.11.4"
  }
 },
 "nbformat": 4,
 "nbformat_minor": 2
}
