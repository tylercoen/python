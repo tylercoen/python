{
 "cells": [
  {
   "cell_type": "markdown",
   "id": "d155c497",
   "metadata": {},
   "source": [
    "def name_of_function():\n",
    "\n",
    "Notice the use of snake casing. Snake casing is all lowercase with underscores between words."
   ]
  },
  {
   "cell_type": "markdown",
   "id": "e90e5d72",
   "metadata": {},
   "source": [
    "'''\n",
    "Docstring explains the function. \n",
    "Optional: Multi-line string to describe the function\n",
    "'''"
   ]
  },
  {
   "cell_type": "code",
   "execution_count": 2,
   "id": "283597f9",
   "metadata": {},
   "outputs": [
    {
     "data": {
      "text/plain": [
       "\"'Does this work?'\""
      ]
     },
     "execution_count": 2,
     "metadata": {},
     "output_type": "execute_result"
    }
   ],
   "source": [
    "\"'Does this work?'\""
   ]
  },
  {
   "cell_type": "code",
   "execution_count": 5,
   "id": "1d061516",
   "metadata": {},
   "outputs": [],
   "source": [
    "def name_of_function(name):\n",
    "    print('Hello ' + name)"
   ]
  },
  {
   "cell_type": "code",
   "execution_count": 6,
   "id": "bea8bb27",
   "metadata": {},
   "outputs": [
    {
     "name": "stdout",
     "output_type": "stream",
     "text": [
      "Hello Heineke\n"
     ]
    }
   ],
   "source": [
    "name_of_function(\"Heineke\")"
   ]
  },
  {
   "cell_type": "code",
   "execution_count": 7,
   "id": "a335b871",
   "metadata": {},
   "outputs": [],
   "source": [
    "def add_function(num1,num2):\n",
    "    return num1+num2"
   ]
  },
  {
   "cell_type": "code",
   "execution_count": 8,
   "id": "42e3f86c",
   "metadata": {},
   "outputs": [],
   "source": [
    "result=add_function(1,2)"
   ]
  },
  {
   "cell_type": "code",
   "execution_count": 9,
   "id": "8dbc86d7",
   "metadata": {},
   "outputs": [
    {
     "name": "stdout",
     "output_type": "stream",
     "text": [
      "3\n"
     ]
    }
   ],
   "source": [
    "print(result)"
   ]
  },
  {
   "cell_type": "code",
   "execution_count": null,
   "id": "f8729cff",
   "metadata": {},
   "outputs": [],
   "source": []
  }
 ],
 "metadata": {
  "kernelspec": {
   "display_name": "Python 3 (ipykernel)",
   "language": "python",
   "name": "python3"
  },
  "language_info": {
   "codemirror_mode": {
    "name": "ipython",
    "version": 3
   },
   "file_extension": ".py",
   "mimetype": "text/x-python",
   "name": "python",
   "nbconvert_exporter": "python",
   "pygments_lexer": "ipython3",
   "version": "3.11.4"
  }
 },
 "nbformat": 4,
 "nbformat_minor": 5
}
